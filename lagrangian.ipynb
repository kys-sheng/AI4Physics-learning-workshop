{
 "cells": [
  {
   "cell_type": "markdown",
   "id": "f5fd0dff",
   "metadata": {},
   "source": [
    "<h1> How to do NLP-like research in physics\n"
   ]
  },
  {
   "cell_type": "markdown",
   "id": "0fd4f162",
   "metadata": {},
   "source": [
    "This notebook provides a step-by-step demonstration/tutorial based on the Lagrangian paper."
   ]
  },
  {
   "cell_type": "markdown",
   "id": "de426158",
   "metadata": {},
   "source": [
    "# Acknowledge SUPR"
   ]
  },
  {
   "cell_type": "markdown",
   "id": "ff8c5347",
   "metadata": {},
   "source": [
    "The computations and data handling were enabled by resources provided by the National Academic Infrastructure for Supercomputing in Sweden (NAISS) from projects ????, partially funded by the Swedish Research Council through grant agreement no. 2022-06725"
   ]
  },
  {
   "cell_type": "markdown",
   "id": "80134715",
   "metadata": {},
   "source": [
    "# Libraries"
   ]
  },
  {
   "cell_type": "code",
   "execution_count": null,
   "id": "cf0dcc05",
   "metadata": {},
   "outputs": [
    {
     "name": "stderr",
     "output_type": "stream",
     "text": [
      "2025-04-09 11:22:51.242918: I tensorflow/tsl/cuda/cudart_stub.cc:28] Could not find cuda drivers on your machine, GPU will not be used.\n",
      "2025-04-09 11:22:51.285930: I tensorflow/core/platform/cpu_feature_guard.cc:182] This TensorFlow binary is optimized to use available CPU instructions in performance-critical operations.\n",
      "To enable the following instructions: AVX2 FMA, in other operations, rebuild TensorFlow with the appropriate compiler flags.\n",
      "2025-04-09 11:22:52.253318: W tensorflow/compiler/tf2tensorrt/utils/py_utils.cc:38] TF-TRT Warning: Could not find TensorRT\n"
     ]
    },
    {
     "name": "stdout",
     "output_type": "stream",
     "text": [
      "Checking Tokens Format\n",
      "particle_id_token          :  ['ID1']\n",
      "derivative_id_token        :  ['ID1']\n",
      "gamma_id_token             :  ['ID1']\n",
      "sigma_id_token(1)          :  ['ID1']\n",
      "spin_token(0)              :  ['SPIN', '0']\n",
      "spin_token(1)              :  ['SPIN', '1']\n",
      "spin_token(Fraction(1,2))  :  ['SPIN', '1/2']\n",
      "helicity_token(1)          :  ['HEL', '1/2']\n",
      "helicity_token(-1)         :  ['HEL', '-1/2']\n",
      "group_tokens(1)            :  ['U1']\n",
      "group_tokens(1,test)            :  ['U1', '_{test}']\n",
      "group_tokens(2)            :  ['SU2']\n",
      "group_tokens(2,test)            :  ['SU2', '_{test}']\n",
      "group_tokens(3)            :  ['SU3']\n",
      "group_tokens(3,test)            :  ['SU3', '_{test}']\n",
      "Tokens Format OK\n"
     ]
    }
   ],
   "source": [
    "import numpy as np\n",
    "import random\n",
    "import pandas as pd\n",
    "import matplotlib.pyplot as plt\n",
    "import random \n"
   ]
  },
  {
   "cell_type": "markdown",
   "id": "0c97b3db",
   "metadata": {},
   "source": []
  },
  {
   "cell_type": "markdown",
   "id": "3e8d166d",
   "metadata": {},
   "source": [
    "# Models\n",
    "- Overview of HuggingFace library.\n",
    "- How to find off-the-shelf transformer models (e.g., BART-L).\n",
    "- Example usage of a HuggingFace model."
   ]
  },
  {
   "cell_type": "markdown",
   "id": "dc70969d",
   "metadata": {},
   "source": [
    "## HuggingFace Library"
   ]
  },
  {
   "cell_type": "code",
   "execution_count": 2,
   "id": "5e00d5fa",
   "metadata": {},
   "outputs": [],
   "source": [
    "# # Import HuggingFace libraries\n",
    "# from transformers import AutoModelForSeq2SeqLM, AutoTokenizer\n",
    "\n",
    "# # Load a pre-trained model and tokenizer (e.g., BART-small)\n",
    "# # Note: You can change the model name to any other Seq2Seq model available on HuggingFace\n",
    "# # Model name can be changed to any other Seq2Seq model available on HuggingFace\n",
    "# # For example: 'facebook/bart-base', 't5-small', etc.\n",
    "\n",
    "# # 'facebook/bart-base' : BART model with 140M parameters\n",
    "# # 'facebook/bart-large' : BART model with 406M parameters\n",
    "# # 't5-small' : T5 model with 60M parameters\n",
    "\n",
    "# model_name = 'facebook/bart-base'\n",
    "# model = AutoModelForSeq2SeqLM.from_pretrained(model_name)\n",
    "# tokenizer = AutoTokenizer.from_pretrained(model_name)\n",
    "\n",
    "# # Example usage\n",
    "# text = \"This is a sample input.\"\n",
    "# inputs = tokenizer(text, return_tensors=\"pt\")\n",
    "# outputs = model.generate(**inputs)\n",
    "# print(tokenizer.decode(outputs[0], skip_special_tokens=True))"
   ]
  },
  {
   "cell_type": "markdown",
   "id": "59e4dc9c",
   "metadata": {},
   "source": [
    "# Dataset\n",
    "- Discussion on data generation considerations:\n",
    "  - Data distribution.\n",
    "  - Tokenization choices.\n",
    "- Example of tokenizing a dataset."
   ]
  },
  {
   "cell_type": "markdown",
   "id": "df94ac54",
   "metadata": {},
   "source": [
    "## Data Distribution\n"
   ]
  },
  {
   "cell_type": "markdown",
   "id": "5e8b6462",
   "metadata": {},
   "source": [
    "Show plots from paper:\n",
    "- one from random ->  more equal better at long expression\n",
    "- one from smart  ->  more biased (cover edge terms) better at special cases"
   ]
  },
  {
   "cell_type": "code",
   "execution_count": null,
   "id": "c9f9caa0",
   "metadata": {},
   "outputs": [],
   "source": [
    "sampled_df = pd.read_csv(\"huggingface_dataset_sampled.csv\")\n"
   ]
  },
  {
   "cell_type": "code",
   "execution_count": 5,
   "id": "4e7c712a",
   "metadata": {},
   "outputs": [],
   "source": [
    "sampled_df[\"nfields\"] = sampled_df[\"fields\"].apply(lambda x: x.count(\"FIELD\"))\n",
    "sampled_df[\"nfermions\"] = sampled_df[\"fields\"].apply(lambda x: x.count(\"SPIN 1\"))\n",
    "sampled_df[\"nscalars\"] = sampled_df[\"fields\"].apply(lambda x: x.count(\"SPIN 0\"))"
   ]
  },
  {
   "cell_type": "code",
   "execution_count": null,
   "id": "f67485a6",
   "metadata": {},
   "outputs": [
    {
     "data": {
      "text/plain": [
       "<matplotlib.legend.Legend at 0x7fc5c3f08e50>"
      ]
     },
     "execution_count": 6,
     "metadata": {},
     "output_type": "execute_result"
    },
    {
     "data": {
      "image/png": "[encoded data removed]",
      "text/plain": [
       "<Figure size 640x480 with 1 Axes>"
      ]
     },
     "metadata": {},
     "output_type": "display_data"
    }
   ],
   "source": [
    "sampled_df[\"nscalars\"].hist(  range=(0-0.5,7-0.5),bins=7,alpha=0.5,label=\"nscalars\") \n",
    "sampled_df[\"nfermions\"].hist( range=(0-0.5,7-0.5),bins=7,alpha=0.5,label=\"nfermions\") \n",
    "sampled_df[\"nfields\"].hist(   range=(0-0.5,7-0.5),bins=7,alpha=0.5,label=\"nfields\") \n",
    "plt.legend()"
   ]
  },
  {
   "cell_type": "markdown",
   "id": "3032383a",
   "metadata": {},
   "source": [
    "## Tokenization choices\n",
    "Considerations: \n",
    "- What information is required for your model to learn?\n",
    "- Do you care about expressivity? \n",
    "\n",
    "Practical \n",
    "- How much information?\n",
    "- Vocabulary Size?"
   ]
  },
  {
   "cell_type": "markdown",
   "id": "36e1250b",
   "metadata": {},
   "source": [
    "### Choices of Tokenization"
   ]
  },
  {
   "cell_type": "markdown",
   "id": "c0833bf0",
   "metadata": {},
   "source": [
    "In Language:\n",
    "Example Phrase : AI For Physics\n",
    "- Word-Level : AI, For, Physics\n",
    "- Character-Level : A, I,  , F, o, r,  , P, h, y, s, i, c, s\n",
    "\n",
    "In Math:\n",
    "Example Expression : 100 + 420 = 520\n",
    "- \"Term\"-level : 100, +, 420, =, 520\n",
    "- \"Digit\"-Level : 1, 0, 0,  +,  4, 2, 0, =,  5, 2, 0\n",
    "\n",
    "In Lagrangians:\n",
    "Example Field : Higgs Particle\n",
    "- Symbol Level : H\n",
    "- Quantum-Numbers-Level: FIELD, SPIN, 0, SU2, 2, U1, 1\n",
    "\n"
   ]
  },
  {
   "cell_type": "markdown",
   "id": "fddda171",
   "metadata": {},
   "source": [
    "Remark: \n",
    "1. Detailed tokenization : \n",
    "- less vocabulary\n",
    "- more expressive\n",
    "- more token per sequence\n",
    "- heavy on attention mechanism\n",
    "2. Coarse tokenization : \n",
    "- more vocabulary\n",
    "- less expressive\n",
    "- less token per sequence\n",
    "- easier on attention mechanism"
   ]
  },
  {
   "cell_type": "markdown",
   "id": "cb88417b",
   "metadata": {},
   "source": [
    "### Example : Math "
   ]
  },
  {
   "cell_type": "code",
   "execution_count": null,
   "id": "4674bd6d",
   "metadata": {},
   "outputs": [],
   "source": [
    "from tokenizers import Tokenizer\n",
    "from tokenizers.models import WordLevel\n",
    "from tokenizers.trainers import WordLevelTrainer\n",
    "from tokenizers.pre_tokenizers import Whitespace\n",
    "\n",
    "# Character-level \n",
    "# 1. Generate arithmetic corpus\n",
    "char_level_corpus = [\" \".join(list(f\"{a}+{b}={str(a + b)}\")) for a in range(100) for b in range(100)]\n",
    "vocab = {\"1\" : 1, \"2\" : 2, \"3\" : 3, \"4\" : 4, \"5\" : 5, \"6\" : 6, \"7\" : 7, \"8\" : 8, \"9\" : 9,\n",
    "         \"0\" : 0, \"+\" : 10, \"=\" : 11,\"[UNK]\" : 12, \"[PAD]\" : 13, \"[BOS]\" : 14, \"[EOS]\" : 15}\n",
    "# 2. Initialize tokenizer components\n",
    "char_level_tokenizer = Tokenizer(WordLevel(vocab=vocab, unk_token=\"[UNK]\"))\n",
    "char_level_tokenizer.pre_tokenizer = Whitespace()\n",
    "\n",
    "\n",
    "# Word-level \n",
    "word_level_corpus = [f\"{a} + {b} = {str(a + b)}\" for a in range(100) for b in range(100)]\n",
    "word_level_tokenizer = Tokenizer(WordLevel(unk_token=\"[UNK]\"))\n",
    "word_level_tokenizer.pre_tokenizer = Whitespace()\n",
    "special_tokens = [\"[PAD]\", \"[UNK]\", \"[BOS]\", \"[EOS]\"]\n",
    "trainer = WordLevelTrainer(special_tokens=special_tokens)\n",
    "word_level_tokenizer.train_from_iterator(word_level_corpus, trainer)\n",
    "\n"
   ]
  },
  {
   "cell_type": "markdown",
   "id": "0c7084ce",
   "metadata": {},
   "source": [
    "lets see it in action"
   ]
  },
  {
   "cell_type": "code",
   "execution_count": 8,
   "id": "e6c3bcf1",
   "metadata": {},
   "outputs": [
    {
     "name": "stdout",
     "output_type": "stream",
     "text": [
      "char_level_example :  2 7 + 2 8 = 5 5\n",
      "char_level_tokens  :  ['2', '7', '+', '2', '8', '=', '5', '5']\n",
      "\n",
      "word_level_example :  27 + 99 = 126\n",
      "word_level_tokens  :  ['27', '+', '99', '=', '126']\n",
      "\n"
     ]
    }
   ],
   "source": [
    "char_level_example = random.choice(char_level_corpus)\n",
    "print(\"char_level_example : \",char_level_example)\n",
    "print(\"char_level_tokens  : \",char_level_tokenizer.encode(char_level_example).tokens,end=\"\\n\\n\")\n",
    "\n",
    "word_level_example = random.choice(word_level_corpus)\n",
    "print(\"word_level_example : \",word_level_example)\n",
    "print(\"word_level_tokens  : \",word_level_tokenizer.encode(word_level_example).tokens,end=\"\\n\\n\")"
   ]
  },
  {
   "cell_type": "markdown",
   "id": "d3e0e18c",
   "metadata": {},
   "source": [
    "Lets check vocab size"
   ]
  },
  {
   "cell_type": "code",
   "execution_count": 9,
   "id": "7a761b6f",
   "metadata": {},
   "outputs": [
    {
     "name": "stdout",
     "output_type": "stream",
     "text": [
      "char_level_vocab_size:  16\n",
      "word_level_vocab_size:  205\n"
     ]
    }
   ],
   "source": [
    "print(\"char_level_vocab_size: \",char_level_tokenizer.get_vocab_size())\n",
    "print(\"word_level_vocab_size: \",word_level_tokenizer.get_vocab_size())"
   ]
  },
  {
   "cell_type": "markdown",
   "id": "f89e264e",
   "metadata": {},
   "source": [
    "Try encoding 10000"
   ]
  },
  {
   "cell_type": "code",
   "execution_count": 10,
   "id": "6f466c02",
   "metadata": {},
   "outputs": [
    {
     "name": "stdout",
     "output_type": "stream",
     "text": [
      "char_level_tokens  :  ['1', '0', '0', '0', '0']\n",
      "\n",
      "word_level_tokens  :  ['[UNK]']\n",
      "\n",
      "word_level_tokens  :  ['10', '0', '0', '0']\n",
      "\n"
     ]
    }
   ],
   "source": [
    "OOD_char_level_example =   \"1 0 0 0 0\"\n",
    "print(\"char_level_tokens  : \",char_level_tokenizer.encode(OOD_char_level_example).tokens,end=\"\\n\\n\")\n",
    "\n",
    "OOD_word_level_example =   \"10000\"\n",
    "print(\"word_level_tokens  : \",word_level_tokenizer.encode(OOD_word_level_example).tokens,end=\"\\n\\n\")\n",
    "\n",
    "# Something like this is possible but not intuitive (words and number are slightly different)\n",
    "OOD_word_level_example =   \"10 0 0 0\"\n",
    "print(\"word_level_tokens  : \",word_level_tokenizer.encode(OOD_word_level_example).tokens,end=\"\\n\\n\")"
   ]
  },
  {
   "cell_type": "markdown",
   "id": "aad87274",
   "metadata": {},
   "source": [
    "### Example : Fields "
   ]
  },
  {
   "cell_type": "code",
   "execution_count": 11,
   "id": "3f1e9889",
   "metadata": {},
   "outputs": [
    {
     "name": "stdout",
     "output_type": "stream",
     "text": [
      "Input    =  FIELD SPIN 1/2 SU3 3 U1 - 2 / 7 HEL -1/2\n",
      "token_id =  [22, 36, 5, 4, 6, 38, 10, 39, 7, 6, 4, 14, 23, 7, 5, 4, 6]\n",
      "decoded  =  FIELD SPIN 1 / 2 SU3 3 U1 - 2 / 7 HEL - 1 / 2\n"
     ]
    }
   ],
   "source": [
    "from transformers import  PreTrainedTokenizerFast\n",
    "\n",
    "hf_tokenizer = PreTrainedTokenizerFast.from_pretrained(\"JoseEliel/BART-Lagrangian\")\n",
    "\n",
    "example = sampled_df.sample(1)[\"fields\"].values[0]\n",
    "print(\"Input    = \",example)\n",
    "encoded = hf_tokenizer.encode(example)\n",
    "print(\"token_id = \", encoded)\n",
    "decoded = hf_tokenizer.decode(encoded)\n",
    "print(\"decoded  = \", decoded)\n"
   ]
  },
  {
   "cell_type": "markdown",
   "id": "f7d5865a",
   "metadata": {},
   "source": [
    "#### TAKEAWAY : THe level of tokenization affects attention usage and vocab size"
   ]
  },
  {
   "cell_type": "markdown",
   "id": "2f152260",
   "metadata": {},
   "source": [
    "# Training\n",
    "- Mention available resources: SUPR/NAISS -> Alvis.\n",
    "- Example of training a model."
   ]
  },
  {
   "cell_type": "markdown",
   "id": "66d5a3b8",
   "metadata": {},
   "source": [
    "### NAISS : https://www.naiss.se/\n",
    "### SUPR : https://supr.naiss.se/\n",
    "### Alvis : https://www.c3se.chalmers.se/about/Alvis/\n",
    "### OnDemand Portal : https://alvis.c3se.chalmers.se/pun/sys/dashboard/"
   ]
  },
  {
   "cell_type": "markdown",
   "id": "c1c18041",
   "metadata": {},
   "source": [
    "## CPU or GPU"
   ]
  },
  {
   "cell_type": "code",
   "execution_count": 31,
   "id": "c75b00c4",
   "metadata": {},
   "outputs": [],
   "source": [
    "# Choose GPU if available\n",
    "import torch\n",
    "\n",
    "device = torch.device(\"cuda\" if torch.cuda.is_available() else \"cpu\")\n"
   ]
  },
  {
   "cell_type": "markdown",
   "id": "9c9823e0",
   "metadata": {},
   "source": [
    "# Evaluation\n",
    "- Generating output from the model.\n",
    "- Discussion on evaluation choices:\n",
    "  - Existing or novel metrics.\n",
    "  - Embedding analysis.\n",
    "  - Out-of-distribution tests."
   ]
  },
  {
   "cell_type": "markdown",
   "id": "0d6b2ab6",
   "metadata": {},
   "source": [
    "## Existing Metric  : Does it work? "
   ]
  },
  {
   "cell_type": "markdown",
   "id": "9c788b83",
   "metadata": {},
   "source": [
    "mainly to see if things work as expected\n",
    "Loss : Deviation from actual term \n",
    "Accuracy : How much is perfect? \n",
    "New metric, Score : (Order does not always matter, XEN)"
   ]
  },
  {
   "cell_type": "code",
   "execution_count": null,
   "id": "8de2039d",
   "metadata": {},
   "outputs": [
    {
     "name": "stderr",
     "output_type": "stream",
     "text": [
      "2025-04-09 13:37:45.451926: I tensorflow/tsl/cuda/cudart_stub.cc:28] Could not find cuda drivers on your machine, GPU will not be used.\n",
      "2025-04-09 13:37:45.578289: I tensorflow/core/platform/cpu_feature_guard.cc:182] This TensorFlow binary is optimized to use available CPU instructions in performance-critical operations.\n",
      "To enable the following instructions: AVX2 FMA, in other operations, rebuild TensorFlow with the appropriate compiler flags.\n",
      "2025-04-09 13:37:46.769057: W tensorflow/compiler/tf2tensorrt/utils/py_utils.cc:38] TF-TRT Warning: Could not find TensorRT\n"
     ]
    },
    {
     "name": "stdout",
     "output_type": "stream",
     "text": [
      "Checking Tokens Format\n",
      "particle_id_token          :  ['ID1']\n",
      "derivative_id_token        :  ['ID1']\n",
      "gamma_id_token             :  ['ID1']\n",
      "sigma_id_token(1)          :  ['ID1']\n",
      "spin_token(0)              :  ['SPIN', '0']\n",
      "spin_token(1)              :  ['SPIN', '1']\n",
      "spin_token(Fraction(1,2))  :  ['SPIN', '1/2']\n",
      "helicity_token(1)          :  ['HEL', '1/2']\n",
      "helicity_token(-1)         :  ['HEL', '-1/2']\n",
      "group_tokens(1)            :  ['U1']\n",
      "group_tokens(1,test)            :  ['U1', '_{test}']\n",
      "group_tokens(2)            :  ['SU2']\n",
      "group_tokens(2,test)            :  ['SU2', '_{test}']\n",
      "group_tokens(3)            :  ['SU3']\n",
      "group_tokens(3,test)            :  ['SU3', '_{test}']\n",
      "Tokens Format OK\n"
     ]
    }
   ],
   "source": [
    "import lag_eval as le\n",
    "from transformers import BartForConditionalGeneration, PreTrainedTokenizerFast\n",
    "\n",
    "# Load our BART-L model and tokenizer if not yet loaded\n",
    "model_name = \"JoseEliel/BART-Lagrangian\"\n",
    "model = BartForConditionalGeneration.from_pretrained(model_name)\n",
    "#hf_tokenizer = PreTrainedTokenizerFast.from_pretrained(model_name)\n"
   ]
  },
  {
   "cell_type": "code",
   "execution_count": null,
   "id": "25d150b9",
   "metadata": {},
   "outputs": [],
   "source": [
    "# Load data if not already loaded, drop duplicates\n",
    "#sampled_df = pd.read_csv(\"huggingface_dataset_sampled.csv\")\n",
    "sampled_df.drop_duplicates(subset=[\"fields\"], inplace=True)"
   ]
  },
  {
   "cell_type": "code",
   "execution_count": 4,
   "id": "be1b2fde",
   "metadata": {},
   "outputs": [
    {
     "data": {
      "text/html": [
       "<div>\n",
       "<style scoped>\n",
       "    .dataframe tbody tr th:only-of-type {\n",
       "        vertical-align: middle;\n",
       "    }\n",
       "\n",
       "    .dataframe tbody tr th {\n",
       "        vertical-align: top;\n",
       "    }\n",
       "\n",
       "    .dataframe thead th {\n",
       "        text-align: right;\n",
       "    }\n",
       "</style>\n",
       "<table border=\"1\" class=\"dataframe\">\n",
       "  <thead>\n",
       "    <tr style=\"text-align: right;\">\n",
       "      <th></th>\n",
       "      <th>fields</th>\n",
       "      <th>Lagrangian</th>\n",
       "      <th>train/eval</th>\n",
       "    </tr>\n",
       "  </thead>\n",
       "  <tbody>\n",
       "    <tr>\n",
       "      <th>0</th>\n",
       "      <td>FIELD SPIN 1/2 SU3 - 3 SU2 2 U1 - 4 HEL 1/2 FI...</td>\n",
       "      <td>+ FIELD SPIN 1 / 2 SU3 - 3 SU2 2 HEL - 1 / 2 D...</td>\n",
       "      <td>eval</td>\n",
       "    </tr>\n",
       "    <tr>\n",
       "      <th>1</th>\n",
       "      <td>FIELD SPIN 1/2 HEL 1/2 FIELD SPIN 1/2 SU3 - 3 ...</td>\n",
       "      <td>+ i FIELD SPIN 1 / 2 HEL 1 / 2 ID9 SIGMA_BAR I...</td>\n",
       "      <td>eval</td>\n",
       "    </tr>\n",
       "    <tr>\n",
       "      <th>2</th>\n",
       "      <td>FIELD SPIN 0 SU2 3 U1 - 4 / 9 FIELD SPIN 1/2 S...</td>\n",
       "      <td>+ FIELD SPIN 0 SU2 3 U1 - 4 / 9 ID1 FIELD SPIN...</td>\n",
       "      <td>eval</td>\n",
       "    </tr>\n",
       "    <tr>\n",
       "      <th>3</th>\n",
       "      <td>FIELD SPIN 1/2 SU3 - 3 U1 3 / 8 HEL -1/2 FIELD...</td>\n",
       "      <td>+ FIELD SPIN 0 SU3 - 3 SU2 2 U1 - 8 / 9 ID3 FI...</td>\n",
       "      <td>eval</td>\n",
       "    </tr>\n",
       "    <tr>\n",
       "      <th>4</th>\n",
       "      <td>FIELD SPIN 0 SU3 3 SU2 3</td>\n",
       "      <td>+ FIELD SPIN 0 SU3 3 SU2 3 ID4 FIELD SPIN 0 SU...</td>\n",
       "      <td>eval</td>\n",
       "    </tr>\n",
       "    <tr>\n",
       "      <th>...</th>\n",
       "      <td>...</td>\n",
       "      <td>...</td>\n",
       "      <td>...</td>\n",
       "    </tr>\n",
       "    <tr>\n",
       "      <th>286076</th>\n",
       "      <td>FIELD SPIN 0 SU3 3 SU2 3 U1 9 / 2 FIELD SPIN 1...</td>\n",
       "      <td>+ FIELD SPIN 1 / 2 SU2 2 U1 1 / 5 HEL - 1 / 2 ...</td>\n",
       "      <td>train</td>\n",
       "    </tr>\n",
       "    <tr>\n",
       "      <th>286077</th>\n",
       "      <td>FIELD SPIN 0 FIELD SPIN 0 SU3 3 SU2 3 U1 7 / 6...</td>\n",
       "      <td>+ FIELD SPIN 0 ID1 FIELD SPIN 0 SU3 3 SU2 3 U1...</td>\n",
       "      <td>train</td>\n",
       "    </tr>\n",
       "    <tr>\n",
       "      <th>286078</th>\n",
       "      <td>FIELD SPIN 0 SU3 - 3 U1 3 FIELD SPIN 1/2 SU3 3...</td>\n",
       "      <td>+ FIELD SPIN 0 SU3 - 3 U1 3 ID4 FIELD SPIN 0 S...</td>\n",
       "      <td>train</td>\n",
       "    </tr>\n",
       "    <tr>\n",
       "      <th>286079</th>\n",
       "      <td>FIELD SPIN 1/2 U1 - 4 / 5 HEL -1/2 FIELD SPIN ...</td>\n",
       "      <td>+ FIELD SPIN 0 SU3 - 3 SU2 2 U1 - 1 / 7 ID6 FI...</td>\n",
       "      <td>train</td>\n",
       "    </tr>\n",
       "    <tr>\n",
       "      <th>286080</th>\n",
       "      <td>FIELD SPIN 0 SU3 3 SU2 3 U1 - 1 FIELD SPIN 1/2...</td>\n",
       "      <td>+ FIELD SPIN 0 SU3 3 SU2 3 U1 - 1 ID0 FIELD SP...</td>\n",
       "      <td>train</td>\n",
       "    </tr>\n",
       "  </tbody>\n",
       "</table>\n",
       "<p>211283 rows × 3 columns</p>\n",
       "</div>"
      ],
      "text/plain": [
       "                                                   fields  \\\n",
       "0       FIELD SPIN 1/2 SU3 - 3 SU2 2 U1 - 4 HEL 1/2 FI...   \n",
       "1       FIELD SPIN 1/2 HEL 1/2 FIELD SPIN 1/2 SU3 - 3 ...   \n",
       "2       FIELD SPIN 0 SU2 3 U1 - 4 / 9 FIELD SPIN 1/2 S...   \n",
       "3       FIELD SPIN 1/2 SU3 - 3 U1 3 / 8 HEL -1/2 FIELD...   \n",
       "4                                FIELD SPIN 0 SU3 3 SU2 3   \n",
       "...                                                   ...   \n",
       "286076  FIELD SPIN 0 SU3 3 SU2 3 U1 9 / 2 FIELD SPIN 1...   \n",
       "286077  FIELD SPIN 0 FIELD SPIN 0 SU3 3 SU2 3 U1 7 / 6...   \n",
       "286078  FIELD SPIN 0 SU3 - 3 U1 3 FIELD SPIN 1/2 SU3 3...   \n",
       "286079  FIELD SPIN 1/2 U1 - 4 / 5 HEL -1/2 FIELD SPIN ...   \n",
       "286080  FIELD SPIN 0 SU3 3 SU2 3 U1 - 1 FIELD SPIN 1/2...   \n",
       "\n",
       "                                               Lagrangian train/eval  \n",
       "0       + FIELD SPIN 1 / 2 SU3 - 3 SU2 2 HEL - 1 / 2 D...       eval  \n",
       "1       + i FIELD SPIN 1 / 2 HEL 1 / 2 ID9 SIGMA_BAR I...       eval  \n",
       "2       + FIELD SPIN 0 SU2 3 U1 - 4 / 9 ID1 FIELD SPIN...       eval  \n",
       "3       + FIELD SPIN 0 SU3 - 3 SU2 2 U1 - 8 / 9 ID3 FI...       eval  \n",
       "4       + FIELD SPIN 0 SU3 3 SU2 3 ID4 FIELD SPIN 0 SU...       eval  \n",
       "...                                                   ...        ...  \n",
       "286076  + FIELD SPIN 1 / 2 SU2 2 U1 1 / 5 HEL - 1 / 2 ...      train  \n",
       "286077  + FIELD SPIN 0 ID1 FIELD SPIN 0 SU3 3 SU2 3 U1...      train  \n",
       "286078  + FIELD SPIN 0 SU3 - 3 U1 3 ID4 FIELD SPIN 0 S...      train  \n",
       "286079  + FIELD SPIN 0 SU3 - 3 SU2 2 U1 - 1 / 7 ID6 FI...      train  \n",
       "286080  + FIELD SPIN 0 SU3 3 SU2 3 U1 - 1 ID0 FIELD SP...      train  \n",
       "\n",
       "[211283 rows x 3 columns]"
      ]
     },
     "execution_count": 4,
     "metadata": {},
     "output_type": "execute_result"
    }
   ],
   "source": [
    "sampled_df"
   ]
  },
  {
   "cell_type": "markdown",
   "id": "e3b5498f",
   "metadata": {},
   "source": [
    "### Example : Lagrangian Score"
   ]
  },
  {
   "cell_type": "markdown",
   "id": "612b01da",
   "metadata": {},
   "source": [
    "Choose a random lagrangian to work with"
   ]
  },
  {
   "cell_type": "code",
   "execution_count": 5,
   "id": "18376d49",
   "metadata": {},
   "outputs": [],
   "source": [
    "example_scenario = sampled_df.sample(1)\n"
   ]
  },
  {
   "cell_type": "markdown",
   "id": "b709e360",
   "metadata": {},
   "source": [
    "Look at the input (field content)"
   ]
  },
  {
   "cell_type": "code",
   "execution_count": 6,
   "id": "57c89747",
   "metadata": {},
   "outputs": [
    {
     "name": "stdout",
     "output_type": "stream",
     "text": [
      "Input    =  [SOS] FIELD SPIN 0 SU2 2 U1 1 / 4 FIELD SPIN 1/2 SU3 - 3 SU2 3 U1 3 / 4 HEL -1/2 FIELD SPIN 0 FIELD SPIN 0 SU3 3 SU2 2 U1 7 / 2 FIELD SPIN 0 SU3 - 3 U1 5 / 7 [EOS]\n",
      "token_id =  [0, 22, 36, 9, 37, 6, 39, 5, 4, 11, 22, 36, 5, 4, 6, 38, 7, 10, 37, 10, 39, 10, 4, 11, 23, 7, 5, 4, 6, 22, 36, 9, 22, 36, 9, 38, 10, 37, 6, 39, 14, 4, 6, 22, 36, 9, 38, 7, 10, 39, 12, 4, 14, 1]\n",
      "decoded  =  [SOS] FIELD SPIN 0 SU2 2 U1 1 / 4 FIELD SPIN 1 / 2 SU3 - 3 SU2 3 U1 3 / 4 HEL - 1 / 2 FIELD SPIN 0 FIELD SPIN 0 SU3 3 SU2 2 U1 7 / 2 FIELD SPIN 0 SU3 - 3 U1 5 / 7 [EOS]\n"
     ]
    }
   ],
   "source": [
    "example = example_scenario[\"fields\"].values[0]\n",
    "example_input = \"[SOS] \" + example + \" [EOS]\"\n",
    "print(\"Input    = \",example_input)\n",
    "encoded_input = hf_tokenizer.encode(example_input)\n",
    "print(\"token_id = \", encoded_input)\n",
    "decoded_input = hf_tokenizer.decode(encoded_input)\n",
    "print(\"decoded  = \", decoded_input)\n"
   ]
  },
  {
   "cell_type": "markdown",
   "id": "205cc9f9",
   "metadata": {},
   "source": [
    "Look at the output (Lagrangian)"
   ]
  },
  {
   "cell_type": "code",
   "execution_count": 7,
   "id": "7ecab14d",
   "metadata": {},
   "outputs": [
    {
     "name": "stdout",
     "output_type": "stream",
     "text": [
      "Output   =  [SOS] + FIELD SPIN 0 SU2 2 U1 1 / 4 ID0 FIELD SPIN 0 SU2 2 U1 - 1 / 4 DAGGER ID8 FIELD SPIN 0 ID5 CONTRACTIONS SU2 ID0 ID8 + FIELD SPIN 0 ID7 FIELD SPIN 0 SU3 3 SU2 2 U1 7 / 2 ID2 FIELD SPIN 0 SU3 - 3 SU2 2 U1 - 7 / 2 DAGGER ID1 CONTRACTIONS SU3 ID2 ID1 ID1 SU2 ID2 ID1 + FIELD SPIN 0 ID2 FIELD SPIN 0 SU3 - 3 U1 5 / 7 ID7 FIELD SPIN 0 SU3 3 U1 - 5 / 7 DAGGER ID4 CONTRACTIONS SU3 ID7 ID7 ID4 + FIELD SPIN 0 ID5 FIELD SPIN 0 ID1 FIELD SPIN 0 ID4 + FIELD SPIN 0 SU2 2 U1 1 / 4 ID0 FIELD SPIN 0 SU2 2 U1 - 1 / 4 DAGGER ID7 FIELD SPIN 0 ID1 FIELD SPIN 0 ID2 CONTRACTIONS SU2 ID0 ID7 + FIELD SPIN 0 SU2 2 U1 1 / 4 ID2 FIELD SPIN 0 SU2 2 U1 - 1 / 4 DAGGER ID3 FIELD SPIN 0 SU3 3 SU2 2 U1 7 / 2 ID0 FIELD SPIN 0 SU3 - 3 SU2 2 U1 - 7 / 2 DAGGER ID9 CONTRACTIONS SU3 ID0 ID9 ID9 SU2 ID2 ID0 SU2 ID3 ID9 + FIELD SPIN 0 SU2 2 U1 1 / 4 ID1 FIELD SPIN 0 SU2 2 U1 - 1 / 4 DAGGER ID4 FIELD SPIN 0 SU3 3 SU2 2 U1 7 / 2 ID2 FIELD SPIN 0 SU3 - 3 SU2 2 U1 - 7 / 2 DAGGER ID6 CONTRACTIONS SU3 ID2 ID6 ID6 SU2 ID1 ID4 SU2 ID2 ID6 + FIELD SPIN 0 SU2 2 U1 1 / 4 ID9 FIELD SPIN 0 SU2 2 U1 - 1 / 4 DAGGER ID3 FIELD SPIN 0 SU3 - 3 U1 5 / 7 ID5 FIELD SPIN 0 SU3 3 U1 - 5 / 7 DAGGER ID7 CONTRACTIONS SU3 ID5 ID5 ID7 SU2 ID9 ID3 + FIELD SPIN 0 SU2 2 U1 1 / 4 ID2 FIELD SPIN 0 SU2 2 U1 1 / 4 ID4 FIELD SPIN 0 SU2 2 U1 - 1 / 4 DAGGER ID5 FIELD SPIN 0 SU2 2 U1 - 1 / 4 DAGGER ID8 CONTRACTIONS SU2 ID2 ID5 SU2 ID4 ID8 + FIELD SPIN 0 SU2 2 U1 1 / 4 ID0 FIELD SPIN 0 SU2 2 U1 1 / 4 ID1 FIELD SPIN 0 SU2 2 U1 - 1 / 4 DAGGER ID4 FIELD SPIN 0 SU2 2 U1 - 1 / 4 DAGGER ID8 CONTRACTIONS SU2 ID0 ID1 SU2 ID4 ID8 + FIELD SPIN 0 ID3 FIELD SPIN 0 ID4 FIELD SPIN 0 SU3 3 SU2 2 U1 7 / 2 ID2 FIELD SPIN 0 SU3 - 3 SU2 2 U1 - 7 / 2 DAGGER ID5 CONTRACTIONS SU3 ID2 ID5 ID5 SU2 ID2 ID5 + FIELD SPIN 0 ID9 FIELD SPIN 0 ID3 FIELD SPIN 0 SU3 - 3 U1 5 / 7 ID4 FIELD SPIN 0 SU3 3 U1 - 5 / 7 DAGGER ID1 CONTRACTIONS SU3 ID4 ID4 ID1 + FIELD SPIN 0 ID3 FIELD SPIN 0 ID0 FIELD SPIN 0 ID7 FIELD SPIN 0 ID9 + FIELD SPIN 0 SU3 3 SU2 2 U1 7 / 2 ID0 FIELD SPIN 0 SU3 - 3 SU2 2 U1 - 7 / 2 DAGGER ID3 FIELD SPIN 0 SU3 - 3 U1 5 / 7 ID6 FIELD SPIN 0 SU3 3 U1 - 5 / 7 DAGGER ID5 CONTRACTIONS SU3 ID0 ID3 ID6 SU3 ID3 ID6 ID5 SU2 ID0 ID3 + FIELD SPIN 0 SU3 3 SU2 2 U1 7 / 2 ID5 FIELD SPIN 0 SU3 - 3 SU2 2 U1 - 7 / 2 DAGGER ID4 FIELD SPIN 0 SU3 - 3 U1 5 / 7 ID9 FIELD SPIN 0 SU3 3 U1 - 5 / 7 DAGGER ID3 CONTRACTIONS SU3 ID5 ID4 ID4 SU3 ID9 ID9 ID3 SU2 ID5 ID4 + FIELD SPIN 0 SU3 3 SU2 2 U1 7 / 2 ID7 FIELD SPIN 0 SU3 3 SU2 2 U1 7 / 2 ID5 FIELD SPIN 0 SU3 - 3 SU2 2 U1 - 7 / 2 DAGGER ID1 FIELD SPIN 0 SU3 - 3 SU2 2 U1 - 7 / 2 DAGGER ID9 CONTRACTIONS SU3 ID7 ID1 ID1 SU3 ID5 ID9 ID9 SU2 ID7 ID1 SU2 ID5 ID9 + FIELD SPIN 0 SU3 3 SU2 2 U1 7 / 2 ID1 FIELD SPIN 0 SU3 3 SU2 2 U1 7 / 2 ID0 FIELD SPIN 0 SU3 - 3 SU2 2 U1 - 7 / 2 DAGGER ID4 FIELD SPIN 0 SU3 - 3 SU2 2 U1 - 7 / 2 DAGGER ID9 CONTRACTIONS SU3 ID1 ID4 ID4 SU3 ID0 ID9 ID9 SU2 ID1 ID0 SU2 ID4 ID9 + FIELD SPIN 0 SU3 3 SU2 2 U1 7 / 2 ID3 FIELD SPIN 0 SU3 3 SU2 2 U1 7 / 2 ID9 FIELD SPIN 0 SU3 - 3 SU2 2 U1 - 7 / 2 DAGGER ID5 FIELD SPIN 0 SU3 - 3 SU2 2 U1 - 7 / 2 DAGGER ID2 CONTRACTIONS SU3 ID3 ID9 ID5 SU3 ID5 ID2 ID2 SU2 ID3 ID5 SU2 ID9 ID2 + FIELD SPIN 0 SU3 3 SU2 2 U1 7 / 2 ID2 FIELD SPIN 0 SU3 3 SU2 2 U1 7 / 2 ID7 FIELD SPIN 0 SU3 - 3 SU2 2 U1 - 7 / 2 DAGGER ID8 FIELD SPIN 0 SU3 - 3 SU2 2 U1 - 7 / 2 DAGGER ID0 CONTRACTIONS SU3 ID2 ID7 ID8 SU3 ID8 ID0 ID0 SU2 ID2 ID7 SU2 ID8 ID0 + FIELD SPIN 0 SU3 - 3 U1 5 / 7 ID7 FIELD SPIN 0 SU3 - 3 U1 5 / 7 ID0 FIELD SPIN 0 SU3 3 U1 - 5 / 7 DAGGER ID1 FIELD SPIN 0 SU3 3 U1 - 5 / 7 DAGGER ID8 CONTRACTIONS SU3 ID7 ID7 ID1 SU3 ID0 ID0 ID8 + FIELD SPIN 0 SU3 - 3 U1 5 / 7 ID0 FIELD SPIN 0 SU3 - 3 U1 5 / 7 ID8 FIELD SPIN 0 SU3 3 U1 - 5 / 7 DAGGER ID1 FIELD SPIN 0 SU3 3 U1 - 5 / 7 DAGGER ID4 CONTRACTIONS SU3 ID0 ID0 ID8 SU3 ID8 ID1 ID4 + DERIVATIVE SU2 U1 ID3 FIELD SPIN 0 SU2 2 U1 - 1 / 4 DAGGER ID8 DERIVATIVE SU2 U1 ID9 FIELD SPIN 0 SU2 2 U1 1 / 4 ID6 CONTRACTIONS LORENTZ ID3 ID9 SU2 ID8 ID6 + i FIELD SPIN 1 / 2 SU3 3 SU2 3 U1 - 3 / 4 HEL 1 / 2 DAGGER ID7 SIGMA_BAR ID8 DERIVATIVE SU3 SU2 U1 ID4 FIELD SPIN 1 / 2 SU3 - 3 SU2 3 U1 3 / 4 HEL - 1 / 2 ID3 CONTRACTIONS LORENTZ ID8 ID4 LORENTZ ID8 ID7 ID3 SU3 ID7 ID3 SU2 ID7 ID3 + DERIVATIVE ID9 FIELD SPIN 0 DAGGER ID3 DERIVATIVE ID4 FIELD SPIN 0 ID2 CONTRACTIONS LORENTZ ID9 ID4 + DERIVATIVE SU3 SU2 U1 ID5 FIELD SPIN 0 SU3 - 3 SU2 2 U1 - 7 / 2 DAGGER ID9 DERIVATIVE SU3 SU2 U1 ID4 FIELD SPIN 0 SU3 3 SU2 2 U1 7 / 2 ID8 CONTRACTIONS LORENTZ ID5 ID4 SU3 ID9 ID8 SU2 ID9 ID8 + DERIVATIVE SU3 U1 ID7 FIELD SPIN 0 SU3 3 U1 - 5 / 7 DAGGER ID5 DERIVATIVE SU3 U1 ID6 FIELD SPIN 0 SU3 - 3 U1 5 / 7 ID3 CONTRACTIONS LORENTZ ID7 ID6 SU3 ID5 ID3 - COMMUTATOR_A DERIVATIVE SU2 ID0 COMMUTATOR_B DERIVATIVE SU2 ID5 COMMUTATOR_A DERIVATIVE SU2 ID9 COMMUTATOR_B DERIVATIVE SU2 ID6 CONTRACTIONS LORENTZ ID0 ID9 LORENTZ ID5 ID6 - COMMUTATOR_A DERIVATIVE U1 ID6 COMMUTATOR_B DERIVATIVE U1 ID4 COMMUTATOR_A DERIVATIVE U1 ID2 COMMUTATOR_B DERIVATIVE U1 ID3 CONTRACTIONS LORENTZ ID6 ID2 LORENTZ ID4 ID3 - COMMUTATOR_A DERIVATIVE SU3 ID2 COMMUTATOR_B DERIVATIVE SU3 ID0 COMMUTATOR_A DERIVATIVE SU3 ID3 COMMUTATOR_B DERIVATIVE SU3 ID1 CONTRACTIONS LORENTZ ID2 ID3 LORENTZ ID0 ID1 + FIELD SPIN 0 SU2 2 U1 - 1 / 4 DAGGER ID3 FIELD SPIN 0 SU2 2 U1 1 / 4 ID2 CONTRACTIONS SU2 ID3 ID2 + FIELD SPIN 0 DAGGER ID8 FIELD SPIN 0 ID1 CONTRACTIONS + FIELD SPIN 0 SU3 - 3 SU2 2 U1 - 7 / 2 DAGGER ID3 FIELD SPIN 0 SU3 3 SU2 2 U1 7 / 2 ID7 CONTRACTIONS SU3 ID3 ID7 SU2 ID3 ID7 + FIELD SPIN 0 SU3 3 U1 - 5 / 7 DAGGER ID6 FIELD SPIN 0 SU3 - 3 U1 5 / 7 ID4 CONTRACTIONS SU3 ID6 ID4 [EOS]\n",
      "token_id =  [0, 8, 22, 36, 9, 37, 6, 39, 5, 4, 11, 24, 22, 36, 9, 37, 6, 39, 7, 5, 4, 11, 20, 32, 22, 36, 9, 29, 19, 37, 24, 32, 8, 22, 36, 9, 31, 22, 36, 9, 38, 10, 37, 6, 39, 14, 4, 6, 26, 22, 36, 9, 38, 7, 10, 37, 6, 39, 7, 14, 4, 6, 20, 25, 19, 38, 26, 25, 25, 37, 26, 25, 8, 22, 36, 9, 26, 22, 36, 9, 38, 7, 10, 39, 12, 4, 14, 31, 22, 36, 9, 38, 10, 39, 7, 12, 4, 14, 20, 28, 19, 38, 31, 31, 28, 8, 22, 36, 9, 29, 22, 36, 9, 25, 22, 36, 9, 28, 8, 22, 36, 9, 37, 6, 39, 5, 4, 11, 24, 22, 36, 9, 37, 6, 39, 7, 5, 4, 11, 20, 31, 22, 36, 9, 25, 22, 36, 9, 26, 19, 37, 24, 31, 8, 22, 36, 9, 37, 6, 39, 5, 4, 11, 26, 22, 36, 9, 37, 6, 39, 7, 5, 4, 11, 20, 27, 22, 36, 9, 38, 10, 37, 6, 39, 14, 4, 6, 24, 22, 36, 9, 38, 7, 10, 37, 6, 39, 7, 14, 4, 6, 20, 33, 19, 38, 24, 33, 33, 37, 26, 24, 37, 27, 33, 8, 22, 36, 9, 37, 6, 39, 5, 4, 11, 25, 22, 36, 9, 37, 6, 39, 7, 5, 4, 11, 20, 28, 22, 36, 9, 38, 10, 37, 6, 39, 14, 4, 6, 26, 22, 36, 9, 38, 7, 10, 37, 6, 39, 7, 14, 4, 6, 20, 30, 19, 38, 26, 30, 30, 37, 25, 28, 37, 26, 30, 8, 22, 36, 9, 37, 6, 39, 5, 4, 11, 33, 22, 36, 9, 37, 6, 39, 7, 5, 4, 11, 20, 27, 22, 36, 9, 38, 7, 10, 39, 12, 4, 14, 29, 22, 36, 9, 38, 10, 39, 7, 12, 4, 14, 20, 31, 19, 38, 29, 29, 31, 37, 33, 27, 8, 22, 36, 9, 37, 6, 39, 5, 4, 11, 26, 22, 36, 9, 37, 6, 39, 5, 4, 11, 28, 22, 36, 9, 37, 6, 39, 7, 5, 4, 11, 20, 29, 22, 36, 9, 37, 6, 39, 7, 5, 4, 11, 20, 32, 19, 37, 26, 29, 37, 28, 32, 8, 22, 36, 9, 37, 6, 39, 5, 4, 11, 24, 22, 36, 9, 37, 6, 39, 5, 4, 11, 25, 22, 36, 9, 37, 6, 39, 7, 5, 4, 11, 20, 28, 22, 36, 9, 37, 6, 39, 7, 5, 4, 11, 20, 32, 19, 37, 24, 25, 37, 28, 32, 8, 22, 36, 9, 27, 22, 36, 9, 28, 22, 36, 9, 38, 10, 37, 6, 39, 14, 4, 6, 26, 22, 36, 9, 38, 7, 10, 37, 6, 39, 7, 14, 4, 6, 20, 29, 19, 38, 26, 29, 29, 37, 26, 29, 8, 22, 36, 9, 33, 22, 36, 9, 27, 22, 36, 9, 38, 7, 10, 39, 12, 4, 14, 28, 22, 36, 9, 38, 10, 39, 7, 12, 4, 14, 20, 25, 19, 38, 28, 28, 25, 8, 22, 36, 9, 27, 22, 36, 9, 24, 22, 36, 9, 31, 22, 36, 9, 33, 8, 22, 36, 9, 38, 10, 37, 6, 39, 14, 4, 6, 24, 22, 36, 9, 38, 7, 10, 37, 6, 39, 7, 14, 4, 6, 20, 27, 22, 36, 9, 38, 7, 10, 39, 12, 4, 14, 30, 22, 36, 9, 38, 10, 39, 7, 12, 4, 14, 20, 29, 19, 38, 24, 27, 30, 38, 27, 30, 29, 37, 24, 27, 8, 22, 36, 9, 38, 10, 37, 6, 39, 14, 4, 6, 29, 22, 36, 9, 38, 7, 10, 37, 6, 39, 7, 14, 4, 6, 20, 28, 22, 36, 9, 38, 7, 10, 39, 12, 4, 14, 33, 22, 36, 9, 38, 10, 39, 7, 12, 4, 14, 20, 27, 19, 38, 29, 28, 28, 38, 33, 33, 27, 37, 29, 28, 8, 22, 36, 9, 38, 10, 37, 6, 39, 14, 4, 6, 31, 22, 36, 9, 38, 10, 37, 6, 39, 14, 4, 6, 29, 22, 36, 9, 38, 7, 10, 37, 6, 39, 7, 14, 4, 6, 20, 25, 22, 36, 9, 38, 7, 10, 37, 6, 39, 7, 14, 4, 6, 20, 33, 19, 38, 31, 25, 25, 38, 29, 33, 33, 37, 31, 25, 37, 29, 33, 8, 22, 36, 9, 38, 10, 37, 6, 39, 14, 4, 6, 25, 22, 36, 9, 38, 10, 37, 6, 39, 14, 4, 6, 24, 22, 36, 9, 38, 7, 10, 37, 6, 39, 7, 14, 4, 6, 20, 28, 22, 36, 9, 38, 7, 10, 37, 6, 39, 7, 14, 4, 6, 20, 33, 19, 38, 25, 28, 28, 38, 24, 33, 33, 37, 25, 24, 37, 28, 33, 8, 22, 36, 9, 38, 10, 37, 6, 39, 14, 4, 6, 27, 22, 36, 9, 38, 10, 37, 6, 39, 14, 4, 6, 33, 22, 36, 9, 38, 7, 10, 37, 6, 39, 7, 14, 4, 6, 20, 29, 22, 36, 9, 38, 7, 10, 37, 6, 39, 7, 14, 4, 6, 20, 26, 19, 38, 27, 33, 29, 38, 29, 26, 26, 37, 27, 29, 37, 33, 26, 8, 22, 36, 9, 38, 10, 37, 6, 39, 14, 4, 6, 26, 22, 36, 9, 38, 10, 37, 6, 39, 14, 4, 6, 31, 22, 36, 9, 38, 7, 10, 37, 6, 39, 7, 14, 4, 6, 20, 32, 22, 36, 9, 38, 7, 10, 37, 6, 39, 7, 14, 4, 6, 20, 24, 19, 38, 26, 31, 32, 38, 32, 24, 24, 37, 26, 31, 37, 32, 24, 8, 22, 36, 9, 38, 7, 10, 39, 12, 4, 14, 31, 22, 36, 9, 38, 7, 10, 39, 12, 4, 14, 24, 22, 36, 9, 38, 10, 39, 7, 12, 4, 14, 20, 25, 22, 36, 9, 38, 10, 39, 7, 12, 4, 14, 20, 32, 19, 38, 31, 31, 25, 38, 24, 24, 32, 8, 22, 36, 9, 38, 7, 10, 39, 12, 4, 14, 24, 22, 36, 9, 38, 7, 10, 39, 12, 4, 14, 32, 22, 36, 9, 38, 10, 39, 7, 12, 4, 14, 20, 25, 22, 36, 9, 38, 10, 39, 7, 12, 4, 14, 20, 28, 19, 38, 24, 24, 32, 38, 32, 25, 28, 8, 21, 37, 39, 27, 22, 36, 9, 37, 6, 39, 7, 5, 4, 11, 20, 32, 21, 37, 39, 33, 22, 36, 9, 37, 6, 39, 5, 4, 11, 30, 19, 34, 27, 33, 37, 32, 30, 8, 40, 22, 36, 5, 4, 6, 38, 10, 37, 10, 39, 7, 10, 4, 11, 23, 5, 4, 6, 20, 31, 35, 32, 21, 38, 37, 39, 28, 22, 36, 5, 4, 6, 38, 7, 10, 37, 10, 39, 10, 4, 11, 23, 7, 5, 4, 6, 27, 19, 34, 32, 28, 34, 32, 31, 27, 38, 31, 27, 37, 31, 27, 8, 21, 33, 22, 36, 9, 20, 27, 21, 28, 22, 36, 9, 26, 19, 34, 33, 28, 8, 21, 38, 37, 39, 29, 22, 36, 9, 38, 7, 10, 37, 6, 39, 7, 14, 4, 6, 20, 33, 21, 38, 37, 39, 28, 22, 36, 9, 38, 10, 37, 6, 39, 14, 4, 6, 32, 19, 34, 29, 28, 38, 33, 32, 37, 33, 32, 8, 21, 38, 39, 31, 22, 36, 9, 38, 10, 39, 7, 12, 4, 14, 20, 29, 21, 38, 39, 30, 22, 36, 9, 38, 7, 10, 39, 12, 4, 14, 27, 19, 34, 31, 30, 38, 29, 27, 7, 17, 21, 37, 24, 18, 21, 37, 29, 17, 21, 37, 33, 18, 21, 37, 30, 19, 34, 24, 33, 34, 29, 30, 7, 17, 21, 39, 30, 18, 21, 39, 28, 17, 21, 39, 26, 18, 21, 39, 27, 19, 34, 30, 26, 34, 28, 27, 7, 17, 21, 38, 26, 18, 21, 38, 24, 17, 21, 38, 27, 18, 21, 38, 25, 19, 34, 26, 27, 34, 24, 25, 8, 22, 36, 9, 37, 6, 39, 7, 5, 4, 11, 20, 27, 22, 36, 9, 37, 6, 39, 5, 4, 11, 26, 19, 37, 27, 26, 8, 22, 36, 9, 20, 32, 22, 36, 9, 25, 19, 8, 22, 36, 9, 38, 7, 10, 37, 6, 39, 7, 14, 4, 6, 20, 27, 22, 36, 9, 38, 10, 37, 6, 39, 14, 4, 6, 31, 19, 38, 27, 31, 37, 27, 31, 8, 22, 36, 9, 38, 10, 39, 7, 12, 4, 14, 20, 30, 22, 36, 9, 38, 7, 10, 39, 12, 4, 14, 28, 19, 38, 30, 28, 1]\n",
      "decoded  =  [SOS] + FIELD SPIN 0 SU2 2 U1 1 / 4 ID0 FIELD SPIN 0 SU2 2 U1 - 1 / 4 DAGGER ID8 FIELD SPIN 0 ID5 CONTRACTIONS SU2 ID0 ID8 + FIELD SPIN 0 ID7 FIELD SPIN 0 SU3 3 SU2 2 U1 7 / 2 ID2 FIELD SPIN 0 SU3 - 3 SU2 2 U1 - 7 / 2 DAGGER ID1 CONTRACTIONS SU3 ID2 ID1 ID1 SU2 ID2 ID1 + FIELD SPIN 0 ID2 FIELD SPIN 0 SU3 - 3 U1 5 / 7 ID7 FIELD SPIN 0 SU3 3 U1 - 5 / 7 DAGGER ID4 CONTRACTIONS SU3 ID7 ID7 ID4 + FIELD SPIN 0 ID5 FIELD SPIN 0 ID1 FIELD SPIN 0 ID4 + FIELD SPIN 0 SU2 2 U1 1 / 4 ID0 FIELD SPIN 0 SU2 2 U1 - 1 / 4 DAGGER ID7 FIELD SPIN 0 ID1 FIELD SPIN 0 ID2 CONTRACTIONS SU2 ID0 ID7 + FIELD SPIN 0 SU2 2 U1 1 / 4 ID2 FIELD SPIN 0 SU2 2 U1 - 1 / 4 DAGGER ID3 FIELD SPIN 0 SU3 3 SU2 2 U1 7 / 2 ID0 FIELD SPIN 0 SU3 - 3 SU2 2 U1 - 7 / 2 DAGGER ID9 CONTRACTIONS SU3 ID0 ID9 ID9 SU2 ID2 ID0 SU2 ID3 ID9 + FIELD SPIN 0 SU2 2 U1 1 / 4 ID1 FIELD SPIN 0 SU2 2 U1 - 1 / 4 DAGGER ID4 FIELD SPIN 0 SU3 3 SU2 2 U1 7 / 2 ID2 FIELD SPIN 0 SU3 - 3 SU2 2 U1 - 7 / 2 DAGGER ID6 CONTRACTIONS SU3 ID2 ID6 ID6 SU2 ID1 ID4 SU2 ID2 ID6 + FIELD SPIN 0 SU2 2 U1 1 / 4 ID9 FIELD SPIN 0 SU2 2 U1 - 1 / 4 DAGGER ID3 FIELD SPIN 0 SU3 - 3 U1 5 / 7 ID5 FIELD SPIN 0 SU3 3 U1 - 5 / 7 DAGGER ID7 CONTRACTIONS SU3 ID5 ID5 ID7 SU2 ID9 ID3 + FIELD SPIN 0 SU2 2 U1 1 / 4 ID2 FIELD SPIN 0 SU2 2 U1 1 / 4 ID4 FIELD SPIN 0 SU2 2 U1 - 1 / 4 DAGGER ID5 FIELD SPIN 0 SU2 2 U1 - 1 / 4 DAGGER ID8 CONTRACTIONS SU2 ID2 ID5 SU2 ID4 ID8 + FIELD SPIN 0 SU2 2 U1 1 / 4 ID0 FIELD SPIN 0 SU2 2 U1 1 / 4 ID1 FIELD SPIN 0 SU2 2 U1 - 1 / 4 DAGGER ID4 FIELD SPIN 0 SU2 2 U1 - 1 / 4 DAGGER ID8 CONTRACTIONS SU2 ID0 ID1 SU2 ID4 ID8 + FIELD SPIN 0 ID3 FIELD SPIN 0 ID4 FIELD SPIN 0 SU3 3 SU2 2 U1 7 / 2 ID2 FIELD SPIN 0 SU3 - 3 SU2 2 U1 - 7 / 2 DAGGER ID5 CONTRACTIONS SU3 ID2 ID5 ID5 SU2 ID2 ID5 + FIELD SPIN 0 ID9 FIELD SPIN 0 ID3 FIELD SPIN 0 SU3 - 3 U1 5 / 7 ID4 FIELD SPIN 0 SU3 3 U1 - 5 / 7 DAGGER ID1 CONTRACTIONS SU3 ID4 ID4 ID1 + FIELD SPIN 0 ID3 FIELD SPIN 0 ID0 FIELD SPIN 0 ID7 FIELD SPIN 0 ID9 + FIELD SPIN 0 SU3 3 SU2 2 U1 7 / 2 ID0 FIELD SPIN 0 SU3 - 3 SU2 2 U1 - 7 / 2 DAGGER ID3 FIELD SPIN 0 SU3 - 3 U1 5 / 7 ID6 FIELD SPIN 0 SU3 3 U1 - 5 / 7 DAGGER ID5 CONTRACTIONS SU3 ID0 ID3 ID6 SU3 ID3 ID6 ID5 SU2 ID0 ID3 + FIELD SPIN 0 SU3 3 SU2 2 U1 7 / 2 ID5 FIELD SPIN 0 SU3 - 3 SU2 2 U1 - 7 / 2 DAGGER ID4 FIELD SPIN 0 SU3 - 3 U1 5 / 7 ID9 FIELD SPIN 0 SU3 3 U1 - 5 / 7 DAGGER ID3 CONTRACTIONS SU3 ID5 ID4 ID4 SU3 ID9 ID9 ID3 SU2 ID5 ID4 + FIELD SPIN 0 SU3 3 SU2 2 U1 7 / 2 ID7 FIELD SPIN 0 SU3 3 SU2 2 U1 7 / 2 ID5 FIELD SPIN 0 SU3 - 3 SU2 2 U1 - 7 / 2 DAGGER ID1 FIELD SPIN 0 SU3 - 3 SU2 2 U1 - 7 / 2 DAGGER ID9 CONTRACTIONS SU3 ID7 ID1 ID1 SU3 ID5 ID9 ID9 SU2 ID7 ID1 SU2 ID5 ID9 + FIELD SPIN 0 SU3 3 SU2 2 U1 7 / 2 ID1 FIELD SPIN 0 SU3 3 SU2 2 U1 7 / 2 ID0 FIELD SPIN 0 SU3 - 3 SU2 2 U1 - 7 / 2 DAGGER ID4 FIELD SPIN 0 SU3 - 3 SU2 2 U1 - 7 / 2 DAGGER ID9 CONTRACTIONS SU3 ID1 ID4 ID4 SU3 ID0 ID9 ID9 SU2 ID1 ID0 SU2 ID4 ID9 + FIELD SPIN 0 SU3 3 SU2 2 U1 7 / 2 ID3 FIELD SPIN 0 SU3 3 SU2 2 U1 7 / 2 ID9 FIELD SPIN 0 SU3 - 3 SU2 2 U1 - 7 / 2 DAGGER ID5 FIELD SPIN 0 SU3 - 3 SU2 2 U1 - 7 / 2 DAGGER ID2 CONTRACTIONS SU3 ID3 ID9 ID5 SU3 ID5 ID2 ID2 SU2 ID3 ID5 SU2 ID9 ID2 + FIELD SPIN 0 SU3 3 SU2 2 U1 7 / 2 ID2 FIELD SPIN 0 SU3 3 SU2 2 U1 7 / 2 ID7 FIELD SPIN 0 SU3 - 3 SU2 2 U1 - 7 / 2 DAGGER ID8 FIELD SPIN 0 SU3 - 3 SU2 2 U1 - 7 / 2 DAGGER ID0 CONTRACTIONS SU3 ID2 ID7 ID8 SU3 ID8 ID0 ID0 SU2 ID2 ID7 SU2 ID8 ID0 + FIELD SPIN 0 SU3 - 3 U1 5 / 7 ID7 FIELD SPIN 0 SU3 - 3 U1 5 / 7 ID0 FIELD SPIN 0 SU3 3 U1 - 5 / 7 DAGGER ID1 FIELD SPIN 0 SU3 3 U1 - 5 / 7 DAGGER ID8 CONTRACTIONS SU3 ID7 ID7 ID1 SU3 ID0 ID0 ID8 + FIELD SPIN 0 SU3 - 3 U1 5 / 7 ID0 FIELD SPIN 0 SU3 - 3 U1 5 / 7 ID8 FIELD SPIN 0 SU3 3 U1 - 5 / 7 DAGGER ID1 FIELD SPIN 0 SU3 3 U1 - 5 / 7 DAGGER ID4 CONTRACTIONS SU3 ID0 ID0 ID8 SU3 ID8 ID1 ID4 + DERIVATIVE SU2 U1 ID3 FIELD SPIN 0 SU2 2 U1 - 1 / 4 DAGGER ID8 DERIVATIVE SU2 U1 ID9 FIELD SPIN 0 SU2 2 U1 1 / 4 ID6 CONTRACTIONS LORENTZ ID3 ID9 SU2 ID8 ID6 + i FIELD SPIN 1 / 2 SU3 3 SU2 3 U1 - 3 / 4 HEL 1 / 2 DAGGER ID7 SIGMA_BAR ID8 DERIVATIVE SU3 SU2 U1 ID4 FIELD SPIN 1 / 2 SU3 - 3 SU2 3 U1 3 / 4 HEL - 1 / 2 ID3 CONTRACTIONS LORENTZ ID8 ID4 LORENTZ ID8 ID7 ID3 SU3 ID7 ID3 SU2 ID7 ID3 + DERIVATIVE ID9 FIELD SPIN 0 DAGGER ID3 DERIVATIVE ID4 FIELD SPIN 0 ID2 CONTRACTIONS LORENTZ ID9 ID4 + DERIVATIVE SU3 SU2 U1 ID5 FIELD SPIN 0 SU3 - 3 SU2 2 U1 - 7 / 2 DAGGER ID9 DERIVATIVE SU3 SU2 U1 ID4 FIELD SPIN 0 SU3 3 SU2 2 U1 7 / 2 ID8 CONTRACTIONS LORENTZ ID5 ID4 SU3 ID9 ID8 SU2 ID9 ID8 + DERIVATIVE SU3 U1 ID7 FIELD SPIN 0 SU3 3 U1 - 5 / 7 DAGGER ID5 DERIVATIVE SU3 U1 ID6 FIELD SPIN 0 SU3 - 3 U1 5 / 7 ID3 CONTRACTIONS LORENTZ ID7 ID6 SU3 ID5 ID3 - COMMUTATOR_A DERIVATIVE SU2 ID0 COMMUTATOR_B DERIVATIVE SU2 ID5 COMMUTATOR_A DERIVATIVE SU2 ID9 COMMUTATOR_B DERIVATIVE SU2 ID6 CONTRACTIONS LORENTZ ID0 ID9 LORENTZ ID5 ID6 - COMMUTATOR_A DERIVATIVE U1 ID6 COMMUTATOR_B DERIVATIVE U1 ID4 COMMUTATOR_A DERIVATIVE U1 ID2 COMMUTATOR_B DERIVATIVE U1 ID3 CONTRACTIONS LORENTZ ID6 ID2 LORENTZ ID4 ID3 - COMMUTATOR_A DERIVATIVE SU3 ID2 COMMUTATOR_B DERIVATIVE SU3 ID0 COMMUTATOR_A DERIVATIVE SU3 ID3 COMMUTATOR_B DERIVATIVE SU3 ID1 CONTRACTIONS LORENTZ ID2 ID3 LORENTZ ID0 ID1 + FIELD SPIN 0 SU2 2 U1 - 1 / 4 DAGGER ID3 FIELD SPIN 0 SU2 2 U1 1 / 4 ID2 CONTRACTIONS SU2 ID3 ID2 + FIELD SPIN 0 DAGGER ID8 FIELD SPIN 0 ID1 CONTRACTIONS + FIELD SPIN 0 SU3 - 3 SU2 2 U1 - 7 / 2 DAGGER ID3 FIELD SPIN 0 SU3 3 SU2 2 U1 7 / 2 ID7 CONTRACTIONS SU3 ID3 ID7 SU2 ID3 ID7 + FIELD SPIN 0 SU3 3 U1 - 5 / 7 DAGGER ID6 FIELD SPIN 0 SU3 - 3 U1 5 / 7 ID4 CONTRACTIONS SU3 ID6 ID4 [EOS]\n"
     ]
    }
   ],
   "source": [
    "example = example_scenario[\"Lagrangian\"].values[0]\n",
    "example_output = \"[SOS] \" + example + \" [EOS]\"\n",
    "print(\"Output   = \",example_output)\n",
    "encoded_output = hf_tokenizer.encode(example_output)\n",
    "print(\"token_id = \", encoded_output)\n",
    "decoded_output = hf_tokenizer.decode(encoded_output)\n",
    "print(\"decoded  = \", decoded_output)\n"
   ]
  },
  {
   "cell_type": "code",
   "execution_count": 54,
   "id": "3e8dc620",
   "metadata": {},
   "outputs": [
    {
     "name": "stdout",
     "output_type": "stream",
     "text": [
      "First five terms: \n",
      "term 0 :  + FIELD SPIN 0 SU2 2 U1 1 / 4 ID0 FIELD SPIN 0 SU2 2 U1 - 1 / 4 DAGGER ID8 FIELD SPIN 0 ID5 CONTRACTIONS SU2 ID0 ID8\n",
      "term 1 :  + FIELD SPIN 0 ID7 FIELD SPIN 0 SU3 3 SU2 2 U1 7 / 2 ID2 FIELD SPIN 0 SU3 - 3 SU2 2 U1 - 7 / 2 DAGGER ID1 CONTRACTIONS SU3 ID2 ID1 ID1 SU2 ID2 ID1\n",
      "term 2 :  + FIELD SPIN 0 ID2 FIELD SPIN 0 SU3 - 3 U1 5 / 7 ID7 FIELD SPIN 0 SU3 3 U1 - 5 / 7 DAGGER ID4 CONTRACTIONS SU3 ID7 ID7 ID4\n",
      "term 3 :  + FIELD SPIN 0 ID5 FIELD SPIN 0 ID1 FIELD SPIN 0 ID4\n",
      "term 4 :  + FIELD SPIN 0 SU2 2 U1 1 / 4 ID0 FIELD SPIN 0 SU2 2 U1 - 1 / 4 DAGGER ID7 FIELD SPIN 0 ID1 FIELD SPIN 0 ID2 CONTRACTIONS SU2 ID0 ID7\n"
     ]
    }
   ],
   "source": [
    "# show the terms \n",
    "separated_terms = le.sep_terms(decoded_output)\n",
    "\n",
    "print(\"First five terms: \")\n",
    "for i in range(5):\n",
    "    print(f\"term {i} : \",\" \".join(separated_terms[i]))\n",
    "lag_truth_1 =  \" \".join([\" \".join(i) for i in separated_terms])"
   ]
  },
  {
   "cell_type": "code",
   "execution_count": 55,
   "id": "cd382b7d",
   "metadata": {},
   "outputs": [
    {
     "name": "stdout",
     "output_type": "stream",
     "text": [
      "First five terms after reordering: \n",
      "term 0 :  + FIELD SPIN 0 ID7 FIELD SPIN 0 SU3 3 SU2 2 U1 7 / 2 ID2 FIELD SPIN 0 SU3 - 3 SU2 2 U1 - 7 / 2 DAGGER ID1 CONTRACTIONS SU3 ID2 ID1 ID1 SU2 ID2 ID1\n",
      "term 1 :  + FIELD SPIN 0 SU2 2 U1 1 / 4 ID0 FIELD SPIN 0 SU2 2 U1 - 1 / 4 DAGGER ID8 FIELD SPIN 0 ID5 CONTRACTIONS SU2 ID0 ID8\n",
      "term 2 :  + FIELD SPIN 0 ID2 FIELD SPIN 0 SU3 - 3 U1 5 / 7 ID7 FIELD SPIN 0 SU3 3 U1 - 5 / 7 DAGGER ID4 CONTRACTIONS SU3 ID7 ID7 ID4\n",
      "term 3 :  + FIELD SPIN 0 ID5 FIELD SPIN 0 ID1 FIELD SPIN 0 ID4\n",
      "term 4 :  + FIELD SPIN 0 SU2 2 U1 1 / 4 ID0 FIELD SPIN 0 SU2 2 U1 - 1 / 4 DAGGER ID7 FIELD SPIN 0 ID1 FIELD SPIN 0 ID2 CONTRACTIONS SU2 ID0 ID7\n"
     ]
    }
   ],
   "source": [
    "# reorder the first and second terms using list \n",
    "separated_terms[0],separated_terms[1] = separated_terms[1],separated_terms[0]\n",
    "\n",
    "print(\"First five terms after reordering: \")\n",
    "for i in range(5):\n",
    "    print(f\"term {i} : \",\" \".join(separated_terms[i]))\n",
    "\n",
    "lag_truth_2 =  \" \".join([\" \".join(i) for i in separated_terms])\n"
   ]
  },
  {
   "cell_type": "code",
   "execution_count": 56,
   "id": "4582290c",
   "metadata": {},
   "outputs": [
    {
     "name": "stdout",
     "output_type": "stream",
     "text": [
      "lag_truth_1 :  + FIELD SPIN 0 SU2 2 U1 1 / 4 ID0 FIELD SPIN 0 SU2 2 U1 - 1 / 4 DAGGER ID8 FIELD SPIN 0 ID5 CONTRACTIONS SU2 ID0 ID8 + FIELD SPIN 0 ID7 FIELD SPIN 0 SU3 3 SU2 2 U1 7 / 2 ID2 FIELD SPIN 0 SU3 - 3 SU2 2 U1 - 7 / 2 DAGGER ID1 CONTRACTIONS SU3 ID2 ID1 ID1 SU2 ID2 ID1 + FIELD SPIN 0 ID2 FIELD SPIN 0 SU3 - 3 U1 5 / 7 ID7 FIELD SPIN 0 SU3 3 U1 - 5 / 7 DAGGER ID4 CONTRACTIONS SU3 ID7 ID7 ID4 + FIELD SPIN 0 ID5 FIELD SPIN 0 ID1 FIELD SPIN 0 ID4 + FIELD SPIN 0 SU2 2 U1 1 / 4 ID0 FIELD SPIN 0 SU2 2 U1 - 1 / 4 DAGGER ID7 FIELD SPIN 0 ID1 FIELD SPIN 0 ID2 CONTRACTIONS SU2 ID0 ID7 + FIELD SPIN 0 SU2 2 U1 1 / 4 ID2 FIELD SPIN 0 SU2 2 U1 - 1 / 4 DAGGER ID3 FIELD SPIN 0 SU3 3 SU2 2 U1 7 / 2 ID0 FIELD SPIN 0 SU3 - 3 SU2 2 U1 - 7 / 2 DAGGER ID9 CONTRACTIONS SU3 ID0 ID9 ID9 SU2 ID2 ID0 SU2 ID3 ID9 + FIELD SPIN 0 SU2 2 U1 1 / 4 ID1 FIELD SPIN 0 SU2 2 U1 - 1 / 4 DAGGER ID4 FIELD SPIN 0 SU3 3 SU2 2 U1 7 / 2 ID2 FIELD SPIN 0 SU3 - 3 SU2 2 U1 - 7 / 2 DAGGER ID6 CONTRACTIONS SU3 ID2 ID6 ID6 SU2 ID1 ID4 SU2 ID2 ID6 + FIELD SPIN 0 SU2 2 U1 1 / 4 ID9 FIELD SPIN 0 SU2 2 U1 - 1 / 4 DAGGER ID3 FIELD SPIN 0 SU3 - 3 U1 5 / 7 ID5 FIELD SPIN 0 SU3 3 U1 - 5 / 7 DAGGER ID7 CONTRACTIONS SU3 ID5 ID5 ID7 SU2 ID9 ID3 + FIELD SPIN 0 SU2 2 U1 1 / 4 ID2 FIELD SPIN 0 SU2 2 U1 1 / 4 ID4 FIELD SPIN 0 SU2 2 U1 - 1 / 4 DAGGER ID5 FIELD SPIN 0 SU2 2 U1 - 1 / 4 DAGGER ID8 CONTRACTIONS SU2 ID2 ID5 SU2 ID4 ID8 + FIELD SPIN 0 SU2 2 U1 1 / 4 ID0 FIELD SPIN 0 SU2 2 U1 1 / 4 ID1 FIELD SPIN 0 SU2 2 U1 - 1 / 4 DAGGER ID4 FIELD SPIN 0 SU2 2 U1 - 1 / 4 DAGGER ID8 CONTRACTIONS SU2 ID0 ID1 SU2 ID4 ID8 + FIELD SPIN 0 ID3 FIELD SPIN 0 ID4 FIELD SPIN 0 SU3 3 SU2 2 U1 7 / 2 ID2 FIELD SPIN 0 SU3 - 3 SU2 2 U1 - 7 / 2 DAGGER ID5 CONTRACTIONS SU3 ID2 ID5 ID5 SU2 ID2 ID5 + FIELD SPIN 0 ID9 FIELD SPIN 0 ID3 FIELD SPIN 0 SU3 - 3 U1 5 / 7 ID4 FIELD SPIN 0 SU3 3 U1 - 5 / 7 DAGGER ID1 CONTRACTIONS SU3 ID4 ID4 ID1 + FIELD SPIN 0 ID3 FIELD SPIN 0 ID0 FIELD SPIN 0 ID7 FIELD SPIN 0 ID9 + FIELD SPIN 0 SU3 3 SU2 2 U1 7 / 2 ID0 FIELD SPIN 0 SU3 - 3 SU2 2 U1 - 7 / 2 DAGGER ID3 FIELD SPIN 0 SU3 - 3 U1 5 / 7 ID6 FIELD SPIN 0 SU3 3 U1 - 5 / 7 DAGGER ID5 CONTRACTIONS SU3 ID0 ID3 ID6 SU3 ID3 ID6 ID5 SU2 ID0 ID3 + FIELD SPIN 0 SU3 3 SU2 2 U1 7 / 2 ID5 FIELD SPIN 0 SU3 - 3 SU2 2 U1 - 7 / 2 DAGGER ID4 FIELD SPIN 0 SU3 - 3 U1 5 / 7 ID9 FIELD SPIN 0 SU3 3 U1 - 5 / 7 DAGGER ID3 CONTRACTIONS SU3 ID5 ID4 ID4 SU3 ID9 ID9 ID3 SU2 ID5 ID4 + FIELD SPIN 0 SU3 3 SU2 2 U1 7 / 2 ID7 FIELD SPIN 0 SU3 3 SU2 2 U1 7 / 2 ID5 FIELD SPIN 0 SU3 - 3 SU2 2 U1 - 7 / 2 DAGGER ID1 FIELD SPIN 0 SU3 - 3 SU2 2 U1 - 7 / 2 DAGGER ID9 CONTRACTIONS SU3 ID7 ID1 ID1 SU3 ID5 ID9 ID9 SU2 ID7 ID1 SU2 ID5 ID9 + FIELD SPIN 0 SU3 3 SU2 2 U1 7 / 2 ID1 FIELD SPIN 0 SU3 3 SU2 2 U1 7 / 2 ID0 FIELD SPIN 0 SU3 - 3 SU2 2 U1 - 7 / 2 DAGGER ID4 FIELD SPIN 0 SU3 - 3 SU2 2 U1 - 7 / 2 DAGGER ID9 CONTRACTIONS SU3 ID1 ID4 ID4 SU3 ID0 ID9 ID9 SU2 ID1 ID0 SU2 ID4 ID9 + FIELD SPIN 0 SU3 3 SU2 2 U1 7 / 2 ID3 FIELD SPIN 0 SU3 3 SU2 2 U1 7 / 2 ID9 FIELD SPIN 0 SU3 - 3 SU2 2 U1 - 7 / 2 DAGGER ID5 FIELD SPIN 0 SU3 - 3 SU2 2 U1 - 7 / 2 DAGGER ID2 CONTRACTIONS SU3 ID3 ID9 ID5 SU3 ID5 ID2 ID2 SU2 ID3 ID5 SU2 ID9 ID2 + FIELD SPIN 0 SU3 3 SU2 2 U1 7 / 2 ID2 FIELD SPIN 0 SU3 3 SU2 2 U1 7 / 2 ID7 FIELD SPIN 0 SU3 - 3 SU2 2 U1 - 7 / 2 DAGGER ID8 FIELD SPIN 0 SU3 - 3 SU2 2 U1 - 7 / 2 DAGGER ID0 CONTRACTIONS SU3 ID2 ID7 ID8 SU3 ID8 ID0 ID0 SU2 ID2 ID7 SU2 ID8 ID0 + FIELD SPIN 0 SU3 - 3 U1 5 / 7 ID7 FIELD SPIN 0 SU3 - 3 U1 5 / 7 ID0 FIELD SPIN 0 SU3 3 U1 - 5 / 7 DAGGER ID1 FIELD SPIN 0 SU3 3 U1 - 5 / 7 DAGGER ID8 CONTRACTIONS SU3 ID7 ID7 ID1 SU3 ID0 ID0 ID8 + FIELD SPIN 0 SU3 - 3 U1 5 / 7 ID0 FIELD SPIN 0 SU3 - 3 U1 5 / 7 ID8 FIELD SPIN 0 SU3 3 U1 - 5 / 7 DAGGER ID1 FIELD SPIN 0 SU3 3 U1 - 5 / 7 DAGGER ID4 CONTRACTIONS SU3 ID0 ID0 ID8 SU3 ID8 ID1 ID4 + DERIVATIVE SU2 U1 ID3 FIELD SPIN 0 SU2 2 U1 - 1 / 4 DAGGER ID8 DERIVATIVE SU2 U1 ID9 FIELD SPIN 0 SU2 2 U1 1 / 4 ID6 CONTRACTIONS LORENTZ ID3 ID9 SU2 ID8 ID6 + i FIELD SPIN 1 / 2 SU3 3 SU2 3 U1 - 3 / 4 HEL 1 / 2 DAGGER ID7 SIGMA_BAR ID8 DERIVATIVE SU3 SU2 U1 ID4 FIELD SPIN 1 / 2 SU3 - 3 SU2 3 U1 3 / 4 HEL - 1 / 2 ID3 CONTRACTIONS LORENTZ ID8 ID4 LORENTZ ID8 ID7 ID3 SU3 ID7 ID3 SU2 ID7 ID3 + DERIVATIVE ID9 FIELD SPIN 0 DAGGER ID3 DERIVATIVE ID4 FIELD SPIN 0 ID2 CONTRACTIONS LORENTZ ID9 ID4 + DERIVATIVE SU3 SU2 U1 ID5 FIELD SPIN 0 SU3 - 3 SU2 2 U1 - 7 / 2 DAGGER ID9 DERIVATIVE SU3 SU2 U1 ID4 FIELD SPIN 0 SU3 3 SU2 2 U1 7 / 2 ID8 CONTRACTIONS LORENTZ ID5 ID4 SU3 ID9 ID8 SU2 ID9 ID8 + DERIVATIVE SU3 U1 ID7 FIELD SPIN 0 SU3 3 U1 - 5 / 7 DAGGER ID5 DERIVATIVE SU3 U1 ID6 FIELD SPIN 0 SU3 - 3 U1 5 / 7 ID3 CONTRACTIONS LORENTZ ID7 ID6 SU3 ID5 ID3 - COMMUTATOR_A DERIVATIVE SU2 ID0 COMMUTATOR_B DERIVATIVE SU2 ID5 COMMUTATOR_A DERIVATIVE SU2 ID9 COMMUTATOR_B DERIVATIVE SU2 ID6 CONTRACTIONS LORENTZ ID0 ID9 LORENTZ ID5 ID6 - COMMUTATOR_A DERIVATIVE U1 ID6 COMMUTATOR_B DERIVATIVE U1 ID4 COMMUTATOR_A DERIVATIVE U1 ID2 COMMUTATOR_B DERIVATIVE U1 ID3 CONTRACTIONS LORENTZ ID6 ID2 LORENTZ ID4 ID3 - COMMUTATOR_A DERIVATIVE SU3 ID2 COMMUTATOR_B DERIVATIVE SU3 ID0 COMMUTATOR_A DERIVATIVE SU3 ID3 COMMUTATOR_B DERIVATIVE SU3 ID1 CONTRACTIONS LORENTZ ID2 ID3 LORENTZ ID0 ID1 + FIELD SPIN 0 SU2 2 U1 - 1 / 4 DAGGER ID3 FIELD SPIN 0 SU2 2 U1 1 / 4 ID2 CONTRACTIONS SU2 ID3 ID2 + FIELD SPIN 0 DAGGER ID8 FIELD SPIN 0 ID1 CONTRACTIONS + FIELD SPIN 0 SU3 - 3 SU2 2 U1 - 7 / 2 DAGGER ID3 FIELD SPIN 0 SU3 3 SU2 2 U1 7 / 2 ID7 CONTRACTIONS SU3 ID3 ID7 SU2 ID3 ID7 + FIELD SPIN 0 SU3 3 U1 - 5 / 7 DAGGER ID6 FIELD SPIN 0 SU3 - 3 U1 5 / 7 ID4 CONTRACTIONS SU3 ID6 ID4\n",
      "lag_truth_2 :  + FIELD SPIN 0 ID7 FIELD SPIN 0 SU3 3 SU2 2 U1 7 / 2 ID2 FIELD SPIN 0 SU3 - 3 SU2 2 U1 - 7 / 2 DAGGER ID1 CONTRACTIONS SU3 ID2 ID1 ID1 SU2 ID2 ID1 + FIELD SPIN 0 SU2 2 U1 1 / 4 ID0 FIELD SPIN 0 SU2 2 U1 - 1 / 4 DAGGER ID8 FIELD SPIN 0 ID5 CONTRACTIONS SU2 ID0 ID8 + FIELD SPIN 0 ID2 FIELD SPIN 0 SU3 - 3 U1 5 / 7 ID7 FIELD SPIN 0 SU3 3 U1 - 5 / 7 DAGGER ID4 CONTRACTIONS SU3 ID7 ID7 ID4 + FIELD SPIN 0 ID5 FIELD SPIN 0 ID1 FIELD SPIN 0 ID4 + FIELD SPIN 0 SU2 2 U1 1 / 4 ID0 FIELD SPIN 0 SU2 2 U1 - 1 / 4 DAGGER ID7 FIELD SPIN 0 ID1 FIELD SPIN 0 ID2 CONTRACTIONS SU2 ID0 ID7 + FIELD SPIN 0 SU2 2 U1 1 / 4 ID2 FIELD SPIN 0 SU2 2 U1 - 1 / 4 DAGGER ID3 FIELD SPIN 0 SU3 3 SU2 2 U1 7 / 2 ID0 FIELD SPIN 0 SU3 - 3 SU2 2 U1 - 7 / 2 DAGGER ID9 CONTRACTIONS SU3 ID0 ID9 ID9 SU2 ID2 ID0 SU2 ID3 ID9 + FIELD SPIN 0 SU2 2 U1 1 / 4 ID1 FIELD SPIN 0 SU2 2 U1 - 1 / 4 DAGGER ID4 FIELD SPIN 0 SU3 3 SU2 2 U1 7 / 2 ID2 FIELD SPIN 0 SU3 - 3 SU2 2 U1 - 7 / 2 DAGGER ID6 CONTRACTIONS SU3 ID2 ID6 ID6 SU2 ID1 ID4 SU2 ID2 ID6 + FIELD SPIN 0 SU2 2 U1 1 / 4 ID9 FIELD SPIN 0 SU2 2 U1 - 1 / 4 DAGGER ID3 FIELD SPIN 0 SU3 - 3 U1 5 / 7 ID5 FIELD SPIN 0 SU3 3 U1 - 5 / 7 DAGGER ID7 CONTRACTIONS SU3 ID5 ID5 ID7 SU2 ID9 ID3 + FIELD SPIN 0 SU2 2 U1 1 / 4 ID2 FIELD SPIN 0 SU2 2 U1 1 / 4 ID4 FIELD SPIN 0 SU2 2 U1 - 1 / 4 DAGGER ID5 FIELD SPIN 0 SU2 2 U1 - 1 / 4 DAGGER ID8 CONTRACTIONS SU2 ID2 ID5 SU2 ID4 ID8 + FIELD SPIN 0 SU2 2 U1 1 / 4 ID0 FIELD SPIN 0 SU2 2 U1 1 / 4 ID1 FIELD SPIN 0 SU2 2 U1 - 1 / 4 DAGGER ID4 FIELD SPIN 0 SU2 2 U1 - 1 / 4 DAGGER ID8 CONTRACTIONS SU2 ID0 ID1 SU2 ID4 ID8 + FIELD SPIN 0 ID3 FIELD SPIN 0 ID4 FIELD SPIN 0 SU3 3 SU2 2 U1 7 / 2 ID2 FIELD SPIN 0 SU3 - 3 SU2 2 U1 - 7 / 2 DAGGER ID5 CONTRACTIONS SU3 ID2 ID5 ID5 SU2 ID2 ID5 + FIELD SPIN 0 ID9 FIELD SPIN 0 ID3 FIELD SPIN 0 SU3 - 3 U1 5 / 7 ID4 FIELD SPIN 0 SU3 3 U1 - 5 / 7 DAGGER ID1 CONTRACTIONS SU3 ID4 ID4 ID1 + FIELD SPIN 0 ID3 FIELD SPIN 0 ID0 FIELD SPIN 0 ID7 FIELD SPIN 0 ID9 + FIELD SPIN 0 SU3 3 SU2 2 U1 7 / 2 ID0 FIELD SPIN 0 SU3 - 3 SU2 2 U1 - 7 / 2 DAGGER ID3 FIELD SPIN 0 SU3 - 3 U1 5 / 7 ID6 FIELD SPIN 0 SU3 3 U1 - 5 / 7 DAGGER ID5 CONTRACTIONS SU3 ID0 ID3 ID6 SU3 ID3 ID6 ID5 SU2 ID0 ID3 + FIELD SPIN 0 SU3 3 SU2 2 U1 7 / 2 ID5 FIELD SPIN 0 SU3 - 3 SU2 2 U1 - 7 / 2 DAGGER ID4 FIELD SPIN 0 SU3 - 3 U1 5 / 7 ID9 FIELD SPIN 0 SU3 3 U1 - 5 / 7 DAGGER ID3 CONTRACTIONS SU3 ID5 ID4 ID4 SU3 ID9 ID9 ID3 SU2 ID5 ID4 + FIELD SPIN 0 SU3 3 SU2 2 U1 7 / 2 ID7 FIELD SPIN 0 SU3 3 SU2 2 U1 7 / 2 ID5 FIELD SPIN 0 SU3 - 3 SU2 2 U1 - 7 / 2 DAGGER ID1 FIELD SPIN 0 SU3 - 3 SU2 2 U1 - 7 / 2 DAGGER ID9 CONTRACTIONS SU3 ID7 ID1 ID1 SU3 ID5 ID9 ID9 SU2 ID7 ID1 SU2 ID5 ID9 + FIELD SPIN 0 SU3 3 SU2 2 U1 7 / 2 ID1 FIELD SPIN 0 SU3 3 SU2 2 U1 7 / 2 ID0 FIELD SPIN 0 SU3 - 3 SU2 2 U1 - 7 / 2 DAGGER ID4 FIELD SPIN 0 SU3 - 3 SU2 2 U1 - 7 / 2 DAGGER ID9 CONTRACTIONS SU3 ID1 ID4 ID4 SU3 ID0 ID9 ID9 SU2 ID1 ID0 SU2 ID4 ID9 + FIELD SPIN 0 SU3 3 SU2 2 U1 7 / 2 ID3 FIELD SPIN 0 SU3 3 SU2 2 U1 7 / 2 ID9 FIELD SPIN 0 SU3 - 3 SU2 2 U1 - 7 / 2 DAGGER ID5 FIELD SPIN 0 SU3 - 3 SU2 2 U1 - 7 / 2 DAGGER ID2 CONTRACTIONS SU3 ID3 ID9 ID5 SU3 ID5 ID2 ID2 SU2 ID3 ID5 SU2 ID9 ID2 + FIELD SPIN 0 SU3 3 SU2 2 U1 7 / 2 ID2 FIELD SPIN 0 SU3 3 SU2 2 U1 7 / 2 ID7 FIELD SPIN 0 SU3 - 3 SU2 2 U1 - 7 / 2 DAGGER ID8 FIELD SPIN 0 SU3 - 3 SU2 2 U1 - 7 / 2 DAGGER ID0 CONTRACTIONS SU3 ID2 ID7 ID8 SU3 ID8 ID0 ID0 SU2 ID2 ID7 SU2 ID8 ID0 + FIELD SPIN 0 SU3 - 3 U1 5 / 7 ID7 FIELD SPIN 0 SU3 - 3 U1 5 / 7 ID0 FIELD SPIN 0 SU3 3 U1 - 5 / 7 DAGGER ID1 FIELD SPIN 0 SU3 3 U1 - 5 / 7 DAGGER ID8 CONTRACTIONS SU3 ID7 ID7 ID1 SU3 ID0 ID0 ID8 + FIELD SPIN 0 SU3 - 3 U1 5 / 7 ID0 FIELD SPIN 0 SU3 - 3 U1 5 / 7 ID8 FIELD SPIN 0 SU3 3 U1 - 5 / 7 DAGGER ID1 FIELD SPIN 0 SU3 3 U1 - 5 / 7 DAGGER ID4 CONTRACTIONS SU3 ID0 ID0 ID8 SU3 ID8 ID1 ID4 + DERIVATIVE SU2 U1 ID3 FIELD SPIN 0 SU2 2 U1 - 1 / 4 DAGGER ID8 DERIVATIVE SU2 U1 ID9 FIELD SPIN 0 SU2 2 U1 1 / 4 ID6 CONTRACTIONS LORENTZ ID3 ID9 SU2 ID8 ID6 + i FIELD SPIN 1 / 2 SU3 3 SU2 3 U1 - 3 / 4 HEL 1 / 2 DAGGER ID7 SIGMA_BAR ID8 DERIVATIVE SU3 SU2 U1 ID4 FIELD SPIN 1 / 2 SU3 - 3 SU2 3 U1 3 / 4 HEL - 1 / 2 ID3 CONTRACTIONS LORENTZ ID8 ID4 LORENTZ ID8 ID7 ID3 SU3 ID7 ID3 SU2 ID7 ID3 + DERIVATIVE ID9 FIELD SPIN 0 DAGGER ID3 DERIVATIVE ID4 FIELD SPIN 0 ID2 CONTRACTIONS LORENTZ ID9 ID4 + DERIVATIVE SU3 SU2 U1 ID5 FIELD SPIN 0 SU3 - 3 SU2 2 U1 - 7 / 2 DAGGER ID9 DERIVATIVE SU3 SU2 U1 ID4 FIELD SPIN 0 SU3 3 SU2 2 U1 7 / 2 ID8 CONTRACTIONS LORENTZ ID5 ID4 SU3 ID9 ID8 SU2 ID9 ID8 + DERIVATIVE SU3 U1 ID7 FIELD SPIN 0 SU3 3 U1 - 5 / 7 DAGGER ID5 DERIVATIVE SU3 U1 ID6 FIELD SPIN 0 SU3 - 3 U1 5 / 7 ID3 CONTRACTIONS LORENTZ ID7 ID6 SU3 ID5 ID3 - COMMUTATOR_A DERIVATIVE SU2 ID0 COMMUTATOR_B DERIVATIVE SU2 ID5 COMMUTATOR_A DERIVATIVE SU2 ID9 COMMUTATOR_B DERIVATIVE SU2 ID6 CONTRACTIONS LORENTZ ID0 ID9 LORENTZ ID5 ID6 - COMMUTATOR_A DERIVATIVE U1 ID6 COMMUTATOR_B DERIVATIVE U1 ID4 COMMUTATOR_A DERIVATIVE U1 ID2 COMMUTATOR_B DERIVATIVE U1 ID3 CONTRACTIONS LORENTZ ID6 ID2 LORENTZ ID4 ID3 - COMMUTATOR_A DERIVATIVE SU3 ID2 COMMUTATOR_B DERIVATIVE SU3 ID0 COMMUTATOR_A DERIVATIVE SU3 ID3 COMMUTATOR_B DERIVATIVE SU3 ID1 CONTRACTIONS LORENTZ ID2 ID3 LORENTZ ID0 ID1 + FIELD SPIN 0 SU2 2 U1 - 1 / 4 DAGGER ID3 FIELD SPIN 0 SU2 2 U1 1 / 4 ID2 CONTRACTIONS SU2 ID3 ID2 + FIELD SPIN 0 DAGGER ID8 FIELD SPIN 0 ID1 CONTRACTIONS + FIELD SPIN 0 SU3 - 3 SU2 2 U1 - 7 / 2 DAGGER ID3 FIELD SPIN 0 SU3 3 SU2 2 U1 7 / 2 ID7 CONTRACTIONS SU3 ID3 ID7 SU2 ID3 ID7 + FIELD SPIN 0 SU3 3 U1 - 5 / 7 DAGGER ID6 FIELD SPIN 0 SU3 - 3 U1 5 / 7 ID4 CONTRACTIONS SU3 ID6 ID4\n"
     ]
    }
   ],
   "source": [
    "print(\"lag_truth_1 : \",lag_truth_1)\n",
    "print(\"lag_truth_2 : \",lag_truth_2)"
   ]
  },
  {
   "cell_type": "code",
   "execution_count": 63,
   "id": "aa1e60b1",
   "metadata": {},
   "outputs": [
    {
     "name": "stdout",
     "output_type": "stream",
     "text": [
      "Inputs:\n",
      " [0, 22, 36, 9, 37, 6, 39, 5, 4, 11, 22, 36, 5, 4, 6, 38, 7, 10, 37, 10, 39, 10, 4, 11, 23, 7, 5, 4, 6, 22, 36, 9, 22, 36, 9, 38, 10, 37, 6, 39, 14, 4, 6, 22, 36, 9, 38, 7, 10, 39, 12, 4, 14, 1]\n",
      "\n",
      "Outputs:\n",
      "labels_1:  tensor([[ 0,  8, 22,  ..., 30, 28,  1]])\n",
      "labels_2:  tensor([[ 0,  8, 22,  ..., 30, 28,  1]])\n"
     ]
    }
   ],
   "source": [
    "print(\"Inputs:\\n\", encoded_input)\n",
    "print()\n",
    "\n",
    "print(\"Outputs:\",)\n",
    "targets_1 = hf_tokenizer(\"[SOS] \" + lag_truth_1 + \" [EOS]\", return_tensors=\"pt\", truncation=True, padding=True)\n",
    "targets_2 = hf_tokenizer(\"[SOS] \" + lag_truth_2 + \" [EOS]\", return_tensors=\"pt\", truncation=True, padding=True)\n",
    "\n",
    "#print(\"targets_1: \", targets_1)\n",
    "labels_1 = targets_1[\"input_ids\"]\n",
    "#print(\"targets_2: \", targets_2)\n",
    "labels_2 = targets_2[\"input_ids\"]\n",
    "\n",
    "\n",
    "#print(\"inputs: \", hf_tokenizer.decode(encoded_input))\n",
    "print(\"labels_1: \", labels_1)\n",
    "#print(\"labels_1: \", hf_tokenizer.decode(labels_1[0]))\n",
    "print(\"labels_2: \", labels_2)\n",
    "#print(\"labels_2: \", hf_tokenizer.decode(labels_2[0]))\n"
   ]
  },
  {
   "cell_type": "markdown",
   "id": "32ffd64d",
   "metadata": {},
   "source": [
    "Generate the Lagrangians and calculate the loss"
   ]
  },
  {
   "cell_type": "code",
   "execution_count": 16,
   "id": "07006038",
   "metadata": {},
   "outputs": [
    {
     "name": "stdout",
     "output_type": "stream",
     "text": [
      "loss with labels_1: tensor(0.1809)\n",
      "loss with labels_2: tensor(0.2004)\n"
     ]
    }
   ],
   "source": [
    "\n",
    "\n",
    "with torch.no_grad():\n",
    "    model.eval()\n",
    "    # loss with labels_1 and labels_2\n",
    "    outputs_1 = model(input_ids=torch.tensor(encoded_input).unsqueeze(0), labels=labels_1)\n",
    "    print(\"loss with labels_1:\", outputs_1.loss)\n",
    "    \n",
    "    # Get the prediction during training\n",
    "    predicted_token_ids_1 = torch.argmax(outputs_1.logits, dim=-1)  # Shape: [batch_size, seq_len]\n",
    "    predicted_string_1 = hf_tokenizer.decode(predicted_token_ids_1[0], skip_special_tokens=True)\n",
    "    \n",
    "    outputs_2 = model(input_ids=torch.tensor(encoded_input).unsqueeze(0), labels=labels_2)\n",
    "    print(\"loss with labels_2:\", outputs_2.loss)\n",
    "\n",
    "    # Get the prediction during training\n",
    "    predicted_token_ids_2 = torch.argmax(outputs_2.logits, dim=-1)  # Shape: [batch_size, seq_len]\n",
    "    predicted_string_2 = hf_tokenizer.decode(predicted_token_ids_2[0], skip_special_tokens=True)\n",
    "\n",
    "    # Get the prediction during inference\n",
    "    generated_id     = model.generate(input_ids=torch.tensor(encoded_input).unsqueeze(0), max_length=len(labels_1[0]))\n",
    "    predicted_string = hf_tokenizer.decode(generated_id[0], skip_special_tokens=True)\n",
    "    "
   ]
  },
  {
   "cell_type": "markdown",
   "id": "4c437825",
   "metadata": {},
   "source": [
    "### TAKEAWAY : LOSS IS NOT ORDER/PERMUTATION INVARIANT!"
   ]
  },
  {
   "cell_type": "markdown",
   "id": "911e3634",
   "metadata": {},
   "source": [
    "Calculate the score <br>\n",
    "<h2> [the score equation here]"
   ]
  },
  {
   "cell_type": "code",
   "execution_count": 18,
   "id": "bf03ce21",
   "metadata": {},
   "outputs": [
    {
     "name": "stdout",
     "output_type": "stream",
     "text": [
      "Prediction        :  + FIELD SPIN 0 SU2 2 U1 1 / 4 ID6 FIELD SPIN 0 SU2 2 U1 - 1 / 4 DAGGER ID7 FIELD SPIN 0 ID0 CONTRACTIONS SU2 ID6 ID7 + FIELD SPIN 0 ID6 FIELD SPIN 0 SU3 3 SU2 2 U1 7 / 2 ID7 FIELD SPIN 0 SU3 - 3 SU2 2 U1 - 7 / 2 DAGGER ID0 CONTRACTIONS SU3 ID7 ID0 ID0 SU2 ID7 ID0 + FIELD SPIN 0 ID0 FIELD SPIN 0 SU3 - 3 U1 5 / 7 ID7 FIELD SPIN 0 SU3 3 U1 - 5 / 7 DAGGER ID2 CONTRACTIONS SU3 ID7 ID7 ID2 + FIELD SPIN 0 ID9 FIELD SPIN 0 ID8 FIELD SPIN 0 ID2 + FIELD SPIN 0 SU2 2 U1 1 / 4 ID7 FIELD SPIN 0 SU2 2 U1 - 1 / 4 DAGGER ID6 FIELD SPIN 0 ID8 FIELD SPIN 0 ID0 CONTRACTIONS SU2 ID7 ID6 + FIELD SPIN 0 SU2 2 U1 1 / 4 ID7 FIELD SPIN 0 SU2 2 U1 - 1 / 4 DAGGER ID6 FIELD SPIN 0 SU3 3 SU2 2 U1 7 / 2 ID2 FIELD SPIN 0 SU3 - 3 SU2 2 U1 - 7 / 2 DAGGER ID0 CONTRACTIONS SU3 ID2 ID0 ID0 SU2 ID7 ID2 SU2 ID6 ID0 + FIELD SPIN 0 SU2 2 U1 1 / 4 ID7 FIELD SPIN 0 SU2 2 U1 - 1 / 4 DAGGER ID6 FIELD SPIN 0 SU3 3 SU2 2 U1 7 / 2 ID2 FIELD SPIN 0 SU3 - 3 SU2 2 U1 - 7 / 2 DAGGER ID0 CONTRACTIONS SU3 ID2 ID0 ID0 SU2 ID7 ID6 SU2 ID2 ID0 + FIELD SPIN 0 SU2 2 U1 1 / 4 ID7 FIELD SPIN 0 SU2 2 U1 - 1 / 4 DAGGER ID6 FIELD SPIN 0 SU3 - 3 U1 5 / 7 ID0 FIELD SPIN 0 SU3 3 U1 - 5 / 7 DAGGER ID2 CONTRACTIONS SU3 ID0 ID0 ID2 SU2 ID7 ID6 + FIELD SPIN 0 SU2 2 U1 1 / 4 ID2 FIELD SPIN 0 SU2 2 U1 1 / 4 ID4 FIELD SPIN 0 SU2 2 U1 - 1 / 4 DAGGER ID6 FIELD SPIN 0 SU2 2 U1 - 1 / 4 DAGGER ID0 CONTRACTIONS SU2 ID2 ID6 SU2 ID4 ID0 + FIELD SPIN 0 SU2 2 U1 1 / 4 ID7 FIELD SPIN 0 SU2 2 U1 1 / 4 ID6 FIELD SPIN 0 SU2 2 U1 - 1 / 4 DAGGER ID0 FIELD SPIN 0 SU2 2 U1 - 1 / 4 DAGGER ID1 CONTRACTIONS SU2 ID7 ID6 SU2 ID0 ID1 + FIELD SPIN 0 ID7 FIELD SPIN 0 ID6 FIELD SPIN 0 SU3 3 SU2 2 U1 7 / 2 ID8 FIELD SPIN 0 SU3 - 3 SU2 2 U1 - 7 / 2 DAGGER ID0 CONTRACTIONS SU3 ID8 ID0 ID0 SU2 ID8 ID0 + FIELD SPIN 0 ID7 FIELD SPIN 0 ID6 FIELD SPIN 0 SU3 - 3 U1 5 / 7 ID0 FIELD SPIN 0 SU3 3 U1 - 5 / 7 DAGGER ID2 CONTRACTIONS SU3 ID0 ID0 ID2 + FIELD SPIN 0 ID7 FIELD SPIN 0 ID6 FIELD SPIN 0 ID0 FIELD SPIN 0 ID2 + FIELD SPIN 0 SU3 3 SU2 2 U1 7 / 2 ID8 FIELD SPIN 0 SU3 - 3 SU2 2 U1 - 7 / 2 DAGGER ID4 FIELD SPIN 0 SU3 - 3 U1 5 / 7 ID6 FIELD SPIN 0 SU3 3 U1 - 5 / 7 DAGGER ID3 CONTRACTIONS SU3 ID8 ID4 ID6 SU3 ID4 ID6 ID3 SU2 ID8 ID4 + FIELD SPIN 0 SU3 3 SU2 2 U1 7 / 2 ID4 FIELD SPIN 0 SU3 - 3 SU2 2 U1 - 7 / 2 DAGGER ID8 FIELD SPIN 0 SU3 - 3 U1 5 / 7 ID6 FIELD SPIN 0 SU3 3 U1 - 5 / 7 DAGGER ID5 CONTRACTIONS SU3 ID4 ID8 ID8 SU3 ID6 ID6 ID5 SU2 ID4 ID8 + FIELD SPIN 0 SU3 3 SU2 2 U1 7 / 2 ID4 FIELD SPIN 0 SU3 3 SU2 2 U1 7 / 2 ID8 FIELD SPIN 0 SU3 - 3 SU2 2 U1 - 7 / 2 DAGGER ID6 FIELD SPIN 0 SU3 - 3 SU2 2 U1 - 7 / 2 DAGGER ID5 CONTRACTIONS SU3 ID4 ID6 ID6 SU3 ID8 ID5 ID5 SU2 ID4 ID6 SU2 ID8 ID5 + FIELD SPIN 0 SU3 3 SU2 2 U1 7 / 2 ID6 FIELD SPIN 0 SU3 3 SU2 2 U1 7 / 2 ID7 FIELD SPIN 0 SU3 - 3 SU2 2 U1 - 7 / 2 DAGGER ID0 FIELD SPIN 0 SU3 - 3 SU2 2 U1 - 7 / 2 DAGGER ID1 CONTRACTIONS SU3 ID6 ID0 ID0 SU3 ID7 ID1 ID1 SU2 ID6 ID7 SU2 ID0 ID1 + FIELD SPIN 0 SU3 3 SU2 2 U1 7 / 2 ID7 FIELD SPIN 0 SU3 3 SU2 2 U1 7 / 2 ID0 FIELD SPIN 0 SU3 - 3 SU2 2 U1 - 7 / 2 DAGGER ID9 FIELD SPIN 0 SU3 - 3 SU2 2 U1 - 7 / 2 DAGGER ID8 CONTRACTIONS SU3 ID7 ID0 ID9 SU3 ID9 ID8 ID8 SU2 ID7 ID9 SU2 ID0 ID8 + FIELD SPIN 0 SU3 3 SU2 2 U1 7 / 2 ID6 FIELD SPIN 0 SU3 3 SU2 2 U1 7 / 2 ID8 FIELD SPIN 0 SU3 - 3 SU2 2 U1 - 7 / 2 DAGGER ID7 FIELD SPIN 0 SU3 - 3 SU2 2 U1 - 7 / 2 DAGGER ID0 CONTRACTIONS SU3 ID6 ID8 ID7 SU3 ID7 ID0 ID0 SU2 ID6 ID8 SU2 ID7 ID0 + FIELD SPIN 0 SU3 - 3 U1 5 / 7 ID6 FIELD SPIN 0 SU3 - 3 U1 5 / 7 ID7 FIELD SPIN 0 SU3 3 U1 - 5 / 7 DAGGER ID0 FIELD SPIN 0 SU3 3 U1 - 5 / 7 DAGGER ID4 CONTRACTIONS SU3 ID6 ID6 ID0 SU3 ID7 ID7 ID4 + FIELD SPIN 0 SU3 - 3 U1 5 / 7 ID7 FIELD SPIN 0 SU3 - 3 U1 5 / 7 ID0 FIELD SPIN 0 SU3 3 U1 - 5 / 7 DAGGER ID4 FIELD SPIN 0 SU3 3 U1 - 5 / 7 DAGGER ID1 CONTRACTIONS SU3 ID7 ID7 ID0 SU3 ID0 ID4 ID1 + DERIVATIVE SU2 U1 ID7 FIELD SPIN 0 SU2 2 U1 - 1 / 4 DAGGER ID0 DERIVATIVE SU2 U1 ID6 FIELD SPIN 0 SU2 2 U1 1 / 4 ID1 CONTRACTIONS LORENTZ ID7 ID6 SU2 ID0 ID1 + i FIELD SPIN 1 / 2 SU3 3 SU2 3 U1 - 3 / 4 HEL 1 / 2 DAGGER ID7 SIGMA_BAR ID6 DERIVATIVE SU3 SU2 U1 ID0 FIELD SPIN 1 / 2 SU3 - 3 SU2 3 U1 3 / 4 HEL - 1 / 2 ID4 CONTRACTIONS LORENTZ ID6 ID0 LORENTZ ID6 ID7 ID4 SU3 ID7 ID4 SU2 ID7 ID4 + DERIVATIVE ID5 FIELD SPIN 0 DAGGER ID2 DERIVATIVE ID3 FIELD SPIN 0 ID7 CONTRACTIONS LORENTZ ID5 ID3 + DERIVATIVE SU3 SU2 U1 ID6 FIELD SPIN 0 SU3 - 3 SU2 2 U1 - 7 / 2 DAGGER ID7 DERIVATIVE SU3 SU2 U1 ID0 FIELD SPIN 0 SU3 3 SU2 2 U1 7 / 2 ID8 CONTRACTIONS LORENTZ ID6 ID0 SU3 ID7 ID8 SU2 ID7 ID8 + DERIVATIVE SU3 U1 ID6 FIELD SPIN 0 SU3 3 U1 - 5 / 7 DAGGER ID7 DERIVATIVE SU3 U1 ID0 FIELD SPIN 0 SU3 - 3 U1 5 / 7 ID4 CONTRACTIONS LORENTZ ID6 ID0 SU3 ID7 ID4 - COMMUTATOR_A DERIVATIVE SU2 ID6 COMMUTATOR_B DERIVATIVE SU2 ID7 COMMUTATOR_A DERIVATIVE SU2 ID0 COMMUTATOR_B DERIVATIVE SU2 ID4 CONTRACTIONS LORENTZ ID6 ID0 LORENTZ ID7 ID4 - COMMUTATOR_A DERIVATIVE U1 ID7 COMMUTATOR_B DERIVATIVE U1 ID0 COMMUTATOR_A DERIVATIVE U1 ID4 COMMUTATOR_B DERIVATIVE U1 ID9 CONTRACTIONS LORENTZ ID7 ID4 LORENTZ ID0 ID9 - COMMUTATOR_A DERIVATIVE SU3 ID7 COMMUTATOR_B DERIVATIVE SU3 ID0 COMMUTATOR_A DERIVATIVE SU3 ID9 COMMUTATOR_B DERIVATIVE SU3 ID8 CONTRACTIONS LORENTZ ID7 ID9 LORENTZ ID0 ID8 + FIELD SPIN 0 SU2 2 U1 - 1 / 4 DAGGER ID7 FIELD SPIN 0 SU2 2 U1 1 / 4 ID6 CONTRACTIONS SU2 ID7 ID6 + FIELD SPIN 0 DAGGER ID7 FIELD SPIN 0 ID6 CONTRACTIONS + FIELD SPIN 0 SU3 - 3 SU2 2 U1 - 7 / 2 DAGGER ID7 FIELD SPIN 0 SU3 3 SU2 2 U1 7 / 2 ID6 CONTRACTIONS SU3 ID7 ID6 SU2 ID7 ID6 + FIELD SPIN 0 SU3 3 U1 - 5 / 7 DAGGER ID0 FIELD SPIN 0 SU3 - 3 U1 5 / 7 ID4 CONTRACTIONS SU3 ID0\n",
      "\n",
      "Truth_1           :  + FIELD SPIN 0 SU2 2 U1 1 / 4 ID0 FIELD SPIN 0 SU2 2 U1 - 1 / 4 DAGGER ID8 FIELD SPIN 0 ID5 CONTRACTIONS SU2 ID0 ID8 + FIELD SPIN 0 ID7 FIELD SPIN 0 SU3 3 SU2 2 U1 7 / 2 ID2 FIELD SPIN 0 SU3 - 3 SU2 2 U1 - 7 / 2 DAGGER ID1 CONTRACTIONS SU3 ID2 ID1 ID1 SU2 ID2 ID1 + FIELD SPIN 0 ID2 FIELD SPIN 0 SU3 - 3 U1 5 / 7 ID7 FIELD SPIN 0 SU3 3 U1 - 5 / 7 DAGGER ID4 CONTRACTIONS SU3 ID7 ID7 ID4 + FIELD SPIN 0 ID5 FIELD SPIN 0 ID1 FIELD SPIN 0 ID4 + FIELD SPIN 0 SU2 2 U1 1 / 4 ID0 FIELD SPIN 0 SU2 2 U1 - 1 / 4 DAGGER ID7 FIELD SPIN 0 ID1 FIELD SPIN 0 ID2 CONTRACTIONS SU2 ID0 ID7 + FIELD SPIN 0 SU2 2 U1 1 / 4 ID2 FIELD SPIN 0 SU2 2 U1 - 1 / 4 DAGGER ID3 FIELD SPIN 0 SU3 3 SU2 2 U1 7 / 2 ID0 FIELD SPIN 0 SU3 - 3 SU2 2 U1 - 7 / 2 DAGGER ID9 CONTRACTIONS SU3 ID0 ID9 ID9 SU2 ID2 ID0 SU2 ID3 ID9 + FIELD SPIN 0 SU2 2 U1 1 / 4 ID1 FIELD SPIN 0 SU2 2 U1 - 1 / 4 DAGGER ID4 FIELD SPIN 0 SU3 3 SU2 2 U1 7 / 2 ID2 FIELD SPIN 0 SU3 - 3 SU2 2 U1 - 7 / 2 DAGGER ID6 CONTRACTIONS SU3 ID2 ID6 ID6 SU2 ID1 ID4 SU2 ID2 ID6 + FIELD SPIN 0 SU2 2 U1 1 / 4 ID9 FIELD SPIN 0 SU2 2 U1 - 1 / 4 DAGGER ID3 FIELD SPIN 0 SU3 - 3 U1 5 / 7 ID5 FIELD SPIN 0 SU3 3 U1 - 5 / 7 DAGGER ID7 CONTRACTIONS SU3 ID5 ID5 ID7 SU2 ID9 ID3 + FIELD SPIN 0 SU2 2 U1 1 / 4 ID2 FIELD SPIN 0 SU2 2 U1 1 / 4 ID4 FIELD SPIN 0 SU2 2 U1 - 1 / 4 DAGGER ID5 FIELD SPIN 0 SU2 2 U1 - 1 / 4 DAGGER ID8 CONTRACTIONS SU2 ID2 ID5 SU2 ID4 ID8 + FIELD SPIN 0 SU2 2 U1 1 / 4 ID0 FIELD SPIN 0 SU2 2 U1 1 / 4 ID1 FIELD SPIN 0 SU2 2 U1 - 1 / 4 DAGGER ID4 FIELD SPIN 0 SU2 2 U1 - 1 / 4 DAGGER ID8 CONTRACTIONS SU2 ID0 ID1 SU2 ID4 ID8 + FIELD SPIN 0 ID3 FIELD SPIN 0 ID4 FIELD SPIN 0 SU3 3 SU2 2 U1 7 / 2 ID2 FIELD SPIN 0 SU3 - 3 SU2 2 U1 - 7 / 2 DAGGER ID5 CONTRACTIONS SU3 ID2 ID5 ID5 SU2 ID2 ID5 + FIELD SPIN 0 ID9 FIELD SPIN 0 ID3 FIELD SPIN 0 SU3 - 3 U1 5 / 7 ID4 FIELD SPIN 0 SU3 3 U1 - 5 / 7 DAGGER ID1 CONTRACTIONS SU3 ID4 ID4 ID1 + FIELD SPIN 0 ID3 FIELD SPIN 0 ID0 FIELD SPIN 0 ID7 FIELD SPIN 0 ID9 + FIELD SPIN 0 SU3 3 SU2 2 U1 7 / 2 ID0 FIELD SPIN 0 SU3 - 3 SU2 2 U1 - 7 / 2 DAGGER ID3 FIELD SPIN 0 SU3 - 3 U1 5 / 7 ID6 FIELD SPIN 0 SU3 3 U1 - 5 / 7 DAGGER ID5 CONTRACTIONS SU3 ID0 ID3 ID6 SU3 ID3 ID6 ID5 SU2 ID0 ID3 + FIELD SPIN 0 SU3 3 SU2 2 U1 7 / 2 ID5 FIELD SPIN 0 SU3 - 3 SU2 2 U1 - 7 / 2 DAGGER ID4 FIELD SPIN 0 SU3 - 3 U1 5 / 7 ID9 FIELD SPIN 0 SU3 3 U1 - 5 / 7 DAGGER ID3 CONTRACTIONS SU3 ID5 ID4 ID4 SU3 ID9 ID9 ID3 SU2 ID5 ID4 + FIELD SPIN 0 SU3 3 SU2 2 U1 7 / 2 ID7 FIELD SPIN 0 SU3 3 SU2 2 U1 7 / 2 ID5 FIELD SPIN 0 SU3 - 3 SU2 2 U1 - 7 / 2 DAGGER ID1 FIELD SPIN 0 SU3 - 3 SU2 2 U1 - 7 / 2 DAGGER ID9 CONTRACTIONS SU3 ID7 ID1 ID1 SU3 ID5 ID9 ID9 SU2 ID7 ID1 SU2 ID5 ID9 + FIELD SPIN 0 SU3 3 SU2 2 U1 7 / 2 ID1 FIELD SPIN 0 SU3 3 SU2 2 U1 7 / 2 ID0 FIELD SPIN 0 SU3 - 3 SU2 2 U1 - 7 / 2 DAGGER ID4 FIELD SPIN 0 SU3 - 3 SU2 2 U1 - 7 / 2 DAGGER ID9 CONTRACTIONS SU3 ID1 ID4 ID4 SU3 ID0 ID9 ID9 SU2 ID1 ID0 SU2 ID4 ID9 + FIELD SPIN 0 SU3 3 SU2 2 U1 7 / 2 ID3 FIELD SPIN 0 SU3 3 SU2 2 U1 7 / 2 ID9 FIELD SPIN 0 SU3 - 3 SU2 2 U1 - 7 / 2 DAGGER ID5 FIELD SPIN 0 SU3 - 3 SU2 2 U1 - 7 / 2 DAGGER ID2 CONTRACTIONS SU3 ID3 ID9 ID5 SU3 ID5 ID2 ID2 SU2 ID3 ID5 SU2 ID9 ID2 + FIELD SPIN 0 SU3 3 SU2 2 U1 7 / 2 ID2 FIELD SPIN 0 SU3 3 SU2 2 U1 7 / 2 ID7 FIELD SPIN 0 SU3 - 3 SU2 2 U1 - 7 / 2 DAGGER ID8 FIELD SPIN 0 SU3 - 3 SU2 2 U1 - 7 / 2 DAGGER ID0 CONTRACTIONS SU3 ID2 ID7 ID8 SU3 ID8 ID0 ID0 SU2 ID2 ID7 SU2 ID8 ID0 + FIELD SPIN 0 SU3 - 3 U1 5 / 7 ID7 FIELD SPIN 0 SU3 - 3 U1 5 / 7 ID0 FIELD SPIN 0 SU3 3 U1 - 5 / 7 DAGGER ID1 FIELD SPIN 0 SU3 3 U1 - 5 / 7 DAGGER ID8 CONTRACTIONS SU3 ID7 ID7 ID1 SU3 ID0 ID0 ID8 + FIELD SPIN 0 SU3 - 3 U1 5 / 7 ID0 FIELD SPIN 0 SU3 - 3 U1 5 / 7 ID8 FIELD SPIN 0 SU3 3 U1 - 5 / 7 DAGGER ID1 FIELD SPIN 0 SU3 3 U1 - 5 / 7 DAGGER ID4 CONTRACTIONS SU3 ID0 ID0 ID8 SU3 ID8 ID1 ID4 + DERIVATIVE SU2 U1 ID3 FIELD SPIN 0 SU2 2 U1 - 1 / 4 DAGGER ID8 DERIVATIVE SU2 U1 ID9 FIELD SPIN 0 SU2 2 U1 1 / 4 ID6 CONTRACTIONS LORENTZ ID3 ID9 SU2 ID8 ID6 + i FIELD SPIN 1 / 2 SU3 3 SU2 3 U1 - 3 / 4 HEL 1 / 2 DAGGER ID7 SIGMA_BAR ID8 DERIVATIVE SU3 SU2 U1 ID4 FIELD SPIN 1 / 2 SU3 - 3 SU2 3 U1 3 / 4 HEL - 1 / 2 ID3 CONTRACTIONS LORENTZ ID8 ID4 LORENTZ ID8 ID7 ID3 SU3 ID7 ID3 SU2 ID7 ID3 + DERIVATIVE ID9 FIELD SPIN 0 DAGGER ID3 DERIVATIVE ID4 FIELD SPIN 0 ID2 CONTRACTIONS LORENTZ ID9 ID4 + DERIVATIVE SU3 SU2 U1 ID5 FIELD SPIN 0 SU3 - 3 SU2 2 U1 - 7 / 2 DAGGER ID9 DERIVATIVE SU3 SU2 U1 ID4 FIELD SPIN 0 SU3 3 SU2 2 U1 7 / 2 ID8 CONTRACTIONS LORENTZ ID5 ID4 SU3 ID9 ID8 SU2 ID9 ID8 + DERIVATIVE SU3 U1 ID7 FIELD SPIN 0 SU3 3 U1 - 5 / 7 DAGGER ID5 DERIVATIVE SU3 U1 ID6 FIELD SPIN 0 SU3 - 3 U1 5 / 7 ID3 CONTRACTIONS LORENTZ ID7 ID6 SU3 ID5 ID3 - COMMUTATOR_A DERIVATIVE SU2 ID0 COMMUTATOR_B DERIVATIVE SU2 ID5 COMMUTATOR_A DERIVATIVE SU2 ID9 COMMUTATOR_B DERIVATIVE SU2 ID6 CONTRACTIONS LORENTZ ID0 ID9 LORENTZ ID5 ID6 - COMMUTATOR_A DERIVATIVE U1 ID6 COMMUTATOR_B DERIVATIVE U1 ID4 COMMUTATOR_A DERIVATIVE U1 ID2 COMMUTATOR_B DERIVATIVE U1 ID3 CONTRACTIONS LORENTZ ID6 ID2 LORENTZ ID4 ID3 - COMMUTATOR_A DERIVATIVE SU3 ID2 COMMUTATOR_B DERIVATIVE SU3 ID0 COMMUTATOR_A DERIVATIVE SU3 ID3 COMMUTATOR_B DERIVATIVE SU3 ID1 CONTRACTIONS LORENTZ ID2 ID3 LORENTZ ID0 ID1 + FIELD SPIN 0 SU2 2 U1 - 1 / 4 DAGGER ID3 FIELD SPIN 0 SU2 2 U1 1 / 4 ID2 CONTRACTIONS SU2 ID3 ID2 + FIELD SPIN 0 DAGGER ID8 FIELD SPIN 0 ID1 CONTRACTIONS + FIELD SPIN 0 SU3 - 3 SU2 2 U1 - 7 / 2 DAGGER ID3 FIELD SPIN 0 SU3 3 SU2 2 U1 7 / 2 ID7 CONTRACTIONS SU3 ID3 ID7 SU2 ID3 ID7 + FIELD SPIN 0 SU3 3 U1 - 5 / 7 DAGGER ID6 FIELD SPIN 0 SU3 - 3 U1 5 / 7 ID4 CONTRACTIONS SU3 ID6 ID4\n",
      "Lagrangian score  :  0.9696969696969697\n",
      "Object score      :  0.9696969696969697\n",
      "Contraction Score :  0.9696969696969697\n",
      "Length penalty    :  0.0\n",
      "\n",
      "Truth_2           :  + FIELD SPIN 0 ID7 FIELD SPIN 0 SU3 3 SU2 2 U1 7 / 2 ID2 FIELD SPIN 0 SU3 - 3 SU2 2 U1 - 7 / 2 DAGGER ID1 CONTRACTIONS SU3 ID2 ID1 ID1 SU2 ID2 ID1 + FIELD SPIN 0 SU2 2 U1 1 / 4 ID0 FIELD SPIN 0 SU2 2 U1 - 1 / 4 DAGGER ID8 FIELD SPIN 0 ID5 CONTRACTIONS SU2 ID0 ID8 + FIELD SPIN 0 ID2 FIELD SPIN 0 SU3 - 3 U1 5 / 7 ID7 FIELD SPIN 0 SU3 3 U1 - 5 / 7 DAGGER ID4 CONTRACTIONS SU3 ID7 ID7 ID4 + FIELD SPIN 0 ID5 FIELD SPIN 0 ID1 FIELD SPIN 0 ID4 + FIELD SPIN 0 SU2 2 U1 1 / 4 ID0 FIELD SPIN 0 SU2 2 U1 - 1 / 4 DAGGER ID7 FIELD SPIN 0 ID1 FIELD SPIN 0 ID2 CONTRACTIONS SU2 ID0 ID7 + FIELD SPIN 0 SU2 2 U1 1 / 4 ID2 FIELD SPIN 0 SU2 2 U1 - 1 / 4 DAGGER ID3 FIELD SPIN 0 SU3 3 SU2 2 U1 7 / 2 ID0 FIELD SPIN 0 SU3 - 3 SU2 2 U1 - 7 / 2 DAGGER ID9 CONTRACTIONS SU3 ID0 ID9 ID9 SU2 ID2 ID0 SU2 ID3 ID9 + FIELD SPIN 0 SU2 2 U1 1 / 4 ID1 FIELD SPIN 0 SU2 2 U1 - 1 / 4 DAGGER ID4 FIELD SPIN 0 SU3 3 SU2 2 U1 7 / 2 ID2 FIELD SPIN 0 SU3 - 3 SU2 2 U1 - 7 / 2 DAGGER ID6 CONTRACTIONS SU3 ID2 ID6 ID6 SU2 ID1 ID4 SU2 ID2 ID6 + FIELD SPIN 0 SU2 2 U1 1 / 4 ID9 FIELD SPIN 0 SU2 2 U1 - 1 / 4 DAGGER ID3 FIELD SPIN 0 SU3 - 3 U1 5 / 7 ID5 FIELD SPIN 0 SU3 3 U1 - 5 / 7 DAGGER ID7 CONTRACTIONS SU3 ID5 ID5 ID7 SU2 ID9 ID3 + FIELD SPIN 0 SU2 2 U1 1 / 4 ID2 FIELD SPIN 0 SU2 2 U1 1 / 4 ID4 FIELD SPIN 0 SU2 2 U1 - 1 / 4 DAGGER ID5 FIELD SPIN 0 SU2 2 U1 - 1 / 4 DAGGER ID8 CONTRACTIONS SU2 ID2 ID5 SU2 ID4 ID8 + FIELD SPIN 0 SU2 2 U1 1 / 4 ID0 FIELD SPIN 0 SU2 2 U1 1 / 4 ID1 FIELD SPIN 0 SU2 2 U1 - 1 / 4 DAGGER ID4 FIELD SPIN 0 SU2 2 U1 - 1 / 4 DAGGER ID8 CONTRACTIONS SU2 ID0 ID1 SU2 ID4 ID8 + FIELD SPIN 0 ID3 FIELD SPIN 0 ID4 FIELD SPIN 0 SU3 3 SU2 2 U1 7 / 2 ID2 FIELD SPIN 0 SU3 - 3 SU2 2 U1 - 7 / 2 DAGGER ID5 CONTRACTIONS SU3 ID2 ID5 ID5 SU2 ID2 ID5 + FIELD SPIN 0 ID9 FIELD SPIN 0 ID3 FIELD SPIN 0 SU3 - 3 U1 5 / 7 ID4 FIELD SPIN 0 SU3 3 U1 - 5 / 7 DAGGER ID1 CONTRACTIONS SU3 ID4 ID4 ID1 + FIELD SPIN 0 ID3 FIELD SPIN 0 ID0 FIELD SPIN 0 ID7 FIELD SPIN 0 ID9 + FIELD SPIN 0 SU3 3 SU2 2 U1 7 / 2 ID0 FIELD SPIN 0 SU3 - 3 SU2 2 U1 - 7 / 2 DAGGER ID3 FIELD SPIN 0 SU3 - 3 U1 5 / 7 ID6 FIELD SPIN 0 SU3 3 U1 - 5 / 7 DAGGER ID5 CONTRACTIONS SU3 ID0 ID3 ID6 SU3 ID3 ID6 ID5 SU2 ID0 ID3 + FIELD SPIN 0 SU3 3 SU2 2 U1 7 / 2 ID5 FIELD SPIN 0 SU3 - 3 SU2 2 U1 - 7 / 2 DAGGER ID4 FIELD SPIN 0 SU3 - 3 U1 5 / 7 ID9 FIELD SPIN 0 SU3 3 U1 - 5 / 7 DAGGER ID3 CONTRACTIONS SU3 ID5 ID4 ID4 SU3 ID9 ID9 ID3 SU2 ID5 ID4 + FIELD SPIN 0 SU3 3 SU2 2 U1 7 / 2 ID7 FIELD SPIN 0 SU3 3 SU2 2 U1 7 / 2 ID5 FIELD SPIN 0 SU3 - 3 SU2 2 U1 - 7 / 2 DAGGER ID1 FIELD SPIN 0 SU3 - 3 SU2 2 U1 - 7 / 2 DAGGER ID9 CONTRACTIONS SU3 ID7 ID1 ID1 SU3 ID5 ID9 ID9 SU2 ID7 ID1 SU2 ID5 ID9 + FIELD SPIN 0 SU3 3 SU2 2 U1 7 / 2 ID1 FIELD SPIN 0 SU3 3 SU2 2 U1 7 / 2 ID0 FIELD SPIN 0 SU3 - 3 SU2 2 U1 - 7 / 2 DAGGER ID4 FIELD SPIN 0 SU3 - 3 SU2 2 U1 - 7 / 2 DAGGER ID9 CONTRACTIONS SU3 ID1 ID4 ID4 SU3 ID0 ID9 ID9 SU2 ID1 ID0 SU2 ID4 ID9 + FIELD SPIN 0 SU3 3 SU2 2 U1 7 / 2 ID3 FIELD SPIN 0 SU3 3 SU2 2 U1 7 / 2 ID9 FIELD SPIN 0 SU3 - 3 SU2 2 U1 - 7 / 2 DAGGER ID5 FIELD SPIN 0 SU3 - 3 SU2 2 U1 - 7 / 2 DAGGER ID2 CONTRACTIONS SU3 ID3 ID9 ID5 SU3 ID5 ID2 ID2 SU2 ID3 ID5 SU2 ID9 ID2 + FIELD SPIN 0 SU3 3 SU2 2 U1 7 / 2 ID2 FIELD SPIN 0 SU3 3 SU2 2 U1 7 / 2 ID7 FIELD SPIN 0 SU3 - 3 SU2 2 U1 - 7 / 2 DAGGER ID8 FIELD SPIN 0 SU3 - 3 SU2 2 U1 - 7 / 2 DAGGER ID0 CONTRACTIONS SU3 ID2 ID7 ID8 SU3 ID8 ID0 ID0 SU2 ID2 ID7 SU2 ID8 ID0 + FIELD SPIN 0 SU3 - 3 U1 5 / 7 ID7 FIELD SPIN 0 SU3 - 3 U1 5 / 7 ID0 FIELD SPIN 0 SU3 3 U1 - 5 / 7 DAGGER ID1 FIELD SPIN 0 SU3 3 U1 - 5 / 7 DAGGER ID8 CONTRACTIONS SU3 ID7 ID7 ID1 SU3 ID0 ID0 ID8 + FIELD SPIN 0 SU3 - 3 U1 5 / 7 ID0 FIELD SPIN 0 SU3 - 3 U1 5 / 7 ID8 FIELD SPIN 0 SU3 3 U1 - 5 / 7 DAGGER ID1 FIELD SPIN 0 SU3 3 U1 - 5 / 7 DAGGER ID4 CONTRACTIONS SU3 ID0 ID0 ID8 SU3 ID8 ID1 ID4 + DERIVATIVE SU2 U1 ID3 FIELD SPIN 0 SU2 2 U1 - 1 / 4 DAGGER ID8 DERIVATIVE SU2 U1 ID9 FIELD SPIN 0 SU2 2 U1 1 / 4 ID6 CONTRACTIONS LORENTZ ID3 ID9 SU2 ID8 ID6 + i FIELD SPIN 1 / 2 SU3 3 SU2 3 U1 - 3 / 4 HEL 1 / 2 DAGGER ID7 SIGMA_BAR ID8 DERIVATIVE SU3 SU2 U1 ID4 FIELD SPIN 1 / 2 SU3 - 3 SU2 3 U1 3 / 4 HEL - 1 / 2 ID3 CONTRACTIONS LORENTZ ID8 ID4 LORENTZ ID8 ID7 ID3 SU3 ID7 ID3 SU2 ID7 ID3 + DERIVATIVE ID9 FIELD SPIN 0 DAGGER ID3 DERIVATIVE ID4 FIELD SPIN 0 ID2 CONTRACTIONS LORENTZ ID9 ID4 + DERIVATIVE SU3 SU2 U1 ID5 FIELD SPIN 0 SU3 - 3 SU2 2 U1 - 7 / 2 DAGGER ID9 DERIVATIVE SU3 SU2 U1 ID4 FIELD SPIN 0 SU3 3 SU2 2 U1 7 / 2 ID8 CONTRACTIONS LORENTZ ID5 ID4 SU3 ID9 ID8 SU2 ID9 ID8 + DERIVATIVE SU3 U1 ID7 FIELD SPIN 0 SU3 3 U1 - 5 / 7 DAGGER ID5 DERIVATIVE SU3 U1 ID6 FIELD SPIN 0 SU3 - 3 U1 5 / 7 ID3 CONTRACTIONS LORENTZ ID7 ID6 SU3 ID5 ID3 - COMMUTATOR_A DERIVATIVE SU2 ID0 COMMUTATOR_B DERIVATIVE SU2 ID5 COMMUTATOR_A DERIVATIVE SU2 ID9 COMMUTATOR_B DERIVATIVE SU2 ID6 CONTRACTIONS LORENTZ ID0 ID9 LORENTZ ID5 ID6 - COMMUTATOR_A DERIVATIVE U1 ID6 COMMUTATOR_B DERIVATIVE U1 ID4 COMMUTATOR_A DERIVATIVE U1 ID2 COMMUTATOR_B DERIVATIVE U1 ID3 CONTRACTIONS LORENTZ ID6 ID2 LORENTZ ID4 ID3 - COMMUTATOR_A DERIVATIVE SU3 ID2 COMMUTATOR_B DERIVATIVE SU3 ID0 COMMUTATOR_A DERIVATIVE SU3 ID3 COMMUTATOR_B DERIVATIVE SU3 ID1 CONTRACTIONS LORENTZ ID2 ID3 LORENTZ ID0 ID1 + FIELD SPIN 0 SU2 2 U1 - 1 / 4 DAGGER ID3 FIELD SPIN 0 SU2 2 U1 1 / 4 ID2 CONTRACTIONS SU2 ID3 ID2 + FIELD SPIN 0 DAGGER ID8 FIELD SPIN 0 ID1 CONTRACTIONS + FIELD SPIN 0 SU3 - 3 SU2 2 U1 - 7 / 2 DAGGER ID3 FIELD SPIN 0 SU3 3 SU2 2 U1 7 / 2 ID7 CONTRACTIONS SU3 ID3 ID7 SU2 ID3 ID7 + FIELD SPIN 0 SU3 3 U1 - 5 / 7 DAGGER ID6 FIELD SPIN 0 SU3 - 3 U1 5 / 7 ID4 CONTRACTIONS SU3 ID6 ID4\n",
      "Lagrangian score  :  0.9696969696969697\n",
      "Object score      :  0.9696969696969697\n",
      "Contraction Score :  0.9696969696969697\n",
      "Length penalty    :  0.0\n"
     ]
    }
   ],
   "source": [
    "lscore_1, obscore_1, conscore_1, lpen_1 = le.get_lagrangian_score(predicted_string,lag_truth_1)\n",
    "lscore_2, obscore_2, conscore_2, lpen_2 = le.get_lagrangian_score(predicted_string,lag_truth_2)\n",
    "\n",
    "print(\"Prediction        : \", predicted_string)\n",
    "print()\n",
    "print(\"Truth_1           : \", lag_truth_1)\n",
    "print(\"Lagrangian score  : \",lscore_1)\n",
    "print(\"Object score      : \",obscore_1)\n",
    "print(\"Contraction Score : \",conscore_1)\n",
    "print(\"Length penalty    : \",lpen_1)\n",
    "print()\n",
    "print(\"Truth_2           : \", lag_truth_2)\n",
    "print(\"Lagrangian score  : \",lscore_2)\n",
    "print(\"Object score      : \",obscore_2)\n",
    "print(\"Contraction Score : \",conscore_2)\n",
    "print(\"Length penalty    : \",lpen_2)"
   ]
  },
  {
   "cell_type": "markdown",
   "id": "4b5bb943",
   "metadata": {},
   "source": [
    "Why we need model.generate() instead of model() [Optional]"
   ]
  },
  {
   "cell_type": "code",
   "execution_count": 17,
   "id": "8403f48e",
   "metadata": {},
   "outputs": [
    {
     "name": "stdout",
     "output_type": "stream",
     "text": [
      "Predicted_1 :  FIELD SPIN 0 SU2 2 U1 1 / 4 ID6 FIELD SPIN 0 SU2 2 U1 - 1 / 4 DAGGER ID6 FIELD SPIN 0 ID6 CONTRACTIONS SU2 ID0 ID8\n",
      "Truth_1     :  FIELD SPIN 0 SU2 2 U1 1 / 4 ID0 FIELD SPIN 0 SU2 2 U1 - 1 / 4 DAGGER ID8 FIELD SPIN 0 ID5 CONTRACTIONS SU2 ID0 ID8\n",
      "--\n",
      "Predicted_2 :  FIELD SPIN 0 SU2 FIELD SPIN 0 SU2 3 SU2 2 U1 7 / 2 ID0 FIELD SPIN 0 SU3 - 3 SU2 2 U1 - 7 / 2 DAGGER ID0 CONTRACTIONS SU3 ID2 ID1 ID1 SU2 ID2 ID1\n",
      "Truth_2     :  FIELD SPIN 0 ID7 FIELD SPIN 0 SU3 3 SU2 2 U1 7 / 2 ID2 FIELD SPIN 0 SU3 - 3 SU2 2 U1 - 7 / 2 DAGGER ID1 CONTRACTIONS SU3 ID2 ID1 ID1 SU2 ID2 ID1\n",
      "--\n",
      "Predicted   :  FIELD SPIN 0 SU2 2 U1 1 / 4 ID6 FIELD SPIN 0 SU2 2 U1 - 1 / 4 DAGGER ID7 FIELD SPIN 0 ID0 CONTRACTIONS SU2 ID6 ID7\n",
      "-----\n",
      "\n",
      "\n",
      "Predicted_1 :  FIELD SPIN 0 ID6 FIELD SPIN 0 SU3 3 SU2 2 U1 7 / 2 ID6 FIELD SPIN 0 SU3 - 3 SU2 2 U1 - 7 / 2 DAGGER ID6 CONTRACTIONS SU3 ID2 ID1 ID1 SU2 ID2 ID1\n",
      "Truth_1     :  FIELD SPIN 0 ID7 FIELD SPIN 0 SU3 3 SU2 2 U1 7 / 2 ID2 FIELD SPIN 0 SU3 - 3 SU2 2 U1 - 7 / 2 DAGGER ID1 CONTRACTIONS SU3 ID2 ID1 ID1 SU2 ID2 ID1\n",
      "--\n",
      "Predicted_2 :  FIELD SPIN 0 ID0 2 U1 1 / 4 ID2 FIELD SPIN 0 SU2 2 U1 - 1 / 4 DAGGER ID9 FIELD SPIN 0 ID6 CONTRACTIONS SU2 ID0 ID8\n",
      "Truth_2     :  FIELD SPIN 0 SU2 2 U1 1 / 4 ID0 FIELD SPIN 0 SU2 2 U1 - 1 / 4 DAGGER ID8 FIELD SPIN 0 ID5 CONTRACTIONS SU2 ID0 ID8\n",
      "--\n",
      "Predicted   :  FIELD SPIN 0 ID6 FIELD SPIN 0 SU3 3 SU2 2 U1 7 / 2 ID7 FIELD SPIN 0 SU3 - 3 SU2 2 U1 - 7 / 2 DAGGER ID0 CONTRACTIONS SU3 ID7 ID0 ID0 SU2 ID7 ID0\n",
      "-----\n",
      "\n",
      "\n",
      "Predicted_1 :  FIELD SPIN 0 ID0 FIELD SPIN 0 SU3 - 3 U1 5 / 7 ID4 FIELD SPIN 0 SU3 3 U1 - 5 / 7 DAGGER ID6 CONTRACTIONS SU3 ID7 ID7 ID4\n",
      "Truth_1     :  FIELD SPIN 0 ID2 FIELD SPIN 0 SU3 - 3 U1 5 / 7 ID7 FIELD SPIN 0 SU3 3 U1 - 5 / 7 DAGGER ID4 CONTRACTIONS SU3 ID7 ID7 ID4\n",
      "--\n",
      "Predicted_2 :  FIELD SPIN 0 ID9 FIELD SPIN 0 SU3 - 3 U1 5 / 7 ID3 FIELD SPIN 0 SU3 3 U1 - 5 / 7 DAGGER ID6 CONTRACTIONS SU3 ID7 ID7 ID4\n",
      "Truth_2     :  FIELD SPIN 0 ID2 FIELD SPIN 0 SU3 - 3 U1 5 / 7 ID7 FIELD SPIN 0 SU3 3 U1 - 5 / 7 DAGGER ID4 CONTRACTIONS SU3 ID7 ID7 ID4\n",
      "--\n",
      "Predicted   :  FIELD SPIN 0 ID0 FIELD SPIN 0 SU3 - 3 U1 5 / 7 ID7 FIELD SPIN 0 SU3 3 U1 - 5 / 7 DAGGER ID2 CONTRACTIONS SU3 ID7 ID7 ID2\n",
      "-----\n",
      "\n",
      "\n",
      "Predicted_1 :  FIELD SPIN 0 ID9 FIELD SPIN 0 ID8 FIELD SPIN 0 ID0\n",
      "Truth_1     :  FIELD SPIN 0 ID5 FIELD SPIN 0 ID1 FIELD SPIN 0 ID4\n",
      "--\n",
      "Predicted_2 :  FIELD SPIN 0 ID8 FIELD SPIN 0 ID8 FIELD SPIN 0 ID0\n",
      "Truth_2     :  FIELD SPIN 0 ID5 FIELD SPIN 0 ID1 FIELD SPIN 0 ID4\n",
      "--\n",
      "Predicted   :  FIELD SPIN 0 ID9 FIELD SPIN 0 ID8 FIELD SPIN 0 ID2\n",
      "-----\n",
      "\n",
      "\n",
      "Predicted_1 :  FIELD SPIN 0 SU2 2 U1 1 / 4 ID7 FIELD SPIN 0 SU2 2 U1 - 1 / 4 DAGGER ID4 FIELD SPIN 0 ID3 FIELD SPIN 0 ID5 CONTRACTIONS SU2 ID0 ID7\n",
      "Truth_1     :  FIELD SPIN 0 SU2 2 U1 1 / 4 ID0 FIELD SPIN 0 SU2 2 U1 - 1 / 4 DAGGER ID7 FIELD SPIN 0 ID1 FIELD SPIN 0 ID2 CONTRACTIONS SU2 ID0 ID7\n",
      "--\n",
      "Predicted_2 :  FIELD SPIN 0 SU2 2 U1 1 / 4 ID7 FIELD SPIN 0 SU2 2 U1 - 1 / 4 DAGGER ID4 FIELD SPIN 0 ID3 FIELD SPIN 0 ID5 CONTRACTIONS SU2 ID0 ID7\n",
      "Truth_2     :  FIELD SPIN 0 SU2 2 U1 1 / 4 ID0 FIELD SPIN 0 SU2 2 U1 - 1 / 4 DAGGER ID7 FIELD SPIN 0 ID1 FIELD SPIN 0 ID2 CONTRACTIONS SU2 ID0 ID7\n",
      "--\n",
      "Predicted   :  FIELD SPIN 0 SU2 2 U1 1 / 4 ID7 FIELD SPIN 0 SU2 2 U1 - 1 / 4 DAGGER ID6 FIELD SPIN 0 ID8 FIELD SPIN 0 ID0 CONTRACTIONS SU2 ID7 ID6\n",
      "-----\n",
      "\n",
      "\n",
      "Predicted_1 :  FIELD SPIN 0 SU2 2 U1 1 / 4 ID7 FIELD SPIN 0 SU2 2 U1 - 1 / 4 DAGGER ID4 FIELD SPIN 0 SU3 3 SU2 2 U1 7 / 2 ID4 FIELD SPIN 0 SU3 - 3 SU2 2 U1 - 7 / 2 DAGGER ID6 CONTRACTIONS SU3 ID0 ID9 ID9 SU2 ID2 ID0 SU2 ID3 ID9\n",
      "Truth_1     :  FIELD SPIN 0 SU2 2 U1 1 / 4 ID2 FIELD SPIN 0 SU2 2 U1 - 1 / 4 DAGGER ID3 FIELD SPIN 0 SU3 3 SU2 2 U1 7 / 2 ID0 FIELD SPIN 0 SU3 - 3 SU2 2 U1 - 7 / 2 DAGGER ID9 CONTRACTIONS SU3 ID0 ID9 ID9 SU2 ID2 ID0 SU2 ID3 ID9\n",
      "--\n",
      "Predicted_2 :  FIELD SPIN 0 SU2 2 U1 1 / 4 ID7 FIELD SPIN 0 SU2 2 U1 - 1 / 4 DAGGER ID4 FIELD SPIN 0 SU3 3 SU2 2 U1 7 / 2 ID0 FIELD SPIN 0 SU3 - 3 SU2 2 U1 - 7 / 2 DAGGER ID6 CONTRACTIONS SU3 ID0 ID9 ID9 SU2 ID2 ID0 SU2 ID3 ID9\n",
      "Truth_2     :  FIELD SPIN 0 SU2 2 U1 1 / 4 ID2 FIELD SPIN 0 SU2 2 U1 - 1 / 4 DAGGER ID3 FIELD SPIN 0 SU3 3 SU2 2 U1 7 / 2 ID0 FIELD SPIN 0 SU3 - 3 SU2 2 U1 - 7 / 2 DAGGER ID9 CONTRACTIONS SU3 ID0 ID9 ID9 SU2 ID2 ID0 SU2 ID3 ID9\n",
      "--\n",
      "Predicted   :  FIELD SPIN 0 SU2 2 U1 1 / 4 ID7 FIELD SPIN 0 SU2 2 U1 - 1 / 4 DAGGER ID6 FIELD SPIN 0 SU3 3 SU2 2 U1 7 / 2 ID2 FIELD SPIN 0 SU3 - 3 SU2 2 U1 - 7 / 2 DAGGER ID0 CONTRACTIONS SU3 ID2 ID0 ID0 SU2 ID7 ID2 SU2 ID6 ID0\n",
      "-----\n",
      "\n",
      "\n",
      "Predicted_1 :  FIELD SPIN 0 SU2 2 U1 1 / 4 ID7 FIELD SPIN 0 SU2 2 U1 - 1 / 4 DAGGER ID4 FIELD SPIN 0 SU3 3 SU2 2 U1 7 / 2 ID3 FIELD SPIN 0 SU3 - 3 SU2 2 U1 - 7 / 2 DAGGER ID0 CONTRACTIONS SU3 ID2 ID6 ID6 SU2 ID1 ID4 SU2 ID2 ID6\n",
      "Truth_1     :  FIELD SPIN 0 SU2 2 U1 1 / 4 ID1 FIELD SPIN 0 SU2 2 U1 - 1 / 4 DAGGER ID4 FIELD SPIN 0 SU3 3 SU2 2 U1 7 / 2 ID2 FIELD SPIN 0 SU3 - 3 SU2 2 U1 - 7 / 2 DAGGER ID6 CONTRACTIONS SU3 ID2 ID6 ID6 SU2 ID1 ID4 SU2 ID2 ID6\n",
      "--\n",
      "Predicted_2 :  FIELD SPIN 0 SU2 2 U1 1 / 4 ID7 FIELD SPIN 0 SU2 2 U1 - 1 / 4 DAGGER ID4 FIELD SPIN 0 SU3 3 SU2 2 U1 7 / 2 ID3 FIELD SPIN 0 SU3 - 3 SU2 2 U1 - 7 / 2 DAGGER ID0 CONTRACTIONS SU3 ID2 ID6 ID6 SU2 ID1 ID4 SU2 ID2 ID6\n",
      "Truth_2     :  FIELD SPIN 0 SU2 2 U1 1 / 4 ID1 FIELD SPIN 0 SU2 2 U1 - 1 / 4 DAGGER ID4 FIELD SPIN 0 SU3 3 SU2 2 U1 7 / 2 ID2 FIELD SPIN 0 SU3 - 3 SU2 2 U1 - 7 / 2 DAGGER ID6 CONTRACTIONS SU3 ID2 ID6 ID6 SU2 ID1 ID4 SU2 ID2 ID6\n",
      "--\n",
      "Predicted   :  FIELD SPIN 0 SU2 2 U1 1 / 4 ID7 FIELD SPIN 0 SU2 2 U1 - 1 / 4 DAGGER ID6 FIELD SPIN 0 SU3 3 SU2 2 U1 7 / 2 ID2 FIELD SPIN 0 SU3 - 3 SU2 2 U1 - 7 / 2 DAGGER ID0 CONTRACTIONS SU3 ID2 ID0 ID0 SU2 ID7 ID6 SU2 ID2 ID0\n",
      "-----\n",
      "\n",
      "\n",
      "Predicted_1 :  FIELD SPIN 0 SU2 2 U1 1 / 4 ID2 FIELD SPIN 0 SU2 2 U1 - 1 / 4 DAGGER ID8 FIELD SPIN 0 SU3 - 3 U1 5 / 7 ID5 FIELD SPIN 0 SU3 3 U1 - 5 / 7 DAGGER ID8 CONTRACTIONS SU3 ID5 ID5 ID7 SU2 ID9 ID3\n",
      "Truth_1     :  FIELD SPIN 0 SU2 2 U1 1 / 4 ID9 FIELD SPIN 0 SU2 2 U1 - 1 / 4 DAGGER ID3 FIELD SPIN 0 SU3 - 3 U1 5 / 7 ID5 FIELD SPIN 0 SU3 3 U1 - 5 / 7 DAGGER ID7 CONTRACTIONS SU3 ID5 ID5 ID7 SU2 ID9 ID3\n",
      "--\n",
      "Predicted_2 :  FIELD SPIN 0 SU2 2 U1 1 / 4 ID2 FIELD SPIN 0 SU2 2 U1 - 1 / 4 DAGGER ID8 FIELD SPIN 0 SU3 - 3 U1 5 / 7 ID5 FIELD SPIN 0 SU3 3 U1 - 5 / 7 DAGGER ID8 CONTRACTIONS SU3 ID5 ID5 ID7 SU2 ID9 ID3\n",
      "Truth_2     :  FIELD SPIN 0 SU2 2 U1 1 / 4 ID9 FIELD SPIN 0 SU2 2 U1 - 1 / 4 DAGGER ID3 FIELD SPIN 0 SU3 - 3 U1 5 / 7 ID5 FIELD SPIN 0 SU3 3 U1 - 5 / 7 DAGGER ID7 CONTRACTIONS SU3 ID5 ID5 ID7 SU2 ID9 ID3\n",
      "--\n",
      "Predicted   :  FIELD SPIN 0 SU2 2 U1 1 / 4 ID7 FIELD SPIN 0 SU2 2 U1 - 1 / 4 DAGGER ID6 FIELD SPIN 0 SU3 - 3 U1 5 / 7 ID0 FIELD SPIN 0 SU3 3 U1 - 5 / 7 DAGGER ID2 CONTRACTIONS SU3 ID0 ID0 ID2 SU2 ID7 ID6\n",
      "-----\n",
      "\n",
      "\n",
      "Predicted_1 :  FIELD SPIN 0 SU2 2 U1 1 / 4 ID2 FIELD SPIN 0 SU2 2 U1 1 / 4 ID4 FIELD SPIN 0 SU2 2 U1 - 1 / 4 DAGGER ID0 FIELD SPIN 0 SU2 2 U1 - 1 / 4 DAGGER ID6 CONTRACTIONS SU2 ID2 ID5 SU2 ID4 ID8\n",
      "Truth_1     :  FIELD SPIN 0 SU2 2 U1 1 / 4 ID2 FIELD SPIN 0 SU2 2 U1 1 / 4 ID4 FIELD SPIN 0 SU2 2 U1 - 1 / 4 DAGGER ID5 FIELD SPIN 0 SU2 2 U1 - 1 / 4 DAGGER ID8 CONTRACTIONS SU2 ID2 ID5 SU2 ID4 ID8\n",
      "--\n",
      "Predicted_2 :  FIELD SPIN 0 SU2 2 U1 1 / 4 ID2 FIELD SPIN 0 SU2 2 U1 1 / 4 ID4 FIELD SPIN 0 SU2 2 U1 - 1 / 4 DAGGER ID0 FIELD SPIN 0 SU2 2 U1 - 1 / 4 DAGGER ID6 CONTRACTIONS SU2 ID2 ID5 SU2 ID4 ID8\n",
      "Truth_2     :  FIELD SPIN 0 SU2 2 U1 1 / 4 ID2 FIELD SPIN 0 SU2 2 U1 1 / 4 ID4 FIELD SPIN 0 SU2 2 U1 - 1 / 4 DAGGER ID5 FIELD SPIN 0 SU2 2 U1 - 1 / 4 DAGGER ID8 CONTRACTIONS SU2 ID2 ID5 SU2 ID4 ID8\n",
      "--\n",
      "Predicted   :  FIELD SPIN 0 SU2 2 U1 1 / 4 ID2 FIELD SPIN 0 SU2 2 U1 1 / 4 ID4 FIELD SPIN 0 SU2 2 U1 - 1 / 4 DAGGER ID6 FIELD SPIN 0 SU2 2 U1 - 1 / 4 DAGGER ID0 CONTRACTIONS SU2 ID2 ID6 SU2 ID4 ID0\n",
      "-----\n",
      "\n",
      "\n",
      "Predicted_1 :  FIELD SPIN 0 SU2 2 U1 1 / 4 ID7 FIELD SPIN 0 SU2 2 U1 1 / 4 ID4 FIELD SPIN 0 SU2 2 U1 - 1 / 4 DAGGER ID4 FIELD SPIN 0 SU2 2 U1 - 1 / 4 DAGGER ID2 CONTRACTIONS SU2 ID0 ID1 SU2 ID4 ID8\n",
      "Truth_1     :  FIELD SPIN 0 SU2 2 U1 1 / 4 ID0 FIELD SPIN 0 SU2 2 U1 1 / 4 ID1 FIELD SPIN 0 SU2 2 U1 - 1 / 4 DAGGER ID4 FIELD SPIN 0 SU2 2 U1 - 1 / 4 DAGGER ID8 CONTRACTIONS SU2 ID0 ID1 SU2 ID4 ID8\n",
      "--\n",
      "Predicted_2 :  FIELD SPIN 0 SU2 2 U1 1 / 4 ID7 FIELD SPIN 0 SU2 2 U1 1 / 4 ID4 FIELD SPIN 0 SU2 2 U1 - 1 / 4 DAGGER ID4 FIELD SPIN 0 SU2 2 U1 - 1 / 4 DAGGER ID2 CONTRACTIONS SU2 ID0 ID1 SU2 ID4 ID8\n",
      "Truth_2     :  FIELD SPIN 0 SU2 2 U1 1 / 4 ID0 FIELD SPIN 0 SU2 2 U1 1 / 4 ID1 FIELD SPIN 0 SU2 2 U1 - 1 / 4 DAGGER ID4 FIELD SPIN 0 SU2 2 U1 - 1 / 4 DAGGER ID8 CONTRACTIONS SU2 ID0 ID1 SU2 ID4 ID8\n",
      "--\n",
      "Predicted   :  FIELD SPIN 0 SU2 2 U1 1 / 4 ID7 FIELD SPIN 0 SU2 2 U1 1 / 4 ID6 FIELD SPIN 0 SU2 2 U1 - 1 / 4 DAGGER ID0 FIELD SPIN 0 SU2 2 U1 - 1 / 4 DAGGER ID1 CONTRACTIONS SU2 ID7 ID6 SU2 ID0 ID1\n",
      "-----\n",
      "\n",
      "\n",
      "Predicted_1 :  FIELD SPIN 0 ID7 FIELD SPIN 0 ID6 FIELD SPIN 0 SU3 3 SU2 2 U1 7 / 2 ID7 FIELD SPIN 0 SU3 - 3 SU2 2 U1 - 7 / 2 DAGGER ID7 CONTRACTIONS SU3 ID2 ID5 ID5 SU2 ID2 ID5\n",
      "Truth_1     :  FIELD SPIN 0 ID3 FIELD SPIN 0 ID4 FIELD SPIN 0 SU3 3 SU2 2 U1 7 / 2 ID2 FIELD SPIN 0 SU3 - 3 SU2 2 U1 - 7 / 2 DAGGER ID5 CONTRACTIONS SU3 ID2 ID5 ID5 SU2 ID2 ID5\n",
      "--\n",
      "Predicted_2 :  FIELD SPIN 0 ID7 FIELD SPIN 0 ID6 FIELD SPIN 0 SU3 3 SU2 2 U1 7 / 2 ID7 FIELD SPIN 0 SU3 - 3 SU2 2 U1 - 7 / 2 DAGGER ID7 CONTRACTIONS SU3 ID2 ID5 ID5 SU2 ID2 ID5\n",
      "Truth_2     :  FIELD SPIN 0 ID3 FIELD SPIN 0 ID4 FIELD SPIN 0 SU3 3 SU2 2 U1 7 / 2 ID2 FIELD SPIN 0 SU3 - 3 SU2 2 U1 - 7 / 2 DAGGER ID5 CONTRACTIONS SU3 ID2 ID5 ID5 SU2 ID2 ID5\n",
      "--\n",
      "Predicted   :  FIELD SPIN 0 ID7 FIELD SPIN 0 ID6 FIELD SPIN 0 SU3 3 SU2 2 U1 7 / 2 ID8 FIELD SPIN 0 SU3 - 3 SU2 2 U1 - 7 / 2 DAGGER ID0 CONTRACTIONS SU3 ID8 ID0 ID0 SU2 ID8 ID0\n",
      "-----\n",
      "\n",
      "\n",
      "Predicted_1 :  FIELD SPIN 0 ID7 FIELD SPIN 0 ID8 FIELD SPIN 0 SU3 - 3 U1 5 / 7 ID5 FIELD SPIN 0 SU3 3 U1 - 5 / 7 DAGGER ID5 CONTRACTIONS SU3 ID4 ID4 ID1\n",
      "Truth_1     :  FIELD SPIN 0 ID9 FIELD SPIN 0 ID3 FIELD SPIN 0 SU3 - 3 U1 5 / 7 ID4 FIELD SPIN 0 SU3 3 U1 - 5 / 7 DAGGER ID1 CONTRACTIONS SU3 ID4 ID4 ID1\n",
      "--\n",
      "Predicted_2 :  FIELD SPIN 0 ID7 FIELD SPIN 0 ID8 FIELD SPIN 0 SU3 - 3 U1 5 / 7 ID5 FIELD SPIN 0 SU3 3 U1 - 5 / 7 DAGGER ID5 CONTRACTIONS SU3 ID4 ID4 ID1\n",
      "Truth_2     :  FIELD SPIN 0 ID9 FIELD SPIN 0 ID3 FIELD SPIN 0 SU3 - 3 U1 5 / 7 ID4 FIELD SPIN 0 SU3 3 U1 - 5 / 7 DAGGER ID1 CONTRACTIONS SU3 ID4 ID4 ID1\n",
      "--\n",
      "Predicted   :  FIELD SPIN 0 ID7 FIELD SPIN 0 ID6 FIELD SPIN 0 SU3 - 3 U1 5 / 7 ID0 FIELD SPIN 0 SU3 3 U1 - 5 / 7 DAGGER ID2 CONTRACTIONS SU3 ID0 ID0 ID2\n",
      "-----\n",
      "\n",
      "\n",
      "Predicted_1 :  FIELD SPIN 0 ID7 FIELD SPIN 0 ID6 FIELD SPIN 0 ID6 FIELD SPIN 0 ID1\n",
      "Truth_1     :  FIELD SPIN 0 ID3 FIELD SPIN 0 ID0 FIELD SPIN 0 ID7 FIELD SPIN 0 ID9\n",
      "--\n",
      "Predicted_2 :  FIELD SPIN 0 ID7 FIELD SPIN 0 ID6 FIELD SPIN 0 ID6 FIELD SPIN 0 ID1\n",
      "Truth_2     :  FIELD SPIN 0 ID3 FIELD SPIN 0 ID0 FIELD SPIN 0 ID7 FIELD SPIN 0 ID9\n",
      "--\n",
      "Predicted   :  FIELD SPIN 0 ID7 FIELD SPIN 0 ID6 FIELD SPIN 0 ID0 FIELD SPIN 0 ID2\n",
      "-----\n",
      "\n",
      "\n",
      "Predicted_1 :  FIELD SPIN 0 SU3 3 SU2 2 U1 7 / 2 ID8 FIELD SPIN 0 SU3 - 3 SU2 2 U1 - 7 / 2 DAGGER ID4 FIELD SPIN 0 SU3 - 3 U1 5 / 7 ID6 FIELD SPIN 0 SU3 3 U1 - 5 / 7 DAGGER ID4 CONTRACTIONS SU3 ID0 ID3 ID6 SU3 ID3 ID6 ID5 SU2 ID0 ID3\n",
      "Truth_1     :  FIELD SPIN 0 SU3 3 SU2 2 U1 7 / 2 ID0 FIELD SPIN 0 SU3 - 3 SU2 2 U1 - 7 / 2 DAGGER ID3 FIELD SPIN 0 SU3 - 3 U1 5 / 7 ID6 FIELD SPIN 0 SU3 3 U1 - 5 / 7 DAGGER ID5 CONTRACTIONS SU3 ID0 ID3 ID6 SU3 ID3 ID6 ID5 SU2 ID0 ID3\n",
      "--\n",
      "Predicted_2 :  FIELD SPIN 0 SU3 3 SU2 2 U1 7 / 2 ID8 FIELD SPIN 0 SU3 - 3 SU2 2 U1 - 7 / 2 DAGGER ID4 FIELD SPIN 0 SU3 - 3 U1 5 / 7 ID6 FIELD SPIN 0 SU3 3 U1 - 5 / 7 DAGGER ID4 CONTRACTIONS SU3 ID0 ID3 ID6 SU3 ID3 ID6 ID5 SU2 ID0 ID3\n",
      "Truth_2     :  FIELD SPIN 0 SU3 3 SU2 2 U1 7 / 2 ID0 FIELD SPIN 0 SU3 - 3 SU2 2 U1 - 7 / 2 DAGGER ID3 FIELD SPIN 0 SU3 - 3 U1 5 / 7 ID6 FIELD SPIN 0 SU3 3 U1 - 5 / 7 DAGGER ID5 CONTRACTIONS SU3 ID0 ID3 ID6 SU3 ID3 ID6 ID5 SU2 ID0 ID3\n",
      "--\n",
      "Predicted   :  FIELD SPIN 0 SU3 3 SU2 2 U1 7 / 2 ID8 FIELD SPIN 0 SU3 - 3 SU2 2 U1 - 7 / 2 DAGGER ID4 FIELD SPIN 0 SU3 - 3 U1 5 / 7 ID6 FIELD SPIN 0 SU3 3 U1 - 5 / 7 DAGGER ID3 CONTRACTIONS SU3 ID8 ID4 ID6 SU3 ID4 ID6 ID3 SU2 ID8 ID4\n",
      "-----\n",
      "\n",
      "\n",
      "Predicted_1 :  FIELD SPIN 0 SU3 3 SU2 2 U1 7 / 2 ID4 FIELD SPIN 0 SU3 - 3 SU2 2 U1 - 7 / 2 DAGGER ID2 FIELD SPIN 0 SU3 - 3 U1 5 / 7 ID7 FIELD SPIN 0 SU3 3 U1 - 5 / 7 DAGGER ID7 CONTRACTIONS SU3 ID5 ID4 ID4 SU3 ID9 ID9 ID3 SU2 ID5 ID4\n",
      "Truth_1     :  FIELD SPIN 0 SU3 3 SU2 2 U1 7 / 2 ID5 FIELD SPIN 0 SU3 - 3 SU2 2 U1 - 7 / 2 DAGGER ID4 FIELD SPIN 0 SU3 - 3 U1 5 / 7 ID9 FIELD SPIN 0 SU3 3 U1 - 5 / 7 DAGGER ID3 CONTRACTIONS SU3 ID5 ID4 ID4 SU3 ID9 ID9 ID3 SU2 ID5 ID4\n",
      "--\n",
      "Predicted_2 :  FIELD SPIN 0 SU3 3 SU2 2 U1 7 / 2 ID4 FIELD SPIN 0 SU3 - 3 SU2 2 U1 - 7 / 2 DAGGER ID2 FIELD SPIN 0 SU3 - 3 U1 5 / 7 ID7 FIELD SPIN 0 SU3 3 U1 - 5 / 7 DAGGER ID7 CONTRACTIONS SU3 ID5 ID4 ID4 SU3 ID9 ID9 ID3 SU2 ID5 ID4\n",
      "Truth_2     :  FIELD SPIN 0 SU3 3 SU2 2 U1 7 / 2 ID5 FIELD SPIN 0 SU3 - 3 SU2 2 U1 - 7 / 2 DAGGER ID4 FIELD SPIN 0 SU3 - 3 U1 5 / 7 ID9 FIELD SPIN 0 SU3 3 U1 - 5 / 7 DAGGER ID3 CONTRACTIONS SU3 ID5 ID4 ID4 SU3 ID9 ID9 ID3 SU2 ID5 ID4\n",
      "--\n",
      "Predicted   :  FIELD SPIN 0 SU3 3 SU2 2 U1 7 / 2 ID4 FIELD SPIN 0 SU3 - 3 SU2 2 U1 - 7 / 2 DAGGER ID8 FIELD SPIN 0 SU3 - 3 U1 5 / 7 ID6 FIELD SPIN 0 SU3 3 U1 - 5 / 7 DAGGER ID5 CONTRACTIONS SU3 ID4 ID8 ID8 SU3 ID6 ID6 ID5 SU2 ID4 ID8\n",
      "-----\n",
      "\n",
      "\n",
      "Predicted_1 :  FIELD SPIN 0 SU3 3 SU2 2 U1 7 / 2 ID4 FIELD SPIN 0 SU3 3 SU2 2 U1 7 / 2 ID0 FIELD SPIN 0 SU3 - 3 SU2 2 U1 - 7 / 2 DAGGER ID0 FIELD SPIN 0 SU3 - 3 SU2 2 U1 - 7 / 2 DAGGER ID0 CONTRACTIONS SU3 ID7 ID1 ID1 SU3 ID5 ID9 ID9 SU2 ID7 ID1 SU2 ID5 ID9\n",
      "Truth_1     :  FIELD SPIN 0 SU3 3 SU2 2 U1 7 / 2 ID7 FIELD SPIN 0 SU3 3 SU2 2 U1 7 / 2 ID5 FIELD SPIN 0 SU3 - 3 SU2 2 U1 - 7 / 2 DAGGER ID1 FIELD SPIN 0 SU3 - 3 SU2 2 U1 - 7 / 2 DAGGER ID9 CONTRACTIONS SU3 ID7 ID1 ID1 SU3 ID5 ID9 ID9 SU2 ID7 ID1 SU2 ID5 ID9\n",
      "--\n",
      "Predicted_2 :  FIELD SPIN 0 SU3 3 SU2 2 U1 7 / 2 ID4 FIELD SPIN 0 SU3 3 SU2 2 U1 7 / 2 ID0 FIELD SPIN 0 SU3 - 3 SU2 2 U1 - 7 / 2 DAGGER ID0 FIELD SPIN 0 SU3 - 3 SU2 2 U1 - 7 / 2 DAGGER ID0 CONTRACTIONS SU3 ID7 ID1 ID1 SU3 ID5 ID9 ID9 SU2 ID7 ID1 SU2 ID5 ID9\n",
      "Truth_2     :  FIELD SPIN 0 SU3 3 SU2 2 U1 7 / 2 ID7 FIELD SPIN 0 SU3 3 SU2 2 U1 7 / 2 ID5 FIELD SPIN 0 SU3 - 3 SU2 2 U1 - 7 / 2 DAGGER ID1 FIELD SPIN 0 SU3 - 3 SU2 2 U1 - 7 / 2 DAGGER ID9 CONTRACTIONS SU3 ID7 ID1 ID1 SU3 ID5 ID9 ID9 SU2 ID7 ID1 SU2 ID5 ID9\n",
      "--\n",
      "Predicted   :  FIELD SPIN 0 SU3 3 SU2 2 U1 7 / 2 ID4 FIELD SPIN 0 SU3 3 SU2 2 U1 7 / 2 ID8 FIELD SPIN 0 SU3 - 3 SU2 2 U1 - 7 / 2 DAGGER ID6 FIELD SPIN 0 SU3 - 3 SU2 2 U1 - 7 / 2 DAGGER ID5 CONTRACTIONS SU3 ID4 ID6 ID6 SU3 ID8 ID5 ID5 SU2 ID4 ID6 SU2 ID8 ID5\n",
      "-----\n",
      "\n",
      "\n",
      "Predicted_1 :  FIELD SPIN 0 SU3 3 SU2 2 U1 7 / 2 ID7 FIELD SPIN 0 SU3 3 SU2 2 U1 7 / 2 ID7 FIELD SPIN 0 SU3 - 3 SU2 2 U1 - 7 / 2 DAGGER ID4 FIELD SPIN 0 SU3 - 3 SU2 2 U1 - 7 / 2 DAGGER ID9 CONTRACTIONS SU3 ID1 ID4 ID4 SU3 ID0 ID9 ID9 SU2 ID1 ID0 SU2 ID4 ID9\n",
      "Truth_1     :  FIELD SPIN 0 SU3 3 SU2 2 U1 7 / 2 ID1 FIELD SPIN 0 SU3 3 SU2 2 U1 7 / 2 ID0 FIELD SPIN 0 SU3 - 3 SU2 2 U1 - 7 / 2 DAGGER ID4 FIELD SPIN 0 SU3 - 3 SU2 2 U1 - 7 / 2 DAGGER ID9 CONTRACTIONS SU3 ID1 ID4 ID4 SU3 ID0 ID9 ID9 SU2 ID1 ID0 SU2 ID4 ID9\n",
      "--\n",
      "Predicted_2 :  FIELD SPIN 0 SU3 3 SU2 2 U1 7 / 2 ID7 FIELD SPIN 0 SU3 3 SU2 2 U1 7 / 2 ID7 FIELD SPIN 0 SU3 - 3 SU2 2 U1 - 7 / 2 DAGGER ID4 FIELD SPIN 0 SU3 - 3 SU2 2 U1 - 7 / 2 DAGGER ID9 CONTRACTIONS SU3 ID1 ID4 ID4 SU3 ID0 ID9 ID9 SU2 ID1 ID0 SU2 ID4 ID9\n",
      "Truth_2     :  FIELD SPIN 0 SU3 3 SU2 2 U1 7 / 2 ID1 FIELD SPIN 0 SU3 3 SU2 2 U1 7 / 2 ID0 FIELD SPIN 0 SU3 - 3 SU2 2 U1 - 7 / 2 DAGGER ID4 FIELD SPIN 0 SU3 - 3 SU2 2 U1 - 7 / 2 DAGGER ID9 CONTRACTIONS SU3 ID1 ID4 ID4 SU3 ID0 ID9 ID9 SU2 ID1 ID0 SU2 ID4 ID9\n",
      "--\n",
      "Predicted   :  FIELD SPIN 0 SU3 3 SU2 2 U1 7 / 2 ID6 FIELD SPIN 0 SU3 3 SU2 2 U1 7 / 2 ID7 FIELD SPIN 0 SU3 - 3 SU2 2 U1 - 7 / 2 DAGGER ID0 FIELD SPIN 0 SU3 - 3 SU2 2 U1 - 7 / 2 DAGGER ID1 CONTRACTIONS SU3 ID6 ID0 ID0 SU3 ID7 ID1 ID1 SU2 ID6 ID7 SU2 ID0 ID1\n",
      "-----\n",
      "\n",
      "\n",
      "Predicted_1 :  FIELD SPIN 0 SU3 3 SU2 2 U1 7 / 2 ID7 FIELD SPIN 0 SU3 3 SU2 2 U1 7 / 2 ID6 FIELD SPIN 0 SU3 - 3 SU2 2 U1 - 7 / 2 DAGGER ID6 FIELD SPIN 0 SU3 - 3 SU2 2 U1 - 7 / 2 DAGGER ID6 CONTRACTIONS SU3 ID3 ID9 ID5 SU3 ID5 ID2 ID2 SU2 ID3 ID5 SU2 ID9 ID2\n",
      "Truth_1     :  FIELD SPIN 0 SU3 3 SU2 2 U1 7 / 2 ID3 FIELD SPIN 0 SU3 3 SU2 2 U1 7 / 2 ID9 FIELD SPIN 0 SU3 - 3 SU2 2 U1 - 7 / 2 DAGGER ID5 FIELD SPIN 0 SU3 - 3 SU2 2 U1 - 7 / 2 DAGGER ID2 CONTRACTIONS SU3 ID3 ID9 ID5 SU3 ID5 ID2 ID2 SU2 ID3 ID5 SU2 ID9 ID2\n",
      "--\n",
      "Predicted_2 :  FIELD SPIN 0 SU3 3 SU2 2 U1 7 / 2 ID7 FIELD SPIN 0 SU3 3 SU2 2 U1 7 / 2 ID6 FIELD SPIN 0 SU3 - 3 SU2 2 U1 - 7 / 2 DAGGER ID6 FIELD SPIN 0 SU3 - 3 SU2 2 U1 - 7 / 2 DAGGER ID6 CONTRACTIONS SU3 ID3 ID9 ID5 SU3 ID5 ID2 ID2 SU2 ID3 ID5 SU2 ID9 ID2\n",
      "Truth_2     :  FIELD SPIN 0 SU3 3 SU2 2 U1 7 / 2 ID3 FIELD SPIN 0 SU3 3 SU2 2 U1 7 / 2 ID9 FIELD SPIN 0 SU3 - 3 SU2 2 U1 - 7 / 2 DAGGER ID5 FIELD SPIN 0 SU3 - 3 SU2 2 U1 - 7 / 2 DAGGER ID2 CONTRACTIONS SU3 ID3 ID9 ID5 SU3 ID5 ID2 ID2 SU2 ID3 ID5 SU2 ID9 ID2\n",
      "--\n",
      "Predicted   :  FIELD SPIN 0 SU3 3 SU2 2 U1 7 / 2 ID7 FIELD SPIN 0 SU3 3 SU2 2 U1 7 / 2 ID0 FIELD SPIN 0 SU3 - 3 SU2 2 U1 - 7 / 2 DAGGER ID9 FIELD SPIN 0 SU3 - 3 SU2 2 U1 - 7 / 2 DAGGER ID8 CONTRACTIONS SU3 ID7 ID0 ID9 SU3 ID9 ID8 ID8 SU2 ID7 ID9 SU2 ID0 ID8\n",
      "-----\n",
      "\n",
      "\n",
      "Predicted_1 :  FIELD SPIN 0 SU3 3 SU2 2 U1 7 / 2 ID6 FIELD SPIN 0 SU3 3 SU2 2 U1 7 / 2 ID4 FIELD SPIN 0 SU3 - 3 SU2 2 U1 - 7 / 2 DAGGER ID0 FIELD SPIN 0 SU3 - 3 SU2 2 U1 - 7 / 2 DAGGER ID6 CONTRACTIONS SU3 ID2 ID7 ID8 SU3 ID8 ID0 ID0 SU2 ID2 ID7 SU2 ID8 ID0\n",
      "Truth_1     :  FIELD SPIN 0 SU3 3 SU2 2 U1 7 / 2 ID2 FIELD SPIN 0 SU3 3 SU2 2 U1 7 / 2 ID7 FIELD SPIN 0 SU3 - 3 SU2 2 U1 - 7 / 2 DAGGER ID8 FIELD SPIN 0 SU3 - 3 SU2 2 U1 - 7 / 2 DAGGER ID0 CONTRACTIONS SU3 ID2 ID7 ID8 SU3 ID8 ID0 ID0 SU2 ID2 ID7 SU2 ID8 ID0\n",
      "--\n",
      "Predicted_2 :  FIELD SPIN 0 SU3 3 SU2 2 U1 7 / 2 ID6 FIELD SPIN 0 SU3 3 SU2 2 U1 7 / 2 ID4 FIELD SPIN 0 SU3 - 3 SU2 2 U1 - 7 / 2 DAGGER ID0 FIELD SPIN 0 SU3 - 3 SU2 2 U1 - 7 / 2 DAGGER ID6 CONTRACTIONS SU3 ID2 ID7 ID8 SU3 ID8 ID0 ID0 SU2 ID2 ID7 SU2 ID8 ID0\n",
      "Truth_2     :  FIELD SPIN 0 SU3 3 SU2 2 U1 7 / 2 ID2 FIELD SPIN 0 SU3 3 SU2 2 U1 7 / 2 ID7 FIELD SPIN 0 SU3 - 3 SU2 2 U1 - 7 / 2 DAGGER ID8 FIELD SPIN 0 SU3 - 3 SU2 2 U1 - 7 / 2 DAGGER ID0 CONTRACTIONS SU3 ID2 ID7 ID8 SU3 ID8 ID0 ID0 SU2 ID2 ID7 SU2 ID8 ID0\n",
      "--\n",
      "Predicted   :  FIELD SPIN 0 SU3 3 SU2 2 U1 7 / 2 ID6 FIELD SPIN 0 SU3 3 SU2 2 U1 7 / 2 ID8 FIELD SPIN 0 SU3 - 3 SU2 2 U1 - 7 / 2 DAGGER ID7 FIELD SPIN 0 SU3 - 3 SU2 2 U1 - 7 / 2 DAGGER ID0 CONTRACTIONS SU3 ID6 ID8 ID7 SU3 ID7 ID0 ID0 SU2 ID6 ID8 SU2 ID7 ID0\n",
      "-----\n",
      "\n",
      "\n",
      "Predicted_1 :  FIELD SPIN 0 SU3 - 3 U1 5 / 7 ID7 FIELD SPIN 0 SU3 - 3 U1 5 / 7 ID6 FIELD SPIN 0 SU3 3 U1 - 5 / 7 DAGGER ID6 FIELD SPIN 0 SU3 3 U1 - 5 / 7 DAGGER ID4 CONTRACTIONS SU3 ID7 ID7 ID1 SU3 ID0 ID0 ID8\n",
      "Truth_1     :  FIELD SPIN 0 SU3 - 3 U1 5 / 7 ID7 FIELD SPIN 0 SU3 - 3 U1 5 / 7 ID0 FIELD SPIN 0 SU3 3 U1 - 5 / 7 DAGGER ID1 FIELD SPIN 0 SU3 3 U1 - 5 / 7 DAGGER ID8 CONTRACTIONS SU3 ID7 ID7 ID1 SU3 ID0 ID0 ID8\n",
      "--\n",
      "Predicted_2 :  FIELD SPIN 0 SU3 - 3 U1 5 / 7 ID7 FIELD SPIN 0 SU3 - 3 U1 5 / 7 ID6 FIELD SPIN 0 SU3 3 U1 - 5 / 7 DAGGER ID6 FIELD SPIN 0 SU3 3 U1 - 5 / 7 DAGGER ID4 CONTRACTIONS SU3 ID7 ID7 ID1 SU3 ID0 ID0 ID8\n",
      "Truth_2     :  FIELD SPIN 0 SU3 - 3 U1 5 / 7 ID7 FIELD SPIN 0 SU3 - 3 U1 5 / 7 ID0 FIELD SPIN 0 SU3 3 U1 - 5 / 7 DAGGER ID1 FIELD SPIN 0 SU3 3 U1 - 5 / 7 DAGGER ID8 CONTRACTIONS SU3 ID7 ID7 ID1 SU3 ID0 ID0 ID8\n",
      "--\n",
      "Predicted   :  FIELD SPIN 0 SU3 - 3 U1 5 / 7 ID6 FIELD SPIN 0 SU3 - 3 U1 5 / 7 ID7 FIELD SPIN 0 SU3 3 U1 - 5 / 7 DAGGER ID0 FIELD SPIN 0 SU3 3 U1 - 5 / 7 DAGGER ID4 CONTRACTIONS SU3 ID6 ID6 ID0 SU3 ID7 ID7 ID4\n",
      "-----\n",
      "\n",
      "\n",
      "Predicted_1 :  FIELD SPIN 0 SU3 - 3 U1 5 / 7 ID7 FIELD SPIN 0 SU3 - 3 U1 5 / 7 ID4 FIELD SPIN 0 SU3 3 U1 - 5 / 7 DAGGER ID6 FIELD SPIN 0 SU3 3 U1 - 5 / 7 DAGGER ID6 CONTRACTIONS SU3 ID0 ID0 ID8 SU3 ID8 ID1 ID4\n",
      "Truth_1     :  FIELD SPIN 0 SU3 - 3 U1 5 / 7 ID0 FIELD SPIN 0 SU3 - 3 U1 5 / 7 ID8 FIELD SPIN 0 SU3 3 U1 - 5 / 7 DAGGER ID1 FIELD SPIN 0 SU3 3 U1 - 5 / 7 DAGGER ID4 CONTRACTIONS SU3 ID0 ID0 ID8 SU3 ID8 ID1 ID4\n",
      "--\n",
      "Predicted_2 :  FIELD SPIN 0 SU3 - 3 U1 5 / 7 ID7 FIELD SPIN 0 SU3 - 3 U1 5 / 7 ID4 FIELD SPIN 0 SU3 3 U1 - 5 / 7 DAGGER ID6 FIELD SPIN 0 SU3 3 U1 - 5 / 7 DAGGER ID6 CONTRACTIONS SU3 ID0 ID0 ID8 SU3 ID8 ID1 ID4\n",
      "Truth_2     :  FIELD SPIN 0 SU3 - 3 U1 5 / 7 ID0 FIELD SPIN 0 SU3 - 3 U1 5 / 7 ID8 FIELD SPIN 0 SU3 3 U1 - 5 / 7 DAGGER ID1 FIELD SPIN 0 SU3 3 U1 - 5 / 7 DAGGER ID4 CONTRACTIONS SU3 ID0 ID0 ID8 SU3 ID8 ID1 ID4\n",
      "--\n",
      "Predicted   :  FIELD SPIN 0 SU3 - 3 U1 5 / 7 ID7 FIELD SPIN 0 SU3 - 3 U1 5 / 7 ID0 FIELD SPIN 0 SU3 3 U1 - 5 / 7 DAGGER ID4 FIELD SPIN 0 SU3 3 U1 - 5 / 7 DAGGER ID1 CONTRACTIONS SU3 ID7 ID7 ID0 SU3 ID0 ID4 ID1\n",
      "-----\n",
      "\n",
      "\n",
      "Predicted_1 :  DERIVATIVE SU2 U1 ID2 FIELD SPIN 0 SU2 2 U1 - 1 / 4 DAGGER ID6 DERIVATIVE SU2 U1 ID6 FIELD SPIN 0 SU2 2 U1 1 / 4 ID6 CONTRACTIONS LORENTZ ID3 ID9 SU2 ID8 ID6\n",
      "Truth_1     :  DERIVATIVE SU2 U1 ID3 FIELD SPIN 0 SU2 2 U1 - 1 / 4 DAGGER ID8 DERIVATIVE SU2 U1 ID9 FIELD SPIN 0 SU2 2 U1 1 / 4 ID6 CONTRACTIONS LORENTZ ID3 ID9 SU2 ID8 ID6\n",
      "--\n",
      "Predicted_2 :  DERIVATIVE SU2 U1 ID2 FIELD SPIN 0 SU2 2 U1 - 1 / 4 DAGGER ID6 DERIVATIVE SU2 U1 ID6 FIELD SPIN 0 SU2 2 U1 1 / 4 ID6 CONTRACTIONS LORENTZ ID3 ID9 SU2 ID8 ID6\n",
      "Truth_2     :  DERIVATIVE SU2 U1 ID3 FIELD SPIN 0 SU2 2 U1 - 1 / 4 DAGGER ID8 DERIVATIVE SU2 U1 ID9 FIELD SPIN 0 SU2 2 U1 1 / 4 ID6 CONTRACTIONS LORENTZ ID3 ID9 SU2 ID8 ID6\n",
      "--\n",
      "Predicted   :  DERIVATIVE SU2 U1 ID7 FIELD SPIN 0 SU2 2 U1 - 1 / 4 DAGGER ID0 DERIVATIVE SU2 U1 ID6 FIELD SPIN 0 SU2 2 U1 1 / 4 ID1 CONTRACTIONS LORENTZ ID7 ID6 SU2 ID0 ID1\n",
      "-----\n",
      "\n",
      "\n",
      "Predicted_1 :  i FIELD SPIN 1 / 2 SU3 3 SU2 3 U1 - 3 / 4 HEL 1 / 2 DAGGER ID4 SIGMA_BAR ID6 DERIVATIVE SU3 SU2 U1 ID6 FIELD SPIN 1 / 2 SU3 - 3 SU2 3 U1 3 / 4 HEL - 1 / 2 ID6 CONTRACTIONS LORENTZ ID8 ID4 LORENTZ ID8 ID7 ID3 SU3 ID7 ID3 SU2 ID7 ID3\n",
      "Truth_1     :  i FIELD SPIN 1 / 2 SU3 3 SU2 3 U1 - 3 / 4 HEL 1 / 2 DAGGER ID7 SIGMA_BAR ID8 DERIVATIVE SU3 SU2 U1 ID4 FIELD SPIN 1 / 2 SU3 - 3 SU2 3 U1 3 / 4 HEL - 1 / 2 ID3 CONTRACTIONS LORENTZ ID8 ID4 LORENTZ ID8 ID7 ID3 SU3 ID7 ID3 SU2 ID7 ID3\n",
      "--\n",
      "Predicted_2 :  i FIELD SPIN 1 / 2 SU3 3 SU2 3 U1 - 3 / 4 HEL 1 / 2 DAGGER ID4 SIGMA_BAR ID6 DERIVATIVE SU3 SU2 U1 ID6 FIELD SPIN 1 / 2 SU3 - 3 SU2 3 U1 3 / 4 HEL - 1 / 2 ID6 CONTRACTIONS LORENTZ ID8 ID4 LORENTZ ID8 ID7 ID3 SU3 ID7 ID3 SU2 ID7 ID3\n",
      "Truth_2     :  i FIELD SPIN 1 / 2 SU3 3 SU2 3 U1 - 3 / 4 HEL 1 / 2 DAGGER ID7 SIGMA_BAR ID8 DERIVATIVE SU3 SU2 U1 ID4 FIELD SPIN 1 / 2 SU3 - 3 SU2 3 U1 3 / 4 HEL - 1 / 2 ID3 CONTRACTIONS LORENTZ ID8 ID4 LORENTZ ID8 ID7 ID3 SU3 ID7 ID3 SU2 ID7 ID3\n",
      "--\n",
      "Predicted   :  i FIELD SPIN 1 / 2 SU3 3 SU2 3 U1 - 3 / 4 HEL 1 / 2 DAGGER ID7 SIGMA_BAR ID6 DERIVATIVE SU3 SU2 U1 ID0 FIELD SPIN 1 / 2 SU3 - 3 SU2 3 U1 3 / 4 HEL - 1 / 2 ID4 CONTRACTIONS LORENTZ ID6 ID0 LORENTZ ID6 ID7 ID4 SU3 ID7 ID4 SU2 ID7 ID4\n",
      "-----\n",
      "\n",
      "\n",
      "Predicted_1 :  DERIVATIVE ID8 FIELD SPIN 0 DAGGER ID8 DERIVATIVE ID8 FIELD SPIN 0 ID7 CONTRACTIONS LORENTZ ID9 ID4\n",
      "Truth_1     :  DERIVATIVE ID9 FIELD SPIN 0 DAGGER ID3 DERIVATIVE ID4 FIELD SPIN 0 ID2 CONTRACTIONS LORENTZ ID9 ID4\n",
      "--\n",
      "Predicted_2 :  DERIVATIVE ID0 FIELD SPIN 0 DAGGER ID8 DERIVATIVE ID8 FIELD SPIN 0 ID8 CONTRACTIONS LORENTZ ID9 ID4\n",
      "Truth_2     :  DERIVATIVE ID9 FIELD SPIN 0 DAGGER ID3 DERIVATIVE ID4 FIELD SPIN 0 ID2 CONTRACTIONS LORENTZ ID9 ID4\n",
      "--\n",
      "Predicted   :  DERIVATIVE ID5 FIELD SPIN 0 DAGGER ID2 DERIVATIVE ID3 FIELD SPIN 0 ID7 CONTRACTIONS LORENTZ ID5 ID3\n",
      "-----\n",
      "\n",
      "\n",
      "Predicted_1 :  DERIVATIVE SU3 SU2 U1 ID6 FIELD SPIN 0 SU3 - 3 SU2 2 U1 - 7 / 2 DAGGER ID4 DERIVATIVE SU3 SU2 U1 ID8 FIELD SPIN 0 SU3 3 SU2 2 U1 7 / 2 ID8 CONTRACTIONS LORENTZ ID5 ID4 SU3 ID9 ID8 SU2 ID9 ID8\n",
      "Truth_1     :  DERIVATIVE SU3 SU2 U1 ID5 FIELD SPIN 0 SU3 - 3 SU2 2 U1 - 7 / 2 DAGGER ID9 DERIVATIVE SU3 SU2 U1 ID4 FIELD SPIN 0 SU3 3 SU2 2 U1 7 / 2 ID8 CONTRACTIONS LORENTZ ID5 ID4 SU3 ID9 ID8 SU2 ID9 ID8\n",
      "--\n",
      "Predicted_2 :  DERIVATIVE SU3 SU2 U1 ID6 FIELD SPIN 0 SU3 - 3 SU2 2 U1 - 7 / 2 DAGGER ID2 DERIVATIVE SU3 SU2 U1 ID8 FIELD SPIN 0 SU3 3 SU2 2 U1 7 / 2 ID8 CONTRACTIONS LORENTZ ID5 ID4 SU3 ID9 ID8 SU2 ID9 ID8\n",
      "Truth_2     :  DERIVATIVE SU3 SU2 U1 ID5 FIELD SPIN 0 SU3 - 3 SU2 2 U1 - 7 / 2 DAGGER ID9 DERIVATIVE SU3 SU2 U1 ID4 FIELD SPIN 0 SU3 3 SU2 2 U1 7 / 2 ID8 CONTRACTIONS LORENTZ ID5 ID4 SU3 ID9 ID8 SU2 ID9 ID8\n",
      "--\n",
      "Predicted   :  DERIVATIVE SU3 SU2 U1 ID6 FIELD SPIN 0 SU3 - 3 SU2 2 U1 - 7 / 2 DAGGER ID7 DERIVATIVE SU3 SU2 U1 ID0 FIELD SPIN 0 SU3 3 SU2 2 U1 7 / 2 ID8 CONTRACTIONS LORENTZ ID6 ID0 SU3 ID7 ID8 SU2 ID7 ID8\n",
      "-----\n",
      "\n",
      "\n",
      "Predicted_1 :  DERIVATIVE SU3 U1 ID4 FIELD SPIN 0 SU3 3 U1 - 5 / 7 DAGGER ID0 DERIVATIVE SU3 U1 ID0 FIELD SPIN 0 SU3 - 3 U1 5 / 7 ID2 CONTRACTIONS LORENTZ ID7 ID6 SU3 ID5 ID3\n",
      "Truth_1     :  DERIVATIVE SU3 U1 ID7 FIELD SPIN 0 SU3 3 U1 - 5 / 7 DAGGER ID5 DERIVATIVE SU3 U1 ID6 FIELD SPIN 0 SU3 - 3 U1 5 / 7 ID3 CONTRACTIONS LORENTZ ID7 ID6 SU3 ID5 ID3\n",
      "--\n",
      "Predicted_2 :  DERIVATIVE SU3 U1 ID4 FIELD SPIN 0 SU3 3 U1 - 5 / 7 DAGGER ID0 DERIVATIVE SU3 U1 ID0 FIELD SPIN 0 SU3 - 3 U1 5 / 7 ID2 CONTRACTIONS LORENTZ ID7 ID6 SU3 ID5 ID3\n",
      "Truth_2     :  DERIVATIVE SU3 U1 ID7 FIELD SPIN 0 SU3 3 U1 - 5 / 7 DAGGER ID5 DERIVATIVE SU3 U1 ID6 FIELD SPIN 0 SU3 - 3 U1 5 / 7 ID3 CONTRACTIONS LORENTZ ID7 ID6 SU3 ID5 ID3\n",
      "--\n",
      "Predicted   :  DERIVATIVE SU3 U1 ID6 FIELD SPIN 0 SU3 3 U1 - 5 / 7 DAGGER ID7 DERIVATIVE SU3 U1 ID0 FIELD SPIN 0 SU3 - 3 U1 5 / 7 ID4 CONTRACTIONS LORENTZ ID6 ID0 SU3 ID7 ID4\n",
      "-----\n",
      "\n",
      "\n",
      "Predicted_1 :  - COMMUTATOR_A DERIVATIVE SU2 ID4 COMMUTATOR_B DERIVATIVE SU2 ID4 COMMUTATOR_A DERIVATIVE SU2 ID2 COMMUTATOR_B DERIVATIVE SU2 ID2 CONTRACTIONS LORENTZ ID0 ID9 LORENTZ ID5 ID6\n",
      "Truth_1     :  - COMMUTATOR_A DERIVATIVE SU2 ID0 COMMUTATOR_B DERIVATIVE SU2 ID5 COMMUTATOR_A DERIVATIVE SU2 ID9 COMMUTATOR_B DERIVATIVE SU2 ID6 CONTRACTIONS LORENTZ ID0 ID9 LORENTZ ID5 ID6\n",
      "--\n",
      "Predicted_2 :  - COMMUTATOR_A DERIVATIVE SU2 ID4 COMMUTATOR_B DERIVATIVE SU2 ID4 COMMUTATOR_A DERIVATIVE SU2 ID2 COMMUTATOR_B DERIVATIVE SU2 ID2 CONTRACTIONS LORENTZ ID0 ID9 LORENTZ ID5 ID6\n",
      "Truth_2     :  - COMMUTATOR_A DERIVATIVE SU2 ID0 COMMUTATOR_B DERIVATIVE SU2 ID5 COMMUTATOR_A DERIVATIVE SU2 ID9 COMMUTATOR_B DERIVATIVE SU2 ID6 CONTRACTIONS LORENTZ ID0 ID9 LORENTZ ID5 ID6\n",
      "--\n",
      "Predicted   :  - COMMUTATOR_A DERIVATIVE SU2 ID6 COMMUTATOR_B DERIVATIVE SU2 ID7 COMMUTATOR_A DERIVATIVE SU2 ID0 COMMUTATOR_B DERIVATIVE SU2 ID4 CONTRACTIONS LORENTZ ID6 ID0 LORENTZ ID7 ID4\n",
      "-----\n",
      "\n",
      "\n",
      "Predicted_1 :  FIELD SPIN 0 SU2 2 U1 - 1 / 4 DAGGER ID7 FIELD SPIN 0 SU2 2 U1 1 / 4 ID6 CONTRACTIONS SU2 ID3 ID2\n",
      "Truth_1     :  FIELD SPIN 0 SU2 2 U1 - 1 / 4 DAGGER ID3 FIELD SPIN 0 SU2 2 U1 1 / 4 ID2 CONTRACTIONS SU2 ID3 ID2\n",
      "--\n",
      "Predicted_2 :  FIELD SPIN 0 SU2 2 U1 - 1 / 4 DAGGER ID7 FIELD SPIN 0 SU2 2 U1 1 / 4 ID6 CONTRACTIONS SU2 ID3 ID2\n",
      "Truth_2     :  FIELD SPIN 0 SU2 2 U1 - 1 / 4 DAGGER ID3 FIELD SPIN 0 SU2 2 U1 1 / 4 ID2 CONTRACTIONS SU2 ID3 ID2\n",
      "--\n",
      "Predicted   :  FIELD SPIN 0 SU2 2 U1 - 1 / 4 DAGGER ID7 FIELD SPIN 0 SU2 2 U1 1 / 4 ID6 CONTRACTIONS SU2 ID7 ID6\n",
      "-----\n",
      "\n",
      "\n",
      "Predicted_1 :  FIELD SPIN 0 DAGGER ID7 FIELD SPIN 0 ID6 CONTRACTIONS\n",
      "Truth_1     :  FIELD SPIN 0 DAGGER ID8 FIELD SPIN 0 ID1 CONTRACTIONS\n",
      "--\n",
      "Predicted_2 :  FIELD SPIN 0 DAGGER ID7 FIELD SPIN 0 ID6 CONTRACTIONS\n",
      "Truth_2     :  FIELD SPIN 0 DAGGER ID8 FIELD SPIN 0 ID1 CONTRACTIONS\n",
      "--\n",
      "Predicted   :  FIELD SPIN 0 DAGGER ID7 FIELD SPIN 0 ID6 CONTRACTIONS\n",
      "-----\n",
      "\n",
      "\n",
      "Predicted_1 :  FIELD SPIN 0 SU3 - 3 SU2 2 U1 - 7 / 2 DAGGER ID7 FIELD SPIN 0 SU3 3 SU2 2 U1 7 / 2 ID6 CONTRACTIONS SU3 ID3 ID7 SU2 ID3 ID7\n",
      "Truth_1     :  FIELD SPIN 0 SU3 - 3 SU2 2 U1 - 7 / 2 DAGGER ID3 FIELD SPIN 0 SU3 3 SU2 2 U1 7 / 2 ID7 CONTRACTIONS SU3 ID3 ID7 SU2 ID3 ID7\n",
      "--\n",
      "Predicted_2 :  FIELD SPIN 0 SU3 - 3 SU2 2 U1 - 7 / 2 DAGGER ID7 FIELD SPIN 0 SU3 3 SU2 2 U1 7 / 2 ID6 CONTRACTIONS SU3 ID3 ID7 SU2 ID3 ID7\n",
      "Truth_2     :  FIELD SPIN 0 SU3 - 3 SU2 2 U1 - 7 / 2 DAGGER ID3 FIELD SPIN 0 SU3 3 SU2 2 U1 7 / 2 ID7 CONTRACTIONS SU3 ID3 ID7 SU2 ID3 ID7\n",
      "--\n",
      "Predicted   :  FIELD SPIN 0 SU3 - 3 SU2 2 U1 - 7 / 2 DAGGER ID7 FIELD SPIN 0 SU3 3 SU2 2 U1 7 / 2 ID6 CONTRACTIONS SU3 ID7 ID6 SU2 ID7 ID6\n",
      "-----\n",
      "\n",
      "\n",
      "Predicted_1 :  FIELD SPIN 0 SU3 3 U1 - 5 / 7 DAGGER ID0 FIELD SPIN 0 SU3 - 3 U1 5 / 7 ID7 CONTRACTIONS SU3 ID6 ID4\n",
      "Truth_1     :  FIELD SPIN 0 SU3 3 U1 - 5 / 7 DAGGER ID6 FIELD SPIN 0 SU3 - 3 U1 5 / 7 ID4 CONTRACTIONS SU3 ID6 ID4\n",
      "--\n",
      "Predicted_2 :  FIELD SPIN 0 SU3 3 U1 - 5 / 7 DAGGER ID0 FIELD SPIN 0 SU3 - 3 U1 5 / 7 ID7 CONTRACTIONS SU3 ID6 ID4\n",
      "Truth_2     :  FIELD SPIN 0 SU3 3 U1 - 5 / 7 DAGGER ID6 FIELD SPIN 0 SU3 - 3 U1 5 / 7 ID4 CONTRACTIONS SU3 ID6 ID4\n",
      "--\n",
      "Predicted   :  FIELD SPIN 0 SU3 3 U1 - 5 / 7 DAGGER ID0 FIELD SPIN 0 SU3 - 3 U1 5 / 7 ID4 CONTRACTIONS SU3 ID0\n",
      "-----\n",
      "\n",
      "\n"
     ]
    }
   ],
   "source": [
    "for p1,p2,t1,t2,p in zip(le.split_terms(predicted_string_1),le.split_terms(predicted_string_2), le.split_terms(lag_truth_1), le.split_terms(lag_truth_2),le.split_terms(predicted_string)):\n",
    "    print(\"Predicted_1 : \",p1)\n",
    "    print(\"Truth_1     : \",t1)\n",
    "    print(\"--\")\n",
    "    print(\"Predicted_2 : \",p2)\n",
    "    print(\"Truth_2     : \",t2)\n",
    "    print(\"--\")\n",
    "    print(\"Predicted   : \",p)\n",
    "    print(\"-----\")\n",
    "    print()\n",
    "    print()\n",
    "    "
   ]
  },
  {
   "cell_type": "markdown",
   "id": "bdcf97e2",
   "metadata": {},
   "source": [
    "## Embedding analysis : What has it really learn?"
   ]
  },
  {
   "cell_type": "markdown",
   "id": "72478e40",
   "metadata": {},
   "source": [
    "Considerations : \n",
    "- Is efficiency the only think you need? \n",
    "- Or is it important for you to know whether the model knows what it is learning? \n",
    "\n",
    "Practical Questions : \n",
    "- Can it associate inputs to some embedding space? <br> \n",
    "- Can it understand relations between inputs?  <br> "
   ]
  },
  {
   "cell_type": "markdown",
   "id": "8bd7a58d",
   "metadata": {},
   "source": [
    "### What is embedding analysis? \n"
   ]
  },
  {
   "cell_type": "markdown",
   "id": "85ed3dde",
   "metadata": {},
   "source": [
    "Basically information encoded in a learned vector space. "
   ]
  },
  {
   "cell_type": "markdown",
   "id": "9041fe80",
   "metadata": {},
   "source": [
    "<h4> Example in English-German translation"
   ]
  },
  {
   "cell_type": "markdown",
   "id": "f60130ae",
   "metadata": {},
   "source": [
    "![Embeddings in LLM](https://miro.medium.com/v2/resize:fit:4800/format:webp/1*52X2L01wpUjy39lIjofC7g.jpeg)"
   ]
  },
  {
   "cell_type": "markdown",
   "id": "c9c3bd51",
   "metadata": {},
   "source": [
    "<h4> Example of food words embeddings and their corresponding possible axis"
   ]
  },
  {
   "cell_type": "markdown",
   "id": "41fb71eb",
   "metadata": {},
   "source": [
    "![Embeddings in LLM](https://developers.google.com/static/machine-learning/crash-course/images/embeddings_3D_tangyuan.png)"
   ]
  },
  {
   "cell_type": "markdown",
   "id": "d7de8251",
   "metadata": {},
   "source": [
    "### Example : Embeddings of different field symbols"
   ]
  },
  {
   "cell_type": "code",
   "execution_count": 139,
   "id": "6dfb9e61",
   "metadata": {},
   "outputs": [],
   "source": [
    "sampled_df[\"nfields\"] = sampled_df[\"fields\"].apply(lambda x: x.count(\"FIELD\"))\n",
    "sampled_1f_scenarios_df = sampled_df[sampled_df[\"nfields\"]==1]\n",
    "sampled_1f_scenarios_df = sampled_1f_scenarios_df.sample(1000)"
   ]
  },
  {
   "cell_type": "code",
   "execution_count": 140,
   "id": "9cf514d5",
   "metadata": {},
   "outputs": [],
   "source": [
    "fields      = sampled_1f_scenarios_df[\"fields\"].apply(lambda x: set([\"FIELD \"+k for k in x.split(\"FIELD \") if k != \"\"])).to_list()\n",
    "uniq_fields_list_1f = list(set.union(*(fields)))\n",
    "uniq_fields_list_1f = [str((\"[SOS] \"+ k + \" [EOS]\").replace(\"  \",\" \")) for k in uniq_fields_list_1f]\n",
    "uniq_fields_list_1f = np.unique(uniq_fields_list_1f).tolist()\n"
   ]
  },
  {
   "cell_type": "code",
   "execution_count": 141,
   "id": "9db4d73c",
   "metadata": {},
   "outputs": [
    {
     "name": "stdout",
     "output_type": "stream",
     "text": [
      "[SOS] FIELD SPIN 0 SU2 2 U1 - 1 / 4 [EOS]\n",
      "[SOS] FIELD SPIN 0 SU2 2 U1 - 1 / 8 [EOS]\n",
      "[SOS] FIELD SPIN 0 SU2 2 U1 - 2 / 7 [EOS]\n",
      "[SOS] FIELD SPIN 0 SU2 2 U1 - 2 [EOS]\n",
      "[SOS] FIELD SPIN 0 SU2 2 U1 - 3 / 2 [EOS]\n",
      "[SOS] FIELD SPIN 0 SU2 2 U1 - 3 / 5 [EOS]\n",
      "[SOS] FIELD SPIN 0 SU2 2 U1 - 3 / 7 [EOS]\n",
      "[SOS] FIELD SPIN 0 SU2 2 U1 - 3 [EOS]\n",
      "[SOS] FIELD SPIN 0 SU2 2 U1 - 4 / 9 [EOS]\n",
      "[SOS] FIELD SPIN 0 SU2 2 U1 - 5 / 3 [EOS]\n"
     ]
    }
   ],
   "source": [
    "# Have a look at the first 10 unique fields\n",
    "for i in uniq_fields_list_1f[:10]:\n",
    "    print(i)"
   ]
  },
  {
   "cell_type": "code",
   "execution_count": 142,
   "id": "7cef2e6b",
   "metadata": {},
   "outputs": [
    {
     "name": "stderr",
     "output_type": "stream",
     "text": [
      "/tmp/ipykernel_29727/1579116785.py:3: UserWarning: To copy construct from a tensor, it is recommended to use sourceTensor.clone().detach() or sourceTensor.clone().detach().requires_grad_(True), rather than torch.tensor(sourceTensor).\n",
      "  data_loader  = DataLoader( torch.tensor(inputs_batch[\"input_ids\"]).to(device), batch_size=32)\n"
     ]
    }
   ],
   "source": [
    "from torch.utils.data import DataLoader\n",
    "inputs_batch = hf_tokenizer(uniq_fields_list_1f, return_tensors='pt', truncation=True,padding=True).to(device)\n",
    "data_loader  = DataLoader( torch.tensor(inputs_batch[\"input_ids\"]).to(device), batch_size=32)"
   ]
  },
  {
   "cell_type": "code",
   "execution_count": 143,
   "id": "3ff1124f",
   "metadata": {},
   "outputs": [
    {
     "name": "stderr",
     "output_type": "stream",
     "text": [
      "100%|██████████| 32/32 [01:55<00:00,  3.62s/it]\n"
     ]
    }
   ],
   "source": [
    "from tqdm import tqdm\n",
    "\n",
    "# Example of getting embeddings of specific cases\n",
    "\n",
    "all_embedding_1f = []\n",
    "with torch.no_grad():\n",
    "    model.eval()\n",
    "    for xinput in tqdm(data_loader):\n",
    "        outputs = model(xinput.to(device), output_hidden_states=True)\n",
    "        # Get the embeddings, which we choose to be the encoder's last hidden state of the first token\n",
    "        embeddings_enc = outputs.encoder_last_hidden_state[:, 0, :].cpu().numpy()\n",
    "        all_embedding_1f.append( torch.tensor(embeddings_enc))\n",
    "\n",
    "\n"
   ]
  },
  {
   "cell_type": "code",
   "execution_count": 144,
   "id": "185713fd",
   "metadata": {},
   "outputs": [],
   "source": [
    "all_embedding_1f = torch.cat(all_embedding_1f, dim=0)"
   ]
  },
  {
   "cell_type": "code",
   "execution_count": 145,
   "id": "eef20ad4",
   "metadata": {},
   "outputs": [
    {
     "data": {
      "text/plain": [
       "torch.Size([1000, 1024])"
      ]
     },
     "execution_count": 145,
     "metadata": {},
     "output_type": "execute_result"
    }
   ],
   "source": [
    "all_embedding_1f.shape # (100, 1024) = 100 samples, 1024 dimension "
   ]
  },
  {
   "cell_type": "code",
   "execution_count": 146,
   "id": "671d4a46",
   "metadata": {},
   "outputs": [
    {
     "name": "stderr",
     "output_type": "stream",
     "text": [
      "/home/ys/.local/lib/python3.8/site-packages/sklearn/manifold/_t_sne.py:780: FutureWarning: The default initialization in TSNE will change from 'random' to 'pca' in 1.2.\n",
      "  warnings.warn(\n",
      "/home/ys/.local/lib/python3.8/site-packages/sklearn/manifold/_t_sne.py:790: FutureWarning: The default learning rate in TSNE will change from 200.0 to 'auto' in 1.2.\n",
      "  warnings.warn(\n"
     ]
    }
   ],
   "source": [
    "from sklearn.manifold import TSNE\n",
    "\n",
    "tsne = TSNE(n_components=3)\n",
    "tsne_results = tsne.fit_transform(all_embedding_1f)\n",
    "\n"
   ]
  },
  {
   "cell_type": "code",
   "execution_count": 147,
   "id": "d5bb9b3f",
   "metadata": {},
   "outputs": [],
   "source": [
    "\n",
    "def plot_3d_tsne(tsne_results, clusters_dat, with_noise=True,elev=30, azim=30,info_dict=None,cluster_order=None,title=\"3D Clusters of BART\"):\n",
    "    \"\"\"\n",
    "    Plots a 3D scatter plot of t-SNE results\n",
    "    \n",
    "    Parameters:\n",
    "    - tsne_results (numpy.ndarray): The 3D coordinates from t-SNE, shape (n_samples, 3).\n",
    "    - clusters_dat (numpy.ndarray): The cluster labels from DBSCAN, shape (n_samples,).\n",
    "    - elev (float): Elevation angle for the 3D plot.\n",
    "    - azim (float): Azimuthal angle for the 3D plot.\n",
    "    \"\"\"\n",
    "    if cluster_order is None: cluster_order = np.unique(clusters_dat)\n",
    "\n",
    "    colors = plt.colormaps['tab20']\n",
    "    \n",
    "    if info_dict is not None: cluster_colors = {cluster: colors(i) for i, cluster in enumerate(info_dict.keys())}\n",
    "    else                    : cluster_colors = {cluster: colors(i) for i, cluster in enumerate(cluster_order)}\n",
    "\n",
    "    # Create an interactive 3D scatter plot\n",
    "    fig = plt.figure(figsize=(10, 5))\n",
    "    \n",
    "    ax = fig.add_subplot(111, projection='3d')\n",
    "    ax.view_init(elev=elev, azim=azim)\n",
    "\n",
    "    for cluster in cluster_order:\n",
    "        if not with_noise and cluster == -1: continue\n",
    "        cluster_points = tsne_results[np.array(clusters_dat) == cluster]\n",
    "        if info_dict is None:\n",
    "            cluster_label=f'Cluster {cluster}'\n",
    "        else:\n",
    "            try    :cluster_label=f'{info_dict[cluster][\"tag\"]}'\n",
    "            except :cluster_label=f'{info_dict[cluster]}'\n",
    "\n",
    "        ax.scatter(cluster_points[:, 0], cluster_points[:, 1], cluster_points[:, 2], \n",
    "                       color=cluster_colors[cluster], label=cluster_label, alpha=0.7)\n",
    "\n",
    "    \n",
    "    ax.legend(loc='lower right', fontsize=\"medium\", bbox_to_anchor=(.35, .65))\n",
    "\n",
    "    # Setting labels and title\n",
    "    ax.set_xlabel('TSNE Component 1',fontsize=\"medium\")\n",
    "    ax.set_ylabel('TSNE Component 2',fontsize=\"medium\")\n",
    "    ax.set_zlabel('TSNE Component 3',fontsize=\"medium\")\n",
    "    ax.tick_params(labelsize=\"small\")    # Use ax.set_title() for a 3D plot and adjust the padding\n",
    "    # Use fig.suptitle instead of ax.set_title for better control\n",
    "    fig.suptitle(title, fontsize=\"large\")  # y controls the vertical position; lower values move it closer to the plot\n",
    "\n",
    "    # Adjust layout to prevent overlapping\n",
    "    plt.tight_layout()\n",
    "    plt.subplots_adjust(top=0.88)  # You can further lower the top value to move the plot down\n"
   ]
  },
  {
   "cell_type": "code",
   "execution_count": null,
   "id": "885afcf0",
   "metadata": {},
   "outputs": [],
   "source": [
    "# In case it takes forever, load the tsne reduced embedding vectors\n",
    "# with open(\"./tsne_results.pkl\", 'rb') as f:    tsne_results = pickle.load(f)"
   ]
  },
  {
   "cell_type": "code",
   "execution_count": 148,
   "id": "28c65e08",
   "metadata": {},
   "outputs": [
    {
     "data": {
      "application/vnd.jupyter.widget-view+json": {
       "model_id": "0d30c19e990b4da4bd7ad532dfc7ef58",
       "version_major": 2,
       "version_minor": 0
      },
      "text/plain": [
       "interactive(children=(FloatSlider(value=30.0, description='Elev', max=90.0, step=1.0), FloatSlider(value=84.0,…"
      ]
     },
     "metadata": {},
     "output_type": "display_data"
    }
   ],
   "source": [
    "import ipywidgets as widgets\n",
    "\n",
    "elev_slider = widgets.FloatSlider(min=0, max=90, step=1, value=30, description='Elev')\n",
    "azim_slider = widgets.FloatSlider(min=0, max=360, step=1, value=84, description='Azim')\n",
    "widgets.interactive(plot_3d_tsne, \n",
    "                    tsne_results   = widgets.fixed(tsne_results), \n",
    "                    clusters_dat   = widgets.fixed(sampled_1f_scenarios_df[\"nfields\"].to_numpy()), \n",
    "                    with_noise     = widgets.fixed(True),\n",
    "                    elev           = elev_slider, \n",
    "                    azim           = azim_slider,\n",
    "                    info_dict      = widgets.fixed({1:\"Embedded Vectors\"}),\n",
    "                    cluster_order  = widgets.fixed(None),\n",
    "                    title          = widgets.fixed(\"SPIN clusters\")\n",
    "                    )\n",
    "\n",
    "# in case widgets are not available\n",
    "# plot_3d_tsne(tsne_results, clusters_dat=sampled_1f_scenarios_df[\"nfields\"].to_numpy(),with_noise=True, elev=30, azim=30,info_dict={1:\"Embedded Vectors\"},cluster_order=None,title=\"3D Clusters of BART\")"
   ]
  },
  {
   "cell_type": "code",
   "execution_count": 149,
   "id": "24ced615",
   "metadata": {},
   "outputs": [
    {
     "data": {
      "application/vnd.jupyter.widget-view+json": {
       "model_id": "9b0a1f7bbdc940479f7e9d1069ea3b7b",
       "version_major": 2,
       "version_minor": 0
      },
      "text/plain": [
       "interactive(children=(FloatSlider(value=30.0, description='Elev', max=90.0, step=1.0), FloatSlider(value=84.0,…"
      ]
     },
     "metadata": {},
     "output_type": "display_data"
    }
   ],
   "source": [
    "cluster_SPIN_dat_true   = [\"A\" if \"SPIN 0\" in j else \"B\" if (\"SPIN 0\" not in j and \"HEL 1\" not in j) else \"C\" if (\"SPIN 0\" not in j and \"HEL 1\" in j) else \"D\" for i,j in zip(tsne_results,uniq_fields_list_1f)  ]\n",
    "cluster_SPIN_info_dict  = {\"B\":r\"$\\psi_L$\" + \" : LH Fermions\",\"C\":r\"$\\psi_R$\" + \" : RH Fermions\",\"A\":r\"$\\phi$\" + \" : Scalars\" ,\"D\":\"?\" }\n",
    "\n",
    "elev_slider = widgets.FloatSlider(min=0, max=90, step=1, value=30, description='Elev')\n",
    "azim_slider = widgets.FloatSlider(min=0, max=360, step=1, value=84, description='Azim')\n",
    "widgets.interactive(plot_3d_tsne, \n",
    "                    tsne_results   = widgets.fixed(tsne_results), \n",
    "                    clusters_dat   = widgets.fixed(cluster_SPIN_dat_true), \n",
    "                    with_noise     = widgets.fixed(True),\n",
    "                    elev           = elev_slider, \n",
    "                    azim           = azim_slider,\n",
    "                    info_dict      = widgets.fixed(cluster_SPIN_info_dict),\n",
    "                    cluster_order  = widgets.fixed(None),\n",
    "                    title          = widgets.fixed(\"SPIN clusters\")\n",
    "                    )\n",
    "\n",
    "# In case widgets are not available\n",
    "# plot_3d_tsne(tsne_results, clusters_dat=cluster_SPIN_dat_true,with_noise=False, elev=30, azim=30,info_dict=cluster_SPIN_info_dict,cluster_order=None,title=\"Lorentz\")"
   ]
  },
  {
   "cell_type": "code",
   "execution_count": 150,
   "id": "875d2326",
   "metadata": {},
   "outputs": [
    {
     "data": {
      "application/vnd.jupyter.widget-view+json": {
       "model_id": "73e22250a84840468ffc3c85e3d233e6",
       "version_major": 2,
       "version_minor": 0
      },
      "text/plain": [
       "interactive(children=(FloatSlider(value=30.0, description='Elev', max=90.0, step=1.0), FloatSlider(value=84.0,…"
      ]
     },
     "metadata": {},
     "output_type": "display_data"
    }
   ],
   "source": [
    "cluster_SU3_dat_true  = [\"3\" if \"SU3 3\" in j else r\"$\\overline{3}$\" if \"SU3 - 3\" in j    else \"1\" for i,j in zip(tsne_results,uniq_fields_list_1f)  ]\n",
    "cluster_SU3_info_dict = {\"3\":\"3: Triplets\"     ,r\"$\\overline{3}$\":r\"$\\overline{3}$\" + \": Anti-Triplets\"     ,\"1\":\"1: Singlets\" }\n",
    "\n",
    "elev_slider = widgets.FloatSlider(min=0, max=90, step=1, value=30, description='Elev')\n",
    "azim_slider = widgets.FloatSlider(min=0, max=360, step=1, value=84, description='Azim')\n",
    "widgets.interactive(plot_3d_tsne, \n",
    "                    tsne_results   = widgets.fixed(tsne_results), \n",
    "                    clusters_dat   = widgets.fixed(cluster_SU3_dat_true), \n",
    "                    with_noise     = widgets.fixed(True),\n",
    "                    elev           = elev_slider, \n",
    "                    azim           = azim_slider,\n",
    "                    info_dict      = widgets.fixed(cluster_SU3_info_dict),\n",
    "                    cluster_order  = widgets.fixed(None),\n",
    "                    title          = widgets.fixed(\"SPIN clusters\")\n",
    "                    )\n",
    "\n",
    "# In case widgets are not available\n",
    "# plot_3d_tsne(tsne_results, clusters_dat=cluster_SU3_dat_true,with_noise=False, elev=30, azim=30,info_dict=cluster_SU3_info_dict,cluster_order=None,title=\"Lorentz\")"
   ]
  },
  {
   "cell_type": "code",
   "execution_count": null,
   "id": "7648d7c2",
   "metadata": {},
   "outputs": [
    {
     "data": {
      "application/vnd.jupyter.widget-view+json": {
       "model_id": "5417acbc426647d88737c18e8ff60fdc",
       "version_major": 2,
       "version_minor": 0
      },
      "text/plain": [
       "interactive(children=(FloatSlider(value=30.0, description='Elev', max=90.0, step=1.0), FloatSlider(value=84.0,…"
      ]
     },
     "metadata": {},
     "output_type": "display_data"
    }
   ],
   "source": [
    "cluster_SU2_dat_true  = [3 if \"SU2 3\" in j else 2 if \"SU2 2\" in j    else 1 for i,j in zip(tsne_results,uniq_fields_list_1f)  ]\n",
    "cluster_SU2_info_dict = {3:\"3 : Triplets\"     ,2:\"2 : Doublets\"     ,1:\"1 : Singlets\" }\n",
    "\n",
    "\n",
    "elev_slider = widgets.FloatSlider(min=0, max=90, step=1, value=30, description='Elev')\n",
    "azim_slider = widgets.FloatSlider(min=0, max=360, step=1, value=84, description='Azim')\n",
    "widgets.interactive(plot_3d_tsne, \n",
    "                    tsne_results   = widgets.fixed(tsne_results), \n",
    "                    clusters_dat   = widgets.fixed(cluster_SU2_dat_true), \n",
    "                    with_noise     = widgets.fixed(True),\n",
    "                    elev           = elev_slider, \n",
    "                    azim           = azim_slider,\n",
    "                    info_dict      = widgets.fixed(cluster_SU2_info_dict),\n",
    "                    cluster_order  = widgets.fixed(None),\n",
    "                    title          = widgets.fixed(\"SPIN clusters\")\n",
    "                    )\n",
    "\n",
    "# In case widgets are not available\n",
    "# plot_3d_tsne(tsne_results, clusters_dat=cluster_SU2_dat_true,with_noise=False, elev=30, azim=30,info_dict=cluster_SU2_info_dict,cluster_order=None,title=\"Lorentz\")"
   ]
  },
  {
   "cell_type": "markdown",
   "id": "398b9ae3",
   "metadata": {},
   "source": [
    "### TAKEAWAY : Embedding shows whether it had \"understood\" concepts"
   ]
  },
  {
   "cell_type": "markdown",
   "id": "77787d14",
   "metadata": {},
   "source": [
    "## OOD Generalization : Can it go beyond what its trained? "
   ]
  },
  {
   "cell_type": "markdown",
   "id": "f5c5fcd2",
   "metadata": {},
   "source": [
    "Considerations : \n",
    "- Is your problem's \"data space\" very big? \n",
    "- Is the probably of an unseen case high? \n",
    "- If yes, then chances of OOD data cases are high. \n",
    "- Do you want to think about the next archietcture?\n",
    "\n",
    "Practical Questions : \n",
    "- Can it work with never seen scenarios? What is your OOD?"
   ]
  },
  {
   "cell_type": "markdown",
   "id": "e5ac954c",
   "metadata": {},
   "source": [
    "### U1 Generalization"
   ]
  },
  {
   "cell_type": "code",
   "execution_count": null,
   "id": "ab69658f",
   "metadata": {},
   "outputs": [],
   "source": []
  },
  {
   "cell_type": "markdown",
   "id": "7f74d553",
   "metadata": {},
   "source": [
    "### N field Generalization"
   ]
  },
  {
   "cell_type": "code",
   "execution_count": null,
   "id": "a873438d",
   "metadata": {},
   "outputs": [],
   "source": []
  }
 ],
 "metadata": {
  "kernelspec": {
   "display_name": "Python 3",
   "language": "python",
   "name": "python3"
  },
  "language_info": {
   "codemirror_mode": {
    "name": "ipython",
    "version": 3
   },
   "file_extension": ".py",
   "mimetype": "text/x-python",
   "name": "python",
   "nbconvert_exporter": "python",
   "pygments_lexer": "ipython3",
   "version": "3.8.10"
  }
 },
 "nbformat": 4,
 "nbformat_minor": 5
}
