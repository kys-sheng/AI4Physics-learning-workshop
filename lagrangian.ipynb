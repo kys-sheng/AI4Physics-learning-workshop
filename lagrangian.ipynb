{
 "cells": [
  {
   "cell_type": "markdown",
   "id": "f5fd0dff",
   "metadata": {},
   "source": [
    "<h1> How to do NLP-like research in physics\n"
   ]
  },
  {
   "cell_type": "markdown",
   "id": "0fd4f162",
   "metadata": {},
   "source": [
    "This notebook provides a step-by-step demonstration/tutorial based on the Lagrangian paper."
   ]
  },
  {
   "cell_type": "markdown",
   "id": "de426158",
   "metadata": {},
   "source": [
    "# Acknowledge SUPR"
   ]
  },
  {
   "cell_type": "markdown",
   "id": "ff8c5347",
   "metadata": {},
   "source": [
    "The computations and data handling were enabled by resources provided by the National Academic Infrastructure for Supercomputing in Sweden (NAISS) from projects ????, partially funded by the Swedish Research Council through grant agreement no. 2022-06725"
   ]
  },
  {
   "cell_type": "markdown",
   "id": "80134715",
   "metadata": {},
   "source": [
    "# Libraries"
   ]
  },
  {
   "cell_type": "code",
   "execution_count": 1,
   "id": "cf0dcc05",
   "metadata": {},
   "outputs": [
    {
     "name": "stderr",
     "output_type": "stream",
     "text": [
      "2025-04-09 11:22:51.242918: I tensorflow/tsl/cuda/cudart_stub.cc:28] Could not find cuda drivers on your machine, GPU will not be used.\n",
      "2025-04-09 11:22:51.285930: I tensorflow/core/platform/cpu_feature_guard.cc:182] This TensorFlow binary is optimized to use available CPU instructions in performance-critical operations.\n",
      "To enable the following instructions: AVX2 FMA, in other operations, rebuild TensorFlow with the appropriate compiler flags.\n",
      "2025-04-09 11:22:52.253318: W tensorflow/compiler/tf2tensorrt/utils/py_utils.cc:38] TF-TRT Warning: Could not find TensorRT\n"
     ]
    },
    {
     "name": "stdout",
     "output_type": "stream",
     "text": [
      "Checking Tokens Format\n",
      "particle_id_token          :  ['ID1']\n",
      "derivative_id_token        :  ['ID1']\n",
      "gamma_id_token             :  ['ID1']\n",
      "sigma_id_token(1)          :  ['ID1']\n",
      "spin_token(0)              :  ['SPIN', '0']\n",
      "spin_token(1)              :  ['SPIN', '1']\n",
      "spin_token(Fraction(1,2))  :  ['SPIN', '1/2']\n",
      "helicity_token(1)          :  ['HEL', '1/2']\n",
      "helicity_token(-1)         :  ['HEL', '-1/2']\n",
      "group_tokens(1)            :  ['U1']\n",
      "group_tokens(1,test)            :  ['U1', '_{test}']\n",
      "group_tokens(2)            :  ['SU2']\n",
      "group_tokens(2,test)            :  ['SU2', '_{test}']\n",
      "group_tokens(3)            :  ['SU3']\n",
      "group_tokens(3,test)            :  ['SU3', '_{test}']\n",
      "Tokens Format OK\n"
     ]
    }
   ],
   "source": [
    "import lag_eval as le"
   ]
  },
  {
   "cell_type": "markdown",
   "id": "0c97b3db",
   "metadata": {},
   "source": []
  },
  {
   "cell_type": "markdown",
   "id": "3e8d166d",
   "metadata": {},
   "source": [
    "# Models\n",
    "- Overview of HuggingFace library.\n",
    "- How to find off-the-shelf transformer models (e.g., BART-L).\n",
    "- Example usage of a HuggingFace model."
   ]
  },
  {
   "cell_type": "markdown",
   "id": "dc70969d",
   "metadata": {},
   "source": [
    "## HuggingFace Library"
   ]
  },
  {
   "cell_type": "code",
   "execution_count": 2,
   "id": "5e00d5fa",
   "metadata": {},
   "outputs": [],
   "source": [
    "# # Import HuggingFace libraries\n",
    "# from transformers import AutoModelForSeq2SeqLM, AutoTokenizer\n",
    "\n",
    "# # Load a pre-trained model and tokenizer (e.g., BART-small)\n",
    "# # Note: You can change the model name to any other Seq2Seq model available on HuggingFace\n",
    "# # Model name can be changed to any other Seq2Seq model available on HuggingFace\n",
    "# # For example: 'facebook/bart-base', 't5-small', etc.\n",
    "\n",
    "# # 'facebook/bart-base' : BART model with 140M parameters\n",
    "# # 'facebook/bart-large' : BART model with 406M parameters\n",
    "# # 't5-small' : T5 model with 60M parameters\n",
    "\n",
    "# model_name = 'facebook/bart-base'\n",
    "# model = AutoModelForSeq2SeqLM.from_pretrained(model_name)\n",
    "# tokenizer = AutoTokenizer.from_pretrained(model_name)\n",
    "\n",
    "# # Example usage\n",
    "# text = \"This is a sample input.\"\n",
    "# inputs = tokenizer(text, return_tensors=\"pt\")\n",
    "# outputs = model.generate(**inputs)\n",
    "# print(tokenizer.decode(outputs[0], skip_special_tokens=True))"
   ]
  },
  {
   "cell_type": "markdown",
   "id": "59e4dc9c",
   "metadata": {},
   "source": [
    "# Dataset\n",
    "- Discussion on data generation considerations:\n",
    "  - Data distribution.\n",
    "  - Tokenization choices.\n",
    "- Example of tokenizing a dataset."
   ]
  },
  {
   "cell_type": "markdown",
   "id": "df94ac54",
   "metadata": {},
   "source": [
    "## Data Distribution\n"
   ]
  },
  {
   "cell_type": "markdown",
   "id": "5e8b6462",
   "metadata": {},
   "source": [
    "Show plots from paper:\n",
    "- one from random ->  more equal better at long expression\n",
    "- one from smart  ->  more biased (cover edge terms) better at special cases"
   ]
  },
  {
   "cell_type": "code",
   "execution_count": 4,
   "id": "c9f9caa0",
   "metadata": {},
   "outputs": [],
   "source": [
    "import pandas as pd\n",
    "\n",
    "sampled_df = pd.read_csv(\"huggingface_dataset_sampled.csv\")\n"
   ]
  },
  {
   "cell_type": "code",
   "execution_count": 5,
   "id": "4e7c712a",
   "metadata": {},
   "outputs": [],
   "source": [
    "sampled_df[\"nfields\"] = sampled_df[\"fields\"].apply(lambda x: x.count(\"FIELD\"))\n",
    "sampled_df[\"nfermions\"] = sampled_df[\"fields\"].apply(lambda x: x.count(\"SPIN 1\"))\n",
    "sampled_df[\"nscalars\"] = sampled_df[\"fields\"].apply(lambda x: x.count(\"SPIN 0\"))"
   ]
  },
  {
   "cell_type": "code",
   "execution_count": 6,
   "id": "f67485a6",
   "metadata": {},
   "outputs": [
    {
     "data": {
      "text/plain": [
       "<matplotlib.legend.Legend at 0x7fc5c3f08e50>"
      ]
     },
     "execution_count": 6,
     "metadata": {},
     "output_type": "execute_result"
    },
    {
     "data": {
      "image/png": "[encoded data removed]",
      "text/plain": [
       "<Figure size 640x480 with 1 Axes>"
      ]
     },
     "metadata": {},
     "output_type": "display_data"
    }
   ],
   "source": [
    "import matplotlib.pyplot as plt\n",
    "sampled_df[\"nscalars\"].hist(  range=(0-0.5,7-0.5),bins=7,alpha=0.5,label=\"nscalars\") \n",
    "sampled_df[\"nfermions\"].hist( range=(0-0.5,7-0.5),bins=7,alpha=0.5,label=\"nfermions\") \n",
    "sampled_df[\"nfields\"].hist(   range=(0-0.5,7-0.5),bins=7,alpha=0.5,label=\"nfields\") \n",
    "plt.legend()"
   ]
  },
  {
   "cell_type": "markdown",
   "id": "3032383a",
   "metadata": {},
   "source": [
    "## Tokenization choices\n",
    "Considerations: \n",
    "- What information is required for your model to learn?\n",
    "- Do you care about expressivity? \n",
    "\n",
    "Practical \n",
    "- How much information?\n",
    "- Vocabulary Size?"
   ]
  },
  {
   "cell_type": "markdown",
   "id": "36e1250b",
   "metadata": {},
   "source": [
    "### Choices of Tokenization"
   ]
  },
  {
   "cell_type": "markdown",
   "id": "c0833bf0",
   "metadata": {},
   "source": [
    "In Language:\n",
    "Example Phrase : AI For Physics\n",
    "- Word-Level : AI, For, Physics\n",
    "- Character-Level : A, I,  , F, o, r,  , P, h, y, s, i, c, s\n",
    "\n",
    "In Math:\n",
    "Example Expression : 100 + 420 = 520\n",
    "- \"Term\"-level : 100, +, 420, =, 520\n",
    "- \"Digit\"-Level : 1, 0, 0,  +,  4, 2, 0, =,  5, 2, 0\n",
    "\n",
    "In Lagrangians:\n",
    "Example Field : Higgs Particle\n",
    "- Symbol Level : H\n",
    "- Quantum-Numbers-Level: FIELD, SPIN, 0, SU2, 2, U1, 1\n",
    "\n"
   ]
  },
  {
   "cell_type": "markdown",
   "id": "fddda171",
   "metadata": {},
   "source": [
    "Remark: \n",
    "1. Detailed tokenization : \n",
    "- less vocabulary\n",
    "- more expressive\n",
    "- more token per sequence\n",
    "- heavy on attention mechanism\n",
    "2. Coarse tokenization : \n",
    "- more vocabulary\n",
    "- less expressive\n",
    "- less token per sequence\n",
    "- easier on attention mechanism"
   ]
  },
  {
   "cell_type": "markdown",
   "id": "cb88417b",
   "metadata": {},
   "source": [
    "### Example : Math "
   ]
  },
  {
   "cell_type": "code",
   "execution_count": 7,
   "id": "4674bd6d",
   "metadata": {},
   "outputs": [],
   "source": [
    "import random \n",
    "from tokenizers import Tokenizer\n",
    "from tokenizers.models import WordLevel\n",
    "from tokenizers.trainers import WordLevelTrainer\n",
    "from tokenizers.pre_tokenizers import Whitespace\n",
    "\n",
    "# Character-level \n",
    "# 1. Generate arithmetic corpus\n",
    "char_level_corpus = [\" \".join(list(f\"{a}+{b}={str(a + b)}\")) for a in range(100) for b in range(100)]\n",
    "vocab = {\"1\" : 1, \"2\" : 2, \"3\" : 3, \"4\" : 4, \"5\" : 5, \"6\" : 6, \"7\" : 7, \"8\" : 8, \"9\" : 9,\n",
    "         \"0\" : 0, \"+\" : 10, \"=\" : 11,\"[UNK]\" : 12, \"[PAD]\" : 13, \"[BOS]\" : 14, \"[EOS]\" : 15}\n",
    "# 2. Initialize tokenizer components\n",
    "char_level_tokenizer = Tokenizer(WordLevel(vocab=vocab, unk_token=\"[UNK]\"))\n",
    "char_level_tokenizer.pre_tokenizer = Whitespace()\n",
    "\n",
    "\n",
    "# Word-level \n",
    "word_level_corpus = [f\"{a} + {b} = {str(a + b)}\" for a in range(100) for b in range(100)]\n",
    "word_level_tokenizer = Tokenizer(WordLevel(unk_token=\"[UNK]\"))\n",
    "word_level_tokenizer.pre_tokenizer = Whitespace()\n",
    "special_tokens = [\"[PAD]\", \"[UNK]\", \"[BOS]\", \"[EOS]\"]\n",
    "trainer = WordLevelTrainer(special_tokens=special_tokens)\n",
    "word_level_tokenizer.train_from_iterator(word_level_corpus, trainer)\n",
    "\n"
   ]
  },
  {
   "cell_type": "markdown",
   "id": "0c7084ce",
   "metadata": {},
   "source": [
    "lets see it in action"
   ]
  },
  {
   "cell_type": "code",
   "execution_count": 8,
   "id": "e6c3bcf1",
   "metadata": {},
   "outputs": [
    {
     "name": "stdout",
     "output_type": "stream",
     "text": [
      "char_level_example :  2 7 + 2 8 = 5 5\n",
      "char_level_tokens  :  ['2', '7', '+', '2', '8', '=', '5', '5']\n",
      "\n",
      "word_level_example :  27 + 99 = 126\n",
      "word_level_tokens  :  ['27', '+', '99', '=', '126']\n",
      "\n"
     ]
    }
   ],
   "source": [
    "char_level_example = random.choice(char_level_corpus)\n",
    "print(\"char_level_example : \",char_level_example)\n",
    "print(\"char_level_tokens  : \",char_level_tokenizer.encode(char_level_example).tokens,end=\"\\n\\n\")\n",
    "\n",
    "word_level_example = random.choice(word_level_corpus)\n",
    "print(\"word_level_example : \",word_level_example)\n",
    "print(\"word_level_tokens  : \",word_level_tokenizer.encode(word_level_example).tokens,end=\"\\n\\n\")"
   ]
  },
  {
   "cell_type": "markdown",
   "id": "d3e0e18c",
   "metadata": {},
   "source": [
    "Lets check vocab size"
   ]
  },
  {
   "cell_type": "code",
   "execution_count": 9,
   "id": "7a761b6f",
   "metadata": {},
   "outputs": [
    {
     "name": "stdout",
     "output_type": "stream",
     "text": [
      "char_level_vocab_size:  16\n",
      "word_level_vocab_size:  205\n"
     ]
    }
   ],
   "source": [
    "print(\"char_level_vocab_size: \",char_level_tokenizer.get_vocab_size())\n",
    "print(\"word_level_vocab_size: \",word_level_tokenizer.get_vocab_size())"
   ]
  },
  {
   "cell_type": "markdown",
   "id": "f89e264e",
   "metadata": {},
   "source": [
    "Try encoding 10000"
   ]
  },
  {
   "cell_type": "code",
   "execution_count": 10,
   "id": "6f466c02",
   "metadata": {},
   "outputs": [
    {
     "name": "stdout",
     "output_type": "stream",
     "text": [
      "char_level_tokens  :  ['1', '0', '0', '0', '0']\n",
      "\n",
      "word_level_tokens  :  ['[UNK]']\n",
      "\n",
      "word_level_tokens  :  ['10', '0', '0', '0']\n",
      "\n"
     ]
    }
   ],
   "source": [
    "OOD_char_level_example =   \"1 0 0 0 0\"\n",
    "print(\"char_level_tokens  : \",char_level_tokenizer.encode(OOD_char_level_example).tokens,end=\"\\n\\n\")\n",
    "\n",
    "OOD_word_level_example =   \"10000\"\n",
    "print(\"word_level_tokens  : \",word_level_tokenizer.encode(OOD_word_level_example).tokens,end=\"\\n\\n\")\n",
    "\n",
    "# Something like this is possible but not intuitive (words and number are slightly different)\n",
    "OOD_word_level_example =   \"10 0 0 0\"\n",
    "print(\"word_level_tokens  : \",word_level_tokenizer.encode(OOD_word_level_example).tokens,end=\"\\n\\n\")"
   ]
  },
  {
   "cell_type": "markdown",
   "id": "aad87274",
   "metadata": {},
   "source": [
    "### Example : Fields "
   ]
  },
  {
   "cell_type": "code",
   "execution_count": 11,
   "id": "3f1e9889",
   "metadata": {},
   "outputs": [
    {
     "name": "stdout",
     "output_type": "stream",
     "text": [
      "Input    =  FIELD SPIN 1/2 SU3 3 U1 - 2 / 7 HEL -1/2\n",
      "token_id =  [22, 36, 5, 4, 6, 38, 10, 39, 7, 6, 4, 14, 23, 7, 5, 4, 6]\n",
      "decoded  =  FIELD SPIN 1 / 2 SU3 3 U1 - 2 / 7 HEL - 1 / 2\n"
     ]
    }
   ],
   "source": [
    "from transformers import  PreTrainedTokenizerFast\n",
    "\n",
    "hf_tokenizer = PreTrainedTokenizerFast.from_pretrained(\"JoseEliel/BART-Lagrangian\")\n",
    "\n",
    "example = sampled_df.sample(1)[\"fields\"].values[0]\n",
    "print(\"Input    = \",example)\n",
    "encoded = hf_tokenizer.encode(example)\n",
    "print(\"token_id = \", encoded)\n",
    "decoded = hf_tokenizer.decode(encoded)\n",
    "print(\"decoded  = \", decoded)\n"
   ]
  },
  {
   "cell_type": "markdown",
   "id": "2f152260",
   "metadata": {},
   "source": [
    "# Training\n",
    "- Mention available resources: SUPR/NAISS -> Alvis.\n",
    "- Example of training a model."
   ]
  },
  {
   "cell_type": "markdown",
   "id": "66d5a3b8",
   "metadata": {},
   "source": [
    "### NAISS : https://www.naiss.se/\n",
    "### SUPR : https://supr.naiss.se/\n",
    "### Alvis : https://www.c3se.chalmers.se/about/Alvis/\n",
    "### OnDemand Portal : https://alvis.c3se.chalmers.se/pun/sys/dashboard/"
   ]
  },
  {
   "cell_type": "markdown",
   "id": "c1c18041",
   "metadata": {},
   "source": [
    "## CPU or GPU"
   ]
  },
  {
   "cell_type": "code",
   "execution_count": 2,
   "id": "c75b00c4",
   "metadata": {},
   "outputs": [],
   "source": [
    "# Choose GPU if available\n",
    "import torch\n",
    "\n",
    "device = torch.device(\"cuda\" if torch.cuda.is_available() else \"cpu\")\n"
   ]
  },
  {
   "cell_type": "markdown",
   "id": "9c9823e0",
   "metadata": {},
   "source": [
    "# Evaluation\n",
    "- Generating output from the model.\n",
    "- Discussion on evaluation choices:\n",
    "  - Existing or novel metrics.\n",
    "  - Embedding analysis.\n",
    "  - Out-of-distribution tests."
   ]
  },
  {
   "cell_type": "markdown",
   "id": "0d6b2ab6",
   "metadata": {},
   "source": [
    "## Existing Metric  : Does it work? "
   ]
  },
  {
   "cell_type": "markdown",
   "id": "9c788b83",
   "metadata": {},
   "source": [
    "mainly to see if things work as expected\n",
    "Loss : Deviation from actual term \n",
    "Accuracy : How much is perfect? \n",
    "New metric, Score : (Order does not always matter, XEN)"
   ]
  },
  {
   "cell_type": "code",
   "execution_count": 116,
   "id": "8de2039d",
   "metadata": {},
   "outputs": [],
   "source": [
    "import torch\n",
    "import lag_eval as le\n",
    "from transformers import BartForConditionalGeneration, PreTrainedTokenizerFast\n",
    "\n",
    "model_name = \"JoseEliel/BART-Lagrangian\"\n",
    "model = BartForConditionalGeneration.from_pretrained(model_name)\n",
    "hf_tokenizer = PreTrainedTokenizerFast.from_pretrained(model_name)\n"
   ]
  },
  {
   "cell_type": "code",
   "execution_count": 13,
   "id": "25d150b9",
   "metadata": {},
   "outputs": [],
   "source": [
    "sampled_df.drop_duplicates(subset=[\"fields\"], inplace=True)"
   ]
  },
  {
   "cell_type": "code",
   "execution_count": 14,
   "id": "be1b2fde",
   "metadata": {},
   "outputs": [
    {
     "data": {
      "text/html": [
       "<div>\n",
       "<style scoped>\n",
       "    .dataframe tbody tr th:only-of-type {\n",
       "        vertical-align: middle;\n",
       "    }\n",
       "\n",
       "    .dataframe tbody tr th {\n",
       "        vertical-align: top;\n",
       "    }\n",
       "\n",
       "    .dataframe thead th {\n",
       "        text-align: right;\n",
       "    }\n",
       "</style>\n",
       "<table border=\"1\" class=\"dataframe\">\n",
       "  <thead>\n",
       "    <tr style=\"text-align: right;\">\n",
       "      <th></th>\n",
       "      <th>fields</th>\n",
       "      <th>Lagrangian</th>\n",
       "      <th>train/eval</th>\n",
       "      <th>nfields</th>\n",
       "      <th>nfermions</th>\n",
       "      <th>nscalars</th>\n",
       "    </tr>\n",
       "  </thead>\n",
       "  <tbody>\n",
       "    <tr>\n",
       "      <th>0</th>\n",
       "      <td>FIELD SPIN 1/2 SU3 - 3 SU2 2 U1 - 4 HEL 1/2 FI...</td>\n",
       "      <td>+ FIELD SPIN 1 / 2 SU3 - 3 SU2 2 HEL - 1 / 2 D...</td>\n",
       "      <td>eval</td>\n",
       "      <td>3</td>\n",
       "      <td>2</td>\n",
       "      <td>1</td>\n",
       "    </tr>\n",
       "    <tr>\n",
       "      <th>1</th>\n",
       "      <td>FIELD SPIN 1/2 HEL 1/2 FIELD SPIN 1/2 SU3 - 3 ...</td>\n",
       "      <td>+ i FIELD SPIN 1 / 2 HEL 1 / 2 ID9 SIGMA_BAR I...</td>\n",
       "      <td>eval</td>\n",
       "      <td>2</td>\n",
       "      <td>2</td>\n",
       "      <td>0</td>\n",
       "    </tr>\n",
       "    <tr>\n",
       "      <th>2</th>\n",
       "      <td>FIELD SPIN 0 SU2 3 U1 - 4 / 9 FIELD SPIN 1/2 S...</td>\n",
       "      <td>+ FIELD SPIN 0 SU2 3 U1 - 4 / 9 ID1 FIELD SPIN...</td>\n",
       "      <td>eval</td>\n",
       "      <td>4</td>\n",
       "      <td>2</td>\n",
       "      <td>2</td>\n",
       "    </tr>\n",
       "    <tr>\n",
       "      <th>3</th>\n",
       "      <td>FIELD SPIN 1/2 SU3 - 3 U1 3 / 8 HEL -1/2 FIELD...</td>\n",
       "      <td>+ FIELD SPIN 0 SU3 - 3 SU2 2 U1 - 8 / 9 ID3 FI...</td>\n",
       "      <td>eval</td>\n",
       "      <td>5</td>\n",
       "      <td>4</td>\n",
       "      <td>1</td>\n",
       "    </tr>\n",
       "    <tr>\n",
       "      <th>4</th>\n",
       "      <td>FIELD SPIN 0 SU3 3 SU2 3</td>\n",
       "      <td>+ FIELD SPIN 0 SU3 3 SU2 3 ID4 FIELD SPIN 0 SU...</td>\n",
       "      <td>eval</td>\n",
       "      <td>1</td>\n",
       "      <td>0</td>\n",
       "      <td>1</td>\n",
       "    </tr>\n",
       "    <tr>\n",
       "      <th>...</th>\n",
       "      <td>...</td>\n",
       "      <td>...</td>\n",
       "      <td>...</td>\n",
       "      <td>...</td>\n",
       "      <td>...</td>\n",
       "      <td>...</td>\n",
       "    </tr>\n",
       "    <tr>\n",
       "      <th>286076</th>\n",
       "      <td>FIELD SPIN 0 SU3 3 SU2 3 U1 9 / 2 FIELD SPIN 1...</td>\n",
       "      <td>+ FIELD SPIN 1 / 2 SU2 2 U1 1 / 5 HEL - 1 / 2 ...</td>\n",
       "      <td>train</td>\n",
       "      <td>4</td>\n",
       "      <td>1</td>\n",
       "      <td>3</td>\n",
       "    </tr>\n",
       "    <tr>\n",
       "      <th>286077</th>\n",
       "      <td>FIELD SPIN 0 FIELD SPIN 0 SU3 3 SU2 3 U1 7 / 6...</td>\n",
       "      <td>+ FIELD SPIN 0 ID1 FIELD SPIN 0 SU3 3 SU2 3 U1...</td>\n",
       "      <td>train</td>\n",
       "      <td>3</td>\n",
       "      <td>1</td>\n",
       "      <td>2</td>\n",
       "    </tr>\n",
       "    <tr>\n",
       "      <th>286078</th>\n",
       "      <td>FIELD SPIN 0 SU3 - 3 U1 3 FIELD SPIN 1/2 SU3 3...</td>\n",
       "      <td>+ FIELD SPIN 0 SU3 - 3 U1 3 ID4 FIELD SPIN 0 S...</td>\n",
       "      <td>train</td>\n",
       "      <td>3</td>\n",
       "      <td>1</td>\n",
       "      <td>2</td>\n",
       "    </tr>\n",
       "    <tr>\n",
       "      <th>286079</th>\n",
       "      <td>FIELD SPIN 1/2 U1 - 4 / 5 HEL -1/2 FIELD SPIN ...</td>\n",
       "      <td>+ FIELD SPIN 0 SU3 - 3 SU2 2 U1 - 1 / 7 ID6 FI...</td>\n",
       "      <td>train</td>\n",
       "      <td>2</td>\n",
       "      <td>1</td>\n",
       "      <td>1</td>\n",
       "    </tr>\n",
       "    <tr>\n",
       "      <th>286080</th>\n",
       "      <td>FIELD SPIN 0 SU3 3 SU2 3 U1 - 1 FIELD SPIN 1/2...</td>\n",
       "      <td>+ FIELD SPIN 0 SU3 3 SU2 3 U1 - 1 ID0 FIELD SP...</td>\n",
       "      <td>train</td>\n",
       "      <td>2</td>\n",
       "      <td>1</td>\n",
       "      <td>1</td>\n",
       "    </tr>\n",
       "  </tbody>\n",
       "</table>\n",
       "<p>211283 rows × 6 columns</p>\n",
       "</div>"
      ],
      "text/plain": [
       "                                                   fields  \\\n",
       "0       FIELD SPIN 1/2 SU3 - 3 SU2 2 U1 - 4 HEL 1/2 FI...   \n",
       "1       FIELD SPIN 1/2 HEL 1/2 FIELD SPIN 1/2 SU3 - 3 ...   \n",
       "2       FIELD SPIN 0 SU2 3 U1 - 4 / 9 FIELD SPIN 1/2 S...   \n",
       "3       FIELD SPIN 1/2 SU3 - 3 U1 3 / 8 HEL -1/2 FIELD...   \n",
       "4                                FIELD SPIN 0 SU3 3 SU2 3   \n",
       "...                                                   ...   \n",
       "286076  FIELD SPIN 0 SU3 3 SU2 3 U1 9 / 2 FIELD SPIN 1...   \n",
       "286077  FIELD SPIN 0 FIELD SPIN 0 SU3 3 SU2 3 U1 7 / 6...   \n",
       "286078  FIELD SPIN 0 SU3 - 3 U1 3 FIELD SPIN 1/2 SU3 3...   \n",
       "286079  FIELD SPIN 1/2 U1 - 4 / 5 HEL -1/2 FIELD SPIN ...   \n",
       "286080  FIELD SPIN 0 SU3 3 SU2 3 U1 - 1 FIELD SPIN 1/2...   \n",
       "\n",
       "                                               Lagrangian train/eval  nfields  \\\n",
       "0       + FIELD SPIN 1 / 2 SU3 - 3 SU2 2 HEL - 1 / 2 D...       eval        3   \n",
       "1       + i FIELD SPIN 1 / 2 HEL 1 / 2 ID9 SIGMA_BAR I...       eval        2   \n",
       "2       + FIELD SPIN 0 SU2 3 U1 - 4 / 9 ID1 FIELD SPIN...       eval        4   \n",
       "3       + FIELD SPIN 0 SU3 - 3 SU2 2 U1 - 8 / 9 ID3 FI...       eval        5   \n",
       "4       + FIELD SPIN 0 SU3 3 SU2 3 ID4 FIELD SPIN 0 SU...       eval        1   \n",
       "...                                                   ...        ...      ...   \n",
       "286076  + FIELD SPIN 1 / 2 SU2 2 U1 1 / 5 HEL - 1 / 2 ...      train        4   \n",
       "286077  + FIELD SPIN 0 ID1 FIELD SPIN 0 SU3 3 SU2 3 U1...      train        3   \n",
       "286078  + FIELD SPIN 0 SU3 - 3 U1 3 ID4 FIELD SPIN 0 S...      train        3   \n",
       "286079  + FIELD SPIN 0 SU3 - 3 SU2 2 U1 - 1 / 7 ID6 FI...      train        2   \n",
       "286080  + FIELD SPIN 0 SU3 3 SU2 3 U1 - 1 ID0 FIELD SP...      train        2   \n",
       "\n",
       "        nfermions  nscalars  \n",
       "0               2         1  \n",
       "1               2         0  \n",
       "2               2         2  \n",
       "3               4         1  \n",
       "4               0         1  \n",
       "...           ...       ...  \n",
       "286076          1         3  \n",
       "286077          1         2  \n",
       "286078          1         2  \n",
       "286079          1         1  \n",
       "286080          1         1  \n",
       "\n",
       "[211283 rows x 6 columns]"
      ]
     },
     "execution_count": 14,
     "metadata": {},
     "output_type": "execute_result"
    }
   ],
   "source": [
    "sampled_df"
   ]
  },
  {
   "cell_type": "code",
   "execution_count": 95,
   "id": "18376d49",
   "metadata": {},
   "outputs": [],
   "source": [
    "example_scenario = sampled_df.sample(1)\n"
   ]
  },
  {
   "cell_type": "code",
   "execution_count": 103,
   "id": "57c89747",
   "metadata": {},
   "outputs": [
    {
     "name": "stdout",
     "output_type": "stream",
     "text": [
      "Input    =  [SOS] FIELD SPIN 1/2 U1 1 / 2 HEL -1/2 FIELD SPIN 0 SU3 3 SU2 2 U1 1 FIELD SPIN 0 SU3 3 U1 - 2 [EOS]\n",
      "token_id =  [0, 22, 36, 5, 4, 6, 39, 5, 4, 6, 23, 7, 5, 4, 6, 22, 36, 9, 38, 10, 37, 6, 39, 5, 22, 36, 9, 38, 10, 39, 7, 6, 1]\n",
      "decoded  =  [SOS] FIELD SPIN 1 / 2 U1 1 / 2 HEL - 1 / 2 FIELD SPIN 0 SU3 3 SU2 2 U1 1 FIELD SPIN 0 SU3 3 U1 - 2 [EOS]\n"
     ]
    }
   ],
   "source": [
    "example = example_scenario[\"fields\"].values[0]\n",
    "example_input = \"[SOS] \" + example + \" [EOS]\"\n",
    "print(\"Input    = \",example_input)\n",
    "encoded_input = hf_tokenizer.encode(example_input)\n",
    "print(\"token_id = \", encoded_input)\n",
    "decoded_input = hf_tokenizer.decode(encoded_input)\n",
    "print(\"decoded  = \", decoded_input)\n"
   ]
  },
  {
   "cell_type": "code",
   "execution_count": 104,
   "id": "7ecab14d",
   "metadata": {},
   "outputs": [
    {
     "name": "stdout",
     "output_type": "stream",
     "text": [
      "Output   =  [SOS] + FIELD SPIN 0 SU3 3 SU2 2 U1 1 ID9 FIELD SPIN 0 SU3 3 SU2 2 U1 1 ID7 FIELD SPIN 0 SU3 3 U1 - 2 ID4 CONTRACTIONS SU3 ID9 ID7 ID4 SU2 ID9 ID7 + FIELD SPIN 0 SU3 - 3 SU2 2 U1 - 1 DAGGER ID9 FIELD SPIN 0 SU3 - 3 SU2 2 U1 - 1 DAGGER ID1 FIELD SPIN 0 SU3 - 3 U1 2 DAGGER ID8 CONTRACTIONS SU3 ID9 ID9 ID1 SU3 ID1 ID8 ID8 SU2 ID9 ID1 + FIELD SPIN 0 SU3 3 SU2 2 U1 1 ID5 FIELD SPIN 0 SU3 - 3 SU2 2 U1 - 1 DAGGER ID2 FIELD SPIN 0 SU3 3 U1 - 2 ID3 FIELD SPIN 0 SU3 - 3 U1 2 DAGGER ID1 CONTRACTIONS SU3 ID5 ID2 ID3 SU3 ID2 ID1 ID1 SU2 ID5 ID2 + FIELD SPIN 0 SU3 3 SU2 2 U1 1 ID6 FIELD SPIN 0 SU3 - 3 SU2 2 U1 - 1 DAGGER ID7 FIELD SPIN 0 SU3 3 U1 - 2 ID3 FIELD SPIN 0 SU3 - 3 U1 2 DAGGER ID5 CONTRACTIONS SU3 ID6 ID7 ID7 SU3 ID3 ID5 ID5 SU2 ID6 ID7 + FIELD SPIN 0 SU3 3 SU2 2 U1 1 ID9 FIELD SPIN 0 SU3 3 SU2 2 U1 1 ID2 FIELD SPIN 0 SU3 - 3 SU2 2 U1 - 1 DAGGER ID0 FIELD SPIN 0 SU3 - 3 SU2 2 U1 - 1 DAGGER ID8 CONTRACTIONS SU3 ID9 ID0 ID0 SU3 ID2 ID8 ID8 SU2 ID9 ID0 SU2 ID2 ID8 + FIELD SPIN 0 SU3 3 SU2 2 U1 1 ID1 FIELD SPIN 0 SU3 3 SU2 2 U1 1 ID3 FIELD SPIN 0 SU3 - 3 SU2 2 U1 - 1 DAGGER ID8 FIELD SPIN 0 SU3 - 3 SU2 2 U1 - 1 DAGGER ID5 CONTRACTIONS SU3 ID1 ID8 ID8 SU3 ID3 ID5 ID5 SU2 ID1 ID3 SU2 ID8 ID5 + FIELD SPIN 0 SU3 3 SU2 2 U1 1 ID0 FIELD SPIN 0 SU3 3 SU2 2 U1 1 ID3 FIELD SPIN 0 SU3 - 3 SU2 2 U1 - 1 DAGGER ID9 FIELD SPIN 0 SU3 - 3 SU2 2 U1 - 1 DAGGER ID4 CONTRACTIONS SU3 ID0 ID3 ID9 SU3 ID9 ID4 ID4 SU2 ID0 ID9 SU2 ID3 ID4 + FIELD SPIN 0 SU3 3 SU2 2 U1 1 ID4 FIELD SPIN 0 SU3 3 SU2 2 U1 1 ID0 FIELD SPIN 0 SU3 - 3 SU2 2 U1 - 1 DAGGER ID8 FIELD SPIN 0 SU3 - 3 SU2 2 U1 - 1 DAGGER ID2 CONTRACTIONS SU3 ID4 ID0 ID8 SU3 ID8 ID2 ID2 SU2 ID4 ID0 SU2 ID8 ID2 + FIELD SPIN 0 SU3 3 U1 - 2 ID6 FIELD SPIN 0 SU3 3 U1 - 2 ID1 FIELD SPIN 0 SU3 - 3 U1 2 DAGGER ID9 FIELD SPIN 0 SU3 - 3 U1 2 DAGGER ID0 CONTRACTIONS SU3 ID6 ID9 ID9 SU3 ID1 ID0 ID0 + FIELD SPIN 0 SU3 3 U1 - 2 ID9 FIELD SPIN 0 SU3 3 U1 - 2 ID3 FIELD SPIN 0 SU3 - 3 U1 2 DAGGER ID0 FIELD SPIN 0 SU3 - 3 U1 2 DAGGER ID1 CONTRACTIONS SU3 ID9 ID3 ID0 SU3 ID0 ID1 ID1 + i FIELD SPIN 1 / 2 U1 - 1 / 2 HEL 1 / 2 DAGGER ID8 SIGMA_BAR ID5 DERIVATIVE U1 ID0 FIELD SPIN 1 / 2 U1 1 / 2 HEL - 1 / 2 ID7 CONTRACTIONS LORENTZ ID5 ID0 LORENTZ ID5 ID8 ID7 + DERIVATIVE SU3 SU2 U1 ID5 FIELD SPIN 0 SU3 - 3 SU2 2 U1 - 1 DAGGER ID9 DERIVATIVE SU3 SU2 U1 ID1 FIELD SPIN 0 SU3 3 SU2 2 U1 1 ID0 CONTRACTIONS LORENTZ ID5 ID1 SU3 ID9 ID0 SU2 ID9 ID0 + DERIVATIVE SU3 U1 ID5 FIELD SPIN 0 SU3 - 3 U1 2 DAGGER ID8 DERIVATIVE SU3 U1 ID2 FIELD SPIN 0 SU3 3 U1 - 2 ID4 CONTRACTIONS LORENTZ ID5 ID2 SU3 ID8 ID4 - COMMUTATOR_A DERIVATIVE U1 ID4 COMMUTATOR_B DERIVATIVE U1 ID8 COMMUTATOR_A DERIVATIVE U1 ID5 COMMUTATOR_B DERIVATIVE U1 ID9 CONTRACTIONS LORENTZ ID4 ID5 LORENTZ ID8 ID9 - COMMUTATOR_A DERIVATIVE SU3 ID7 COMMUTATOR_B DERIVATIVE SU3 ID5 COMMUTATOR_A DERIVATIVE SU3 ID4 COMMUTATOR_B DERIVATIVE SU3 ID9 CONTRACTIONS LORENTZ ID7 ID4 LORENTZ ID5 ID9 - COMMUTATOR_A DERIVATIVE SU2 ID8 COMMUTATOR_B DERIVATIVE SU2 ID6 COMMUTATOR_A DERIVATIVE SU2 ID2 COMMUTATOR_B DERIVATIVE SU2 ID5 CONTRACTIONS LORENTZ ID8 ID2 LORENTZ ID6 ID5 + FIELD SPIN 0 SU3 - 3 SU2 2 U1 - 1 DAGGER ID3 FIELD SPIN 0 SU3 3 SU2 2 U1 1 ID0 CONTRACTIONS SU3 ID3 ID0 SU2 ID3 ID0 + FIELD SPIN 0 SU3 - 3 U1 2 DAGGER ID9 FIELD SPIN 0 SU3 3 U1 - 2 ID8 CONTRACTIONS SU3 ID9 ID8 [EOS]\n",
      "token_id =  [0, 8, 22, 36, 9, 38, 10, 37, 6, 39, 5, 33, 22, 36, 9, 38, 10, 37, 6, 39, 5, 31, 22, 36, 9, 38, 10, 39, 7, 6, 28, 19, 38, 33, 31, 28, 37, 33, 31, 8, 22, 36, 9, 38, 7, 10, 37, 6, 39, 7, 5, 20, 33, 22, 36, 9, 38, 7, 10, 37, 6, 39, 7, 5, 20, 25, 22, 36, 9, 38, 7, 10, 39, 6, 20, 32, 19, 38, 33, 33, 25, 38, 25, 32, 32, 37, 33, 25, 8, 22, 36, 9, 38, 10, 37, 6, 39, 5, 29, 22, 36, 9, 38, 7, 10, 37, 6, 39, 7, 5, 20, 26, 22, 36, 9, 38, 10, 39, 7, 6, 27, 22, 36, 9, 38, 7, 10, 39, 6, 20, 25, 19, 38, 29, 26, 27, 38, 26, 25, 25, 37, 29, 26, 8, 22, 36, 9, 38, 10, 37, 6, 39, 5, 30, 22, 36, 9, 38, 7, 10, 37, 6, 39, 7, 5, 20, 31, 22, 36, 9, 38, 10, 39, 7, 6, 27, 22, 36, 9, 38, 7, 10, 39, 6, 20, 29, 19, 38, 30, 31, 31, 38, 27, 29, 29, 37, 30, 31, 8, 22, 36, 9, 38, 10, 37, 6, 39, 5, 33, 22, 36, 9, 38, 10, 37, 6, 39, 5, 26, 22, 36, 9, 38, 7, 10, 37, 6, 39, 7, 5, 20, 24, 22, 36, 9, 38, 7, 10, 37, 6, 39, 7, 5, 20, 32, 19, 38, 33, 24, 24, 38, 26, 32, 32, 37, 33, 24, 37, 26, 32, 8, 22, 36, 9, 38, 10, 37, 6, 39, 5, 25, 22, 36, 9, 38, 10, 37, 6, 39, 5, 27, 22, 36, 9, 38, 7, 10, 37, 6, 39, 7, 5, 20, 32, 22, 36, 9, 38, 7, 10, 37, 6, 39, 7, 5, 20, 29, 19, 38, 25, 32, 32, 38, 27, 29, 29, 37, 25, 27, 37, 32, 29, 8, 22, 36, 9, 38, 10, 37, 6, 39, 5, 24, 22, 36, 9, 38, 10, 37, 6, 39, 5, 27, 22, 36, 9, 38, 7, 10, 37, 6, 39, 7, 5, 20, 33, 22, 36, 9, 38, 7, 10, 37, 6, 39, 7, 5, 20, 28, 19, 38, 24, 27, 33, 38, 33, 28, 28, 37, 24, 33, 37, 27, 28, 8, 22, 36, 9, 38, 10, 37, 6, 39, 5, 28, 22, 36, 9, 38, 10, 37, 6, 39, 5, 24, 22, 36, 9, 38, 7, 10, 37, 6, 39, 7, 5, 20, 32, 22, 36, 9, 38, 7, 10, 37, 6, 39, 7, 5, 20, 26, 19, 38, 28, 24, 32, 38, 32, 26, 26, 37, 28, 24, 37, 32, 26, 8, 22, 36, 9, 38, 10, 39, 7, 6, 30, 22, 36, 9, 38, 10, 39, 7, 6, 25, 22, 36, 9, 38, 7, 10, 39, 6, 20, 33, 22, 36, 9, 38, 7, 10, 39, 6, 20, 24, 19, 38, 30, 33, 33, 38, 25, 24, 24, 8, 22, 36, 9, 38, 10, 39, 7, 6, 33, 22, 36, 9, 38, 10, 39, 7, 6, 27, 22, 36, 9, 38, 7, 10, 39, 6, 20, 24, 22, 36, 9, 38, 7, 10, 39, 6, 20, 25, 19, 38, 33, 27, 24, 38, 24, 25, 25, 8, 40, 22, 36, 5, 4, 6, 39, 7, 5, 4, 6, 23, 5, 4, 6, 20, 32, 35, 29, 21, 39, 24, 22, 36, 5, 4, 6, 39, 5, 4, 6, 23, 7, 5, 4, 6, 31, 19, 34, 29, 24, 34, 29, 32, 31, 8, 21, 38, 37, 39, 29, 22, 36, 9, 38, 7, 10, 37, 6, 39, 7, 5, 20, 33, 21, 38, 37, 39, 25, 22, 36, 9, 38, 10, 37, 6, 39, 5, 24, 19, 34, 29, 25, 38, 33, 24, 37, 33, 24, 8, 21, 38, 39, 29, 22, 36, 9, 38, 7, 10, 39, 6, 20, 32, 21, 38, 39, 26, 22, 36, 9, 38, 10, 39, 7, 6, 28, 19, 34, 29, 26, 38, 32, 28, 7, 17, 21, 39, 28, 18, 21, 39, 32, 17, 21, 39, 29, 18, 21, 39, 33, 19, 34, 28, 29, 34, 32, 33, 7, 17, 21, 38, 31, 18, 21, 38, 29, 17, 21, 38, 28, 18, 21, 38, 33, 19, 34, 31, 28, 34, 29, 33, 7, 17, 21, 37, 32, 18, 21, 37, 30, 17, 21, 37, 26, 18, 21, 37, 29, 19, 34, 32, 26, 34, 30, 29, 8, 22, 36, 9, 38, 7, 10, 37, 6, 39, 7, 5, 20, 27, 22, 36, 9, 38, 10, 37, 6, 39, 5, 24, 19, 38, 27, 24, 37, 27, 24, 8, 22, 36, 9, 38, 7, 10, 39, 6, 20, 33, 22, 36, 9, 38, 10, 39, 7, 6, 32, 19, 38, 33, 32, 1]\n",
      "decoded  =  [SOS] + FIELD SPIN 0 SU3 3 SU2 2 U1 1 ID9 FIELD SPIN 0 SU3 3 SU2 2 U1 1 ID7 FIELD SPIN 0 SU3 3 U1 - 2 ID4 CONTRACTIONS SU3 ID9 ID7 ID4 SU2 ID9 ID7 + FIELD SPIN 0 SU3 - 3 SU2 2 U1 - 1 DAGGER ID9 FIELD SPIN 0 SU3 - 3 SU2 2 U1 - 1 DAGGER ID1 FIELD SPIN 0 SU3 - 3 U1 2 DAGGER ID8 CONTRACTIONS SU3 ID9 ID9 ID1 SU3 ID1 ID8 ID8 SU2 ID9 ID1 + FIELD SPIN 0 SU3 3 SU2 2 U1 1 ID5 FIELD SPIN 0 SU3 - 3 SU2 2 U1 - 1 DAGGER ID2 FIELD SPIN 0 SU3 3 U1 - 2 ID3 FIELD SPIN 0 SU3 - 3 U1 2 DAGGER ID1 CONTRACTIONS SU3 ID5 ID2 ID3 SU3 ID2 ID1 ID1 SU2 ID5 ID2 + FIELD SPIN 0 SU3 3 SU2 2 U1 1 ID6 FIELD SPIN 0 SU3 - 3 SU2 2 U1 - 1 DAGGER ID7 FIELD SPIN 0 SU3 3 U1 - 2 ID3 FIELD SPIN 0 SU3 - 3 U1 2 DAGGER ID5 CONTRACTIONS SU3 ID6 ID7 ID7 SU3 ID3 ID5 ID5 SU2 ID6 ID7 + FIELD SPIN 0 SU3 3 SU2 2 U1 1 ID9 FIELD SPIN 0 SU3 3 SU2 2 U1 1 ID2 FIELD SPIN 0 SU3 - 3 SU2 2 U1 - 1 DAGGER ID0 FIELD SPIN 0 SU3 - 3 SU2 2 U1 - 1 DAGGER ID8 CONTRACTIONS SU3 ID9 ID0 ID0 SU3 ID2 ID8 ID8 SU2 ID9 ID0 SU2 ID2 ID8 + FIELD SPIN 0 SU3 3 SU2 2 U1 1 ID1 FIELD SPIN 0 SU3 3 SU2 2 U1 1 ID3 FIELD SPIN 0 SU3 - 3 SU2 2 U1 - 1 DAGGER ID8 FIELD SPIN 0 SU3 - 3 SU2 2 U1 - 1 DAGGER ID5 CONTRACTIONS SU3 ID1 ID8 ID8 SU3 ID3 ID5 ID5 SU2 ID1 ID3 SU2 ID8 ID5 + FIELD SPIN 0 SU3 3 SU2 2 U1 1 ID0 FIELD SPIN 0 SU3 3 SU2 2 U1 1 ID3 FIELD SPIN 0 SU3 - 3 SU2 2 U1 - 1 DAGGER ID9 FIELD SPIN 0 SU3 - 3 SU2 2 U1 - 1 DAGGER ID4 CONTRACTIONS SU3 ID0 ID3 ID9 SU3 ID9 ID4 ID4 SU2 ID0 ID9 SU2 ID3 ID4 + FIELD SPIN 0 SU3 3 SU2 2 U1 1 ID4 FIELD SPIN 0 SU3 3 SU2 2 U1 1 ID0 FIELD SPIN 0 SU3 - 3 SU2 2 U1 - 1 DAGGER ID8 FIELD SPIN 0 SU3 - 3 SU2 2 U1 - 1 DAGGER ID2 CONTRACTIONS SU3 ID4 ID0 ID8 SU3 ID8 ID2 ID2 SU2 ID4 ID0 SU2 ID8 ID2 + FIELD SPIN 0 SU3 3 U1 - 2 ID6 FIELD SPIN 0 SU3 3 U1 - 2 ID1 FIELD SPIN 0 SU3 - 3 U1 2 DAGGER ID9 FIELD SPIN 0 SU3 - 3 U1 2 DAGGER ID0 CONTRACTIONS SU3 ID6 ID9 ID9 SU3 ID1 ID0 ID0 + FIELD SPIN 0 SU3 3 U1 - 2 ID9 FIELD SPIN 0 SU3 3 U1 - 2 ID3 FIELD SPIN 0 SU3 - 3 U1 2 DAGGER ID0 FIELD SPIN 0 SU3 - 3 U1 2 DAGGER ID1 CONTRACTIONS SU3 ID9 ID3 ID0 SU3 ID0 ID1 ID1 + i FIELD SPIN 1 / 2 U1 - 1 / 2 HEL 1 / 2 DAGGER ID8 SIGMA_BAR ID5 DERIVATIVE U1 ID0 FIELD SPIN 1 / 2 U1 1 / 2 HEL - 1 / 2 ID7 CONTRACTIONS LORENTZ ID5 ID0 LORENTZ ID5 ID8 ID7 + DERIVATIVE SU3 SU2 U1 ID5 FIELD SPIN 0 SU3 - 3 SU2 2 U1 - 1 DAGGER ID9 DERIVATIVE SU3 SU2 U1 ID1 FIELD SPIN 0 SU3 3 SU2 2 U1 1 ID0 CONTRACTIONS LORENTZ ID5 ID1 SU3 ID9 ID0 SU2 ID9 ID0 + DERIVATIVE SU3 U1 ID5 FIELD SPIN 0 SU3 - 3 U1 2 DAGGER ID8 DERIVATIVE SU3 U1 ID2 FIELD SPIN 0 SU3 3 U1 - 2 ID4 CONTRACTIONS LORENTZ ID5 ID2 SU3 ID8 ID4 - COMMUTATOR_A DERIVATIVE U1 ID4 COMMUTATOR_B DERIVATIVE U1 ID8 COMMUTATOR_A DERIVATIVE U1 ID5 COMMUTATOR_B DERIVATIVE U1 ID9 CONTRACTIONS LORENTZ ID4 ID5 LORENTZ ID8 ID9 - COMMUTATOR_A DERIVATIVE SU3 ID7 COMMUTATOR_B DERIVATIVE SU3 ID5 COMMUTATOR_A DERIVATIVE SU3 ID4 COMMUTATOR_B DERIVATIVE SU3 ID9 CONTRACTIONS LORENTZ ID7 ID4 LORENTZ ID5 ID9 - COMMUTATOR_A DERIVATIVE SU2 ID8 COMMUTATOR_B DERIVATIVE SU2 ID6 COMMUTATOR_A DERIVATIVE SU2 ID2 COMMUTATOR_B DERIVATIVE SU2 ID5 CONTRACTIONS LORENTZ ID8 ID2 LORENTZ ID6 ID5 + FIELD SPIN 0 SU3 - 3 SU2 2 U1 - 1 DAGGER ID3 FIELD SPIN 0 SU3 3 SU2 2 U1 1 ID0 CONTRACTIONS SU3 ID3 ID0 SU2 ID3 ID0 + FIELD SPIN 0 SU3 - 3 U1 2 DAGGER ID9 FIELD SPIN 0 SU3 3 U1 - 2 ID8 CONTRACTIONS SU3 ID9 ID8 [EOS]\n"
     ]
    }
   ],
   "source": [
    "example = example_scenario[\"Lagrangian\"].values[0]\n",
    "example_output = \"[SOS] \" + example + \" [EOS]\"\n",
    "print(\"Output   = \",example_output)\n",
    "encoded_output = hf_tokenizer.encode(example_output)\n",
    "print(\"token_id = \", encoded_output)\n",
    "decoded_output = hf_tokenizer.decode(encoded_output)\n",
    "print(\"decoded  = \", decoded_output)\n"
   ]
  },
  {
   "cell_type": "code",
   "execution_count": 105,
   "id": "3e8dc620",
   "metadata": {},
   "outputs": [
    {
     "name": "stdout",
     "output_type": "stream",
     "text": [
      "term 0 :  + FIELD SPIN 0 SU3 3 SU2 2 U1 1 ID9 FIELD SPIN 0 SU3 3 SU2 2 U1 1 ID7 FIELD SPIN 0 SU3 3 U1 - 2 ID4 CONTRACTIONS SU3 ID9 ID7 ID4 SU2 ID9 ID7\n",
      "term 1 :  + FIELD SPIN 0 SU3 - 3 SU2 2 U1 - 1 DAGGER ID9 FIELD SPIN 0 SU3 - 3 SU2 2 U1 - 1 DAGGER ID1 FIELD SPIN 0 SU3 - 3 U1 2 DAGGER ID8 CONTRACTIONS SU3 ID9 ID9 ID1 SU3 ID1 ID8 ID8 SU2 ID9 ID1\n",
      "term 2 :  + FIELD SPIN 0 SU3 3 SU2 2 U1 1 ID5 FIELD SPIN 0 SU3 - 3 SU2 2 U1 - 1 DAGGER ID2 FIELD SPIN 0 SU3 3 U1 - 2 ID3 FIELD SPIN 0 SU3 - 3 U1 2 DAGGER ID1 CONTRACTIONS SU3 ID5 ID2 ID3 SU3 ID2 ID1 ID1 SU2 ID5 ID2\n",
      "term 3 :  + FIELD SPIN 0 SU3 3 SU2 2 U1 1 ID6 FIELD SPIN 0 SU3 - 3 SU2 2 U1 - 1 DAGGER ID7 FIELD SPIN 0 SU3 3 U1 - 2 ID3 FIELD SPIN 0 SU3 - 3 U1 2 DAGGER ID5 CONTRACTIONS SU3 ID6 ID7 ID7 SU3 ID3 ID5 ID5 SU2 ID6 ID7\n",
      "term 4 :  + FIELD SPIN 0 SU3 3 SU2 2 U1 1 ID9 FIELD SPIN 0 SU3 3 SU2 2 U1 1 ID2 FIELD SPIN 0 SU3 - 3 SU2 2 U1 - 1 DAGGER ID0 FIELD SPIN 0 SU3 - 3 SU2 2 U1 - 1 DAGGER ID8 CONTRACTIONS SU3 ID9 ID0 ID0 SU3 ID2 ID8 ID8 SU2 ID9 ID0 SU2 ID2 ID8\n",
      "term 5 :  + FIELD SPIN 0 SU3 3 SU2 2 U1 1 ID1 FIELD SPIN 0 SU3 3 SU2 2 U1 1 ID3 FIELD SPIN 0 SU3 - 3 SU2 2 U1 - 1 DAGGER ID8 FIELD SPIN 0 SU3 - 3 SU2 2 U1 - 1 DAGGER ID5 CONTRACTIONS SU3 ID1 ID8 ID8 SU3 ID3 ID5 ID5 SU2 ID1 ID3 SU2 ID8 ID5\n",
      "term 6 :  + FIELD SPIN 0 SU3 3 SU2 2 U1 1 ID0 FIELD SPIN 0 SU3 3 SU2 2 U1 1 ID3 FIELD SPIN 0 SU3 - 3 SU2 2 U1 - 1 DAGGER ID9 FIELD SPIN 0 SU3 - 3 SU2 2 U1 - 1 DAGGER ID4 CONTRACTIONS SU3 ID0 ID3 ID9 SU3 ID9 ID4 ID4 SU2 ID0 ID9 SU2 ID3 ID4\n",
      "term 7 :  + FIELD SPIN 0 SU3 3 SU2 2 U1 1 ID4 FIELD SPIN 0 SU3 3 SU2 2 U1 1 ID0 FIELD SPIN 0 SU3 - 3 SU2 2 U1 - 1 DAGGER ID8 FIELD SPIN 0 SU3 - 3 SU2 2 U1 - 1 DAGGER ID2 CONTRACTIONS SU3 ID4 ID0 ID8 SU3 ID8 ID2 ID2 SU2 ID4 ID0 SU2 ID8 ID2\n",
      "term 8 :  + FIELD SPIN 0 SU3 3 U1 - 2 ID6 FIELD SPIN 0 SU3 3 U1 - 2 ID1 FIELD SPIN 0 SU3 - 3 U1 2 DAGGER ID9 FIELD SPIN 0 SU3 - 3 U1 2 DAGGER ID0 CONTRACTIONS SU3 ID6 ID9 ID9 SU3 ID1 ID0 ID0\n",
      "term 9 :  + FIELD SPIN 0 SU3 3 U1 - 2 ID9 FIELD SPIN 0 SU3 3 U1 - 2 ID3 FIELD SPIN 0 SU3 - 3 U1 2 DAGGER ID0 FIELD SPIN 0 SU3 - 3 U1 2 DAGGER ID1 CONTRACTIONS SU3 ID9 ID3 ID0 SU3 ID0 ID1 ID1\n",
      "term 10 :  + i FIELD SPIN 1 / 2 U1 - 1 / 2 HEL 1 / 2 DAGGER ID8 SIGMA_BAR ID5 DERIVATIVE U1 ID0 FIELD SPIN 1 / 2 U1 1 / 2 HEL - 1 / 2 ID7 CONTRACTIONS LORENTZ ID5 ID0 LORENTZ ID5 ID8 ID7\n",
      "term 11 :  + DERIVATIVE SU3 SU2 U1 ID5 FIELD SPIN 0 SU3 - 3 SU2 2 U1 - 1 DAGGER ID9 DERIVATIVE SU3 SU2 U1 ID1 FIELD SPIN 0 SU3 3 SU2 2 U1 1 ID0 CONTRACTIONS LORENTZ ID5 ID1 SU3 ID9 ID0 SU2 ID9 ID0\n",
      "term 12 :  + DERIVATIVE SU3 U1 ID5 FIELD SPIN 0 SU3 - 3 U1 2 DAGGER ID8 DERIVATIVE SU3 U1 ID2 FIELD SPIN 0 SU3 3 U1 - 2 ID4 CONTRACTIONS LORENTZ ID5 ID2 SU3 ID8 ID4\n",
      "term 13 :  - COMMUTATOR_A DERIVATIVE U1 ID4 COMMUTATOR_B DERIVATIVE U1 ID8 COMMUTATOR_A DERIVATIVE U1 ID5 COMMUTATOR_B DERIVATIVE U1 ID9 CONTRACTIONS LORENTZ ID4 ID5 LORENTZ ID8 ID9\n",
      "term 14 :  - COMMUTATOR_A DERIVATIVE SU3 ID7 COMMUTATOR_B DERIVATIVE SU3 ID5 COMMUTATOR_A DERIVATIVE SU3 ID4 COMMUTATOR_B DERIVATIVE SU3 ID9 CONTRACTIONS LORENTZ ID7 ID4 LORENTZ ID5 ID9\n",
      "term 15 :  - COMMUTATOR_A DERIVATIVE SU2 ID8 COMMUTATOR_B DERIVATIVE SU2 ID6 COMMUTATOR_A DERIVATIVE SU2 ID2 COMMUTATOR_B DERIVATIVE SU2 ID5 CONTRACTIONS LORENTZ ID8 ID2 LORENTZ ID6 ID5\n",
      "term 16 :  + FIELD SPIN 0 SU3 - 3 SU2 2 U1 - 1 DAGGER ID3 FIELD SPIN 0 SU3 3 SU2 2 U1 1 ID0 CONTRACTIONS SU3 ID3 ID0 SU2 ID3 ID0\n",
      "term 17 :  + FIELD SPIN 0 SU3 - 3 U1 2 DAGGER ID9 FIELD SPIN 0 SU3 3 U1 - 2 ID8 CONTRACTIONS SU3 ID9 ID8\n",
      "\n",
      "term 0 :  + FIELD SPIN 0 SU3 - 3 SU2 2 U1 - 1 DAGGER ID9 FIELD SPIN 0 SU3 - 3 SU2 2 U1 - 1 DAGGER ID1 FIELD SPIN 0 SU3 - 3 U1 2 DAGGER ID8 CONTRACTIONS SU3 ID9 ID9 ID1 SU3 ID1 ID8 ID8 SU2 ID9 ID1\n",
      "term 1 :  + FIELD SPIN 0 SU3 3 SU2 2 U1 1 ID9 FIELD SPIN 0 SU3 3 SU2 2 U1 1 ID7 FIELD SPIN 0 SU3 3 U1 - 2 ID4 CONTRACTIONS SU3 ID9 ID7 ID4 SU2 ID9 ID7\n",
      "term 2 :  + FIELD SPIN 0 SU3 3 SU2 2 U1 1 ID5 FIELD SPIN 0 SU3 - 3 SU2 2 U1 - 1 DAGGER ID2 FIELD SPIN 0 SU3 3 U1 - 2 ID3 FIELD SPIN 0 SU3 - 3 U1 2 DAGGER ID1 CONTRACTIONS SU3 ID5 ID2 ID3 SU3 ID2 ID1 ID1 SU2 ID5 ID2\n",
      "term 3 :  + FIELD SPIN 0 SU3 3 SU2 2 U1 1 ID6 FIELD SPIN 0 SU3 - 3 SU2 2 U1 - 1 DAGGER ID7 FIELD SPIN 0 SU3 3 U1 - 2 ID3 FIELD SPIN 0 SU3 - 3 U1 2 DAGGER ID5 CONTRACTIONS SU3 ID6 ID7 ID7 SU3 ID3 ID5 ID5 SU2 ID6 ID7\n",
      "term 4 :  + FIELD SPIN 0 SU3 3 SU2 2 U1 1 ID9 FIELD SPIN 0 SU3 3 SU2 2 U1 1 ID2 FIELD SPIN 0 SU3 - 3 SU2 2 U1 - 1 DAGGER ID0 FIELD SPIN 0 SU3 - 3 SU2 2 U1 - 1 DAGGER ID8 CONTRACTIONS SU3 ID9 ID0 ID0 SU3 ID2 ID8 ID8 SU2 ID9 ID0 SU2 ID2 ID8\n",
      "term 5 :  + FIELD SPIN 0 SU3 3 SU2 2 U1 1 ID1 FIELD SPIN 0 SU3 3 SU2 2 U1 1 ID3 FIELD SPIN 0 SU3 - 3 SU2 2 U1 - 1 DAGGER ID8 FIELD SPIN 0 SU3 - 3 SU2 2 U1 - 1 DAGGER ID5 CONTRACTIONS SU3 ID1 ID8 ID8 SU3 ID3 ID5 ID5 SU2 ID1 ID3 SU2 ID8 ID5\n",
      "term 6 :  + FIELD SPIN 0 SU3 3 SU2 2 U1 1 ID0 FIELD SPIN 0 SU3 3 SU2 2 U1 1 ID3 FIELD SPIN 0 SU3 - 3 SU2 2 U1 - 1 DAGGER ID9 FIELD SPIN 0 SU3 - 3 SU2 2 U1 - 1 DAGGER ID4 CONTRACTIONS SU3 ID0 ID3 ID9 SU3 ID9 ID4 ID4 SU2 ID0 ID9 SU2 ID3 ID4\n",
      "term 7 :  + FIELD SPIN 0 SU3 3 SU2 2 U1 1 ID4 FIELD SPIN 0 SU3 3 SU2 2 U1 1 ID0 FIELD SPIN 0 SU3 - 3 SU2 2 U1 - 1 DAGGER ID8 FIELD SPIN 0 SU3 - 3 SU2 2 U1 - 1 DAGGER ID2 CONTRACTIONS SU3 ID4 ID0 ID8 SU3 ID8 ID2 ID2 SU2 ID4 ID0 SU2 ID8 ID2\n",
      "term 8 :  + FIELD SPIN 0 SU3 3 U1 - 2 ID6 FIELD SPIN 0 SU3 3 U1 - 2 ID1 FIELD SPIN 0 SU3 - 3 U1 2 DAGGER ID9 FIELD SPIN 0 SU3 - 3 U1 2 DAGGER ID0 CONTRACTIONS SU3 ID6 ID9 ID9 SU3 ID1 ID0 ID0\n",
      "term 9 :  + FIELD SPIN 0 SU3 3 U1 - 2 ID9 FIELD SPIN 0 SU3 3 U1 - 2 ID3 FIELD SPIN 0 SU3 - 3 U1 2 DAGGER ID0 FIELD SPIN 0 SU3 - 3 U1 2 DAGGER ID1 CONTRACTIONS SU3 ID9 ID3 ID0 SU3 ID0 ID1 ID1\n",
      "term 10 :  + i FIELD SPIN 1 / 2 U1 - 1 / 2 HEL 1 / 2 DAGGER ID8 SIGMA_BAR ID5 DERIVATIVE U1 ID0 FIELD SPIN 1 / 2 U1 1 / 2 HEL - 1 / 2 ID7 CONTRACTIONS LORENTZ ID5 ID0 LORENTZ ID5 ID8 ID7\n",
      "term 11 :  + DERIVATIVE SU3 SU2 U1 ID5 FIELD SPIN 0 SU3 - 3 SU2 2 U1 - 1 DAGGER ID9 DERIVATIVE SU3 SU2 U1 ID1 FIELD SPIN 0 SU3 3 SU2 2 U1 1 ID0 CONTRACTIONS LORENTZ ID5 ID1 SU3 ID9 ID0 SU2 ID9 ID0\n",
      "term 12 :  + DERIVATIVE SU3 U1 ID5 FIELD SPIN 0 SU3 - 3 U1 2 DAGGER ID8 DERIVATIVE SU3 U1 ID2 FIELD SPIN 0 SU3 3 U1 - 2 ID4 CONTRACTIONS LORENTZ ID5 ID2 SU3 ID8 ID4\n",
      "term 13 :  - COMMUTATOR_A DERIVATIVE U1 ID4 COMMUTATOR_B DERIVATIVE U1 ID8 COMMUTATOR_A DERIVATIVE U1 ID5 COMMUTATOR_B DERIVATIVE U1 ID9 CONTRACTIONS LORENTZ ID4 ID5 LORENTZ ID8 ID9\n",
      "term 14 :  - COMMUTATOR_A DERIVATIVE SU3 ID7 COMMUTATOR_B DERIVATIVE SU3 ID5 COMMUTATOR_A DERIVATIVE SU3 ID4 COMMUTATOR_B DERIVATIVE SU3 ID9 CONTRACTIONS LORENTZ ID7 ID4 LORENTZ ID5 ID9\n",
      "term 15 :  - COMMUTATOR_A DERIVATIVE SU2 ID8 COMMUTATOR_B DERIVATIVE SU2 ID6 COMMUTATOR_A DERIVATIVE SU2 ID2 COMMUTATOR_B DERIVATIVE SU2 ID5 CONTRACTIONS LORENTZ ID8 ID2 LORENTZ ID6 ID5\n",
      "term 16 :  + FIELD SPIN 0 SU3 - 3 SU2 2 U1 - 1 DAGGER ID3 FIELD SPIN 0 SU3 3 SU2 2 U1 1 ID0 CONTRACTIONS SU3 ID3 ID0 SU2 ID3 ID0\n",
      "term 17 :  + FIELD SPIN 0 SU3 - 3 U1 2 DAGGER ID9 FIELD SPIN 0 SU3 3 U1 - 2 ID8 CONTRACTIONS SU3 ID9 ID8\n"
     ]
    }
   ],
   "source": [
    "# show the terms \n",
    "separated_terms = le.sep_terms(decoded_output)\n",
    "\n",
    "for i in range(len(separated_terms)):\n",
    "    print(f\"term {i} : \",\" \".join(separated_terms[i]))\n",
    "\n",
    "lag_truth_1 =  \" \".join([\" \".join(i) for i in separated_terms])\n",
    "\n",
    "print()\n",
    "# reorder the first and second terms using list \n",
    "separated_terms[0],separated_terms[1] = separated_terms[1],separated_terms[0]\n",
    "for i in range(len(separated_terms)):\n",
    "    print(f\"term {i} : \",\" \".join(separated_terms[i]))\n",
    "lag_truth_2 =  \" \".join([\" \".join(i) for i in separated_terms])\n"
   ]
  },
  {
   "cell_type": "code",
   "execution_count": 106,
   "id": "4582290c",
   "metadata": {},
   "outputs": [
    {
     "name": "stdout",
     "output_type": "stream",
     "text": [
      "lag_truth_1 :  + FIELD SPIN 0 SU3 3 SU2 2 U1 1 ID9 FIELD SPIN 0 SU3 3 SU2 2 U1 1 ID7 FIELD SPIN 0 SU3 3 U1 - 2 ID4 CONTRACTIONS SU3 ID9 ID7 ID4 SU2 ID9 ID7 + FIELD SPIN 0 SU3 - 3 SU2 2 U1 - 1 DAGGER ID9 FIELD SPIN 0 SU3 - 3 SU2 2 U1 - 1 DAGGER ID1 FIELD SPIN 0 SU3 - 3 U1 2 DAGGER ID8 CONTRACTIONS SU3 ID9 ID9 ID1 SU3 ID1 ID8 ID8 SU2 ID9 ID1 + FIELD SPIN 0 SU3 3 SU2 2 U1 1 ID5 FIELD SPIN 0 SU3 - 3 SU2 2 U1 - 1 DAGGER ID2 FIELD SPIN 0 SU3 3 U1 - 2 ID3 FIELD SPIN 0 SU3 - 3 U1 2 DAGGER ID1 CONTRACTIONS SU3 ID5 ID2 ID3 SU3 ID2 ID1 ID1 SU2 ID5 ID2 + FIELD SPIN 0 SU3 3 SU2 2 U1 1 ID6 FIELD SPIN 0 SU3 - 3 SU2 2 U1 - 1 DAGGER ID7 FIELD SPIN 0 SU3 3 U1 - 2 ID3 FIELD SPIN 0 SU3 - 3 U1 2 DAGGER ID5 CONTRACTIONS SU3 ID6 ID7 ID7 SU3 ID3 ID5 ID5 SU2 ID6 ID7 + FIELD SPIN 0 SU3 3 SU2 2 U1 1 ID9 FIELD SPIN 0 SU3 3 SU2 2 U1 1 ID2 FIELD SPIN 0 SU3 - 3 SU2 2 U1 - 1 DAGGER ID0 FIELD SPIN 0 SU3 - 3 SU2 2 U1 - 1 DAGGER ID8 CONTRACTIONS SU3 ID9 ID0 ID0 SU3 ID2 ID8 ID8 SU2 ID9 ID0 SU2 ID2 ID8 + FIELD SPIN 0 SU3 3 SU2 2 U1 1 ID1 FIELD SPIN 0 SU3 3 SU2 2 U1 1 ID3 FIELD SPIN 0 SU3 - 3 SU2 2 U1 - 1 DAGGER ID8 FIELD SPIN 0 SU3 - 3 SU2 2 U1 - 1 DAGGER ID5 CONTRACTIONS SU3 ID1 ID8 ID8 SU3 ID3 ID5 ID5 SU2 ID1 ID3 SU2 ID8 ID5 + FIELD SPIN 0 SU3 3 SU2 2 U1 1 ID0 FIELD SPIN 0 SU3 3 SU2 2 U1 1 ID3 FIELD SPIN 0 SU3 - 3 SU2 2 U1 - 1 DAGGER ID9 FIELD SPIN 0 SU3 - 3 SU2 2 U1 - 1 DAGGER ID4 CONTRACTIONS SU3 ID0 ID3 ID9 SU3 ID9 ID4 ID4 SU2 ID0 ID9 SU2 ID3 ID4 + FIELD SPIN 0 SU3 3 SU2 2 U1 1 ID4 FIELD SPIN 0 SU3 3 SU2 2 U1 1 ID0 FIELD SPIN 0 SU3 - 3 SU2 2 U1 - 1 DAGGER ID8 FIELD SPIN 0 SU3 - 3 SU2 2 U1 - 1 DAGGER ID2 CONTRACTIONS SU3 ID4 ID0 ID8 SU3 ID8 ID2 ID2 SU2 ID4 ID0 SU2 ID8 ID2 + FIELD SPIN 0 SU3 3 U1 - 2 ID6 FIELD SPIN 0 SU3 3 U1 - 2 ID1 FIELD SPIN 0 SU3 - 3 U1 2 DAGGER ID9 FIELD SPIN 0 SU3 - 3 U1 2 DAGGER ID0 CONTRACTIONS SU3 ID6 ID9 ID9 SU3 ID1 ID0 ID0 + FIELD SPIN 0 SU3 3 U1 - 2 ID9 FIELD SPIN 0 SU3 3 U1 - 2 ID3 FIELD SPIN 0 SU3 - 3 U1 2 DAGGER ID0 FIELD SPIN 0 SU3 - 3 U1 2 DAGGER ID1 CONTRACTIONS SU3 ID9 ID3 ID0 SU3 ID0 ID1 ID1 + i FIELD SPIN 1 / 2 U1 - 1 / 2 HEL 1 / 2 DAGGER ID8 SIGMA_BAR ID5 DERIVATIVE U1 ID0 FIELD SPIN 1 / 2 U1 1 / 2 HEL - 1 / 2 ID7 CONTRACTIONS LORENTZ ID5 ID0 LORENTZ ID5 ID8 ID7 + DERIVATIVE SU3 SU2 U1 ID5 FIELD SPIN 0 SU3 - 3 SU2 2 U1 - 1 DAGGER ID9 DERIVATIVE SU3 SU2 U1 ID1 FIELD SPIN 0 SU3 3 SU2 2 U1 1 ID0 CONTRACTIONS LORENTZ ID5 ID1 SU3 ID9 ID0 SU2 ID9 ID0 + DERIVATIVE SU3 U1 ID5 FIELD SPIN 0 SU3 - 3 U1 2 DAGGER ID8 DERIVATIVE SU3 U1 ID2 FIELD SPIN 0 SU3 3 U1 - 2 ID4 CONTRACTIONS LORENTZ ID5 ID2 SU3 ID8 ID4 - COMMUTATOR_A DERIVATIVE U1 ID4 COMMUTATOR_B DERIVATIVE U1 ID8 COMMUTATOR_A DERIVATIVE U1 ID5 COMMUTATOR_B DERIVATIVE U1 ID9 CONTRACTIONS LORENTZ ID4 ID5 LORENTZ ID8 ID9 - COMMUTATOR_A DERIVATIVE SU3 ID7 COMMUTATOR_B DERIVATIVE SU3 ID5 COMMUTATOR_A DERIVATIVE SU3 ID4 COMMUTATOR_B DERIVATIVE SU3 ID9 CONTRACTIONS LORENTZ ID7 ID4 LORENTZ ID5 ID9 - COMMUTATOR_A DERIVATIVE SU2 ID8 COMMUTATOR_B DERIVATIVE SU2 ID6 COMMUTATOR_A DERIVATIVE SU2 ID2 COMMUTATOR_B DERIVATIVE SU2 ID5 CONTRACTIONS LORENTZ ID8 ID2 LORENTZ ID6 ID5 + FIELD SPIN 0 SU3 - 3 SU2 2 U1 - 1 DAGGER ID3 FIELD SPIN 0 SU3 3 SU2 2 U1 1 ID0 CONTRACTIONS SU3 ID3 ID0 SU2 ID3 ID0 + FIELD SPIN 0 SU3 - 3 U1 2 DAGGER ID9 FIELD SPIN 0 SU3 3 U1 - 2 ID8 CONTRACTIONS SU3 ID9 ID8\n",
      "lag_truth_2 :  + FIELD SPIN 0 SU3 - 3 SU2 2 U1 - 1 DAGGER ID9 FIELD SPIN 0 SU3 - 3 SU2 2 U1 - 1 DAGGER ID1 FIELD SPIN 0 SU3 - 3 U1 2 DAGGER ID8 CONTRACTIONS SU3 ID9 ID9 ID1 SU3 ID1 ID8 ID8 SU2 ID9 ID1 + FIELD SPIN 0 SU3 3 SU2 2 U1 1 ID9 FIELD SPIN 0 SU3 3 SU2 2 U1 1 ID7 FIELD SPIN 0 SU3 3 U1 - 2 ID4 CONTRACTIONS SU3 ID9 ID7 ID4 SU2 ID9 ID7 + FIELD SPIN 0 SU3 3 SU2 2 U1 1 ID5 FIELD SPIN 0 SU3 - 3 SU2 2 U1 - 1 DAGGER ID2 FIELD SPIN 0 SU3 3 U1 - 2 ID3 FIELD SPIN 0 SU3 - 3 U1 2 DAGGER ID1 CONTRACTIONS SU3 ID5 ID2 ID3 SU3 ID2 ID1 ID1 SU2 ID5 ID2 + FIELD SPIN 0 SU3 3 SU2 2 U1 1 ID6 FIELD SPIN 0 SU3 - 3 SU2 2 U1 - 1 DAGGER ID7 FIELD SPIN 0 SU3 3 U1 - 2 ID3 FIELD SPIN 0 SU3 - 3 U1 2 DAGGER ID5 CONTRACTIONS SU3 ID6 ID7 ID7 SU3 ID3 ID5 ID5 SU2 ID6 ID7 + FIELD SPIN 0 SU3 3 SU2 2 U1 1 ID9 FIELD SPIN 0 SU3 3 SU2 2 U1 1 ID2 FIELD SPIN 0 SU3 - 3 SU2 2 U1 - 1 DAGGER ID0 FIELD SPIN 0 SU3 - 3 SU2 2 U1 - 1 DAGGER ID8 CONTRACTIONS SU3 ID9 ID0 ID0 SU3 ID2 ID8 ID8 SU2 ID9 ID0 SU2 ID2 ID8 + FIELD SPIN 0 SU3 3 SU2 2 U1 1 ID1 FIELD SPIN 0 SU3 3 SU2 2 U1 1 ID3 FIELD SPIN 0 SU3 - 3 SU2 2 U1 - 1 DAGGER ID8 FIELD SPIN 0 SU3 - 3 SU2 2 U1 - 1 DAGGER ID5 CONTRACTIONS SU3 ID1 ID8 ID8 SU3 ID3 ID5 ID5 SU2 ID1 ID3 SU2 ID8 ID5 + FIELD SPIN 0 SU3 3 SU2 2 U1 1 ID0 FIELD SPIN 0 SU3 3 SU2 2 U1 1 ID3 FIELD SPIN 0 SU3 - 3 SU2 2 U1 - 1 DAGGER ID9 FIELD SPIN 0 SU3 - 3 SU2 2 U1 - 1 DAGGER ID4 CONTRACTIONS SU3 ID0 ID3 ID9 SU3 ID9 ID4 ID4 SU2 ID0 ID9 SU2 ID3 ID4 + FIELD SPIN 0 SU3 3 SU2 2 U1 1 ID4 FIELD SPIN 0 SU3 3 SU2 2 U1 1 ID0 FIELD SPIN 0 SU3 - 3 SU2 2 U1 - 1 DAGGER ID8 FIELD SPIN 0 SU3 - 3 SU2 2 U1 - 1 DAGGER ID2 CONTRACTIONS SU3 ID4 ID0 ID8 SU3 ID8 ID2 ID2 SU2 ID4 ID0 SU2 ID8 ID2 + FIELD SPIN 0 SU3 3 U1 - 2 ID6 FIELD SPIN 0 SU3 3 U1 - 2 ID1 FIELD SPIN 0 SU3 - 3 U1 2 DAGGER ID9 FIELD SPIN 0 SU3 - 3 U1 2 DAGGER ID0 CONTRACTIONS SU3 ID6 ID9 ID9 SU3 ID1 ID0 ID0 + FIELD SPIN 0 SU3 3 U1 - 2 ID9 FIELD SPIN 0 SU3 3 U1 - 2 ID3 FIELD SPIN 0 SU3 - 3 U1 2 DAGGER ID0 FIELD SPIN 0 SU3 - 3 U1 2 DAGGER ID1 CONTRACTIONS SU3 ID9 ID3 ID0 SU3 ID0 ID1 ID1 + i FIELD SPIN 1 / 2 U1 - 1 / 2 HEL 1 / 2 DAGGER ID8 SIGMA_BAR ID5 DERIVATIVE U1 ID0 FIELD SPIN 1 / 2 U1 1 / 2 HEL - 1 / 2 ID7 CONTRACTIONS LORENTZ ID5 ID0 LORENTZ ID5 ID8 ID7 + DERIVATIVE SU3 SU2 U1 ID5 FIELD SPIN 0 SU3 - 3 SU2 2 U1 - 1 DAGGER ID9 DERIVATIVE SU3 SU2 U1 ID1 FIELD SPIN 0 SU3 3 SU2 2 U1 1 ID0 CONTRACTIONS LORENTZ ID5 ID1 SU3 ID9 ID0 SU2 ID9 ID0 + DERIVATIVE SU3 U1 ID5 FIELD SPIN 0 SU3 - 3 U1 2 DAGGER ID8 DERIVATIVE SU3 U1 ID2 FIELD SPIN 0 SU3 3 U1 - 2 ID4 CONTRACTIONS LORENTZ ID5 ID2 SU3 ID8 ID4 - COMMUTATOR_A DERIVATIVE U1 ID4 COMMUTATOR_B DERIVATIVE U1 ID8 COMMUTATOR_A DERIVATIVE U1 ID5 COMMUTATOR_B DERIVATIVE U1 ID9 CONTRACTIONS LORENTZ ID4 ID5 LORENTZ ID8 ID9 - COMMUTATOR_A DERIVATIVE SU3 ID7 COMMUTATOR_B DERIVATIVE SU3 ID5 COMMUTATOR_A DERIVATIVE SU3 ID4 COMMUTATOR_B DERIVATIVE SU3 ID9 CONTRACTIONS LORENTZ ID7 ID4 LORENTZ ID5 ID9 - COMMUTATOR_A DERIVATIVE SU2 ID8 COMMUTATOR_B DERIVATIVE SU2 ID6 COMMUTATOR_A DERIVATIVE SU2 ID2 COMMUTATOR_B DERIVATIVE SU2 ID5 CONTRACTIONS LORENTZ ID8 ID2 LORENTZ ID6 ID5 + FIELD SPIN 0 SU3 - 3 SU2 2 U1 - 1 DAGGER ID3 FIELD SPIN 0 SU3 3 SU2 2 U1 1 ID0 CONTRACTIONS SU3 ID3 ID0 SU2 ID3 ID0 + FIELD SPIN 0 SU3 - 3 U1 2 DAGGER ID9 FIELD SPIN 0 SU3 3 U1 - 2 ID8 CONTRACTIONS SU3 ID9 ID8\n"
     ]
    }
   ],
   "source": [
    "print(\"lag_truth_1 : \",lag_truth_1)\n",
    "print(\"lag_truth_2 : \",lag_truth_2)\n"
   ]
  },
  {
   "cell_type": "code",
   "execution_count": null,
   "id": "aa1e60b1",
   "metadata": {},
   "outputs": [
    {
     "name": "stdout",
     "output_type": "stream",
     "text": [
      "inputs:\n",
      " [SOS] FIELD SPIN 1 / 2 U1 1 / 2 HEL - 1 / 2 FIELD SPIN 0 SU3 3 SU2 2 U1 1 FIELD SPIN 0 SU3 3 U1 - 2 [EOS]\n",
      "labels_1:\n",
      " [SOS] + FIELD SPIN 0 SU3 3 SU2 2 U1 1 ID9 FIELD SPIN 0 SU3 3 SU2 2 U1 1 ID7 FIELD SPIN 0 SU3 3 U1 - 2 ID4 CONTRACTIONS SU3 ID9 ID7 ID4 SU2 ID9 ID7 + FIELD SPIN 0 SU3 - 3 SU2 2 U1 - 1 DAGGER ID9 FIELD SPIN 0 SU3 - 3 SU2 2 U1 - 1 DAGGER ID1 FIELD SPIN 0 SU3 - 3 U1 2 DAGGER ID8 CONTRACTIONS SU3 ID9 ID9 ID1 SU3 ID1 ID8 ID8 SU2 ID9 ID1 + FIELD SPIN 0 SU3 3 SU2 2 U1 1 ID5 FIELD SPIN 0 SU3 - 3 SU2 2 U1 - 1 DAGGER ID2 FIELD SPIN 0 SU3 3 U1 - 2 ID3 FIELD SPIN 0 SU3 - 3 U1 2 DAGGER ID1 CONTRACTIONS SU3 ID5 ID2 ID3 SU3 ID2 ID1 ID1 SU2 ID5 ID2 + FIELD SPIN 0 SU3 3 SU2 2 U1 1 ID6 FIELD SPIN 0 SU3 - 3 SU2 2 U1 - 1 DAGGER ID7 FIELD SPIN 0 SU3 3 U1 - 2 ID3 FIELD SPIN 0 SU3 - 3 U1 2 DAGGER ID5 CONTRACTIONS SU3 ID6 ID7 ID7 SU3 ID3 ID5 ID5 SU2 ID6 ID7 + FIELD SPIN 0 SU3 3 SU2 2 U1 1 ID9 FIELD SPIN 0 SU3 3 SU2 2 U1 1 ID2 FIELD SPIN 0 SU3 - 3 SU2 2 U1 - 1 DAGGER ID0 FIELD SPIN 0 SU3 - 3 SU2 2 U1 - 1 DAGGER ID8 CONTRACTIONS SU3 ID9 ID0 ID0 SU3 ID2 ID8 ID8 SU2 ID9 ID0 SU2 ID2 ID8 + FIELD SPIN 0 SU3 3 SU2 2 U1 1 ID1 FIELD SPIN 0 SU3 3 SU2 2 U1 1 ID3 FIELD SPIN 0 SU3 - 3 SU2 2 U1 - 1 DAGGER ID8 FIELD SPIN 0 SU3 - 3 SU2 2 U1 - 1 DAGGER ID5 CONTRACTIONS SU3 ID1 ID8 ID8 SU3 ID3 ID5 ID5 SU2 ID1 ID3 SU2 ID8 ID5 + FIELD SPIN 0 SU3 3 SU2 2 U1 1 ID0 FIELD SPIN 0 SU3 3 SU2 2 U1 1 ID3 FIELD SPIN 0 SU3 - 3 SU2 2 U1 - 1 DAGGER ID9 FIELD SPIN 0 SU3 - 3 SU2 2 U1 - 1 DAGGER ID4 CONTRACTIONS SU3 ID0 ID3 ID9 SU3 ID9 ID4 ID4 SU2 ID0 ID9 SU2 ID3 ID4 + FIELD SPIN 0 SU3 3 SU2 2 U1 1 ID4 FIELD SPIN 0 SU3 3 SU2 2 U1 1 ID0 FIELD SPIN 0 SU3 - 3 SU2 2 U1 - 1 DAGGER ID8 FIELD SPIN 0 SU3 - 3 SU2 2 U1 - 1 DAGGER ID2 CONTRACTIONS SU3 ID4 ID0 ID8 SU3 ID8 ID2 ID2 SU2 ID4 ID0 SU2 ID8 ID2 + FIELD SPIN 0 SU3 3 U1 - 2 ID6 FIELD SPIN 0 SU3 3 U1 - 2 ID1 FIELD SPIN 0 SU3 - 3 U1 2 DAGGER ID9 FIELD SPIN 0 SU3 - 3 U1 2 DAGGER ID0 CONTRACTIONS SU3 ID6 ID9 ID9 SU3 ID1 ID0 ID0 + FIELD SPIN 0 SU3 3 U1 - 2 ID9 FIELD SPIN 0 SU3 3 U1 - 2 ID3 FIELD SPIN 0 SU3 - 3 U1 2 DAGGER ID0 FIELD SPIN 0 SU3 - 3 U1 2 DAGGER ID1 CONTRACTIONS SU3 ID9 ID3 ID0 SU3 ID0 ID1 ID1 + i FIELD SPIN 1 / 2 U1 - 1 / 2 HEL 1 / 2 DAGGER ID8 SIGMA_BAR ID5 DERIVATIVE U1 ID0 FIELD SPIN 1 / 2 U1 1 / 2 HEL - 1 / 2 ID7 CONTRACTIONS LORENTZ ID5 ID0 LORENTZ ID5 ID8 ID7 + DERIVATIVE SU3 SU2 U1 ID5 FIELD SPIN 0 SU3 - 3 SU2 2 U1 - 1 DAGGER ID9 DERIVATIVE SU3 SU2 U1 ID1 FIELD SPIN 0 SU3 3 SU2 2 U1 1 ID0 CONTRACTIONS LORENTZ ID5 ID1 SU3 ID9 ID0 SU2 ID9 ID0 + DERIVATIVE SU3 U1 ID5 FIELD SPIN 0 SU3 - 3 U1 2 DAGGER ID8 DERIVATIVE SU3 U1 ID2 FIELD SPIN 0 SU3 3 U1 - 2 ID4 CONTRACTIONS LORENTZ ID5 ID2 SU3 ID8 ID4 - COMMUTATOR_A DERIVATIVE U1 ID4 COMMUTATOR_B DERIVATIVE U1 ID8 COMMUTATOR_A DERIVATIVE U1 ID5 COMMUTATOR_B DERIVATIVE U1 ID9 CONTRACTIONS LORENTZ ID4 ID5 LORENTZ ID8 ID9 - COMMUTATOR_A DERIVATIVE SU3 ID7 COMMUTATOR_B DERIVATIVE SU3 ID5 COMMUTATOR_A DERIVATIVE SU3 ID4 COMMUTATOR_B DERIVATIVE SU3 ID9 CONTRACTIONS LORENTZ ID7 ID4 LORENTZ ID5 ID9 - COMMUTATOR_A DERIVATIVE SU2 ID8 COMMUTATOR_B DERIVATIVE SU2 ID6 COMMUTATOR_A DERIVATIVE SU2 ID2 COMMUTATOR_B DERIVATIVE SU2 ID5 CONTRACTIONS LORENTZ ID8 ID2 LORENTZ ID6 ID5 + FIELD SPIN 0 SU3 - 3 SU2 2 U1 - 1 DAGGER ID3 FIELD SPIN 0 SU3 3 SU2 2 U1 1 ID0 CONTRACTIONS SU3 ID3 ID0 SU2 ID3 ID0 + FIELD SPIN 0 SU3 - 3 U1 2 DAGGER ID9 FIELD SPIN 0 SU3 3 U1 - 2 ID8 CONTRACTIONS SU3 ID9 ID8 [EOS]\n",
      "labels_2:\n",
      " [SOS] + FIELD SPIN 0 SU3 - 3 SU2 2 U1 - 1 DAGGER ID9 FIELD SPIN 0 SU3 - 3 SU2 2 U1 - 1 DAGGER ID1 FIELD SPIN 0 SU3 - 3 U1 2 DAGGER ID8 CONTRACTIONS SU3 ID9 ID9 ID1 SU3 ID1 ID8 ID8 SU2 ID9 ID1 + FIELD SPIN 0 SU3 3 SU2 2 U1 1 ID9 FIELD SPIN 0 SU3 3 SU2 2 U1 1 ID7 FIELD SPIN 0 SU3 3 U1 - 2 ID4 CONTRACTIONS SU3 ID9 ID7 ID4 SU2 ID9 ID7 + FIELD SPIN 0 SU3 3 SU2 2 U1 1 ID5 FIELD SPIN 0 SU3 - 3 SU2 2 U1 - 1 DAGGER ID2 FIELD SPIN 0 SU3 3 U1 - 2 ID3 FIELD SPIN 0 SU3 - 3 U1 2 DAGGER ID1 CONTRACTIONS SU3 ID5 ID2 ID3 SU3 ID2 ID1 ID1 SU2 ID5 ID2 + FIELD SPIN 0 SU3 3 SU2 2 U1 1 ID6 FIELD SPIN 0 SU3 - 3 SU2 2 U1 - 1 DAGGER ID7 FIELD SPIN 0 SU3 3 U1 - 2 ID3 FIELD SPIN 0 SU3 - 3 U1 2 DAGGER ID5 CONTRACTIONS SU3 ID6 ID7 ID7 SU3 ID3 ID5 ID5 SU2 ID6 ID7 + FIELD SPIN 0 SU3 3 SU2 2 U1 1 ID9 FIELD SPIN 0 SU3 3 SU2 2 U1 1 ID2 FIELD SPIN 0 SU3 - 3 SU2 2 U1 - 1 DAGGER ID0 FIELD SPIN 0 SU3 - 3 SU2 2 U1 - 1 DAGGER ID8 CONTRACTIONS SU3 ID9 ID0 ID0 SU3 ID2 ID8 ID8 SU2 ID9 ID0 SU2 ID2 ID8 + FIELD SPIN 0 SU3 3 SU2 2 U1 1 ID1 FIELD SPIN 0 SU3 3 SU2 2 U1 1 ID3 FIELD SPIN 0 SU3 - 3 SU2 2 U1 - 1 DAGGER ID8 FIELD SPIN 0 SU3 - 3 SU2 2 U1 - 1 DAGGER ID5 CONTRACTIONS SU3 ID1 ID8 ID8 SU3 ID3 ID5 ID5 SU2 ID1 ID3 SU2 ID8 ID5 + FIELD SPIN 0 SU3 3 SU2 2 U1 1 ID0 FIELD SPIN 0 SU3 3 SU2 2 U1 1 ID3 FIELD SPIN 0 SU3 - 3 SU2 2 U1 - 1 DAGGER ID9 FIELD SPIN 0 SU3 - 3 SU2 2 U1 - 1 DAGGER ID4 CONTRACTIONS SU3 ID0 ID3 ID9 SU3 ID9 ID4 ID4 SU2 ID0 ID9 SU2 ID3 ID4 + FIELD SPIN 0 SU3 3 SU2 2 U1 1 ID4 FIELD SPIN 0 SU3 3 SU2 2 U1 1 ID0 FIELD SPIN 0 SU3 - 3 SU2 2 U1 - 1 DAGGER ID8 FIELD SPIN 0 SU3 - 3 SU2 2 U1 - 1 DAGGER ID2 CONTRACTIONS SU3 ID4 ID0 ID8 SU3 ID8 ID2 ID2 SU2 ID4 ID0 SU2 ID8 ID2 + FIELD SPIN 0 SU3 3 U1 - 2 ID6 FIELD SPIN 0 SU3 3 U1 - 2 ID1 FIELD SPIN 0 SU3 - 3 U1 2 DAGGER ID9 FIELD SPIN 0 SU3 - 3 U1 2 DAGGER ID0 CONTRACTIONS SU3 ID6 ID9 ID9 SU3 ID1 ID0 ID0 + FIELD SPIN 0 SU3 3 U1 - 2 ID9 FIELD SPIN 0 SU3 3 U1 - 2 ID3 FIELD SPIN 0 SU3 - 3 U1 2 DAGGER ID0 FIELD SPIN 0 SU3 - 3 U1 2 DAGGER ID1 CONTRACTIONS SU3 ID9 ID3 ID0 SU3 ID0 ID1 ID1 + i FIELD SPIN 1 / 2 U1 - 1 / 2 HEL 1 / 2 DAGGER ID8 SIGMA_BAR ID5 DERIVATIVE U1 ID0 FIELD SPIN 1 / 2 U1 1 / 2 HEL - 1 / 2 ID7 CONTRACTIONS LORENTZ ID5 ID0 LORENTZ ID5 ID8 ID7 + DERIVATIVE SU3 SU2 U1 ID5 FIELD SPIN 0 SU3 - 3 SU2 2 U1 - 1 DAGGER ID9 DERIVATIVE SU3 SU2 U1 ID1 FIELD SPIN 0 SU3 3 SU2 2 U1 1 ID0 CONTRACTIONS LORENTZ ID5 ID1 SU3 ID9 ID0 SU2 ID9 ID0 + DERIVATIVE SU3 U1 ID5 FIELD SPIN 0 SU3 - 3 U1 2 DAGGER ID8 DERIVATIVE SU3 U1 ID2 FIELD SPIN 0 SU3 3 U1 - 2 ID4 CONTRACTIONS LORENTZ ID5 ID2 SU3 ID8 ID4 - COMMUTATOR_A DERIVATIVE U1 ID4 COMMUTATOR_B DERIVATIVE U1 ID8 COMMUTATOR_A DERIVATIVE U1 ID5 COMMUTATOR_B DERIVATIVE U1 ID9 CONTRACTIONS LORENTZ ID4 ID5 LORENTZ ID8 ID9 - COMMUTATOR_A DERIVATIVE SU3 ID7 COMMUTATOR_B DERIVATIVE SU3 ID5 COMMUTATOR_A DERIVATIVE SU3 ID4 COMMUTATOR_B DERIVATIVE SU3 ID9 CONTRACTIONS LORENTZ ID7 ID4 LORENTZ ID5 ID9 - COMMUTATOR_A DERIVATIVE SU2 ID8 COMMUTATOR_B DERIVATIVE SU2 ID6 COMMUTATOR_A DERIVATIVE SU2 ID2 COMMUTATOR_B DERIVATIVE SU2 ID5 CONTRACTIONS LORENTZ ID8 ID2 LORENTZ ID6 ID5 + FIELD SPIN 0 SU3 - 3 SU2 2 U1 - 1 DAGGER ID3 FIELD SPIN 0 SU3 3 SU2 2 U1 1 ID0 CONTRACTIONS SU3 ID3 ID0 SU2 ID3 ID0 + FIELD SPIN 0 SU3 - 3 U1 2 DAGGER ID9 FIELD SPIN 0 SU3 3 U1 - 2 ID8 CONTRACTIONS SU3 ID9 ID8 [EOS]\n",
      "loss with labels_1: tensor(0.1775)\n",
      "loss with labels_2: tensor(0.2242)\n"
     ]
    }
   ],
   "source": [
    " \n",
    "targets_1 = hf_tokenizer(\"[SOS] \" + lag_truth_1 + \" [EOS]\", return_tensors=\"pt\", truncation=True, padding=True)\n",
    "targets_2 = hf_tokenizer(\"[SOS] \" + lag_truth_2 + \" [EOS]\", return_tensors=\"pt\", truncation=True, padding=True)\n",
    "\n",
    "#print(\"targets_1:\\n\", targets_1)\n",
    "labels_1 = targets_1[\"input_ids\"]\n",
    "#print(\"targets_2:\\n\", targets_2)\n",
    "labels_2 = targets_2[\"input_ids\"]\n",
    "\n",
    "\n",
    "#print(\"inputs:\\n\", encoded_input)\n",
    "print(\"inputs:\\n\", hf_tokenizer.decode(encoded_input))\n",
    "#print(\"labels_1:\\n\", labels_1)\n",
    "print(\"labels_1:\\n\", hf_tokenizer.decode(labels_1[0]))\n",
    "#print(\"labels_2:\\n\", labels_2)\n",
    "print(\"labels_2:\\n\", hf_tokenizer.decode(labels_2[0]))\n",
    "\n",
    "\n",
    "with torch.no_grad():\n",
    "    # loss with labels_1 and labels_2\n",
    "    outputs_1 = model(input_ids=torch.tensor(encoded_input).unsqueeze(0), labels=labels_1)\n",
    "    print(\"loss with labels_1:\", outputs_1.loss)\n",
    "    # Get the predicted token IDs by taking the argmax over the vocabulary dimension\n",
    "    predicted_token_ids_1 = torch.argmax(outputs_1.logits, dim=-1)  # Shape: [batch_size, seq_len]\n",
    "\n",
    "    # Decode the predicted token IDs to get the predicted string\n",
    "    predicted_string_1 = hf_tokenizer.decode(predicted_token_ids_1[0], skip_special_tokens=True)\n",
    "    \n",
    "    outputs_2 = model(input_ids=torch.tensor(encoded_input).unsqueeze(0), labels=labels_2)\n",
    "    print(\"loss with labels_2:\", outputs_2.loss)\n",
    "    # Get the predicted token IDs by taking the argmax over the vocabulary dimension\n",
    "    predicted_token_ids_2 = torch.argmax(outputs_2.logits, dim=-1)  # Shape: [batch_size, seq_len]\n",
    "    \n",
    "    # Decode the predicted token IDs to get the predicted string\n",
    "    predicted_string_2 = hf_tokenizer.decode(predicted_token_ids_2[0], skip_special_tokens=True)\n",
    "\n",
    "    \n",
    "    \n",
    "    # prediction during inference\n",
    "    generated_id     = model.generate(input_ids=torch.tensor(encoded_input).unsqueeze(0), max_length=len(labels_1[0]))\n",
    "    predicted_string = hf_tokenizer.decode(generated_id[0], skip_special_tokens=True)\n",
    "    "
   ]
  },
  {
   "cell_type": "code",
   "execution_count": 146,
   "id": "bf03ce21",
   "metadata": {},
   "outputs": [
    {
     "name": "stdout",
     "output_type": "stream",
     "text": [
      "predicted_string  :  + FIELD SPIN 0 SU3 3 SU2 2 U1 1 ID5 FIELD SPIN 0 SU3 3 SU2 2 U1 1 ID2 FIELD SPIN 0 SU3 3 U1 - 2 ID0 CONTRACTIONS SU3 ID5 ID2 ID0 SU2 ID5 ID2 + FIELD SPIN 0 SU3 - 3 SU2 2 U1 - 1 DAGGER ID7 FIELD SPIN 0 SU3 - 3 SU2 2 U1 - 1 DAGGER ID6 FIELD SPIN 0 SU3 - 3 U1 2 DAGGER ID0 CONTRACTIONS SU3 ID7 ID7 ID6 SU3 ID6 ID0 ID0 SU2 ID7 ID6 + FIELD SPIN 0 SU3 3 SU2 2 U1 1 ID2 FIELD SPIN 0 SU3 - 3 SU2 2 U1 - 1 DAGGER ID4 FIELD SPIN 0 SU3 3 U1 - 2 ID3 FIELD SPIN 0 SU3 - 3 U1 2 DAGGER ID6 CONTRACTIONS SU3 ID2 ID4 ID3 SU3 ID4 ID6 ID6 SU2 ID2 ID4 + FIELD SPIN 0 SU3 3 SU2 2 U1 1 ID2 FIELD SPIN 0 SU3 - 3 SU2 2 U1 - 1 DAGGER ID4 FIELD SPIN 0 SU3 3 U1 - 2 ID0 FIELD SPIN 0 SU3 - 3 U1 2 DAGGER ID1 CONTRACTIONS SU3 ID2 ID4 ID4 SU3 ID0 ID1 ID1 SU2 ID2 ID4 + FIELD SPIN 0 SU3 3 SU2 2 U1 1 ID2 FIELD SPIN 0 SU3 3 SU2 2 U1 1 ID4 FIELD SPIN 0 SU3 - 3 SU2 2 U1 - 1 DAGGER ID6 FIELD SPIN 0 SU3 - 3 SU2 2 U1 - 1 DAGGER ID0 CONTRACTIONS SU3 ID2 ID6 ID6 SU3 ID4 ID0 ID0 SU2 ID2 ID6 SU2 ID4 ID0 + FIELD SPIN 0 SU3 3 SU2 2 U1 1 ID2 FIELD SPIN 0 SU3 3 SU2 2 U1 1 ID0 FIELD SPIN 0 SU3 - 3 SU2 2 U1 - 1 DAGGER ID8 FIELD SPIN 0 SU3 - 3 SU2 2 U1 - 1 DAGGER ID4 CONTRACTIONS SU3 ID2 ID8 ID8 SU3 ID0 ID4 ID4 SU2 ID2 ID0 SU2 ID8 ID4 + FIELD SPIN 0 SU3 3 SU2 2 U1 1 ID2 FIELD SPIN 0 SU3 3 SU2 2 U1 1 ID0 FIELD SPIN 0 SU3 - 3 SU2 2 U1 - 1 DAGGER ID4 FIELD SPIN 0 SU3 - 3 SU2 2 U1 - 1 DAGGER ID1 CONTRACTIONS SU3 ID2 ID0 ID4 SU3 ID4 ID1 ID1 SU2 ID2 ID4 SU2 ID0 ID1 + FIELD SPIN 0 SU3 3 SU2 2 U1 1 ID8 FIELD SPIN 0 SU3 3 SU2 2 U1 1 ID6 FIELD SPIN 0 SU3 - 3 SU2 2 U1 - 1 DAGGER ID4 FIELD SPIN 0 SU3 - 3 SU2 2 U1 - 1 DAGGER ID2 CONTRACTIONS SU3 ID8 ID6 ID4 SU3 ID4 ID2 ID2 SU2 ID8 ID6 SU2 ID4 ID2 + FIELD SPIN 0 SU3 3 U1 - 2 ID4 FIELD SPIN 0 SU3 3 U1 - 2 ID8 FIELD SPIN 0 SU3 - 3 U1 2 DAGGER ID6 FIELD SPIN 0 SU3 - 3 U1 2 DAGGER ID2 CONTRACTIONS SU3 ID4 ID6 ID6 SU3 ID8 ID2 ID2 + FIELD SPIN 0 SU3 3 U1 - 2 ID4 FIELD SPIN 0 SU3 3 U1 - 2 ID8 FIELD SPIN 0 SU3 - 3 U1 2 DAGGER ID6 FIELD SPIN 0 SU3 - 3 U1 2 DAGGER ID7 CONTRACTIONS SU3 ID4 ID8 ID6 SU3 ID6 ID7 ID7 + i FIELD SPIN 1 / 2 U1 - 1 / 2 HEL 1 / 2 DAGGER ID4 SIGMA_BAR ID8 DERIVATIVE U1 ID6 FIELD SPIN 1 / 2 U1 1 / 2 HEL - 1 / 2 ID5 CONTRACTIONS LORENTZ ID8 ID6 LORENTZ ID8 ID4 ID5 + DERIVATIVE SU3 SU2 U1 ID4 FIELD SPIN 0 SU3 - 3 SU2 2 U1 - 1 DAGGER ID8 DERIVATIVE SU3 SU2 U1 ID6 FIELD SPIN 0 SU3 3 SU2 2 U1 1 ID5 CONTRACTIONS LORENTZ ID4 ID6 SU3 ID8 ID5 SU2 ID8 ID5 + DERIVATIVE SU3 U1 ID4 FIELD SPIN 0 SU3 - 3 U1 2 DAGGER ID8 DERIVATIVE SU3 U1 ID6 FIELD SPIN 0 SU3 3 U1 - 2 ID5 CONTRACTIONS LORENTZ ID4 ID6 SU3 ID8 ID5 - COMMUTATOR_A DERIVATIVE U1 ID4 COMMUTATOR_B DERIVATIVE U1 ID8 COMMUTATOR_A DERIVATIVE U1 ID6 COMMUTATOR_B DERIVATIVE U1 ID5 CONTRACTIONS LORENTZ ID4 ID6 LORENTZ ID8 ID5 - COMMUTATOR_A DERIVATIVE SU3 ID4 COMMUTATOR_B DERIVATIVE SU3 ID8 COMMUTATOR_A DERIVATIVE SU3 ID6 COMMUTATOR_B DERIVATIVE SU3 ID5 CONTRACTIONS LORENTZ ID4 ID6 LORENTZ ID8 ID5 - COMMUTATOR_A DERIVATIVE SU2 ID4 COMMUTATOR_B DERIVATIVE SU2 ID8 COMMUTATOR_A DERIVATIVE SU2 ID2 COMMUTATOR_B DERIVATIVE SU2 ID6 CONTRACTIONS LORENTZ ID4 ID2 LORENTZ ID8 ID6 + FIELD SPIN 0 SU3 - 3 SU2 2 U1 - 1 DAGGER ID4 FIELD SPIN 0 SU3 3 SU2 2 U1 1 ID8 CONTRACTIONS SU3 ID4 ID8 SU2 ID4 ID8 + FIELD SPIN 0 SU3 - 3 U1 2 DAGGER ID4 FIELD SPIN 0 SU3 3 U1 - 2 ID8 CONTRACTIONS SU3 ID4\n",
      "\n",
      "lag_truth_1       :  + FIELD SPIN 0 SU3 3 SU2 2 U1 1 ID9 FIELD SPIN 0 SU3 3 SU2 2 U1 1 ID7 FIELD SPIN 0 SU3 3 U1 - 2 ID4 CONTRACTIONS SU3 ID9 ID7 ID4 SU2 ID9 ID7 + FIELD SPIN 0 SU3 - 3 SU2 2 U1 - 1 DAGGER ID9 FIELD SPIN 0 SU3 - 3 SU2 2 U1 - 1 DAGGER ID1 FIELD SPIN 0 SU3 - 3 U1 2 DAGGER ID8 CONTRACTIONS SU3 ID9 ID9 ID1 SU3 ID1 ID8 ID8 SU2 ID9 ID1 + FIELD SPIN 0 SU3 3 SU2 2 U1 1 ID5 FIELD SPIN 0 SU3 - 3 SU2 2 U1 - 1 DAGGER ID2 FIELD SPIN 0 SU3 3 U1 - 2 ID3 FIELD SPIN 0 SU3 - 3 U1 2 DAGGER ID1 CONTRACTIONS SU3 ID5 ID2 ID3 SU3 ID2 ID1 ID1 SU2 ID5 ID2 + FIELD SPIN 0 SU3 3 SU2 2 U1 1 ID6 FIELD SPIN 0 SU3 - 3 SU2 2 U1 - 1 DAGGER ID7 FIELD SPIN 0 SU3 3 U1 - 2 ID3 FIELD SPIN 0 SU3 - 3 U1 2 DAGGER ID5 CONTRACTIONS SU3 ID6 ID7 ID7 SU3 ID3 ID5 ID5 SU2 ID6 ID7 + FIELD SPIN 0 SU3 3 SU2 2 U1 1 ID9 FIELD SPIN 0 SU3 3 SU2 2 U1 1 ID2 FIELD SPIN 0 SU3 - 3 SU2 2 U1 - 1 DAGGER ID0 FIELD SPIN 0 SU3 - 3 SU2 2 U1 - 1 DAGGER ID8 CONTRACTIONS SU3 ID9 ID0 ID0 SU3 ID2 ID8 ID8 SU2 ID9 ID0 SU2 ID2 ID8 + FIELD SPIN 0 SU3 3 SU2 2 U1 1 ID1 FIELD SPIN 0 SU3 3 SU2 2 U1 1 ID3 FIELD SPIN 0 SU3 - 3 SU2 2 U1 - 1 DAGGER ID8 FIELD SPIN 0 SU3 - 3 SU2 2 U1 - 1 DAGGER ID5 CONTRACTIONS SU3 ID1 ID8 ID8 SU3 ID3 ID5 ID5 SU2 ID1 ID3 SU2 ID8 ID5 + FIELD SPIN 0 SU3 3 SU2 2 U1 1 ID0 FIELD SPIN 0 SU3 3 SU2 2 U1 1 ID3 FIELD SPIN 0 SU3 - 3 SU2 2 U1 - 1 DAGGER ID9 FIELD SPIN 0 SU3 - 3 SU2 2 U1 - 1 DAGGER ID4 CONTRACTIONS SU3 ID0 ID3 ID9 SU3 ID9 ID4 ID4 SU2 ID0 ID9 SU2 ID3 ID4 + FIELD SPIN 0 SU3 3 SU2 2 U1 1 ID4 FIELD SPIN 0 SU3 3 SU2 2 U1 1 ID0 FIELD SPIN 0 SU3 - 3 SU2 2 U1 - 1 DAGGER ID8 FIELD SPIN 0 SU3 - 3 SU2 2 U1 - 1 DAGGER ID2 CONTRACTIONS SU3 ID4 ID0 ID8 SU3 ID8 ID2 ID2 SU2 ID4 ID0 SU2 ID8 ID2 + FIELD SPIN 0 SU3 3 U1 - 2 ID6 FIELD SPIN 0 SU3 3 U1 - 2 ID1 FIELD SPIN 0 SU3 - 3 U1 2 DAGGER ID9 FIELD SPIN 0 SU3 - 3 U1 2 DAGGER ID0 CONTRACTIONS SU3 ID6 ID9 ID9 SU3 ID1 ID0 ID0 + FIELD SPIN 0 SU3 3 U1 - 2 ID9 FIELD SPIN 0 SU3 3 U1 - 2 ID3 FIELD SPIN 0 SU3 - 3 U1 2 DAGGER ID0 FIELD SPIN 0 SU3 - 3 U1 2 DAGGER ID1 CONTRACTIONS SU3 ID9 ID3 ID0 SU3 ID0 ID1 ID1 + i FIELD SPIN 1 / 2 U1 - 1 / 2 HEL 1 / 2 DAGGER ID8 SIGMA_BAR ID5 DERIVATIVE U1 ID0 FIELD SPIN 1 / 2 U1 1 / 2 HEL - 1 / 2 ID7 CONTRACTIONS LORENTZ ID5 ID0 LORENTZ ID5 ID8 ID7 + DERIVATIVE SU3 SU2 U1 ID5 FIELD SPIN 0 SU3 - 3 SU2 2 U1 - 1 DAGGER ID9 DERIVATIVE SU3 SU2 U1 ID1 FIELD SPIN 0 SU3 3 SU2 2 U1 1 ID0 CONTRACTIONS LORENTZ ID5 ID1 SU3 ID9 ID0 SU2 ID9 ID0 + DERIVATIVE SU3 U1 ID5 FIELD SPIN 0 SU3 - 3 U1 2 DAGGER ID8 DERIVATIVE SU3 U1 ID2 FIELD SPIN 0 SU3 3 U1 - 2 ID4 CONTRACTIONS LORENTZ ID5 ID2 SU3 ID8 ID4 - COMMUTATOR_A DERIVATIVE U1 ID4 COMMUTATOR_B DERIVATIVE U1 ID8 COMMUTATOR_A DERIVATIVE U1 ID5 COMMUTATOR_B DERIVATIVE U1 ID9 CONTRACTIONS LORENTZ ID4 ID5 LORENTZ ID8 ID9 - COMMUTATOR_A DERIVATIVE SU3 ID7 COMMUTATOR_B DERIVATIVE SU3 ID5 COMMUTATOR_A DERIVATIVE SU3 ID4 COMMUTATOR_B DERIVATIVE SU3 ID9 CONTRACTIONS LORENTZ ID7 ID4 LORENTZ ID5 ID9 - COMMUTATOR_A DERIVATIVE SU2 ID8 COMMUTATOR_B DERIVATIVE SU2 ID6 COMMUTATOR_A DERIVATIVE SU2 ID2 COMMUTATOR_B DERIVATIVE SU2 ID5 CONTRACTIONS LORENTZ ID8 ID2 LORENTZ ID6 ID5 + FIELD SPIN 0 SU3 - 3 SU2 2 U1 - 1 DAGGER ID3 FIELD SPIN 0 SU3 3 SU2 2 U1 1 ID0 CONTRACTIONS SU3 ID3 ID0 SU2 ID3 ID0 + FIELD SPIN 0 SU3 - 3 U1 2 DAGGER ID9 FIELD SPIN 0 SU3 3 U1 - 2 ID8 CONTRACTIONS SU3 ID9 ID8\n",
      "lagrangian score  :  0.9444444444444444\n",
      "Object score      :  0.9444444444444444\n",
      "Contraction Score :  0.9444444444444444\n",
      "Length penalty    :  0.0\n",
      "\n",
      "lag_truth_2       :  + FIELD SPIN 0 SU3 - 3 SU2 2 U1 - 1 DAGGER ID9 FIELD SPIN 0 SU3 - 3 SU2 2 U1 - 1 DAGGER ID1 FIELD SPIN 0 SU3 - 3 U1 2 DAGGER ID8 CONTRACTIONS SU3 ID9 ID9 ID1 SU3 ID1 ID8 ID8 SU2 ID9 ID1 + FIELD SPIN 0 SU3 3 SU2 2 U1 1 ID9 FIELD SPIN 0 SU3 3 SU2 2 U1 1 ID7 FIELD SPIN 0 SU3 3 U1 - 2 ID4 CONTRACTIONS SU3 ID9 ID7 ID4 SU2 ID9 ID7 + FIELD SPIN 0 SU3 3 SU2 2 U1 1 ID5 FIELD SPIN 0 SU3 - 3 SU2 2 U1 - 1 DAGGER ID2 FIELD SPIN 0 SU3 3 U1 - 2 ID3 FIELD SPIN 0 SU3 - 3 U1 2 DAGGER ID1 CONTRACTIONS SU3 ID5 ID2 ID3 SU3 ID2 ID1 ID1 SU2 ID5 ID2 + FIELD SPIN 0 SU3 3 SU2 2 U1 1 ID6 FIELD SPIN 0 SU3 - 3 SU2 2 U1 - 1 DAGGER ID7 FIELD SPIN 0 SU3 3 U1 - 2 ID3 FIELD SPIN 0 SU3 - 3 U1 2 DAGGER ID5 CONTRACTIONS SU3 ID6 ID7 ID7 SU3 ID3 ID5 ID5 SU2 ID6 ID7 + FIELD SPIN 0 SU3 3 SU2 2 U1 1 ID9 FIELD SPIN 0 SU3 3 SU2 2 U1 1 ID2 FIELD SPIN 0 SU3 - 3 SU2 2 U1 - 1 DAGGER ID0 FIELD SPIN 0 SU3 - 3 SU2 2 U1 - 1 DAGGER ID8 CONTRACTIONS SU3 ID9 ID0 ID0 SU3 ID2 ID8 ID8 SU2 ID9 ID0 SU2 ID2 ID8 + FIELD SPIN 0 SU3 3 SU2 2 U1 1 ID1 FIELD SPIN 0 SU3 3 SU2 2 U1 1 ID3 FIELD SPIN 0 SU3 - 3 SU2 2 U1 - 1 DAGGER ID8 FIELD SPIN 0 SU3 - 3 SU2 2 U1 - 1 DAGGER ID5 CONTRACTIONS SU3 ID1 ID8 ID8 SU3 ID3 ID5 ID5 SU2 ID1 ID3 SU2 ID8 ID5 + FIELD SPIN 0 SU3 3 SU2 2 U1 1 ID0 FIELD SPIN 0 SU3 3 SU2 2 U1 1 ID3 FIELD SPIN 0 SU3 - 3 SU2 2 U1 - 1 DAGGER ID9 FIELD SPIN 0 SU3 - 3 SU2 2 U1 - 1 DAGGER ID4 CONTRACTIONS SU3 ID0 ID3 ID9 SU3 ID9 ID4 ID4 SU2 ID0 ID9 SU2 ID3 ID4 + FIELD SPIN 0 SU3 3 SU2 2 U1 1 ID4 FIELD SPIN 0 SU3 3 SU2 2 U1 1 ID0 FIELD SPIN 0 SU3 - 3 SU2 2 U1 - 1 DAGGER ID8 FIELD SPIN 0 SU3 - 3 SU2 2 U1 - 1 DAGGER ID2 CONTRACTIONS SU3 ID4 ID0 ID8 SU3 ID8 ID2 ID2 SU2 ID4 ID0 SU2 ID8 ID2 + FIELD SPIN 0 SU3 3 U1 - 2 ID6 FIELD SPIN 0 SU3 3 U1 - 2 ID1 FIELD SPIN 0 SU3 - 3 U1 2 DAGGER ID9 FIELD SPIN 0 SU3 - 3 U1 2 DAGGER ID0 CONTRACTIONS SU3 ID6 ID9 ID9 SU3 ID1 ID0 ID0 + FIELD SPIN 0 SU3 3 U1 - 2 ID9 FIELD SPIN 0 SU3 3 U1 - 2 ID3 FIELD SPIN 0 SU3 - 3 U1 2 DAGGER ID0 FIELD SPIN 0 SU3 - 3 U1 2 DAGGER ID1 CONTRACTIONS SU3 ID9 ID3 ID0 SU3 ID0 ID1 ID1 + i FIELD SPIN 1 / 2 U1 - 1 / 2 HEL 1 / 2 DAGGER ID8 SIGMA_BAR ID5 DERIVATIVE U1 ID0 FIELD SPIN 1 / 2 U1 1 / 2 HEL - 1 / 2 ID7 CONTRACTIONS LORENTZ ID5 ID0 LORENTZ ID5 ID8 ID7 + DERIVATIVE SU3 SU2 U1 ID5 FIELD SPIN 0 SU3 - 3 SU2 2 U1 - 1 DAGGER ID9 DERIVATIVE SU3 SU2 U1 ID1 FIELD SPIN 0 SU3 3 SU2 2 U1 1 ID0 CONTRACTIONS LORENTZ ID5 ID1 SU3 ID9 ID0 SU2 ID9 ID0 + DERIVATIVE SU3 U1 ID5 FIELD SPIN 0 SU3 - 3 U1 2 DAGGER ID8 DERIVATIVE SU3 U1 ID2 FIELD SPIN 0 SU3 3 U1 - 2 ID4 CONTRACTIONS LORENTZ ID5 ID2 SU3 ID8 ID4 - COMMUTATOR_A DERIVATIVE U1 ID4 COMMUTATOR_B DERIVATIVE U1 ID8 COMMUTATOR_A DERIVATIVE U1 ID5 COMMUTATOR_B DERIVATIVE U1 ID9 CONTRACTIONS LORENTZ ID4 ID5 LORENTZ ID8 ID9 - COMMUTATOR_A DERIVATIVE SU3 ID7 COMMUTATOR_B DERIVATIVE SU3 ID5 COMMUTATOR_A DERIVATIVE SU3 ID4 COMMUTATOR_B DERIVATIVE SU3 ID9 CONTRACTIONS LORENTZ ID7 ID4 LORENTZ ID5 ID9 - COMMUTATOR_A DERIVATIVE SU2 ID8 COMMUTATOR_B DERIVATIVE SU2 ID6 COMMUTATOR_A DERIVATIVE SU2 ID2 COMMUTATOR_B DERIVATIVE SU2 ID5 CONTRACTIONS LORENTZ ID8 ID2 LORENTZ ID6 ID5 + FIELD SPIN 0 SU3 - 3 SU2 2 U1 - 1 DAGGER ID3 FIELD SPIN 0 SU3 3 SU2 2 U1 1 ID0 CONTRACTIONS SU3 ID3 ID0 SU2 ID3 ID0 + FIELD SPIN 0 SU3 - 3 U1 2 DAGGER ID9 FIELD SPIN 0 SU3 3 U1 - 2 ID8 CONTRACTIONS SU3 ID9 ID8\n",
      "lagrangian score  :  0.9444444444444444\n",
      "Object score      :  0.9444444444444444\n",
      "Contraction Score :  0.9444444444444444\n",
      "Length penalty    :  0.0\n"
     ]
    }
   ],
   "source": [
    "lscore_1, obscore_1, conscore_1, lpen_1 = le.get_lagrangian_score(predicted_string,lag_truth_1)\n",
    "lscore_2, obscore_2, conscore_2, lpen_2 = le.get_lagrangian_score(predicted_string,lag_truth_2)\n",
    "\n",
    "print(\"predicted_string  : \", predicted_string)\n",
    "print()\n",
    "print(\"lag_truth_1       : \", lag_truth_1)\n",
    "print(\"lagrangian score  : \",lscore_1)\n",
    "print(\"Object score      : \",obscore_1)\n",
    "print(\"Contraction Score : \",conscore_1)\n",
    "print(\"Length penalty    : \",lpen_1)\n",
    "print()\n",
    "print(\"lag_truth_2       : \", lag_truth_2)\n",
    "print(\"lagrangian score  : \",lscore_2)\n",
    "print(\"Object score      : \",obscore_2)\n",
    "print(\"Contraction Score : \",conscore_2)\n",
    "print(\"Length penalty    : \",lpen_2)"
   ]
  },
  {
   "cell_type": "code",
   "execution_count": 137,
   "id": "3c3ce81c",
   "metadata": {},
   "outputs": [
    {
     "name": "stdout",
     "output_type": "stream",
     "text": [
      "Predicted string 1: + FIELD SPIN 0 SU3 3 SU2 2 U1 1 ID5 FIELD SPIN 0 SU3 3 SU2 2 U1 1 ID0 FIELD SPIN 0 SU3 3 U1 - 2 ID8 CONTRACTIONS SU3 ID9 ID7 ID4 SU2 ID9 ID7 + FIELD SPIN 0 SU3 - 3 SU2 2 U1 - 1 DAGGER ID1 FIELD SPIN 0 SU3 - 3 SU2 2 U1 - 1 DAGGER ID2 FIELD SPIN 0 SU3 - 3 U1 2 DAGGER ID0 CONTRACTIONS SU3 ID9 ID9 ID1 SU3 ID1 ID8 ID8 SU2 ID9 ID1 + FIELD SPIN 0 SU3 3 SU2 2 U1 1 ID2 FIELD SPIN 0 SU3 - 3 SU2 2 U1 - 1 DAGGER ID8 FIELD SPIN 0 SU3 3 U1 - 2 ID0 FIELD SPIN 0 SU3 - 3 U1 2 DAGGER ID0 CONTRACTIONS SU3 ID5 ID2 ID3 SU3 ID2 ID1 ID1 SU2 ID5 ID2 + FIELD SPIN 0 SU3 3 SU2 2 U1 1 ID7 FIELD SPIN 0 SU3 - 3 SU2 2 U1 - 1 DAGGER ID7 FIELD SPIN 0 SU3 3 U1 - 2 ID0 FIELD SPIN 0 SU3 - 3 U1 2 DAGGER ID0 CONTRACTIONS SU3 ID6 ID7 ID7 SU3 ID3 ID5 ID5 SU2 ID6 ID7 + FIELD SPIN 0 SU3 3 SU2 2 U1 1 ID7 FIELD SPIN 0 SU3 3 SU2 2 U1 1 ID8 FIELD SPIN 0 SU3 - 3 SU2 2 U1 - 1 DAGGER ID0 FIELD SPIN 0 SU3 - 3 SU2 2 U1 - 1 DAGGER ID8 CONTRACTIONS SU3 ID9 ID0 ID0 SU3 ID2 ID8 ID8 SU2 ID9 ID0 SU2 ID2 ID8 + FIELD SPIN 0 SU3 3 SU2 2 U1 1 ID0 FIELD SPIN 0 SU3 3 SU2 2 U1 1 ID6 FIELD SPIN 0 SU3 - 3 SU2 2 U1 - 1 DAGGER ID0 FIELD SPIN 0 SU3 - 3 SU2 2 U1 - 1 DAGGER ID6 CONTRACTIONS SU3 ID1 ID8 ID8 SU3 ID3 ID5 ID5 SU2 ID1 ID3 SU2 ID8 ID5 + FIELD SPIN 0 SU3 3 SU2 2 U1 1 ID0 FIELD SPIN 0 SU3 3 SU2 2 U1 1 ID4 FIELD SPIN 0 SU3 - 3 SU2 2 U1 - 1 DAGGER ID6 FIELD SPIN 0 SU3 - 3 SU2 2 U1 - 1 DAGGER ID6 CONTRACTIONS SU3 ID0 ID3 ID9 SU3 ID9 ID4 ID4 SU2 ID0 ID9 SU2 ID3 ID4 + FIELD SPIN 0 SU3 3 SU2 2 U1 1 ID8 FIELD SPIN 0 SU3 3 SU2 2 U1 1 ID8 FIELD SPIN 0 SU3 - 3 SU2 2 U1 - 1 DAGGER ID2 FIELD SPIN 0 SU3 - 3 SU2 2 U1 - 1 DAGGER ID6 CONTRACTIONS SU3 ID4 ID0 ID8 SU3 ID8 ID2 ID2 SU2 ID4 ID0 SU2 ID8 ID2 + FIELD SPIN 0 SU3 3 U1 - 2 ID4 FIELD SPIN 0 SU3 3 U1 - 2 ID7 FIELD SPIN 0 SU3 - 3 U1 2 DAGGER ID0 FIELD SPIN 0 SU3 - 3 U1 2 DAGGER ID3 CONTRACTIONS SU3 ID6 ID9 ID9 SU3 ID1 ID0 ID0 + FIELD SPIN 0 SU3 3 U1 - 2 ID4 FIELD SPIN 0 SU3 3 U1 - 2 ID8 FIELD SPIN 0 SU3 - 3 U1 2 DAGGER ID8 FIELD SPIN 0 SU3 - 3 U1 2 DAGGER ID5 CONTRACTIONS SU3 ID9 ID3 ID0 SU3 ID0 ID1 ID1 + i FIELD SPIN 1 / 2 U1 - 1 / 2 HEL 1 / 2 DAGGER ID4 SIGMA_BAR ID4 DERIVATIVE U1 ID4 FIELD SPIN 1 / 2 U1 1 / 2 HEL - 1 / 2 ID4 CONTRACTIONS LORENTZ ID5 ID0 LORENTZ ID5 ID8 ID7 + DERIVATIVE SU3 SU2 U1 ID2 FIELD SPIN 0 SU3 - 3 SU2 2 U1 - 1 DAGGER ID2 DERIVATIVE SU3 SU2 U1 ID2 FIELD SPIN 0 SU3 3 SU2 2 U1 1 ID0 CONTRACTIONS LORENTZ ID5 ID1 SU3 ID9 ID0 SU2 ID9 ID0 + DERIVATIVE SU3 U1 ID4 FIELD SPIN 0 SU3 - 3 U1 2 DAGGER ID0 DERIVATIVE SU3 U1 ID2 FIELD SPIN 0 SU3 3 U1 - 2 ID0 CONTRACTIONS LORENTZ ID5 ID2 SU3 ID8 ID4 - COMMUTATOR_A DERIVATIVE U1 ID4 COMMUTATOR_B DERIVATIVE U1 ID8 COMMUTATOR_A DERIVATIVE U1 ID6 COMMUTATOR_B DERIVATIVE U1 ID2 CONTRACTIONS LORENTZ ID4 ID5 LORENTZ ID8 ID9 - COMMUTATOR_A DERIVATIVE SU3 ID4 COMMUTATOR_B DERIVATIVE SU3 ID0 COMMUTATOR_A DERIVATIVE SU3 ID0 COMMUTATOR_B DERIVATIVE SU3 ID2 CONTRACTIONS LORENTZ ID7 ID4 LORENTZ ID5 ID9 - COMMUTATOR_A DERIVATIVE SU2 ID4 COMMUTATOR_B DERIVATIVE SU2 ID4 COMMUTATOR_A DERIVATIVE SU2 ID4 COMMUTATOR_B DERIVATIVE SU2 ID4 CONTRACTIONS LORENTZ ID8 ID2 LORENTZ ID6 ID5 + FIELD SPIN 0 SU3 - 3 SU2 2 U1 - 1 DAGGER ID7 FIELD SPIN 0 SU3 3 SU2 2 U1 1 ID6 CONTRACTIONS SU3 ID3 ID0 SU2 ID3 ID0 + FIELD SPIN 0 SU3 - 3 U1 2 DAGGER ID7 FIELD SPIN 0 SU3 3 U1 - 2 ID8 CONTRACTIONS SU3 ID9 ID8\n",
      "Predicted string 2: + FIELD SPIN 0 SU3 3 3 SU2 2 U1 1 1 ID0 ID7 FIELD SPIN 0 SU3 - 3 SU2 2 U1 - 1 DAGGER ID4 FIELD SPIN 0 SU3 - 3 U1 2 DAGGER ID0 CONTRACTIONS SU3 ID9 ID9 ID1 SU3 ID1 ID8 ID8 SU2 ID9 ID1 + FIELD SPIN 0 SU3 3 SU2 2 U1 1 ID6 FIELD SPIN 0 SU3 3 SU2 2 U1 1 ID0 FIELD SPIN 0 SU3 - U1 - 2 ID8 CONTRACTIONS SU3 ID9 ID7 ID4 SU2 ID9 ID7 + FIELD SPIN 0 SU3 - SU2 2 U1 - ID0 FIELD SPIN 0 SU3 3 3 SU2 2 U1 - 1 DAGGER ID2 FIELD SPIN 0 SU3 3 U1 - 2 ID0 FIELD SPIN 0 SU3 - 3 U1 2 DAGGER ID0 CONTRACTIONS SU3 ID5 ID2 ID3 SU3 ID2 ID1 ID1 SU2 ID5 ID2 + FIELD SPIN 0 SU3 3 SU2 2 U1 1 ID2 FIELD SPIN 0 SU3 - 3 SU2 2 U1 - 1 DAGGER ID7 FIELD SPIN 0 SU3 3 U1 - 2 ID0 FIELD SPIN 0 SU3 - 3 U1 2 DAGGER ID0 CONTRACTIONS SU3 ID6 ID7 ID7 SU3 ID3 ID5 ID5 SU2 ID6 ID7 + FIELD SPIN 0 SU3 3 SU2 2 U1 1 ID8 FIELD SPIN 0 SU3 3 SU2 2 U1 1 ID8 FIELD SPIN 0 SU3 - 3 SU2 2 U1 - 1 DAGGER ID0 FIELD SPIN 0 SU3 - 3 SU2 2 U1 - 1 DAGGER ID1 CONTRACTIONS SU3 ID9 ID0 ID0 SU3 ID2 ID8 ID8 SU2 ID9 ID0 SU2 ID2 ID8 + FIELD SPIN 0 SU3 3 SU2 2 U1 1 ID0 FIELD SPIN 0 SU3 3 SU2 2 U1 1 ID6 FIELD SPIN 0 SU3 - 3 SU2 2 U1 - 1 DAGGER ID0 FIELD SPIN 0 SU3 - 3 SU2 2 U1 - 1 DAGGER ID6 CONTRACTIONS SU3 ID1 ID8 ID8 SU3 ID3 ID5 ID5 SU2 ID1 ID3 SU2 ID8 ID5 + FIELD SPIN 0 SU3 3 SU2 2 U1 1 ID0 FIELD SPIN 0 SU3 3 SU2 2 U1 1 ID4 FIELD SPIN 0 SU3 - 3 SU2 2 U1 - 1 DAGGER ID6 FIELD SPIN 0 SU3 - 3 SU2 2 U1 - 1 DAGGER ID6 CONTRACTIONS SU3 ID0 ID3 ID9 SU3 ID9 ID4 ID4 SU2 ID0 ID9 SU2 ID3 ID4 + FIELD SPIN 0 SU3 3 SU2 2 U1 1 ID8 FIELD SPIN 0 SU3 3 SU2 2 U1 1 ID8 FIELD SPIN 0 SU3 - 3 SU2 2 U1 - 1 DAGGER ID2 FIELD SPIN 0 SU3 - 3 SU2 2 U1 - 1 DAGGER ID6 CONTRACTIONS SU3 ID4 ID0 ID8 SU3 ID8 ID2 ID2 SU2 ID4 ID0 SU2 ID8 ID2 + FIELD SPIN 0 SU3 3 U1 - 2 ID4 FIELD SPIN 0 SU3 3 U1 - 2 ID7 FIELD SPIN 0 SU3 - 3 U1 2 DAGGER ID0 FIELD SPIN 0 SU3 - 3 U1 2 DAGGER ID8 CONTRACTIONS SU3 ID6 ID9 ID9 SU3 ID1 ID0 ID0 + FIELD SPIN 0 SU3 3 U1 - 2 ID4 FIELD SPIN 0 SU3 3 U1 - 2 ID8 FIELD SPIN 0 SU3 - 3 U1 2 DAGGER ID8 FIELD SPIN 0 SU3 - 3 U1 2 DAGGER ID5 CONTRACTIONS SU3 ID9 ID3 ID0 SU3 ID0 ID1 ID1 + i FIELD SPIN 1 / 2 U1 - 1 / 2 HEL 1 / 2 DAGGER ID4 SIGMA_BAR ID6 DERIVATIVE U1 ID4 FIELD SPIN 1 / 2 U1 1 / 2 HEL - 1 / 2 ID4 CONTRACTIONS LORENTZ ID5 ID0 LORENTZ ID5 ID8 ID7 + DERIVATIVE SU3 SU2 U1 ID4 FIELD SPIN 0 SU3 - 3 SU2 2 U1 - 1 DAGGER ID2 DERIVATIVE SU3 SU2 U1 ID2 FIELD SPIN 0 SU3 3 SU2 2 U1 1 ID0 CONTRACTIONS LORENTZ ID5 ID1 SU3 ID9 ID0 SU2 ID9 ID0 + DERIVATIVE SU3 U1 ID4 FIELD SPIN 0 SU3 - 3 U1 2 DAGGER ID0 DERIVATIVE SU3 U1 ID2 FIELD SPIN 0 SU3 3 U1 - 2 ID0 CONTRACTIONS LORENTZ ID5 ID2 SU3 ID8 ID4 - COMMUTATOR_A DERIVATIVE U1 ID4 COMMUTATOR_B DERIVATIVE U1 ID8 COMMUTATOR_A DERIVATIVE U1 ID6 COMMUTATOR_B DERIVATIVE U1 ID2 CONTRACTIONS LORENTZ ID4 ID5 LORENTZ ID8 ID9 - COMMUTATOR_A DERIVATIVE SU3 ID7 COMMUTATOR_B DERIVATIVE SU3 ID0 COMMUTATOR_A DERIVATIVE SU3 ID0 COMMUTATOR_B DERIVATIVE SU3 ID2 CONTRACTIONS LORENTZ ID7 ID4 LORENTZ ID5 ID9 - COMMUTATOR_A DERIVATIVE SU2 ID7 COMMUTATOR_B DERIVATIVE SU2 ID4 COMMUTATOR_A DERIVATIVE SU2 ID4 COMMUTATOR_B DERIVATIVE SU2 ID4 CONTRACTIONS LORENTZ ID8 ID2 LORENTZ ID6 ID5 + FIELD SPIN 0 SU3 - 3 SU2 2 U1 - 1 DAGGER ID7 FIELD SPIN 0 SU3 3 SU2 2 U1 1 ID6 CONTRACTIONS SU3 ID3 ID0 SU2 ID3 ID0 + FIELD SPIN 0 SU3 - 3 U1 2 DAGGER ID7 FIELD SPIN 0 SU3 3 U1 - 2 ID8 CONTRACTIONS SU3 ID9 ID8\n",
      "True strings 1    : + FIELD SPIN 0 SU3 3 SU2 2 U1 1 ID9 FIELD SPIN 0 SU3 3 SU2 2 U1 1 ID7 FIELD SPIN 0 SU3 3 U1 - 2 ID4 CONTRACTIONS SU3 ID9 ID7 ID4 SU2 ID9 ID7 + FIELD SPIN 0 SU3 - 3 SU2 2 U1 - 1 DAGGER ID9 FIELD SPIN 0 SU3 - 3 SU2 2 U1 - 1 DAGGER ID1 FIELD SPIN 0 SU3 - 3 U1 2 DAGGER ID8 CONTRACTIONS SU3 ID9 ID9 ID1 SU3 ID1 ID8 ID8 SU2 ID9 ID1 + FIELD SPIN 0 SU3 3 SU2 2 U1 1 ID5 FIELD SPIN 0 SU3 - 3 SU2 2 U1 - 1 DAGGER ID2 FIELD SPIN 0 SU3 3 U1 - 2 ID3 FIELD SPIN 0 SU3 - 3 U1 2 DAGGER ID1 CONTRACTIONS SU3 ID5 ID2 ID3 SU3 ID2 ID1 ID1 SU2 ID5 ID2 + FIELD SPIN 0 SU3 3 SU2 2 U1 1 ID6 FIELD SPIN 0 SU3 - 3 SU2 2 U1 - 1 DAGGER ID7 FIELD SPIN 0 SU3 3 U1 - 2 ID3 FIELD SPIN 0 SU3 - 3 U1 2 DAGGER ID5 CONTRACTIONS SU3 ID6 ID7 ID7 SU3 ID3 ID5 ID5 SU2 ID6 ID7 + FIELD SPIN 0 SU3 3 SU2 2 U1 1 ID9 FIELD SPIN 0 SU3 3 SU2 2 U1 1 ID2 FIELD SPIN 0 SU3 - 3 SU2 2 U1 - 1 DAGGER ID0 FIELD SPIN 0 SU3 - 3 SU2 2 U1 - 1 DAGGER ID8 CONTRACTIONS SU3 ID9 ID0 ID0 SU3 ID2 ID8 ID8 SU2 ID9 ID0 SU2 ID2 ID8 + FIELD SPIN 0 SU3 3 SU2 2 U1 1 ID1 FIELD SPIN 0 SU3 3 SU2 2 U1 1 ID3 FIELD SPIN 0 SU3 - 3 SU2 2 U1 - 1 DAGGER ID8 FIELD SPIN 0 SU3 - 3 SU2 2 U1 - 1 DAGGER ID5 CONTRACTIONS SU3 ID1 ID8 ID8 SU3 ID3 ID5 ID5 SU2 ID1 ID3 SU2 ID8 ID5 + FIELD SPIN 0 SU3 3 SU2 2 U1 1 ID0 FIELD SPIN 0 SU3 3 SU2 2 U1 1 ID3 FIELD SPIN 0 SU3 - 3 SU2 2 U1 - 1 DAGGER ID9 FIELD SPIN 0 SU3 - 3 SU2 2 U1 - 1 DAGGER ID4 CONTRACTIONS SU3 ID0 ID3 ID9 SU3 ID9 ID4 ID4 SU2 ID0 ID9 SU2 ID3 ID4 + FIELD SPIN 0 SU3 3 SU2 2 U1 1 ID4 FIELD SPIN 0 SU3 3 SU2 2 U1 1 ID0 FIELD SPIN 0 SU3 - 3 SU2 2 U1 - 1 DAGGER ID8 FIELD SPIN 0 SU3 - 3 SU2 2 U1 - 1 DAGGER ID2 CONTRACTIONS SU3 ID4 ID0 ID8 SU3 ID8 ID2 ID2 SU2 ID4 ID0 SU2 ID8 ID2 + FIELD SPIN 0 SU3 3 U1 - 2 ID6 FIELD SPIN 0 SU3 3 U1 - 2 ID1 FIELD SPIN 0 SU3 - 3 U1 2 DAGGER ID9 FIELD SPIN 0 SU3 - 3 U1 2 DAGGER ID0 CONTRACTIONS SU3 ID6 ID9 ID9 SU3 ID1 ID0 ID0 + FIELD SPIN 0 SU3 3 U1 - 2 ID9 FIELD SPIN 0 SU3 3 U1 - 2 ID3 FIELD SPIN 0 SU3 - 3 U1 2 DAGGER ID0 FIELD SPIN 0 SU3 - 3 U1 2 DAGGER ID1 CONTRACTIONS SU3 ID9 ID3 ID0 SU3 ID0 ID1 ID1 + i FIELD SPIN 1 / 2 U1 - 1 / 2 HEL 1 / 2 DAGGER ID8 SIGMA_BAR ID5 DERIVATIVE U1 ID0 FIELD SPIN 1 / 2 U1 1 / 2 HEL - 1 / 2 ID7 CONTRACTIONS LORENTZ ID5 ID0 LORENTZ ID5 ID8 ID7 + DERIVATIVE SU3 SU2 U1 ID5 FIELD SPIN 0 SU3 - 3 SU2 2 U1 - 1 DAGGER ID9 DERIVATIVE SU3 SU2 U1 ID1 FIELD SPIN 0 SU3 3 SU2 2 U1 1 ID0 CONTRACTIONS LORENTZ ID5 ID1 SU3 ID9 ID0 SU2 ID9 ID0 + DERIVATIVE SU3 U1 ID5 FIELD SPIN 0 SU3 - 3 U1 2 DAGGER ID8 DERIVATIVE SU3 U1 ID2 FIELD SPIN 0 SU3 3 U1 - 2 ID4 CONTRACTIONS LORENTZ ID5 ID2 SU3 ID8 ID4 - COMMUTATOR_A DERIVATIVE U1 ID4 COMMUTATOR_B DERIVATIVE U1 ID8 COMMUTATOR_A DERIVATIVE U1 ID5 COMMUTATOR_B DERIVATIVE U1 ID9 CONTRACTIONS LORENTZ ID4 ID5 LORENTZ ID8 ID9 - COMMUTATOR_A DERIVATIVE SU3 ID7 COMMUTATOR_B DERIVATIVE SU3 ID5 COMMUTATOR_A DERIVATIVE SU3 ID4 COMMUTATOR_B DERIVATIVE SU3 ID9 CONTRACTIONS LORENTZ ID7 ID4 LORENTZ ID5 ID9 - COMMUTATOR_A DERIVATIVE SU2 ID8 COMMUTATOR_B DERIVATIVE SU2 ID6 COMMUTATOR_A DERIVATIVE SU2 ID2 COMMUTATOR_B DERIVATIVE SU2 ID5 CONTRACTIONS LORENTZ ID8 ID2 LORENTZ ID6 ID5 + FIELD SPIN 0 SU3 - 3 SU2 2 U1 - 1 DAGGER ID3 FIELD SPIN 0 SU3 3 SU2 2 U1 1 ID0 CONTRACTIONS SU3 ID3 ID0 SU2 ID3 ID0 + FIELD SPIN 0 SU3 - 3 U1 2 DAGGER ID9 FIELD SPIN 0 SU3 3 U1 - 2 ID8 CONTRACTIONS SU3 ID9 ID8\n",
      "True strings 2    : + FIELD SPIN 0 SU3 - 3 SU2 2 U1 - 1 DAGGER ID9 FIELD SPIN 0 SU3 - 3 SU2 2 U1 - 1 DAGGER ID1 FIELD SPIN 0 SU3 - 3 U1 2 DAGGER ID8 CONTRACTIONS SU3 ID9 ID9 ID1 SU3 ID1 ID8 ID8 SU2 ID9 ID1 + FIELD SPIN 0 SU3 3 SU2 2 U1 1 ID9 FIELD SPIN 0 SU3 3 SU2 2 U1 1 ID7 FIELD SPIN 0 SU3 3 U1 - 2 ID4 CONTRACTIONS SU3 ID9 ID7 ID4 SU2 ID9 ID7 + FIELD SPIN 0 SU3 3 SU2 2 U1 1 ID5 FIELD SPIN 0 SU3 - 3 SU2 2 U1 - 1 DAGGER ID2 FIELD SPIN 0 SU3 3 U1 - 2 ID3 FIELD SPIN 0 SU3 - 3 U1 2 DAGGER ID1 CONTRACTIONS SU3 ID5 ID2 ID3 SU3 ID2 ID1 ID1 SU2 ID5 ID2 + FIELD SPIN 0 SU3 3 SU2 2 U1 1 ID6 FIELD SPIN 0 SU3 - 3 SU2 2 U1 - 1 DAGGER ID7 FIELD SPIN 0 SU3 3 U1 - 2 ID3 FIELD SPIN 0 SU3 - 3 U1 2 DAGGER ID5 CONTRACTIONS SU3 ID6 ID7 ID7 SU3 ID3 ID5 ID5 SU2 ID6 ID7 + FIELD SPIN 0 SU3 3 SU2 2 U1 1 ID9 FIELD SPIN 0 SU3 3 SU2 2 U1 1 ID2 FIELD SPIN 0 SU3 - 3 SU2 2 U1 - 1 DAGGER ID0 FIELD SPIN 0 SU3 - 3 SU2 2 U1 - 1 DAGGER ID8 CONTRACTIONS SU3 ID9 ID0 ID0 SU3 ID2 ID8 ID8 SU2 ID9 ID0 SU2 ID2 ID8 + FIELD SPIN 0 SU3 3 SU2 2 U1 1 ID1 FIELD SPIN 0 SU3 3 SU2 2 U1 1 ID3 FIELD SPIN 0 SU3 - 3 SU2 2 U1 - 1 DAGGER ID8 FIELD SPIN 0 SU3 - 3 SU2 2 U1 - 1 DAGGER ID5 CONTRACTIONS SU3 ID1 ID8 ID8 SU3 ID3 ID5 ID5 SU2 ID1 ID3 SU2 ID8 ID5 + FIELD SPIN 0 SU3 3 SU2 2 U1 1 ID0 FIELD SPIN 0 SU3 3 SU2 2 U1 1 ID3 FIELD SPIN 0 SU3 - 3 SU2 2 U1 - 1 DAGGER ID9 FIELD SPIN 0 SU3 - 3 SU2 2 U1 - 1 DAGGER ID4 CONTRACTIONS SU3 ID0 ID3 ID9 SU3 ID9 ID4 ID4 SU2 ID0 ID9 SU2 ID3 ID4 + FIELD SPIN 0 SU3 3 SU2 2 U1 1 ID4 FIELD SPIN 0 SU3 3 SU2 2 U1 1 ID0 FIELD SPIN 0 SU3 - 3 SU2 2 U1 - 1 DAGGER ID8 FIELD SPIN 0 SU3 - 3 SU2 2 U1 - 1 DAGGER ID2 CONTRACTIONS SU3 ID4 ID0 ID8 SU3 ID8 ID2 ID2 SU2 ID4 ID0 SU2 ID8 ID2 + FIELD SPIN 0 SU3 3 U1 - 2 ID6 FIELD SPIN 0 SU3 3 U1 - 2 ID1 FIELD SPIN 0 SU3 - 3 U1 2 DAGGER ID9 FIELD SPIN 0 SU3 - 3 U1 2 DAGGER ID0 CONTRACTIONS SU3 ID6 ID9 ID9 SU3 ID1 ID0 ID0 + FIELD SPIN 0 SU3 3 U1 - 2 ID9 FIELD SPIN 0 SU3 3 U1 - 2 ID3 FIELD SPIN 0 SU3 - 3 U1 2 DAGGER ID0 FIELD SPIN 0 SU3 - 3 U1 2 DAGGER ID1 CONTRACTIONS SU3 ID9 ID3 ID0 SU3 ID0 ID1 ID1 + i FIELD SPIN 1 / 2 U1 - 1 / 2 HEL 1 / 2 DAGGER ID8 SIGMA_BAR ID5 DERIVATIVE U1 ID0 FIELD SPIN 1 / 2 U1 1 / 2 HEL - 1 / 2 ID7 CONTRACTIONS LORENTZ ID5 ID0 LORENTZ ID5 ID8 ID7 + DERIVATIVE SU3 SU2 U1 ID5 FIELD SPIN 0 SU3 - 3 SU2 2 U1 - 1 DAGGER ID9 DERIVATIVE SU3 SU2 U1 ID1 FIELD SPIN 0 SU3 3 SU2 2 U1 1 ID0 CONTRACTIONS LORENTZ ID5 ID1 SU3 ID9 ID0 SU2 ID9 ID0 + DERIVATIVE SU3 U1 ID5 FIELD SPIN 0 SU3 - 3 U1 2 DAGGER ID8 DERIVATIVE SU3 U1 ID2 FIELD SPIN 0 SU3 3 U1 - 2 ID4 CONTRACTIONS LORENTZ ID5 ID2 SU3 ID8 ID4 - COMMUTATOR_A DERIVATIVE U1 ID4 COMMUTATOR_B DERIVATIVE U1 ID8 COMMUTATOR_A DERIVATIVE U1 ID5 COMMUTATOR_B DERIVATIVE U1 ID9 CONTRACTIONS LORENTZ ID4 ID5 LORENTZ ID8 ID9 - COMMUTATOR_A DERIVATIVE SU3 ID7 COMMUTATOR_B DERIVATIVE SU3 ID5 COMMUTATOR_A DERIVATIVE SU3 ID4 COMMUTATOR_B DERIVATIVE SU3 ID9 CONTRACTIONS LORENTZ ID7 ID4 LORENTZ ID5 ID9 - COMMUTATOR_A DERIVATIVE SU2 ID8 COMMUTATOR_B DERIVATIVE SU2 ID6 COMMUTATOR_A DERIVATIVE SU2 ID2 COMMUTATOR_B DERIVATIVE SU2 ID5 CONTRACTIONS LORENTZ ID8 ID2 LORENTZ ID6 ID5 + FIELD SPIN 0 SU3 - 3 SU2 2 U1 - 1 DAGGER ID3 FIELD SPIN 0 SU3 3 SU2 2 U1 1 ID0 CONTRACTIONS SU3 ID3 ID0 SU2 ID3 ID0 + FIELD SPIN 0 SU3 - 3 U1 2 DAGGER ID9 FIELD SPIN 0 SU3 3 U1 - 2 ID8 CONTRACTIONS SU3 ID9 ID8\n",
      "\n",
      "Predicted string 1: + FIELD SPIN 0 SU3 3 SU2 2 U1 1 ID5 FIELD SPIN 0 SU3 3 SU2 2 U1 1 ID2 FIELD SPIN 0 SU3 3 U1 - 2 ID0 CONTRACTIONS SU3 ID5 ID2 ID0 SU2 ID5 ID2 + FIELD SPIN 0 SU3 - 3 SU2 2 U1 - 1 DAGGER ID7 FIELD SPIN 0 SU3 - 3 SU2 2 U1 - 1 DAGGER ID6 FIELD SPIN 0 SU3 - 3 U1 2 DAGGER ID0 CONTRACTIONS SU3 ID7 ID7 ID6 SU3 ID6 ID0 ID0 SU2 ID7 ID6 + FIELD SPIN 0 SU3 3 SU2 2 U1 1 ID2 FIELD SPIN 0 SU3 - 3 SU2 2 U1 - 1 DAGGER ID4 FIELD SPIN 0 SU3 3 U1 - 2 ID3 FIELD SPIN 0 SU3 - 3 U1 2 DAGGER ID6 CONTRACTIONS SU3 ID2 ID4 ID3 SU3 ID4 ID6 ID6 SU2 ID2 ID4 + FIELD SPIN 0 SU3 3 SU2 2 U1 1 ID2 FIELD SPIN 0 SU3 - 3 SU2 2 U1 - 1 DAGGER ID4 FIELD SPIN 0 SU3 3 U1 - 2 ID0 FIELD SPIN 0 SU3 - 3 U1 2 DAGGER ID1 CONTRACTIONS SU3 ID2 ID4 ID4 SU3 ID0 ID1 ID1 SU2 ID2 ID4 + FIELD SPIN 0 SU3 3 SU2 2 U1 1 ID2 FIELD SPIN 0 SU3 3 SU2 2 U1 1 ID4 FIELD SPIN 0 SU3 - 3 SU2 2 U1 - 1 DAGGER ID6 FIELD SPIN 0 SU3 - 3 SU2 2 U1 - 1 DAGGER ID0 CONTRACTIONS SU3 ID2 ID6 ID6 SU3 ID4 ID0 ID0 SU2 ID2 ID6 SU2 ID4 ID0 + FIELD SPIN 0 SU3 3 SU2 2 U1 1 ID2 FIELD SPIN 0 SU3 3 SU2 2 U1 1 ID0 FIELD SPIN 0 SU3 - 3 SU2 2 U1 - 1 DAGGER ID8 FIELD SPIN 0 SU3 - 3 SU2 2 U1 - 1 DAGGER ID4 CONTRACTIONS SU3 ID2 ID8 ID8 SU3 ID0 ID4 ID4 SU2 ID2 ID0 SU2 ID8 ID4 + FIELD SPIN 0 SU3 3 SU2 2 U1 1 ID2 FIELD SPIN 0 SU3 3 SU2 2 U1 1 ID0 FIELD SPIN 0 SU3 - 3 SU2 2 U1 - 1 DAGGER ID4 FIELD SPIN 0 SU3 - 3 SU2 2 U1 - 1 DAGGER ID1 CONTRACTIONS SU3 ID2 ID0 ID4 SU3 ID4 ID1 ID1 SU2 ID2 ID4 SU2 ID0 ID1 + FIELD SPIN 0 SU3 3 SU2 2 U1 1 ID8 FIELD SPIN 0 SU3 3 SU2 2 U1 1 ID6 FIELD SPIN 0 SU3 - 3 SU2 2 U1 - 1 DAGGER ID4 FIELD SPIN 0 SU3 - 3 SU2 2 U1 - 1 DAGGER ID2 CONTRACTIONS SU3 ID8 ID6 ID4 SU3 ID4 ID2 ID2 SU2 ID8 ID6 SU2 ID4 ID2 + FIELD SPIN 0 SU3 3 U1 - 2 ID4 FIELD SPIN 0 SU3 3 U1 - 2 ID8 FIELD SPIN 0 SU3 - 3 U1 2 DAGGER ID6 FIELD SPIN 0 SU3 - 3 U1 2 DAGGER ID2 CONTRACTIONS SU3 ID4 ID6 ID6 SU3 ID8 ID2 ID2 + FIELD SPIN 0 SU3 3 U1 - 2 ID4 FIELD SPIN 0 SU3 3 U1 - 2 ID8 FIELD SPIN 0 SU3 - 3 U1 2 DAGGER ID6 FIELD SPIN 0 SU3 - 3 U1 2 DAGGER ID7 CONTRACTIONS SU3 ID4 ID8 ID6 SU3 ID6 ID7 ID7 + i FIELD SPIN 1 / 2 U1 - 1 / 2 HEL 1 / 2 DAGGER ID4 SIGMA_BAR ID8 DERIVATIVE U1 ID6 FIELD SPIN 1 / 2 U1 1 / 2 HEL - 1 / 2 ID5 CONTRACTIONS LORENTZ ID8 ID6 LORENTZ ID8 ID4 ID5 + DERIVATIVE SU3 SU2 U1 ID4 FIELD SPIN 0 SU3 - 3 SU2 2 U1 - 1 DAGGER ID8 DERIVATIVE SU3 SU2 U1 ID6 FIELD SPIN 0 SU3 3 SU2 2 U1 1 ID5 CONTRACTIONS LORENTZ ID4 ID6 SU3 ID8 ID5 SU2 ID8 ID5 + DERIVATIVE SU3 U1 ID4 FIELD SPIN 0 SU3 - 3 U1 2 DAGGER ID8 DERIVATIVE SU3 U1 ID6 FIELD SPIN 0 SU3 3 U1 - 2 ID5 CONTRACTIONS LORENTZ ID4 ID6 SU3 ID8 ID5 - COMMUTATOR_A DERIVATIVE U1 ID4 COMMUTATOR_B DERIVATIVE U1 ID8 COMMUTATOR_A DERIVATIVE U1 ID6 COMMUTATOR_B DERIVATIVE U1 ID5 CONTRACTIONS LORENTZ ID4 ID6 LORENTZ ID8 ID5 - COMMUTATOR_A DERIVATIVE SU3 ID4 COMMUTATOR_B DERIVATIVE SU3 ID8 COMMUTATOR_A DERIVATIVE SU3 ID6 COMMUTATOR_B DERIVATIVE SU3 ID5 CONTRACTIONS LORENTZ ID4 ID6 LORENTZ ID8 ID5 - COMMUTATOR_A DERIVATIVE SU2 ID4 COMMUTATOR_B DERIVATIVE SU2 ID8 COMMUTATOR_A DERIVATIVE SU2 ID2 COMMUTATOR_B DERIVATIVE SU2 ID6 CONTRACTIONS LORENTZ ID4 ID2 LORENTZ ID8 ID6 + FIELD SPIN 0 SU3 - 3 SU2 2 U1 - 1 DAGGER ID4 FIELD SPIN 0 SU3 3 SU2 2 U1 1 ID8 CONTRACTIONS SU3 ID4 ID8 SU2 ID4 ID8 + FIELD SPIN 0 SU3 - 3 U1 2 DAGGER ID4 FIELD SPIN 0 SU3 3 U1 - 2 ID8 CONTRACTIONS SU3 ID4\n"
     ]
    }
   ],
   "source": [
    "# Get the predicted token IDs by taking the argmax over the vocabulary dimension\n",
    "predicted_token_ids_1 = torch.argmax(outputs_1.logits, dim=-1)  # Shape: [batch_size, seq_len]\n",
    "\n",
    "# Decode the predicted token IDs to get the predicted string\n",
    "predicted_string_1 = hf_tokenizer.decode(predicted_token_ids_1[0], skip_special_tokens=True)\n",
    "\n",
    "\n",
    "\n",
    "# Get the predicted token IDs by taking the argmax over the vocabulary dimension\n",
    "predicted_token_ids_2 = torch.argmax(outputs_2.logits, dim=-1)  # Shape: [batch_size, seq_len]\n",
    "\n",
    "# Decode the predicted token IDs to get the predicted string\n",
    "predicted_string_2 = hf_tokenizer.decode(predicted_token_ids_2[0], skip_special_tokens=True)\n",
    "\n",
    "print(\"Predicted string 1:\", predicted_string_1)\n",
    "print(\"Predicted string 2:\", predicted_string_2)\n",
    "print(\"True strings 1    :\",lag_truth_1)\n",
    "print(\"True strings 2    :\",lag_truth_2)\n",
    "\n",
    "print()\n",
    "print(\"Predicted string 1:\", predicted_string)\n"
   ]
  },
  {
   "cell_type": "code",
   "execution_count": 141,
   "id": "8403f48e",
   "metadata": {},
   "outputs": [
    {
     "name": "stdout",
     "output_type": "stream",
     "text": [
      "Predicted_1 :  FIELD SPIN 0 SU3 3 SU2 2 U1 1 ID5 FIELD SPIN 0 SU3 3 SU2 2 U1 1 ID0 FIELD SPIN 0 SU3 3 U1 - 2 ID8 CONTRACTIONS SU3 ID9 ID7 ID4 SU2 ID9 ID7\n",
      "Truth_1     :  FIELD SPIN 0 SU3 3 SU2 2 U1 1 ID9 FIELD SPIN 0 SU3 3 SU2 2 U1 1 ID7 FIELD SPIN 0 SU3 3 U1 - 2 ID4 CONTRACTIONS SU3 ID9 ID7 ID4 SU2 ID9 ID7\n",
      "--\n",
      "Predicted_2 :  FIELD SPIN 0 SU3 3 3 SU2 2 U1 1 1 ID0 ID7 FIELD SPIN 0 SU3 - 3 SU2 2 U1 - 1 DAGGER ID4 FIELD SPIN 0 SU3 - 3 U1 2 DAGGER ID0 CONTRACTIONS SU3 ID9 ID9 ID1 SU3 ID1 ID8 ID8 SU2 ID9 ID1\n",
      "Truth_2     :  FIELD SPIN 0 SU3 - 3 SU2 2 U1 - 1 DAGGER ID9 FIELD SPIN 0 SU3 - 3 SU2 2 U1 - 1 DAGGER ID1 FIELD SPIN 0 SU3 - 3 U1 2 DAGGER ID8 CONTRACTIONS SU3 ID9 ID9 ID1 SU3 ID1 ID8 ID8 SU2 ID9 ID1\n",
      "--\n",
      "Predicted   :  FIELD SPIN 0 SU3 3 SU2 2 U1 1 ID5 FIELD SPIN 0 SU3 3 SU2 2 U1 1 ID2 FIELD SPIN 0 SU3 3 U1 - 2 ID0 CONTRACTIONS SU3 ID5 ID2 ID0 SU2 ID5 ID2\n",
      "-----\n",
      "\n",
      "\n",
      "Predicted_1 :  FIELD SPIN 0 SU3 - 3 SU2 2 U1 - 1 DAGGER ID1 FIELD SPIN 0 SU3 - 3 SU2 2 U1 - 1 DAGGER ID2 FIELD SPIN 0 SU3 - 3 U1 2 DAGGER ID0 CONTRACTIONS SU3 ID9 ID9 ID1 SU3 ID1 ID8 ID8 SU2 ID9 ID1\n",
      "Truth_1     :  FIELD SPIN 0 SU3 - 3 SU2 2 U1 - 1 DAGGER ID9 FIELD SPIN 0 SU3 - 3 SU2 2 U1 - 1 DAGGER ID1 FIELD SPIN 0 SU3 - 3 U1 2 DAGGER ID8 CONTRACTIONS SU3 ID9 ID9 ID1 SU3 ID1 ID8 ID8 SU2 ID9 ID1\n",
      "--\n",
      "Predicted_2 :  FIELD SPIN 0 SU3 3 SU2 2 U1 1 ID6 FIELD SPIN 0 SU3 3 SU2 2 U1 1 ID0 FIELD SPIN 0 SU3 - U1 - 2 ID8 CONTRACTIONS SU3 ID9 ID7 ID4 SU2 ID9 ID7\n",
      "Truth_2     :  FIELD SPIN 0 SU3 3 SU2 2 U1 1 ID9 FIELD SPIN 0 SU3 3 SU2 2 U1 1 ID7 FIELD SPIN 0 SU3 3 U1 - 2 ID4 CONTRACTIONS SU3 ID9 ID7 ID4 SU2 ID9 ID7\n",
      "--\n",
      "Predicted   :  FIELD SPIN 0 SU3 - 3 SU2 2 U1 - 1 DAGGER ID7 FIELD SPIN 0 SU3 - 3 SU2 2 U1 - 1 DAGGER ID6 FIELD SPIN 0 SU3 - 3 U1 2 DAGGER ID0 CONTRACTIONS SU3 ID7 ID7 ID6 SU3 ID6 ID0 ID0 SU2 ID7 ID6\n",
      "-----\n",
      "\n",
      "\n",
      "Predicted_1 :  FIELD SPIN 0 SU3 3 SU2 2 U1 1 ID2 FIELD SPIN 0 SU3 - 3 SU2 2 U1 - 1 DAGGER ID8 FIELD SPIN 0 SU3 3 U1 - 2 ID0 FIELD SPIN 0 SU3 - 3 U1 2 DAGGER ID0 CONTRACTIONS SU3 ID5 ID2 ID3 SU3 ID2 ID1 ID1 SU2 ID5 ID2\n",
      "Truth_1     :  FIELD SPIN 0 SU3 3 SU2 2 U1 1 ID5 FIELD SPIN 0 SU3 - 3 SU2 2 U1 - 1 DAGGER ID2 FIELD SPIN 0 SU3 3 U1 - 2 ID3 FIELD SPIN 0 SU3 - 3 U1 2 DAGGER ID1 CONTRACTIONS SU3 ID5 ID2 ID3 SU3 ID2 ID1 ID1 SU2 ID5 ID2\n",
      "--\n",
      "Predicted_2 :  FIELD SPIN 0 SU3 - SU2 2 U1 - ID0 FIELD SPIN 0 SU3 3 3 SU2 2 U1 - 1 DAGGER ID2 FIELD SPIN 0 SU3 3 U1 - 2 ID0 FIELD SPIN 0 SU3 - 3 U1 2 DAGGER ID0 CONTRACTIONS SU3 ID5 ID2 ID3 SU3 ID2 ID1 ID1 SU2 ID5 ID2\n",
      "Truth_2     :  FIELD SPIN 0 SU3 3 SU2 2 U1 1 ID5 FIELD SPIN 0 SU3 - 3 SU2 2 U1 - 1 DAGGER ID2 FIELD SPIN 0 SU3 3 U1 - 2 ID3 FIELD SPIN 0 SU3 - 3 U1 2 DAGGER ID1 CONTRACTIONS SU3 ID5 ID2 ID3 SU3 ID2 ID1 ID1 SU2 ID5 ID2\n",
      "--\n",
      "Predicted   :  FIELD SPIN 0 SU3 3 SU2 2 U1 1 ID2 FIELD SPIN 0 SU3 - 3 SU2 2 U1 - 1 DAGGER ID4 FIELD SPIN 0 SU3 3 U1 - 2 ID3 FIELD SPIN 0 SU3 - 3 U1 2 DAGGER ID6 CONTRACTIONS SU3 ID2 ID4 ID3 SU3 ID4 ID6 ID6 SU2 ID2 ID4\n",
      "-----\n",
      "\n",
      "\n",
      "Predicted_1 :  FIELD SPIN 0 SU3 3 SU2 2 U1 1 ID7 FIELD SPIN 0 SU3 - 3 SU2 2 U1 - 1 DAGGER ID7 FIELD SPIN 0 SU3 3 U1 - 2 ID0 FIELD SPIN 0 SU3 - 3 U1 2 DAGGER ID0 CONTRACTIONS SU3 ID6 ID7 ID7 SU3 ID3 ID5 ID5 SU2 ID6 ID7\n",
      "Truth_1     :  FIELD SPIN 0 SU3 3 SU2 2 U1 1 ID6 FIELD SPIN 0 SU3 - 3 SU2 2 U1 - 1 DAGGER ID7 FIELD SPIN 0 SU3 3 U1 - 2 ID3 FIELD SPIN 0 SU3 - 3 U1 2 DAGGER ID5 CONTRACTIONS SU3 ID6 ID7 ID7 SU3 ID3 ID5 ID5 SU2 ID6 ID7\n",
      "--\n",
      "Predicted_2 :  FIELD SPIN 0 SU3 3 SU2 2 U1 1 ID2 FIELD SPIN 0 SU3 - 3 SU2 2 U1 - 1 DAGGER ID7 FIELD SPIN 0 SU3 3 U1 - 2 ID0 FIELD SPIN 0 SU3 - 3 U1 2 DAGGER ID0 CONTRACTIONS SU3 ID6 ID7 ID7 SU3 ID3 ID5 ID5 SU2 ID6 ID7\n",
      "Truth_2     :  FIELD SPIN 0 SU3 3 SU2 2 U1 1 ID6 FIELD SPIN 0 SU3 - 3 SU2 2 U1 - 1 DAGGER ID7 FIELD SPIN 0 SU3 3 U1 - 2 ID3 FIELD SPIN 0 SU3 - 3 U1 2 DAGGER ID5 CONTRACTIONS SU3 ID6 ID7 ID7 SU3 ID3 ID5 ID5 SU2 ID6 ID7\n",
      "--\n",
      "Predicted   :  FIELD SPIN 0 SU3 3 SU2 2 U1 1 ID2 FIELD SPIN 0 SU3 - 3 SU2 2 U1 - 1 DAGGER ID4 FIELD SPIN 0 SU3 3 U1 - 2 ID0 FIELD SPIN 0 SU3 - 3 U1 2 DAGGER ID1 CONTRACTIONS SU3 ID2 ID4 ID4 SU3 ID0 ID1 ID1 SU2 ID2 ID4\n",
      "-----\n",
      "\n",
      "\n",
      "Predicted_1 :  FIELD SPIN 0 SU3 3 SU2 2 U1 1 ID7 FIELD SPIN 0 SU3 3 SU2 2 U1 1 ID8 FIELD SPIN 0 SU3 - 3 SU2 2 U1 - 1 DAGGER ID0 FIELD SPIN 0 SU3 - 3 SU2 2 U1 - 1 DAGGER ID8 CONTRACTIONS SU3 ID9 ID0 ID0 SU3 ID2 ID8 ID8 SU2 ID9 ID0 SU2 ID2 ID8\n",
      "Truth_1     :  FIELD SPIN 0 SU3 3 SU2 2 U1 1 ID9 FIELD SPIN 0 SU3 3 SU2 2 U1 1 ID2 FIELD SPIN 0 SU3 - 3 SU2 2 U1 - 1 DAGGER ID0 FIELD SPIN 0 SU3 - 3 SU2 2 U1 - 1 DAGGER ID8 CONTRACTIONS SU3 ID9 ID0 ID0 SU3 ID2 ID8 ID8 SU2 ID9 ID0 SU2 ID2 ID8\n",
      "--\n",
      "Predicted_2 :  FIELD SPIN 0 SU3 3 SU2 2 U1 1 ID8 FIELD SPIN 0 SU3 3 SU2 2 U1 1 ID8 FIELD SPIN 0 SU3 - 3 SU2 2 U1 - 1 DAGGER ID0 FIELD SPIN 0 SU3 - 3 SU2 2 U1 - 1 DAGGER ID1 CONTRACTIONS SU3 ID9 ID0 ID0 SU3 ID2 ID8 ID8 SU2 ID9 ID0 SU2 ID2 ID8\n",
      "Truth_2     :  FIELD SPIN 0 SU3 3 SU2 2 U1 1 ID9 FIELD SPIN 0 SU3 3 SU2 2 U1 1 ID2 FIELD SPIN 0 SU3 - 3 SU2 2 U1 - 1 DAGGER ID0 FIELD SPIN 0 SU3 - 3 SU2 2 U1 - 1 DAGGER ID8 CONTRACTIONS SU3 ID9 ID0 ID0 SU3 ID2 ID8 ID8 SU2 ID9 ID0 SU2 ID2 ID8\n",
      "--\n",
      "Predicted   :  FIELD SPIN 0 SU3 3 SU2 2 U1 1 ID2 FIELD SPIN 0 SU3 3 SU2 2 U1 1 ID4 FIELD SPIN 0 SU3 - 3 SU2 2 U1 - 1 DAGGER ID6 FIELD SPIN 0 SU3 - 3 SU2 2 U1 - 1 DAGGER ID0 CONTRACTIONS SU3 ID2 ID6 ID6 SU3 ID4 ID0 ID0 SU2 ID2 ID6 SU2 ID4 ID0\n",
      "-----\n",
      "\n",
      "\n",
      "Predicted_1 :  FIELD SPIN 0 SU3 3 SU2 2 U1 1 ID0 FIELD SPIN 0 SU3 3 SU2 2 U1 1 ID6 FIELD SPIN 0 SU3 - 3 SU2 2 U1 - 1 DAGGER ID0 FIELD SPIN 0 SU3 - 3 SU2 2 U1 - 1 DAGGER ID6 CONTRACTIONS SU3 ID1 ID8 ID8 SU3 ID3 ID5 ID5 SU2 ID1 ID3 SU2 ID8 ID5\n",
      "Truth_1     :  FIELD SPIN 0 SU3 3 SU2 2 U1 1 ID1 FIELD SPIN 0 SU3 3 SU2 2 U1 1 ID3 FIELD SPIN 0 SU3 - 3 SU2 2 U1 - 1 DAGGER ID8 FIELD SPIN 0 SU3 - 3 SU2 2 U1 - 1 DAGGER ID5 CONTRACTIONS SU3 ID1 ID8 ID8 SU3 ID3 ID5 ID5 SU2 ID1 ID3 SU2 ID8 ID5\n",
      "--\n",
      "Predicted_2 :  FIELD SPIN 0 SU3 3 SU2 2 U1 1 ID0 FIELD SPIN 0 SU3 3 SU2 2 U1 1 ID6 FIELD SPIN 0 SU3 - 3 SU2 2 U1 - 1 DAGGER ID0 FIELD SPIN 0 SU3 - 3 SU2 2 U1 - 1 DAGGER ID6 CONTRACTIONS SU3 ID1 ID8 ID8 SU3 ID3 ID5 ID5 SU2 ID1 ID3 SU2 ID8 ID5\n",
      "Truth_2     :  FIELD SPIN 0 SU3 3 SU2 2 U1 1 ID1 FIELD SPIN 0 SU3 3 SU2 2 U1 1 ID3 FIELD SPIN 0 SU3 - 3 SU2 2 U1 - 1 DAGGER ID8 FIELD SPIN 0 SU3 - 3 SU2 2 U1 - 1 DAGGER ID5 CONTRACTIONS SU3 ID1 ID8 ID8 SU3 ID3 ID5 ID5 SU2 ID1 ID3 SU2 ID8 ID5\n",
      "--\n",
      "Predicted   :  FIELD SPIN 0 SU3 3 SU2 2 U1 1 ID2 FIELD SPIN 0 SU3 3 SU2 2 U1 1 ID0 FIELD SPIN 0 SU3 - 3 SU2 2 U1 - 1 DAGGER ID8 FIELD SPIN 0 SU3 - 3 SU2 2 U1 - 1 DAGGER ID4 CONTRACTIONS SU3 ID2 ID8 ID8 SU3 ID0 ID4 ID4 SU2 ID2 ID0 SU2 ID8 ID4\n",
      "-----\n",
      "\n",
      "\n",
      "Predicted_1 :  FIELD SPIN 0 SU3 3 SU2 2 U1 1 ID0 FIELD SPIN 0 SU3 3 SU2 2 U1 1 ID4 FIELD SPIN 0 SU3 - 3 SU2 2 U1 - 1 DAGGER ID6 FIELD SPIN 0 SU3 - 3 SU2 2 U1 - 1 DAGGER ID6 CONTRACTIONS SU3 ID0 ID3 ID9 SU3 ID9 ID4 ID4 SU2 ID0 ID9 SU2 ID3 ID4\n",
      "Truth_1     :  FIELD SPIN 0 SU3 3 SU2 2 U1 1 ID0 FIELD SPIN 0 SU3 3 SU2 2 U1 1 ID3 FIELD SPIN 0 SU3 - 3 SU2 2 U1 - 1 DAGGER ID9 FIELD SPIN 0 SU3 - 3 SU2 2 U1 - 1 DAGGER ID4 CONTRACTIONS SU3 ID0 ID3 ID9 SU3 ID9 ID4 ID4 SU2 ID0 ID9 SU2 ID3 ID4\n",
      "--\n",
      "Predicted_2 :  FIELD SPIN 0 SU3 3 SU2 2 U1 1 ID0 FIELD SPIN 0 SU3 3 SU2 2 U1 1 ID4 FIELD SPIN 0 SU3 - 3 SU2 2 U1 - 1 DAGGER ID6 FIELD SPIN 0 SU3 - 3 SU2 2 U1 - 1 DAGGER ID6 CONTRACTIONS SU3 ID0 ID3 ID9 SU3 ID9 ID4 ID4 SU2 ID0 ID9 SU2 ID3 ID4\n",
      "Truth_2     :  FIELD SPIN 0 SU3 3 SU2 2 U1 1 ID0 FIELD SPIN 0 SU3 3 SU2 2 U1 1 ID3 FIELD SPIN 0 SU3 - 3 SU2 2 U1 - 1 DAGGER ID9 FIELD SPIN 0 SU3 - 3 SU2 2 U1 - 1 DAGGER ID4 CONTRACTIONS SU3 ID0 ID3 ID9 SU3 ID9 ID4 ID4 SU2 ID0 ID9 SU2 ID3 ID4\n",
      "--\n",
      "Predicted   :  FIELD SPIN 0 SU3 3 SU2 2 U1 1 ID2 FIELD SPIN 0 SU3 3 SU2 2 U1 1 ID0 FIELD SPIN 0 SU3 - 3 SU2 2 U1 - 1 DAGGER ID4 FIELD SPIN 0 SU3 - 3 SU2 2 U1 - 1 DAGGER ID1 CONTRACTIONS SU3 ID2 ID0 ID4 SU3 ID4 ID1 ID1 SU2 ID2 ID4 SU2 ID0 ID1\n",
      "-----\n",
      "\n",
      "\n",
      "Predicted_1 :  FIELD SPIN 0 SU3 3 SU2 2 U1 1 ID8 FIELD SPIN 0 SU3 3 SU2 2 U1 1 ID8 FIELD SPIN 0 SU3 - 3 SU2 2 U1 - 1 DAGGER ID2 FIELD SPIN 0 SU3 - 3 SU2 2 U1 - 1 DAGGER ID6 CONTRACTIONS SU3 ID4 ID0 ID8 SU3 ID8 ID2 ID2 SU2 ID4 ID0 SU2 ID8 ID2\n",
      "Truth_1     :  FIELD SPIN 0 SU3 3 SU2 2 U1 1 ID4 FIELD SPIN 0 SU3 3 SU2 2 U1 1 ID0 FIELD SPIN 0 SU3 - 3 SU2 2 U1 - 1 DAGGER ID8 FIELD SPIN 0 SU3 - 3 SU2 2 U1 - 1 DAGGER ID2 CONTRACTIONS SU3 ID4 ID0 ID8 SU3 ID8 ID2 ID2 SU2 ID4 ID0 SU2 ID8 ID2\n",
      "--\n",
      "Predicted_2 :  FIELD SPIN 0 SU3 3 SU2 2 U1 1 ID8 FIELD SPIN 0 SU3 3 SU2 2 U1 1 ID8 FIELD SPIN 0 SU3 - 3 SU2 2 U1 - 1 DAGGER ID2 FIELD SPIN 0 SU3 - 3 SU2 2 U1 - 1 DAGGER ID6 CONTRACTIONS SU3 ID4 ID0 ID8 SU3 ID8 ID2 ID2 SU2 ID4 ID0 SU2 ID8 ID2\n",
      "Truth_2     :  FIELD SPIN 0 SU3 3 SU2 2 U1 1 ID4 FIELD SPIN 0 SU3 3 SU2 2 U1 1 ID0 FIELD SPIN 0 SU3 - 3 SU2 2 U1 - 1 DAGGER ID8 FIELD SPIN 0 SU3 - 3 SU2 2 U1 - 1 DAGGER ID2 CONTRACTIONS SU3 ID4 ID0 ID8 SU3 ID8 ID2 ID2 SU2 ID4 ID0 SU2 ID8 ID2\n",
      "--\n",
      "Predicted   :  FIELD SPIN 0 SU3 3 SU2 2 U1 1 ID8 FIELD SPIN 0 SU3 3 SU2 2 U1 1 ID6 FIELD SPIN 0 SU3 - 3 SU2 2 U1 - 1 DAGGER ID4 FIELD SPIN 0 SU3 - 3 SU2 2 U1 - 1 DAGGER ID2 CONTRACTIONS SU3 ID8 ID6 ID4 SU3 ID4 ID2 ID2 SU2 ID8 ID6 SU2 ID4 ID2\n",
      "-----\n",
      "\n",
      "\n",
      "Predicted_1 :  FIELD SPIN 0 SU3 3 U1 - 2 ID4 FIELD SPIN 0 SU3 3 U1 - 2 ID7 FIELD SPIN 0 SU3 - 3 U1 2 DAGGER ID0 FIELD SPIN 0 SU3 - 3 U1 2 DAGGER ID3 CONTRACTIONS SU3 ID6 ID9 ID9 SU3 ID1 ID0 ID0\n",
      "Truth_1     :  FIELD SPIN 0 SU3 3 U1 - 2 ID6 FIELD SPIN 0 SU3 3 U1 - 2 ID1 FIELD SPIN 0 SU3 - 3 U1 2 DAGGER ID9 FIELD SPIN 0 SU3 - 3 U1 2 DAGGER ID0 CONTRACTIONS SU3 ID6 ID9 ID9 SU3 ID1 ID0 ID0\n",
      "--\n",
      "Predicted_2 :  FIELD SPIN 0 SU3 3 U1 - 2 ID4 FIELD SPIN 0 SU3 3 U1 - 2 ID7 FIELD SPIN 0 SU3 - 3 U1 2 DAGGER ID0 FIELD SPIN 0 SU3 - 3 U1 2 DAGGER ID8 CONTRACTIONS SU3 ID6 ID9 ID9 SU3 ID1 ID0 ID0\n",
      "Truth_2     :  FIELD SPIN 0 SU3 3 U1 - 2 ID6 FIELD SPIN 0 SU3 3 U1 - 2 ID1 FIELD SPIN 0 SU3 - 3 U1 2 DAGGER ID9 FIELD SPIN 0 SU3 - 3 U1 2 DAGGER ID0 CONTRACTIONS SU3 ID6 ID9 ID9 SU3 ID1 ID0 ID0\n",
      "--\n",
      "Predicted   :  FIELD SPIN 0 SU3 3 U1 - 2 ID4 FIELD SPIN 0 SU3 3 U1 - 2 ID8 FIELD SPIN 0 SU3 - 3 U1 2 DAGGER ID6 FIELD SPIN 0 SU3 - 3 U1 2 DAGGER ID2 CONTRACTIONS SU3 ID4 ID6 ID6 SU3 ID8 ID2 ID2\n",
      "-----\n",
      "\n",
      "\n",
      "Predicted_1 :  FIELD SPIN 0 SU3 3 U1 - 2 ID4 FIELD SPIN 0 SU3 3 U1 - 2 ID8 FIELD SPIN 0 SU3 - 3 U1 2 DAGGER ID8 FIELD SPIN 0 SU3 - 3 U1 2 DAGGER ID5 CONTRACTIONS SU3 ID9 ID3 ID0 SU3 ID0 ID1 ID1\n",
      "Truth_1     :  FIELD SPIN 0 SU3 3 U1 - 2 ID9 FIELD SPIN 0 SU3 3 U1 - 2 ID3 FIELD SPIN 0 SU3 - 3 U1 2 DAGGER ID0 FIELD SPIN 0 SU3 - 3 U1 2 DAGGER ID1 CONTRACTIONS SU3 ID9 ID3 ID0 SU3 ID0 ID1 ID1\n",
      "--\n",
      "Predicted_2 :  FIELD SPIN 0 SU3 3 U1 - 2 ID4 FIELD SPIN 0 SU3 3 U1 - 2 ID8 FIELD SPIN 0 SU3 - 3 U1 2 DAGGER ID8 FIELD SPIN 0 SU3 - 3 U1 2 DAGGER ID5 CONTRACTIONS SU3 ID9 ID3 ID0 SU3 ID0 ID1 ID1\n",
      "Truth_2     :  FIELD SPIN 0 SU3 3 U1 - 2 ID9 FIELD SPIN 0 SU3 3 U1 - 2 ID3 FIELD SPIN 0 SU3 - 3 U1 2 DAGGER ID0 FIELD SPIN 0 SU3 - 3 U1 2 DAGGER ID1 CONTRACTIONS SU3 ID9 ID3 ID0 SU3 ID0 ID1 ID1\n",
      "--\n",
      "Predicted   :  FIELD SPIN 0 SU3 3 U1 - 2 ID4 FIELD SPIN 0 SU3 3 U1 - 2 ID8 FIELD SPIN 0 SU3 - 3 U1 2 DAGGER ID6 FIELD SPIN 0 SU3 - 3 U1 2 DAGGER ID7 CONTRACTIONS SU3 ID4 ID8 ID6 SU3 ID6 ID7 ID7\n",
      "-----\n",
      "\n",
      "\n",
      "Predicted_1 :  i FIELD SPIN 1 / 2 U1 - 1 / 2 HEL 1 / 2 DAGGER ID4 SIGMA_BAR ID4 DERIVATIVE U1 ID4 FIELD SPIN 1 / 2 U1 1 / 2 HEL - 1 / 2 ID4 CONTRACTIONS LORENTZ ID5 ID0 LORENTZ ID5 ID8 ID7\n",
      "Truth_1     :  i FIELD SPIN 1 / 2 U1 - 1 / 2 HEL 1 / 2 DAGGER ID8 SIGMA_BAR ID5 DERIVATIVE U1 ID0 FIELD SPIN 1 / 2 U1 1 / 2 HEL - 1 / 2 ID7 CONTRACTIONS LORENTZ ID5 ID0 LORENTZ ID5 ID8 ID7\n",
      "--\n",
      "Predicted_2 :  i FIELD SPIN 1 / 2 U1 - 1 / 2 HEL 1 / 2 DAGGER ID4 SIGMA_BAR ID6 DERIVATIVE U1 ID4 FIELD SPIN 1 / 2 U1 1 / 2 HEL - 1 / 2 ID4 CONTRACTIONS LORENTZ ID5 ID0 LORENTZ ID5 ID8 ID7\n",
      "Truth_2     :  i FIELD SPIN 1 / 2 U1 - 1 / 2 HEL 1 / 2 DAGGER ID8 SIGMA_BAR ID5 DERIVATIVE U1 ID0 FIELD SPIN 1 / 2 U1 1 / 2 HEL - 1 / 2 ID7 CONTRACTIONS LORENTZ ID5 ID0 LORENTZ ID5 ID8 ID7\n",
      "--\n",
      "Predicted   :  i FIELD SPIN 1 / 2 U1 - 1 / 2 HEL 1 / 2 DAGGER ID4 SIGMA_BAR ID8 DERIVATIVE U1 ID6 FIELD SPIN 1 / 2 U1 1 / 2 HEL - 1 / 2 ID5 CONTRACTIONS LORENTZ ID8 ID6 LORENTZ ID8 ID4 ID5\n",
      "-----\n",
      "\n",
      "\n",
      "Predicted_1 :  DERIVATIVE SU3 SU2 U1 ID2 FIELD SPIN 0 SU3 - 3 SU2 2 U1 - 1 DAGGER ID2 DERIVATIVE SU3 SU2 U1 ID2 FIELD SPIN 0 SU3 3 SU2 2 U1 1 ID0 CONTRACTIONS LORENTZ ID5 ID1 SU3 ID9 ID0 SU2 ID9 ID0\n",
      "Truth_1     :  DERIVATIVE SU3 SU2 U1 ID5 FIELD SPIN 0 SU3 - 3 SU2 2 U1 - 1 DAGGER ID9 DERIVATIVE SU3 SU2 U1 ID1 FIELD SPIN 0 SU3 3 SU2 2 U1 1 ID0 CONTRACTIONS LORENTZ ID5 ID1 SU3 ID9 ID0 SU2 ID9 ID0\n",
      "--\n",
      "Predicted_2 :  DERIVATIVE SU3 SU2 U1 ID4 FIELD SPIN 0 SU3 - 3 SU2 2 U1 - 1 DAGGER ID2 DERIVATIVE SU3 SU2 U1 ID2 FIELD SPIN 0 SU3 3 SU2 2 U1 1 ID0 CONTRACTIONS LORENTZ ID5 ID1 SU3 ID9 ID0 SU2 ID9 ID0\n",
      "Truth_2     :  DERIVATIVE SU3 SU2 U1 ID5 FIELD SPIN 0 SU3 - 3 SU2 2 U1 - 1 DAGGER ID9 DERIVATIVE SU3 SU2 U1 ID1 FIELD SPIN 0 SU3 3 SU2 2 U1 1 ID0 CONTRACTIONS LORENTZ ID5 ID1 SU3 ID9 ID0 SU2 ID9 ID0\n",
      "--\n",
      "Predicted   :  DERIVATIVE SU3 SU2 U1 ID4 FIELD SPIN 0 SU3 - 3 SU2 2 U1 - 1 DAGGER ID8 DERIVATIVE SU3 SU2 U1 ID6 FIELD SPIN 0 SU3 3 SU2 2 U1 1 ID5 CONTRACTIONS LORENTZ ID4 ID6 SU3 ID8 ID5 SU2 ID8 ID5\n",
      "-----\n",
      "\n",
      "\n",
      "Predicted_1 :  DERIVATIVE SU3 U1 ID4 FIELD SPIN 0 SU3 - 3 U1 2 DAGGER ID0 DERIVATIVE SU3 U1 ID2 FIELD SPIN 0 SU3 3 U1 - 2 ID0 CONTRACTIONS LORENTZ ID5 ID2 SU3 ID8 ID4\n",
      "Truth_1     :  DERIVATIVE SU3 U1 ID5 FIELD SPIN 0 SU3 - 3 U1 2 DAGGER ID8 DERIVATIVE SU3 U1 ID2 FIELD SPIN 0 SU3 3 U1 - 2 ID4 CONTRACTIONS LORENTZ ID5 ID2 SU3 ID8 ID4\n",
      "--\n",
      "Predicted_2 :  DERIVATIVE SU3 U1 ID4 FIELD SPIN 0 SU3 - 3 U1 2 DAGGER ID0 DERIVATIVE SU3 U1 ID2 FIELD SPIN 0 SU3 3 U1 - 2 ID0 CONTRACTIONS LORENTZ ID5 ID2 SU3 ID8 ID4\n",
      "Truth_2     :  DERIVATIVE SU3 U1 ID5 FIELD SPIN 0 SU3 - 3 U1 2 DAGGER ID8 DERIVATIVE SU3 U1 ID2 FIELD SPIN 0 SU3 3 U1 - 2 ID4 CONTRACTIONS LORENTZ ID5 ID2 SU3 ID8 ID4\n",
      "--\n",
      "Predicted   :  DERIVATIVE SU3 U1 ID4 FIELD SPIN 0 SU3 - 3 U1 2 DAGGER ID8 DERIVATIVE SU3 U1 ID6 FIELD SPIN 0 SU3 3 U1 - 2 ID5 CONTRACTIONS LORENTZ ID4 ID6 SU3 ID8 ID5\n",
      "-----\n",
      "\n",
      "\n",
      "Predicted_1 :  - COMMUTATOR_A DERIVATIVE U1 ID4 COMMUTATOR_B DERIVATIVE U1 ID8 COMMUTATOR_A DERIVATIVE U1 ID6 COMMUTATOR_B DERIVATIVE U1 ID2 CONTRACTIONS LORENTZ ID4 ID5 LORENTZ ID8 ID9\n",
      "Truth_1     :  - COMMUTATOR_A DERIVATIVE U1 ID4 COMMUTATOR_B DERIVATIVE U1 ID8 COMMUTATOR_A DERIVATIVE U1 ID5 COMMUTATOR_B DERIVATIVE U1 ID9 CONTRACTIONS LORENTZ ID4 ID5 LORENTZ ID8 ID9\n",
      "--\n",
      "Predicted_2 :  - COMMUTATOR_A DERIVATIVE U1 ID4 COMMUTATOR_B DERIVATIVE U1 ID8 COMMUTATOR_A DERIVATIVE U1 ID6 COMMUTATOR_B DERIVATIVE U1 ID2 CONTRACTIONS LORENTZ ID4 ID5 LORENTZ ID8 ID9\n",
      "Truth_2     :  - COMMUTATOR_A DERIVATIVE U1 ID4 COMMUTATOR_B DERIVATIVE U1 ID8 COMMUTATOR_A DERIVATIVE U1 ID5 COMMUTATOR_B DERIVATIVE U1 ID9 CONTRACTIONS LORENTZ ID4 ID5 LORENTZ ID8 ID9\n",
      "--\n",
      "Predicted   :  - COMMUTATOR_A DERIVATIVE U1 ID4 COMMUTATOR_B DERIVATIVE U1 ID8 COMMUTATOR_A DERIVATIVE U1 ID6 COMMUTATOR_B DERIVATIVE U1 ID5 CONTRACTIONS LORENTZ ID4 ID6 LORENTZ ID8 ID5\n",
      "-----\n",
      "\n",
      "\n",
      "Predicted_1 :  FIELD SPIN 0 SU3 - 3 SU2 2 U1 - 1 DAGGER ID7 FIELD SPIN 0 SU3 3 SU2 2 U1 1 ID6 CONTRACTIONS SU3 ID3 ID0 SU2 ID3 ID0\n",
      "Truth_1     :  FIELD SPIN 0 SU3 - 3 SU2 2 U1 - 1 DAGGER ID3 FIELD SPIN 0 SU3 3 SU2 2 U1 1 ID0 CONTRACTIONS SU3 ID3 ID0 SU2 ID3 ID0\n",
      "--\n",
      "Predicted_2 :  FIELD SPIN 0 SU3 - 3 SU2 2 U1 - 1 DAGGER ID7 FIELD SPIN 0 SU3 3 SU2 2 U1 1 ID6 CONTRACTIONS SU3 ID3 ID0 SU2 ID3 ID0\n",
      "Truth_2     :  FIELD SPIN 0 SU3 - 3 SU2 2 U1 - 1 DAGGER ID3 FIELD SPIN 0 SU3 3 SU2 2 U1 1 ID0 CONTRACTIONS SU3 ID3 ID0 SU2 ID3 ID0\n",
      "--\n",
      "Predicted   :  FIELD SPIN 0 SU3 - 3 SU2 2 U1 - 1 DAGGER ID4 FIELD SPIN 0 SU3 3 SU2 2 U1 1 ID8 CONTRACTIONS SU3 ID4 ID8 SU2 ID4 ID8\n",
      "-----\n",
      "\n",
      "\n",
      "Predicted_1 :  FIELD SPIN 0 SU3 - 3 U1 2 DAGGER ID7 FIELD SPIN 0 SU3 3 U1 - 2 ID8 CONTRACTIONS SU3 ID9 ID8\n",
      "Truth_1     :  FIELD SPIN 0 SU3 - 3 U1 2 DAGGER ID9 FIELD SPIN 0 SU3 3 U1 - 2 ID8 CONTRACTIONS SU3 ID9 ID8\n",
      "--\n",
      "Predicted_2 :  FIELD SPIN 0 SU3 - 3 U1 2 DAGGER ID7 FIELD SPIN 0 SU3 3 U1 - 2 ID8 CONTRACTIONS SU3 ID9 ID8\n",
      "Truth_2     :  FIELD SPIN 0 SU3 - 3 U1 2 DAGGER ID9 FIELD SPIN 0 SU3 3 U1 - 2 ID8 CONTRACTIONS SU3 ID9 ID8\n",
      "--\n",
      "Predicted   :  FIELD SPIN 0 SU3 - 3 U1 2 DAGGER ID4 FIELD SPIN 0 SU3 3 U1 - 2 ID8 CONTRACTIONS SU3 ID4\n",
      "-----\n",
      "\n",
      "\n"
     ]
    }
   ],
   "source": [
    "for p1,p2,t1,t2,p in zip(le.split_terms(predicted_string_1),le.split_terms(predicted_string_2), le.split_terms(lag_truth_1), le.split_terms(lag_truth_2),le.split_terms(predicted_string)):\n",
    "    print(\"Predicted_1 : \",p1)\n",
    "    print(\"Truth_1     : \",t1)\n",
    "    print(\"--\")\n",
    "    print(\"Predicted_2 : \",p2)\n",
    "    print(\"Truth_2     : \",t2)\n",
    "    print(\"--\")\n",
    "    print(\"Predicted   : \",p)\n",
    "    print(\"-----\")\n",
    "    print()\n",
    "    print()\n",
    "    "
   ]
  },
  {
   "cell_type": "code",
   "execution_count": 186,
   "id": "d56b2adb",
   "metadata": {},
   "outputs": [
    {
     "data": {
      "text/html": [
       "<div>\n",
       "<style scoped>\n",
       "    .dataframe tbody tr th:only-of-type {\n",
       "        vertical-align: middle;\n",
       "    }\n",
       "\n",
       "    .dataframe tbody tr th {\n",
       "        vertical-align: top;\n",
       "    }\n",
       "\n",
       "    .dataframe thead th {\n",
       "        text-align: right;\n",
       "    }\n",
       "</style>\n",
       "<table border=\"1\" class=\"dataframe\">\n",
       "  <thead>\n",
       "    <tr style=\"text-align: right;\">\n",
       "      <th></th>\n",
       "      <th>fields</th>\n",
       "      <th>Lagrangian</th>\n",
       "      <th>train/eval</th>\n",
       "      <th>nfields</th>\n",
       "      <th>nfermions</th>\n",
       "      <th>nscalars</th>\n",
       "      <th>output_length</th>\n",
       "    </tr>\n",
       "  </thead>\n",
       "  <tbody>\n",
       "    <tr>\n",
       "      <th>377</th>\n",
       "      <td>FIELD SPIN 0</td>\n",
       "      <td>+ FIELD SPIN 0 ID2 FIELD SPIN 0 ID3 FIELD SPIN...</td>\n",
       "      <td>eval</td>\n",
       "      <td>1</td>\n",
       "      <td>0</td>\n",
       "      <td>1</td>\n",
       "      <td>59</td>\n",
       "    </tr>\n",
       "  </tbody>\n",
       "</table>\n",
       "</div>"
      ],
      "text/plain": [
       "           fields                                         Lagrangian  \\\n",
       "377  FIELD SPIN 0  + FIELD SPIN 0 ID2 FIELD SPIN 0 ID3 FIELD SPIN...   \n",
       "\n",
       "    train/eval  nfields  nfermions  nscalars  output_length  \n",
       "377       eval        1          0         1             59  "
      ]
     },
     "execution_count": 186,
     "metadata": {},
     "output_type": "execute_result"
    }
   ],
   "source": [
    "sampled_df[\"output_length\"] = sampled_df[\"Lagrangian\"].apply(lambda x: len(x.split()))\n",
    "minlength = sampled_df[\"output_length\"].min()\n",
    "sampled_df[sampled_df[\"output_length\"] == minlength]"
   ]
  },
  {
   "cell_type": "code",
   "execution_count": null,
   "id": "405d2366",
   "metadata": {},
   "outputs": [
    {
     "name": "stdout",
     "output_type": "stream",
     "text": [
      "Input    =  [SOS] FIELD SPIN 0 SU2 3 FIELD SPIN 0 SU3 - 3 U1 - 1 / 3 FIELD SPIN 1/2 SU3 3 SU2 3 U1 - 8 / 5 HEL 1/2 FIELD SPIN 1/2 SU3 3 U1 - 1 / 4 HEL 1/2 FIELD SPIN 0 SU2 2 U1 5 FIELD SPIN 0 SU3 - 3 SU2 3 U1 1 / 7 [EOS]\n",
      "token_id =  [0, 22, 36, 9, 37, 10, 22, 36, 9, 38, 7, 10, 39, 7, 5, 4, 10, 22, 36, 5, 4, 6, 38, 10, 37, 10, 39, 7, 15, 4, 12, 23, 5, 4, 6, 22, 36, 5, 4, 6, 38, 10, 39, 7, 5, 4, 11, 23, 5, 4, 6, 22, 36, 9, 37, 6, 39, 12, 22, 36, 9, 38, 7, 10, 37, 10, 39, 5, 4, 14, 1]\n",
      "decoded  =  [SOS] FIELD SPIN 0 SU2 3 FIELD SPIN 0 SU3 - 3 U1 - 1 / 3 FIELD SPIN 1 / 2 SU3 3 SU2 3 U1 - 8 / 5 HEL 1 / 2 FIELD SPIN 1 / 2 SU3 3 U1 - 1 / 4 HEL 1 / 2 FIELD SPIN 0 SU2 2 U1 5 FIELD SPIN 0 SU3 - 3 SU2 3 U1 1 / 7 [EOS]\n"
     ]
    }
   ],
   "source": [
    "example_scenario = sampled_df.sample(1)\n",
    "example = example_scenario[\"fields\"].values[0]\n",
    "example = \"[SOS] \" + example + \" [EOS]\"\n",
    "print(\"Input    = \",example)\n",
    "encoded = hf_tokenizer.encode(example)\n",
    "print(\"token_id = \", encoded)\n",
    "decoded = hf_tokenizer.decode(encoded)\n",
    "print(\"decoded  = \", decoded)\n"
   ]
  },
  {
   "cell_type": "code",
   "execution_count": 281,
   "id": "1414e891",
   "metadata": {},
   "outputs": [
    {
     "name": "stdout",
     "output_type": "stream",
     "text": [
      "Input    =  [SOS] FIELD SPIN 0 [EOS]\n",
      "Encoded  =  tensor([[ 0, 22, 36,  9,  1]])\n",
      "+ FIELD SPIN 0 ID2 FIELD SPIN 0 ID3 FIELD SPIN 0 ID8 + FIELD SPIN 0 ID1 FIELD SPIN 0 ID5 FIELD SPIN 0 ID7 FIELD SPIN 0 ID0 + DERIVATIVE ID5 FIELD SPIN 0 DAGGER ID8 DERIVATIVE ID3 FIELD SPIN 0 ID7 CONTRACTIONS LORENTZ ID5 ID3 + FIELD SPIN 0 DAGGER ID9 FIELD SPIN 0 ID2 CONTRACTIONS\n",
      "[SOS] + FIELD SPIN 0 ID2 FIELD SPIN 0 ID3 FIELD SPIN 0 ID8 + FIELD SPIN 0 ID1 FIELD SPIN 0 ID5 FIELD SPIN 0 ID7 FIELD SPIN 0 ID0 + DERIVATIVE ID5 FIELD SPIN 0 DAGGER ID8 DERIVATIVE ID3 FIELD SPIN 0 ID7 CONTRACTIONS LORENTZ ID5 ID3 + FIELD SPIN 0 DAGGER ID9 FIELD SPIN 0 ID2 CONTRACTIONS [EOS]\n",
      "targets:\n",
      " {'input_ids': tensor([[ 0,  8, 22, 36,  9, 26, 22, 36,  9, 27, 22, 36,  9, 32,  8, 22, 36,  9,\n",
      "         25, 22, 36,  9, 29, 22, 36,  9, 31, 22, 36,  9, 24,  8, 21, 29, 22, 36,\n",
      "          9, 20, 32, 21, 27, 22, 36,  9, 31, 19, 34, 29, 27,  8, 22, 36,  9, 20,\n",
      "         33, 22, 36,  9, 26, 19,  1]]), 'token_type_ids': tensor([[0, 0, 0, 0, 0, 0, 0, 0, 0, 0, 0, 0, 0, 0, 0, 0, 0, 0, 0, 0, 0, 0, 0, 0,\n",
      "         0, 0, 0, 0, 0, 0, 0, 0, 0, 0, 0, 0, 0, 0, 0, 0, 0, 0, 0, 0, 0, 0, 0, 0,\n",
      "         0, 0, 0, 0, 0, 0, 0, 0, 0, 0, 0, 0, 0]]), 'attention_mask': tensor([[1, 1, 1, 1, 1, 1, 1, 1, 1, 1, 1, 1, 1, 1, 1, 1, 1, 1, 1, 1, 1, 1, 1, 1,\n",
      "         1, 1, 1, 1, 1, 1, 1, 1, 1, 1, 1, 1, 1, 1, 1, 1, 1, 1, 1, 1, 1, 1, 1, 1,\n",
      "         1, 1, 1, 1, 1, 1, 1, 1, 1, 1, 1, 1, 1]])}\n",
      "inputs:\n",
      " {'input_ids': tensor([[ 0, 22, 36,  9,  1]]), 'token_type_ids': tensor([[0, 0, 0, 0, 0]]), 'attention_mask': tensor([[1, 1, 1, 1, 1]])}\n",
      "inputs:\n",
      " [SOS] FIELD SPIN 0 [EOS]\n",
      "labels:\n",
      " tensor([[ 0,  8, 22, 36,  9, 26, 22, 36,  9, 27, 22, 36,  9, 32,  8, 22, 36,  9,\n",
      "         25, 22, 36,  9, 29, 22, 36,  9, 31, 22, 36,  9, 24,  8, 21, 29, 22, 36,\n",
      "          9, 20, 32, 21, 27, 22, 36,  9, 31, 19, 34, 29, 27,  8, 22, 36,  9, 20,\n",
      "         33, 22, 36,  9, 26, 19,  1]])\n",
      "labels:\n",
      " [SOS] + FIELD SPIN 0 ID2 FIELD SPIN 0 ID3 FIELD SPIN 0 ID8 + FIELD SPIN 0 ID1 FIELD SPIN 0 ID5 FIELD SPIN 0 ID7 FIELD SPIN 0 ID0 + DERIVATIVE ID5 FIELD SPIN 0 DAGGER ID8 DERIVATIVE ID3 FIELD SPIN 0 ID7 CONTRACTIONS LORENTZ ID5 ID3 + FIELD SPIN 0 DAGGER ID9 FIELD SPIN 0 ID2 CONTRACTIONS [EOS]\n",
      "logits:\n",
      " + FIELD SPIN 0 ID0 FIELD SPIN 0 ID0 FIELD SPIN 0 ID4 + FIELD SPIN 0 ID6 FIELD SPIN 0 ID4 FIELD SPIN 0 ID0 FIELD SPIN 0 ID0 + DERIVATIVE ID6 FIELD SPIN 0 DAGGER ID2 DERIVATIVE ID2 FIELD SPIN 0 ID6 CONTRACTIONS LORENTZ ID5 ID3 + FIELD SPIN 0 DAGGER ID1 FIELD SPIN 0 ID6 CONTRACTIONS\n"
     ]
    }
   ],
   "source": [
    "example_scenario = sampled_df[sampled_df[\"output_length\"] == minlength]\n",
    "#example_scenario = sampled_df.sample(1)\n",
    "example = example_scenario[\"fields\"].values[0]\n",
    "example = \"[SOS] \" + example + \" [EOS]\"\n",
    "print(\"Input    = \",example)\n",
    "\n",
    "\n",
    "encoded = hf_tokenizer.encode(example, return_tensors='pt', truncation=True,padding=True)\n",
    "print(\"Encoded  = \",encoded)\n",
    "print(example_scenario[\"Lagrangian\"].iloc[0])\n",
    "print(\"[SOS] \" + example_scenario[\"Lagrangian\"].iloc[0] + \" [EOS]\")\n",
    "\n",
    "inputs = hf_tokenizer(example, return_tensors=\"pt\")\n",
    "targets = hf_tokenizer(\n",
    "    \"[SOS] \" + example_scenario[\"Lagrangian\"].iloc[0] + \" [EOS]\", return_tensors=\"pt\", truncation=True, padding=True\n",
    ")\n",
    "\n",
    "print(\"targets:\\n\",targets)\n",
    "\n",
    "labels = targets[\"input_ids\"]\n",
    "\n",
    "#true_ids = hf_tokenizer.encode(example_scenario[\"Lagrangian\"].iloc[0])\n",
    "print(\"inputs:\\n\",inputs)\n",
    "print(\"inputs:\\n\",hf_tokenizer.decode(inputs[\"input_ids\"][0]))\n",
    "print(\"labels:\\n\",labels)\n",
    "print(\"labels:\\n\",hf_tokenizer.decode(labels[0]))\n",
    "\n",
    "\n",
    "with torch.no_grad():\n",
    "    outputs = model(input_ids=inputs[\"input_ids\"], labels=labels)\n",
    "    logits = outputs.logits  # shape: [batch_size, seq_len, vocab_size]\n",
    "\n",
    "print(\"logits:\\n\",hf_tokenizer.decode(torch.argmax(logits, dim=-1)[0], skip_special_tokens=True))\n"
   ]
  },
  {
   "cell_type": "code",
   "execution_count": null,
   "id": "56136466",
   "metadata": {},
   "outputs": [],
   "source": []
  },
  {
   "cell_type": "code",
   "execution_count": 284,
   "id": "88e52cce",
   "metadata": {},
   "outputs": [
    {
     "name": "stdout",
     "output_type": "stream",
     "text": [
      "torch.int64\n"
     ]
    }
   ],
   "source": [
    "labels = labels.to(dtype=torch.long)\n",
    "print(labels.dtype)\n"
   ]
  },
  {
   "cell_type": "code",
   "execution_count": 285,
   "id": "bfd3071a",
   "metadata": {},
   "outputs": [
    {
     "name": "stdout",
     "output_type": "stream",
     "text": [
      "torch.int64\n",
      "Masked mean loss (non-pad): tensor(18.5457)\n",
      "Model's built-in loss: tensor(0.4612)\n",
      "Per-token cross-entropy losses: tensor([[16.0588, 18.7801, 13.1079, 22.3839, 19.9227, 13.9886, 20.2391, 22.9420,\n",
      "         22.7442, 13.7025, 18.0028, 22.2427, 20.2547, 12.0452, 11.9345, 18.5219,\n",
      "         22.2570, 19.6820, 14.5486, 18.8248, 23.3977, 19.5454, 14.1512, 20.5787,\n",
      "         23.1609, 21.3542, 14.2170, 18.1694, 22.4968, 21.8810, 13.2939, 17.6537,\n",
      "         19.1360, 14.2472, 20.3753, 22.9307, 16.7707, 19.0370, 14.0794, 27.0000,\n",
      "         13.2431, 17.6201, 22.7291, 21.1959, 14.3630, 21.2488, 26.7283, 18.6523,\n",
      "         16.7427, 16.0166, 13.9533, 23.0197, 18.7365, 18.7965, 13.7956, 17.4673,\n",
      "         23.4362, 20.0200, 13.4396, 15.8758]])\n"
     ]
    }
   ],
   "source": [
    "labels = labels.to(dtype=torch.long)\n",
    "print(labels.dtype)\n",
    "\n",
    "\n",
    "# Shift logits and labels\n",
    "shifted_logits     = logits[:, :-1, :].contiguous()\n",
    "shifted_target_ids = labels[:, 1:].contiguous()\n",
    "\n",
    "# Compute flat cross-entropy (no reduction)\n",
    "loss_fct = torch.nn.CrossEntropyLoss(reduction='none')\n",
    "loss = loss_fct(\n",
    "    shifted_logits.view(-1, shifted_logits.size(-1)), \n",
    "    shifted_target_ids.view(-1)\n",
    ")\n",
    "\n",
    "# Mask out PAD tokens\n",
    "pad_token_id = hf_tokenizer.pad_token_id\n",
    "non_pad_mask = shifted_target_ids != pad_token_id\n",
    "masked_loss = loss[non_pad_mask.view(-1)]  # ✅ FIXED HERE\n",
    "\n",
    "# Print results\n",
    "print(\"Masked mean loss (non-pad):\", masked_loss.mean())\n",
    "print(\"Model's built-in loss:\", outputs.loss)\n",
    "\n",
    "# Optional: see full per-token loss\n",
    "token_losses = loss.view(shifted_target_ids.size())\n",
    "print(\"Per-token cross-entropy losses:\", token_losses)\n"
   ]
  },
  {
   "cell_type": "code",
   "execution_count": 268,
   "id": "9e4d92f4",
   "metadata": {},
   "outputs": [
    {
     "name": "stdout",
     "output_type": "stream",
     "text": [
      "False\n",
      "tensor(0.9128, grad_fn=<NllLossBackward0>) tensor(0.7680, grad_fn=<NllLossBackward0>)\n"
     ]
    }
   ],
   "source": [
    "outputs1 = model(input_ids=inputs[\"input_ids\"], labels=hf_tokenizer(example_scenario[\"Lagrangian\"].iloc[0][2:], return_tensors=\"pt\", truncation=True, padding=True, max_length=58)[\"input_ids\"])\n",
    "outputs2 = model(input_ids=inputs[\"input_ids\"], labels=hf_tokenizer(example_scenario[\"Lagrangian\"].iloc[0][0:], return_tensors=\"pt\", truncation=True, padding=True, max_length=58)[\"input_ids\"])\n",
    "\n",
    "print(torch.allclose(outputs1.logits, outputs2.logits))  # should be True\n",
    "print(outputs1.loss, outputs2.loss)  # will likely differ\n"
   ]
  },
  {
   "cell_type": "code",
   "execution_count": 264,
   "id": "1b602d11",
   "metadata": {},
   "outputs": [
    {
     "name": "stdout",
     "output_type": "stream",
     "text": [
      "Input    =  [SOS] FIELD SPIN 0 [EOS]\n",
      "inputs:\n",
      " [SOS] FIELD SPIN 0 [EOS]\n",
      "labels:\n",
      " FIELD SPIN 0 ID2 FIELD SPIN 0 ID3 FIELD SPIN 0 ID8 + FIELD SPIN 0 ID1 FIELD SPIN 0 ID5 FIELD SPIN 0 ID7 FIELD SPIN 0 ID0 + DERIVATIVE ID5 FIELD SPIN 0 DAGGER ID8 DERIVATIVE ID3 FIELD SPIN 0 ID7 CONTRACTIONS LORENTZ ID5 ID3 + FIELD SPIN 0 DAGGER ID9 FIELD SPIN 0 ID2 CONTRACTIONS\n",
      "Predicted:\n",
      " + 0 ID0 + SPIN 0 ID0 FIELD SPIN 0 ID6 + FIELD SPIN 0 ID6 FIELD SPIN 0 ID0 FIELD SPIN 0 ID0 FIELD SPIN 0 ID0 + DERIVATIVE ID6 FIELD SPIN 0 DAGGER ID2 DERIVATIVE ID2 FIELD SPIN 0 ID6 CONTRACTIONS LORENTZ ID5 ID3 + FIELD SPIN 0 DAGGER ID2 FIELD SPIN 0 ID6 CONTRACTIONS\n",
      "Loss: 0.9128023386001587\n"
     ]
    }
   ],
   "source": [
    "example = \"[SOS] \" + example_scenario[\"fields\"].values[0] + \" [EOS]\"\n",
    "print(\"Input    = \", example)\n",
    "\n",
    "inputs = hf_tokenizer(example, return_tensors=\"pt\", padding=True, truncation=True)\n",
    "target_text = example_scenario[\"Lagrangian\"].iloc[0][2:]  # skip first two chars?\n",
    "targets = hf_tokenizer(target_text, return_tensors=\"pt\", padding=True, truncation=True)\n",
    "\n",
    "labels = targets[\"input_ids\"]\n",
    "\n",
    "inputs = {k: v.to(model.device) for k, v in inputs.items()}\n",
    "labels = labels.to(model.device)\n",
    "\n",
    "with torch.no_grad():\n",
    "    outputs = model(input_ids=inputs[\"input_ids\"], labels=labels)\n",
    "    logits = outputs.logits\n",
    "\n",
    "pred_ids = torch.argmax(logits, dim=-1)[0]\n",
    "print(\"inputs:\\n\", hf_tokenizer.decode(inputs[\"input_ids\"][0]))\n",
    "print(\"labels:\\n\", hf_tokenizer.decode(labels[0]))\n",
    "print(\"Predicted:\\n\", hf_tokenizer.decode(pred_ids, skip_special_tokens=True))\n",
    "print(\"Loss:\", outputs.loss.item())\n"
   ]
  },
  {
   "cell_type": "code",
   "execution_count": 242,
   "id": "81525efe",
   "metadata": {},
   "outputs": [
    {
     "name": "stdout",
     "output_type": "stream",
     "text": [
      "FIELD SPIN 0 SU3 - 3 SU2 2 U1 - 2 / 3 ID6 FIELD SPIN 0 SU3 3 SU2 2 U1 2 / 3 DAGGER ID0 FIELD SPIN 0 SU2 3 ID8 CONTRACTIONS SU3 ID6 ID6 ID0 SU2 ID6 ID8 SU2 ID0 ID8 + FIELD SPIN 0 SU2 2 U1 3 / 7 ID5 FIELD SPIN 0 SU2 2 U1 - 3 / 7 DAGGER ID9 FIELD SPIN 0 SU2 3 ID0 CONTRACTIONS SU2 ID5 ID0 SU2 ID9 ID0 + FIELD SPIN 0 SU2 3 U1 - 6 ID3 FIELD SPIN 0 SU2 3 U1 6 DAGGER ID7 FIELD SPIN 0 SU2 3 ID8 CONTRACTIONS SU2 ID3 ID7 SU2 ID3 ID8 SU2 ID7 ID8 + FIELD SPIN 0 SU3 - 3 SU2 2 U1 - 2 / 3 ID1 FIELD SPIN 0 SU3 3 SU2 2 U1 2 / 3 DAGGER ID0 FIELD SPIN 0 SU2 2 U1 3 / 7 ID5 FIELD SPIN 0 SU2 2 U1 - 3 / 7 DAGGER ID3 CONTRACTIONS SU3 ID1 ID1 ID0 SU2 ID1 ID5 SU2 ID0 ID3 + FIELD SPIN 0 SU3 - 3 SU2 2 U1 - 2 / 3 ID7 FIELD SPIN 0 SU3 3 SU2 2 U1 2 / 3 DAGGER ID4 FIELD SPIN 0 SU2 2 U1 3 / 7 ID3 FIELD SPIN 0 SU2 2 U1 - 3 / 7 DAGGER ID6 CONTRACTIONS SU3 ID7 ID7 ID4 SU2 ID7 ID4 SU2 ID3 ID6 + FIELD SPIN 0 SU3 - 3 SU2 2 U1 - 2 / 3 ID4 FIELD SPIN 0 SU3 3 SU2 2 U1 2 / 3 DAGGER ID2 FIELD SPIN 0 SU2 3 U1 - 6 ID1 FIELD SPIN 0 SU2 3 U1 6 DAGGER ID9 CONTRACTIONS SU3 ID4 ID4 ID2 SU2 ID4 ID1 SU2 ID2 ID9 SU2 ID1 ID9 + FIELD SPIN 0 SU3 - 3 SU2 2 U1 - 2 / 3 ID5 FIELD SPIN 0 SU3 3 SU2 2 U1 2 / 3 DAGGER ID6 FIELD SPIN 0 SU2 3 U1 - 6 ID0 FIELD SPIN 0 SU2 3 U1 6 DAGGER ID4 CONTRACTIONS SU3 ID5 ID5 ID6 SU2 ID5 ID6 SU2 ID0 ID4 SU2 ID0 ID4 + FIELD SPIN 0 SU3 - 3 SU2 2 U1 - 2 / 3 ID1 FIELD SPIN 0 SU3 3 SU2 2 U1 2 / 3 DAGGER ID7 FIELD SPIN 0 SU2 3 ID8 FIELD SPIN 0 SU2 3 ID0 CONTRACTIONS SU3 ID1 ID1 ID7 SU2 ID1 ID7 SU2 ID8 ID0 SU2 ID8 ID0 + FIELD SPIN 0 SU3 - 3 SU2 2 U1 - 2 / 3 ID3 FIELD SPIN 0 SU3 - 3 SU2 2 U1 - 2 / 3 ID6 FIELD SPIN 0 SU3 3 SU2 2 U1 2 / 3 DAGGER ID8 FIELD SPIN 0 SU3 3 SU2 2 U1 2 / 3 DAGGER ID9 CONTRACTIONS SU3 ID3 ID3 ID8 SU3 ID6 ID6 ID9 SU2 ID3 ID8 SU2 ID6 ID9 + FIELD SPIN 0 SU3 - 3 SU2 2 U1 - 2 / 3 ID3 FIELD SPIN 0 SU3 - 3 SU2 2 U1 - 2 / 3 ID1 FIELD SPIN 0 SU3 3 SU2 2 U1 2 / 3 DAGGER ID7 FIELD SPIN 0 SU3 3 SU2 2 U1 2 / 3 DAGGER ID9 CONTRACTIONS SU3 ID3 ID3 ID7 SU3 ID1 ID1 ID9 SU2 ID3 ID1 SU2 ID7 ID9 + FIELD SPIN 0 SU3 - 3 SU2 2 U1 - 2 / 3 ID0 FIELD SPIN 0 SU3 - 3 SU2 2 U1 - 2 / 3 ID9 FIELD SPIN 0 SU3 3 SU2 2 U1 2 / 3 DAGGER ID2 FIELD SPIN 0 SU3 3 SU2 2 U1 2 / 3 DAGGER ID6 CONTRACTIONS SU3 ID0 ID0 ID9 SU3 ID9 ID2 ID6 SU2 ID0 ID2 SU2 ID9 ID6 + FIELD SPIN 0 SU3 - 3 SU2 2 U1 - 2 / 3 ID9 FIELD SPIN 0 SU3 - 3 SU2 2 U1 - 2 / 3 ID4 FIELD SPIN 0 SU3 3 SU2 2 U1 2 / 3 DAGGER ID0 FIELD SPIN 0 SU3 3 SU2 2 U1 2 / 3 DAGGER ID5 CONTRACTIONS SU3 ID9 ID9 ID4 SU3 ID4 ID0 ID5 SU2 ID9 ID4 SU2 ID0 ID5 + FIELD SPIN 0 SU2 2 U1 3 / 7 ID9 FIELD SPIN 0 SU2 2 U1 - 3 / 7 DAGGER ID8 FIELD SPIN 0 SU2 3 U1 - 6 ID6 FIELD SPIN 0 SU2 3 U1 6 DAGGER ID7 CONTRACTIONS SU2 ID9 ID6 SU2 ID8 ID7 SU2 ID6 ID7 + FIELD SPIN 0 SU2 2 U1 3 / 7 ID8 FIELD SPIN 0 SU2 2 U1 - 3 / 7 DAGGER ID5 FIELD SPIN 0 SU2 3 U1 - 6 ID3 FIELD SPIN 0 SU2 3 U1 6 DAGGER ID7 CONTRACTIONS SU2 ID8 ID5 SU2 ID3 ID7 SU2 ID3 ID7 + FIELD SPIN 0 SU2 2 U1 3 / 7 ID8 FIELD SPIN 0 SU2 2 U1 - 3 / 7 DAGGER ID6 FIELD SPIN 0 SU2 3 ID5 FIELD SPIN 0 SU2 3 ID2 CONTRACTIONS SU2 ID8 ID6 SU2 ID5 ID2 SU2 ID5 ID2 + FIELD SPIN 0 SU2 2 U1 3 / 7 ID3 FIELD SPIN 0 SU2 2 U1 3 / 7 ID0 FIELD SPIN 0 SU2 2 U1 - 3 / 7 DAGGER ID4 FIELD SPIN 0 SU2 2 U1 - 3 / 7 DAGGER ID8 CONTRACTIONS SU2 ID3 ID4 SU2 ID0 ID8 + FIELD SPIN 0 SU2 2 U1 3 / 7 ID1 FIELD SPIN 0 SU2 2 U1 3 / 7 ID2 FIELD SPIN 0 SU2 2 U1 - 3 / 7 DAGGER ID0 FIELD SPIN 0 SU2 2 U1 - 3 / 7 DAGGER ID4 CONTRACTIONS SU2 ID1 ID2 SU2 ID0 ID4 + FIELD SPIN 0 SU2 3 U1 - 6 ID3 FIELD SPIN 0 SU2 3 U1 6 DAGGER ID0 FIELD SPIN 0 SU2 3 ID8 FIELD SPIN 0 SU2 3 ID4 CONTRACTIONS SU2 ID3 ID8 SU2 ID3 ID8 SU2 ID0 ID4 SU2 ID0 ID4 + FIELD SPIN 0 SU2 3 U1 - 6 ID0 FIELD SPIN 0 SU2 3 U1 6 DAGGER ID7 FIELD SPIN 0 SU2 3 ID2 FIELD SPIN 0 SU2 3 ID5 CONTRACTIONS SU2 ID0 ID7 SU2 ID0 ID2 SU2 ID7 ID5 SU2 ID2 ID5 + FIELD SPIN 0 SU2 3 U1 - 6 ID2 FIELD SPIN 0 SU2 3 U1 6 DAGGER ID4 FIELD SPIN 0 SU2 3 ID3 FIELD SPIN 0 SU2 3 ID6 CONTRACTIONS SU2 ID2 ID4 SU2 ID2 ID4 SU2 ID3 ID6 SU2 ID3 ID6 + FIELD SPIN 0 SU2 3 U1 - 6 ID6 FIELD SPIN 0 SU2 3 U1 - 6 ID8 FIELD SPIN 0 SU2 3 U1 6 DAGGER ID3 FIELD SPIN 0 SU2 3 U1 6 DAGGER ID0 CONTRACTIONS SU2 ID6 ID3 SU2 ID6 ID3 SU2 ID8 ID0 SU2 ID8 ID0 + FIELD SPIN 0 SU2 3 U1 - 6 ID3 FIELD SPIN 0 SU2 3 U1 - 6 ID7 FIELD SPIN 0 SU2 3 U1 6 DAGGER ID2 FIELD SPIN 0 SU2 3 U1 6 DAGGER ID5 CONTRACTIONS SU2 ID3 ID7 SU2 ID3 ID2 SU2 ID7 ID5 SU2 ID2 ID5 + FIELD SPIN 0 SU2 3 U1 - 6 ID9 FIELD SPIN 0 SU2 3 U1 - 6 ID5 FIELD SPIN 0 SU2 3 U1 6 DAGGER ID6 FIELD SPIN 0 SU2 3 U1 6 DAGGER ID3 CONTRACTIONS SU2 ID9 ID5 SU2 ID9 ID5 SU2 ID6 ID3 SU2 ID6 ID3 + FIELD SPIN 0 SU2 3 ID2 FIELD SPIN 0 SU2 3 ID7 FIELD SPIN 0 SU2 3 ID4 FIELD SPIN 0 SU2 3 ID0 CONTRACTIONS SU2 ID2 ID4 SU2 ID2 ID4 SU2 ID7 ID0 SU2 ID7 ID0 + FIELD SPIN 0 SU2 3 ID5 FIELD SPIN 0 SU2 3 ID4 FIELD SPIN 0 SU2 3 ID6 FIELD SPIN 0 SU2 3 ID1 CONTRACTIONS SU2 ID5 ID4 SU2 ID5 ID6 SU2 ID4 ID1 SU2 ID6 ID1 + FIELD SPIN 0 SU2 3 ID4 FIELD SPIN 0 SU2 3 ID8 FIELD SPIN 0 SU2 3 ID6 FIELD SPIN 0 SU2 3 ID9 CONTRACTIONS SU2 ID4 ID8 SU2 ID4 ID8 SU2 ID6 ID9 SU2 ID6 ID9 + DERIVATIVE SU3 SU2 U1 ID0 FIELD SPIN 0 SU3 3 SU2 2 U1 2 / 3 DAGGER ID6 DERIVATIVE SU3 SU2 U1 ID9 FIELD SPIN 0 SU3 - 3 SU2 2 U1 - 2 / 3 ID3 CONTRACTIONS LORENTZ ID0 ID9 SU3 ID6 ID3 SU2 ID6 ID3 + i FIELD SPIN 1 / 2 U1 - 8 HEL 1 / 2 ID2 SIGMA_BAR ID4 DERIVATIVE U1 ID8 FIELD SPIN 1 / 2 U1 8 HEL - 1 / 2 DAGGER ID6 CONTRACTIONS LORENTZ ID4 ID8 LORENTZ ID4 ID2 ID6 + DERIVATIVE SU2 U1 ID6 FIELD SPIN 0 SU2 2 U1 - 3 / 7 DAGGER ID4 DERIVATIVE SU2 U1 ID7 FIELD SPIN 0 SU2 2 U1 3 / 7 ID5 CONTRACTIONS LORENTZ ID6 ID7 SU2 ID4 ID5 + DERIVATIVE SU2 U1 ID6 FIELD SPIN 0 SU2 3 U1 6 DAGGER ID9 DERIVATIVE SU2 U1 ID2 FIELD SPIN 0 SU2 3 U1 - 6 ID0 CONTRACTIONS LORENTZ ID6 ID2 SU2 ID9 ID0 + i FIELD SPIN 1 / 2 SU3 - 3 SU2 2 U1 - 1 HEL 1 / 2 DAGGER ID7 SIGMA_BAR ID6 DERIVATIVE SU3 SU2 U1 ID8 FIELD SPIN 1 / 2 SU3 3 SU2 2 U1 1 HEL - 1 / 2 ID3 CONTRACTIONS LORENTZ ID6 ID8 LORENTZ ID6 ID7 ID3 SU3 ID7 ID3 SU2 ID7 ID3 + DERIVATIVE SU2 ID4 FIELD SPIN 0 SU2 3 DAGGER ID8 DERIVATIVE SU2 ID3 FIELD SPIN 0 SU2 3 ID1 CONTRACTIONS LORENTZ ID4 ID3 SU2 ID8 ID1 - COMMUTATOR_A DERIVATIVE SU3 ID8 COMMUTATOR_B DERIVATIVE SU3 ID7 COMMUTATOR_A DERIVATIVE SU3 ID6 COMMUTATOR_B DERIVATIVE SU3 ID5 CONTRACTIONS LORENTZ ID8 ID6 LORENTZ ID7 ID5 - COMMUTATOR_A DERIVATIVE SU2 ID6 COMMUTATOR_B DERIVATIVE SU2 ID3 COMMUTATOR_A DERIVATIVE SU2 ID2 COMMUTATOR_B DERIVATIVE SU2 ID5 CONTRACTIONS LORENTZ ID6 ID2 LORENTZ ID3 ID5 - COMMUTATOR_A DERIVATIVE U1 ID0 COMMUTATOR_B DERIVATIVE U1 ID6 COMMUTATOR_A DERIVATIVE U1 ID7 COMMUTATOR_B DERIVATIVE U1 ID1 CONTRACTIONS LORENTZ ID0 ID7 LORENTZ ID6 ID1 + FIELD SPIN 0 SU3 3 SU2 2 U1 2 / 3 DAGGER ID3 FIELD SPIN 0 SU3 - 3 SU2 2 U1 - 2 / 3 ID8 CONTRACTIONS SU3 ID3 ID8 SU2 ID3 ID8 + FIELD SPIN 0 SU2 2 U1 - 3 / 7 DAGGER ID8 FIELD SPIN 0 SU2 2 U1 3 / 7 ID4 CONTRACTIONS SU2 ID8 ID4 + FIELD SPIN 0 SU2 3 U1 6 DAGGER ID9 FIELD SPIN 0 SU2 3 U1 - 6 ID7 CONTRACTIONS SU2 ID9 ID7 + FIELD SPIN 0 SU2 3 DAGGER ID5 FIELD SPIN 0 SU2 3 ID2 CONTRACTIONS SU2 ID5 ID2\n",
      "+ 0 SU3 - 3 SU2 2 U1 - 2 / 3 ID3 FIELD SPIN 0 SU3 3 SU2 2 U1 2 / 3 DAGGER ID7 FIELD SPIN 0 SU2 3 ID2 CONTRACTIONS SU3 ID6 ID6 ID0 SU2 ID6 ID8 SU2 ID0 ID8 + FIELD SPIN 0 SU2 2 U1 3 / 7 ID7 FIELD SPIN 0 SU2 2 U1 - 3 / 7 DAGGER ID2 FIELD SPIN 0 SU2 3 ID2 CONTRACTIONS SU2 ID5 ID0 SU2 ID9 ID0 + FIELD SPIN 0 SU2 3 U1 - 6 ID0 FIELD SPIN 0 SU2 3 U1 6 DAGGER ID5 FIELD SPIN 0 SU2 3 ID5 CONTRACTIONS SU2 ID3 ID7 SU2 ID3 ID8 SU2 ID7 ID8 + FIELD SPIN 0 SU3 - 3 SU2 2 U1 - 2 / 3 ID2 FIELD SPIN 0 SU3 3 SU2 2 U1 2 / 3 DAGGER ID9 FIELD SPIN 0 SU2 2 U1 3 / 7 ID6 FIELD SPIN 0 SU2 2 U1 - 3 / 7 DAGGER ID9 CONTRACTIONS SU3 ID1 ID1 ID0 SU2 ID1 ID5 SU2 ID0 ID3 + FIELD SPIN 0 SU3 - 3 SU2 2 U1 - 2 / 3 ID7 FIELD SPIN 0 SU3 3 SU2 2 U1 2 / 3 DAGGER ID6 FIELD SPIN 0 SU2 2 U1 3 / 7 ID9 FIELD SPIN 0 SU2 2 U1 - 3 / 7 DAGGER ID6 CONTRACTIONS SU3 ID7 ID7 ID4 SU2 ID7 ID4 SU2 ID3 ID6 + FIELD SPIN 0 SU3 - 3 SU2 2 U1 - 2 / 3 ID2 FIELD SPIN 0 SU3 3 SU2 2 U1 2 / 3 DAGGER ID6 FIELD SPIN 0 SU2 3 U1 - 6 ID6 FIELD SPIN 0 SU2 3 U1 6 DAGGER ID0 CONTRACTIONS SU3 ID4 ID4 ID2 SU2 ID4 ID1 SU2 ID2 ID9 SU2 ID1 ID9 + FIELD SPIN 0 SU3 - 3 SU2 2 U1 - 2 / 3 ID2 FIELD SPIN 0 SU3 3 SU2 2 U1 2 / 3 DAGGER ID2 FIELD SPIN 0 SU2 3 U1 - 6 ID0 FIELD SPIN 0 SU2 3 U1 6 DAGGER ID2 CONTRACTIONS SU3 ID5 ID5 ID6 SU2 ID5 ID6 SU2 ID0 ID4 SU2 ID0 ID4 + FIELD SPIN 0 SU3 - 3 SU2 2 U1 - 2 / 3 ID2 FIELD SPIN 0 SU3 3 SU2 2 U1 2 / 3 DAGGER ID6 FIELD SPIN 0 SU2 3 ID5 FIELD SPIN 0 SU2 3 ID5 CONTRACTIONS SU3 ID1 ID1 ID7 SU2 ID1 ID7 SU2 ID8 ID0 SU2 ID8 ID0 + FIELD SPIN 0 SU3 - 3 SU2 2 U1 - 2 / 3 ID2 FIELD SPIN 0 SU3 - 3 SU2 2 U1 - 2 / 3 ID6 FIELD SPIN 0 SU3 3 SU2 2 U1 2 / 3 DAGGER ID0 FIELD SPIN 0 SU3 3 SU2 2 U1 2 / 3 DAGGER ID0 CONTRACTIONS SU3 ID3 ID3 ID8 SU3 ID6 ID6 ID9 SU2 ID3 ID8 SU2 ID6 ID9 + FIELD SPIN 0 SU3 - 3 SU2 2 U1 - 2 / 3 ID0 FIELD SPIN 0 SU3 - 3 SU2 2 U1 - 2 / 3 ID6 FIELD SPIN 0 SU3 3 SU2 2 U1 2 / 3 DAGGER ID6 FIELD SPIN 0 SU3 3 SU2 2 U1 2 / 3 DAGGER ID0 CONTRACTIONS SU3 ID3 ID3 ID7 SU3 ID1 ID1 ID9 SU2 ID3 ID1 SU2 ID7 ID9 + FIELD SPIN 0 SU3 - 3 SU2 2 U1 - 2 / 3 ID0 FIELD SPIN 0 SU3 - 3 SU2 2 U1 - 2 / 3 ID7 FIELD SPIN 0 SU3 3 SU2 2 U1 2 / 3 DAGGER ID2 FIELD SPIN 0 SU3 3 SU2 2 U1 2 / 3 DAGGER ID4 CONTRACTIONS SU3 ID0 ID0 ID9 SU3 ID9 ID2 ID6 SU2 ID0 ID2 SU2 ID9 ID6 + FIELD SPIN 0 SU3 - 3 SU2 2 U1 - 2 / 3 ID0 FIELD SPIN 0 SU3 - 3 SU2 2 U1 - 2 / 3 ID8 FIELD SPIN 0 SU3 3 SU2 2 U1 2 / 3 DAGGER ID8 FIELD SPIN 0 SU3 3 SU2 2 U1 2 / 3 DAGGER ID2 CONTRACTIONS SU3 ID9 ID9 ID4 SU3 ID4 ID0 ID5 SU2 ID9 ID4 SU2 ID0 ID5 + FIELD SPIN 0 SU2 2 U1 3 / 7 ID8 FIELD SPIN 0 SU2 2 U1 - 3 / 7 DAGGER ID8 FIELD SPIN 0 SU2 3 U1 - 6 ID4 FIELD SPIN 0 SU2 3 U1 6 DAGGER ID5 CONTRACTIONS SU2 ID9 ID6 SU2 ID8 ID7 SU2 ID6 ID7 + FIELD SPIN 0 SU2 2 U1 3 / 7 ID7 FIELD SPIN 0 SU2 2 U1 - 3 / 7 DAGGER ID6 FIELD SPIN 0 SU2 3 U1 - 6 ID6 FIELD SPIN 0 SU2 3 U1 6 DAGGER ID6 CONTRACTIONS SU2 ID8 ID5 SU2 ID3 ID7 SU2 ID3 ID7 + FIELD SPIN 0 SU2 2 U1 3 / 7 ID8 FIELD SPIN 0 SU2 2 U1 - 3 / 7 DAGGER ID6 FIELD SPIN 0 SU2 3 ID4 FIELD SPIN 0 SU2 3 ID2 CONTRACTIONS SU2 ID8 ID6 SU2 ID5 ID2 SU2 ID5 ID2 + FIELD SPIN 0 SU2 2 U1 3 / 7 ID8 FIELD SPIN 0 SU2 2 U1 3 / 7 ID6 FIELD SPIN 0 SU2 2 U1 - 3 / 7 DAGGER ID6 FIELD SPIN 0 SU2 2 U1 - 3 / 7 DAGGER ID6 CONTRACTIONS SU2 ID3 ID4 SU2 ID0 ID8 + FIELD SPIN 0 SU2 2 U1 3 / 7 ID4 FIELD SPIN 0 SU2 2 U1 3 / 7 ID3 FIELD SPIN 0 SU2 2 U1 - 3 / 7 DAGGER ID4 FIELD SPIN 0 SU2 2 U1 - 3 / 7 DAGGER ID6 CONTRACTIONS SU2 ID1 ID2 SU2 ID0 ID4 + FIELD SPIN 0 SU2 3 U1 - 6 ID7 FIELD SPIN 0 SU2 3 U1 6 DAGGER ID6 FIELD SPIN 0 SU2 3 ID6 FIELD SPIN 0 SU2 3 ID6 CONTRACTIONS SU2 ID3 ID8 SU2 ID3 ID8 SU2 ID0 ID4 SU2 ID0 ID4 + FIELD SPIN 0 SU2 3 U1 - 6 ID7 FIELD SPIN 0 SU2 3 U1 6 DAGGER ID6 FIELD SPIN 0 SU2 3 ID9 FIELD SPIN 0 SU2 3 ID4 CONTRACTIONS SU2 ID0 ID7 SU2 ID0 ID2 SU2 ID7 ID5 SU2 ID2 ID5 + FIELD SPIN 0 SU2 3 U1 - 6 ID7 FIELD SPIN 0 SU2 3 U1 6 DAGGER ID4 FIELD SPIN 0 SU2 3 ID5 FIELD SPIN 0 SU2 3 ID6 CONTRACTIONS SU2 ID2 ID4 SU2 ID2 ID4 SU2 ID3 ID6 SU2 ID3 ID6 + FIELD SPIN 0 SU2 3 U1 - 6 ID3 FIELD SPIN 0 SU2 3 U1 - 6 ID7 FIELD SPIN 0 SU2 3 U1 6 DAGGER ID0 FIELD SPIN 0 SU2 3 U1 6 DAGGER ID0 CONTRACTIONS SU2 ID6 ID3 SU2 ID6 ID3 SU2 ID8 ID0 SU2 ID8 ID0 + FIELD SPIN 0 SU2 3 U1 - 6 ID7 FIELD SPIN 0 SU2 3 U1 - 6 ID6 FIELD SPIN 0 SU2 3 U1 6 DAGGER ID6 FIELD SPIN 0 SU2 3 U1 6 DAGGER ID6 CONTRACTIONS SU2 ID3 ID7 SU2 ID3 ID2 SU2 ID7 ID5 SU2 ID2 ID5 + FIELD SPIN 0 SU2 3 U1 - 6 ID7 FIELD SPIN 0 SU2 3 U1 - 6 ID8 FIELD SPIN 0 SU2 3 U1 6 DAGGER ID6 FIELD SPIN 0 SU2 3 U1 6 DAGGER ID0 CONTRACTIONS SU2 ID9 ID5 SU2 ID9 ID5 SU2 ID6 ID3 SU2 ID6 ID3 + FIELD SPIN 0 SU2 3 ID5 FIELD SPIN 0 SU2 3 ID3 FIELD SPIN 0 SU2 3 ID0 FIELD SPIN 0 SU2 3 ID0 CONTRACTIONS SU2 ID2 ID4 SU2 ID2 ID4 SU2 ID7 ID0 SU2 ID7 ID0 + FIELD SPIN 0 SU2 3 ID3 FIELD SPIN 0 SU2 3 ID2 FIELD SPIN 0 SU2 3 ID6 FIELD SPIN 0 SU2 3 ID0 CONTRACTIONS SU2 ID5 ID4 SU2 ID5 ID6 SU2 ID4 ID1 SU2 ID6 ID1 + FIELD SPIN 0 SU2 3 ID8 FIELD SPIN 0 SU2 3 ID8 FIELD SPIN 0 SU2 3 ID6 FIELD SPIN 0 SU2 3 ID1 CONTRACTIONS SU2 ID4 ID8 SU2 ID4 ID8 SU2 ID6 ID9 SU2 ID6 ID9 + DERIVATIVE SU3 SU2 U1 ID6 FIELD SPIN 0 SU3 3 SU2 2 U1 2 / 3 DAGGER ID6 DERIVATIVE SU3 SU2 U1 ID9 FIELD SPIN 0 SU3 - 3 SU2 2 U1 - 2 / 3 ID8 CONTRACTIONS LORENTZ ID0 ID9 SU3 ID6 ID3 SU2 ID6 ID3 + i FIELD SPIN 1 / 2 U1 - 8 HEL 1 / 2 ID4 SIGMA_BAR ID4 DERIVATIVE U1 ID0 FIELD SPIN 1 / 2 U1 8 HEL - 1 / 2 DAGGER ID6 CONTRACTIONS LORENTZ ID4 ID8 LORENTZ ID4 ID2 ID6 + DERIVATIVE SU2 U1 ID6 FIELD SPIN 0 SU2 2 U1 - 3 / 7 DAGGER ID7 DERIVATIVE SU2 U1 ID9 FIELD SPIN 0 SU2 2 U1 3 / 7 ID2 CONTRACTIONS LORENTZ ID6 ID7 SU2 ID4 ID5 + DERIVATIVE SU2 U1 ID6 FIELD SPIN 0 SU2 3 U1 6 DAGGER ID7 DERIVATIVE SU2 U1 ID8 FIELD SPIN 0 SU2 3 U1 - 6 ID4 CONTRACTIONS LORENTZ ID6 ID2 SU2 ID9 ID0 + i FIELD SPIN 1 / 2 SU3 - 3 SU2 2 U1 - 1 HEL 1 / 2 DAGGER ID4 SIGMA_BAR ID6 DERIVATIVE SU3 SU2 U1 ID0 FIELD SPIN 1 / 2 SU3 3 SU2 2 U1 1 HEL - 1 / 2 ID2 CONTRACTIONS LORENTZ ID6 ID8 LORENTZ ID6 ID7 ID3 SU3 ID7 ID3 SU2 ID7 ID3 + DERIVATIVE SU2 ID5 FIELD SPIN 0 SU2 3 DAGGER ID6 DERIVATIVE SU2 ID6 FIELD SPIN 0 SU2 3 ID6 CONTRACTIONS LORENTZ ID4 ID3 SU2 ID8 ID1 - COMMUTATOR_A DERIVATIVE SU3 ID4 COMMUTATOR_B DERIVATIVE SU3 ID6 COMMUTATOR_A DERIVATIVE SU3 ID6 COMMUTATOR_B DERIVATIVE SU3 ID0 CONTRACTIONS LORENTZ ID8 ID6 LORENTZ ID7 ID5 - COMMUTATOR_A DERIVATIVE SU2 ID7 COMMUTATOR_B DERIVATIVE SU2 ID7 COMMUTATOR_A DERIVATIVE SU2 ID0 COMMUTATOR_B DERIVATIVE SU2 ID0 CONTRACTIONS LORENTZ ID6 ID2 LORENTZ ID3 ID5 - COMMUTATOR_A DERIVATIVE U1 ID3 COMMUTATOR_B DERIVATIVE U1 ID4 COMMUTATOR_A DERIVATIVE U1 ID4 COMMUTATOR_B DERIVATIVE U1 ID8 CONTRACTIONS LORENTZ ID0 ID7 LORENTZ ID6 ID1 + FIELD SPIN 0 SU3 3 SU2 2 U1 2 / 3 DAGGER ID6 FIELD SPIN 0 SU3 - 3 SU2 2 U1 - 2 / 3 ID6 CONTRACTIONS SU3 ID3 ID8 SU2 ID3 ID8 + FIELD SPIN 0 SU2 2 U1 - 3 / 7 DAGGER ID7 FIELD SPIN 0 SU2 2 U1 3 / 7 ID6 CONTRACTIONS SU2 ID8 ID4 + FIELD SPIN 0 SU2 3 U1 6 DAGGER ID0 FIELD SPIN 0 SU2 3 U1 - 6 ID8 CONTRACTIONS SU2 ID9 ID7 + FIELD SPIN 0 SU2 3 DAGGER ID4 FIELD SPIN 0 SU2 3 ID8 CONTRACTIONS SU2 ID5 ID2\n"
     ]
    }
   ],
   "source": [
    "predicted_token_ids = torch.argmax(logits, dim=-1)  # shape: [batch_size, seq_len]\n",
    "predicted_token_ids\n",
    "\n",
    "\n",
    "print(example_scenario[\"Lagrangian\"].iloc[0][2:])\n",
    "print(hf_tokenizer.decode(predicted_token_ids[0], skip_special_tokens=True))"
   ]
  },
  {
   "cell_type": "code",
   "execution_count": 230,
   "id": "3c94e9ca",
   "metadata": {},
   "outputs": [
    {
     "name": "stdout",
     "output_type": "stream",
     "text": [
      "Per-token cross-entropy losses: tensor([[1.9444e+01, 1.3005e+01, 2.2073e+01, 1.8815e+01, 1.6045e+01, 1.2410e+01,\n",
      "         2.3802e+01, 1.9493e+01, 2.2680e+01, 1.8794e+01, 2.1880e+01, 1.4873e+01,\n",
      "         2.0800e+01, 1.3893e+01, 1.9184e+01, 2.4472e+01, 2.1488e+01, 2.2936e+01,\n",
      "         1.3576e+01, 2.0572e+01, 2.1843e+01, 2.3822e+01, 2.0179e+01, 2.0703e+01,\n",
      "         2.1193e+01, 2.2630e+01, 1.3667e+01, 1.8904e+01, 2.3639e+01, 2.1629e+01,\n",
      "         1.9202e+01, 2.1735e+01, 2.1461e+01, 2.4154e+01, 1.9738e+01, 1.6884e+01,\n",
      "         2.2554e+01, 1.9614e+01, 2.0613e+01, 2.3971e+01, 1.3900e+01, 1.7952e+01,\n",
      "         2.2721e+01, 2.1232e+01, 2.1550e+01, 2.2444e+01, 2.3057e+01, 2.3532e+01,\n",
      "         2.0307e+01, 1.6828e+01, 2.2677e+01, 2.0301e+01, 2.1447e+01, 2.3034e+01,\n",
      "         1.4767e+01, 2.0449e+01, 2.0951e+01, 3.5763e-07, 1.4243e+01, 1.3956e+01,\n",
      "         2.2391e+01, 3.5763e-07, 1.6393e+01, 2.1662e+01, 2.2622e+01, 1.5860e+01,\n",
      "         1.7052e+01, 2.1908e+01, 1.5469e+01, 1.6800e+01, 2.2765e+01, 1.7879e+01,\n",
      "         1.8615e+01, 2.2926e+01, 1.7769e+01, 1.6942e+01, 1.6185e+01, 1.8685e+01,\n",
      "         2.1031e+01, 2.0513e+01, 2.1274e+01, 1.8700e+01, 1.9746e+01, 2.0296e+01,\n",
      "         2.4306e+01, 1.8901e+01, 2.2898e+01, 1.9340e+01, 2.3133e+01, 1.3935e+01,\n",
      "         1.9776e+01, 2.3417e+01, 1.9563e+01, 2.3083e+01, 1.7297e+01, 1.9103e+01,\n",
      "         2.1905e+01, 2.4536e+01, 1.9866e+01, 2.1064e+01, 2.0465e+01, 2.3626e+01,\n",
      "         1.3758e+01, 2.0450e+01, 2.2363e+01, 2.0675e+01, 2.0352e+01, 2.2906e+01,\n",
      "         2.0400e+01, 2.4311e+01, 2.1525e+01, 1.7838e+01, 2.3996e+01, 1.8952e+01,\n",
      "         2.1282e+01, 2.3750e+01, 1.4153e+01, 1.7918e+01, 2.2054e+01, 2.1354e+01,\n",
      "         2.0537e+01, 2.1901e+01, 2.1602e+01, 2.3845e+01, 2.0201e+01, 1.8061e+01,\n",
      "         2.2886e+01, 2.0037e+01, 2.0826e+01, 2.3917e+01, 1.4733e+01, 2.0161e+01,\n",
      "         2.1561e+01, 5.9605e-07, 1.6010e+01, 1.8111e+01, 2.3730e+01, 2.3842e-07,\n",
      "         1.6754e+01, 2.0762e+01, 2.3419e+01, 1.7272e+01, 1.7150e+01, 2.2370e+01,\n",
      "         1.5592e+01, 1.7388e+01, 2.1767e+01, 1.6782e+01, 1.7174e+01, 2.4395e+01,\n",
      "         1.9172e+01, 1.5293e+01, 1.7025e+01, 1.7658e+01, 2.1849e+01, 1.9584e+01,\n",
      "         1.9917e+01, 1.9191e+01, 1.8261e+01, 2.0130e+01, 2.3866e+01, 1.8891e+01,\n",
      "         2.3290e+01, 1.8604e+01, 2.3172e+01, 1.3938e+01, 1.8026e+01, 2.3153e+01,\n",
      "         1.9189e+01, 2.2769e+01, 1.9267e+01, 1.8471e+01, 2.1779e+01, 2.4671e+01,\n",
      "         1.9656e+01, 2.1301e+01, 1.9734e+01, 2.2554e+01, 1.3919e+01, 2.1048e+01,\n",
      "         2.2290e+01, 2.1042e+01, 2.1195e+01, 2.2571e+01, 1.9664e+01, 2.4176e+01,\n",
      "         2.1473e+01, 1.7542e+01, 2.4305e+01, 1.8251e+01, 2.1466e+01, 2.4008e+01,\n",
      "         1.4023e+01, 1.9809e+01, 2.1988e+01, 2.0738e+01, 2.1269e+01, 2.0687e+01,\n",
      "         2.0634e+01, 2.3873e+01, 2.0609e+01, 1.8159e+01, 2.3572e+01, 1.9199e+01,\n",
      "         2.0926e+01, 2.4099e+01, 1.5284e+01, 1.9767e+01, 2.0939e+01, 4.7684e-07,\n",
      "         1.5519e+01, 1.3221e+01, 2.3048e+01, 2.3842e-07, 1.6660e+01, 2.0486e+01,\n",
      "         2.2537e+01, 1.7204e+01, 1.5903e+01, 2.2889e+01, 1.6329e+01, 1.5794e+01,\n",
      "         1.9135e+01, 1.6209e+01, 1.5274e+01, 2.2928e+01, 1.9736e+01, 1.6186e+01,\n",
      "         1.6326e+01, 1.6815e+01, 2.3049e+01, 1.9981e+01, 2.0072e+01, 1.9049e+01,\n",
      "         2.0715e+01, 2.1313e+01, 2.4396e+01, 1.9216e+01, 2.3783e+01, 1.8931e+01,\n",
      "         2.1709e+01, 1.3852e+01, 2.0726e+01, 2.3525e+01, 1.9876e+01, 2.2030e+01,\n",
      "         1.9662e+01, 2.0171e+01, 2.2299e+01, 2.5027e+01, 1.9727e+01, 2.2081e+01,\n",
      "         1.9235e+01, 2.2977e+01, 1.3609e+01, 2.0196e+01, 2.2806e+01, 2.0893e+01,\n",
      "         2.0623e+01, 2.2711e+01, 1.9730e+01, 2.4623e+01, 2.1559e+01, 1.7556e+01,\n",
      "         2.5464e+01, 1.7863e+01, 2.1654e+01, 2.4645e+01, 1.3644e+01, 1.8881e+01,\n",
      "         2.2457e+01, 2.1008e+01, 2.1014e+01, 2.1944e+01, 2.0837e+01, 2.3762e+01,\n",
      "         2.0781e+01, 1.8165e+01, 2.4136e+01, 1.9252e+01, 2.1342e+01, 2.4053e+01,\n",
      "         1.5346e+01, 1.9060e+01, 2.1702e+01, 3.5763e-07, 1.6319e+01, 1.9105e+01,\n",
      "         2.4208e+01, 1.8027e+01, 1.3106e+01, 2.1828e+01, 2.3083e+01, 1.9468e+01,\n",
      "         1.7280e+01, 2.5473e+01, 1.9289e+01, 1.5099e+01, 2.0021e+01, 1.3586e+01,\n",
      "         1.5120e+01, 2.3888e+01, 1.3472e+01, 1.7216e+01, 1.6177e+01, 1.6692e+01,\n",
      "         2.2836e+01, 1.7455e+01, 2.0641e+01, 1.9181e+01, 2.1485e+01, 2.0610e+01,\n",
      "         2.4614e+01, 1.9327e+01, 2.4510e+01, 1.8400e+01, 2.1638e+01, 1.3789e+01,\n",
      "         2.0791e+01, 2.3502e+01, 1.8911e+01, 2.2846e+01, 1.9420e+01, 2.1632e+01,\n",
      "         2.1803e+01, 2.5339e+01, 1.9529e+01, 2.3171e+01, 1.8468e+01, 2.2670e+01,\n",
      "         1.3712e+01, 1.8695e+01, 2.2564e+01, 2.0223e+01, 2.0636e+01, 2.2061e+01,\n",
      "         2.0573e+01, 2.4960e+01, 2.1243e+01, 1.7345e+01, 2.5973e+01, 1.7991e+01,\n",
      "         2.2155e+01, 2.4499e+01, 1.3993e+01, 1.8213e+01, 2.2368e+01, 2.1045e+01,\n",
      "         2.0096e+01, 2.1396e+01, 2.1139e+01, 2.3356e+01, 2.0609e+01, 1.7868e+01,\n",
      "         2.4942e+01, 1.9746e+01, 2.1700e+01, 2.4602e+01, 1.5410e+01, 1.8803e+01,\n",
      "         2.2025e+01, 3.5763e-07, 1.4936e+01, 1.6989e+01, 2.5355e+01, 1.6678e+01,\n",
      "         1.4240e+01, 1.7415e+01, 2.3461e+01, 1.8131e+01, 1.8313e+01, 2.3995e+01,\n",
      "         1.7069e+01, 1.3463e+01, 2.2200e+01, 1.4765e+01, 1.8394e+01, 2.4530e+01,\n",
      "         1.5687e+01, 1.5979e+01, 1.8055e+01, 1.2493e+01, 2.3256e+01, 2.0452e+01,\n",
      "         1.7910e+01, 1.4764e+01, 2.2341e+01, 2.2269e+01, 2.3306e+01, 2.0019e+01,\n",
      "         2.4912e+01, 2.0233e+01, 2.1388e+01, 1.3914e+01, 1.9139e+01, 2.3513e+01,\n",
      "         2.1110e+01, 2.2860e+01, 1.9489e+01, 2.1218e+01, 2.2676e+01, 2.4398e+01,\n",
      "         1.9791e+01, 2.3847e+01, 2.0157e+01, 2.2144e+01, 1.3862e+01, 1.8874e+01,\n",
      "         2.2468e+01, 2.1134e+01, 2.2549e+01, 2.1580e+01, 2.2085e+01, 2.4382e+01,\n",
      "         2.1096e+01, 1.6319e+01, 2.5961e+01, 1.9828e+01, 2.2116e+01, 2.5302e+01,\n",
      "         1.4174e+01, 1.6499e+01, 2.1895e+01, 2.1752e+01, 2.1392e+01, 2.1190e+01,\n",
      "         2.2250e+01, 2.2901e+01, 2.0248e+01, 1.6996e+01, 2.5349e+01, 2.0172e+01,\n",
      "         2.2054e+01, 2.4479e+01, 1.5137e+01, 2.0922e+01, 2.1957e+01, 9.5367e-07,\n",
      "         1.7048e+01, 1.7962e+01, 2.5917e+01, 1.6470e+01, 1.5680e+01, 2.2666e+01,\n",
      "         2.2573e+01, 1.9811e+01, 1.7426e+01, 2.1923e+01, 1.9770e+01, 1.6771e+01,\n",
      "         2.2733e+01, 1.4455e+01, 1.5357e+01, 2.1212e+01, 1.6210e+01, 1.6953e+01,\n",
      "         1.9592e+01, 1.5593e+01, 2.2297e+01, 2.1701e+01, 2.0602e+01, 1.3923e+01,\n",
      "         1.9659e+01, 2.3480e+01, 1.8522e+01, 1.8358e+01, 2.3661e+01, 1.8286e+01,\n",
      "         2.3452e+01, 2.2368e+01, 1.6619e+01, 2.4829e+01, 1.8930e+01, 2.2436e+01,\n",
      "         2.5533e+01, 1.5165e+01, 1.8792e+01, 2.1979e+01, 2.1531e+01, 2.1826e+01,\n",
      "         1.4151e+01, 1.7776e+01, 2.2761e+01, 2.1138e+01, 2.1893e+01, 1.7632e+01,\n",
      "         2.2799e+01, 2.1015e+01, 2.4039e+01, 1.9270e+01, 2.3771e+01, 1.8861e+01,\n",
      "         2.1859e+01, 1.4807e+01, 2.1612e+01, 2.8297e+01, 1.4723e+01, 1.6700e+01,\n",
      "         2.2697e+01, 1.7414e+01, 1.8540e+01, 2.2552e+01, 1.7680e+01, 1.9127e+01,\n",
      "         1.5118e+01, 1.7618e+01, 1.7542e+01, 2.0405e+01, 1.7160e+01, 1.6650e+01,\n",
      "         2.3327e+01, 1.9156e+01, 2.2550e+01, 1.5950e+01, 2.3034e+01, 1.7443e+01,\n",
      "         1.9289e+01, 1.8228e+01, 2.2964e+01, 2.3322e+01, 1.7977e+01, 1.9131e+01,\n",
      "         2.0302e+01, 1.7108e+01, 2.3952e+01, 1.4963e+01, 2.0244e+01, 2.2302e+01,\n",
      "         2.0477e+01, 2.1058e+01, 1.3937e+01, 1.9037e+01, 1.7997e+01, 1.8595e+01,\n",
      "         2.0072e+01, 2.3613e+01, 2.2300e+01, 1.8943e+01, 2.4104e+01, 2.1056e+01,\n",
      "         2.3573e+01, 2.0928e+01, 1.7777e+01, 2.2951e+01, 2.1269e+01, 2.1948e+01,\n",
      "         2.0952e+01, 1.6435e+01, 2.0611e+01, 1.8737e+01, 2.2094e+01, 2.2300e+01,\n",
      "         1.4946e+01, 2.0280e+01, 2.7733e+01, 1.7200e+01, 1.6988e+01, 2.4553e+01,\n",
      "         1.6705e+01, 1.6900e+01, 1.3167e+01, 2.4071e+01, 1.7001e+01, 1.9623e+01,\n",
      "         2.2495e+01, 1.8291e+01, 1.7352e+01, 1.5552e+01, 2.3612e+01, 2.4326e+01,\n",
      "         2.1100e+01, 1.6614e+01, 2.8060e+01, 2.4955e+01, 2.2396e+01, 1.6373e+01,\n",
      "         1.7637e+01, 2.5948e+01, 2.3310e+01, 1.6776e+01, 2.9065e+01, 2.6246e+01,\n",
      "         2.2421e+01, 1.5467e+01, 1.7486e+01, 2.9394e+01, 1.7472e+01, 1.7728e+01,\n",
      "         2.8665e+01, 1.7900e+01, 1.5554e+01, 1.6791e+01, 2.3715e+01, 2.3159e+01,\n",
      "         2.0909e+01, 1.6617e+01, 2.9103e+01, 2.7040e+01, 2.1709e+01, 1.6069e+01,\n",
      "         2.2087e+01, 2.5201e+01, 2.2407e+01, 1.6999e+01, 3.1387e+01, 2.5560e+01,\n",
      "         2.2053e+01, 1.5075e+01, 2.0017e+01, 2.7972e+01, 1.8341e+01, 1.5035e+01,\n",
      "         2.8378e+01, 1.8158e+01, 1.7714e+01, 1.8741e+01, 2.2820e+01, 2.1194e+01,\n",
      "         2.1752e+01, 1.6551e+01, 2.9228e+01, 2.5509e+01, 2.1678e+01, 1.6036e+01,\n",
      "         2.3364e+01, 2.4004e+01, 2.1336e+01, 1.6475e+01, 3.0540e+01, 2.1696e+01,\n",
      "         2.1318e+01, 1.5063e+01, 1.9375e+01, 2.5511e+01, 1.7575e+01, 1.5735e+01,\n",
      "         2.5905e+01, 1.7640e+01, 1.7621e+01, 1.8448e+01, 1.7440e+01, 2.0380e+01,\n",
      "         2.1202e+01, 1.9259e+01, 2.3294e+01, 1.8591e+01, 2.2722e+01, 2.1328e+01,\n",
      "         1.5313e+01, 2.6109e+01, 1.8959e+01, 2.2770e+01, 2.3790e+01, 1.3784e+01,\n",
      "         1.9300e+01, 2.0440e+01, 2.0046e+01, 2.2560e+01, 1.8089e+01, 2.2695e+01,\n",
      "         2.0201e+01, 2.3704e+01, 1.9831e+01, 2.2308e+01, 2.0078e+01, 2.2938e+01,\n",
      "         1.4833e+01, 2.1800e+01, 1.8122e+01, 1.7605e+01, 1.6784e+01, 2.1571e+01,\n",
      "         2.0291e+01]])\n",
      "Mean(Per-token cross-entropy losses): tensor(19.9334)\n",
      "tensor(0.1702)\n"
     ]
    }
   ],
   "source": [
    "# Shift logits and labels for computing loss\n",
    "shifted_logits       = logits[:, :-1, :].contiguous()\n",
    "shifted_target_ids   = labels[:, 1:].contiguous()\n",
    "\n",
    "# Flatten for loss computation\n",
    "loss_fct     = torch.nn.CrossEntropyLoss(reduction='none')  # No reduction to get per-token loss\n",
    "loss         = loss_fct(shifted_logits.view(-1, shifted_logits.size(-1)), shifted_target_ids.view(-1))\n",
    "\n",
    "# Reshape to [batch_size, seq_len]\n",
    "token_losses = loss.view(shifted_target_ids.size())\n",
    "\n",
    "print(\"Per-token cross-entropy losses:\", token_losses)\n",
    "print(\"Mean(Per-token cross-entropy losses):\", token_losses.mean())\n",
    "print(outputs.loss)\n"
   ]
  },
  {
   "cell_type": "code",
   "execution_count": null,
   "id": "d3742c91",
   "metadata": {},
   "outputs": [],
   "source": []
  },
  {
   "cell_type": "code",
   "execution_count": null,
   "id": "0e78b3e0",
   "metadata": {},
   "outputs": [],
   "source": []
  },
  {
   "cell_type": "code",
   "execution_count": 170,
   "id": "2d42e417",
   "metadata": {},
   "outputs": [
    {
     "name": "stdout",
     "output_type": "stream",
     "text": [
      "+ FIELD SPIN 0 SU2 3 U1 4 ID7 FIELD SPIN 0 SU2 3 U1 - 4 DAGGER ID0 FIELD SPIN 0 U1 9 / 8 ID8 FIELD SPIN 0 U1 - 9 / 8 DAGGER ID2 CONTRACTIONS SU2 ID7 ID0 SU2 ID7 ID0 + FIELD SPIN 0 SU2 3 U1 4 ID6 FIELD SPIN 0 SU2 3 U1 - 4 DAGGER ID7 FIELD SPIN 0 SU2 3 U1 5 ID4 FIELD SPIN 0 SU2 3 U1 - 5 DAGGER ID1 CONTRACTIONS SU2 ID6 ID4 SU2 ID6 ID4 SU2 ID7 ID1 SU2 ID7 ID1 + FIELD SPIN 0 SU2 3 U1 4 ID7 FIELD SPIN 0 SU2 3 U1 - 4 DAGGER ID0 FIELD SPIN 0 SU2 3 U1 5 ID9 FIELD SPIN 0 SU2 3 U1 - 5 DAGGER ID8 CONTRACTIONS SU2 ID7 ID0 SU2 ID7 ID9 SU2 ID0 ID8 SU2 ID9 ID8 + FIELD SPIN 0 SU2 3 U1 4 ID7 FIELD SPIN 0 SU2 3 U1 - 4 DAGGER ID0 FIELD SPIN 0 SU2 3 U1 5 ID9 FIELD SPIN 0 SU2 3 U1 - 5 DAGGER ID8 CONTRACTIONS SU2 ID7 ID0 SU2 ID7 ID0 SU2 ID9 ID8 SU2 ID9 ID8 + FIELD SPIN 0 SU2 3 U1 4 ID7 FIELD SPIN 0 SU2 3 U1 - 4 DAGGER ID0 FIELD SPIN 0 SU3 3 U1 4 / 9 ID2 FIELD SPIN 0 SU3 - 3 U1 - 4 / 9 DAGGER ID6 CONTRACTIONS SU3 ID2 ID6 ID6 SU2 ID7 ID0 SU2 ID7 ID0 + FIELD SPIN 0 SU2 3 U1 4 ID6 FIELD SPIN 0 SU2 3 U1 4 ID0 FIELD SPIN 0 SU2 3 U1 - 4 DAGGER ID4 FIELD SPIN 0 SU2 3 U1 - 4 DAGGER ID1 CONTRACTIONS SU2 ID6 ID4 SU2 ID6 ID4 SU2 ID0 ID1 SU2 ID0 ID1 + FIELD SPIN 0 SU2 3 U1 4 ID6 FIELD SPIN 0 SU2 3 U1 4 ID7 FIELD SPIN 0 SU2 3 U1 - 4 DAGGER ID0 FIELD SPIN 0 SU2 3 U1 - 4 DAGGER ID1 CONTRACTIONS SU2 ID6 ID7 SU2 ID6 ID0 SU2 ID7 ID1 SU2 ID0 ID1 + FIELD SPIN 0 SU2 3 U1 4 ID7 FIELD SPIN 0 SU2 3 U1 4 ID6 FIELD SPIN 0 SU2 3 U1 - 4 DAGGER ID0 FIELD SPIN 0 SU2 3 U1 - 4 DAGGER ID1 CONTRACTIONS SU2 ID7 ID6 SU2 ID7 ID6 SU2 ID0 ID1 SU2 ID0 ID1 + FIELD SPIN 0 U1 9 / 8 ID6 FIELD SPIN 0 U1 - 9 / 8 DAGGER ID7 FIELD SPIN 0 SU2 3 U1 5 ID4 FIELD SPIN 0 SU2 3 U1 - 5 DAGGER ID0 CONTRACTIONS SU2 ID4 ID0 SU2 ID4 ID0 + FIELD SPIN 0 U1 9 / 8 ID4 FIELD SPIN 0 U1 - 9 / 8 DAGGER ID8 FIELD SPIN 0 SU3 3 U1 4 / 9 ID6 FIELD SPIN 0 SU3 - 3 U1 - 4 / 9 DAGGER ID1 CONTRACTIONS SU3 ID6 ID1 ID1 + FIELD SPIN 0 U1 9 / 8 ID4 FIELD SPIN 0 U1 9 / 8 ID8 FIELD SPIN 0 U1 - 9 / 8 DAGGER ID6 FIELD SPIN 0 U1 - 9 / 8 DAGGER ID1 + FIELD SPIN 0 SU2 3 U1 5 ID9 FIELD SPIN 0 SU2 3 U1 - 5 DAGGER ID8 FIELD SPIN 0 SU3 3 U1 4 / 9 ID6 FIELD SPIN 0 SU3 - 3 U1 - 4 / 9 DAGGER ID7 CONTRACTIONS SU3 ID6 ID7 ID7 SU2 ID9 ID8 SU2 ID9 ID8 + FIELD SPIN 0 SU2 3 U1 5 ID9 FIELD SPIN 0 SU2 3 U1 5 ID7 FIELD SPIN 0 SU2 3 U1 - 5 DAGGER ID0 FIELD SPIN 0 SU2 3 U1 - 5 DAGGER ID8 CONTRACTIONS SU2 ID9 ID0 SU2 ID9 ID0 SU2 ID7 ID8 SU2 ID7 ID8 + FIELD SPIN 0 SU2 3 U1 5 ID7 FIELD SPIN 0 SU2 3 U1 5 ID9 FIELD SPIN 0 SU2 3 U1 - 5 DAGGER ID0 FIELD SPIN 0 SU2 3 U1 - 5 DAGGER ID1 CONTRACTIONS SU2 ID7 ID9 SU2 ID7 ID0 SU2 ID9 ID1 SU2 ID0 ID1 + FIELD SPIN 0 SU2 3 U1 5 ID7 FIELD SPIN 0 SU2 3 U1 5 ID9 FIELD SPIN 0 SU2 3 U1 - 5 DAGGER ID0 FIELD SPIN 0 SU2 3 U1 - 5 DAGGER ID6 CONTRACTIONS SU2 ID7 ID9 SU2 ID7 ID9 SU2 ID0 ID6 SU2 ID0 ID6 + FIELD SPIN 0 SU3 3 U1 4 / 9 ID4 FIELD SPIN 0 SU3 3 U1 4 / 9 ID8 FIELD SPIN 0 SU3 - 3 U1 - 4 / 9 DAGGER ID6 FIELD SPIN 0 SU3 - 3 U1 - 4 / 9 DAGGER ID0 CONTRACTIONS SU3 ID4 ID6 ID6 SU3 ID8 ID0 ID0 + FIELD SPIN 0 SU3 3 U1 4 / 9 ID4 FIELD SPIN 0 SU3 3 U1 4 / 9 ID8 FIELD SPIN 0 SU3 - 3 U1 - 4 / 9 DAGGER ID6 FIELD SPIN 0 SU3 - 3 U1 - 4 / 9 DAGGER ID7 CONTRACTIONS SU3 ID4 ID8 ID6 SU3 ID6 ID7 ID7 + DERIVATIVE SU2 U1 ID6 FIELD SPIN 0 SU2 3 U1 - 4 DAGGER ID7 DERIVATIVE SU2 U1 ID0 FIELD SPIN 0 SU2 3 U1 4 ID8 CONTRACTIONS LORENTZ ID6 ID0 SU2 ID7 ID8 + DERIVATIVE U1 ID7 FIELD SPIN 0 U1 - 9 / 8 DAGGER ID0 DERIVATIVE U1 ID1 FIELD SPIN 0 U1 9 / 8 ID6 CONTRACTIONS LORENTZ ID7 ID1 + DERIVATIVE SU2 U1 ID7 FIELD SPIN 0 SU2 3 U1 - 5 DAGGER ID0 DERIVATIVE SU2 U1 ID6 FIELD SPIN 0 SU2 3 U1 5 ID8 CONTRACTIONS LORENTZ ID7 ID6 SU2 ID0 ID8 + DERIVATIVE SU3 U1 ID4 FIELD SPIN 0 SU3 - 3 U1 - 4 / 9 DAGGER ID6 DERIVATIVE SU3 U1 ID0 FIELD SPIN 0 SU3 3 U1 4 / 9 ID7 CONTRACTIONS LORENTZ ID4 ID0 SU3 ID6 ID7 + i FIELD SPIN 1 / 2 SU3 - 3 U1 2 / 9 HEL 1 / 2 ID0 SIGMA_BAR ID4 DERIVATIVE SU3 U1 ID9 FIELD SPIN 1 / 2 SU3 3 U1 - 2 / 9 HEL - 1 / 2 DAGGER ID8 CONTRACTIONS LORENTZ ID4 ID9 LORENTZ ID4 ID0 ID8 SU3 ID0 ID8 - COMMUTATOR_A DERIVATIVE SU2 ID4 COMMUTATOR_B DERIVATIVE SU2 ID8 COMMUTATOR_A DERIVATIVE SU2 ID6 COMMUTATOR_B DERIVATIVE SU2 ID5 CONTRACTIONS LORENTZ ID4 ID6 LORENTZ ID8 ID5 - COMMUTATOR_A DERIVATIVE U1 ID4 COMMUTATOR_B DERIVATIVE U1 ID8 COMMUTATOR_A DERIVATIVE U1 ID2 COMMUTATOR_B DERIVATIVE U1 ID6 CONTRACTIONS LORENTZ ID4 ID2 LORENTZ ID8 ID6 - COMMUTATOR_A DERIVATIVE SU3 ID4 COMMUTATOR_B DERIVATIVE SU3 ID8 COMMUTATOR_A DERIVATIVE SU3 ID2 COMMUTATOR_B DERIVATIVE SU3 ID6 CONTRACTIONS LORENTZ ID4 ID2 LORENTZ ID8 ID6 + FIELD SPIN 0 SU2 3 U1 - 4 DAGGER ID7 FIELD SPIN 0 SU2 3 U1 4 ID6 CONTRACTIONS SU2 ID7 ID6 + FIELD SPIN 0 U1 - 9 / 8 DAGGER ID7 FIELD SPIN 0 U1 9 / 8 ID6 CONTRACTIONS + FIELD SPIN 0 SU2 3 U1 - 5 DAGGER ID7 FIELD SPIN 0 SU2 3 U1 5 ID6 CONTRACTIONS SU2 ID7 ID6 + FIELD SPIN 0 SU3 - 3 U1 - 4 / 9 DAGGER ID4 FIELD SPIN 0 SU3 3 U1 4 / 9 ID2 CONTRACTIONS SU3 ID4 ID2\n"
     ]
    }
   ],
   "source": [
    "predicted_lagrangian = hf_tokenizer.batch_decode(outputs, skip_special_tokens=True)[0]\n",
    "print(predicted_lagrangian)\n"
   ]
  },
  {
   "cell_type": "code",
   "execution_count": 164,
   "id": "43438fcc",
   "metadata": {},
   "outputs": [
    {
     "name": "stdout",
     "output_type": "stream",
     "text": [
      "+ FIELD SPIN 0 SU2 3 U1 4 ID0 FIELD SPIN 0 SU2 3 U1 - 4 DAGGER ID1 FIELD SPIN 0 U1 9 / 8 ID2 FIELD SPIN 0 U1 - 9 / 8 DAGGER ID3 CONTRACTIONS SU2 ID0 ID1 SU2 ID0 ID1 + FIELD SPIN 0 SU2 3 U1 4 ID1 FIELD SPIN 0 SU2 3 U1 - 4 DAGGER ID3 FIELD SPIN 0 SU2 3 U1 5 ID4 FIELD SPIN 0 SU2 3 U1 - 5 DAGGER ID7 CONTRACTIONS SU2 ID1 ID4 SU2 ID1 ID4 SU2 ID3 ID7 SU2 ID3 ID7 + FIELD SPIN 0 SU2 3 U1 4 ID5 FIELD SPIN 0 SU2 3 U1 - 4 DAGGER ID8 FIELD SPIN 0 SU2 3 U1 5 ID3 FIELD SPIN 0 SU2 3 U1 - 5 DAGGER ID7 CONTRACTIONS SU2 ID5 ID8 SU2 ID5 ID3 SU2 ID8 ID7 SU2 ID3 ID7 + FIELD SPIN 0 SU2 3 U1 4 ID4 FIELD SPIN 0 SU2 3 U1 - 4 DAGGER ID5 FIELD SPIN 0 SU2 3 U1 5 ID6 FIELD SPIN 0 SU2 3 U1 - 5 DAGGER ID0 CONTRACTIONS SU2 ID4 ID5 SU2 ID4 ID5 SU2 ID6 ID0 SU2 ID6 ID0 + FIELD SPIN 0 SU2 3 U1 4 ID4 FIELD SPIN 0 SU2 3 U1 - 4 DAGGER ID8 FIELD SPIN 0 SU3 3 U1 4 / 9 ID3 FIELD SPIN 0 SU3 - 3 U1 - 4 / 9 DAGGER ID9 CONTRACTIONS SU3 ID3 ID9 ID9 SU2 ID4 ID8 SU2 ID4 ID8 + FIELD SPIN 0 SU2 3 U1 4 ID3 FIELD SPIN 0 SU2 3 U1 4 ID2 FIELD SPIN 0 SU2 3 U1 - 4 DAGGER ID0 FIELD SPIN 0 SU2 3 U1 - 4 DAGGER ID5 CONTRACTIONS SU2 ID3 ID0 SU2 ID3 ID0 SU2 ID2 ID5 SU2 ID2 ID5 + FIELD SPIN 0 SU2 3 U1 4 ID3 FIELD SPIN 0 SU2 3 U1 4 ID4 FIELD SPIN 0 SU2 3 U1 - 4 DAGGER ID1 FIELD SPIN 0 SU2 3 U1 - 4 DAGGER ID6 CONTRACTIONS SU2 ID3 ID4 SU2 ID3 ID1 SU2 ID4 ID6 SU2 ID1 ID6 + FIELD SPIN 0 SU2 3 U1 4 ID6 FIELD SPIN 0 SU2 3 U1 4 ID8 FIELD SPIN 0 SU2 3 U1 - 4 DAGGER ID0 FIELD SPIN 0 SU2 3 U1 - 4 DAGGER ID9 CONTRACTIONS SU2 ID6 ID8 SU2 ID6 ID8 SU2 ID0 ID9 SU2 ID0 ID9 + FIELD SPIN 0 U1 9 / 8 ID8 FIELD SPIN 0 U1 - 9 / 8 DAGGER ID0 FIELD SPIN 0 SU2 3 U1 5 ID2 FIELD SPIN 0 SU2 3 U1 - 5 DAGGER ID1 CONTRACTIONS SU2 ID2 ID1 SU2 ID2 ID1 + FIELD SPIN 0 U1 9 / 8 ID8 FIELD SPIN 0 U1 - 9 / 8 DAGGER ID7 FIELD SPIN 0 SU3 3 U1 4 / 9 ID2 FIELD SPIN 0 SU3 - 3 U1 - 4 / 9 DAGGER ID1 CONTRACTIONS SU3 ID2 ID1 ID1 + FIELD SPIN 0 U1 9 / 8 ID2 FIELD SPIN 0 U1 9 / 8 ID7 FIELD SPIN 0 U1 - 9 / 8 DAGGER ID9 FIELD SPIN 0 U1 - 9 / 8 DAGGER ID8 + FIELD SPIN 0 SU2 3 U1 5 ID3 FIELD SPIN 0 SU2 3 U1 - 5 DAGGER ID0 FIELD SPIN 0 SU3 3 U1 4 / 9 ID6 FIELD SPIN 0 SU3 - 3 U1 - 4 / 9 DAGGER ID5 CONTRACTIONS SU3 ID6 ID5 ID5 SU2 ID3 ID0 SU2 ID3 ID0 + FIELD SPIN 0 SU2 3 U1 5 ID7 FIELD SPIN 0 SU2 3 U1 5 ID4 FIELD SPIN 0 SU2 3 U1 - 5 DAGGER ID0 FIELD SPIN 0 SU2 3 U1 - 5 DAGGER ID5 CONTRACTIONS SU2 ID7 ID0 SU2 ID7 ID0 SU2 ID4 ID5 SU2 ID4 ID5 + FIELD SPIN 0 SU2 3 U1 5 ID0 FIELD SPIN 0 SU2 3 U1 5 ID1 FIELD SPIN 0 SU2 3 U1 - 5 DAGGER ID8 FIELD SPIN 0 SU2 3 U1 - 5 DAGGER ID9 CONTRACTIONS SU2 ID0 ID1 SU2 ID0 ID8 SU2 ID1 ID9 SU2 ID8 ID9 + FIELD SPIN 0 SU2 3 U1 5 ID0 FIELD SPIN 0 SU2 3 U1 5 ID4 FIELD SPIN 0 SU2 3 U1 - 5 DAGGER ID2 FIELD SPIN 0 SU2 3 U1 - 5 DAGGER ID3 CONTRACTIONS SU2 ID0 ID4 SU2 ID0 ID4 SU2 ID2 ID3 SU2 ID2 ID3 + FIELD SPIN 0 SU3 3 U1 4 / 9 ID0 FIELD SPIN 0 SU3 3 U1 4 / 9 ID3 FIELD SPIN 0 SU3 - 3 U1 - 4 / 9 DAGGER ID4 FIELD SPIN 0 SU3 - 3 U1 - 4 / 9 DAGGER ID5 CONTRACTIONS SU3 ID0 ID4 ID4 SU3 ID3 ID5 ID5 + FIELD SPIN 0 SU3 3 U1 4 / 9 ID5 FIELD SPIN 0 SU3 3 U1 4 / 9 ID4 FIELD SPIN 0 SU3 - 3 U1 - 4 / 9 DAGGER ID8 FIELD SPIN 0 SU3 - 3 U1 - 4 / 9 DAGGER ID6 CONTRACTIONS SU3 ID5 ID4 ID8 SU3 ID8 ID6 ID6 + DERIVATIVE SU2 U1 ID3 FIELD SPIN 0 SU2 3 U1 - 4 DAGGER ID6 DERIVATIVE SU2 U1 ID1 FIELD SPIN 0 SU2 3 U1 4 ID7 CONTRACTIONS LORENTZ ID3 ID1 SU2 ID6 ID7 + DERIVATIVE U1 ID6 FIELD SPIN 0 U1 - 9 / 8 DAGGER ID7 DERIVATIVE U1 ID8 FIELD SPIN 0 U1 9 / 8 ID2 CONTRACTIONS LORENTZ ID6 ID8 + DERIVATIVE SU2 U1 ID6 FIELD SPIN 0 SU2 3 U1 - 5 DAGGER ID7 DERIVATIVE SU2 U1 ID5 FIELD SPIN 0 SU2 3 U1 5 ID1 CONTRACTIONS LORENTZ ID6 ID5 SU2 ID7 ID1 + DERIVATIVE SU3 U1 ID0 FIELD SPIN 0 SU3 - 3 U1 - 4 / 9 DAGGER ID1 DERIVATIVE SU3 U1 ID2 FIELD SPIN 0 SU3 3 U1 4 / 9 ID6 CONTRACTIONS LORENTZ ID0 ID2 SU3 ID1 ID6 + i FIELD SPIN 1 / 2 SU3 - 3 U1 2 / 9 HEL 1 / 2 ID2 SIGMA_BAR ID6 DERIVATIVE SU3 U1 ID3 FIELD SPIN 1 / 2 SU3 3 U1 - 2 / 9 HEL - 1 / 2 DAGGER ID8 CONTRACTIONS LORENTZ ID6 ID3 LORENTZ ID6 ID2 ID8 SU3 ID2 ID8 - COMMUTATOR_A DERIVATIVE SU2 ID1 COMMUTATOR_B DERIVATIVE SU2 ID7 COMMUTATOR_A DERIVATIVE SU2 ID5 COMMUTATOR_B DERIVATIVE SU2 ID0 CONTRACTIONS LORENTZ ID1 ID5 LORENTZ ID7 ID0 - COMMUTATOR_A DERIVATIVE U1 ID6 COMMUTATOR_B DERIVATIVE U1 ID1 COMMUTATOR_A DERIVATIVE U1 ID4 COMMUTATOR_B DERIVATIVE U1 ID5 CONTRACTIONS LORENTZ ID6 ID4 LORENTZ ID1 ID5 - COMMUTATOR_A DERIVATIVE SU3 ID9 COMMUTATOR_B DERIVATIVE SU3 ID8 COMMUTATOR_A DERIVATIVE SU3 ID4 COMMUTATOR_B DERIVATIVE SU3 ID3 CONTRACTIONS LORENTZ ID9 ID4 LORENTZ ID8 ID3 + FIELD SPIN 0 SU2 3 U1 - 4 DAGGER ID9 FIELD SPIN 0 SU2 3 U1 4 ID0 CONTRACTIONS SU2 ID9 ID0 + FIELD SPIN 0 U1 - 9 / 8 DAGGER ID9 FIELD SPIN 0 U1 9 / 8 ID8 CONTRACTIONS + FIELD SPIN 0 SU2 3 U1 - 5 DAGGER ID0 FIELD SPIN 0 SU2 3 U1 5 ID3 CONTRACTIONS SU2 ID0 ID3 + FIELD SPIN 0 SU3 - 3 U1 - 4 / 9 DAGGER ID6 FIELD SPIN 0 SU3 3 U1 4 / 9 ID4 CONTRACTIONS SU3 ID6 ID4\n"
     ]
    }
   ],
   "source": [
    "true_lagrangian = example_scenario[\"Lagrangian\"].iloc[0]\n",
    "print(true_lagrangian)\n"
   ]
  },
  {
   "cell_type": "code",
   "execution_count": 171,
   "id": "fe519e21",
   "metadata": {},
   "outputs": [
    {
     "name": "stdout",
     "output_type": "stream",
     "text": [
      "+ FIELD SPIN 0 SU2 3 U1 4 ID0 FIELD SPIN 0 SU2 3 U1 - 4 DAGGER ID1 FIELD SPIN 0 U1 9 / 8 ID2 FIELD SPIN 0 U1 - 9 / 8 DAGGER ID3 CONTRACTIONS SU2 ID0 ID1 SU2 ID0 ID1 + FIELD SPIN 0 SU2 3 U1 4 ID1 FIELD SPIN 0 SU2 3 U1 - 4 DAGGER ID3 FIELD SPIN 0 SU2 3 U1 5 ID4 FIELD SPIN 0 SU2 3 U1 - 5 DAGGER ID7 CONTRACTIONS SU2 ID1 ID4 SU2 ID1 ID4 SU2 ID3 ID7 SU2 ID3 ID7 + FIELD SPIN 0 SU2 3 U1 4 ID5 FIELD SPIN 0 SU2 3 U1 - 4 DAGGER ID8 FIELD SPIN 0 SU2 3 U1 5 ID3 FIELD SPIN 0 SU2 3 U1 - 5 DAGGER ID7 CONTRACTIONS SU2 ID5 ID8 SU2 ID5 ID3 SU2 ID8 ID7 SU2 ID3 ID7 + FIELD SPIN 0 SU2 3 U1 4 ID4 FIELD SPIN 0 SU2 3 U1 - 4 DAGGER ID5 FIELD SPIN 0 SU2 3 U1 5 ID6 FIELD SPIN 0 SU2 3 U1 - 5 DAGGER ID0 CONTRACTIONS SU2 ID4 ID5 SU2 ID4 ID5 SU2 ID6 ID0 SU2 ID6 ID0 + FIELD SPIN 0 SU2 3 U1 4 ID4 FIELD SPIN 0 SU2 3 U1 - 4 DAGGER ID8 FIELD SPIN 0 SU3 3 U1 4 / 9 ID3 FIELD SPIN 0 SU3 - 3 U1 - 4 / 9 DAGGER ID9 CONTRACTIONS SU3 ID3 ID9 ID9 SU2 ID4 ID8 SU2 ID4 ID8 + FIELD SPIN 0 SU2 3 U1 4 ID3 FIELD SPIN 0 SU2 3 U1 4 ID2 FIELD SPIN 0 SU2 3 U1 - 4 DAGGER ID0 FIELD SPIN 0 SU2 3 U1 - 4 DAGGER ID5 CONTRACTIONS SU2 ID3 ID0 SU2 ID3 ID0 SU2 ID2 ID5 SU2 ID2 ID5 + FIELD SPIN 0 SU2 3 U1 4 ID3 FIELD SPIN 0 SU2 3 U1 4 ID4 FIELD SPIN 0 SU2 3 U1 - 4 DAGGER ID1 FIELD SPIN 0 SU2 3 U1 - 4 DAGGER ID6 CONTRACTIONS SU2 ID3 ID4 SU2 ID3 ID1 SU2 ID4 ID6 SU2 ID1 ID6 + FIELD SPIN 0 SU2 3 U1 4 ID6 FIELD SPIN 0 SU2 3 U1 4 ID8 FIELD SPIN 0 SU2 3 U1 - 4 DAGGER ID0 FIELD SPIN 0 SU2 3 U1 - 4 DAGGER ID9 CONTRACTIONS SU2 ID6 ID8 SU2 ID6 ID8 SU2 ID0 ID9 SU2 ID0 ID9 + FIELD SPIN 0 U1 9 / 8 ID8 FIELD SPIN 0 U1 - 9 / 8 DAGGER ID0 FIELD SPIN 0 SU2 3 U1 5 ID2 FIELD SPIN 0 SU2 3 U1 - 5 DAGGER ID1 CONTRACTIONS SU2 ID2 ID1 SU2 ID2 ID1 + FIELD SPIN 0 U1 9 / 8 ID8 FIELD SPIN 0 U1 - 9 / 8 DAGGER ID7 FIELD SPIN 0 SU3 3 U1 4 / 9 ID2 FIELD SPIN 0 SU3 - 3 U1 - 4 / 9 DAGGER ID1 CONTRACTIONS SU3 ID2 ID1 ID1 + FIELD SPIN 0 U1 9 / 8 ID2 FIELD SPIN 0 U1 9 / 8 ID7 FIELD SPIN 0 U1 - 9 / 8 DAGGER ID9 FIELD SPIN 0 U1 - 9 / 8 DAGGER ID8 + FIELD SPIN 0 SU2 3 U1 5 ID3 FIELD SPIN 0 SU2 3 U1 - 5 DAGGER ID0 FIELD SPIN 0 SU3 3 U1 4 / 9 ID6 FIELD SPIN 0 SU3 - 3 U1 - 4 / 9 DAGGER ID5 CONTRACTIONS SU3 ID6 ID5 ID5 SU2 ID3 ID0 SU2 ID3 ID0 + FIELD SPIN 0 SU2 3 U1 5 ID7 FIELD SPIN 0 SU2 3 U1 5 ID4 FIELD SPIN 0 SU2 3 U1 - 5 DAGGER ID0 FIELD SPIN 0 SU2 3 U1 - 5 DAGGER ID5 CONTRACTIONS SU2 ID7 ID0 SU2 ID7 ID0 SU2 ID4 ID5 SU2 ID4 ID5 + FIELD SPIN 0 SU2 3 U1 5 ID0 FIELD SPIN 0 SU2 3 U1 5 ID1 FIELD SPIN 0 SU2 3 U1 - 5 DAGGER ID8 FIELD SPIN 0 SU2 3 U1 - 5 DAGGER ID9 CONTRACTIONS SU2 ID0 ID1 SU2 ID0 ID8 SU2 ID1 ID9 SU2 ID8 ID9 + FIELD SPIN 0 SU2 3 U1 5 ID0 FIELD SPIN 0 SU2 3 U1 5 ID4 FIELD SPIN 0 SU2 3 U1 - 5 DAGGER ID2 FIELD SPIN 0 SU2 3 U1 - 5 DAGGER ID3 CONTRACTIONS SU2 ID0 ID4 SU2 ID0 ID4 SU2 ID2 ID3 SU2 ID2 ID3 + FIELD SPIN 0 SU3 3 U1 4 / 9 ID0 FIELD SPIN 0 SU3 3 U1 4 / 9 ID3 FIELD SPIN 0 SU3 - 3 U1 - 4 / 9 DAGGER ID4 FIELD SPIN 0 SU3 - 3 U1 - 4 / 9 DAGGER ID5 CONTRACTIONS SU3 ID0 ID4 ID4 SU3 ID3 ID5 ID5 + FIELD SPIN 0 SU3 3 U1 4 / 9 ID5 FIELD SPIN 0 SU3 3 U1 4 / 9 ID4 FIELD SPIN 0 SU3 - 3 U1 - 4 / 9 DAGGER ID8 FIELD SPIN 0 SU3 - 3 U1 - 4 / 9 DAGGER ID6 CONTRACTIONS SU3 ID5 ID4 ID8 SU3 ID8 ID6 ID6 + DERIVATIVE SU2 U1 ID3 FIELD SPIN 0 SU2 3 U1 - 4 DAGGER ID6 DERIVATIVE SU2 U1 ID1 FIELD SPIN 0 SU2 3 U1 4 ID7 CONTRACTIONS LORENTZ ID3 ID1 SU2 ID6 ID7 + DERIVATIVE U1 ID6 FIELD SPIN 0 U1 - 9 / 8 DAGGER ID7 DERIVATIVE U1 ID8 FIELD SPIN 0 U1 9 / 8 ID2 CONTRACTIONS LORENTZ ID6 ID8 + DERIVATIVE SU2 U1 ID6 FIELD SPIN 0 SU2 3 U1 - 5 DAGGER ID7 DERIVATIVE SU2 U1 ID5 FIELD SPIN 0 SU2 3 U1 5 ID1 CONTRACTIONS LORENTZ ID6 ID5 SU2 ID7 ID1 + DERIVATIVE SU3 U1 ID0 FIELD SPIN 0 SU3 - 3 U1 - 4 / 9 DAGGER ID1 DERIVATIVE SU3 U1 ID2 FIELD SPIN 0 SU3 3 U1 4 / 9 ID6 CONTRACTIONS LORENTZ ID0 ID2 SU3 ID1 ID6 + i FIELD SPIN 1 / 2 SU3 - 3 U1 2 / 9 HEL 1 / 2 ID2 SIGMA_BAR ID6 DERIVATIVE SU3 U1 ID3 FIELD SPIN 1 / 2 SU3 3 U1 - 2 / 9 HEL - 1 / 2 DAGGER ID8 CONTRACTIONS LORENTZ ID6 ID3 LORENTZ ID6 ID2 ID8 SU3 ID2 ID8 - COMMUTATOR_A DERIVATIVE SU2 ID1 COMMUTATOR_B DERIVATIVE SU2 ID7 COMMUTATOR_A DERIVATIVE SU2 ID5 COMMUTATOR_B DERIVATIVE SU2 ID0 CONTRACTIONS LORENTZ ID1 ID5 LORENTZ ID7 ID0 - COMMUTATOR_A DERIVATIVE U1 ID6 COMMUTATOR_B DERIVATIVE U1 ID1 COMMUTATOR_A DERIVATIVE U1 ID4 COMMUTATOR_B DERIVATIVE U1 ID5 CONTRACTIONS LORENTZ ID6 ID4 LORENTZ ID1 ID5 - COMMUTATOR_A DERIVATIVE SU3 ID9 COMMUTATOR_B DERIVATIVE SU3 ID8 COMMUTATOR_A DERIVATIVE SU3 ID4 COMMUTATOR_B DERIVATIVE SU3 ID3 CONTRACTIONS LORENTZ ID9 ID4 LORENTZ ID8 ID3 + FIELD SPIN 0 SU2 3 U1 - 4 DAGGER ID9 FIELD SPIN 0 SU2 3 U1 4 ID0 CONTRACTIONS SU2 ID9 ID0 + FIELD SPIN 0 U1 - 9 / 8 DAGGER ID9 FIELD SPIN 0 U1 9 / 8 ID8 CONTRACTIONS + FIELD SPIN 0 SU2 3 U1 - 5 DAGGER ID0 FIELD SPIN 0 SU2 3 U1 5 ID3 CONTRACTIONS SU2 ID0 ID3 + FIELD SPIN 0 SU3 - 3 U1 - 4 / 9 DAGGER ID6 FIELD SPIN 0 SU3 3 U1 4 / 9 ID4 CONTRACTIONS SU3 ID6 ID4\n",
      "+ FIELD SPIN 0 SU2 3 U1 4 ID7 FIELD SPIN 0 SU2 3 U1 - 4 DAGGER ID0 FIELD SPIN 0 U1 9 / 8 ID8 FIELD SPIN 0 U1 - 9 / 8 DAGGER ID2 CONTRACTIONS SU2 ID7 ID0 SU2 ID7 ID0 + FIELD SPIN 0 SU2 3 U1 4 ID6 FIELD SPIN 0 SU2 3 U1 - 4 DAGGER ID7 FIELD SPIN 0 SU2 3 U1 5 ID4 FIELD SPIN 0 SU2 3 U1 - 5 DAGGER ID1 CONTRACTIONS SU2 ID6 ID4 SU2 ID6 ID4 SU2 ID7 ID1 SU2 ID7 ID1 + FIELD SPIN 0 SU2 3 U1 4 ID7 FIELD SPIN 0 SU2 3 U1 - 4 DAGGER ID0 FIELD SPIN 0 SU2 3 U1 5 ID9 FIELD SPIN 0 SU2 3 U1 - 5 DAGGER ID8 CONTRACTIONS SU2 ID7 ID0 SU2 ID7 ID9 SU2 ID0 ID8 SU2 ID9 ID8 + FIELD SPIN 0 SU2 3 U1 4 ID7 FIELD SPIN 0 SU2 3 U1 - 4 DAGGER ID0 FIELD SPIN 0 SU2 3 U1 5 ID9 FIELD SPIN 0 SU2 3 U1 - 5 DAGGER ID8 CONTRACTIONS SU2 ID7 ID0 SU2 ID7 ID0 SU2 ID9 ID8 SU2 ID9 ID8 + FIELD SPIN 0 SU2 3 U1 4 ID7 FIELD SPIN 0 SU2 3 U1 - 4 DAGGER ID0 FIELD SPIN 0 SU3 3 U1 4 / 9 ID2 FIELD SPIN 0 SU3 - 3 U1 - 4 / 9 DAGGER ID6 CONTRACTIONS SU3 ID2 ID6 ID6 SU2 ID7 ID0 SU2 ID7 ID0 + FIELD SPIN 0 SU2 3 U1 4 ID6 FIELD SPIN 0 SU2 3 U1 4 ID0 FIELD SPIN 0 SU2 3 U1 - 4 DAGGER ID4 FIELD SPIN 0 SU2 3 U1 - 4 DAGGER ID1 CONTRACTIONS SU2 ID6 ID4 SU2 ID6 ID4 SU2 ID0 ID1 SU2 ID0 ID1 + FIELD SPIN 0 SU2 3 U1 4 ID6 FIELD SPIN 0 SU2 3 U1 4 ID7 FIELD SPIN 0 SU2 3 U1 - 4 DAGGER ID0 FIELD SPIN 0 SU2 3 U1 - 4 DAGGER ID1 CONTRACTIONS SU2 ID6 ID7 SU2 ID6 ID0 SU2 ID7 ID1 SU2 ID0 ID1 + FIELD SPIN 0 SU2 3 U1 4 ID7 FIELD SPIN 0 SU2 3 U1 4 ID6 FIELD SPIN 0 SU2 3 U1 - 4 DAGGER ID0 FIELD SPIN 0 SU2 3 U1 - 4 DAGGER ID1 CONTRACTIONS SU2 ID7 ID6 SU2 ID7 ID6 SU2 ID0 ID1 SU2 ID0 ID1 + FIELD SPIN 0 U1 9 / 8 ID6 FIELD SPIN 0 U1 - 9 / 8 DAGGER ID7 FIELD SPIN 0 SU2 3 U1 5 ID4 FIELD SPIN 0 SU2 3 U1 - 5 DAGGER ID0 CONTRACTIONS SU2 ID4 ID0 SU2 ID4 ID0 + FIELD SPIN 0 U1 9 / 8 ID4 FIELD SPIN 0 U1 - 9 / 8 DAGGER ID8 FIELD SPIN 0 SU3 3 U1 4 / 9 ID6 FIELD SPIN 0 SU3 - 3 U1 - 4 / 9 DAGGER ID1 CONTRACTIONS SU3 ID6 ID1 ID1 + FIELD SPIN 0 U1 9 / 8 ID4 FIELD SPIN 0 U1 9 / 8 ID8 FIELD SPIN 0 U1 - 9 / 8 DAGGER ID6 FIELD SPIN 0 U1 - 9 / 8 DAGGER ID1 + FIELD SPIN 0 SU2 3 U1 5 ID9 FIELD SPIN 0 SU2 3 U1 - 5 DAGGER ID8 FIELD SPIN 0 SU3 3 U1 4 / 9 ID6 FIELD SPIN 0 SU3 - 3 U1 - 4 / 9 DAGGER ID7 CONTRACTIONS SU3 ID6 ID7 ID7 SU2 ID9 ID8 SU2 ID9 ID8 + FIELD SPIN 0 SU2 3 U1 5 ID9 FIELD SPIN 0 SU2 3 U1 5 ID7 FIELD SPIN 0 SU2 3 U1 - 5 DAGGER ID0 FIELD SPIN 0 SU2 3 U1 - 5 DAGGER ID8 CONTRACTIONS SU2 ID9 ID0 SU2 ID9 ID0 SU2 ID7 ID8 SU2 ID7 ID8 + FIELD SPIN 0 SU2 3 U1 5 ID7 FIELD SPIN 0 SU2 3 U1 5 ID9 FIELD SPIN 0 SU2 3 U1 - 5 DAGGER ID0 FIELD SPIN 0 SU2 3 U1 - 5 DAGGER ID1 CONTRACTIONS SU2 ID7 ID9 SU2 ID7 ID0 SU2 ID9 ID1 SU2 ID0 ID1 + FIELD SPIN 0 SU2 3 U1 5 ID7 FIELD SPIN 0 SU2 3 U1 5 ID9 FIELD SPIN 0 SU2 3 U1 - 5 DAGGER ID0 FIELD SPIN 0 SU2 3 U1 - 5 DAGGER ID6 CONTRACTIONS SU2 ID7 ID9 SU2 ID7 ID9 SU2 ID0 ID6 SU2 ID0 ID6 + FIELD SPIN 0 SU3 3 U1 4 / 9 ID4 FIELD SPIN 0 SU3 3 U1 4 / 9 ID8 FIELD SPIN 0 SU3 - 3 U1 - 4 / 9 DAGGER ID6 FIELD SPIN 0 SU3 - 3 U1 - 4 / 9 DAGGER ID0 CONTRACTIONS SU3 ID4 ID6 ID6 SU3 ID8 ID0 ID0 + FIELD SPIN 0 SU3 3 U1 4 / 9 ID4 FIELD SPIN 0 SU3 3 U1 4 / 9 ID8 FIELD SPIN 0 SU3 - 3 U1 - 4 / 9 DAGGER ID6 FIELD SPIN 0 SU3 - 3 U1 - 4 / 9 DAGGER ID7 CONTRACTIONS SU3 ID4 ID8 ID6 SU3 ID6 ID7 ID7 + DERIVATIVE SU2 U1 ID6 FIELD SPIN 0 SU2 3 U1 - 4 DAGGER ID7 DERIVATIVE SU2 U1 ID0 FIELD SPIN 0 SU2 3 U1 4 ID8 CONTRACTIONS LORENTZ ID6 ID0 SU2 ID7 ID8 + DERIVATIVE U1 ID7 FIELD SPIN 0 U1 - 9 / 8 DAGGER ID0 DERIVATIVE U1 ID1 FIELD SPIN 0 U1 9 / 8 ID6 CONTRACTIONS LORENTZ ID7 ID1 + DERIVATIVE SU2 U1 ID7 FIELD SPIN 0 SU2 3 U1 - 5 DAGGER ID0 DERIVATIVE SU2 U1 ID6 FIELD SPIN 0 SU2 3 U1 5 ID8 CONTRACTIONS LORENTZ ID7 ID6 SU2 ID0 ID8 + DERIVATIVE SU3 U1 ID4 FIELD SPIN 0 SU3 - 3 U1 - 4 / 9 DAGGER ID6 DERIVATIVE SU3 U1 ID0 FIELD SPIN 0 SU3 3 U1 4 / 9 ID7 CONTRACTIONS LORENTZ ID4 ID0 SU3 ID6 ID7 + i FIELD SPIN 1 / 2 SU3 - 3 U1 2 / 9 HEL 1 / 2 ID0 SIGMA_BAR ID4 DERIVATIVE SU3 U1 ID9 FIELD SPIN 1 / 2 SU3 3 U1 - 2 / 9 HEL - 1 / 2 DAGGER ID8 CONTRACTIONS LORENTZ ID4 ID9 LORENTZ ID4 ID0 ID8 SU3 ID0 ID8 - COMMUTATOR_A DERIVATIVE SU2 ID4 COMMUTATOR_B DERIVATIVE SU2 ID8 COMMUTATOR_A DERIVATIVE SU2 ID6 COMMUTATOR_B DERIVATIVE SU2 ID5 CONTRACTIONS LORENTZ ID4 ID6 LORENTZ ID8 ID5 - COMMUTATOR_A DERIVATIVE U1 ID4 COMMUTATOR_B DERIVATIVE U1 ID8 COMMUTATOR_A DERIVATIVE U1 ID2 COMMUTATOR_B DERIVATIVE U1 ID6 CONTRACTIONS LORENTZ ID4 ID2 LORENTZ ID8 ID6 - COMMUTATOR_A DERIVATIVE SU3 ID4 COMMUTATOR_B DERIVATIVE SU3 ID8 COMMUTATOR_A DERIVATIVE SU3 ID2 COMMUTATOR_B DERIVATIVE SU3 ID6 CONTRACTIONS LORENTZ ID4 ID2 LORENTZ ID8 ID6 + FIELD SPIN 0 SU2 3 U1 - 4 DAGGER ID7 FIELD SPIN 0 SU2 3 U1 4 ID6 CONTRACTIONS SU2 ID7 ID6 + FIELD SPIN 0 U1 - 9 / 8 DAGGER ID7 FIELD SPIN 0 U1 9 / 8 ID6 CONTRACTIONS + FIELD SPIN 0 SU2 3 U1 - 5 DAGGER ID7 FIELD SPIN 0 SU2 3 U1 5 ID6 CONTRACTIONS SU2 ID7 ID6 + FIELD SPIN 0 SU3 - 3 U1 - 4 / 9 DAGGER ID4 FIELD SPIN 0 SU3 3 U1 4 / 9 ID2 CONTRACTIONS SU3 ID4 ID2\n"
     ]
    }
   ],
   "source": [
    "print(true_lagrangian)\n",
    "print(predicted_lagrangian)\n"
   ]
  },
  {
   "cell_type": "code",
   "execution_count": 166,
   "id": "17046a89",
   "metadata": {},
   "outputs": [],
   "source": [
    "truth_ids = hf_tokenizer.encode(true_lagrangian)"
   ]
  },
  {
   "cell_type": "code",
   "execution_count": null,
   "id": "d479777f",
   "metadata": {},
   "outputs": [],
   "source": [
    "\n",
    "def get_lagrangian_score_ys(predicted, expected,verbose=False,force=False):\n",
    "    if not force: \n",
    "        raise KeyError(\"Dont use this (we modified the score to have length penalty thtat takes in only extra tersm). Use get_lagrangian_score. If really want to use it, switch force=True\")\n",
    "\n",
    "    # 1. Separate terms\n",
    "    # 2. Check for repeating terms, if repeat mod ID accordingly\n",
    "    # 3. Get all possible combinations of terms based on number of tokens\n",
    "    # 4. From those combinations get cases with same objects\n",
    "    # 5. Check contractions if make sense\n",
    "    # 6. Check all cases if there are true terms that was paired with more than 1 pred_term\n",
    "    # 7.    If yes, check pred term is used elsewhere or not with guranteed one term match\n",
    "    #          If yes, check pred term is used elsewhere or not with guranteed one term match\n",
    "    #                If yes, delete in many term case\n",
    "    #                If not, raise Error and modify code is needed\n",
    "    #          If not,  take one of the prediction\n",
    "    # 8 Calculate Score \n",
    "\n",
    "    assert sanity_check_for_sep_functions(expected) == True\n",
    "    \n",
    "    try                     : sanity_check_for_sep_functions(predicted)\n",
    "    except Exception as e   : print(str(e))\n",
    "    \n",
    "    # 1. \n",
    "    # Seperate lagrangians to terms\n",
    "    sep_term_true       , complete_true      = sep_terms(expected,completeness_check=True)\n",
    "    sep_term_predicted  , complete_predicted = sep_terms(predicted,completeness_check=True)\n",
    "    sep_term_true_joined                     = [\" \".join(i) for i in sep_term_true  ]\n",
    "    sep_term_predicted_joined                = [\" \".join(i) for i in sep_term_predicted  ]\n",
    "\n",
    "    # check for repeating terms\n",
    "    assert len(sep_term_true_joined) == len(np.unique(sep_term_true_joined))\n",
    "\n",
    "    # 2.\n",
    "    # check for repeating terms in prediction, if so, change to new set of id just in case its a coincidence\n",
    "    if len(sep_term_predicted_joined) != len(np.unique(sep_term_predicted_joined)):\n",
    "        uniq_sep = []\n",
    "        for term,nterm in dict(Counter(sep_term_predicted_joined)).items():\n",
    "            if nterm != 1:\n",
    "                for ind in range(nterm): \n",
    "                    new_term = replace_ids(term)\n",
    "                    if len(np.unique([tok for tok in new_term.split() if tok in all_id])) !=0:\n",
    "                        while (new_term in uniq_sep): new_term = replace_ids(term)\n",
    "                    uniq_sep.append(new_term)\n",
    "            else : \n",
    "                uniq_sep.append(term)\n",
    "        sep_term_predicted_joined = uniq_sep\n",
    "        sep_term_predicted        = [t.split() for t in  uniq_sep]\n",
    "    \n",
    "    # if there are terms that dont have ids and they repeat, then its fine. Otherwise check\n",
    "    if all([check_ids(instr) for instr in sep_term_predicted_joined]):\n",
    "        assert len(sep_term_predicted_joined) == len(np.unique(sep_term_predicted_joined))\n",
    "\n",
    "    # 3.\n",
    "    # Get all combination of term_true,term_pred -> only with same length tokens-wise\n",
    "    all_comb_len = [(len(t_i),t_i,t_j) for t_i,t_j in itertools.product(sep_term_true,sep_term_predicted) if len(t_i) == len(t_j)]\n",
    "\n",
    "    # group them by length using dict\n",
    "    grouped = defaultdict(list) \n",
    "    for lterm,true_term,pred_term in all_comb_len: grouped[lterm].append([true_term,pred_term])     # dict[length of term] = [[term_true_1,term_pred_1],[term_true_1,term_pred_2],...]\n",
    "\n",
    "    correct_pairing_dict  = {}\n",
    "    for i in sep_term_true: correct_pairing_dict[\" \".join(i)] = []\n",
    "    \n",
    "    correct_obj_dict  = {}\n",
    "    for i in sep_term_true: correct_obj_dict[\" \".join(i)] = []\n",
    "    \n",
    "    # go through term pairing by length \n",
    "    for len_term,list_of_term_pair in dict(grouped).items():\n",
    "        \n",
    "        tru_term       = [x[0] for x in list_of_term_pair]\n",
    "        pred_term      = [x[1] for x in list_of_term_pair]\n",
    "\n",
    "        tru_len        = len(tru_term)\n",
    "        pred_len       = len(pred_term)\n",
    "\n",
    "        unique_tru      = np.unique([\" \".join(t) for t in tru_term])\n",
    "        unique_tru_len  = len(unique_tru)\n",
    "        unique_pred     = np.unique([\" \".join(t) for t in pred_term])\n",
    "        unique_pred_len = len(unique_pred)\n",
    "\n",
    "        assert unique_tru_len*unique_pred_len == tru_len, f\"Noticed repeating terms in Lagrangians\"\n",
    "\n",
    "        # Do checks \n",
    "        for iterm_tru, iterm_pred in list_of_term_pair:\n",
    "\n",
    "            obj_true , complete_true , good_contract_true = sep_objects(\" \".join(iterm_tru),checks=True)\n",
    "            obj_pred , complete_pred , good_contract_pred = sep_objects(\" \".join(iterm_pred),checks=True)\n",
    "\n",
    "            same_objects_bool_ec = same_objects_Q(\" \".join(iterm_tru)    ,\" \".join(iterm_pred))\n",
    "            same_objects_bool_ys = check_same_objects(\" \".join(iterm_tru),\" \".join(iterm_pred))\n",
    "            assert same_objects_bool_ec == same_objects_bool_ys\n",
    "\n",
    "            # filter by same object\n",
    "            if same_objects_bool_ys:        \n",
    "                assert all([len(obj_true) == len(obj_pred) for iobj_true,iobj_pred in zip(obj_true,obj_pred)])\n",
    "                assert len(obj_true) == len(obj_pred)\n",
    "\n",
    "                # Correct obj dict\n",
    "                correct_obj_dict[\" \".join(iterm_tru)].append(\" \".join(iterm_pred))\n",
    "                \n",
    "                if good_contract_true:\n",
    "                    # do contraction checks here\n",
    "                    if check_same_contractions(\" \".join(iterm_tru)    ,\" \".join(iterm_pred)):\n",
    "                        correct_pairing_dict[\" \".join(iterm_tru)].append(\" \".join(iterm_pred))\n",
    "\n",
    "\n",
    "        # Each True Term should be paired with exactly 1 Predicted Term, \n",
    "        # Do positional based now if there is ambiguity.\n",
    "        for iterm_tru in unique_tru:\n",
    "            \n",
    "            # If more than one term, do position checks\n",
    "            if len(correct_pairing_dict[iterm_tru]) > 1: \n",
    "\n",
    "                true_pos = []\n",
    "                # for each paired term, redo contractions check but now with positional based checks\n",
    "                for paired_term in correct_pairing_dict[iterm_tru]:\n",
    "                    if (check_same_contractions(str(iterm_tru), str(paired_term),True)): true_pos.append(paired_term)\n",
    "                correct_pairing_dict[iterm_tru] = true_pos\n",
    "        \n",
    "        # Check for cases with overlapping elements of the matrix, otherwise take one of them\n",
    "        for iterm_tru in unique_tru:\n",
    "            \n",
    "            # If more than one term, remove cases where its found to exist in other true pairing with only one paired\n",
    "            if len(correct_pairing_dict[iterm_tru]) > 1: \n",
    "                for iterm_tru_others in unique_tru:\n",
    "                    if (len(correct_pairing_dict[iterm_tru_others]) == 1 \n",
    "                        and check_same_objects(\" \".join(iterm_tru),\" \".join(iterm_tru_others))\n",
    "                        and iterm_tru_others in correct_pairing_dict[iterm_tru]):\n",
    "                        correct_pairing_dict[iterm_tru].remove(iterm_tru_others)\n",
    "                \n",
    "                nmore_cases = len([iterm_trux for iterm_trux in unique_tru  if (len(correct_pairing_dict[iterm_trux]) > 1 \n",
    "                                                                                and check_same_objects(\" \".join(iterm_tru),\" \".join(iterm_trux)))])\n",
    "                if len(correct_pairing_dict[iterm_tru]) > 1 and nmore_cases ==1:\n",
    "                    correct_pairing_dict[iterm_tru] = [correct_pairing_dict[iterm_tru][-1]]\n",
    "\n",
    "                else:\n",
    "                    print(\"!!!!!!!!!!!!!!!!!!!!!!\")\n",
    "                    print(\"FOUND CASES WITH AMBIGUITY!\")\n",
    "                    print(\"correct_pairing_dict[iterm_tru] :\",correct_pairing_dict[iterm_tru])\n",
    "                    print(\"nmore_cases                     :\",nmore_cases                    )\n",
    "                    for i in correct_pairing_dict[iterm_tru]:\n",
    "                        print(i)\n",
    "                    raise KeyError\n",
    "                # if len(true_pos) > 1:\n",
    "                #     #print(\"Repeating Term:\",correct_pairing_dict[iterm_tru])\n",
    "                #     correct_pairing_dict[iterm_tru] = [true_pos[-1]]\n",
    "                #     assert len(correct_pairing_dict[iterm_tru]) == 1, f\"FOUND MORE TERM AFTER POS CHECKS: {len(correct_pairing_dict[iterm_tru])}\"\n",
    "\n",
    "\n",
    "        \n",
    "\n",
    "    n_term_true        = len(sep_term_true)\n",
    "    n_term_predicted   = len(sep_term_predicted)\n",
    "\n",
    "    ncorrect           = len([i for i,j in correct_pairing_dict.items() if len(j) == 1])\n",
    "    ncorrect_obj       = len([i for i,j in correct_obj_dict.items()     if len(j) >= 1])\n",
    "\n",
    "\n",
    "    if verbose:\n",
    "        if ncorrect     != n_term_true:        \n",
    "            print(\"Truth Terms with missing in Prediction (all considered):\")\n",
    "            for i,j in correct_pairing_dict.items():\n",
    "                if len(j) != 1:\n",
    "                    print(i,j)\n",
    "            \n",
    "        if ncorrect_obj != n_term_true:        \n",
    "            print(\"Truth Terms with missing in Prediction (by fields):\")\n",
    "            for i,j in correct_obj_dict.items():\n",
    "                if len(j) == 0:\n",
    "                    print(i,j)    \n",
    "        \n",
    "        if n_term_predicted != n_term_true:\n",
    "            print(\"Mismatch on the number of terms:\")\n",
    "            print(\"n_term_predicted : \", n_term_predicted)\n",
    "            print(\"n_term_true      : \", n_term_true)\n",
    "            if n_term_predicted > n_term_true:\n",
    "                used_terms = np.concatenate([j for _,j in correct_pairing_dict.items()])\n",
    "                unpaired_terms = [\" \".join(pterm) for pterm in sep_term_predicted if \" \".join(pterm) not in used_terms ]\n",
    "                print(\"Unpaired Terms:\")\n",
    "                for upterm in unpaired_terms:\n",
    "                    print(upterm)\n",
    "\n",
    "\n",
    "    ndiff              = abs(n_term_predicted-n_term_true)\n",
    "    length_penal       = ndiff         / n_term_true\n",
    "    obj_score          = ncorrect_obj  / n_term_true\n",
    "    correct_score      = ncorrect      / n_term_true\n",
    "    lagrangian_score   = correct_score - length_penal\n",
    "\n",
    "    assert len([i for i,j in correct_pairing_dict.items() if len(j) > 1]) == 0 , \"Should not be more than one match per \"  \n",
    "    assert ncorrect <= ncorrect_obj                                            , \"Should not be more than one match per \"    \n",
    "\n",
    "    return  lagrangian_score, obj_score, correct_score, length_penal\n"
   ]
  },
  {
   "cell_type": "code",
   "execution_count": null,
   "id": "5d336e2c",
   "metadata": {},
   "outputs": [],
   "source": [
    "\n",
    "inputs_field = tokenizer([field,field2,field3,field4], return_tensors='pt', truncation=True,padding=True)\n",
    "inputs_field2 = tokenizer([field5,field6,field7,field8], return_tensors='pt', truncation=True,padding=True)\n",
    "field_pair_dataset    = TensorDataset(inputs_field[\"input_ids\"],inputs_field2[\"input_ids\"])\n",
    "field_pair_dataloader = DataLoader(field_pair_dataset, shuffle=False)\n",
    "for ifield,ifield2 in (field_pair_dataloader):\n",
    "    print(ifield)\n",
    "    print(ifield2)"
   ]
  },
  {
   "cell_type": "markdown",
   "id": "bdcf97e2",
   "metadata": {},
   "source": [
    "## Embedding analysis : What has it really learn?"
   ]
  },
  {
   "cell_type": "markdown",
   "id": "72478e40",
   "metadata": {},
   "source": [
    "Considerations : \n",
    "- Is efficiency the only think you need? \n",
    "- Or is it important for you to know whether the model knows what it is learning? \n",
    "\n",
    "Practical Questions : \n",
    "- Can it associate inputs to some embedding space? <br> \n",
    "- Can it understand relations between inputs?  <br> "
   ]
  },
  {
   "cell_type": "code",
   "execution_count": null,
   "id": "3ff1124f",
   "metadata": {},
   "outputs": [],
   "source": [
    "# Example of getting embeddings of specific cases\n",
    "\n",
    "\n",
    "\n"
   ]
  },
  {
   "cell_type": "code",
   "execution_count": null,
   "id": "671d4a46",
   "metadata": {},
   "outputs": [],
   "source": [
    "# load generated embeddings (tsne-reduced)\n",
    "\n",
    "\n"
   ]
  },
  {
   "cell_type": "code",
   "execution_count": null,
   "id": "d5bb9b3f",
   "metadata": {},
   "outputs": [],
   "source": [
    "# plot "
   ]
  },
  {
   "cell_type": "markdown",
   "id": "77787d14",
   "metadata": {},
   "source": [
    "## OOD Generalization : Can it go beyond what its trained? "
   ]
  },
  {
   "cell_type": "markdown",
   "id": "f5c5fcd2",
   "metadata": {},
   "source": [
    "Considerations : \n",
    "- Is your problem's \"data space\" very big? \n",
    "- Is the probably of an unseen case high? \n",
    "- If yes, then chances of OOD data cases are high. \n",
    "- Do you want to think about the next archietcture?\n",
    "\n",
    "Practical Questions : \n",
    "- Can it work with never seen scenarios? What is your OOD?"
   ]
  },
  {
   "cell_type": "markdown",
   "id": "e5ac954c",
   "metadata": {},
   "source": [
    "### U1 Generalization"
   ]
  },
  {
   "cell_type": "code",
   "execution_count": null,
   "id": "ab69658f",
   "metadata": {},
   "outputs": [],
   "source": []
  },
  {
   "cell_type": "markdown",
   "id": "7f74d553",
   "metadata": {},
   "source": [
    "### N field Generalization"
   ]
  },
  {
   "cell_type": "code",
   "execution_count": null,
   "id": "a873438d",
   "metadata": {},
   "outputs": [],
   "source": []
  }
 ],
 "metadata": {
  "kernelspec": {
   "display_name": "Python 3",
   "language": "python",
   "name": "python3"
  },
  "language_info": {
   "codemirror_mode": {
    "name": "ipython",
    "version": 3
   },
   "file_extension": ".py",
   "mimetype": "text/x-python",
   "name": "python",
   "nbconvert_exporter": "python",
   "pygments_lexer": "ipython3",
   "version": "3.8.10"
  }
 },
 "nbformat": 4,
 "nbformat_minor": 5
}
