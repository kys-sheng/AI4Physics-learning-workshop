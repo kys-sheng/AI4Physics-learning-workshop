{
 "cells": [
  {
   "cell_type": "markdown",
   "id": "d369682e",
   "metadata": {},
   "source": [
    "# <u>**Tackling a Realistic Physics Problem : How to approach it? What needs to be considered?**</u>\n",
    "<h4>\n",
    "<u>Content</u>: <br> \n",
    "0. Introducing our physics Example : Lagrangian Generation <br>\n",
    "1. Datasets : Distributions and Tokenization <br>\n",
    "2. Training : Where to find resources!<br>\n",
    "3. Evaluations : Metric vs Score, Embedding Analysis, Out-Of-Domain Generalization<br>\n",
    "</h4>\n",
    "\n",
    "---\n",
    "---\n"
   ]
  },
  {
   "cell_type": "markdown",
   "id": "657f6a62",
   "metadata": {},
   "source": [
    "# 0. **Physics Example : Lagrangian Generation!**\n",
    "\n",
    "### **<u>Model Task</u>**\n",
    "<img src=\"https://i.imgur.com/dGfUOPB.png\" alt=\"Distribtuion\" width=\"900\">\n",
    "\n",
    "Reference: https://arxiv.org/abs/2501.09729\n"
   ]
  },
  {
   "cell_type": "markdown",
   "id": "a66de86d",
   "metadata": {},
   "source": [
    "### **<u>Inference</u>**"
   ]
  },
  {
   "cell_type": "markdown",
   "id": "8888cf75",
   "metadata": {},
   "source": [
    "Before anything else, load some basic libraries :)\n"
   ]
  },
  {
   "cell_type": "code",
   "execution_count": null,
   "id": "ec316c0d",
   "metadata": {},
   "outputs": [],
   "source": [
    "# Uncomment and run this if youre doing via google collab\n",
    "#!git clone https://github.com/kys-sheng/AI4Physics-learning-workshop"
   ]
  },
  {
   "cell_type": "code",
   "execution_count": null,
   "id": "447fd8ae",
   "metadata": {},
   "outputs": [],
   "source": [
    "# Uncomment and run this if youre doing via google collab\n",
    "# import sys\n",
    "# sys.path.append('/content/AI4Physics-learning-workshop')  # Adjust path as needed"
   ]
  },
  {
   "cell_type": "code",
   "execution_count": 17,
   "id": "f1910233",
   "metadata": {},
   "outputs": [],
   "source": [
    "import numpy as np\n",
    "import random\n",
    "import pandas as pd\n",
    "import matplotlib.pyplot as plt\n",
    "import random \n",
    "%matplotlib inline\n",
    "\n",
    "import torch\n",
    "import lag_eval as le\n",
    "from transformers import BartForConditionalGeneration, PreTrainedTokenizerFast\n",
    "\n",
    "device = torch.device(\"cuda\" if torch.cuda.is_available() else \"cpu\")"
   ]
  },
  {
   "cell_type": "code",
   "execution_count": null,
   "id": "05b2961e",
   "metadata": {},
   "outputs": [],
   "source": [
    "print(\"Youre using: \",device)"
   ]
  },
  {
   "cell_type": "markdown",
   "id": "978ec094",
   "metadata": {},
   "source": [
    "#### Load our model and tokenizer"
   ]
  },
  {
   "cell_type": "code",
   "execution_count": 18,
   "id": "964c4027",
   "metadata": {},
   "outputs": [
    {
     "name": "stderr",
     "output_type": "stream",
     "text": [
      "/cephyr/users/koay/Alvis/venv/jammymod/lib/python3.11/site-packages/huggingface_hub/file_download.py:1150: FutureWarning: `resume_download` is deprecated and will be removed in version 1.0.0. Downloads always resume when possible. If you want to force a new download, use `force_download=True`.\n",
      "  warnings.warn(\n"
     ]
    }
   ],
   "source": [
    "# Load our BART-L model and tokenizer if not yet loaded\n",
    "model_name   = \"JoseEliel/BART-Lagrangian\"\n",
    "model        = BartForConditionalGeneration.from_pretrained(model_name).to(device)\n",
    "hf_tokenizer = PreTrainedTokenizerFast.from_pretrained(model_name)"
   ]
  },
  {
   "cell_type": "markdown",
   "id": "b8d56f7f",
   "metadata": {},
   "source": [
    "#### Lets write a Higgs-only Lagrangian with BART-L"
   ]
  },
  {
   "cell_type": "code",
   "execution_count": 21,
   "id": "4e34e6cf",
   "metadata": {},
   "outputs": [
    {
     "name": "stdout",
     "output_type": "stream",
     "text": [
      "Input    =  [SOS] FIELD SPIN 0 SU2 2 U1 1 [EOS]\n",
      "token_id =  [0, 22, 36, 9, 37, 6, 39, 5, 1]\n"
     ]
    }
   ],
   "source": [
    "higgs           = \"FIELD SPIN 0 SU2 2 U1 1\"\n",
    "    \n",
    "example_input   = \"[SOS] \"+higgs+\" [EOS]\"\n",
    "print(\"Input    = \",example_input)\n",
    "\n",
    "encoded_input   = hf_tokenizer.encode(example_input)\n",
    "print(\"token_id = \", encoded_input)"
   ]
  },
  {
   "cell_type": "markdown",
   "id": "d50d1d98",
   "metadata": {},
   "source": [
    "#### Generate the Lagrangian!"
   ]
  },
  {
   "cell_type": "code",
   "execution_count": 23,
   "id": "0586ae74",
   "metadata": {},
   "outputs": [
    {
     "name": "stdout",
     "output_type": "stream",
     "text": [
      "Predicted : \n",
      "+ FIELD SPIN 0 SU2 2 U1 1 ID4 FIELD SPIN 0 SU2 2 U1 1 ID7 FIELD SPIN 0 SU2 2 U1 - 1 DAGGER ID0 FIELD SPIN 0 SU2 2 U1 - 1 DAGGER ID9 CONTRACTIONS SU2 ID4 ID0 SU2 ID7 ID9\n",
      "+ FIELD SPIN 0 SU2 2 U1 1 ID6 FIELD SPIN 0 SU2 2 U1 1 ID4 FIELD SPIN 0 SU2 2 U1 - 1 DAGGER ID2 FIELD SPIN 0 SU2 2 U1 - 1 DAGGER ID0 CONTRACTIONS SU2 ID6 ID4 SU2 ID2 ID0\n",
      "+ DERIVATIVE SU2 U1 ID6 FIELD SPIN 0 SU2 2 U1 - 1 DAGGER ID7 DERIVATIVE SU2 U1 ID0 FIELD SPIN 0 SU2 2 U1 1 ID4 CONTRACTIONS LORENTZ ID6 ID0 SU2 ID7 ID4\n",
      "- COMMUTATOR_A DERIVATIVE SU2 ID6 COMMUTATOR_B DERIVATIVE SU2 ID0 COMMUTATOR_A DERIVATIVE SU2 ID4 COMMUTATOR_B DERIVATIVE SU2 ID1 CONTRACTIONS LORENTZ ID6 ID4 LORENTZ ID0 ID1\n",
      "- COMMUTATOR_A DERIVATIVE U1 ID6 COMMUTATOR_B DERIVATIVE U1 ID0 COMMUTATOR_A DERIVATIVE U1 ID4 COMMUTATOR_B DERIVATIVE U1 ID1 CONTRACTIONS LORENTZ ID6 ID4 LORENTZ ID0 ID1\n",
      "+ FIELD SPIN 0 SU2 2 U1 - 1 DAGGER ID6 FIELD SPIN 0 SU2 2 U1 1 ID7 CONTRACTIONS SU2 ID6 ID7\n"
     ]
    }
   ],
   "source": [
    "model.eval()\n",
    "with torch.no_grad():\n",
    "    # Generate the ids for the Lagrangians\n",
    "    generated_id     = model.generate(input_ids=torch.tensor(encoded_input).unsqueeze(0).to(device), max_length=1024)\n",
    "    # Decode it!\n",
    "    predicted_string = hf_tokenizer.decode(generated_id[0].to(device), skip_special_tokens=True)\n",
    "\n",
    "print(\"Predicted : \", )\n",
    "for i in le.sep_terms(predicted_string):\n",
    "    print(\" \".join(i))    "
   ]
  },
  {
   "cell_type": "markdown",
   "id": "63675859",
   "metadata": {},
   "source": [
    "An example of a translation table:"
   ]
  },
  {
   "cell_type": "markdown",
   "id": "5a5bfa6e",
   "metadata": {},
   "source": [
    "<img src=\"https://i.imgur.com/qD94qCd.png\" alt=\"Distribtuion\" width=\"1000\">\n"
   ]
  },
  {
   "cell_type": "markdown",
   "id": "fcc20997",
   "metadata": {},
   "source": [
    "## For a more interactive latex version of our model, see : https://huggingface.co/spaces/JoseEliel/generate-lagrangians"
   ]
  },
  {
   "cell_type": "markdown",
   "id": "984e784e",
   "metadata": {},
   "source": [
    "---\n",
    "---"
   ]
  },
  {
   "cell_type": "markdown",
   "id": "3cd6bf30",
   "metadata": {},
   "source": [
    "<h1>\n",
    "Now comes the important parts, if you wanna start your project :  <br>\n",
    "<h2>\n",
    " - How to approach it?  <br>\n",
    " - What needs to be considered? <br>"
   ]
  },
  {
   "cell_type": "markdown",
   "id": "60dbe884",
   "metadata": {},
   "source": [
    "---\n",
    "---"
   ]
  },
  {
   "cell_type": "markdown",
   "id": "59e4dc9c",
   "metadata": {},
   "source": [
    "# 1. **Preparing your Dataset**\n"
   ]
  },
  {
   "cell_type": "markdown",
   "id": "2eccef88",
   "metadata": {},
   "source": [
    "<h2> Rule of Thumb : NN are good interpolators, but not that good of an extrapolator. (Recall Niklas' talk) </h2> \n",
    "<h4>\n",
    "- NN learns from data. <br>\n",
    "- If the model is given something it has never seen, it figure outs based on existing experience  <br>\n",
    "- Training Data Distribution matters! <br>"
   ]
  },
  {
   "cell_type": "markdown",
   "id": "81a3ae47",
   "metadata": {},
   "source": [
    "---"
   ]
  },
  {
   "cell_type": "markdown",
   "id": "f836574f",
   "metadata": {},
   "source": [
    "# **1a. Data Distribution**"
   ]
  },
  {
   "cell_type": "markdown",
   "id": "8972275e",
   "metadata": {},
   "source": [
    "<h4>\n",
    "- What do you need to think about? Where to start?    <br>\n",
    "- Think of your use case, and go from there!  <br>\n",
    "\n",
    "---"
   ]
  },
  {
   "cell_type": "markdown",
   "id": "90a605ef",
   "metadata": {},
   "source": [
    "## Example in Math  : x + y => ? \n"
   ]
  },
  {
   "cell_type": "markdown",
   "id": "4508ff36",
   "metadata": {},
   "source": [
    "### Use case :\n",
    "<div align=\"center\">\n",
    "     <h4> add any two numbers independent of the number's digits, <br> be it between 1-digit numbers (2+2) or 5-digit numbers (20000+16378) </h4>\n",
    "</div>\n"
   ]
  },
  {
   "cell_type": "markdown",
   "id": "1018bbe4",
   "metadata": {},
   "source": [
    "### So, Lets have a look at the digits of our numbers in the datasets!"
   ]
  },
  {
   "cell_type": "markdown",
   "id": "d4cb3b9d",
   "metadata": {},
   "source": [
    "Let's generate numbers from 1-10000 and do addition as before"
   ]
  },
  {
   "cell_type": "code",
   "execution_count": 24,
   "id": "36f0771e",
   "metadata": {},
   "outputs": [
    {
     "name": "stdout",
     "output_type": "stream",
     "text": [
      "Example: 1806+2119 = 3925\n",
      "Example: 8638+1274 = 9912\n",
      "Example: 427+1635 = 2062\n"
     ]
    }
   ],
   "source": [
    "num_examples = 10000\n",
    "min_num      = 1\n",
    "max_num      = 10000\n",
    "\n",
    "# Generate random examples\n",
    "examples     = [(random.randint(min_num, max_num),random.randint(min_num, max_num)) for _ in range(num_examples)]\n",
    "df           = pd.DataFrame(examples, columns=['x', 'y'])\n",
    "df['sum']    = df['x'] + df['y']\n",
    "\n",
    "print(f\"Example: {df['x'].iloc[0]}+{ df['y'].iloc[0]} = { df['sum'].iloc[0]}\")\n",
    "print(f\"Example: {df['x'].iloc[1]}+{ df['y'].iloc[1]} = { df['sum'].iloc[1]}\")\n",
    "print(f\"Example: {df['x'].iloc[2]}+{ df['y'].iloc[2]} = { df['sum'].iloc[2]}\")\n"
   ]
  },
  {
   "cell_type": "code",
   "execution_count": 26,
   "id": "62511348",
   "metadata": {},
   "outputs": [
    {
     "data": {
      "image/png": "[encoded data removed]",
      "text/plain": [
       "<Figure size 640x480 with 1 Axes>"
      ]
     },
     "metadata": {},
     "output_type": "display_data"
    }
   ],
   "source": [
    "# Lets compute the number of digits in each number\n",
    "df['x_digit']   = df['x'].apply(lambda x: len(str(x)))    \n",
    "df['y_digit']   = df['y'].apply(lambda x: len(str(x)))    \n",
    "df['sum_digit'] = df['sum'].apply(lambda x: len(str(x)))\n",
    "\n",
    "# Plot the distribution of number of digits\n",
    "df['x_digit'].hist(label=\"x\",range=(1,6),bins=5,alpha=0.5)\n",
    "df['y_digit'].hist(label=\"y\",range=(1,6),bins=5,alpha=0.5)\n",
    "df['sum_digit'].hist(label=\"sum\",range=(1,6),bins=5,alpha=0.5)\n",
    "plt.legend()\n",
    "plt.title(\"Distribution of number of digits\")\n",
    "plt.xlabel(\"Number of digits\")  \n",
    "plt.ylabel(\"Frequency\")\n",
    "plt.show()\n"
   ]
  },
  {
   "cell_type": "markdown",
   "id": "f9f96d97",
   "metadata": {},
   "source": [
    "### Probability of the model to learn the addition with the **both number** having 1 digit, 2 digits, 3 digits, 4 digits, ...\n"
   ]
  },
  {
   "cell_type": "code",
   "execution_count": 27,
   "id": "b10943d1",
   "metadata": {},
   "outputs": [
    {
     "name": "stdout",
     "output_type": "stream",
     "text": [
      "P(both_digit=1) =  0.0\n",
      "P(both_digit=2) =  0.0\n",
      "P(both_digit=3) =  0.0089\n",
      "P(both_digit=4) =  0.8072\n",
      "P(both_digit=5) =  0.0\n"
     ]
    }
   ],
   "source": [
    "print(\"P(both_digit=1) = \", len(df[(df[\"x_digit\"] == 1) & (df[\"y_digit\"] == 1)]) / num_examples)\n",
    "print(\"P(both_digit=2) = \", len(df[(df[\"x_digit\"] == 2) & (df[\"y_digit\"] == 2)]) / num_examples)\n",
    "print(\"P(both_digit=3) = \", len(df[(df[\"x_digit\"] == 3) & (df[\"y_digit\"] == 3)]) / num_examples)\n",
    "print(\"P(both_digit=4) = \", len(df[(df[\"x_digit\"] == 4) & (df[\"y_digit\"] == 4)]) / num_examples)\n",
    "print(\"P(both_digit=5) = \", len(df[(df[\"x_digit\"] == 5) & (df[\"y_digit\"] == 5)]) / num_examples)\n"
   ]
  },
  {
   "cell_type": "markdown",
   "id": "8ed07424",
   "metadata": {},
   "source": [
    "### Probability of the model to learn additions that leads to a sum with 1 digit, 2 digits, 3 digits, 4 digits, ...\n"
   ]
  },
  {
   "cell_type": "code",
   "execution_count": 28,
   "id": "1498d509",
   "metadata": {},
   "outputs": [
    {
     "name": "stdout",
     "output_type": "stream",
     "text": [
      "P(sum_digit=1) =  0.0\n",
      "P(sum_digit=2) =  0.0\n",
      "P(sum_digit=3) =  0.0058\n",
      "P(sum_digit=4) =  0.5009\n",
      "P(sum_digit=5) =  0.4933\n"
     ]
    }
   ],
   "source": [
    "print(\"P(sum_digit=1) = \", len(df[df[\"sum_digit\"] == 1]) / num_examples)\n",
    "print(\"P(sum_digit=2) = \", len(df[df[\"sum_digit\"] == 2]) / num_examples)\n",
    "print(\"P(sum_digit=3) = \", len(df[df[\"sum_digit\"] == 3]) / num_examples)\n",
    "print(\"P(sum_digit=4) = \", len(df[df[\"sum_digit\"] == 4]) / num_examples)\n",
    "print(\"P(sum_digit=5) = \", len(df[df[\"sum_digit\"] == 5]) / num_examples)\n"
   ]
  },
  {
   "cell_type": "markdown",
   "id": "82add299",
   "metadata": {},
   "source": [
    "### What you should do then in this case? \n",
    "- Oversample the low-digit cases! : \n",
    "    - They showed how Data Distribution affects GCD use-case\n",
    "    - https://arxiv.org/pdf/2308.15594 \n",
    "- Architectural choices          : \n",
    "    - introduce Continuous Numerical Tokenization [Treat numbers as numbers instead of alphabet like]\n",
    "    - https://arxiv.org/abs/2310.02989 "
   ]
  },
  {
   "cell_type": "markdown",
   "id": "763f204f",
   "metadata": {},
   "source": [
    "---"
   ]
  },
  {
   "cell_type": "markdown",
   "id": "ae2eeb50",
   "metadata": {},
   "source": [
    "## Example in Lagrangian Generation\n",
    "<div align=\"center\">\n",
    "     <h2> A , B -> L(A,B,C) </h2>\n",
    "</div>"
   ]
  },
  {
   "cell_type": "markdown",
   "id": "1de4b481",
   "metadata": {},
   "source": [
    "### Use Case : \n",
    "A. Want to work with different number of fields : A,B,C,D,E,F <br>\n",
    "B. Want work with varying interactions : Quartic, Yukawa, Trilinears<br>"
   ]
  },
  {
   "cell_type": "markdown",
   "id": "fdc59d80",
   "metadata": {},
   "source": [
    "### We generated two datasets to look into this: \n",
    "- Sampled Distribution : \n",
    "    - One with more trilinears (harder to get if randomly sample) but less large number of fields <br>\n",
    "    \n",
    "<img src=\"https://i.imgur.com/K7p8fLR.png\" alt=\"Distribtuion\" width=\"500\"><br>\n",
    "\n",
    "- Uniform Distribution : <br>\n",
    "\n",
    "<img src=\"https://i.imgur.com/s4MJA9v.png\" alt=\"Distribtuion\" width=\"500\"><br>\n"
   ]
  },
  {
   "cell_type": "markdown",
   "id": "613a442f",
   "metadata": {},
   "source": [
    "Reference : Train set priming https://arxiv.org/abs/2306.15400"
   ]
  },
  {
   "cell_type": "markdown",
   "id": "5b9c7aa2",
   "metadata": {},
   "source": [
    "# Takeaway: Build your data around your use case!\n",
    "---"
   ]
  },
  {
   "cell_type": "markdown",
   "id": "3032383a",
   "metadata": {},
   "source": [
    "# **1b. Tokenization choices**"
   ]
  },
  {
   "cell_type": "markdown",
   "id": "6b8c9f92",
   "metadata": {},
   "source": [
    "## **Considerations:**\n",
    "- How detail should your tokenization be?\n",
    "- What information is required for your model to learn?\n",
    "- What are some practical concerns? \n",
    "- Do you care about expressivity? Do you care about Out-of-Distribution scenarios? See 3C"
   ]
  },
  {
   "cell_type": "markdown",
   "id": "36e1250b",
   "metadata": {},
   "source": [
    "## **Choices of Tokenization**"
   ]
  },
  {
   "cell_type": "markdown",
   "id": "c0833bf0",
   "metadata": {},
   "source": [
    "In Language:\n",
    "Example Phrase : AI For Physics\n",
    "- Word-Level : AI, For, Physics\n",
    "- Character-Level : A, I,  , F, o, r,  , P, h, y, s, i, c, s\n",
    "\n",
    "In Math:\n",
    "Example Expression : 100 + 420 = 520\n",
    "- \"Term\"-level : 100, +, 420, =, 520\n",
    "- \"Digit\"-Level : 1, 0, 0,  +,  4, 2, 0, =,  5, 2, 0\n",
    "\n",
    "In Lagrangians:\n",
    "Example Field : Higgs Particle\n",
    "- Symbol Level : H\n",
    "- Quantum-Numbers-Level: FIELD, SPIN, 0, SU2, 2, U1, 1\n",
    "\n"
   ]
  },
  {
   "cell_type": "markdown",
   "id": "68c97565",
   "metadata": {},
   "source": [
    "You can already see from these examples that the number of tokens changes! Any consequences?"
   ]
  },
  {
   "cell_type": "markdown",
   "id": "3d38e624",
   "metadata": {},
   "source": [
    "---"
   ]
  },
  {
   "cell_type": "markdown",
   "id": "cb88417b",
   "metadata": {},
   "source": [
    "## Vocab Size vs Number of Tokens "
   ]
  },
  {
   "cell_type": "markdown",
   "id": "3c8f9a16",
   "metadata": {},
   "source": [
    "### Math Example : Tokenizing Numbers "
   ]
  },
  {
   "cell_type": "code",
   "execution_count": 107,
   "id": "4674bd6d",
   "metadata": {},
   "outputs": [
    {
     "name": "stdout",
     "output_type": "stream",
     "text": [
      "char_level_example     :  4 2 2 3 + 8 4 5 3 8 = 8 8 7 6 1\n",
      "char_level_example     :  4 5 4 3 6 + 5 3 2 6 3 = 9 8 6 9 9\n",
      "char_level_example     :  9 9 0 4 1 + 7 1 7 8 = 1 0 6 2 1 9\n",
      "\n",
      "word_level_example     :  29715 + 63318 = 93033\n",
      "word_level_example     :  38597 + 87109 = 125706\n",
      "word_level_example     :  7240 + 64463 = 71703\n"
     ]
    }
   ],
   "source": [
    "from tokenizers import Tokenizer\n",
    "from tokenizers.models import WordLevel\n",
    "from tokenizers.trainers import WordLevelTrainer\n",
    "from tokenizers.pre_tokenizers import Whitespace\n",
    "\n",
    "# Character-level \n",
    "# 1. Generate arithmetic corpus as before\n",
    "num_examples = 10000\n",
    "min_num      = 0\n",
    "max_num      = 100000\n",
    "examples     = [(random.randint(min_num, max_num),random.randint(min_num, max_num)) for _ in range(num_examples)]\n",
    "char_level_corpus = [\" \".join(list(f\"{a}+{b}={str(a + b)}\")) for a , b in examples]\n",
    "vocab = {\"1\" : 1, \"2\" : 2, \"3\" : 3, \"4\" : 4, \"5\" : 5, \"6\" : 6, \"7\" : 7, \"8\" : 8, \"9\" : 9,\n",
    "         \"0\" : 0, \"+\" : 10, \"=\" : 11,\"[UNK]\" : 12, \"[PAD]\" : 13, \"[BOS]\" : 14, \"[EOS]\" : 15}\n",
    "         \n",
    "# 2. Initialize tokenizer components\n",
    "char_level_tokenizer = Tokenizer(WordLevel(vocab=vocab, unk_token=\"[UNK]\"))\n",
    "char_level_tokenizer.pre_tokenizer = Whitespace()\n",
    "\n",
    "# Word-level \n",
    "word_level_corpus = [f\"{a} + {b} = {str(a + b)}\" for a , b in examples]\n",
    "word_level_tokenizer = Tokenizer(WordLevel(unk_token=\"[UNK]\"))\n",
    "word_level_tokenizer.pre_tokenizer = Whitespace()\n",
    "special_tokens = [\"[PAD]\", \"[UNK]\", \"[BOS]\", \"[EOS]\"]\n",
    "trainer = WordLevelTrainer(special_tokens=special_tokens)\n",
    "word_level_tokenizer.train_from_iterator(word_level_corpus, trainer)\n",
    "\n",
    "for i in range(3):\n",
    "    char_level_example = random.choice(char_level_corpus)\n",
    "    print(\"char_level_example     : \",char_level_example)\n",
    "\n",
    "print()\n",
    "for i in range(3):\n",
    "    word_level_example = random.choice(word_level_corpus)\n",
    "    print(\"word_level_example     : \",word_level_example)"
   ]
  },
  {
   "cell_type": "markdown",
   "id": "0c7084ce",
   "metadata": {},
   "source": [
    "#### Lets see it in action"
   ]
  },
  {
   "cell_type": "code",
   "execution_count": 40,
   "id": "e6c3bcf1",
   "metadata": {},
   "outputs": [
    {
     "name": "stdout",
     "output_type": "stream",
     "text": [
      "char_level_tokens      :  ['1', '0', '9', '6', '1', '+', '7', '7', '2', '2', '5', '=', '8', '8', '1', '8', '6']\n",
      "char_level_Ntokens     :  17\n",
      "char_level_vocab_size  :  16\n",
      "\n",
      "word_level_tokens      :  ['9872', '+', '43873', '=', '53745']\n",
      "word_level_Ntokens     :  5\n",
      "word_level_vocab_size  :  26971\n",
      "\n"
     ]
    }
   ],
   "source": [
    "char_level_example = random.choice(char_level_corpus)\n",
    "print(\"char_level_tokens      : \",char_level_tokenizer.encode(char_level_example).tokens)\n",
    "print(\"char_level_Ntokens     : \",len(char_level_tokenizer.encode(char_level_example).tokens))\n",
    "print(\"char_level_vocab_size  : \",char_level_tokenizer.get_vocab_size(),end=\"\\n\\n\")\n",
    "\n",
    "word_level_example = random.choice(word_level_corpus)\n",
    "print(\"word_level_tokens      : \",word_level_tokenizer.encode(word_level_example).tokens)\n",
    "print(\"word_level_Ntokens     : \",len(word_level_tokenizer.encode(word_level_example).tokens))\n",
    "print(\"word_level_vocab_size  : \",word_level_tokenizer.get_vocab_size(),end=\"\\n\\n\")"
   ]
  },
  {
   "cell_type": "markdown",
   "id": "e2961d33",
   "metadata": {},
   "source": [
    "### Lagrangian Example: Tokenizing Fields and Covariant Derivatives "
   ]
  },
  {
   "cell_type": "markdown",
   "id": "52ad407c",
   "metadata": {},
   "source": [
    "Like what youve seen before"
   ]
  },
  {
   "cell_type": "markdown",
   "id": "6eb36384",
   "metadata": {},
   "source": [
    "<img src=\"https://i.imgur.com/qD94qCd.png\" alt=\"Distribtuion\" width=\"1000\">\n"
   ]
  },
  {
   "cell_type": "markdown",
   "id": "108f420b",
   "metadata": {},
   "source": [
    "In some case, we need to be creative"
   ]
  },
  {
   "cell_type": "markdown",
   "id": "c6e3dadb",
   "metadata": {},
   "source": [
    "<img src=\"https://i.imgur.com/2yGqCVT.png\" alt=\"Distribtuion\" width=\"1000\">\n"
   ]
  },
  {
   "cell_type": "code",
   "execution_count": null,
   "id": "523fa9e6",
   "metadata": {},
   "outputs": [],
   "source": [
    "higgs           = \"FIELD SPIN 0 SU2 2 U1 1\"\n",
    "    \n",
    "example_input   = \"[SOS] \"+higgs+\" [EOS]\"\n",
    "encoded_input   = hf_tokenizer.encode(example_input)\n",
    "model.eval()\n",
    "with torch.no_grad():\n",
    "    # Generate the ids for the Lagrangians\n",
    "    generated_id     = model.generate(input_ids=torch.tensor(encoded_input).unsqueeze(0).to(device), max_length=1024)\n",
    "    # Decode it!\n",
    "    predicted_string = hf_tokenizer.decode(generated_id[0].to(device), skip_special_tokens=True)\n"
   ]
  },
  {
   "cell_type": "code",
   "execution_count": 41,
   "id": "767d0c94",
   "metadata": {},
   "outputs": [
    {
     "name": "stdout",
     "output_type": "stream",
     "text": [
      "Vocabulary size                         :  41\n",
      "Ntokens of a Lagrangian with only Higgs :  193\n"
     ]
    }
   ],
   "source": [
    "print(\"Vocabulary size                         : \", hf_tokenizer.vocab_size)\n",
    "print(\"Ntokens of a Lagrangian with only Higgs : \",len(predicted_string.split()))\n"
   ]
  },
  {
   "cell_type": "markdown",
   "id": "abf488a9",
   "metadata": {},
   "source": [
    "# Takeaway :  Detailed tokenization vs Coarse tokenization"
   ]
  },
  {
   "cell_type": "markdown",
   "id": "f97581bc",
   "metadata": {},
   "source": [
    "1. Detailed tokenization : \n",
    "- less vocabulary -> - more expressive\n",
    "- more token per sequence -> heavy on attention mechanism\n",
    "2. Coarse tokenization : \n",
    "- more vocabulary -> less expressive\n",
    "- less token per sequence -> easier on attention mechanism"
   ]
  },
  {
   "cell_type": "markdown",
   "id": "2f152260",
   "metadata": {},
   "source": [
    "---\n",
    "---\n",
    "# 2. **Training** : Where to find resources?\n"
   ]
  },
  {
   "cell_type": "markdown",
   "id": "66d5a3b8",
   "metadata": {},
   "source": [
    "### NAISS : https://www.naiss.se/\n",
    "- Provider of compute and storage resources\n",
    "- For any researchers based in Sweden\n"
   ]
  },
  {
   "cell_type": "markdown",
   "id": "1cfdeb40",
   "metadata": {},
   "source": [
    "\n",
    "### SUPR : https://supr.naiss.se/\n",
    "- Portal to apply for it. \n",
    "- There are varyind levels of applications [small, medium, large]\n",
    "- PhD students and above can already apply for small compute (Alvis: 1000GPUhs/months and Dardel: 20000 CPU-h/month!)\n"
   ]
  },
  {
   "cell_type": "markdown",
   "id": "055dafdc",
   "metadata": {},
   "source": [
    "\n",
    "### For GPU, we recommend:\n",
    "#### Alvis : https://www.c3se.chalmers.se/about/Alvis/ <br> OnDemand Portal : https://alvis.c3se.chalmers.se/pun/sys/dashboard/\n"
   ]
  },
  {
   "cell_type": "markdown",
   "id": "b926aecc",
   "metadata": {},
   "source": [
    "---\n",
    "---"
   ]
  },
  {
   "cell_type": "markdown",
   "id": "9c9823e0",
   "metadata": {},
   "source": [
    "# 3. **Evaluation**\n",
    "\n",
    "<h2>\n",
    "To evaluate your model properly. Again , think of your use case!\n",
    "</h2>\n",
    "\n",
    "------ "
   ]
  },
  {
   "cell_type": "markdown",
   "id": "44a65c22",
   "metadata": {},
   "source": [
    "\n",
    "<h2>\n",
    "<u>A. Is Cross-Entropy Loss enough for your model?</u>  (Think about permutation invariance, conservation laws, ...)\n",
    "<h4>\n",
    "  <ul>\n",
    "    <li> Yes? -> Ignore. </li>\n",
    "    <li> No? -> Create your own metric : See 3A</li>\n",
    "  </ul>\n",
    "</h4>\n"
   ]
  },
  {
   "cell_type": "markdown",
   "id": "d28a20cc",
   "metadata": {},
   "source": [
    "\n",
    "<h3>\n",
    "Define Lagrangian Score as:\n",
    "<div align=\"center\">\n",
    "     <h4> S_Lagrangian = (N_correct - N_Extra) / N_true </h3>\n",
    "</div>\n",
    "\n",
    "where:\n",
    "- N_correct = Number of correct terms\n",
    "- N_Extra = Number of extra terms\n",
    "- N_true = True Number of terms \n",
    "\n",
    "------ "
   ]
  },
  {
   "cell_type": "markdown",
   "id": "4585f420",
   "metadata": {},
   "source": [
    "<h3>\n",
    "B. Do you care whether the model internalizes the right concepts? (Relationship between symbols, or between inputs and outputs) \n",
    "  <ul>\n",
    "    <li> Yes? -> Embedding Analysis : See 3B</li> \n",
    "    <li> No? -> Continue </li>\n",
    "  </ul>\n",
    "\n",
    "For example:<br>\n",
    "<img src=\"https://i.imgur.com/ycNegGp.png\" alt=\"Embeddings in LLM\" width=\"500\">\n",
    "\n",
    "---"
   ]
  },
  {
   "cell_type": "markdown",
   "id": "c9de09d4",
   "metadata": {},
   "source": [
    "<h3>\n",
    "C. Is your problem \"infinite\"(ie probability of getting an unseen data point is high)?  \n",
    "  <ul>\n",
    "    <li>Yes? -> OoD Generalization : See 3C </li>\n",
    "    <li>No? -> Continue </li>\n",
    "  </ul>\n",
    "</h3>"
   ]
  },
  {
   "cell_type": "markdown",
   "id": "ce057631",
   "metadata": {},
   "source": [
    "<h3>\n",
    "For example:<br>\n",
    "<img src=\"https://i.imgur.com/yzdcPMB.png\" alt=\"Embeddings in LLM\" width=\"1000\">\n",
    "\n",
    "OOD Task can also lead to insights on the architectural constraints on task "
   ]
  },
  {
   "cell_type": "markdown",
   "id": "bdeab7ed",
   "metadata": {},
   "source": [
    "---"
   ]
  },
  {
   "cell_type": "markdown",
   "id": "0d6b2ab6",
   "metadata": {},
   "source": [
    "# 3A. Existing Metric  : Does it work? "
   ]
  },
  {
   "cell_type": "markdown",
   "id": "9c788b83",
   "metadata": {},
   "source": [
    "mainly to see if things work as expected\n",
    "Loss : Deviation from actual term \n",
    "Accuracy : How much is perfect? \n",
    "New metric, Score : (Order does not always matter, XEN)"
   ]
  },
  {
   "cell_type": "code",
   "execution_count": 65,
   "id": "8de2039d",
   "metadata": {},
   "outputs": [
    {
     "name": "stderr",
     "output_type": "stream",
     "text": [
      "/cephyr/users/koay/Alvis/venv/jammymod/lib/python3.11/site-packages/huggingface_hub/file_download.py:1150: FutureWarning: `resume_download` is deprecated and will be removed in version 1.0.0. Downloads always resume when possible. If you want to force a new download, use `force_download=True`.\n",
      "  warnings.warn(\n"
     ]
    }
   ],
   "source": [
    "# Choose GPU if available\n",
    "import torch\n",
    "import pandas as pd\n",
    "device = torch.device(\"cuda\" if torch.cuda.is_available() else \"cpu\")\n",
    "\n",
    "import lag_eval as le\n",
    "from transformers import BartForConditionalGeneration, PreTrainedTokenizerFast\n",
    "\n",
    "# Load our BART-L model and tokenizer if not yet loaded\n",
    "model_name   = \"JoseEliel/BART-Lagrangian\"\n",
    "model        = BartForConditionalGeneration.from_pretrained(model_name).to(device)\n",
    "hf_tokenizer = PreTrainedTokenizerFast.from_pretrained(model_name)"
   ]
  },
  {
   "cell_type": "code",
   "execution_count": 43,
   "id": "25d150b9",
   "metadata": {},
   "outputs": [
    {
     "name": "stdout",
     "output_type": "stream",
     "text": [
      "huggingface_dataset_sampled.csv\n"
     ]
    },
    {
     "name": "stderr",
     "output_type": "stream",
     "text": [
      "huggingface/tokenizers: The current process just got forked, after parallelism has already been used. Disabling parallelism to avoid deadlocks...\n",
      "To disable this warning, you can either:\n",
      "\t- Avoid using `tokenizers` before the fork if possible\n",
      "\t- Explicitly set the environment variable TOKENIZERS_PARALLELISM=(true | false)\n"
     ]
    }
   ],
   "source": [
    "!tar -xzvf huggingface_dataset_sampled.tar.gz"
   ]
  },
  {
   "cell_type": "code",
   "execution_count": 66,
   "id": "fbe043a7",
   "metadata": {},
   "outputs": [],
   "source": [
    "# Load data if not already loaded, drop duplicates\n",
    "sampled_df = pd.read_csv(\"huggingface_dataset_sampled.csv\")\n",
    "sampled_df.drop_duplicates(subset=[\"fields\"], inplace=True)"
   ]
  },
  {
   "cell_type": "code",
   "execution_count": 67,
   "id": "be1b2fde",
   "metadata": {},
   "outputs": [
    {
     "data": {
      "text/html": [
       "<div>\n",
       "<style scoped>\n",
       "    .dataframe tbody tr th:only-of-type {\n",
       "        vertical-align: middle;\n",
       "    }\n",
       "\n",
       "    .dataframe tbody tr th {\n",
       "        vertical-align: top;\n",
       "    }\n",
       "\n",
       "    .dataframe thead th {\n",
       "        text-align: right;\n",
       "    }\n",
       "</style>\n",
       "<table border=\"1\" class=\"dataframe\">\n",
       "  <thead>\n",
       "    <tr style=\"text-align: right;\">\n",
       "      <th></th>\n",
       "      <th>fields</th>\n",
       "      <th>Lagrangian</th>\n",
       "      <th>train/eval</th>\n",
       "    </tr>\n",
       "  </thead>\n",
       "  <tbody>\n",
       "    <tr>\n",
       "      <th>0</th>\n",
       "      <td>FIELD SPIN 1/2 SU3 - 3 SU2 2 U1 - 4 HEL 1/2 FI...</td>\n",
       "      <td>+ FIELD SPIN 1 / 2 SU3 - 3 SU2 2 HEL - 1 / 2 D...</td>\n",
       "      <td>eval</td>\n",
       "    </tr>\n",
       "    <tr>\n",
       "      <th>1</th>\n",
       "      <td>FIELD SPIN 1/2 HEL 1/2 FIELD SPIN 1/2 SU3 - 3 ...</td>\n",
       "      <td>+ i FIELD SPIN 1 / 2 HEL 1 / 2 ID9 SIGMA_BAR I...</td>\n",
       "      <td>eval</td>\n",
       "    </tr>\n",
       "    <tr>\n",
       "      <th>2</th>\n",
       "      <td>FIELD SPIN 0 SU2 3 U1 - 4 / 9 FIELD SPIN 1/2 S...</td>\n",
       "      <td>+ FIELD SPIN 0 SU2 3 U1 - 4 / 9 ID1 FIELD SPIN...</td>\n",
       "      <td>eval</td>\n",
       "    </tr>\n",
       "    <tr>\n",
       "      <th>3</th>\n",
       "      <td>FIELD SPIN 1/2 SU3 - 3 U1 3 / 8 HEL -1/2 FIELD...</td>\n",
       "      <td>+ FIELD SPIN 0 SU3 - 3 SU2 2 U1 - 8 / 9 ID3 FI...</td>\n",
       "      <td>eval</td>\n",
       "    </tr>\n",
       "    <tr>\n",
       "      <th>4</th>\n",
       "      <td>FIELD SPIN 0 SU3 3 SU2 3</td>\n",
       "      <td>+ FIELD SPIN 0 SU3 3 SU2 3 ID4 FIELD SPIN 0 SU...</td>\n",
       "      <td>eval</td>\n",
       "    </tr>\n",
       "    <tr>\n",
       "      <th>...</th>\n",
       "      <td>...</td>\n",
       "      <td>...</td>\n",
       "      <td>...</td>\n",
       "    </tr>\n",
       "    <tr>\n",
       "      <th>286076</th>\n",
       "      <td>FIELD SPIN 0 SU3 3 SU2 3 U1 9 / 2 FIELD SPIN 1...</td>\n",
       "      <td>+ FIELD SPIN 1 / 2 SU2 2 U1 1 / 5 HEL - 1 / 2 ...</td>\n",
       "      <td>train</td>\n",
       "    </tr>\n",
       "    <tr>\n",
       "      <th>286077</th>\n",
       "      <td>FIELD SPIN 0 FIELD SPIN 0 SU3 3 SU2 3 U1 7 / 6...</td>\n",
       "      <td>+ FIELD SPIN 0 ID1 FIELD SPIN 0 SU3 3 SU2 3 U1...</td>\n",
       "      <td>train</td>\n",
       "    </tr>\n",
       "    <tr>\n",
       "      <th>286078</th>\n",
       "      <td>FIELD SPIN 0 SU3 - 3 U1 3 FIELD SPIN 1/2 SU3 3...</td>\n",
       "      <td>+ FIELD SPIN 0 SU3 - 3 U1 3 ID4 FIELD SPIN 0 S...</td>\n",
       "      <td>train</td>\n",
       "    </tr>\n",
       "    <tr>\n",
       "      <th>286079</th>\n",
       "      <td>FIELD SPIN 1/2 U1 - 4 / 5 HEL -1/2 FIELD SPIN ...</td>\n",
       "      <td>+ FIELD SPIN 0 SU3 - 3 SU2 2 U1 - 1 / 7 ID6 FI...</td>\n",
       "      <td>train</td>\n",
       "    </tr>\n",
       "    <tr>\n",
       "      <th>286080</th>\n",
       "      <td>FIELD SPIN 0 SU3 3 SU2 3 U1 - 1 FIELD SPIN 1/2...</td>\n",
       "      <td>+ FIELD SPIN 0 SU3 3 SU2 3 U1 - 1 ID0 FIELD SP...</td>\n",
       "      <td>train</td>\n",
       "    </tr>\n",
       "  </tbody>\n",
       "</table>\n",
       "<p>211283 rows × 3 columns</p>\n",
       "</div>"
      ],
      "text/plain": [
       "                                                   fields  \\\n",
       "0       FIELD SPIN 1/2 SU3 - 3 SU2 2 U1 - 4 HEL 1/2 FI...   \n",
       "1       FIELD SPIN 1/2 HEL 1/2 FIELD SPIN 1/2 SU3 - 3 ...   \n",
       "2       FIELD SPIN 0 SU2 3 U1 - 4 / 9 FIELD SPIN 1/2 S...   \n",
       "3       FIELD SPIN 1/2 SU3 - 3 U1 3 / 8 HEL -1/2 FIELD...   \n",
       "4                                FIELD SPIN 0 SU3 3 SU2 3   \n",
       "...                                                   ...   \n",
       "286076  FIELD SPIN 0 SU3 3 SU2 3 U1 9 / 2 FIELD SPIN 1...   \n",
       "286077  FIELD SPIN 0 FIELD SPIN 0 SU3 3 SU2 3 U1 7 / 6...   \n",
       "286078  FIELD SPIN 0 SU3 - 3 U1 3 FIELD SPIN 1/2 SU3 3...   \n",
       "286079  FIELD SPIN 1/2 U1 - 4 / 5 HEL -1/2 FIELD SPIN ...   \n",
       "286080  FIELD SPIN 0 SU3 3 SU2 3 U1 - 1 FIELD SPIN 1/2...   \n",
       "\n",
       "                                               Lagrangian train/eval  \n",
       "0       + FIELD SPIN 1 / 2 SU3 - 3 SU2 2 HEL - 1 / 2 D...       eval  \n",
       "1       + i FIELD SPIN 1 / 2 HEL 1 / 2 ID9 SIGMA_BAR I...       eval  \n",
       "2       + FIELD SPIN 0 SU2 3 U1 - 4 / 9 ID1 FIELD SPIN...       eval  \n",
       "3       + FIELD SPIN 0 SU3 - 3 SU2 2 U1 - 8 / 9 ID3 FI...       eval  \n",
       "4       + FIELD SPIN 0 SU3 3 SU2 3 ID4 FIELD SPIN 0 SU...       eval  \n",
       "...                                                   ...        ...  \n",
       "286076  + FIELD SPIN 1 / 2 SU2 2 U1 1 / 5 HEL - 1 / 2 ...      train  \n",
       "286077  + FIELD SPIN 0 ID1 FIELD SPIN 0 SU3 3 SU2 3 U1...      train  \n",
       "286078  + FIELD SPIN 0 SU3 - 3 U1 3 ID4 FIELD SPIN 0 S...      train  \n",
       "286079  + FIELD SPIN 0 SU3 - 3 SU2 2 U1 - 1 / 7 ID6 FI...      train  \n",
       "286080  + FIELD SPIN 0 SU3 3 SU2 3 U1 - 1 ID0 FIELD SP...      train  \n",
       "\n",
       "[211283 rows x 3 columns]"
      ]
     },
     "execution_count": 67,
     "metadata": {},
     "output_type": "execute_result"
    }
   ],
   "source": [
    "sampled_df"
   ]
  },
  {
   "cell_type": "markdown",
   "id": "e3b5498f",
   "metadata": {},
   "source": [
    "### Example : Lagrangian Score"
   ]
  },
  {
   "cell_type": "markdown",
   "id": "612b01da",
   "metadata": {},
   "source": [
    "Choose a random lagrangian to work with"
   ]
  },
  {
   "cell_type": "code",
   "execution_count": 68,
   "id": "18376d49",
   "metadata": {},
   "outputs": [],
   "source": [
    "example_scenario = sampled_df.sample(1)"
   ]
  },
  {
   "cell_type": "markdown",
   "id": "b709e360",
   "metadata": {},
   "source": [
    "Look at the input (field content) and the output (Lagrangian)"
   ]
  },
  {
   "cell_type": "code",
   "execution_count": 69,
   "id": "57c89747",
   "metadata": {},
   "outputs": [
    {
     "name": "stdout",
     "output_type": "stream",
     "text": [
      "Input    =  [SOS] FIELD SPIN 1/2 SU3 3 SU2 3 U1 - 8 / 9 HEL -1/2 FIELD SPIN 1/2 SU2 3 U1 2 / 9 HEL 1/2 FIELD SPIN 1/2 SU3 - 3 SU2 2 U1 1 / 4 HEL 1/2 FIELD SPIN 0 SU3 3 SU2 2 U1 - 1 / 4 FIELD SPIN 0 FIELD SPIN 0 SU3 - 3 SU2 2 U1 3 / 7 [EOS]\n",
      "token_id =  [0, 22, 36, 5, 4, 6, 38, 10, 37, 10, 39, 7, 15, 4, 16, 23, 7, 5, 4, 6, 22, 36, 5, 4, 6, 37, 10, 39, 6, 4, 16, 23, 5, 4, 6, 22, 36, 5, 4, 6, 38, 7, 10, 37, 6, 39, 5, 4, 11, 23, 5, 4, 6, 22, 36, 9, 38, 10, 37, 6, 39, 7, 5, 4, 11, 22, 36, 9, 22, 36, 9, 38, 7, 10, 37, 6, 39, 10, 4, 14, 1]\n",
      "decoded  =  [SOS] FIELD SPIN 1 / 2 SU3 3 SU2 3 U1 - 8 / 9 HEL - 1 / 2 FIELD SPIN 1 / 2 SU2 3 U1 2 / 9 HEL 1 / 2 FIELD SPIN 1 / 2 SU3 - 3 SU2 2 U1 1 / 4 HEL 1 / 2 FIELD SPIN 0 SU3 3 SU2 2 U1 - 1 / 4 FIELD SPIN 0 FIELD SPIN 0 SU3 - 3 SU2 2 U1 3 / 7 [EOS]\n",
      "\n",
      "Output   =  [SOS] + FIELD SPIN 0 SU3 3 SU2 2 U1 - 1 / 4 ID5 FIELD SPIN 0 SU3 - 3 SU2 2 U1 1 / 4 DAGGER ID7 FIELD SPIN 0 ID1 CONTRACTIONS SU3 ID5 ID7 ID7 SU2 ID5 ID7 + FIELD SPIN 0 ID3 FIELD SPIN 0 SU3 - 3 SU2 2 U1 3 / 7 ID6 FIELD SPIN 0 SU3 3 SU2 2 U1 - 3 / 7 DAGGER ID0 CONTRACTIONS SU3 ID6 ID6 ID0 SU2 ID6 ID0 + FIELD SPIN 0 ID0 FIELD SPIN 0 ID5 FIELD SPIN 0 ID2 + FIELD SPIN 0 SU3 3 SU2 2 U1 - 1 / 4 ID3 FIELD SPIN 0 SU3 - 3 SU2 2 U1 1 / 4 DAGGER ID6 FIELD SPIN 0 ID2 FIELD SPIN 0 ID9 CONTRACTIONS SU3 ID3 ID6 ID6 SU2 ID3 ID6 + FIELD SPIN 0 SU3 3 SU2 2 U1 - 1 / 4 ID7 FIELD SPIN 0 SU3 - 3 SU2 2 U1 1 / 4 DAGGER ID6 FIELD SPIN 0 SU3 - 3 SU2 2 U1 3 / 7 ID2 FIELD SPIN 0 SU3 3 SU2 2 U1 - 3 / 7 DAGGER ID1 CONTRACTIONS SU3 ID7 ID6 ID2 SU3 ID6 ID2 ID1 SU2 ID7 ID2 SU2 ID6 ID1 + FIELD SPIN 0 SU3 3 SU2 2 U1 - 1 / 4 ID2 FIELD SPIN 0 SU3 - 3 SU2 2 U1 1 / 4 DAGGER ID4 FIELD SPIN 0 SU3 - 3 SU2 2 U1 3 / 7 ID6 FIELD SPIN 0 SU3 3 SU2 2 U1 - 3 / 7 DAGGER ID7 CONTRACTIONS SU3 ID2 ID4 ID6 SU3 ID4 ID6 ID7 SU2 ID2 ID4 SU2 ID6 ID7 + FIELD SPIN 0 SU3 3 SU2 2 U1 - 1 / 4 ID1 FIELD SPIN 0 SU3 - 3 SU2 2 U1 1 / 4 DAGGER ID3 FIELD SPIN 0 SU3 - 3 SU2 2 U1 3 / 7 ID0 FIELD SPIN 0 SU3 3 SU2 2 U1 - 3 / 7 DAGGER ID9 CONTRACTIONS SU3 ID1 ID3 ID3 SU3 ID0 ID0 ID9 SU2 ID1 ID0 SU2 ID3 ID9 + FIELD SPIN 0 SU3 3 SU2 2 U1 - 1 / 4 ID5 FIELD SPIN 0 SU3 - 3 SU2 2 U1 1 / 4 DAGGER ID4 FIELD SPIN 0 SU3 - 3 SU2 2 U1 3 / 7 ID7 FIELD SPIN 0 SU3 3 SU2 2 U1 - 3 / 7 DAGGER ID0 CONTRACTIONS SU3 ID5 ID4 ID4 SU3 ID7 ID7 ID0 SU2 ID5 ID4 SU2 ID7 ID0 + FIELD SPIN 0 SU3 3 SU2 2 U1 - 1 / 4 ID7 FIELD SPIN 0 SU3 3 SU2 2 U1 - 1 / 4 ID2 FIELD SPIN 0 SU3 - 3 SU2 2 U1 1 / 4 DAGGER ID9 FIELD SPIN 0 SU3 - 3 SU2 2 U1 1 / 4 DAGGER ID1 CONTRACTIONS SU3 ID7 ID9 ID9 SU3 ID2 ID1 ID1 SU2 ID7 ID9 SU2 ID2 ID1 + FIELD SPIN 0 SU3 3 SU2 2 U1 - 1 / 4 ID5 FIELD SPIN 0 SU3 3 SU2 2 U1 - 1 / 4 ID6 FIELD SPIN 0 SU3 - 3 SU2 2 U1 1 / 4 DAGGER ID4 FIELD SPIN 0 SU3 - 3 SU2 2 U1 1 / 4 DAGGER ID3 CONTRACTIONS SU3 ID5 ID4 ID4 SU3 ID6 ID3 ID3 SU2 ID5 ID6 SU2 ID4 ID3 + FIELD SPIN 0 SU3 3 SU2 2 U1 - 1 / 4 ID1 FIELD SPIN 0 SU3 3 SU2 2 U1 - 1 / 4 ID7 FIELD SPIN 0 SU3 - 3 SU2 2 U1 1 / 4 DAGGER ID5 FIELD SPIN 0 SU3 - 3 SU2 2 U1 1 / 4 DAGGER ID4 CONTRACTIONS SU3 ID1 ID7 ID5 SU3 ID5 ID4 ID4 SU2 ID1 ID5 SU2 ID7 ID4 + FIELD SPIN 0 SU3 3 SU2 2 U1 - 1 / 4 ID9 FIELD SPIN 0 SU3 3 SU2 2 U1 - 1 / 4 ID8 FIELD SPIN 0 SU3 - 3 SU2 2 U1 1 / 4 DAGGER ID2 FIELD SPIN 0 SU3 - 3 SU2 2 U1 1 / 4 DAGGER ID6 CONTRACTIONS SU3 ID9 ID8 ID2 SU3 ID2 ID6 ID6 SU2 ID9 ID8 SU2 ID2 ID6 + FIELD SPIN 0 ID7 FIELD SPIN 0 ID0 FIELD SPIN 0 SU3 - 3 SU2 2 U1 3 / 7 ID3 FIELD SPIN 0 SU3 3 SU2 2 U1 - 3 / 7 DAGGER ID8 CONTRACTIONS SU3 ID3 ID3 ID8 SU2 ID3 ID8 + FIELD SPIN 0 ID6 FIELD SPIN 0 ID8 FIELD SPIN 0 ID7 FIELD SPIN 0 ID4 + FIELD SPIN 0 SU3 - 3 SU2 2 U1 3 / 7 ID9 FIELD SPIN 0 SU3 - 3 SU2 2 U1 3 / 7 ID3 FIELD SPIN 0 SU3 3 SU2 2 U1 - 3 / 7 DAGGER ID8 FIELD SPIN 0 SU3 3 SU2 2 U1 - 3 / 7 DAGGER ID1 CONTRACTIONS SU3 ID9 ID9 ID8 SU3 ID3 ID3 ID1 SU2 ID9 ID8 SU2 ID3 ID1 + FIELD SPIN 0 SU3 - 3 SU2 2 U1 3 / 7 ID4 FIELD SPIN 0 SU3 - 3 SU2 2 U1 3 / 7 ID2 FIELD SPIN 0 SU3 3 SU2 2 U1 - 3 / 7 DAGGER ID0 FIELD SPIN 0 SU3 3 SU2 2 U1 - 3 / 7 DAGGER ID5 CONTRACTIONS SU3 ID4 ID4 ID0 SU3 ID2 ID2 ID5 SU2 ID4 ID2 SU2 ID0 ID5 + FIELD SPIN 0 SU3 - 3 SU2 2 U1 3 / 7 ID0 FIELD SPIN 0 SU3 - 3 SU2 2 U1 3 / 7 ID2 FIELD SPIN 0 SU3 3 SU2 2 U1 - 3 / 7 DAGGER ID6 FIELD SPIN 0 SU3 3 SU2 2 U1 - 3 / 7 DAGGER ID7 CONTRACTIONS SU3 ID0 ID0 ID2 SU3 ID2 ID6 ID7 SU2 ID0 ID6 SU2 ID2 ID7 + FIELD SPIN 0 SU3 - 3 SU2 2 U1 3 / 7 ID1 FIELD SPIN 0 SU3 - 3 SU2 2 U1 3 / 7 ID8 FIELD SPIN 0 SU3 3 SU2 2 U1 - 3 / 7 DAGGER ID2 FIELD SPIN 0 SU3 3 SU2 2 U1 - 3 / 7 DAGGER ID0 CONTRACTIONS SU3 ID1 ID1 ID8 SU3 ID8 ID2 ID0 SU2 ID1 ID8 SU2 ID2 ID0 + i FIELD SPIN 1 / 2 SU3 - 3 SU2 3 U1 8 / 9 HEL 1 / 2 DAGGER ID3 SIGMA_BAR ID8 DERIVATIVE SU3 SU2 U1 ID9 FIELD SPIN 1 / 2 SU3 3 SU2 3 U1 - 8 / 9 HEL - 1 / 2 ID1 CONTRACTIONS LORENTZ ID8 ID9 LORENTZ ID8 ID3 ID1 SU3 ID3 ID1 SU2 ID3 ID1 + i FIELD SPIN 1 / 2 SU2 3 U1 2 / 9 HEL 1 / 2 ID6 SIGMA_BAR ID9 DERIVATIVE SU2 U1 ID7 FIELD SPIN 1 / 2 SU2 3 U1 - 2 / 9 HEL - 1 / 2 DAGGER ID3 CONTRACTIONS LORENTZ ID9 ID7 LORENTZ ID9 ID6 ID3 SU2 ID6 ID3 + i FIELD SPIN 1 / 2 SU3 - 3 SU2 2 U1 1 / 4 HEL 1 / 2 ID7 SIGMA_BAR ID6 DERIVATIVE SU3 SU2 U1 ID0 FIELD SPIN 1 / 2 SU3 3 SU2 2 U1 - 1 / 4 HEL - 1 / 2 DAGGER ID4 CONTRACTIONS LORENTZ ID6 ID0 LORENTZ ID6 ID7 ID4 SU3 ID7 ID4 SU2 ID7 ID4 + DERIVATIVE SU3 SU2 U1 ID4 FIELD SPIN 0 SU3 - 3 SU2 2 U1 1 / 4 DAGGER ID1 DERIVATIVE SU3 SU2 U1 ID9 FIELD SPIN 0 SU3 3 SU2 2 U1 - 1 / 4 ID7 CONTRACTIONS LORENTZ ID4 ID9 SU3 ID1 ID7 SU2 ID1 ID7 + DERIVATIVE ID4 FIELD SPIN 0 DAGGER ID3 DERIVATIVE ID8 FIELD SPIN 0 ID6 CONTRACTIONS LORENTZ ID4 ID8 + DERIVATIVE SU3 SU2 U1 ID5 FIELD SPIN 0 SU3 3 SU2 2 U1 - 3 / 7 DAGGER ID6 DERIVATIVE SU3 SU2 U1 ID4 FIELD SPIN 0 SU3 - 3 SU2 2 U1 3 / 7 ID3 CONTRACTIONS LORENTZ ID5 ID4 SU3 ID6 ID3 SU2 ID6 ID3 - COMMUTATOR_A DERIVATIVE SU3 ID0 COMMUTATOR_B DERIVATIVE SU3 ID5 COMMUTATOR_A DERIVATIVE SU3 ID6 COMMUTATOR_B DERIVATIVE SU3 ID2 CONTRACTIONS LORENTZ ID0 ID6 LORENTZ ID5 ID2 - COMMUTATOR_A DERIVATIVE SU2 ID3 COMMUTATOR_B DERIVATIVE SU2 ID8 COMMUTATOR_A DERIVATIVE SU2 ID1 COMMUTATOR_B DERIVATIVE SU2 ID2 CONTRACTIONS LORENTZ ID3 ID1 LORENTZ ID8 ID2 - COMMUTATOR_A DERIVATIVE U1 ID3 COMMUTATOR_B DERIVATIVE U1 ID0 COMMUTATOR_A DERIVATIVE U1 ID1 COMMUTATOR_B DERIVATIVE U1 ID8 CONTRACTIONS LORENTZ ID3 ID1 LORENTZ ID0 ID8 + FIELD SPIN 0 SU3 - 3 SU2 2 U1 1 / 4 DAGGER ID0 FIELD SPIN 0 SU3 3 SU2 2 U1 - 1 / 4 ID7 CONTRACTIONS SU3 ID0 ID7 SU2 ID0 ID7 + FIELD SPIN 0 DAGGER ID4 FIELD SPIN 0 ID0 CONTRACTIONS + FIELD SPIN 0 SU3 3 SU2 2 U1 - 3 / 7 DAGGER ID6 FIELD SPIN 0 SU3 - 3 SU2 2 U1 3 / 7 ID4 CONTRACTIONS SU3 ID6 ID4 SU2 ID6 ID4 [EOS]\n",
      "token_id =  [0, 8, 22, 36, 9, 38, 10, 37, 6, 39, 7, 5, 4, 11, 29, 22, 36, 9, 38, 7, 10, 37, 6, 39, 5, 4, 11, 20, 31, 22, 36, 9, 25, 19, 38, 29, 31, 31, 37, 29, 31, 8, 22, 36, 9, 27, 22, 36, 9, 38, 7, 10, 37, 6, 39, 10, 4, 14, 30, 22, 36, 9, 38, 10, 37, 6, 39, 7, 10, 4, 14, 20, 24, 19, 38, 30, 30, 24, 37, 30, 24, 8, 22, 36, 9, 24, 22, 36, 9, 29, 22, 36, 9, 26, 8, 22, 36, 9, 38, 10, 37, 6, 39, 7, 5, 4, 11, 27, 22, 36, 9, 38, 7, 10, 37, 6, 39, 5, 4, 11, 20, 30, 22, 36, 9, 26, 22, 36, 9, 33, 19, 38, 27, 30, 30, 37, 27, 30, 8, 22, 36, 9, 38, 10, 37, 6, 39, 7, 5, 4, 11, 31, 22, 36, 9, 38, 7, 10, 37, 6, 39, 5, 4, 11, 20, 30, 22, 36, 9, 38, 7, 10, 37, 6, 39, 10, 4, 14, 26, 22, 36, 9, 38, 10, 37, 6, 39, 7, 10, 4, 14, 20, 25, 19, 38, 31, 30, 26, 38, 30, 26, 25, 37, 31, 26, 37, 30, 25, 8, 22, 36, 9, 38, 10, 37, 6, 39, 7, 5, 4, 11, 26, 22, 36, 9, 38, 7, 10, 37, 6, 39, 5, 4, 11, 20, 28, 22, 36, 9, 38, 7, 10, 37, 6, 39, 10, 4, 14, 30, 22, 36, 9, 38, 10, 37, 6, 39, 7, 10, 4, 14, 20, 31, 19, 38, 26, 28, 30, 38, 28, 30, 31, 37, 26, 28, 37, 30, 31, 8, 22, 36, 9, 38, 10, 37, 6, 39, 7, 5, 4, 11, 25, 22, 36, 9, 38, 7, 10, 37, 6, 39, 5, 4, 11, 20, 27, 22, 36, 9, 38, 7, 10, 37, 6, 39, 10, 4, 14, 24, 22, 36, 9, 38, 10, 37, 6, 39, 7, 10, 4, 14, 20, 33, 19, 38, 25, 27, 27, 38, 24, 24, 33, 37, 25, 24, 37, 27, 33, 8, 22, 36, 9, 38, 10, 37, 6, 39, 7, 5, 4, 11, 29, 22, 36, 9, 38, 7, 10, 37, 6, 39, 5, 4, 11, 20, 28, 22, 36, 9, 38, 7, 10, 37, 6, 39, 10, 4, 14, 31, 22, 36, 9, 38, 10, 37, 6, 39, 7, 10, 4, 14, 20, 24, 19, 38, 29, 28, 28, 38, 31, 31, 24, 37, 29, 28, 37, 31, 24, 8, 22, 36, 9, 38, 10, 37, 6, 39, 7, 5, 4, 11, 31, 22, 36, 9, 38, 10, 37, 6, 39, 7, 5, 4, 11, 26, 22, 36, 9, 38, 7, 10, 37, 6, 39, 5, 4, 11, 20, 33, 22, 36, 9, 38, 7, 10, 37, 6, 39, 5, 4, 11, 20, 25, 19, 38, 31, 33, 33, 38, 26, 25, 25, 37, 31, 33, 37, 26, 25, 8, 22, 36, 9, 38, 10, 37, 6, 39, 7, 5, 4, 11, 29, 22, 36, 9, 38, 10, 37, 6, 39, 7, 5, 4, 11, 30, 22, 36, 9, 38, 7, 10, 37, 6, 39, 5, 4, 11, 20, 28, 22, 36, 9, 38, 7, 10, 37, 6, 39, 5, 4, 11, 20, 27, 19, 38, 29, 28, 28, 38, 30, 27, 27, 37, 29, 30, 37, 28, 27, 8, 22, 36, 9, 38, 10, 37, 6, 39, 7, 5, 4, 11, 25, 22, 36, 9, 38, 10, 37, 6, 39, 7, 5, 4, 11, 31, 22, 36, 9, 38, 7, 10, 37, 6, 39, 5, 4, 11, 20, 29, 22, 36, 9, 38, 7, 10, 37, 6, 39, 5, 4, 11, 20, 28, 19, 38, 25, 31, 29, 38, 29, 28, 28, 37, 25, 29, 37, 31, 28, 8, 22, 36, 9, 38, 10, 37, 6, 39, 7, 5, 4, 11, 33, 22, 36, 9, 38, 10, 37, 6, 39, 7, 5, 4, 11, 32, 22, 36, 9, 38, 7, 10, 37, 6, 39, 5, 4, 11, 20, 26, 22, 36, 9, 38, 7, 10, 37, 6, 39, 5, 4, 11, 20, 30, 19, 38, 33, 32, 26, 38, 26, 30, 30, 37, 33, 32, 37, 26, 30, 8, 22, 36, 9, 31, 22, 36, 9, 24, 22, 36, 9, 38, 7, 10, 37, 6, 39, 10, 4, 14, 27, 22, 36, 9, 38, 10, 37, 6, 39, 7, 10, 4, 14, 20, 32, 19, 38, 27, 27, 32, 37, 27, 32, 8, 22, 36, 9, 30, 22, 36, 9, 32, 22, 36, 9, 31, 22, 36, 9, 28, 8, 22, 36, 9, 38, 7, 10, 37, 6, 39, 10, 4, 14, 33, 22, 36, 9, 38, 7, 10, 37, 6, 39, 10, 4, 14, 27, 22, 36, 9, 38, 10, 37, 6, 39, 7, 10, 4, 14, 20, 32, 22, 36, 9, 38, 10, 37, 6, 39, 7, 10, 4, 14, 20, 25, 19, 38, 33, 33, 32, 38, 27, 27, 25, 37, 33, 32, 37, 27, 25, 8, 22, 36, 9, 38, 7, 10, 37, 6, 39, 10, 4, 14, 28, 22, 36, 9, 38, 7, 10, 37, 6, 39, 10, 4, 14, 26, 22, 36, 9, 38, 10, 37, 6, 39, 7, 10, 4, 14, 20, 24, 22, 36, 9, 38, 10, 37, 6, 39, 7, 10, 4, 14, 20, 29, 19, 38, 28, 28, 24, 38, 26, 26, 29, 37, 28, 26, 37, 24, 29, 8, 22, 36, 9, 38, 7, 10, 37, 6, 39, 10, 4, 14, 24, 22, 36, 9, 38, 7, 10, 37, 6, 39, 10, 4, 14, 26, 22, 36, 9, 38, 10, 37, 6, 39, 7, 10, 4, 14, 20, 30, 22, 36, 9, 38, 10, 37, 6, 39, 7, 10, 4, 14, 20, 31, 19, 38, 24, 24, 26, 38, 26, 30, 31, 37, 24, 30, 37, 26, 31, 8, 22, 36, 9, 38, 7, 10, 37, 6, 39, 10, 4, 14, 25, 22, 36, 9, 38, 7, 10, 37, 6, 39, 10, 4, 14, 32, 22, 36, 9, 38, 10, 37, 6, 39, 7, 10, 4, 14, 20, 26, 22, 36, 9, 38, 10, 37, 6, 39, 7, 10, 4, 14, 20, 24, 19, 38, 25, 25, 32, 38, 32, 26, 24, 37, 25, 32, 37, 26, 24, 8, 40, 22, 36, 5, 4, 6, 38, 7, 10, 37, 10, 39, 15, 4, 16, 23, 5, 4, 6, 20, 27, 35, 32, 21, 38, 37, 39, 33, 22, 36, 5, 4, 6, 38, 10, 37, 10, 39, 7, 15, 4, 16, 23, 7, 5, 4, 6, 25, 19, 34, 32, 33, 34, 32, 27, 25, 38, 27, 25, 37, 27, 25, 8, 40, 22, 36, 5, 4, 6, 37, 10, 39, 6, 4, 16, 23, 5, 4, 6, 30, 35, 33, 21, 37, 39, 31, 22, 36, 5, 4, 6, 37, 10, 39, 7, 6, 4, 16, 23, 7, 5, 4, 6, 20, 27, 19, 34, 33, 31, 34, 33, 30, 27, 37, 30, 27, 8, 40, 22, 36, 5, 4, 6, 38, 7, 10, 37, 6, 39, 5, 4, 11, 23, 5, 4, 6, 31, 35, 30, 21, 38, 37, 39, 24, 22, 36, 5, 4, 6, 38, 10, 37, 6, 39, 7, 5, 4, 11, 23, 7, 5, 4, 6, 20, 28, 19, 34, 30, 24, 34, 30, 31, 28, 38, 31, 28, 37, 31, 28, 8, 21, 38, 37, 39, 28, 22, 36, 9, 38, 7, 10, 37, 6, 39, 5, 4, 11, 20, 25, 21, 38, 37, 39, 33, 22, 36, 9, 38, 10, 37, 6, 39, 7, 5, 4, 11, 31, 19, 34, 28, 33, 38, 25, 31, 37, 25, 31, 8, 21, 28, 22, 36, 9, 20, 27, 21, 32, 22, 36, 9, 30, 19, 34, 28, 32, 8, 21, 38, 37, 39, 29, 22, 36, 9, 38, 10, 37, 6, 39, 7, 10, 4, 14, 20, 30, 21, 38, 37, 39, 28, 22, 36, 9, 38, 7, 10, 37, 6, 39, 10, 4, 14, 27, 19, 34, 29, 28, 38, 30, 27, 37, 30, 27, 7, 17, 21, 38, 24, 18, 21, 38, 29, 17, 21, 38, 30, 18, 21, 38, 26, 19, 34, 24, 30, 34, 29, 26, 7, 17, 21, 37, 27, 18, 21, 37, 32, 17, 21, 37, 25, 18, 21, 37, 26, 19, 34, 27, 25, 34, 32, 26, 7, 17, 21, 39, 27, 18, 21, 39, 24, 17, 21, 39, 25, 18, 21, 39, 32, 19, 34, 27, 25, 34, 24, 32, 8, 22, 36, 9, 38, 7, 10, 37, 6, 39, 5, 4, 11, 20, 24, 22, 36, 9, 38, 10, 37, 6, 39, 7, 5, 4, 11, 31, 19, 38, 24, 31, 37, 24, 31, 8, 22, 36, 9, 20, 28, 22, 36, 9, 24, 19, 8, 22, 36, 9, 38, 10, 37, 6, 39, 7, 10, 4, 14, 20, 30, 22, 36, 9, 38, 7, 10, 37, 6, 39, 10, 4, 14, 28, 19, 38, 30, 28, 37, 30, 28, 1]\n",
      "decoded  =  [SOS] + FIELD SPIN 0 SU3 3 SU2 2 U1 - 1 / 4 ID5 FIELD SPIN 0 SU3 - 3 SU2 2 U1 1 / 4 DAGGER ID7 FIELD SPIN 0 ID1 CONTRACTIONS SU3 ID5 ID7 ID7 SU2 ID5 ID7 + FIELD SPIN 0 ID3 FIELD SPIN 0 SU3 - 3 SU2 2 U1 3 / 7 ID6 FIELD SPIN 0 SU3 3 SU2 2 U1 - 3 / 7 DAGGER ID0 CONTRACTIONS SU3 ID6 ID6 ID0 SU2 ID6 ID0 + FIELD SPIN 0 ID0 FIELD SPIN 0 ID5 FIELD SPIN 0 ID2 + FIELD SPIN 0 SU3 3 SU2 2 U1 - 1 / 4 ID3 FIELD SPIN 0 SU3 - 3 SU2 2 U1 1 / 4 DAGGER ID6 FIELD SPIN 0 ID2 FIELD SPIN 0 ID9 CONTRACTIONS SU3 ID3 ID6 ID6 SU2 ID3 ID6 + FIELD SPIN 0 SU3 3 SU2 2 U1 - 1 / 4 ID7 FIELD SPIN 0 SU3 - 3 SU2 2 U1 1 / 4 DAGGER ID6 FIELD SPIN 0 SU3 - 3 SU2 2 U1 3 / 7 ID2 FIELD SPIN 0 SU3 3 SU2 2 U1 - 3 / 7 DAGGER ID1 CONTRACTIONS SU3 ID7 ID6 ID2 SU3 ID6 ID2 ID1 SU2 ID7 ID2 SU2 ID6 ID1 + FIELD SPIN 0 SU3 3 SU2 2 U1 - 1 / 4 ID2 FIELD SPIN 0 SU3 - 3 SU2 2 U1 1 / 4 DAGGER ID4 FIELD SPIN 0 SU3 - 3 SU2 2 U1 3 / 7 ID6 FIELD SPIN 0 SU3 3 SU2 2 U1 - 3 / 7 DAGGER ID7 CONTRACTIONS SU3 ID2 ID4 ID6 SU3 ID4 ID6 ID7 SU2 ID2 ID4 SU2 ID6 ID7 + FIELD SPIN 0 SU3 3 SU2 2 U1 - 1 / 4 ID1 FIELD SPIN 0 SU3 - 3 SU2 2 U1 1 / 4 DAGGER ID3 FIELD SPIN 0 SU3 - 3 SU2 2 U1 3 / 7 ID0 FIELD SPIN 0 SU3 3 SU2 2 U1 - 3 / 7 DAGGER ID9 CONTRACTIONS SU3 ID1 ID3 ID3 SU3 ID0 ID0 ID9 SU2 ID1 ID0 SU2 ID3 ID9 + FIELD SPIN 0 SU3 3 SU2 2 U1 - 1 / 4 ID5 FIELD SPIN 0 SU3 - 3 SU2 2 U1 1 / 4 DAGGER ID4 FIELD SPIN 0 SU3 - 3 SU2 2 U1 3 / 7 ID7 FIELD SPIN 0 SU3 3 SU2 2 U1 - 3 / 7 DAGGER ID0 CONTRACTIONS SU3 ID5 ID4 ID4 SU3 ID7 ID7 ID0 SU2 ID5 ID4 SU2 ID7 ID0 + FIELD SPIN 0 SU3 3 SU2 2 U1 - 1 / 4 ID7 FIELD SPIN 0 SU3 3 SU2 2 U1 - 1 / 4 ID2 FIELD SPIN 0 SU3 - 3 SU2 2 U1 1 / 4 DAGGER ID9 FIELD SPIN 0 SU3 - 3 SU2 2 U1 1 / 4 DAGGER ID1 CONTRACTIONS SU3 ID7 ID9 ID9 SU3 ID2 ID1 ID1 SU2 ID7 ID9 SU2 ID2 ID1 + FIELD SPIN 0 SU3 3 SU2 2 U1 - 1 / 4 ID5 FIELD SPIN 0 SU3 3 SU2 2 U1 - 1 / 4 ID6 FIELD SPIN 0 SU3 - 3 SU2 2 U1 1 / 4 DAGGER ID4 FIELD SPIN 0 SU3 - 3 SU2 2 U1 1 / 4 DAGGER ID3 CONTRACTIONS SU3 ID5 ID4 ID4 SU3 ID6 ID3 ID3 SU2 ID5 ID6 SU2 ID4 ID3 + FIELD SPIN 0 SU3 3 SU2 2 U1 - 1 / 4 ID1 FIELD SPIN 0 SU3 3 SU2 2 U1 - 1 / 4 ID7 FIELD SPIN 0 SU3 - 3 SU2 2 U1 1 / 4 DAGGER ID5 FIELD SPIN 0 SU3 - 3 SU2 2 U1 1 / 4 DAGGER ID4 CONTRACTIONS SU3 ID1 ID7 ID5 SU3 ID5 ID4 ID4 SU2 ID1 ID5 SU2 ID7 ID4 + FIELD SPIN 0 SU3 3 SU2 2 U1 - 1 / 4 ID9 FIELD SPIN 0 SU3 3 SU2 2 U1 - 1 / 4 ID8 FIELD SPIN 0 SU3 - 3 SU2 2 U1 1 / 4 DAGGER ID2 FIELD SPIN 0 SU3 - 3 SU2 2 U1 1 / 4 DAGGER ID6 CONTRACTIONS SU3 ID9 ID8 ID2 SU3 ID2 ID6 ID6 SU2 ID9 ID8 SU2 ID2 ID6 + FIELD SPIN 0 ID7 FIELD SPIN 0 ID0 FIELD SPIN 0 SU3 - 3 SU2 2 U1 3 / 7 ID3 FIELD SPIN 0 SU3 3 SU2 2 U1 - 3 / 7 DAGGER ID8 CONTRACTIONS SU3 ID3 ID3 ID8 SU2 ID3 ID8 + FIELD SPIN 0 ID6 FIELD SPIN 0 ID8 FIELD SPIN 0 ID7 FIELD SPIN 0 ID4 + FIELD SPIN 0 SU3 - 3 SU2 2 U1 3 / 7 ID9 FIELD SPIN 0 SU3 - 3 SU2 2 U1 3 / 7 ID3 FIELD SPIN 0 SU3 3 SU2 2 U1 - 3 / 7 DAGGER ID8 FIELD SPIN 0 SU3 3 SU2 2 U1 - 3 / 7 DAGGER ID1 CONTRACTIONS SU3 ID9 ID9 ID8 SU3 ID3 ID3 ID1 SU2 ID9 ID8 SU2 ID3 ID1 + FIELD SPIN 0 SU3 - 3 SU2 2 U1 3 / 7 ID4 FIELD SPIN 0 SU3 - 3 SU2 2 U1 3 / 7 ID2 FIELD SPIN 0 SU3 3 SU2 2 U1 - 3 / 7 DAGGER ID0 FIELD SPIN 0 SU3 3 SU2 2 U1 - 3 / 7 DAGGER ID5 CONTRACTIONS SU3 ID4 ID4 ID0 SU3 ID2 ID2 ID5 SU2 ID4 ID2 SU2 ID0 ID5 + FIELD SPIN 0 SU3 - 3 SU2 2 U1 3 / 7 ID0 FIELD SPIN 0 SU3 - 3 SU2 2 U1 3 / 7 ID2 FIELD SPIN 0 SU3 3 SU2 2 U1 - 3 / 7 DAGGER ID6 FIELD SPIN 0 SU3 3 SU2 2 U1 - 3 / 7 DAGGER ID7 CONTRACTIONS SU3 ID0 ID0 ID2 SU3 ID2 ID6 ID7 SU2 ID0 ID6 SU2 ID2 ID7 + FIELD SPIN 0 SU3 - 3 SU2 2 U1 3 / 7 ID1 FIELD SPIN 0 SU3 - 3 SU2 2 U1 3 / 7 ID8 FIELD SPIN 0 SU3 3 SU2 2 U1 - 3 / 7 DAGGER ID2 FIELD SPIN 0 SU3 3 SU2 2 U1 - 3 / 7 DAGGER ID0 CONTRACTIONS SU3 ID1 ID1 ID8 SU3 ID8 ID2 ID0 SU2 ID1 ID8 SU2 ID2 ID0 + i FIELD SPIN 1 / 2 SU3 - 3 SU2 3 U1 8 / 9 HEL 1 / 2 DAGGER ID3 SIGMA_BAR ID8 DERIVATIVE SU3 SU2 U1 ID9 FIELD SPIN 1 / 2 SU3 3 SU2 3 U1 - 8 / 9 HEL - 1 / 2 ID1 CONTRACTIONS LORENTZ ID8 ID9 LORENTZ ID8 ID3 ID1 SU3 ID3 ID1 SU2 ID3 ID1 + i FIELD SPIN 1 / 2 SU2 3 U1 2 / 9 HEL 1 / 2 ID6 SIGMA_BAR ID9 DERIVATIVE SU2 U1 ID7 FIELD SPIN 1 / 2 SU2 3 U1 - 2 / 9 HEL - 1 / 2 DAGGER ID3 CONTRACTIONS LORENTZ ID9 ID7 LORENTZ ID9 ID6 ID3 SU2 ID6 ID3 + i FIELD SPIN 1 / 2 SU3 - 3 SU2 2 U1 1 / 4 HEL 1 / 2 ID7 SIGMA_BAR ID6 DERIVATIVE SU3 SU2 U1 ID0 FIELD SPIN 1 / 2 SU3 3 SU2 2 U1 - 1 / 4 HEL - 1 / 2 DAGGER ID4 CONTRACTIONS LORENTZ ID6 ID0 LORENTZ ID6 ID7 ID4 SU3 ID7 ID4 SU2 ID7 ID4 + DERIVATIVE SU3 SU2 U1 ID4 FIELD SPIN 0 SU3 - 3 SU2 2 U1 1 / 4 DAGGER ID1 DERIVATIVE SU3 SU2 U1 ID9 FIELD SPIN 0 SU3 3 SU2 2 U1 - 1 / 4 ID7 CONTRACTIONS LORENTZ ID4 ID9 SU3 ID1 ID7 SU2 ID1 ID7 + DERIVATIVE ID4 FIELD SPIN 0 DAGGER ID3 DERIVATIVE ID8 FIELD SPIN 0 ID6 CONTRACTIONS LORENTZ ID4 ID8 + DERIVATIVE SU3 SU2 U1 ID5 FIELD SPIN 0 SU3 3 SU2 2 U1 - 3 / 7 DAGGER ID6 DERIVATIVE SU3 SU2 U1 ID4 FIELD SPIN 0 SU3 - 3 SU2 2 U1 3 / 7 ID3 CONTRACTIONS LORENTZ ID5 ID4 SU3 ID6 ID3 SU2 ID6 ID3 - COMMUTATOR_A DERIVATIVE SU3 ID0 COMMUTATOR_B DERIVATIVE SU3 ID5 COMMUTATOR_A DERIVATIVE SU3 ID6 COMMUTATOR_B DERIVATIVE SU3 ID2 CONTRACTIONS LORENTZ ID0 ID6 LORENTZ ID5 ID2 - COMMUTATOR_A DERIVATIVE SU2 ID3 COMMUTATOR_B DERIVATIVE SU2 ID8 COMMUTATOR_A DERIVATIVE SU2 ID1 COMMUTATOR_B DERIVATIVE SU2 ID2 CONTRACTIONS LORENTZ ID3 ID1 LORENTZ ID8 ID2 - COMMUTATOR_A DERIVATIVE U1 ID3 COMMUTATOR_B DERIVATIVE U1 ID0 COMMUTATOR_A DERIVATIVE U1 ID1 COMMUTATOR_B DERIVATIVE U1 ID8 CONTRACTIONS LORENTZ ID3 ID1 LORENTZ ID0 ID8 + FIELD SPIN 0 SU3 - 3 SU2 2 U1 1 / 4 DAGGER ID0 FIELD SPIN 0 SU3 3 SU2 2 U1 - 1 / 4 ID7 CONTRACTIONS SU3 ID0 ID7 SU2 ID0 ID7 + FIELD SPIN 0 DAGGER ID4 FIELD SPIN 0 ID0 CONTRACTIONS + FIELD SPIN 0 SU3 3 SU2 2 U1 - 3 / 7 DAGGER ID6 FIELD SPIN 0 SU3 - 3 SU2 2 U1 3 / 7 ID4 CONTRACTIONS SU3 ID6 ID4 SU2 ID6 ID4 [EOS]\n"
     ]
    }
   ],
   "source": [
    "example = example_scenario[\"fields\"].values[0]\n",
    "example_input = \"[SOS] \" + example + \" [EOS]\"\n",
    "print(\"Input    = \",example_input)\n",
    "encoded_input = hf_tokenizer.encode(example_input)\n",
    "print(\"token_id = \", encoded_input)\n",
    "decoded_input = hf_tokenizer.decode(encoded_input)\n",
    "print(\"decoded  = \", decoded_input)\n",
    "print()\n",
    "example = example_scenario[\"Lagrangian\"].values[0]\n",
    "example_output = \"[SOS] \" + example + \" [EOS]\"\n",
    "print(\"Output   = \",example_output)\n",
    "encoded_output = hf_tokenizer.encode(example_output)\n",
    "print(\"token_id = \", encoded_output)\n",
    "decoded_output = hf_tokenizer.decode(encoded_output)\n",
    "print(\"decoded  = \", decoded_output)\n"
   ]
  },
  {
   "cell_type": "markdown",
   "id": "205cc9f9",
   "metadata": {},
   "source": [
    "Look at the output (Lagrangian)"
   ]
  },
  {
   "cell_type": "code",
   "execution_count": 70,
   "id": "3e8dc620",
   "metadata": {},
   "outputs": [
    {
     "name": "stdout",
     "output_type": "stream",
     "text": [
      "First five terms: \n",
      "term 1 :  + FIELD SPIN 0 SU3 3 SU2 2 U1 - 1 / 4 ID5 FIELD SPIN 0 SU3 - 3 SU2 2 U1 1 / 4 DAGGER ID7 FIELD SPIN 0 ID1 CONTRACTIONS SU3 ID5 ID7 ID7 SU2 ID5 ID7\n",
      "term 2 :  + FIELD SPIN 0 ID3 FIELD SPIN 0 SU3 - 3 SU2 2 U1 3 / 7 ID6 FIELD SPIN 0 SU3 3 SU2 2 U1 - 3 / 7 DAGGER ID0 CONTRACTIONS SU3 ID6 ID6 ID0 SU2 ID6 ID0\n",
      "term 3 :  + FIELD SPIN 0 ID0 FIELD SPIN 0 ID5 FIELD SPIN 0 ID2\n",
      "term 4 :  + FIELD SPIN 0 SU3 3 SU2 2 U1 - 1 / 4 ID3 FIELD SPIN 0 SU3 - 3 SU2 2 U1 1 / 4 DAGGER ID6 FIELD SPIN 0 ID2 FIELD SPIN 0 ID9 CONTRACTIONS SU3 ID3 ID6 ID6 SU2 ID3 ID6\n",
      "term 5 :  + FIELD SPIN 0 SU3 3 SU2 2 U1 - 1 / 4 ID7 FIELD SPIN 0 SU3 - 3 SU2 2 U1 1 / 4 DAGGER ID6 FIELD SPIN 0 SU3 - 3 SU2 2 U1 3 / 7 ID2 FIELD SPIN 0 SU3 3 SU2 2 U1 - 3 / 7 DAGGER ID1 CONTRACTIONS SU3 ID7 ID6 ID2 SU3 ID6 ID2 ID1 SU2 ID7 ID2 SU2 ID6 ID1\n"
     ]
    }
   ],
   "source": [
    "# show the terms \n",
    "separated_terms = le.sep_terms(decoded_output)\n",
    "\n",
    "print(\"First five terms: \")\n",
    "for i in range(len(separated_terms)):\n",
    "    if i>4: break\n",
    "    print(f\"term {i+1} : \",\" \".join(separated_terms[i]))\n",
    "    \n",
    "lag_truth_1 =  \" \".join([\" \".join(i) for i in separated_terms])"
   ]
  },
  {
   "cell_type": "code",
   "execution_count": 71,
   "id": "cd382b7d",
   "metadata": {},
   "outputs": [
    {
     "name": "stdout",
     "output_type": "stream",
     "text": [
      "First five terms after reordering: \n",
      "term 1 :  + FIELD SPIN 0 ID3 FIELD SPIN 0 SU3 - 3 SU2 2 U1 3 / 7 ID6 FIELD SPIN 0 SU3 3 SU2 2 U1 - 3 / 7 DAGGER ID0 CONTRACTIONS SU3 ID6 ID6 ID0 SU2 ID6 ID0\n",
      "term 2 :  + FIELD SPIN 0 SU3 3 SU2 2 U1 - 1 / 4 ID5 FIELD SPIN 0 SU3 - 3 SU2 2 U1 1 / 4 DAGGER ID7 FIELD SPIN 0 ID1 CONTRACTIONS SU3 ID5 ID7 ID7 SU2 ID5 ID7\n",
      "term 3 :  + FIELD SPIN 0 ID0 FIELD SPIN 0 ID5 FIELD SPIN 0 ID2\n",
      "term 4 :  + FIELD SPIN 0 SU3 3 SU2 2 U1 - 1 / 4 ID3 FIELD SPIN 0 SU3 - 3 SU2 2 U1 1 / 4 DAGGER ID6 FIELD SPIN 0 ID2 FIELD SPIN 0 ID9 CONTRACTIONS SU3 ID3 ID6 ID6 SU2 ID3 ID6\n",
      "term 5 :  + FIELD SPIN 0 SU3 3 SU2 2 U1 - 1 / 4 ID7 FIELD SPIN 0 SU3 - 3 SU2 2 U1 1 / 4 DAGGER ID6 FIELD SPIN 0 SU3 - 3 SU2 2 U1 3 / 7 ID2 FIELD SPIN 0 SU3 3 SU2 2 U1 - 3 / 7 DAGGER ID1 CONTRACTIONS SU3 ID7 ID6 ID2 SU3 ID6 ID2 ID1 SU2 ID7 ID2 SU2 ID6 ID1\n"
     ]
    }
   ],
   "source": [
    "# reorder the first and second terms using list \n",
    "separated_terms[0],separated_terms[1] = separated_terms[1],separated_terms[0]\n",
    "\n",
    "print(\"First five terms after reordering: \")\n",
    "for i in range(len(separated_terms)):\n",
    "    if i>4: break\n",
    "    print(f\"term {i+1} : \",\" \".join(separated_terms[i]))\n",
    "lag_truth_2 =  \" \".join([\" \".join(i) for i in separated_terms])\n"
   ]
  },
  {
   "cell_type": "code",
   "execution_count": 72,
   "id": "aa1e60b1",
   "metadata": {},
   "outputs": [
    {
     "name": "stderr",
     "output_type": "stream",
     "text": [
      "Asking to truncate to max_length but no maximum length is provided and the model has no predefined maximum length. Default to no truncation.\n"
     ]
    },
    {
     "name": "stdout",
     "output_type": "stream",
     "text": [
      "Inputs:\n",
      " [0, 22, 36, 5, 4, 6, 38, 10, 37, 10, 39, 7, 15, 4, 16, 23, 7, 5, 4, 6, 22, 36, 5, 4, 6, 37, 10, 39, 6, 4, 16, 23, 5, 4, 6, 22, 36, 5, 4, 6, 38, 7, 10, 37, 6, 39, 5, 4, 11, 23, 5, 4, 6, 22, 36, 9, 38, 10, 37, 6, 39, 7, 5, 4, 11, 22, 36, 9, 22, 36, 9, 38, 7, 10, 37, 6, 39, 10, 4, 14, 1]\n",
      "\n",
      "Outputs:\n",
      "labels_1:  tensor([[ 0,  8, 22,  ..., 30, 28,  1]], device='cuda:0')\n",
      "labels_2:  tensor([[ 0,  8, 22,  ..., 30, 28,  1]], device='cuda:0')\n"
     ]
    }
   ],
   "source": [
    "print(\"Inputs:\\n\", encoded_input)\n",
    "print()\n",
    "\n",
    "print(\"Outputs:\",)\n",
    "targets_1 = hf_tokenizer(\"[SOS] \" + lag_truth_1 + \" [EOS]\", return_tensors=\"pt\", truncation=True, padding=True).to(device)\n",
    "targets_2 = hf_tokenizer(\"[SOS] \" + lag_truth_2 + \" [EOS]\", return_tensors=\"pt\", truncation=True, padding=True).to(device)\n",
    "\n",
    "#print(\"targets_1: \", targets_1)\n",
    "labels_1 = targets_1[\"input_ids\"]\n",
    "#print(\"targets_2: \", targets_2)\n",
    "labels_2 = targets_2[\"input_ids\"]\n",
    "\n",
    "\n",
    "#print(\"inputs: \", hf_tokenizer.decode(encoded_input))\n",
    "print(\"labels_1: \", labels_1)\n",
    "#print(\"labels_1: \", hf_tokenizer.decode(labels_1[0]))\n",
    "print(\"labels_2: \", labels_2)\n",
    "#print(\"labels_2: \", hf_tokenizer.decode(labels_2[0]))\n"
   ]
  },
  {
   "cell_type": "markdown",
   "id": "32ffd64d",
   "metadata": {},
   "source": [
    "Generate the Lagrangians and calculate the loss"
   ]
  },
  {
   "cell_type": "code",
   "execution_count": 79,
   "id": "07006038",
   "metadata": {},
   "outputs": [
    {
     "name": "stdout",
     "output_type": "stream",
     "text": [
      "loss with labels_1: tensor(0.1599, device='cuda:0')\n",
      "loss with labels_2: tensor(0.2020, device='cuda:0')\n"
     ]
    }
   ],
   "source": [
    "with torch.no_grad():\n",
    "    model.eval()\n",
    "    # loss with labels_1 and labels_2\n",
    "    outputs_1 = model(input_ids=torch.tensor(encoded_input).clone().unsqueeze(0).to(device), labels=labels_1)\n",
    "    print(\"loss with labels_1:\", outputs_1.loss)\n",
    "    \n",
    "    # Get the prediction during training\n",
    "    predicted_token_ids_1 = torch.argmax(outputs_1.logits, dim=-1)  # Shape: [batch_size, seq_len]\n",
    "    predicted_string_1 = hf_tokenizer.decode(predicted_token_ids_1[0], skip_special_tokens=True)\n",
    "    \n",
    "    outputs_2 = model(input_ids=torch.tensor(encoded_input).clone().unsqueeze(0).to(device), labels=labels_2)\n",
    "    print(\"loss with labels_2:\", outputs_2.loss)\n",
    "\n",
    "    # Get the prediction during training\n",
    "    predicted_token_ids_2 = torch.argmax(outputs_2.logits, dim=-1)  # Shape: [batch_size, seq_len]\n",
    "    predicted_string_2 = hf_tokenizer.decode(predicted_token_ids_2[0], skip_special_tokens=True)\n",
    "\n",
    "    # Get the prediction during inference\n",
    "    generated_id     = model.generate(input_ids=torch.tensor(encoded_input).clone().unsqueeze(0).to(device), max_length=len(labels_1[0])).to(device)\n",
    "    predicted_string = hf_tokenizer.decode(generated_id[0], skip_special_tokens=True)\n",
    "    "
   ]
  },
  {
   "cell_type": "markdown",
   "id": "4c437825",
   "metadata": {},
   "source": [
    "### TAKEAWAY : LOSS IS NOT ENOUGH!  ORDER/PERMUTATION INVARIANT? Conservation of charges? etc. "
   ]
  },
  {
   "cell_type": "markdown",
   "id": "911e3634",
   "metadata": {},
   "source": [
    "Calculate the score :\n",
    "\n",
    "<div align=\"center\">\n",
    "     <h2> S_Lagrangian = S_contraction - P_length </h2>\n",
    "</div>\n",
    "\n",
    "where:\n",
    "- S_contraction = N_correct / N_true\n",
    "- P_length      = N_Extra / N_true     \n",
    "- S_object      = N_correct_objects / N_true\n"
   ]
  },
  {
   "cell_type": "code",
   "execution_count": 80,
   "id": "bf03ce21",
   "metadata": {},
   "outputs": [
    {
     "name": "stdout",
     "output_type": "stream",
     "text": [
      "Prediction        :  + FIELD SPIN 0 SU3 3 SU2 2 U1 - 1 / 4 ID6 FIELD SPIN 0 SU3 - 3 SU2 2 U1 1 / 4 DAGGER ID7 FIELD SPIN 0 ID4 CONTRACTIONS SU3 ID6 ID7 ID7 SU2 ID6 ID7 + FIELD SPIN 0 ID2 FIELD SPIN 0 SU3 - 3 SU2 2 U1 3 / 7 ID3 FIELD SPIN 0 SU3 3 SU2 2 U1 - 3 / 7 DAGGER ID6 CONTRACTIONS SU3 ID3 ID3 ID6 SU2 ID3 ID6 + FIELD SPIN 0 ID4 FIELD SPIN 0 ID9 FIELD SPIN 0 ID8 + FIELD SPIN 0 SU3 3 SU2 2 U1 - 1 / 4 ID2 FIELD SPIN 0 SU3 - 3 SU2 2 U1 1 / 4 DAGGER ID4 FIELD SPIN 0 ID0 FIELD SPIN 0 ID7 CONTRACTIONS SU3 ID2 ID4 ID4 SU2 ID2 ID4 + FIELD SPIN 0 SU3 3 SU2 2 U1 - 1 / 4 ID4 FIELD SPIN 0 SU3 - 3 SU2 2 U1 1 / 4 DAGGER ID6 FIELD SPIN 0 SU3 - 3 SU2 2 U1 3 / 7 ID1 FIELD SPIN 0 SU3 3 SU2 2 U1 - 3 / 7 DAGGER ID0 CONTRACTIONS SU3 ID4 ID6 ID1 SU3 ID6 ID1 ID0 SU2 ID4 ID1 SU2 ID6 ID0 + FIELD SPIN 0 SU3 3 SU2 2 U1 - 1 / 4 ID4 FIELD SPIN 0 SU3 - 3 SU2 2 U1 1 / 4 DAGGER ID6 FIELD SPIN 0 SU3 - 3 SU2 2 U1 3 / 7 ID7 FIELD SPIN 0 SU3 3 SU2 2 U1 - 3 / 7 DAGGER ID0 CONTRACTIONS SU3 ID4 ID6 ID7 SU3 ID6 ID7 ID0 SU2 ID4 ID6 SU2 ID7 ID0 + FIELD SPIN 0 SU3 3 SU2 2 U1 - 1 / 4 ID4 FIELD SPIN 0 SU3 - 3 SU2 2 U1 1 / 4 DAGGER ID6 FIELD SPIN 0 SU3 - 3 SU2 2 U1 3 / 7 ID7 FIELD SPIN 0 SU3 3 SU2 2 U1 - 3 / 7 DAGGER ID0 CONTRACTIONS SU3 ID4 ID6 ID6 SU3 ID7 ID7 ID0 SU2 ID4 ID7 SU2 ID6 ID0 + FIELD SPIN 0 SU3 3 SU2 2 U1 - 1 / 4 ID2 FIELD SPIN 0 SU3 - 3 SU2 2 U1 1 / 4 DAGGER ID4 FIELD SPIN 0 SU3 - 3 SU2 2 U1 3 / 7 ID3 FIELD SPIN 0 SU3 3 SU2 2 U1 - 3 / 7 DAGGER ID6 CONTRACTIONS SU3 ID2 ID4 ID4 SU3 ID3 ID3 ID6 SU2 ID2 ID4 SU2 ID3 ID6 + FIELD SPIN 0 SU3 3 SU2 2 U1 - 1 / 4 ID2 FIELD SPIN 0 SU3 3 SU2 2 U1 - 1 / 4 ID4 FIELD SPIN 0 SU3 - 3 SU2 2 U1 1 / 4 DAGGER ID6 FIELD SPIN 0 SU3 - 3 SU2 2 U1 1 / 4 DAGGER ID0 CONTRACTIONS SU3 ID2 ID6 ID6 SU3 ID4 ID0 ID0 SU2 ID2 ID6 SU2 ID4 ID0 + FIELD SPIN 0 SU3 3 SU2 2 U1 - 1 / 4 ID0 FIELD SPIN 0 SU3 3 SU2 2 U1 - 1 / 4 ID4 FIELD SPIN 0 SU3 - 3 SU2 2 U1 1 / 4 DAGGER ID2 FIELD SPIN 0 SU3 - 3 SU2 2 U1 1 / 4 DAGGER ID1 CONTRACTIONS SU3 ID0 ID2 ID2 SU3 ID4 ID1 ID1 SU2 ID0 ID4 SU2 ID2 ID1 + FIELD SPIN 0 SU3 3 SU2 2 U1 - 1 / 4 ID0 FIELD SPIN 0 SU3 3 SU2 2 U1 - 1 / 4 ID4 FIELD SPIN 0 SU3 - 3 SU2 2 U1 1 / 4 DAGGER ID2 FIELD SPIN 0 SU3 - 3 SU2 2 U1 1 / 4 DAGGER ID1 CONTRACTIONS SU3 ID0 ID4 ID2 SU3 ID2 ID1 ID1 SU2 ID0 ID2 SU2 ID4 ID1 + FIELD SPIN 0 SU3 3 SU2 2 U1 - 1 / 4 ID0 FIELD SPIN 0 SU3 3 SU2 2 U1 - 1 / 4 ID4 FIELD SPIN 0 SU3 - 3 SU2 2 U1 1 / 4 DAGGER ID6 FIELD SPIN 0 SU3 - 3 SU2 2 U1 1 / 4 DAGGER ID1 CONTRACTIONS SU3 ID0 ID4 ID6 SU3 ID6 ID1 ID1 SU2 ID0 ID4 SU2 ID6 ID1 + FIELD SPIN 0 ID4 FIELD SPIN 0 ID7 FIELD SPIN 0 SU3 - 3 SU2 2 U1 3 / 7 ID6 FIELD SPIN 0 SU3 3 SU2 2 U1 - 3 / 7 DAGGER ID2 CONTRACTIONS SU3 ID6 ID6 ID2 SU2 ID6 ID2 + FIELD SPIN 0 ID7 FIELD SPIN 0 ID6 FIELD SPIN 0 ID0 FIELD SPIN 0 ID2 + FIELD SPIN 0 SU3 - 3 SU2 2 U1 3 / 7 ID4 FIELD SPIN 0 SU3 - 3 SU2 2 U1 3 / 7 ID8 FIELD SPIN 0 SU3 3 SU2 2 U1 - 3 / 7 DAGGER ID6 FIELD SPIN 0 SU3 3 SU2 2 U1 - 3 / 7 DAGGER ID0 CONTRACTIONS SU3 ID4 ID4 ID6 SU3 ID8 ID8 ID0 SU2 ID4 ID6 SU2 ID8 ID0 + FIELD SPIN 0 SU3 - 3 SU2 2 U1 3 / 7 ID4 FIELD SPIN 0 SU3 - 3 SU2 2 U1 3 / 7 ID8 FIELD SPIN 0 SU3 3 SU2 2 U1 - 3 / 7 DAGGER ID6 FIELD SPIN 0 SU3 3 SU2 2 U1 - 3 / 7 DAGGER ID7 CONTRACTIONS SU3 ID4 ID4 ID6 SU3 ID8 ID8 ID7 SU2 ID4 ID8 SU2 ID6 ID7 + FIELD SPIN 0 SU3 - 3 SU2 2 U1 3 / 7 ID4 FIELD SPIN 0 SU3 - 3 SU2 2 U1 3 / 7 ID8 FIELD SPIN 0 SU3 3 SU2 2 U1 - 3 / 7 DAGGER ID6 FIELD SPIN 0 SU3 3 SU2 2 U1 - 3 / 7 DAGGER ID7 CONTRACTIONS SU3 ID4 ID4 ID8 SU3 ID8 ID6 ID7 SU2 ID4 ID6 SU2 ID8 ID7 + FIELD SPIN 0 SU3 - 3 SU2 2 U1 3 / 7 ID4 FIELD SPIN 0 SU3 - 3 SU2 2 U1 3 / 7 ID8 FIELD SPIN 0 SU3 3 SU2 2 U1 - 3 / 7 DAGGER ID6 FIELD SPIN 0 SU3 3 SU2 2 U1 - 3 / 7 DAGGER ID0 CONTRACTIONS SU3 ID4 ID4 ID8 SU3 ID8 ID6 ID0 SU2 ID4 ID8 SU2 ID6 ID0 + i FIELD SPIN 1 / 2 SU3 - 3 SU2 3 U1 8 / 9 HEL 1 / 2 DAGGER ID0 SIGMA_BAR ID7 DERIVATIVE SU3 SU2 U1 ID6 FIELD SPIN 1 / 2 SU3 3 SU2 3 U1 - 8 / 9 HEL - 1 / 2 ID4 CONTRACTIONS LORENTZ ID7 ID6 LORENTZ ID7 ID0 ID4 SU3 ID0 ID4 SU2 ID0 ID4 + i FIELD SPIN 1 / 2 SU2 3 U1 2 / 9 HEL 1 / 2 ID4 SIGMA_BAR ID2 DERIVATIVE SU2 U1 ID3 FIELD SPIN 1 / 2 SU2 3 U1 - 2 / 9 HEL - 1 / 2 DAGGER ID6 CONTRACTIONS LORENTZ ID2 ID3 LORENTZ ID2 ID4 ID6 SU2 ID4 ID6 + i FIELD SPIN 1 / 2 SU3 - 3 SU2 2 U1 1 / 4 HEL 1 / 2 ID2 SIGMA_BAR ID4 DERIVATIVE SU3 SU2 U1 ID0 FIELD SPIN 1 / 2 SU3 3 SU2 2 U1 - 1 / 4 HEL - 1 / 2 DAGGER ID7 CONTRACTIONS LORENTZ ID4 ID0 LORENTZ ID4 ID2 ID7 SU3 ID2 ID7 SU2 ID2 ID7 + DERIVATIVE SU3 SU2 U1 ID4 FIELD SPIN 0 SU3 - 3 SU2 2 U1 1 / 4 DAGGER ID6 DERIVATIVE SU3 SU2 U1 ID9 FIELD SPIN 0 SU3 3 SU2 2 U1 - 1 / 4 ID0 CONTRACTIONS LORENTZ ID4 ID9 SU3 ID6 ID0 SU2 ID6 ID0 + DERIVATIVE ID4 FIELD SPIN 0 DAGGER ID5 DERIVATIVE ID2 FIELD SPIN 0 ID7 CONTRACTIONS LORENTZ ID4 ID2 + DERIVATIVE SU3 SU2 U1 ID4 FIELD SPIN 0 SU3 3 SU2 2 U1 - 3 / 7 DAGGER ID6 DERIVATIVE SU3 SU2 U1 ID9 FIELD SPIN 0 SU3 - 3 SU2 2 U1 3 / 7 ID7 CONTRACTIONS LORENTZ ID4 ID9 SU3 ID6 ID7 SU2 ID6 ID7 - COMMUTATOR_A DERIVATIVE SU3 ID4 COMMUTATOR_B DERIVATIVE SU3 ID8 COMMUTATOR_A DERIVATIVE SU3 ID6 COMMUTATOR_B DERIVATIVE SU3 ID5 CONTRACTIONS LORENTZ ID4 ID6 LORENTZ ID8 ID5 - COMMUTATOR_A DERIVATIVE SU2 ID4 COMMUTATOR_B DERIVATIVE SU2 ID8 COMMUTATOR_A DERIVATIVE SU2 ID6 COMMUTATOR_B DERIVATIVE SU2 ID2 CONTRACTIONS LORENTZ ID4 ID6 LORENTZ ID8 ID2 - COMMUTATOR_A DERIVATIVE U1 ID4 COMMUTATOR_B DERIVATIVE U1 ID8 COMMUTATOR_A DERIVATIVE U1 ID6 COMMUTATOR_B DERIVATIVE U1 ID2 CONTRACTIONS LORENTZ ID4 ID6 LORENTZ ID8 ID2 + FIELD SPIN 0 SU3 - 3 SU2 2 U1 1 / 4 DAGGER ID4 FIELD SPIN 0 SU3 3 SU2 2 U1 - 1 / 4 ID8 CONTRACTIONS SU3 ID4 ID8 SU2 ID4 ID8 + FIELD SPIN 0 DAGGER ID7 FIELD SPIN 0 ID6 CONTRACTIONS + FIELD SPIN 0 SU3 3 SU2 2 U1 - 3 / 7 DAGGER ID4 FIELD SPIN 0 SU3 - 3 SU2 2 U1 3 / 7 ID2 CONTRACTIONS SU3 ID4 ID2 SU2 ID4\n",
      "\n",
      "Truth_1           :  + FIELD SPIN 0 SU3 3 SU2 2 U1 - 1 / 4 ID5 FIELD SPIN 0 SU3 - 3 SU2 2 U1 1 / 4 DAGGER ID7 FIELD SPIN 0 ID1 CONTRACTIONS SU3 ID5 ID7 ID7 SU2 ID5 ID7 + FIELD SPIN 0 ID3 FIELD SPIN 0 SU3 - 3 SU2 2 U1 3 / 7 ID6 FIELD SPIN 0 SU3 3 SU2 2 U1 - 3 / 7 DAGGER ID0 CONTRACTIONS SU3 ID6 ID6 ID0 SU2 ID6 ID0 + FIELD SPIN 0 ID0 FIELD SPIN 0 ID5 FIELD SPIN 0 ID2 + FIELD SPIN 0 SU3 3 SU2 2 U1 - 1 / 4 ID3 FIELD SPIN 0 SU3 - 3 SU2 2 U1 1 / 4 DAGGER ID6 FIELD SPIN 0 ID2 FIELD SPIN 0 ID9 CONTRACTIONS SU3 ID3 ID6 ID6 SU2 ID3 ID6 + FIELD SPIN 0 SU3 3 SU2 2 U1 - 1 / 4 ID7 FIELD SPIN 0 SU3 - 3 SU2 2 U1 1 / 4 DAGGER ID6 FIELD SPIN 0 SU3 - 3 SU2 2 U1 3 / 7 ID2 FIELD SPIN 0 SU3 3 SU2 2 U1 - 3 / 7 DAGGER ID1 CONTRACTIONS SU3 ID7 ID6 ID2 SU3 ID6 ID2 ID1 SU2 ID7 ID2 SU2 ID6 ID1 + FIELD SPIN 0 SU3 3 SU2 2 U1 - 1 / 4 ID2 FIELD SPIN 0 SU3 - 3 SU2 2 U1 1 / 4 DAGGER ID4 FIELD SPIN 0 SU3 - 3 SU2 2 U1 3 / 7 ID6 FIELD SPIN 0 SU3 3 SU2 2 U1 - 3 / 7 DAGGER ID7 CONTRACTIONS SU3 ID2 ID4 ID6 SU3 ID4 ID6 ID7 SU2 ID2 ID4 SU2 ID6 ID7 + FIELD SPIN 0 SU3 3 SU2 2 U1 - 1 / 4 ID1 FIELD SPIN 0 SU3 - 3 SU2 2 U1 1 / 4 DAGGER ID3 FIELD SPIN 0 SU3 - 3 SU2 2 U1 3 / 7 ID0 FIELD SPIN 0 SU3 3 SU2 2 U1 - 3 / 7 DAGGER ID9 CONTRACTIONS SU3 ID1 ID3 ID3 SU3 ID0 ID0 ID9 SU2 ID1 ID0 SU2 ID3 ID9 + FIELD SPIN 0 SU3 3 SU2 2 U1 - 1 / 4 ID5 FIELD SPIN 0 SU3 - 3 SU2 2 U1 1 / 4 DAGGER ID4 FIELD SPIN 0 SU3 - 3 SU2 2 U1 3 / 7 ID7 FIELD SPIN 0 SU3 3 SU2 2 U1 - 3 / 7 DAGGER ID0 CONTRACTIONS SU3 ID5 ID4 ID4 SU3 ID7 ID7 ID0 SU2 ID5 ID4 SU2 ID7 ID0 + FIELD SPIN 0 SU3 3 SU2 2 U1 - 1 / 4 ID7 FIELD SPIN 0 SU3 3 SU2 2 U1 - 1 / 4 ID2 FIELD SPIN 0 SU3 - 3 SU2 2 U1 1 / 4 DAGGER ID9 FIELD SPIN 0 SU3 - 3 SU2 2 U1 1 / 4 DAGGER ID1 CONTRACTIONS SU3 ID7 ID9 ID9 SU3 ID2 ID1 ID1 SU2 ID7 ID9 SU2 ID2 ID1 + FIELD SPIN 0 SU3 3 SU2 2 U1 - 1 / 4 ID5 FIELD SPIN 0 SU3 3 SU2 2 U1 - 1 / 4 ID6 FIELD SPIN 0 SU3 - 3 SU2 2 U1 1 / 4 DAGGER ID4 FIELD SPIN 0 SU3 - 3 SU2 2 U1 1 / 4 DAGGER ID3 CONTRACTIONS SU3 ID5 ID4 ID4 SU3 ID6 ID3 ID3 SU2 ID5 ID6 SU2 ID4 ID3 + FIELD SPIN 0 SU3 3 SU2 2 U1 - 1 / 4 ID1 FIELD SPIN 0 SU3 3 SU2 2 U1 - 1 / 4 ID7 FIELD SPIN 0 SU3 - 3 SU2 2 U1 1 / 4 DAGGER ID5 FIELD SPIN 0 SU3 - 3 SU2 2 U1 1 / 4 DAGGER ID4 CONTRACTIONS SU3 ID1 ID7 ID5 SU3 ID5 ID4 ID4 SU2 ID1 ID5 SU2 ID7 ID4 + FIELD SPIN 0 SU3 3 SU2 2 U1 - 1 / 4 ID9 FIELD SPIN 0 SU3 3 SU2 2 U1 - 1 / 4 ID8 FIELD SPIN 0 SU3 - 3 SU2 2 U1 1 / 4 DAGGER ID2 FIELD SPIN 0 SU3 - 3 SU2 2 U1 1 / 4 DAGGER ID6 CONTRACTIONS SU3 ID9 ID8 ID2 SU3 ID2 ID6 ID6 SU2 ID9 ID8 SU2 ID2 ID6 + FIELD SPIN 0 ID7 FIELD SPIN 0 ID0 FIELD SPIN 0 SU3 - 3 SU2 2 U1 3 / 7 ID3 FIELD SPIN 0 SU3 3 SU2 2 U1 - 3 / 7 DAGGER ID8 CONTRACTIONS SU3 ID3 ID3 ID8 SU2 ID3 ID8 + FIELD SPIN 0 ID6 FIELD SPIN 0 ID8 FIELD SPIN 0 ID7 FIELD SPIN 0 ID4 + FIELD SPIN 0 SU3 - 3 SU2 2 U1 3 / 7 ID9 FIELD SPIN 0 SU3 - 3 SU2 2 U1 3 / 7 ID3 FIELD SPIN 0 SU3 3 SU2 2 U1 - 3 / 7 DAGGER ID8 FIELD SPIN 0 SU3 3 SU2 2 U1 - 3 / 7 DAGGER ID1 CONTRACTIONS SU3 ID9 ID9 ID8 SU3 ID3 ID3 ID1 SU2 ID9 ID8 SU2 ID3 ID1 + FIELD SPIN 0 SU3 - 3 SU2 2 U1 3 / 7 ID4 FIELD SPIN 0 SU3 - 3 SU2 2 U1 3 / 7 ID2 FIELD SPIN 0 SU3 3 SU2 2 U1 - 3 / 7 DAGGER ID0 FIELD SPIN 0 SU3 3 SU2 2 U1 - 3 / 7 DAGGER ID5 CONTRACTIONS SU3 ID4 ID4 ID0 SU3 ID2 ID2 ID5 SU2 ID4 ID2 SU2 ID0 ID5 + FIELD SPIN 0 SU3 - 3 SU2 2 U1 3 / 7 ID0 FIELD SPIN 0 SU3 - 3 SU2 2 U1 3 / 7 ID2 FIELD SPIN 0 SU3 3 SU2 2 U1 - 3 / 7 DAGGER ID6 FIELD SPIN 0 SU3 3 SU2 2 U1 - 3 / 7 DAGGER ID7 CONTRACTIONS SU3 ID0 ID0 ID2 SU3 ID2 ID6 ID7 SU2 ID0 ID6 SU2 ID2 ID7 + FIELD SPIN 0 SU3 - 3 SU2 2 U1 3 / 7 ID1 FIELD SPIN 0 SU3 - 3 SU2 2 U1 3 / 7 ID8 FIELD SPIN 0 SU3 3 SU2 2 U1 - 3 / 7 DAGGER ID2 FIELD SPIN 0 SU3 3 SU2 2 U1 - 3 / 7 DAGGER ID0 CONTRACTIONS SU3 ID1 ID1 ID8 SU3 ID8 ID2 ID0 SU2 ID1 ID8 SU2 ID2 ID0 + i FIELD SPIN 1 / 2 SU3 - 3 SU2 3 U1 8 / 9 HEL 1 / 2 DAGGER ID3 SIGMA_BAR ID8 DERIVATIVE SU3 SU2 U1 ID9 FIELD SPIN 1 / 2 SU3 3 SU2 3 U1 - 8 / 9 HEL - 1 / 2 ID1 CONTRACTIONS LORENTZ ID8 ID9 LORENTZ ID8 ID3 ID1 SU3 ID3 ID1 SU2 ID3 ID1 + i FIELD SPIN 1 / 2 SU2 3 U1 2 / 9 HEL 1 / 2 ID6 SIGMA_BAR ID9 DERIVATIVE SU2 U1 ID7 FIELD SPIN 1 / 2 SU2 3 U1 - 2 / 9 HEL - 1 / 2 DAGGER ID3 CONTRACTIONS LORENTZ ID9 ID7 LORENTZ ID9 ID6 ID3 SU2 ID6 ID3 + i FIELD SPIN 1 / 2 SU3 - 3 SU2 2 U1 1 / 4 HEL 1 / 2 ID7 SIGMA_BAR ID6 DERIVATIVE SU3 SU2 U1 ID0 FIELD SPIN 1 / 2 SU3 3 SU2 2 U1 - 1 / 4 HEL - 1 / 2 DAGGER ID4 CONTRACTIONS LORENTZ ID6 ID0 LORENTZ ID6 ID7 ID4 SU3 ID7 ID4 SU2 ID7 ID4 + DERIVATIVE SU3 SU2 U1 ID4 FIELD SPIN 0 SU3 - 3 SU2 2 U1 1 / 4 DAGGER ID1 DERIVATIVE SU3 SU2 U1 ID9 FIELD SPIN 0 SU3 3 SU2 2 U1 - 1 / 4 ID7 CONTRACTIONS LORENTZ ID4 ID9 SU3 ID1 ID7 SU2 ID1 ID7 + DERIVATIVE ID4 FIELD SPIN 0 DAGGER ID3 DERIVATIVE ID8 FIELD SPIN 0 ID6 CONTRACTIONS LORENTZ ID4 ID8 + DERIVATIVE SU3 SU2 U1 ID5 FIELD SPIN 0 SU3 3 SU2 2 U1 - 3 / 7 DAGGER ID6 DERIVATIVE SU3 SU2 U1 ID4 FIELD SPIN 0 SU3 - 3 SU2 2 U1 3 / 7 ID3 CONTRACTIONS LORENTZ ID5 ID4 SU3 ID6 ID3 SU2 ID6 ID3 - COMMUTATOR_A DERIVATIVE SU3 ID0 COMMUTATOR_B DERIVATIVE SU3 ID5 COMMUTATOR_A DERIVATIVE SU3 ID6 COMMUTATOR_B DERIVATIVE SU3 ID2 CONTRACTIONS LORENTZ ID0 ID6 LORENTZ ID5 ID2 - COMMUTATOR_A DERIVATIVE SU2 ID3 COMMUTATOR_B DERIVATIVE SU2 ID8 COMMUTATOR_A DERIVATIVE SU2 ID1 COMMUTATOR_B DERIVATIVE SU2 ID2 CONTRACTIONS LORENTZ ID3 ID1 LORENTZ ID8 ID2 - COMMUTATOR_A DERIVATIVE U1 ID3 COMMUTATOR_B DERIVATIVE U1 ID0 COMMUTATOR_A DERIVATIVE U1 ID1 COMMUTATOR_B DERIVATIVE U1 ID8 CONTRACTIONS LORENTZ ID3 ID1 LORENTZ ID0 ID8 + FIELD SPIN 0 SU3 - 3 SU2 2 U1 1 / 4 DAGGER ID0 FIELD SPIN 0 SU3 3 SU2 2 U1 - 1 / 4 ID7 CONTRACTIONS SU3 ID0 ID7 SU2 ID0 ID7 + FIELD SPIN 0 DAGGER ID4 FIELD SPIN 0 ID0 CONTRACTIONS + FIELD SPIN 0 SU3 3 SU2 2 U1 - 3 / 7 DAGGER ID6 FIELD SPIN 0 SU3 - 3 SU2 2 U1 3 / 7 ID4 CONTRACTIONS SU3 ID6 ID4 SU2 ID6 ID4\n",
      "Lagrangian score  :  0.9666666666666667\n",
      "Object score      :  0.9666666666666667\n",
      "Contraction Score :  0.9666666666666667\n",
      "Length penalty    :  0.0\n",
      "\n",
      "Truth_2           :  + FIELD SPIN 0 ID3 FIELD SPIN 0 SU3 - 3 SU2 2 U1 3 / 7 ID6 FIELD SPIN 0 SU3 3 SU2 2 U1 - 3 / 7 DAGGER ID0 CONTRACTIONS SU3 ID6 ID6 ID0 SU2 ID6 ID0 + FIELD SPIN 0 SU3 3 SU2 2 U1 - 1 / 4 ID5 FIELD SPIN 0 SU3 - 3 SU2 2 U1 1 / 4 DAGGER ID7 FIELD SPIN 0 ID1 CONTRACTIONS SU3 ID5 ID7 ID7 SU2 ID5 ID7 + FIELD SPIN 0 ID0 FIELD SPIN 0 ID5 FIELD SPIN 0 ID2 + FIELD SPIN 0 SU3 3 SU2 2 U1 - 1 / 4 ID3 FIELD SPIN 0 SU3 - 3 SU2 2 U1 1 / 4 DAGGER ID6 FIELD SPIN 0 ID2 FIELD SPIN 0 ID9 CONTRACTIONS SU3 ID3 ID6 ID6 SU2 ID3 ID6 + FIELD SPIN 0 SU3 3 SU2 2 U1 - 1 / 4 ID7 FIELD SPIN 0 SU3 - 3 SU2 2 U1 1 / 4 DAGGER ID6 FIELD SPIN 0 SU3 - 3 SU2 2 U1 3 / 7 ID2 FIELD SPIN 0 SU3 3 SU2 2 U1 - 3 / 7 DAGGER ID1 CONTRACTIONS SU3 ID7 ID6 ID2 SU3 ID6 ID2 ID1 SU2 ID7 ID2 SU2 ID6 ID1 + FIELD SPIN 0 SU3 3 SU2 2 U1 - 1 / 4 ID2 FIELD SPIN 0 SU3 - 3 SU2 2 U1 1 / 4 DAGGER ID4 FIELD SPIN 0 SU3 - 3 SU2 2 U1 3 / 7 ID6 FIELD SPIN 0 SU3 3 SU2 2 U1 - 3 / 7 DAGGER ID7 CONTRACTIONS SU3 ID2 ID4 ID6 SU3 ID4 ID6 ID7 SU2 ID2 ID4 SU2 ID6 ID7 + FIELD SPIN 0 SU3 3 SU2 2 U1 - 1 / 4 ID1 FIELD SPIN 0 SU3 - 3 SU2 2 U1 1 / 4 DAGGER ID3 FIELD SPIN 0 SU3 - 3 SU2 2 U1 3 / 7 ID0 FIELD SPIN 0 SU3 3 SU2 2 U1 - 3 / 7 DAGGER ID9 CONTRACTIONS SU3 ID1 ID3 ID3 SU3 ID0 ID0 ID9 SU2 ID1 ID0 SU2 ID3 ID9 + FIELD SPIN 0 SU3 3 SU2 2 U1 - 1 / 4 ID5 FIELD SPIN 0 SU3 - 3 SU2 2 U1 1 / 4 DAGGER ID4 FIELD SPIN 0 SU3 - 3 SU2 2 U1 3 / 7 ID7 FIELD SPIN 0 SU3 3 SU2 2 U1 - 3 / 7 DAGGER ID0 CONTRACTIONS SU3 ID5 ID4 ID4 SU3 ID7 ID7 ID0 SU2 ID5 ID4 SU2 ID7 ID0 + FIELD SPIN 0 SU3 3 SU2 2 U1 - 1 / 4 ID7 FIELD SPIN 0 SU3 3 SU2 2 U1 - 1 / 4 ID2 FIELD SPIN 0 SU3 - 3 SU2 2 U1 1 / 4 DAGGER ID9 FIELD SPIN 0 SU3 - 3 SU2 2 U1 1 / 4 DAGGER ID1 CONTRACTIONS SU3 ID7 ID9 ID9 SU3 ID2 ID1 ID1 SU2 ID7 ID9 SU2 ID2 ID1 + FIELD SPIN 0 SU3 3 SU2 2 U1 - 1 / 4 ID5 FIELD SPIN 0 SU3 3 SU2 2 U1 - 1 / 4 ID6 FIELD SPIN 0 SU3 - 3 SU2 2 U1 1 / 4 DAGGER ID4 FIELD SPIN 0 SU3 - 3 SU2 2 U1 1 / 4 DAGGER ID3 CONTRACTIONS SU3 ID5 ID4 ID4 SU3 ID6 ID3 ID3 SU2 ID5 ID6 SU2 ID4 ID3 + FIELD SPIN 0 SU3 3 SU2 2 U1 - 1 / 4 ID1 FIELD SPIN 0 SU3 3 SU2 2 U1 - 1 / 4 ID7 FIELD SPIN 0 SU3 - 3 SU2 2 U1 1 / 4 DAGGER ID5 FIELD SPIN 0 SU3 - 3 SU2 2 U1 1 / 4 DAGGER ID4 CONTRACTIONS SU3 ID1 ID7 ID5 SU3 ID5 ID4 ID4 SU2 ID1 ID5 SU2 ID7 ID4 + FIELD SPIN 0 SU3 3 SU2 2 U1 - 1 / 4 ID9 FIELD SPIN 0 SU3 3 SU2 2 U1 - 1 / 4 ID8 FIELD SPIN 0 SU3 - 3 SU2 2 U1 1 / 4 DAGGER ID2 FIELD SPIN 0 SU3 - 3 SU2 2 U1 1 / 4 DAGGER ID6 CONTRACTIONS SU3 ID9 ID8 ID2 SU3 ID2 ID6 ID6 SU2 ID9 ID8 SU2 ID2 ID6 + FIELD SPIN 0 ID7 FIELD SPIN 0 ID0 FIELD SPIN 0 SU3 - 3 SU2 2 U1 3 / 7 ID3 FIELD SPIN 0 SU3 3 SU2 2 U1 - 3 / 7 DAGGER ID8 CONTRACTIONS SU3 ID3 ID3 ID8 SU2 ID3 ID8 + FIELD SPIN 0 ID6 FIELD SPIN 0 ID8 FIELD SPIN 0 ID7 FIELD SPIN 0 ID4 + FIELD SPIN 0 SU3 - 3 SU2 2 U1 3 / 7 ID9 FIELD SPIN 0 SU3 - 3 SU2 2 U1 3 / 7 ID3 FIELD SPIN 0 SU3 3 SU2 2 U1 - 3 / 7 DAGGER ID8 FIELD SPIN 0 SU3 3 SU2 2 U1 - 3 / 7 DAGGER ID1 CONTRACTIONS SU3 ID9 ID9 ID8 SU3 ID3 ID3 ID1 SU2 ID9 ID8 SU2 ID3 ID1 + FIELD SPIN 0 SU3 - 3 SU2 2 U1 3 / 7 ID4 FIELD SPIN 0 SU3 - 3 SU2 2 U1 3 / 7 ID2 FIELD SPIN 0 SU3 3 SU2 2 U1 - 3 / 7 DAGGER ID0 FIELD SPIN 0 SU3 3 SU2 2 U1 - 3 / 7 DAGGER ID5 CONTRACTIONS SU3 ID4 ID4 ID0 SU3 ID2 ID2 ID5 SU2 ID4 ID2 SU2 ID0 ID5 + FIELD SPIN 0 SU3 - 3 SU2 2 U1 3 / 7 ID0 FIELD SPIN 0 SU3 - 3 SU2 2 U1 3 / 7 ID2 FIELD SPIN 0 SU3 3 SU2 2 U1 - 3 / 7 DAGGER ID6 FIELD SPIN 0 SU3 3 SU2 2 U1 - 3 / 7 DAGGER ID7 CONTRACTIONS SU3 ID0 ID0 ID2 SU3 ID2 ID6 ID7 SU2 ID0 ID6 SU2 ID2 ID7 + FIELD SPIN 0 SU3 - 3 SU2 2 U1 3 / 7 ID1 FIELD SPIN 0 SU3 - 3 SU2 2 U1 3 / 7 ID8 FIELD SPIN 0 SU3 3 SU2 2 U1 - 3 / 7 DAGGER ID2 FIELD SPIN 0 SU3 3 SU2 2 U1 - 3 / 7 DAGGER ID0 CONTRACTIONS SU3 ID1 ID1 ID8 SU3 ID8 ID2 ID0 SU2 ID1 ID8 SU2 ID2 ID0 + i FIELD SPIN 1 / 2 SU3 - 3 SU2 3 U1 8 / 9 HEL 1 / 2 DAGGER ID3 SIGMA_BAR ID8 DERIVATIVE SU3 SU2 U1 ID9 FIELD SPIN 1 / 2 SU3 3 SU2 3 U1 - 8 / 9 HEL - 1 / 2 ID1 CONTRACTIONS LORENTZ ID8 ID9 LORENTZ ID8 ID3 ID1 SU3 ID3 ID1 SU2 ID3 ID1 + i FIELD SPIN 1 / 2 SU2 3 U1 2 / 9 HEL 1 / 2 ID6 SIGMA_BAR ID9 DERIVATIVE SU2 U1 ID7 FIELD SPIN 1 / 2 SU2 3 U1 - 2 / 9 HEL - 1 / 2 DAGGER ID3 CONTRACTIONS LORENTZ ID9 ID7 LORENTZ ID9 ID6 ID3 SU2 ID6 ID3 + i FIELD SPIN 1 / 2 SU3 - 3 SU2 2 U1 1 / 4 HEL 1 / 2 ID7 SIGMA_BAR ID6 DERIVATIVE SU3 SU2 U1 ID0 FIELD SPIN 1 / 2 SU3 3 SU2 2 U1 - 1 / 4 HEL - 1 / 2 DAGGER ID4 CONTRACTIONS LORENTZ ID6 ID0 LORENTZ ID6 ID7 ID4 SU3 ID7 ID4 SU2 ID7 ID4 + DERIVATIVE SU3 SU2 U1 ID4 FIELD SPIN 0 SU3 - 3 SU2 2 U1 1 / 4 DAGGER ID1 DERIVATIVE SU3 SU2 U1 ID9 FIELD SPIN 0 SU3 3 SU2 2 U1 - 1 / 4 ID7 CONTRACTIONS LORENTZ ID4 ID9 SU3 ID1 ID7 SU2 ID1 ID7 + DERIVATIVE ID4 FIELD SPIN 0 DAGGER ID3 DERIVATIVE ID8 FIELD SPIN 0 ID6 CONTRACTIONS LORENTZ ID4 ID8 + DERIVATIVE SU3 SU2 U1 ID5 FIELD SPIN 0 SU3 3 SU2 2 U1 - 3 / 7 DAGGER ID6 DERIVATIVE SU3 SU2 U1 ID4 FIELD SPIN 0 SU3 - 3 SU2 2 U1 3 / 7 ID3 CONTRACTIONS LORENTZ ID5 ID4 SU3 ID6 ID3 SU2 ID6 ID3 - COMMUTATOR_A DERIVATIVE SU3 ID0 COMMUTATOR_B DERIVATIVE SU3 ID5 COMMUTATOR_A DERIVATIVE SU3 ID6 COMMUTATOR_B DERIVATIVE SU3 ID2 CONTRACTIONS LORENTZ ID0 ID6 LORENTZ ID5 ID2 - COMMUTATOR_A DERIVATIVE SU2 ID3 COMMUTATOR_B DERIVATIVE SU2 ID8 COMMUTATOR_A DERIVATIVE SU2 ID1 COMMUTATOR_B DERIVATIVE SU2 ID2 CONTRACTIONS LORENTZ ID3 ID1 LORENTZ ID8 ID2 - COMMUTATOR_A DERIVATIVE U1 ID3 COMMUTATOR_B DERIVATIVE U1 ID0 COMMUTATOR_A DERIVATIVE U1 ID1 COMMUTATOR_B DERIVATIVE U1 ID8 CONTRACTIONS LORENTZ ID3 ID1 LORENTZ ID0 ID8 + FIELD SPIN 0 SU3 - 3 SU2 2 U1 1 / 4 DAGGER ID0 FIELD SPIN 0 SU3 3 SU2 2 U1 - 1 / 4 ID7 CONTRACTIONS SU3 ID0 ID7 SU2 ID0 ID7 + FIELD SPIN 0 DAGGER ID4 FIELD SPIN 0 ID0 CONTRACTIONS + FIELD SPIN 0 SU3 3 SU2 2 U1 - 3 / 7 DAGGER ID6 FIELD SPIN 0 SU3 - 3 SU2 2 U1 3 / 7 ID4 CONTRACTIONS SU3 ID6 ID4 SU2 ID6 ID4\n",
      "Lagrangian score  :  0.9666666666666667\n",
      "Object score      :  0.9666666666666667\n",
      "Contraction Score :  0.9666666666666667\n",
      "Length penalty    :  0.0\n"
     ]
    }
   ],
   "source": [
    "lscore_1, obscore_1, conscore_1, lpen_1 = le.get_lagrangian_score(predicted_string,lag_truth_1)\n",
    "lscore_2, obscore_2, conscore_2, lpen_2 = le.get_lagrangian_score(predicted_string,lag_truth_2)\n",
    "\n",
    "print(\"Prediction        : \", predicted_string)\n",
    "print()\n",
    "print(\"Truth_1           : \", lag_truth_1)\n",
    "print(\"Lagrangian score  : \",lscore_1)\n",
    "print(\"Object score      : \",obscore_1)\n",
    "print(\"Contraction Score : \",conscore_1)\n",
    "print(\"Length penalty    : \",lpen_1)\n",
    "print()\n",
    "print(\"Truth_2           : \", lag_truth_2)\n",
    "print(\"Lagrangian score  : \",lscore_2)\n",
    "print(\"Object score      : \",obscore_2)\n",
    "print(\"Contraction Score : \",conscore_2)\n",
    "print(\"Length penalty    : \",lpen_2)"
   ]
  },
  {
   "cell_type": "markdown",
   "id": "fb7b694d",
   "metadata": {},
   "source": [
    "---"
   ]
  },
  {
   "cell_type": "markdown",
   "id": "bdcf97e2",
   "metadata": {},
   "source": [
    "# 3B. Embedding analysis : What has it really learn?"
   ]
  },
  {
   "cell_type": "markdown",
   "id": "72478e40",
   "metadata": {},
   "source": [
    "Considerations : \n",
    "- Is efficiency the only think you need? \n",
    "- Or is it important for you to know whether the model knows what it is learning? \n",
    "\n",
    "Practical Questions : \n",
    "- Can it associate inputs to some embedding space? <br> \n",
    "- Can it understand relations between inputs?  <br> "
   ]
  },
  {
   "cell_type": "markdown",
   "id": "8bd7a58d",
   "metadata": {},
   "source": [
    "### What is embedding analysis? Basically information encoded in a learned vector space. "
   ]
  },
  {
   "cell_type": "markdown",
   "id": "9041fe80",
   "metadata": {},
   "source": [
    "<h4> Example in English-German translation : Learned the relationship between input and outputs"
   ]
  },
  {
   "cell_type": "markdown",
   "id": "f60130ae",
   "metadata": {},
   "source": [
    "<img src=\"https://miro.medium.com/v2/resize:fit:4800/format:webp/1*52X2L01wpUjy39lIjofC7g.jpeg\" alt=\"Embeddings in LLM\" width=\"1000\">\n"
   ]
  },
  {
   "cell_type": "markdown",
   "id": "c9c3bd51",
   "metadata": {},
   "source": [
    "<h4> Example of food words embeddings and their corresponding learned axis"
   ]
  },
  {
   "cell_type": "markdown",
   "id": "41fb71eb",
   "metadata": {},
   "source": [
    "<img src=\"https://developers.google.com/static/machine-learning/crash-course/images/embeddings_3D_tangyuan.png\" alt=\"Embeddings in LLM\" width=\"1000\">\n"
   ]
  },
  {
   "cell_type": "markdown",
   "id": "d7de8251",
   "metadata": {},
   "source": [
    "### Example : Embeddings of different field symbols"
   ]
  },
  {
   "cell_type": "code",
   "execution_count": 82,
   "id": "7b25e301",
   "metadata": {},
   "outputs": [
    {
     "name": "stderr",
     "output_type": "stream",
     "text": [
      "/cephyr/users/koay/Alvis/venv/jammymod/lib/python3.11/site-packages/huggingface_hub/file_download.py:1150: FutureWarning: `resume_download` is deprecated and will be removed in version 1.0.0. Downloads always resume when possible. If you want to force a new download, use `force_download=True`.\n",
      "  warnings.warn(\n"
     ]
    }
   ],
   "source": [
    "# Choose GPU if available\n",
    "import torch\n",
    "import pandas as pd\n",
    "device = torch.device(\"cuda\" if torch.cuda.is_available() else \"cpu\")\n",
    "\n",
    "import lag_eval as le\n",
    "from transformers import BartForConditionalGeneration, PreTrainedTokenizerFast\n",
    "\n",
    "# Load our BART-L model and tokenizer if not yet loaded\n",
    "model_name   = \"JoseEliel/BART-Lagrangian\"\n",
    "model        = BartForConditionalGeneration.from_pretrained(model_name).to(device)\n",
    "hf_tokenizer = PreTrainedTokenizerFast.from_pretrained(model_name)"
   ]
  },
  {
   "cell_type": "code",
   "execution_count": 83,
   "id": "2912143c",
   "metadata": {},
   "outputs": [
    {
     "name": "stdout",
     "output_type": "stream",
     "text": [
      "huggingface_dataset_sampled.csv\n"
     ]
    },
    {
     "name": "stderr",
     "output_type": "stream",
     "text": [
      "huggingface/tokenizers: The current process just got forked, after parallelism has already been used. Disabling parallelism to avoid deadlocks...\n",
      "To disable this warning, you can either:\n",
      "\t- Avoid using `tokenizers` before the fork if possible\n",
      "\t- Explicitly set the environment variable TOKENIZERS_PARALLELISM=(true | false)\n"
     ]
    }
   ],
   "source": [
    "!tar -xzvf huggingface_dataset_sampled.tar.gz"
   ]
  },
  {
   "cell_type": "code",
   "execution_count": 84,
   "id": "38daba9a",
   "metadata": {},
   "outputs": [],
   "source": [
    "# Load data if not already loaded, drop duplicates\n",
    "sampled_df = pd.read_csv(\"huggingface_dataset_sampled.csv\")\n",
    "sampled_df.drop_duplicates(subset=[\"fields\"], inplace=True)"
   ]
  },
  {
   "cell_type": "markdown",
   "id": "55f8e850",
   "metadata": {},
   "source": [
    "Get all the 1-field scenarios' inputs"
   ]
  },
  {
   "cell_type": "code",
   "execution_count": 85,
   "id": "6dfb9e61",
   "metadata": {},
   "outputs": [],
   "source": [
    "sampled_df[\"nfields\"]   = sampled_df[\"fields\"].apply(lambda x: x.count(\"FIELD\"))\n",
    "sampled_1f_scenarios_df = sampled_df[sampled_df[\"nfields\"]==1]\n",
    "sampled_1f_scenarios_df = sampled_1f_scenarios_df.sample(1000)\n",
    "fields                  = sampled_1f_scenarios_df[\"fields\"].apply(lambda x: set([\"FIELD \"+k for k in x.split(\"FIELD \") if k != \"\"])).to_list()\n",
    "uniq_fields_list_1f     = list(set.union(*(fields)))\n",
    "uniq_fields_list_1f     = [str((\"[SOS] \"+ k + \" [EOS]\").replace(\"  \",\" \")) for k in uniq_fields_list_1f]\n",
    "uniq_fields_list_1f     = np.unique(uniq_fields_list_1f).tolist()\n"
   ]
  },
  {
   "cell_type": "code",
   "execution_count": 86,
   "id": "9db4d73c",
   "metadata": {},
   "outputs": [
    {
     "name": "stdout",
     "output_type": "stream",
     "text": [
      "[SOS] FIELD SPIN 0 SU2 2 U1 - 1 / 2 [EOS]\n",
      "[SOS] FIELD SPIN 0 SU2 2 U1 - 1 / 4 [EOS]\n",
      "[SOS] FIELD SPIN 0 SU2 2 U1 - 1 / 5 [EOS]\n",
      "[SOS] FIELD SPIN 0 SU2 2 U1 - 2 / 5 [EOS]\n",
      "[SOS] FIELD SPIN 0 SU2 2 U1 - 2 [EOS]\n",
      "[SOS] FIELD SPIN 0 SU2 2 U1 - 3 / 4 [EOS]\n",
      "[SOS] FIELD SPIN 0 SU2 2 U1 - 4 / 5 [EOS]\n",
      "[SOS] FIELD SPIN 0 SU2 2 U1 - 4 [EOS]\n",
      "[SOS] FIELD SPIN 0 SU2 2 U1 - 5 / 4 [EOS]\n",
      "[SOS] FIELD SPIN 0 SU2 2 U1 - 5 / 6 [EOS]\n"
     ]
    }
   ],
   "source": [
    "# Have a look at the first 10 unique fields\n",
    "for i in uniq_fields_list_1f[:10]:\n",
    "    print(i)"
   ]
  },
  {
   "cell_type": "markdown",
   "id": "822bba06",
   "metadata": {},
   "source": [
    "Generate embeddings"
   ]
  },
  {
   "cell_type": "markdown",
   "id": "adcc2611",
   "metadata": {},
   "source": [
    "<img src=\"https://i.imgur.com/Has37yz.png\" alt=\"Embeddings in LLM\" width=\"600\">\n"
   ]
  },
  {
   "cell_type": "code",
   "execution_count": 96,
   "id": "7cef2e6b",
   "metadata": {},
   "outputs": [
    {
     "name": "stderr",
     "output_type": "stream",
     "text": [
      "/local/tmp.4009273/ipykernel_1435196/595248388.py:5: UserWarning: To copy construct from a tensor, it is recommended to use sourceTensor.clone().detach() or sourceTensor.clone().detach().requires_grad_(True), rather than torch.tensor(sourceTensor).\n",
      "  data_loader  = DataLoader( torch.tensor(inputs_batch[\"input_ids\"]).to(device), batch_size=32)\n",
      "  0%|          | 0/32 [00:00<?, ?it/s]"
     ]
    },
    {
     "name": "stderr",
     "output_type": "stream",
     "text": [
      "100%|██████████| 32/32 [00:04<00:00,  6.44it/s]\n"
     ]
    }
   ],
   "source": [
    "from torch.utils.data import DataLoader\n",
    "from tqdm import tqdm\n",
    "\n",
    "inputs_batch = hf_tokenizer(uniq_fields_list_1f, return_tensors='pt', truncation=True,padding=True).to(device)\n",
    "data_loader  = DataLoader( torch.tensor(inputs_batch[\"input_ids\"]).to(device), batch_size=32)\n",
    "\n",
    "\n",
    "# Example of getting embeddings of specific cases\n",
    "all_embedding_1f = []\n",
    "with torch.no_grad():\n",
    "    model.eval()\n",
    "    for xinput in tqdm(data_loader):\n",
    "        outputs = model(xinput.to(device), output_hidden_states=True)\n",
    "        # Get the embeddings, which we choose to be the encoder's last hidden state of the first token\n",
    "        embeddings_enc = outputs.encoder_last_hidden_state[:, 0, :].cpu().numpy()\n",
    "        all_embedding_1f.append( torch.tensor(embeddings_enc))\n",
    "\n",
    "all_embedding_1f = torch.cat(all_embedding_1f, dim=0)\n"
   ]
  },
  {
   "cell_type": "code",
   "execution_count": 97,
   "id": "f8bc6f3a",
   "metadata": {},
   "outputs": [
    {
     "data": {
      "text/plain": [
       "torch.Size([1000, 1024])"
      ]
     },
     "execution_count": 97,
     "metadata": {},
     "output_type": "execute_result"
    }
   ],
   "source": [
    "all_embedding_1f.shape"
   ]
  },
  {
   "cell_type": "markdown",
   "id": "c154db3b",
   "metadata": {},
   "source": [
    "Reduced the dimension"
   ]
  },
  {
   "cell_type": "code",
   "execution_count": 98,
   "id": "671d4a46",
   "metadata": {},
   "outputs": [],
   "source": [
    "from sklearn.manifold import TSNE\n",
    "\n",
    "tsne = TSNE(n_components=3)\n",
    "tsne_results = tsne.fit_transform(all_embedding_1f)"
   ]
  },
  {
   "cell_type": "code",
   "execution_count": 99,
   "id": "56820673",
   "metadata": {},
   "outputs": [
    {
     "data": {
      "text/plain": [
       "(1000, 3)"
      ]
     },
     "execution_count": 99,
     "metadata": {},
     "output_type": "execute_result"
    }
   ],
   "source": [
    "tsne_results.shape"
   ]
  },
  {
   "cell_type": "markdown",
   "id": "07f1cf42",
   "metadata": {},
   "source": [
    "---"
   ]
  },
  {
   "cell_type": "code",
   "execution_count": 100,
   "id": "6deaf1bb",
   "metadata": {},
   "outputs": [],
   "source": [
    "\n",
    "def plot_3d_tsne(tsne_results, clusters_dat, with_noise=True,elev=30, azim=30,info_dict=None,cluster_order=None,title=\"3D Clusters of BART\"):\n",
    "    \"\"\"\n",
    "    Plots a 3D scatter plot of t-SNE results\n",
    "    \n",
    "    Parameters:\n",
    "    - tsne_results (numpy.ndarray): The 3D coordinates from t-SNE, shape (n_samples, 3).\n",
    "    - clusters_dat (numpy.ndarray): The cluster labels from DBSCAN, shape (n_samples,).\n",
    "    - elev (float): Elevation angle for the 3D plot.\n",
    "    - azim (float): Azimuthal angle for the 3D plot.\n",
    "    \"\"\"\n",
    "    if cluster_order is None: cluster_order = np.unique(clusters_dat)\n",
    "\n",
    "    colors = plt.colormaps['tab20']\n",
    "    \n",
    "    if info_dict is not None: cluster_colors = {cluster: colors(i) for i, cluster in enumerate(info_dict.keys())}\n",
    "    else                    : cluster_colors = {cluster: colors(i) for i, cluster in enumerate(cluster_order)}\n",
    "\n",
    "    # Create an interactive 3D scatter plot\n",
    "    fig = plt.figure(figsize=(10, 5))\n",
    "    \n",
    "    ax = fig.add_subplot(111, projection='3d')\n",
    "    ax.view_init(elev=elev, azim=azim)\n",
    "\n",
    "    for cluster in cluster_order:\n",
    "        if not with_noise and cluster == -1: continue\n",
    "        cluster_points = tsne_results[np.array(clusters_dat) == cluster]\n",
    "        if info_dict is None:\n",
    "            cluster_label=f'Cluster {cluster}'\n",
    "        else:\n",
    "            try    :cluster_label=f'{info_dict[cluster][\"tag\"]}'\n",
    "            except :cluster_label=f'{info_dict[cluster]}'\n",
    "\n",
    "        ax.scatter(cluster_points[:, 0], cluster_points[:, 1], cluster_points[:, 2], \n",
    "                       color=cluster_colors[cluster], label=cluster_label, alpha=0.7)\n",
    "\n",
    "    \n",
    "    ax.legend(loc='lower right', fontsize=\"medium\", bbox_to_anchor=(.35, .65))\n",
    "\n",
    "    # Setting labels and title\n",
    "    ax.set_xlabel('TSNE Component 1',fontsize=\"medium\")\n",
    "    ax.set_ylabel('TSNE Component 2',fontsize=\"medium\")\n",
    "    ax.set_zlabel('TSNE Component 3',fontsize=\"medium\")\n",
    "    ax.tick_params(labelsize=\"small\")    # Use ax.set_title() for a 3D plot and adjust the padding\n",
    "    # Use fig.suptitle instead of ax.set_title for better control\n",
    "    fig.suptitle(title, fontsize=\"large\")  # y controls the vertical position; lower values move it closer to the plot\n",
    "\n",
    "    # Adjust layout to prevent overlapping\n",
    "    plt.tight_layout()\n",
    "    plt.subplots_adjust(top=0.88)  # You can further lower the top value to move the plot down\n"
   ]
  },
  {
   "cell_type": "code",
   "execution_count": 101,
   "id": "28c65e08",
   "metadata": {},
   "outputs": [
    {
     "data": {
      "application/vnd.jupyter.widget-view+json": {
       "model_id": "8e3d382990494b0a867b3d1120e3cb8e",
       "version_major": 2,
       "version_minor": 0
      },
      "text/plain": [
       "interactive(children=(FloatSlider(value=30.0, description='Elev', max=90.0, step=1.0), FloatSlider(value=84.0,…"
      ]
     },
     "execution_count": 101,
     "metadata": {},
     "output_type": "execute_result"
    }
   ],
   "source": [
    "import ipywidgets as widgets\n",
    "\n",
    "elev_slider = widgets.FloatSlider(min=0, max=90, step=1, value=30, description='Elev')\n",
    "azim_slider = widgets.FloatSlider(min=0, max=360, step=1, value=84, description='Azim')\n",
    "widgets.interactive(plot_3d_tsne, \n",
    "                    tsne_results   = widgets.fixed(tsne_results), \n",
    "                    clusters_dat   = widgets.fixed(sampled_1f_scenarios_df[\"nfields\"].to_numpy()), \n",
    "                    with_noise     = widgets.fixed(True),\n",
    "                    elev           = elev_slider, \n",
    "                    azim           = azim_slider,\n",
    "                    info_dict      = widgets.fixed({1:\"Embedded Vectors\"}),\n",
    "                    cluster_order  = widgets.fixed(None),\n",
    "                    title          = widgets.fixed(\" clusters\")\n",
    "                    )\n",
    "\n",
    "# in case widgets are not available\n",
    "# plot_3d_tsne(tsne_results, clusters_dat=sampled_1f_scenarios_df[\"nfields\"].to_numpy(),with_noise=True, elev=30, azim=30,info_dict={1:\"Embedded Vectors\"},cluster_order=None,title=\"3D Clusters of BART\")"
   ]
  },
  {
   "cell_type": "code",
   "execution_count": 102,
   "id": "24ced615",
   "metadata": {},
   "outputs": [
    {
     "data": {
      "application/vnd.jupyter.widget-view+json": {
       "model_id": "20e603cdfd4f4ae49d3eda5ccc18c214",
       "version_major": 2,
       "version_minor": 0
      },
      "text/plain": [
       "interactive(children=(FloatSlider(value=30.0, description='Elev', max=90.0, step=1.0), FloatSlider(value=84.0,…"
      ]
     },
     "execution_count": 102,
     "metadata": {},
     "output_type": "execute_result"
    }
   ],
   "source": [
    "cluster_SPIN_dat_true   = [\"A\" if \"SPIN 0\" in j else \"B\" if (\"SPIN 0\" not in j and \"HEL 1\" not in j) else \"C\" if (\"SPIN 0\" not in j and \"HEL 1\" in j) else \"D\" for i,j in zip(tsne_results,uniq_fields_list_1f)  ]\n",
    "cluster_SPIN_info_dict  = {\"B\":r\"$\\psi_L$\" + \" : LH Fermions\",\"C\":r\"$\\psi_R$\" + \" : RH Fermions\",\"A\":r\"$\\phi$\" + \" : Scalars\" ,\"D\":\"?\" }\n",
    "\n",
    "elev_slider = widgets.FloatSlider(min=0, max=90, step=1, value=30, description='Elev')\n",
    "azim_slider = widgets.FloatSlider(min=0, max=360, step=1, value=84, description='Azim')\n",
    "widgets.interactive(plot_3d_tsne, \n",
    "                    tsne_results   = widgets.fixed(tsne_results), \n",
    "                    clusters_dat   = widgets.fixed(cluster_SPIN_dat_true), \n",
    "                    with_noise     = widgets.fixed(True),\n",
    "                    elev           = elev_slider, \n",
    "                    azim           = azim_slider,\n",
    "                    info_dict      = widgets.fixed(cluster_SPIN_info_dict),\n",
    "                    cluster_order  = widgets.fixed(None),\n",
    "                    title          = widgets.fixed(\"SPIN clusters\")\n",
    "                    )\n",
    "\n",
    "# In case widgets are not available\n",
    "# plot_3d_tsne(tsne_results, clusters_dat=cluster_SPIN_dat_true,with_noise=False, elev=30, azim=30,info_dict=cluster_SPIN_info_dict,cluster_order=None,title=\"Lorentz\")"
   ]
  },
  {
   "cell_type": "code",
   "execution_count": 103,
   "id": "875d2326",
   "metadata": {},
   "outputs": [
    {
     "data": {
      "application/vnd.jupyter.widget-view+json": {
       "model_id": "e761f06eabe541c5a922a1eb0d326258",
       "version_major": 2,
       "version_minor": 0
      },
      "text/plain": [
       "interactive(children=(FloatSlider(value=30.0, description='Elev', max=90.0, step=1.0), FloatSlider(value=84.0,…"
      ]
     },
     "execution_count": 103,
     "metadata": {},
     "output_type": "execute_result"
    }
   ],
   "source": [
    "cluster_SU3_dat_true  = [\"3\" if \"SU3 3\" in j else r\"$\\overline{3}$\" if \"SU3 - 3\" in j    else \"1\" for i,j in zip(tsne_results,uniq_fields_list_1f)  ]\n",
    "cluster_SU3_info_dict = {\"3\":\"3: Triplets\"     ,r\"$\\overline{3}$\":r\"$\\overline{3}$\" + \": Anti-Triplets\"     ,\"1\":\"1: Singlets\" }\n",
    "\n",
    "elev_slider = widgets.FloatSlider(min=0, max=90, step=1, value=30, description='Elev')\n",
    "azim_slider = widgets.FloatSlider(min=0, max=360, step=1, value=84, description='Azim')\n",
    "widgets.interactive(plot_3d_tsne, \n",
    "                    tsne_results   = widgets.fixed(tsne_results), \n",
    "                    clusters_dat   = widgets.fixed(cluster_SU3_dat_true), \n",
    "                    with_noise     = widgets.fixed(True),\n",
    "                    elev           = elev_slider, \n",
    "                    azim           = azim_slider,\n",
    "                    info_dict      = widgets.fixed(cluster_SU3_info_dict),\n",
    "                    cluster_order  = widgets.fixed(None),\n",
    "                    title          = widgets.fixed(\"SU3 clusters\")\n",
    "                    )\n",
    "\n",
    "# In case widgets are not available\n",
    "# plot_3d_tsne(tsne_results, clusters_dat=cluster_SU3_dat_true,with_noise=False, elev=30, azim=30,info_dict=cluster_SU3_info_dict,cluster_order=None,title=\"Lorentz\")"
   ]
  },
  {
   "cell_type": "code",
   "execution_count": 104,
   "id": "7648d7c2",
   "metadata": {},
   "outputs": [
    {
     "data": {
      "application/vnd.jupyter.widget-view+json": {
       "model_id": "3d953bdeb7cb4347b110d85dc742d1ad",
       "version_major": 2,
       "version_minor": 0
      },
      "text/plain": [
       "interactive(children=(FloatSlider(value=30.0, description='Elev', max=90.0, step=1.0), FloatSlider(value=84.0,…"
      ]
     },
     "execution_count": 104,
     "metadata": {},
     "output_type": "execute_result"
    }
   ],
   "source": [
    "cluster_SU2_dat_true  = [3 if \"SU2 3\" in j else 2 if \"SU2 2\" in j    else 1 for i,j in zip(tsne_results,uniq_fields_list_1f)  ]\n",
    "cluster_SU2_info_dict = {3:\"3 : Triplets\"     ,2:\"2 : Doublets\"     ,1:\"1 : Singlets\" }\n",
    "\n",
    "\n",
    "elev_slider = widgets.FloatSlider(min=0, max=90, step=1, value=30, description='Elev')\n",
    "azim_slider = widgets.FloatSlider(min=0, max=360, step=1, value=84, description='Azim')\n",
    "widgets.interactive(plot_3d_tsne, \n",
    "                    tsne_results   = widgets.fixed(tsne_results), \n",
    "                    clusters_dat   = widgets.fixed(cluster_SU2_dat_true), \n",
    "                    with_noise     = widgets.fixed(True),\n",
    "                    elev           = elev_slider, \n",
    "                    azim           = azim_slider,\n",
    "                    info_dict      = widgets.fixed(cluster_SU2_info_dict),\n",
    "                    cluster_order  = widgets.fixed(None),\n",
    "                    title          = widgets.fixed(\"SU2 clusters\")\n",
    "                    )\n",
    "\n",
    "# In case widgets are not available\n",
    "# plot_3d_tsne(tsne_results, clusters_dat=cluster_SU2_dat_true,with_noise=False, elev=30, azim=30,info_dict=cluster_SU2_info_dict,cluster_order=None,title=\"Lorentz\")"
   ]
  },
  {
   "cell_type": "markdown",
   "id": "398b9ae3",
   "metadata": {},
   "source": [
    "### TAKEAWAY : Embedding shows whether it had \"understood\" concepts"
   ]
  },
  {
   "cell_type": "markdown",
   "id": "77787d14",
   "metadata": {},
   "source": [
    "# 3C. Out-Of-Distribution Generalization : Can it go beyond what its trained? "
   ]
  },
  {
   "cell_type": "markdown",
   "id": "f5c5fcd2",
   "metadata": {},
   "source": [
    "Considerations : \n",
    "- Is your problem's \"data space\" very big? \n",
    "- Is the probably of an unseen case high? \n",
    "- If yes, then chances of OOD data cases are high. \n",
    "- Do you want to think about the next archietcture?\n",
    "\n",
    "Practical Questions : \n",
    "- Can it work with never seen scenarios? What is your OOD?"
   ]
  },
  {
   "cell_type": "markdown",
   "id": "f5e0297f",
   "metadata": {},
   "source": [
    "### What are OOD?"
   ]
  },
  {
   "cell_type": "markdown",
   "id": "5b5b4cf6",
   "metadata": {},
   "source": [
    "OOD for images"
   ]
  },
  {
   "cell_type": "markdown",
   "id": "33e556f8",
   "metadata": {},
   "source": [
    "<img src=\"https://i.imgur.com/lS2Ghrw.png\" alt=\"Distribtuion\" width=\"600\"><br>\n"
   ]
  },
  {
   "cell_type": "markdown",
   "id": "83434890",
   "metadata": {},
   "source": [
    "OOD for addition\n",
    "- Trained on numbers up to 100 \n",
    "- Test it on numbers beyond 100 eg. 102031232783109 + 328109389103 \n",
    "\n",
    "OOD for Lagrangians\n",
    "- Trained on Lagrangians with 6 Fields\n",
    "- Test it on Lagrangians beyond 6 Fields"
   ]
  },
  {
   "cell_type": "markdown",
   "id": "fff0cf95",
   "metadata": {},
   "source": [
    "## Example : How Tokenization matters in OOD"
   ]
  },
  {
   "cell_type": "markdown",
   "id": "3d8ecb4e",
   "metadata": {},
   "source": [
    "Try encoding 10000000"
   ]
  },
  {
   "cell_type": "code",
   "execution_count": null,
   "id": "9770ff1d",
   "metadata": {},
   "outputs": [],
   "source": [
    "import random\n",
    "from tokenizers import Tokenizer\n",
    "from tokenizers.models import WordLevel\n",
    "from tokenizers.trainers import WordLevelTrainer\n",
    "from tokenizers.pre_tokenizers import Whitespace\n",
    "\n",
    "# Character-level \n",
    "# 1. Generate arithmetic corpus as before\n",
    "num_examples = 10000\n",
    "min_num      = 0\n",
    "max_num      = 100000\n",
    "examples     = [(random.randint(min_num, max_num),random.randint(min_num, max_num)) for _ in range(num_examples)]\n",
    "char_level_corpus = [\" \".join(list(f\"{a}+{b}={str(a + b)}\")) for a , b in examples]\n",
    "vocab = {\"1\" : 1, \"2\" : 2, \"3\" : 3, \"4\" : 4, \"5\" : 5, \"6\" : 6, \"7\" : 7, \"8\" : 8, \"9\" : 9,\n",
    "         \"0\" : 0, \"+\" : 10, \"=\" : 11,\"[UNK]\" : 12, \"[PAD]\" : 13, \"[BOS]\" : 14, \"[EOS]\" : 15}\n",
    "         \n",
    "# 2. Initialize tokenizer components\n",
    "char_level_tokenizer = Tokenizer(WordLevel(vocab=vocab, unk_token=\"[UNK]\"))\n",
    "char_level_tokenizer.pre_tokenizer = Whitespace()\n",
    "\n",
    "# Word-level \n",
    "word_level_corpus = [f\"{a} + {b} = {str(a + b)}\" for a , b in examples]\n",
    "word_level_tokenizer = Tokenizer(WordLevel(unk_token=\"[UNK]\"))\n",
    "word_level_tokenizer.pre_tokenizer = Whitespace()\n",
    "special_tokens = [\"[PAD]\", \"[UNK]\", \"[BOS]\", \"[EOS]\"]\n",
    "trainer = WordLevelTrainer(special_tokens=special_tokens)\n",
    "word_level_tokenizer.train_from_iterator(word_level_corpus, trainer)"
   ]
  },
  {
   "cell_type": "code",
   "execution_count": null,
   "id": "366e498e",
   "metadata": {},
   "outputs": [
    {
     "name": "stdout",
     "output_type": "stream",
     "text": [
      "char_level_tokens                :  ['1', '0', '0', '0', '0', '0', '0', '0']\n",
      "\n",
      "word_level_tokens                :  ['[UNK]']\n",
      "\n",
      "word_level_tokens (work-around)  :  ['100', '0', '0', '0', '0', '0']\n",
      "\n"
     ]
    }
   ],
   "source": [
    "OOD_char_level_example =   \"1 0 0 0 0 0 0 0\"\n",
    "print(\"char_level_tokens                : \",char_level_tokenizer.encode(OOD_char_level_example).tokens,end=\"\\n\\n\")\n",
    "\n",
    "OOD_word_level_example =   \"10000000\"\n",
    "print(\"word_level_tokens                : \",word_level_tokenizer.encode(OOD_word_level_example).tokens,end=\"\\n\\n\")\n",
    "\n",
    "# Something like this is possible but not intuitive (words and number are slightly different)\n",
    "OOD_word_level_example =   \"100 0 0 0 0 0\"\n",
    "print(\"word_level_tokens (work-around)  : \",word_level_tokenizer.encode(OOD_word_level_example).tokens,end=\"\\n\\n\")"
   ]
  },
  {
   "cell_type": "markdown",
   "id": "518bcb0e",
   "metadata": {},
   "source": [
    "## Example : Your Training Data decides your OOD scenarios"
   ]
  },
  {
   "cell_type": "markdown",
   "id": "7bb5a097",
   "metadata": {},
   "source": [
    "Lagrangian Example : \n",
    "- Trained on single-digit integers or single-digit fractions :  1 / 2 \n",
    "- Test on two-digit integers : 40"
   ]
  },
  {
   "cell_type": "code",
   "execution_count": 113,
   "id": "4facd3b4",
   "metadata": {},
   "outputs": [
    {
     "name": "stdout",
     "output_type": "stream",
     "text": [
      "Input    =  [SOS] FIELD SPIN 0 SU2 2 U1 1 / 2 [EOS]\n",
      "token_id =  [0, 22, 36, 9, 37, 6, 39, 5, 4, 6, 1]\n",
      "decoded  =  [SOS] FIELD SPIN 0 SU2 2 U1 1 / 2 [EOS]\n",
      "\n"
     ]
    }
   ],
   "source": [
    "InD_example           = \"FIELD SPIN 0 SU2 2 U1 1 / 2\"\n",
    "    \n",
    "example_input   = \"[SOS] \"+InD_example+\" [EOS]\"\n",
    "print(\"Input    = \",example_input)\n",
    "\n",
    "encoded_input = hf_tokenizer.encode(example_input)\n",
    "print(\"token_id = \", encoded_input)\n",
    "\n",
    "decoded_input = hf_tokenizer.decode(encoded_input)\n",
    "print(\"decoded  = \", decoded_input)\n",
    "print()"
   ]
  },
  {
   "cell_type": "code",
   "execution_count": 110,
   "id": "4f641cfd",
   "metadata": {},
   "outputs": [
    {
     "name": "stdout",
     "output_type": "stream",
     "text": [
      "Predicted : \n",
      "+ FIELD SPIN 0 SU2 2 U1 2 / 4 ID7 FIELD SPIN 0 SU2 2 U1 2 / 4 ID0 FIELD SPIN 0 SU2 2 U1 - 2 / 4 DAGGER ID6 FIELD SPIN 0 SU2 2 U1 - 2 / 4 DAGGER ID4 CONTRACTIONS SU2 ID7 ID6 SU2 ID0 ID4\n",
      "+ FIELD SPIN 0 SU2 2 U1 2 / 4 ID7 FIELD SPIN 0 SU2 2 U1 2 / 4 ID0 FIELD SPIN 0 SU2 2 U1 - 2 / 4 DAGGER ID6 FIELD SPIN 0 SU2 2 U1 - 2 / 4 DAGGER ID4 CONTRACTIONS SU2 ID7 ID0 SU2 ID6 ID4\n",
      "+ DERIVATIVE SU2 U1 ID4 FIELD SPIN 0 SU2 2 U1 - 2 / 4 DAGGER ID8 DERIVATIVE SU2 U1 ID6 FIELD SPIN 0 SU2 2 U1 2 / 4 ID5 CONTRACTIONS LORENTZ ID4 ID6 SU2 ID8 ID5\n",
      "- COMMUTATOR_A DERIVATIVE SU2 ID4 COMMUTATOR_B DERIVATIVE SU2 ID8 COMMUTATOR_A DERIVATIVE SU2 ID6 COMMUTATOR_B DERIVATIVE SU2 ID7 CONTRACTIONS LORENTZ ID4 ID6 LORENTZ ID8 ID7\n",
      "- COMMUTATOR_A DERIVATIVE U1 ID4 COMMUTATOR_B DERIVATIVE U1 ID8 COMMUTATOR_A DERIVATIVE U1 ID6 COMMUTATOR_B DERIVATIVE U1 ID0 CONTRACTIONS LORENTZ ID4 ID6 LORENTZ ID8 ID0\n",
      "+ FIELD SPIN 0 SU2 2 U1 - 2 / 4 DAGGER ID4 FIELD SPIN 0 SU2 2 U1 2 / 4 ID8 CONTRACTIONS SU2 ID4 ID8\n"
     ]
    }
   ],
   "source": [
    "## Generate the Lagrangian!\n",
    "model.eval()\n",
    "with torch.no_grad():\n",
    "    # loss with labels_1 and labels_2\n",
    "    generated_id     = model.generate(input_ids=torch.tensor(encoded_input).unsqueeze(0).to(device), max_length=1024)\n",
    "    predicted_string = hf_tokenizer.decode(generated_id[0].to(device), skip_special_tokens=True)\n",
    "\n",
    "print(\"Predicted : \", )\n",
    "for i in le.sep_terms(predicted_string):\n",
    "    print(\" \".join(i))    "
   ]
  },
  {
   "cell_type": "markdown",
   "id": "e6cdf832",
   "metadata": {},
   "source": [
    "Lets try fields with u(1) charge = 40!"
   ]
  },
  {
   "cell_type": "code",
   "execution_count": 114,
   "id": "4ab258d7",
   "metadata": {},
   "outputs": [
    {
     "name": "stdout",
     "output_type": "stream",
     "text": [
      "Input    =  [SOS] FIELD SPIN 0 SU2 2 U1 4 0 [EOS]\n",
      "token_id =  [0, 22, 36, 9, 37, 6, 39, 11, 9, 1]\n",
      "decoded  =  [SOS] FIELD SPIN 0 SU2 2 U1 4 0 [EOS]\n",
      "\n"
     ]
    }
   ],
   "source": [
    "ood_example           = \"FIELD SPIN 0 SU2 2 U1 4 0\"\n",
    "    \n",
    "example_input   = \"[SOS] \"+ood_example+\" [EOS]\"\n",
    "print(\"Input    = \",example_input)\n",
    "\n",
    "encoded_input = hf_tokenizer.encode(example_input)\n",
    "print(\"token_id = \", encoded_input)\n",
    "\n",
    "decoded_input = hf_tokenizer.decode(encoded_input)\n",
    "print(\"decoded  = \", decoded_input)\n",
    "print()"
   ]
  },
  {
   "cell_type": "code",
   "execution_count": null,
   "id": "bd034fbf",
   "metadata": {},
   "outputs": [
    {
     "name": "stdout",
     "output_type": "stream",
     "text": [
      "Predicted : \n",
      "+ FIELD SPIN 0 SU2 2 U1 4 ID0 FIELD SPIN 0 SU2 2 U1 4 ID6 FIELD SPIN 0 SU2 2 U1 - 4 DAGGER ID4 FIELD SPIN 0 SU2 2 U1 - 4 DAGGER ID1 CONTRACTIONS SU2 ID0 ID4 SU2 ID6 ID1\n",
      "+ FIELD SPIN 0 SU2 2 U1 4 ID7 FIELD SPIN 0 SU2 2 U1 4 ID0 FIELD SPIN 0 SU2 2 U1 - 4 DAGGER ID9 FIELD SPIN 0 SU2 2 U1 - 4 DAGGER ID6 CONTRACTIONS SU2 ID7 ID0 SU2 ID9 ID6\n",
      "+ DERIVATIVE SU2 U1 ID1 FIELD SPIN 0 SU2 2 U1 - 4 DAGGER ID4 DERIVATIVE SU2 U1 ID0 FIELD SPIN 0 SU2 2 U1 4 ID9 CONTRACTIONS LORENTZ ID1 ID0 SU2 ID4 ID9\n",
      "- COMMUTATOR_A DERIVATIVE SU2 ID7 COMMUTATOR_B DERIVATIVE SU2 ID0 COMMUTATOR_A DERIVATIVE SU2 ID4 COMMUTATOR_B DERIVATIVE SU2 ID1 CONTRACTIONS LORENTZ ID7 ID4 LORENTZ ID0 ID1\n",
      "- COMMUTATOR_A DERIVATIVE U1 ID7 COMMUTATOR_B DERIVATIVE U1 ID0 COMMUTATOR_A DERIVATIVE U1 ID2 COMMUTATOR_B DERIVATIVE U1 ID6 CONTRACTIONS LORENTZ ID7 ID2 LORENTZ ID0 ID6\n",
      "+ FIELD SPIN 0 SU2 2 U1 - 4 DAGGER ID7 FIELD SPIN 0 SU2 2 U1 4 ID6 CONTRACTIONS SU2 ID7 ID6\n"
     ]
    }
   ],
   "source": [
    "## Generate the Lagrangian!\n",
    "model.eval()\n",
    "with torch.no_grad():\n",
    "    # loss with labels_1 and labels_2\n",
    "    generated_id     = model.generate(input_ids=torch.tensor(encoded_input).unsqueeze(0).to(device), max_length=1024)\n",
    "    predicted_string = hf_tokenizer.decode(generated_id[0].to(device), skip_special_tokens=True)\n",
    "\n",
    "print(\"Predicted : \", )\n",
    "for i in le.sep_terms(predicted_string):\n",
    "    print(\" \".join(i))    "
   ]
  },
  {
   "cell_type": "markdown",
   "id": "b34fb221",
   "metadata": {},
   "source": [
    "We see that it cant understand 40 as a number, as it has never even seen two-digit charges, so it interpolates!"
   ]
  },
  {
   "cell_type": "markdown",
   "id": "b55da998",
   "metadata": {},
   "source": [
    "# Acknowledge SUPR\n",
    "The computations and data handling were enabled by resources provided by the National Academic Infrastructure for Supercomputing in Sweden (NAISS) from projects NAISS 2025/22-521, partially funded by the Swedish Research Council through grant agreement no. 2022-06725"
   ]
  }
 ],
 "metadata": {
  "kernelspec": {
   "display_name": "Python 3",
   "language": "python",
   "name": "python3"
  },
  "language_info": {
   "codemirror_mode": {
    "name": "ipython",
    "version": 3
   },
   "file_extension": ".py",
   "mimetype": "text/x-python",
   "name": "python",
   "nbconvert_exporter": "python",
   "pygments_lexer": "ipython3",
   "version": "3.11.3"
  }
 },
 "nbformat": 4,
 "nbformat_minor": 5
}
