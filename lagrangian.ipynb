{
 "cells": [
  {
   "cell_type": "markdown",
   "id": "f5fd0dff",
   "metadata": {},
   "source": [
    "<h1> How to do NLP-like research in physics\n"
   ]
  },
  {
   "cell_type": "markdown",
   "id": "0fd4f162",
   "metadata": {},
   "source": [
    "This notebook provides a step-by-step demonstration/tutorial based on the Lagrangian paper."
   ]
  },
  {
   "cell_type": "markdown",
   "id": "de426158",
   "metadata": {},
   "source": [
    "# Acknowledge SUPR"
   ]
  },
  {
   "cell_type": "markdown",
   "id": "ff8c5347",
   "metadata": {},
   "source": [
    "The computations and data handling were enabled by resources provided by the National Academic Infrastructure for Supercomputing in Sweden (NAISS) from projects ????, partially funded by the Swedish Research Council through grant agreement no. 2022-06725"
   ]
  },
  {
   "cell_type": "markdown",
   "id": "80134715",
   "metadata": {},
   "source": [
    "# Libraries"
   ]
  },
  {
   "cell_type": "code",
   "execution_count": null,
   "id": "cf0dcc05",
   "metadata": {},
   "outputs": [],
   "source": []
  },
  {
   "cell_type": "markdown",
   "id": "0c97b3db",
   "metadata": {},
   "source": []
  },
  {
   "cell_type": "markdown",
   "id": "3e8d166d",
   "metadata": {},
   "source": [
    "# Models\n",
    "- Overview of HuggingFace library.\n",
    "- How to find off-the-shelf transformer models (e.g., BART-L).\n",
    "- Example usage of a HuggingFace model."
   ]
  },
  {
   "cell_type": "markdown",
   "id": "dc70969d",
   "metadata": {},
   "source": [
    "## HuggingFace Library"
   ]
  },
  {
   "cell_type": "code",
   "execution_count": null,
   "id": "5e00d5fa",
   "metadata": {},
   "outputs": [
    {
     "data": {
      "application/vnd.jupyter.widget-view+json": {
       "model_id": "fff10676de0c4de9988e507993de66cc",
       "version_major": 2,
       "version_minor": 0
      },
      "text/plain": [
       "config.json: 0.00B [00:00, ?B/s]"
      ]
     },
     "metadata": {},
     "output_type": "display_data"
    },
    {
     "data": {
      "application/vnd.jupyter.widget-view+json": {
       "model_id": "f610cca7bf124146991893629ea2a27a",
       "version_major": 2,
       "version_minor": 0
      },
      "text/plain": [
       "model.safetensors:   0%|          | 0.00/558M [00:00<?, ?B/s]"
      ]
     },
     "metadata": {},
     "output_type": "display_data"
    },
    {
     "data": {
      "application/vnd.jupyter.widget-view+json": {
       "model_id": "30025f02fef04d89a0249d4f8d01daab",
       "version_major": 2,
       "version_minor": 0
      },
      "text/plain": [
       "vocab.json: 0.00B [00:00, ?B/s]"
      ]
     },
     "metadata": {},
     "output_type": "display_data"
    },
    {
     "data": {
      "application/vnd.jupyter.widget-view+json": {
       "model_id": "67a4cbf3df054848a43798ccffaa8d42",
       "version_major": 2,
       "version_minor": 0
      },
      "text/plain": [
       "merges.txt: 0.00B [00:00, ?B/s]"
      ]
     },
     "metadata": {},
     "output_type": "display_data"
    },
    {
     "data": {
      "application/vnd.jupyter.widget-view+json": {
       "model_id": "531a52c3b41240eeaf2a19257ca9b8c5",
       "version_major": 2,
       "version_minor": 0
      },
      "text/plain": [
       "tokenizer.json: 0.00B [00:00, ?B/s]"
      ]
     },
     "metadata": {},
     "output_type": "display_data"
    },
    {
     "name": "stderr",
     "output_type": "stream",
     "text": [
      "/home/ys/.local/lib/python3.8/site-packages/transformers/generation/utils.py:1133: UserWarning: Using the model-agnostic default `max_length` (=20) to control the generation length. We recommend setting `max_new_tokens` to control the maximum length of the generation.\n",
      "  warnings.warn(\n"
     ]
    },
    {
     "name": "stdout",
     "output_type": "stream",
     "text": [
      "This is a sample input.\n"
     ]
    }
   ],
   "source": [
    "# Import HuggingFace libraries\n",
    "from transformers import AutoModelForSeq2SeqLM, AutoTokenizer\n",
    "\n",
    "# Load a pre-trained model and tokenizer (e.g., BART-small)\n",
    "# Note: You can change the model name to any other Seq2Seq model available on HuggingFace\n",
    "# Model name can be changed to any other Seq2Seq model available on HuggingFace\n",
    "# For example: 'facebook/bart-base', 't5-small', etc.\n",
    "\n",
    "# 'facebook/bart-base' : BART model with 140M parameters\n",
    "# 'facebook/bart-large' : BART model with 406M parameters\n",
    "# 't5-small' : T5 model with 60M parameters\n",
    "\n",
    "model_name = 'facebook/bart-base'\n",
    "model = AutoModelForSeq2SeqLM.from_pretrained(model_name)\n",
    "tokenizer = AutoTokenizer.from_pretrained(model_name)\n",
    "\n",
    "# Example usage\n",
    "text = \"This is a sample input.\"\n",
    "inputs = tokenizer(text, return_tensors=\"pt\")\n",
    "outputs = model.generate(**inputs)\n",
    "print(tokenizer.decode(outputs[0], skip_special_tokens=True))"
   ]
  },
  {
   "cell_type": "markdown",
   "id": "59e4dc9c",
   "metadata": {},
   "source": [
    "# Dataset\n",
    "- Discussion on data generation considerations:\n",
    "  - Data distribution.\n",
    "  - Tokenization choices.\n",
    "- Example of tokenizing a dataset."
   ]
  },
  {
   "cell_type": "markdown",
   "id": "df94ac54",
   "metadata": {},
   "source": [
    "## Data Distribution\n"
   ]
  },
  {
   "cell_type": "markdown",
   "id": "5e8b6462",
   "metadata": {},
   "source": [
    "Show plots from paper:\n",
    "- one from random ->  more equal better at long expression\n",
    "- one from smart  ->  more biased (cover edge terms) better at special cases"
   ]
  },
  {
   "cell_type": "code",
   "execution_count": 78,
   "id": "c9f9caa0",
   "metadata": {},
   "outputs": [],
   "source": [
    "import pandas as pd\n",
    "sampled_df = pd.read_csv(\"huggingface_dataset_sampled.csv\")\n"
   ]
  },
  {
   "cell_type": "code",
   "execution_count": 79,
   "id": "4e7c712a",
   "metadata": {},
   "outputs": [],
   "source": [
    "sampled_df[\"nfields\"] = sampled_df[\"fields\"].apply(lambda x: x.count(\"FIELD\"))\n",
    "sampled_df[\"nfermions\"] = sampled_df[\"fields\"].apply(lambda x: x.count(\"SPIN 1\"))\n",
    "sampled_df[\"nscalars\"] = sampled_df[\"fields\"].apply(lambda x: x.count(\"SPIN 0\"))"
   ]
  },
  {
   "cell_type": "code",
   "execution_count": 80,
   "id": "f67485a6",
   "metadata": {},
   "outputs": [
    {
     "data": {
      "text/plain": [
       "<matplotlib.legend.Legend at 0x7fa1aceb8700>"
      ]
     },
     "execution_count": 80,
     "metadata": {},
     "output_type": "execute_result"
    },
    {
     "data": {
      "image/png": "[encoded data removed]",
      "text/plain": [
       "<Figure size 640x480 with 1 Axes>"
      ]
     },
     "metadata": {},
     "output_type": "display_data"
    }
   ],
   "source": [
    "import matplotlib.pyplot as plt\n",
    "sampled_df[\"nscalars\"].hist(  range=(0-0.5,7-0.5),bins=7,alpha=0.5,label=\"nscalars\") \n",
    "sampled_df[\"nfermions\"].hist( range=(0-0.5,7-0.5),bins=7,alpha=0.5,label=\"nfermions\") \n",
    "sampled_df[\"nfields\"].hist(   range=(0-0.5,7-0.5),bins=7,alpha=0.5,label=\"nfields\") \n",
    "plt.legend()"
   ]
  },
  {
   "cell_type": "markdown",
   "id": "3032383a",
   "metadata": {},
   "source": [
    "## Tokenization choices\n",
    "Considerations: \n",
    "- What information is required for your model to learn?\n",
    "- Do you care about expressivity? \n",
    "\n",
    "Practical \n",
    "- How much information?\n",
    "- Vocabulary Size?"
   ]
  },
  {
   "cell_type": "markdown",
   "id": "36e1250b",
   "metadata": {},
   "source": [
    "### Choices of Tokenization"
   ]
  },
  {
   "cell_type": "markdown",
   "id": "c0833bf0",
   "metadata": {},
   "source": [
    "In Language:\n",
    "Example Phrase : AI For Physics\n",
    "- Word-Level : AI, For, Physics\n",
    "- Character-Level : A, I,  , F, o, r,  , P, h, y, s, i, c, s\n",
    "\n",
    "In Math:\n",
    "Example Expression : 100 + 420 = 520\n",
    "- \"Term\"-level : 100, +, 420, =, 520\n",
    "- \"Digit\"-Level : 1, 0, 0,  +,  4, 2, 0, =,  5, 2, 0\n",
    "\n",
    "In Lagrangians:\n",
    "Example Field : Higgs Particle\n",
    "- Symbol Level : H\n",
    "- Quantum-Numbers-Level: FIELD, SPIN, 0, SU2, 2, U1, 1\n",
    "\n"
   ]
  },
  {
   "cell_type": "markdown",
   "id": "fddda171",
   "metadata": {},
   "source": [
    "Remark: \n",
    "1. Detailed tokenization : \n",
    "- less vocabulary\n",
    "- more expressive\n",
    "- more token per sequence\n",
    "- heavy on attention mechanism\n",
    "2. Coarse tokenization : \n",
    "- more vocabulary\n",
    "- less expressive\n",
    "- less token per sequence\n",
    "- easier on attention mechanism"
   ]
  },
  {
   "cell_type": "markdown",
   "id": "cb88417b",
   "metadata": {},
   "source": [
    "### Example : Math "
   ]
  },
  {
   "cell_type": "code",
   "execution_count": 64,
   "id": "4674bd6d",
   "metadata": {},
   "outputs": [],
   "source": [
    "import random \n",
    "from tokenizers import Tokenizer\n",
    "from tokenizers.models import WordLevel\n",
    "from tokenizers.trainers import WordLevelTrainer\n",
    "from tokenizers.pre_tokenizers import Whitespace\n",
    "\n",
    "# Character-level \n",
    "# 1. Generate arithmetic corpus\n",
    "char_level_corpus = [\" \".join(list(f\"{a}+{b}={str(a + b)}\")) for a in range(100) for b in range(100)]\n",
    "vocab = {\"1\" : 1, \"2\" : 2, \"3\" : 3, \"4\" : 4, \"5\" : 5, \"6\" : 6, \"7\" : 7, \"8\" : 8, \"9\" : 9,\n",
    "         \"0\" : 0, \"+\" : 10, \"=\" : 11,\"[UNK]\" : 12, \"[PAD]\" : 13, \"[BOS]\" : 14, \"[EOS]\" : 15}\n",
    "# 2. Initialize tokenizer components\n",
    "char_level_tokenizer = Tokenizer(WordLevel(vocab=vocab, unk_token=\"[UNK]\"))\n",
    "char_level_tokenizer.pre_tokenizer = Whitespace()\n",
    "\n",
    "\n",
    "# Word-level \n",
    "word_level_corpus = [f\"{a} + {b} = {str(a + b)}\" for a in range(100) for b in range(100)]\n",
    "word_level_tokenizer = Tokenizer(WordLevel(unk_token=\"[UNK]\"))\n",
    "word_level_tokenizer.pre_tokenizer = Whitespace()\n",
    "special_tokens = [\"[PAD]\", \"[UNK]\", \"[BOS]\", \"[EOS]\"]\n",
    "trainer = WordLevelTrainer(special_tokens=special_tokens)\n",
    "word_level_tokenizer.train_from_iterator(word_level_corpus, trainer)\n",
    "\n"
   ]
  },
  {
   "cell_type": "markdown",
   "id": "0c7084ce",
   "metadata": {},
   "source": [
    "lets see it in action"
   ]
  },
  {
   "cell_type": "code",
   "execution_count": 75,
   "id": "e6c3bcf1",
   "metadata": {},
   "outputs": [
    {
     "name": "stdout",
     "output_type": "stream",
     "text": [
      "char_level_example :  7 3 + 1 7 = 9 0\n",
      "char_level_tokens  :  ['7', '3', '+', '1', '7', '=', '9', '0']\n",
      "\n",
      "word_level_example :  53 + 44 = 97\n",
      "word_level_tokens  :  ['53', '+', '44', '=', '97']\n",
      "\n"
     ]
    }
   ],
   "source": [
    "char_level_example = random.choice(char_level_corpus)\n",
    "print(\"char_level_example : \",char_level_example)\n",
    "print(\"char_level_tokens  : \",char_level_tokenizer.encode(char_level_example).tokens,end=\"\\n\\n\")\n",
    "\n",
    "word_level_example = random.choice(word_level_corpus)\n",
    "print(\"word_level_example : \",word_level_example)\n",
    "print(\"word_level_tokens  : \",word_level_tokenizer.encode(word_level_example).tokens,end=\"\\n\\n\")"
   ]
  },
  {
   "cell_type": "markdown",
   "id": "d3e0e18c",
   "metadata": {},
   "source": [
    "Lets check vocab size"
   ]
  },
  {
   "cell_type": "code",
   "execution_count": 76,
   "id": "7a761b6f",
   "metadata": {},
   "outputs": [
    {
     "name": "stdout",
     "output_type": "stream",
     "text": [
      "char_level_vocab_size:  16\n",
      "word_level_vocab_size:  205\n"
     ]
    }
   ],
   "source": [
    "print(\"char_level_vocab_size: \",char_level_tokenizer.get_vocab_size())\n",
    "print(\"word_level_vocab_size: \",word_level_tokenizer.get_vocab_size())"
   ]
  },
  {
   "cell_type": "markdown",
   "id": "f89e264e",
   "metadata": {},
   "source": [
    "Try encoding 10000"
   ]
  },
  {
   "cell_type": "code",
   "execution_count": 77,
   "id": "6f466c02",
   "metadata": {},
   "outputs": [
    {
     "name": "stdout",
     "output_type": "stream",
     "text": [
      "char_level_tokens  :  ['1', '0', '0', '0', '0']\n",
      "\n",
      "word_level_tokens  :  ['[UNK]']\n",
      "\n"
     ]
    }
   ],
   "source": [
    "OOD_char_level_example =   \"1 0 0 0 0\"\n",
    "print(\"char_level_tokens  : \",char_level_tokenizer.encode(OOD_char_level_example).tokens,end=\"\\n\\n\")\n",
    "\n",
    "OOD_word_level_example =   \"10000\"\n",
    "print(\"word_level_tokens  : \",word_level_tokenizer.encode(OOD_word_level_example).tokens,end=\"\\n\\n\")"
   ]
  },
  {
   "cell_type": "markdown",
   "id": "aad87274",
   "metadata": {},
   "source": [
    "### Example : Fields "
   ]
  },
  {
   "cell_type": "code",
   "execution_count": 104,
   "id": "3f1e9889",
   "metadata": {},
   "outputs": [
    {
     "name": "stdout",
     "output_type": "stream",
     "text": [
      "Input    =  FIELD SPIN 0 SU2 2 U1 - 1 FIELD SPIN 1/2 SU3 - 3 U1 - 4 / 7 HEL -1/2\n",
      "token_id =  [22, 36, 9, 37, 6, 39, 7, 5, 22, 36, 5, 4, 6, 38, 7, 10, 39, 7, 11, 4, 14, 23, 7, 5, 4, 6]\n",
      "decoded  =  FIELD SPIN 0 SU2 2 U1 - 1 FIELD SPIN 1 / 2 SU3 - 3 U1 - 4 / 7 HEL - 1 / 2\n"
     ]
    }
   ],
   "source": [
    "example = sampled_df.sample(1)[\"fields\"].values[0]\n",
    "print(\"Input    = \",example)\n",
    "encoded = hf_tokenizer.encode(example)\n",
    "print(\"token_id = \", encoded)\n",
    "decoded = hf_tokenizer.decode(encoded)\n",
    "print(\"decoded  = \", decoded)\n"
   ]
  },
  {
   "cell_type": "markdown",
   "id": "2f152260",
   "metadata": {},
   "source": [
    "# Training\n",
    "- Mention available resources: SUPR/NAISS -> Alvis.\n",
    "- Example of training a model."
   ]
  },
  {
   "cell_type": "markdown",
   "id": "66d5a3b8",
   "metadata": {},
   "source": [
    "### NAISS : https://www.naiss.se/\n",
    "### SUPR : https://supr.naiss.se/\n",
    "### Alvis : https://www.c3se.chalmers.se/about/Alvis/\n",
    "### OnDemand Portal : https://alvis.c3se.chalmers.se/pun/sys/dashboard/"
   ]
  },
  {
   "cell_type": "markdown",
   "id": "c1c18041",
   "metadata": {},
   "source": [
    "## CPU or GPU"
   ]
  },
  {
   "cell_type": "code",
   "execution_count": 2,
   "id": "c75b00c4",
   "metadata": {},
   "outputs": [],
   "source": [
    "# Choose GPU if available\n",
    "import torch\n",
    "\n",
    "device = torch.device(\"cuda\" if torch.cuda.is_available() else \"cpu\")\n"
   ]
  },
  {
   "cell_type": "markdown",
   "id": "9c9823e0",
   "metadata": {},
   "source": [
    "# Evaluation\n",
    "- Generating output from the model.\n",
    "- Discussion on evaluation choices:\n",
    "  - Existing or novel metrics.\n",
    "  - Embedding analysis.\n",
    "  - Out-of-distribution tests."
   ]
  },
  {
   "cell_type": "markdown",
   "id": "0d6b2ab6",
   "metadata": {},
   "source": [
    "## Existing Metric  : Does it work? "
   ]
  },
  {
   "cell_type": "markdown",
   "id": "9c788b83",
   "metadata": {},
   "source": [
    "mainly to see if things work as expected\n",
    "Loss : Deviation from actual term \n",
    "Accuracy : How much is perfect? \n",
    "New metric, Score : (Order does not always matter, XEN)"
   ]
  },
  {
   "cell_type": "code",
   "execution_count": null,
   "id": "8de2039d",
   "metadata": {},
   "outputs": [],
   "source": [
    "from transformers import BartForConditionalGeneration, PreTrainedTokenizerFast\n",
    "\n",
    "model_name = \"JoseEliel/BART-Lagrangian\"\n",
    "model = BartForConditionalGeneration.from_pretrained(model_name)\n",
    "hf_tokenizer = PreTrainedTokenizerFast.from_pretrained(model_name)\n"
   ]
  },
  {
   "cell_type": "code",
   "execution_count": 184,
   "id": "25d150b9",
   "metadata": {},
   "outputs": [],
   "source": [
    "sampled_df.drop_duplicates(subset=[\"fields\"], inplace=True)"
   ]
  },
  {
   "cell_type": "code",
   "execution_count": 185,
   "id": "be1b2fde",
   "metadata": {},
   "outputs": [
    {
     "data": {
      "text/html": [
       "<div>\n",
       "<style scoped>\n",
       "    .dataframe tbody tr th:only-of-type {\n",
       "        vertical-align: middle;\n",
       "    }\n",
       "\n",
       "    .dataframe tbody tr th {\n",
       "        vertical-align: top;\n",
       "    }\n",
       "\n",
       "    .dataframe thead th {\n",
       "        text-align: right;\n",
       "    }\n",
       "</style>\n",
       "<table border=\"1\" class=\"dataframe\">\n",
       "  <thead>\n",
       "    <tr style=\"text-align: right;\">\n",
       "      <th></th>\n",
       "      <th>fields</th>\n",
       "      <th>Lagrangian</th>\n",
       "      <th>train/eval</th>\n",
       "      <th>nfields</th>\n",
       "      <th>nfermions</th>\n",
       "      <th>nscalars</th>\n",
       "      <th>output_length</th>\n",
       "    </tr>\n",
       "  </thead>\n",
       "  <tbody>\n",
       "    <tr>\n",
       "      <th>0</th>\n",
       "      <td>FIELD SPIN 1/2 SU3 - 3 SU2 2 U1 - 4 HEL 1/2 FI...</td>\n",
       "      <td>+ FIELD SPIN 1 / 2 SU3 - 3 SU2 2 HEL - 1 / 2 D...</td>\n",
       "      <td>eval</td>\n",
       "      <td>3</td>\n",
       "      <td>2</td>\n",
       "      <td>1</td>\n",
       "      <td>411</td>\n",
       "    </tr>\n",
       "    <tr>\n",
       "      <th>1</th>\n",
       "      <td>FIELD SPIN 1/2 HEL 1/2 FIELD SPIN 1/2 SU3 - 3 ...</td>\n",
       "      <td>+ i FIELD SPIN 1 / 2 HEL 1 / 2 ID9 SIGMA_BAR I...</td>\n",
       "      <td>eval</td>\n",
       "      <td>2</td>\n",
       "      <td>2</td>\n",
       "      <td>0</td>\n",
       "      <td>225</td>\n",
       "    </tr>\n",
       "    <tr>\n",
       "      <th>2</th>\n",
       "      <td>FIELD SPIN 0 SU2 3 U1 - 4 / 9 FIELD SPIN 1/2 S...</td>\n",
       "      <td>+ FIELD SPIN 0 SU2 3 U1 - 4 / 9 ID1 FIELD SPIN...</td>\n",
       "      <td>eval</td>\n",
       "      <td>4</td>\n",
       "      <td>2</td>\n",
       "      <td>2</td>\n",
       "      <td>1161</td>\n",
       "    </tr>\n",
       "    <tr>\n",
       "      <th>3</th>\n",
       "      <td>FIELD SPIN 1/2 SU3 - 3 U1 3 / 8 HEL -1/2 FIELD...</td>\n",
       "      <td>+ FIELD SPIN 0 SU3 - 3 SU2 2 U1 - 8 / 9 ID3 FI...</td>\n",
       "      <td>eval</td>\n",
       "      <td>5</td>\n",
       "      <td>4</td>\n",
       "      <td>1</td>\n",
       "      <td>675</td>\n",
       "    </tr>\n",
       "    <tr>\n",
       "      <th>4</th>\n",
       "      <td>FIELD SPIN 0 SU3 3 SU2 3</td>\n",
       "      <td>+ FIELD SPIN 0 SU3 3 SU2 3 ID4 FIELD SPIN 0 SU...</td>\n",
       "      <td>eval</td>\n",
       "      <td>1</td>\n",
       "      <td>0</td>\n",
       "      <td>1</td>\n",
       "      <td>547</td>\n",
       "    </tr>\n",
       "    <tr>\n",
       "      <th>...</th>\n",
       "      <td>...</td>\n",
       "      <td>...</td>\n",
       "      <td>...</td>\n",
       "      <td>...</td>\n",
       "      <td>...</td>\n",
       "      <td>...</td>\n",
       "      <td>...</td>\n",
       "    </tr>\n",
       "    <tr>\n",
       "      <th>286076</th>\n",
       "      <td>FIELD SPIN 0 SU3 3 SU2 3 U1 9 / 2 FIELD SPIN 1...</td>\n",
       "      <td>+ FIELD SPIN 1 / 2 SU2 2 U1 1 / 5 HEL - 1 / 2 ...</td>\n",
       "      <td>train</td>\n",
       "      <td>4</td>\n",
       "      <td>1</td>\n",
       "      <td>3</td>\n",
       "      <td>1551</td>\n",
       "    </tr>\n",
       "    <tr>\n",
       "      <th>286077</th>\n",
       "      <td>FIELD SPIN 0 FIELD SPIN 0 SU3 3 SU2 3 U1 7 / 6...</td>\n",
       "      <td>+ FIELD SPIN 0 ID1 FIELD SPIN 0 SU3 3 SU2 3 U1...</td>\n",
       "      <td>train</td>\n",
       "      <td>3</td>\n",
       "      <td>1</td>\n",
       "      <td>2</td>\n",
       "      <td>815</td>\n",
       "    </tr>\n",
       "    <tr>\n",
       "      <th>286078</th>\n",
       "      <td>FIELD SPIN 0 SU3 - 3 U1 3 FIELD SPIN 1/2 SU3 3...</td>\n",
       "      <td>+ FIELD SPIN 0 SU3 - 3 U1 3 ID4 FIELD SPIN 0 S...</td>\n",
       "      <td>train</td>\n",
       "      <td>3</td>\n",
       "      <td>1</td>\n",
       "      <td>2</td>\n",
       "      <td>953</td>\n",
       "    </tr>\n",
       "    <tr>\n",
       "      <th>286079</th>\n",
       "      <td>FIELD SPIN 1/2 U1 - 4 / 5 HEL -1/2 FIELD SPIN ...</td>\n",
       "      <td>+ FIELD SPIN 0 SU3 - 3 SU2 2 U1 - 1 / 7 ID6 FI...</td>\n",
       "      <td>train</td>\n",
       "      <td>2</td>\n",
       "      <td>1</td>\n",
       "      <td>1</td>\n",
       "      <td>481</td>\n",
       "    </tr>\n",
       "    <tr>\n",
       "      <th>286080</th>\n",
       "      <td>FIELD SPIN 0 SU3 3 SU2 3 U1 - 1 FIELD SPIN 1/2...</td>\n",
       "      <td>+ FIELD SPIN 0 SU3 3 SU2 3 U1 - 1 ID0 FIELD SP...</td>\n",
       "      <td>train</td>\n",
       "      <td>2</td>\n",
       "      <td>1</td>\n",
       "      <td>1</td>\n",
       "      <td>601</td>\n",
       "    </tr>\n",
       "  </tbody>\n",
       "</table>\n",
       "<p>211283 rows × 7 columns</p>\n",
       "</div>"
      ],
      "text/plain": [
       "                                                   fields  \\\n",
       "0       FIELD SPIN 1/2 SU3 - 3 SU2 2 U1 - 4 HEL 1/2 FI...   \n",
       "1       FIELD SPIN 1/2 HEL 1/2 FIELD SPIN 1/2 SU3 - 3 ...   \n",
       "2       FIELD SPIN 0 SU2 3 U1 - 4 / 9 FIELD SPIN 1/2 S...   \n",
       "3       FIELD SPIN 1/2 SU3 - 3 U1 3 / 8 HEL -1/2 FIELD...   \n",
       "4                                FIELD SPIN 0 SU3 3 SU2 3   \n",
       "...                                                   ...   \n",
       "286076  FIELD SPIN 0 SU3 3 SU2 3 U1 9 / 2 FIELD SPIN 1...   \n",
       "286077  FIELD SPIN 0 FIELD SPIN 0 SU3 3 SU2 3 U1 7 / 6...   \n",
       "286078  FIELD SPIN 0 SU3 - 3 U1 3 FIELD SPIN 1/2 SU3 3...   \n",
       "286079  FIELD SPIN 1/2 U1 - 4 / 5 HEL -1/2 FIELD SPIN ...   \n",
       "286080  FIELD SPIN 0 SU3 3 SU2 3 U1 - 1 FIELD SPIN 1/2...   \n",
       "\n",
       "                                               Lagrangian train/eval  nfields  \\\n",
       "0       + FIELD SPIN 1 / 2 SU3 - 3 SU2 2 HEL - 1 / 2 D...       eval        3   \n",
       "1       + i FIELD SPIN 1 / 2 HEL 1 / 2 ID9 SIGMA_BAR I...       eval        2   \n",
       "2       + FIELD SPIN 0 SU2 3 U1 - 4 / 9 ID1 FIELD SPIN...       eval        4   \n",
       "3       + FIELD SPIN 0 SU3 - 3 SU2 2 U1 - 8 / 9 ID3 FI...       eval        5   \n",
       "4       + FIELD SPIN 0 SU3 3 SU2 3 ID4 FIELD SPIN 0 SU...       eval        1   \n",
       "...                                                   ...        ...      ...   \n",
       "286076  + FIELD SPIN 1 / 2 SU2 2 U1 1 / 5 HEL - 1 / 2 ...      train        4   \n",
       "286077  + FIELD SPIN 0 ID1 FIELD SPIN 0 SU3 3 SU2 3 U1...      train        3   \n",
       "286078  + FIELD SPIN 0 SU3 - 3 U1 3 ID4 FIELD SPIN 0 S...      train        3   \n",
       "286079  + FIELD SPIN 0 SU3 - 3 SU2 2 U1 - 1 / 7 ID6 FI...      train        2   \n",
       "286080  + FIELD SPIN 0 SU3 3 SU2 3 U1 - 1 ID0 FIELD SP...      train        2   \n",
       "\n",
       "        nfermions  nscalars  output_length  \n",
       "0               2         1            411  \n",
       "1               2         0            225  \n",
       "2               2         2           1161  \n",
       "3               4         1            675  \n",
       "4               0         1            547  \n",
       "...           ...       ...            ...  \n",
       "286076          1         3           1551  \n",
       "286077          1         2            815  \n",
       "286078          1         2            953  \n",
       "286079          1         1            481  \n",
       "286080          1         1            601  \n",
       "\n",
       "[211283 rows x 7 columns]"
      ]
     },
     "execution_count": 185,
     "metadata": {},
     "output_type": "execute_result"
    }
   ],
   "source": [
    "sampled_df"
   ]
  },
  {
   "cell_type": "code",
   "execution_count": 186,
   "id": "d56b2adb",
   "metadata": {},
   "outputs": [
    {
     "data": {
      "text/html": [
       "<div>\n",
       "<style scoped>\n",
       "    .dataframe tbody tr th:only-of-type {\n",
       "        vertical-align: middle;\n",
       "    }\n",
       "\n",
       "    .dataframe tbody tr th {\n",
       "        vertical-align: top;\n",
       "    }\n",
       "\n",
       "    .dataframe thead th {\n",
       "        text-align: right;\n",
       "    }\n",
       "</style>\n",
       "<table border=\"1\" class=\"dataframe\">\n",
       "  <thead>\n",
       "    <tr style=\"text-align: right;\">\n",
       "      <th></th>\n",
       "      <th>fields</th>\n",
       "      <th>Lagrangian</th>\n",
       "      <th>train/eval</th>\n",
       "      <th>nfields</th>\n",
       "      <th>nfermions</th>\n",
       "      <th>nscalars</th>\n",
       "      <th>output_length</th>\n",
       "    </tr>\n",
       "  </thead>\n",
       "  <tbody>\n",
       "    <tr>\n",
       "      <th>377</th>\n",
       "      <td>FIELD SPIN 0</td>\n",
       "      <td>+ FIELD SPIN 0 ID2 FIELD SPIN 0 ID3 FIELD SPIN...</td>\n",
       "      <td>eval</td>\n",
       "      <td>1</td>\n",
       "      <td>0</td>\n",
       "      <td>1</td>\n",
       "      <td>59</td>\n",
       "    </tr>\n",
       "  </tbody>\n",
       "</table>\n",
       "</div>"
      ],
      "text/plain": [
       "           fields                                         Lagrangian  \\\n",
       "377  FIELD SPIN 0  + FIELD SPIN 0 ID2 FIELD SPIN 0 ID3 FIELD SPIN...   \n",
       "\n",
       "    train/eval  nfields  nfermions  nscalars  output_length  \n",
       "377       eval        1          0         1             59  "
      ]
     },
     "execution_count": 186,
     "metadata": {},
     "output_type": "execute_result"
    }
   ],
   "source": [
    "sampled_df[\"output_length\"] = sampled_df[\"Lagrangian\"].apply(lambda x: len(x.split()))\n",
    "minlength = sampled_df[\"output_length\"].min()\n",
    "sampled_df[sampled_df[\"output_length\"] == minlength]"
   ]
  },
  {
   "cell_type": "code",
   "execution_count": null,
   "id": "405d2366",
   "metadata": {},
   "outputs": [
    {
     "name": "stdout",
     "output_type": "stream",
     "text": [
      "Input    =  [SOS] FIELD SPIN 0 SU2 3 FIELD SPIN 0 SU3 - 3 U1 - 1 / 3 FIELD SPIN 1/2 SU3 3 SU2 3 U1 - 8 / 5 HEL 1/2 FIELD SPIN 1/2 SU3 3 U1 - 1 / 4 HEL 1/2 FIELD SPIN 0 SU2 2 U1 5 FIELD SPIN 0 SU3 - 3 SU2 3 U1 1 / 7 [EOS]\n",
      "token_id =  [0, 22, 36, 9, 37, 10, 22, 36, 9, 38, 7, 10, 39, 7, 5, 4, 10, 22, 36, 5, 4, 6, 38, 10, 37, 10, 39, 7, 15, 4, 12, 23, 5, 4, 6, 22, 36, 5, 4, 6, 38, 10, 39, 7, 5, 4, 11, 23, 5, 4, 6, 22, 36, 9, 37, 6, 39, 12, 22, 36, 9, 38, 7, 10, 37, 10, 39, 5, 4, 14, 1]\n",
      "decoded  =  [SOS] FIELD SPIN 0 SU2 3 FIELD SPIN 0 SU3 - 3 U1 - 1 / 3 FIELD SPIN 1 / 2 SU3 3 SU2 3 U1 - 8 / 5 HEL 1 / 2 FIELD SPIN 1 / 2 SU3 3 U1 - 1 / 4 HEL 1 / 2 FIELD SPIN 0 SU2 2 U1 5 FIELD SPIN 0 SU3 - 3 SU2 3 U1 1 / 7 [EOS]\n"
     ]
    }
   ],
   "source": [
    "example_scenario = sampled_df.sample(1)\n",
    "example = example_scenario[\"fields\"].values[0]\n",
    "example = \"[SOS] \" + example + \" [EOS]\"\n",
    "print(\"Input    = \",example)\n",
    "encoded = hf_tokenizer.encode(example)\n",
    "print(\"token_id = \", encoded)\n",
    "decoded = hf_tokenizer.decode(encoded)\n",
    "print(\"decoded  = \", decoded)\n"
   ]
  },
  {
   "cell_type": "code",
   "execution_count": 205,
   "id": "1414e891",
   "metadata": {},
   "outputs": [
    {
     "name": "stdout",
     "output_type": "stream",
     "text": [
      "Input    =  [SOS] FIELD SPIN 0 [EOS]\n",
      "Encoded  =  tensor([[ 0, 22, 36,  9,  1]])\n",
      "inputs:\n",
      " {'input_ids': tensor([[ 0, 22, 36,  9,  1]]), 'token_type_ids': tensor([[0, 0, 0, 0, 0]]), 'attention_mask': tensor([[1, 1, 1, 1, 1]])}\n",
      "targets:\n",
      " tensor([[ 8, 22, 36,  9, 26, 22, 36,  9, 27, 22, 36,  9, 32,  8, 22, 36,  9, 25,\n",
      "         22, 36,  9, 29, 22, 36,  9, 31, 22, 36,  9, 24,  8, 21, 29, 22, 36,  9,\n",
      "         20, 32, 21, 27, 22, 36,  9, 31, 19, 34, 29, 27,  8, 22, 36,  9, 20, 33,\n",
      "         22, 36,  9, 26, 19]])\n"
     ]
    }
   ],
   "source": [
    "example_scenario = sampled_df[sampled_df[\"output_length\"] == minlength]\n",
    "example = example_scenario[\"fields\"].values[0]\n",
    "example = \"[SOS] \" + example + \" [EOS]\"\n",
    "print(\"Input    = \",example)\n",
    "\n",
    "\n",
    "encoded = hf_tokenizer.encode(example, return_tensors='pt', truncation=True,padding=True)\n",
    "print(\"Encoded  = \",encoded)\n",
    "\n",
    "inputs = hf_tokenizer(example, return_tensors=\"pt\")\n",
    "with hf_tokenizer.as_target_tokenizer():\n",
    "    targets = hf_tokenizer(example_scenario[\"Lagrangian\"].iloc[0], return_tensors=\"pt\")\n",
    "\n",
    "labels = targets[\"input_ids\"]\n",
    "\n",
    "#true_ids = hf_tokenizer.encode(example_scenario[\"Lagrangian\"].iloc[0])\n",
    "print(\"inputs:\\n\",inputs)\n",
    "print(\"targets:\\n\",labels)\n",
    "\n",
    "\n",
    "with torch.no_grad():\n",
    "    outputs = model(input_ids=inputs[\"input_ids\"], labels=labels)\n",
    "    logits = outputs.logits  # shape: [batch_size, seq_len, vocab_size]\n"
   ]
  },
  {
   "cell_type": "code",
   "execution_count": 206,
   "id": "3c94e9ca",
   "metadata": {},
   "outputs": [
    {
     "name": "stdout",
     "output_type": "stream",
     "text": [
      "Per-token cross-entropy losses: tensor([[19.2422, 10.0482, 22.0277, 20.2395, 14.0827, 15.6187, 22.3550, 22.3186,\n",
      "         13.3089, 12.9028, 22.5419, 20.7454, 11.9949, 10.5809, 14.4918, 23.0722,\n",
      "         20.3395, 14.2646, 19.0891, 23.6852, 20.2923, 14.0048, 20.1847, 23.1815,\n",
      "         21.7371, 14.0884, 18.0260, 22.7415, 22.5128, 12.7312, 17.2330, 21.4783,\n",
      "         13.8880, 19.9695, 22.9877, 17.8990, 18.0639, 14.0775, 22.6056, 13.2294,\n",
      "         16.9861, 22.6753, 21.4662, 14.4006, 21.6495, 26.4088, 18.5562, 17.1748,\n",
      "         15.8664, 13.4955, 23.1618, 19.2413, 17.7145, 13.8378, 17.7131, 23.4729,\n",
      "         20.2655, 13.3533]])\n"
     ]
    }
   ],
   "source": [
    "# Shift logits and labels for computing loss\n",
    "logits = logits[:, :-1, :].contiguous()\n",
    "target_ids = labels[:, 1:].contiguous()\n",
    "\n",
    "# Flatten for loss computation\n",
    "loss_fct = torch.nn.CrossEntropyLoss(reduction='none')  # No reduction to get per-token loss\n",
    "loss = loss_fct(logits.view(-1, logits.size(-1)), target_ids.view(-1))\n",
    "\n",
    "# Reshape to [batch_size, seq_len]\n",
    "token_losses = loss.view(target_ids.size())\n",
    "\n",
    "print(\"Per-token cross-entropy losses:\", token_losses)\n"
   ]
  },
  {
   "cell_type": "code",
   "execution_count": null,
   "id": "d3742c91",
   "metadata": {},
   "outputs": [],
   "source": []
  },
  {
   "cell_type": "code",
   "execution_count": null,
   "id": "0e78b3e0",
   "metadata": {},
   "outputs": [],
   "source": []
  },
  {
   "cell_type": "code",
   "execution_count": 170,
   "id": "2d42e417",
   "metadata": {},
   "outputs": [
    {
     "name": "stdout",
     "output_type": "stream",
     "text": [
      "+ FIELD SPIN 0 SU2 3 U1 4 ID7 FIELD SPIN 0 SU2 3 U1 - 4 DAGGER ID0 FIELD SPIN 0 U1 9 / 8 ID8 FIELD SPIN 0 U1 - 9 / 8 DAGGER ID2 CONTRACTIONS SU2 ID7 ID0 SU2 ID7 ID0 + FIELD SPIN 0 SU2 3 U1 4 ID6 FIELD SPIN 0 SU2 3 U1 - 4 DAGGER ID7 FIELD SPIN 0 SU2 3 U1 5 ID4 FIELD SPIN 0 SU2 3 U1 - 5 DAGGER ID1 CONTRACTIONS SU2 ID6 ID4 SU2 ID6 ID4 SU2 ID7 ID1 SU2 ID7 ID1 + FIELD SPIN 0 SU2 3 U1 4 ID7 FIELD SPIN 0 SU2 3 U1 - 4 DAGGER ID0 FIELD SPIN 0 SU2 3 U1 5 ID9 FIELD SPIN 0 SU2 3 U1 - 5 DAGGER ID8 CONTRACTIONS SU2 ID7 ID0 SU2 ID7 ID9 SU2 ID0 ID8 SU2 ID9 ID8 + FIELD SPIN 0 SU2 3 U1 4 ID7 FIELD SPIN 0 SU2 3 U1 - 4 DAGGER ID0 FIELD SPIN 0 SU2 3 U1 5 ID9 FIELD SPIN 0 SU2 3 U1 - 5 DAGGER ID8 CONTRACTIONS SU2 ID7 ID0 SU2 ID7 ID0 SU2 ID9 ID8 SU2 ID9 ID8 + FIELD SPIN 0 SU2 3 U1 4 ID7 FIELD SPIN 0 SU2 3 U1 - 4 DAGGER ID0 FIELD SPIN 0 SU3 3 U1 4 / 9 ID2 FIELD SPIN 0 SU3 - 3 U1 - 4 / 9 DAGGER ID6 CONTRACTIONS SU3 ID2 ID6 ID6 SU2 ID7 ID0 SU2 ID7 ID0 + FIELD SPIN 0 SU2 3 U1 4 ID6 FIELD SPIN 0 SU2 3 U1 4 ID0 FIELD SPIN 0 SU2 3 U1 - 4 DAGGER ID4 FIELD SPIN 0 SU2 3 U1 - 4 DAGGER ID1 CONTRACTIONS SU2 ID6 ID4 SU2 ID6 ID4 SU2 ID0 ID1 SU2 ID0 ID1 + FIELD SPIN 0 SU2 3 U1 4 ID6 FIELD SPIN 0 SU2 3 U1 4 ID7 FIELD SPIN 0 SU2 3 U1 - 4 DAGGER ID0 FIELD SPIN 0 SU2 3 U1 - 4 DAGGER ID1 CONTRACTIONS SU2 ID6 ID7 SU2 ID6 ID0 SU2 ID7 ID1 SU2 ID0 ID1 + FIELD SPIN 0 SU2 3 U1 4 ID7 FIELD SPIN 0 SU2 3 U1 4 ID6 FIELD SPIN 0 SU2 3 U1 - 4 DAGGER ID0 FIELD SPIN 0 SU2 3 U1 - 4 DAGGER ID1 CONTRACTIONS SU2 ID7 ID6 SU2 ID7 ID6 SU2 ID0 ID1 SU2 ID0 ID1 + FIELD SPIN 0 U1 9 / 8 ID6 FIELD SPIN 0 U1 - 9 / 8 DAGGER ID7 FIELD SPIN 0 SU2 3 U1 5 ID4 FIELD SPIN 0 SU2 3 U1 - 5 DAGGER ID0 CONTRACTIONS SU2 ID4 ID0 SU2 ID4 ID0 + FIELD SPIN 0 U1 9 / 8 ID4 FIELD SPIN 0 U1 - 9 / 8 DAGGER ID8 FIELD SPIN 0 SU3 3 U1 4 / 9 ID6 FIELD SPIN 0 SU3 - 3 U1 - 4 / 9 DAGGER ID1 CONTRACTIONS SU3 ID6 ID1 ID1 + FIELD SPIN 0 U1 9 / 8 ID4 FIELD SPIN 0 U1 9 / 8 ID8 FIELD SPIN 0 U1 - 9 / 8 DAGGER ID6 FIELD SPIN 0 U1 - 9 / 8 DAGGER ID1 + FIELD SPIN 0 SU2 3 U1 5 ID9 FIELD SPIN 0 SU2 3 U1 - 5 DAGGER ID8 FIELD SPIN 0 SU3 3 U1 4 / 9 ID6 FIELD SPIN 0 SU3 - 3 U1 - 4 / 9 DAGGER ID7 CONTRACTIONS SU3 ID6 ID7 ID7 SU2 ID9 ID8 SU2 ID9 ID8 + FIELD SPIN 0 SU2 3 U1 5 ID9 FIELD SPIN 0 SU2 3 U1 5 ID7 FIELD SPIN 0 SU2 3 U1 - 5 DAGGER ID0 FIELD SPIN 0 SU2 3 U1 - 5 DAGGER ID8 CONTRACTIONS SU2 ID9 ID0 SU2 ID9 ID0 SU2 ID7 ID8 SU2 ID7 ID8 + FIELD SPIN 0 SU2 3 U1 5 ID7 FIELD SPIN 0 SU2 3 U1 5 ID9 FIELD SPIN 0 SU2 3 U1 - 5 DAGGER ID0 FIELD SPIN 0 SU2 3 U1 - 5 DAGGER ID1 CONTRACTIONS SU2 ID7 ID9 SU2 ID7 ID0 SU2 ID9 ID1 SU2 ID0 ID1 + FIELD SPIN 0 SU2 3 U1 5 ID7 FIELD SPIN 0 SU2 3 U1 5 ID9 FIELD SPIN 0 SU2 3 U1 - 5 DAGGER ID0 FIELD SPIN 0 SU2 3 U1 - 5 DAGGER ID6 CONTRACTIONS SU2 ID7 ID9 SU2 ID7 ID9 SU2 ID0 ID6 SU2 ID0 ID6 + FIELD SPIN 0 SU3 3 U1 4 / 9 ID4 FIELD SPIN 0 SU3 3 U1 4 / 9 ID8 FIELD SPIN 0 SU3 - 3 U1 - 4 / 9 DAGGER ID6 FIELD SPIN 0 SU3 - 3 U1 - 4 / 9 DAGGER ID0 CONTRACTIONS SU3 ID4 ID6 ID6 SU3 ID8 ID0 ID0 + FIELD SPIN 0 SU3 3 U1 4 / 9 ID4 FIELD SPIN 0 SU3 3 U1 4 / 9 ID8 FIELD SPIN 0 SU3 - 3 U1 - 4 / 9 DAGGER ID6 FIELD SPIN 0 SU3 - 3 U1 - 4 / 9 DAGGER ID7 CONTRACTIONS SU3 ID4 ID8 ID6 SU3 ID6 ID7 ID7 + DERIVATIVE SU2 U1 ID6 FIELD SPIN 0 SU2 3 U1 - 4 DAGGER ID7 DERIVATIVE SU2 U1 ID0 FIELD SPIN 0 SU2 3 U1 4 ID8 CONTRACTIONS LORENTZ ID6 ID0 SU2 ID7 ID8 + DERIVATIVE U1 ID7 FIELD SPIN 0 U1 - 9 / 8 DAGGER ID0 DERIVATIVE U1 ID1 FIELD SPIN 0 U1 9 / 8 ID6 CONTRACTIONS LORENTZ ID7 ID1 + DERIVATIVE SU2 U1 ID7 FIELD SPIN 0 SU2 3 U1 - 5 DAGGER ID0 DERIVATIVE SU2 U1 ID6 FIELD SPIN 0 SU2 3 U1 5 ID8 CONTRACTIONS LORENTZ ID7 ID6 SU2 ID0 ID8 + DERIVATIVE SU3 U1 ID4 FIELD SPIN 0 SU3 - 3 U1 - 4 / 9 DAGGER ID6 DERIVATIVE SU3 U1 ID0 FIELD SPIN 0 SU3 3 U1 4 / 9 ID7 CONTRACTIONS LORENTZ ID4 ID0 SU3 ID6 ID7 + i FIELD SPIN 1 / 2 SU3 - 3 U1 2 / 9 HEL 1 / 2 ID0 SIGMA_BAR ID4 DERIVATIVE SU3 U1 ID9 FIELD SPIN 1 / 2 SU3 3 U1 - 2 / 9 HEL - 1 / 2 DAGGER ID8 CONTRACTIONS LORENTZ ID4 ID9 LORENTZ ID4 ID0 ID8 SU3 ID0 ID8 - COMMUTATOR_A DERIVATIVE SU2 ID4 COMMUTATOR_B DERIVATIVE SU2 ID8 COMMUTATOR_A DERIVATIVE SU2 ID6 COMMUTATOR_B DERIVATIVE SU2 ID5 CONTRACTIONS LORENTZ ID4 ID6 LORENTZ ID8 ID5 - COMMUTATOR_A DERIVATIVE U1 ID4 COMMUTATOR_B DERIVATIVE U1 ID8 COMMUTATOR_A DERIVATIVE U1 ID2 COMMUTATOR_B DERIVATIVE U1 ID6 CONTRACTIONS LORENTZ ID4 ID2 LORENTZ ID8 ID6 - COMMUTATOR_A DERIVATIVE SU3 ID4 COMMUTATOR_B DERIVATIVE SU3 ID8 COMMUTATOR_A DERIVATIVE SU3 ID2 COMMUTATOR_B DERIVATIVE SU3 ID6 CONTRACTIONS LORENTZ ID4 ID2 LORENTZ ID8 ID6 + FIELD SPIN 0 SU2 3 U1 - 4 DAGGER ID7 FIELD SPIN 0 SU2 3 U1 4 ID6 CONTRACTIONS SU2 ID7 ID6 + FIELD SPIN 0 U1 - 9 / 8 DAGGER ID7 FIELD SPIN 0 U1 9 / 8 ID6 CONTRACTIONS + FIELD SPIN 0 SU2 3 U1 - 5 DAGGER ID7 FIELD SPIN 0 SU2 3 U1 5 ID6 CONTRACTIONS SU2 ID7 ID6 + FIELD SPIN 0 SU3 - 3 U1 - 4 / 9 DAGGER ID4 FIELD SPIN 0 SU3 3 U1 4 / 9 ID2 CONTRACTIONS SU3 ID4 ID2\n"
     ]
    }
   ],
   "source": [
    "predicted_lagrangian = hf_tokenizer.batch_decode(outputs, skip_special_tokens=True)[0]\n",
    "print(predicted_lagrangian)\n"
   ]
  },
  {
   "cell_type": "code",
   "execution_count": 164,
   "id": "43438fcc",
   "metadata": {},
   "outputs": [
    {
     "name": "stdout",
     "output_type": "stream",
     "text": [
      "+ FIELD SPIN 0 SU2 3 U1 4 ID0 FIELD SPIN 0 SU2 3 U1 - 4 DAGGER ID1 FIELD SPIN 0 U1 9 / 8 ID2 FIELD SPIN 0 U1 - 9 / 8 DAGGER ID3 CONTRACTIONS SU2 ID0 ID1 SU2 ID0 ID1 + FIELD SPIN 0 SU2 3 U1 4 ID1 FIELD SPIN 0 SU2 3 U1 - 4 DAGGER ID3 FIELD SPIN 0 SU2 3 U1 5 ID4 FIELD SPIN 0 SU2 3 U1 - 5 DAGGER ID7 CONTRACTIONS SU2 ID1 ID4 SU2 ID1 ID4 SU2 ID3 ID7 SU2 ID3 ID7 + FIELD SPIN 0 SU2 3 U1 4 ID5 FIELD SPIN 0 SU2 3 U1 - 4 DAGGER ID8 FIELD SPIN 0 SU2 3 U1 5 ID3 FIELD SPIN 0 SU2 3 U1 - 5 DAGGER ID7 CONTRACTIONS SU2 ID5 ID8 SU2 ID5 ID3 SU2 ID8 ID7 SU2 ID3 ID7 + FIELD SPIN 0 SU2 3 U1 4 ID4 FIELD SPIN 0 SU2 3 U1 - 4 DAGGER ID5 FIELD SPIN 0 SU2 3 U1 5 ID6 FIELD SPIN 0 SU2 3 U1 - 5 DAGGER ID0 CONTRACTIONS SU2 ID4 ID5 SU2 ID4 ID5 SU2 ID6 ID0 SU2 ID6 ID0 + FIELD SPIN 0 SU2 3 U1 4 ID4 FIELD SPIN 0 SU2 3 U1 - 4 DAGGER ID8 FIELD SPIN 0 SU3 3 U1 4 / 9 ID3 FIELD SPIN 0 SU3 - 3 U1 - 4 / 9 DAGGER ID9 CONTRACTIONS SU3 ID3 ID9 ID9 SU2 ID4 ID8 SU2 ID4 ID8 + FIELD SPIN 0 SU2 3 U1 4 ID3 FIELD SPIN 0 SU2 3 U1 4 ID2 FIELD SPIN 0 SU2 3 U1 - 4 DAGGER ID0 FIELD SPIN 0 SU2 3 U1 - 4 DAGGER ID5 CONTRACTIONS SU2 ID3 ID0 SU2 ID3 ID0 SU2 ID2 ID5 SU2 ID2 ID5 + FIELD SPIN 0 SU2 3 U1 4 ID3 FIELD SPIN 0 SU2 3 U1 4 ID4 FIELD SPIN 0 SU2 3 U1 - 4 DAGGER ID1 FIELD SPIN 0 SU2 3 U1 - 4 DAGGER ID6 CONTRACTIONS SU2 ID3 ID4 SU2 ID3 ID1 SU2 ID4 ID6 SU2 ID1 ID6 + FIELD SPIN 0 SU2 3 U1 4 ID6 FIELD SPIN 0 SU2 3 U1 4 ID8 FIELD SPIN 0 SU2 3 U1 - 4 DAGGER ID0 FIELD SPIN 0 SU2 3 U1 - 4 DAGGER ID9 CONTRACTIONS SU2 ID6 ID8 SU2 ID6 ID8 SU2 ID0 ID9 SU2 ID0 ID9 + FIELD SPIN 0 U1 9 / 8 ID8 FIELD SPIN 0 U1 - 9 / 8 DAGGER ID0 FIELD SPIN 0 SU2 3 U1 5 ID2 FIELD SPIN 0 SU2 3 U1 - 5 DAGGER ID1 CONTRACTIONS SU2 ID2 ID1 SU2 ID2 ID1 + FIELD SPIN 0 U1 9 / 8 ID8 FIELD SPIN 0 U1 - 9 / 8 DAGGER ID7 FIELD SPIN 0 SU3 3 U1 4 / 9 ID2 FIELD SPIN 0 SU3 - 3 U1 - 4 / 9 DAGGER ID1 CONTRACTIONS SU3 ID2 ID1 ID1 + FIELD SPIN 0 U1 9 / 8 ID2 FIELD SPIN 0 U1 9 / 8 ID7 FIELD SPIN 0 U1 - 9 / 8 DAGGER ID9 FIELD SPIN 0 U1 - 9 / 8 DAGGER ID8 + FIELD SPIN 0 SU2 3 U1 5 ID3 FIELD SPIN 0 SU2 3 U1 - 5 DAGGER ID0 FIELD SPIN 0 SU3 3 U1 4 / 9 ID6 FIELD SPIN 0 SU3 - 3 U1 - 4 / 9 DAGGER ID5 CONTRACTIONS SU3 ID6 ID5 ID5 SU2 ID3 ID0 SU2 ID3 ID0 + FIELD SPIN 0 SU2 3 U1 5 ID7 FIELD SPIN 0 SU2 3 U1 5 ID4 FIELD SPIN 0 SU2 3 U1 - 5 DAGGER ID0 FIELD SPIN 0 SU2 3 U1 - 5 DAGGER ID5 CONTRACTIONS SU2 ID7 ID0 SU2 ID7 ID0 SU2 ID4 ID5 SU2 ID4 ID5 + FIELD SPIN 0 SU2 3 U1 5 ID0 FIELD SPIN 0 SU2 3 U1 5 ID1 FIELD SPIN 0 SU2 3 U1 - 5 DAGGER ID8 FIELD SPIN 0 SU2 3 U1 - 5 DAGGER ID9 CONTRACTIONS SU2 ID0 ID1 SU2 ID0 ID8 SU2 ID1 ID9 SU2 ID8 ID9 + FIELD SPIN 0 SU2 3 U1 5 ID0 FIELD SPIN 0 SU2 3 U1 5 ID4 FIELD SPIN 0 SU2 3 U1 - 5 DAGGER ID2 FIELD SPIN 0 SU2 3 U1 - 5 DAGGER ID3 CONTRACTIONS SU2 ID0 ID4 SU2 ID0 ID4 SU2 ID2 ID3 SU2 ID2 ID3 + FIELD SPIN 0 SU3 3 U1 4 / 9 ID0 FIELD SPIN 0 SU3 3 U1 4 / 9 ID3 FIELD SPIN 0 SU3 - 3 U1 - 4 / 9 DAGGER ID4 FIELD SPIN 0 SU3 - 3 U1 - 4 / 9 DAGGER ID5 CONTRACTIONS SU3 ID0 ID4 ID4 SU3 ID3 ID5 ID5 + FIELD SPIN 0 SU3 3 U1 4 / 9 ID5 FIELD SPIN 0 SU3 3 U1 4 / 9 ID4 FIELD SPIN 0 SU3 - 3 U1 - 4 / 9 DAGGER ID8 FIELD SPIN 0 SU3 - 3 U1 - 4 / 9 DAGGER ID6 CONTRACTIONS SU3 ID5 ID4 ID8 SU3 ID8 ID6 ID6 + DERIVATIVE SU2 U1 ID3 FIELD SPIN 0 SU2 3 U1 - 4 DAGGER ID6 DERIVATIVE SU2 U1 ID1 FIELD SPIN 0 SU2 3 U1 4 ID7 CONTRACTIONS LORENTZ ID3 ID1 SU2 ID6 ID7 + DERIVATIVE U1 ID6 FIELD SPIN 0 U1 - 9 / 8 DAGGER ID7 DERIVATIVE U1 ID8 FIELD SPIN 0 U1 9 / 8 ID2 CONTRACTIONS LORENTZ ID6 ID8 + DERIVATIVE SU2 U1 ID6 FIELD SPIN 0 SU2 3 U1 - 5 DAGGER ID7 DERIVATIVE SU2 U1 ID5 FIELD SPIN 0 SU2 3 U1 5 ID1 CONTRACTIONS LORENTZ ID6 ID5 SU2 ID7 ID1 + DERIVATIVE SU3 U1 ID0 FIELD SPIN 0 SU3 - 3 U1 - 4 / 9 DAGGER ID1 DERIVATIVE SU3 U1 ID2 FIELD SPIN 0 SU3 3 U1 4 / 9 ID6 CONTRACTIONS LORENTZ ID0 ID2 SU3 ID1 ID6 + i FIELD SPIN 1 / 2 SU3 - 3 U1 2 / 9 HEL 1 / 2 ID2 SIGMA_BAR ID6 DERIVATIVE SU3 U1 ID3 FIELD SPIN 1 / 2 SU3 3 U1 - 2 / 9 HEL - 1 / 2 DAGGER ID8 CONTRACTIONS LORENTZ ID6 ID3 LORENTZ ID6 ID2 ID8 SU3 ID2 ID8 - COMMUTATOR_A DERIVATIVE SU2 ID1 COMMUTATOR_B DERIVATIVE SU2 ID7 COMMUTATOR_A DERIVATIVE SU2 ID5 COMMUTATOR_B DERIVATIVE SU2 ID0 CONTRACTIONS LORENTZ ID1 ID5 LORENTZ ID7 ID0 - COMMUTATOR_A DERIVATIVE U1 ID6 COMMUTATOR_B DERIVATIVE U1 ID1 COMMUTATOR_A DERIVATIVE U1 ID4 COMMUTATOR_B DERIVATIVE U1 ID5 CONTRACTIONS LORENTZ ID6 ID4 LORENTZ ID1 ID5 - COMMUTATOR_A DERIVATIVE SU3 ID9 COMMUTATOR_B DERIVATIVE SU3 ID8 COMMUTATOR_A DERIVATIVE SU3 ID4 COMMUTATOR_B DERIVATIVE SU3 ID3 CONTRACTIONS LORENTZ ID9 ID4 LORENTZ ID8 ID3 + FIELD SPIN 0 SU2 3 U1 - 4 DAGGER ID9 FIELD SPIN 0 SU2 3 U1 4 ID0 CONTRACTIONS SU2 ID9 ID0 + FIELD SPIN 0 U1 - 9 / 8 DAGGER ID9 FIELD SPIN 0 U1 9 / 8 ID8 CONTRACTIONS + FIELD SPIN 0 SU2 3 U1 - 5 DAGGER ID0 FIELD SPIN 0 SU2 3 U1 5 ID3 CONTRACTIONS SU2 ID0 ID3 + FIELD SPIN 0 SU3 - 3 U1 - 4 / 9 DAGGER ID6 FIELD SPIN 0 SU3 3 U1 4 / 9 ID4 CONTRACTIONS SU3 ID6 ID4\n"
     ]
    }
   ],
   "source": [
    "true_lagrangian = example_scenario[\"Lagrangian\"].iloc[0]\n",
    "print(true_lagrangian)\n"
   ]
  },
  {
   "cell_type": "code",
   "execution_count": 171,
   "id": "fe519e21",
   "metadata": {},
   "outputs": [
    {
     "name": "stdout",
     "output_type": "stream",
     "text": [
      "+ FIELD SPIN 0 SU2 3 U1 4 ID0 FIELD SPIN 0 SU2 3 U1 - 4 DAGGER ID1 FIELD SPIN 0 U1 9 / 8 ID2 FIELD SPIN 0 U1 - 9 / 8 DAGGER ID3 CONTRACTIONS SU2 ID0 ID1 SU2 ID0 ID1 + FIELD SPIN 0 SU2 3 U1 4 ID1 FIELD SPIN 0 SU2 3 U1 - 4 DAGGER ID3 FIELD SPIN 0 SU2 3 U1 5 ID4 FIELD SPIN 0 SU2 3 U1 - 5 DAGGER ID7 CONTRACTIONS SU2 ID1 ID4 SU2 ID1 ID4 SU2 ID3 ID7 SU2 ID3 ID7 + FIELD SPIN 0 SU2 3 U1 4 ID5 FIELD SPIN 0 SU2 3 U1 - 4 DAGGER ID8 FIELD SPIN 0 SU2 3 U1 5 ID3 FIELD SPIN 0 SU2 3 U1 - 5 DAGGER ID7 CONTRACTIONS SU2 ID5 ID8 SU2 ID5 ID3 SU2 ID8 ID7 SU2 ID3 ID7 + FIELD SPIN 0 SU2 3 U1 4 ID4 FIELD SPIN 0 SU2 3 U1 - 4 DAGGER ID5 FIELD SPIN 0 SU2 3 U1 5 ID6 FIELD SPIN 0 SU2 3 U1 - 5 DAGGER ID0 CONTRACTIONS SU2 ID4 ID5 SU2 ID4 ID5 SU2 ID6 ID0 SU2 ID6 ID0 + FIELD SPIN 0 SU2 3 U1 4 ID4 FIELD SPIN 0 SU2 3 U1 - 4 DAGGER ID8 FIELD SPIN 0 SU3 3 U1 4 / 9 ID3 FIELD SPIN 0 SU3 - 3 U1 - 4 / 9 DAGGER ID9 CONTRACTIONS SU3 ID3 ID9 ID9 SU2 ID4 ID8 SU2 ID4 ID8 + FIELD SPIN 0 SU2 3 U1 4 ID3 FIELD SPIN 0 SU2 3 U1 4 ID2 FIELD SPIN 0 SU2 3 U1 - 4 DAGGER ID0 FIELD SPIN 0 SU2 3 U1 - 4 DAGGER ID5 CONTRACTIONS SU2 ID3 ID0 SU2 ID3 ID0 SU2 ID2 ID5 SU2 ID2 ID5 + FIELD SPIN 0 SU2 3 U1 4 ID3 FIELD SPIN 0 SU2 3 U1 4 ID4 FIELD SPIN 0 SU2 3 U1 - 4 DAGGER ID1 FIELD SPIN 0 SU2 3 U1 - 4 DAGGER ID6 CONTRACTIONS SU2 ID3 ID4 SU2 ID3 ID1 SU2 ID4 ID6 SU2 ID1 ID6 + FIELD SPIN 0 SU2 3 U1 4 ID6 FIELD SPIN 0 SU2 3 U1 4 ID8 FIELD SPIN 0 SU2 3 U1 - 4 DAGGER ID0 FIELD SPIN 0 SU2 3 U1 - 4 DAGGER ID9 CONTRACTIONS SU2 ID6 ID8 SU2 ID6 ID8 SU2 ID0 ID9 SU2 ID0 ID9 + FIELD SPIN 0 U1 9 / 8 ID8 FIELD SPIN 0 U1 - 9 / 8 DAGGER ID0 FIELD SPIN 0 SU2 3 U1 5 ID2 FIELD SPIN 0 SU2 3 U1 - 5 DAGGER ID1 CONTRACTIONS SU2 ID2 ID1 SU2 ID2 ID1 + FIELD SPIN 0 U1 9 / 8 ID8 FIELD SPIN 0 U1 - 9 / 8 DAGGER ID7 FIELD SPIN 0 SU3 3 U1 4 / 9 ID2 FIELD SPIN 0 SU3 - 3 U1 - 4 / 9 DAGGER ID1 CONTRACTIONS SU3 ID2 ID1 ID1 + FIELD SPIN 0 U1 9 / 8 ID2 FIELD SPIN 0 U1 9 / 8 ID7 FIELD SPIN 0 U1 - 9 / 8 DAGGER ID9 FIELD SPIN 0 U1 - 9 / 8 DAGGER ID8 + FIELD SPIN 0 SU2 3 U1 5 ID3 FIELD SPIN 0 SU2 3 U1 - 5 DAGGER ID0 FIELD SPIN 0 SU3 3 U1 4 / 9 ID6 FIELD SPIN 0 SU3 - 3 U1 - 4 / 9 DAGGER ID5 CONTRACTIONS SU3 ID6 ID5 ID5 SU2 ID3 ID0 SU2 ID3 ID0 + FIELD SPIN 0 SU2 3 U1 5 ID7 FIELD SPIN 0 SU2 3 U1 5 ID4 FIELD SPIN 0 SU2 3 U1 - 5 DAGGER ID0 FIELD SPIN 0 SU2 3 U1 - 5 DAGGER ID5 CONTRACTIONS SU2 ID7 ID0 SU2 ID7 ID0 SU2 ID4 ID5 SU2 ID4 ID5 + FIELD SPIN 0 SU2 3 U1 5 ID0 FIELD SPIN 0 SU2 3 U1 5 ID1 FIELD SPIN 0 SU2 3 U1 - 5 DAGGER ID8 FIELD SPIN 0 SU2 3 U1 - 5 DAGGER ID9 CONTRACTIONS SU2 ID0 ID1 SU2 ID0 ID8 SU2 ID1 ID9 SU2 ID8 ID9 + FIELD SPIN 0 SU2 3 U1 5 ID0 FIELD SPIN 0 SU2 3 U1 5 ID4 FIELD SPIN 0 SU2 3 U1 - 5 DAGGER ID2 FIELD SPIN 0 SU2 3 U1 - 5 DAGGER ID3 CONTRACTIONS SU2 ID0 ID4 SU2 ID0 ID4 SU2 ID2 ID3 SU2 ID2 ID3 + FIELD SPIN 0 SU3 3 U1 4 / 9 ID0 FIELD SPIN 0 SU3 3 U1 4 / 9 ID3 FIELD SPIN 0 SU3 - 3 U1 - 4 / 9 DAGGER ID4 FIELD SPIN 0 SU3 - 3 U1 - 4 / 9 DAGGER ID5 CONTRACTIONS SU3 ID0 ID4 ID4 SU3 ID3 ID5 ID5 + FIELD SPIN 0 SU3 3 U1 4 / 9 ID5 FIELD SPIN 0 SU3 3 U1 4 / 9 ID4 FIELD SPIN 0 SU3 - 3 U1 - 4 / 9 DAGGER ID8 FIELD SPIN 0 SU3 - 3 U1 - 4 / 9 DAGGER ID6 CONTRACTIONS SU3 ID5 ID4 ID8 SU3 ID8 ID6 ID6 + DERIVATIVE SU2 U1 ID3 FIELD SPIN 0 SU2 3 U1 - 4 DAGGER ID6 DERIVATIVE SU2 U1 ID1 FIELD SPIN 0 SU2 3 U1 4 ID7 CONTRACTIONS LORENTZ ID3 ID1 SU2 ID6 ID7 + DERIVATIVE U1 ID6 FIELD SPIN 0 U1 - 9 / 8 DAGGER ID7 DERIVATIVE U1 ID8 FIELD SPIN 0 U1 9 / 8 ID2 CONTRACTIONS LORENTZ ID6 ID8 + DERIVATIVE SU2 U1 ID6 FIELD SPIN 0 SU2 3 U1 - 5 DAGGER ID7 DERIVATIVE SU2 U1 ID5 FIELD SPIN 0 SU2 3 U1 5 ID1 CONTRACTIONS LORENTZ ID6 ID5 SU2 ID7 ID1 + DERIVATIVE SU3 U1 ID0 FIELD SPIN 0 SU3 - 3 U1 - 4 / 9 DAGGER ID1 DERIVATIVE SU3 U1 ID2 FIELD SPIN 0 SU3 3 U1 4 / 9 ID6 CONTRACTIONS LORENTZ ID0 ID2 SU3 ID1 ID6 + i FIELD SPIN 1 / 2 SU3 - 3 U1 2 / 9 HEL 1 / 2 ID2 SIGMA_BAR ID6 DERIVATIVE SU3 U1 ID3 FIELD SPIN 1 / 2 SU3 3 U1 - 2 / 9 HEL - 1 / 2 DAGGER ID8 CONTRACTIONS LORENTZ ID6 ID3 LORENTZ ID6 ID2 ID8 SU3 ID2 ID8 - COMMUTATOR_A DERIVATIVE SU2 ID1 COMMUTATOR_B DERIVATIVE SU2 ID7 COMMUTATOR_A DERIVATIVE SU2 ID5 COMMUTATOR_B DERIVATIVE SU2 ID0 CONTRACTIONS LORENTZ ID1 ID5 LORENTZ ID7 ID0 - COMMUTATOR_A DERIVATIVE U1 ID6 COMMUTATOR_B DERIVATIVE U1 ID1 COMMUTATOR_A DERIVATIVE U1 ID4 COMMUTATOR_B DERIVATIVE U1 ID5 CONTRACTIONS LORENTZ ID6 ID4 LORENTZ ID1 ID5 - COMMUTATOR_A DERIVATIVE SU3 ID9 COMMUTATOR_B DERIVATIVE SU3 ID8 COMMUTATOR_A DERIVATIVE SU3 ID4 COMMUTATOR_B DERIVATIVE SU3 ID3 CONTRACTIONS LORENTZ ID9 ID4 LORENTZ ID8 ID3 + FIELD SPIN 0 SU2 3 U1 - 4 DAGGER ID9 FIELD SPIN 0 SU2 3 U1 4 ID0 CONTRACTIONS SU2 ID9 ID0 + FIELD SPIN 0 U1 - 9 / 8 DAGGER ID9 FIELD SPIN 0 U1 9 / 8 ID8 CONTRACTIONS + FIELD SPIN 0 SU2 3 U1 - 5 DAGGER ID0 FIELD SPIN 0 SU2 3 U1 5 ID3 CONTRACTIONS SU2 ID0 ID3 + FIELD SPIN 0 SU3 - 3 U1 - 4 / 9 DAGGER ID6 FIELD SPIN 0 SU3 3 U1 4 / 9 ID4 CONTRACTIONS SU3 ID6 ID4\n",
      "+ FIELD SPIN 0 SU2 3 U1 4 ID7 FIELD SPIN 0 SU2 3 U1 - 4 DAGGER ID0 FIELD SPIN 0 U1 9 / 8 ID8 FIELD SPIN 0 U1 - 9 / 8 DAGGER ID2 CONTRACTIONS SU2 ID7 ID0 SU2 ID7 ID0 + FIELD SPIN 0 SU2 3 U1 4 ID6 FIELD SPIN 0 SU2 3 U1 - 4 DAGGER ID7 FIELD SPIN 0 SU2 3 U1 5 ID4 FIELD SPIN 0 SU2 3 U1 - 5 DAGGER ID1 CONTRACTIONS SU2 ID6 ID4 SU2 ID6 ID4 SU2 ID7 ID1 SU2 ID7 ID1 + FIELD SPIN 0 SU2 3 U1 4 ID7 FIELD SPIN 0 SU2 3 U1 - 4 DAGGER ID0 FIELD SPIN 0 SU2 3 U1 5 ID9 FIELD SPIN 0 SU2 3 U1 - 5 DAGGER ID8 CONTRACTIONS SU2 ID7 ID0 SU2 ID7 ID9 SU2 ID0 ID8 SU2 ID9 ID8 + FIELD SPIN 0 SU2 3 U1 4 ID7 FIELD SPIN 0 SU2 3 U1 - 4 DAGGER ID0 FIELD SPIN 0 SU2 3 U1 5 ID9 FIELD SPIN 0 SU2 3 U1 - 5 DAGGER ID8 CONTRACTIONS SU2 ID7 ID0 SU2 ID7 ID0 SU2 ID9 ID8 SU2 ID9 ID8 + FIELD SPIN 0 SU2 3 U1 4 ID7 FIELD SPIN 0 SU2 3 U1 - 4 DAGGER ID0 FIELD SPIN 0 SU3 3 U1 4 / 9 ID2 FIELD SPIN 0 SU3 - 3 U1 - 4 / 9 DAGGER ID6 CONTRACTIONS SU3 ID2 ID6 ID6 SU2 ID7 ID0 SU2 ID7 ID0 + FIELD SPIN 0 SU2 3 U1 4 ID6 FIELD SPIN 0 SU2 3 U1 4 ID0 FIELD SPIN 0 SU2 3 U1 - 4 DAGGER ID4 FIELD SPIN 0 SU2 3 U1 - 4 DAGGER ID1 CONTRACTIONS SU2 ID6 ID4 SU2 ID6 ID4 SU2 ID0 ID1 SU2 ID0 ID1 + FIELD SPIN 0 SU2 3 U1 4 ID6 FIELD SPIN 0 SU2 3 U1 4 ID7 FIELD SPIN 0 SU2 3 U1 - 4 DAGGER ID0 FIELD SPIN 0 SU2 3 U1 - 4 DAGGER ID1 CONTRACTIONS SU2 ID6 ID7 SU2 ID6 ID0 SU2 ID7 ID1 SU2 ID0 ID1 + FIELD SPIN 0 SU2 3 U1 4 ID7 FIELD SPIN 0 SU2 3 U1 4 ID6 FIELD SPIN 0 SU2 3 U1 - 4 DAGGER ID0 FIELD SPIN 0 SU2 3 U1 - 4 DAGGER ID1 CONTRACTIONS SU2 ID7 ID6 SU2 ID7 ID6 SU2 ID0 ID1 SU2 ID0 ID1 + FIELD SPIN 0 U1 9 / 8 ID6 FIELD SPIN 0 U1 - 9 / 8 DAGGER ID7 FIELD SPIN 0 SU2 3 U1 5 ID4 FIELD SPIN 0 SU2 3 U1 - 5 DAGGER ID0 CONTRACTIONS SU2 ID4 ID0 SU2 ID4 ID0 + FIELD SPIN 0 U1 9 / 8 ID4 FIELD SPIN 0 U1 - 9 / 8 DAGGER ID8 FIELD SPIN 0 SU3 3 U1 4 / 9 ID6 FIELD SPIN 0 SU3 - 3 U1 - 4 / 9 DAGGER ID1 CONTRACTIONS SU3 ID6 ID1 ID1 + FIELD SPIN 0 U1 9 / 8 ID4 FIELD SPIN 0 U1 9 / 8 ID8 FIELD SPIN 0 U1 - 9 / 8 DAGGER ID6 FIELD SPIN 0 U1 - 9 / 8 DAGGER ID1 + FIELD SPIN 0 SU2 3 U1 5 ID9 FIELD SPIN 0 SU2 3 U1 - 5 DAGGER ID8 FIELD SPIN 0 SU3 3 U1 4 / 9 ID6 FIELD SPIN 0 SU3 - 3 U1 - 4 / 9 DAGGER ID7 CONTRACTIONS SU3 ID6 ID7 ID7 SU2 ID9 ID8 SU2 ID9 ID8 + FIELD SPIN 0 SU2 3 U1 5 ID9 FIELD SPIN 0 SU2 3 U1 5 ID7 FIELD SPIN 0 SU2 3 U1 - 5 DAGGER ID0 FIELD SPIN 0 SU2 3 U1 - 5 DAGGER ID8 CONTRACTIONS SU2 ID9 ID0 SU2 ID9 ID0 SU2 ID7 ID8 SU2 ID7 ID8 + FIELD SPIN 0 SU2 3 U1 5 ID7 FIELD SPIN 0 SU2 3 U1 5 ID9 FIELD SPIN 0 SU2 3 U1 - 5 DAGGER ID0 FIELD SPIN 0 SU2 3 U1 - 5 DAGGER ID1 CONTRACTIONS SU2 ID7 ID9 SU2 ID7 ID0 SU2 ID9 ID1 SU2 ID0 ID1 + FIELD SPIN 0 SU2 3 U1 5 ID7 FIELD SPIN 0 SU2 3 U1 5 ID9 FIELD SPIN 0 SU2 3 U1 - 5 DAGGER ID0 FIELD SPIN 0 SU2 3 U1 - 5 DAGGER ID6 CONTRACTIONS SU2 ID7 ID9 SU2 ID7 ID9 SU2 ID0 ID6 SU2 ID0 ID6 + FIELD SPIN 0 SU3 3 U1 4 / 9 ID4 FIELD SPIN 0 SU3 3 U1 4 / 9 ID8 FIELD SPIN 0 SU3 - 3 U1 - 4 / 9 DAGGER ID6 FIELD SPIN 0 SU3 - 3 U1 - 4 / 9 DAGGER ID0 CONTRACTIONS SU3 ID4 ID6 ID6 SU3 ID8 ID0 ID0 + FIELD SPIN 0 SU3 3 U1 4 / 9 ID4 FIELD SPIN 0 SU3 3 U1 4 / 9 ID8 FIELD SPIN 0 SU3 - 3 U1 - 4 / 9 DAGGER ID6 FIELD SPIN 0 SU3 - 3 U1 - 4 / 9 DAGGER ID7 CONTRACTIONS SU3 ID4 ID8 ID6 SU3 ID6 ID7 ID7 + DERIVATIVE SU2 U1 ID6 FIELD SPIN 0 SU2 3 U1 - 4 DAGGER ID7 DERIVATIVE SU2 U1 ID0 FIELD SPIN 0 SU2 3 U1 4 ID8 CONTRACTIONS LORENTZ ID6 ID0 SU2 ID7 ID8 + DERIVATIVE U1 ID7 FIELD SPIN 0 U1 - 9 / 8 DAGGER ID0 DERIVATIVE U1 ID1 FIELD SPIN 0 U1 9 / 8 ID6 CONTRACTIONS LORENTZ ID7 ID1 + DERIVATIVE SU2 U1 ID7 FIELD SPIN 0 SU2 3 U1 - 5 DAGGER ID0 DERIVATIVE SU2 U1 ID6 FIELD SPIN 0 SU2 3 U1 5 ID8 CONTRACTIONS LORENTZ ID7 ID6 SU2 ID0 ID8 + DERIVATIVE SU3 U1 ID4 FIELD SPIN 0 SU3 - 3 U1 - 4 / 9 DAGGER ID6 DERIVATIVE SU3 U1 ID0 FIELD SPIN 0 SU3 3 U1 4 / 9 ID7 CONTRACTIONS LORENTZ ID4 ID0 SU3 ID6 ID7 + i FIELD SPIN 1 / 2 SU3 - 3 U1 2 / 9 HEL 1 / 2 ID0 SIGMA_BAR ID4 DERIVATIVE SU3 U1 ID9 FIELD SPIN 1 / 2 SU3 3 U1 - 2 / 9 HEL - 1 / 2 DAGGER ID8 CONTRACTIONS LORENTZ ID4 ID9 LORENTZ ID4 ID0 ID8 SU3 ID0 ID8 - COMMUTATOR_A DERIVATIVE SU2 ID4 COMMUTATOR_B DERIVATIVE SU2 ID8 COMMUTATOR_A DERIVATIVE SU2 ID6 COMMUTATOR_B DERIVATIVE SU2 ID5 CONTRACTIONS LORENTZ ID4 ID6 LORENTZ ID8 ID5 - COMMUTATOR_A DERIVATIVE U1 ID4 COMMUTATOR_B DERIVATIVE U1 ID8 COMMUTATOR_A DERIVATIVE U1 ID2 COMMUTATOR_B DERIVATIVE U1 ID6 CONTRACTIONS LORENTZ ID4 ID2 LORENTZ ID8 ID6 - COMMUTATOR_A DERIVATIVE SU3 ID4 COMMUTATOR_B DERIVATIVE SU3 ID8 COMMUTATOR_A DERIVATIVE SU3 ID2 COMMUTATOR_B DERIVATIVE SU3 ID6 CONTRACTIONS LORENTZ ID4 ID2 LORENTZ ID8 ID6 + FIELD SPIN 0 SU2 3 U1 - 4 DAGGER ID7 FIELD SPIN 0 SU2 3 U1 4 ID6 CONTRACTIONS SU2 ID7 ID6 + FIELD SPIN 0 U1 - 9 / 8 DAGGER ID7 FIELD SPIN 0 U1 9 / 8 ID6 CONTRACTIONS + FIELD SPIN 0 SU2 3 U1 - 5 DAGGER ID7 FIELD SPIN 0 SU2 3 U1 5 ID6 CONTRACTIONS SU2 ID7 ID6 + FIELD SPIN 0 SU3 - 3 U1 - 4 / 9 DAGGER ID4 FIELD SPIN 0 SU3 3 U1 4 / 9 ID2 CONTRACTIONS SU3 ID4 ID2\n"
     ]
    }
   ],
   "source": [
    "print(true_lagrangian)\n",
    "print(predicted_lagrangian)\n"
   ]
  },
  {
   "cell_type": "code",
   "execution_count": 166,
   "id": "17046a89",
   "metadata": {},
   "outputs": [],
   "source": [
    "truth_ids = hf_tokenizer.encode(true_lagrangian)"
   ]
  },
  {
   "cell_type": "code",
   "execution_count": null,
   "id": "d479777f",
   "metadata": {},
   "outputs": [],
   "source": [
    "\n",
    "def get_lagrangian_score_ys(predicted, expected,verbose=False,force=False):\n",
    "    if not force: \n",
    "        raise KeyError(\"Dont use this (we modified the score to have length penalty thtat takes in only extra tersm). Use get_lagrangian_score. If really want to use it, switch force=True\")\n",
    "\n",
    "    # 1. Separate terms\n",
    "    # 2. Check for repeating terms, if repeat mod ID accordingly\n",
    "    # 3. Get all possible combinations of terms based on number of tokens\n",
    "    # 4. From those combinations get cases with same objects\n",
    "    # 5. Check contractions if make sense\n",
    "    # 6. Check all cases if there are true terms that was paired with more than 1 pred_term\n",
    "    # 7.    If yes, check pred term is used elsewhere or not with guranteed one term match\n",
    "    #          If yes, check pred term is used elsewhere or not with guranteed one term match\n",
    "    #                If yes, delete in many term case\n",
    "    #                If not, raise Error and modify code is needed\n",
    "    #          If not,  take one of the prediction\n",
    "    # 8 Calculate Score \n",
    "\n",
    "    assert sanity_check_for_sep_functions(expected) == True\n",
    "    \n",
    "    try                     : sanity_check_for_sep_functions(predicted)\n",
    "    except Exception as e   : print(str(e))\n",
    "    \n",
    "    # 1. \n",
    "    # Seperate lagrangians to terms\n",
    "    sep_term_true       , complete_true      = sep_terms(expected,completeness_check=True)\n",
    "    sep_term_predicted  , complete_predicted = sep_terms(predicted,completeness_check=True)\n",
    "    sep_term_true_joined                     = [\" \".join(i) for i in sep_term_true  ]\n",
    "    sep_term_predicted_joined                = [\" \".join(i) for i in sep_term_predicted  ]\n",
    "\n",
    "    # check for repeating terms\n",
    "    assert len(sep_term_true_joined) == len(np.unique(sep_term_true_joined))\n",
    "\n",
    "    # 2.\n",
    "    # check for repeating terms in prediction, if so, change to new set of id just in case its a coincidence\n",
    "    if len(sep_term_predicted_joined) != len(np.unique(sep_term_predicted_joined)):\n",
    "        uniq_sep = []\n",
    "        for term,nterm in dict(Counter(sep_term_predicted_joined)).items():\n",
    "            if nterm != 1:\n",
    "                for ind in range(nterm): \n",
    "                    new_term = replace_ids(term)\n",
    "                    if len(np.unique([tok for tok in new_term.split() if tok in all_id])) !=0:\n",
    "                        while (new_term in uniq_sep): new_term = replace_ids(term)\n",
    "                    uniq_sep.append(new_term)\n",
    "            else : \n",
    "                uniq_sep.append(term)\n",
    "        sep_term_predicted_joined = uniq_sep\n",
    "        sep_term_predicted        = [t.split() for t in  uniq_sep]\n",
    "    \n",
    "    # if there are terms that dont have ids and they repeat, then its fine. Otherwise check\n",
    "    if all([check_ids(instr) for instr in sep_term_predicted_joined]):\n",
    "        assert len(sep_term_predicted_joined) == len(np.unique(sep_term_predicted_joined))\n",
    "\n",
    "    # 3.\n",
    "    # Get all combination of term_true,term_pred -> only with same length tokens-wise\n",
    "    all_comb_len = [(len(t_i),t_i,t_j) for t_i,t_j in itertools.product(sep_term_true,sep_term_predicted) if len(t_i) == len(t_j)]\n",
    "\n",
    "    # group them by length using dict\n",
    "    grouped = defaultdict(list) \n",
    "    for lterm,true_term,pred_term in all_comb_len: grouped[lterm].append([true_term,pred_term])     # dict[length of term] = [[term_true_1,term_pred_1],[term_true_1,term_pred_2],...]\n",
    "\n",
    "    correct_pairing_dict  = {}\n",
    "    for i in sep_term_true: correct_pairing_dict[\" \".join(i)] = []\n",
    "    \n",
    "    correct_obj_dict  = {}\n",
    "    for i in sep_term_true: correct_obj_dict[\" \".join(i)] = []\n",
    "    \n",
    "    # go through term pairing by length \n",
    "    for len_term,list_of_term_pair in dict(grouped).items():\n",
    "        \n",
    "        tru_term       = [x[0] for x in list_of_term_pair]\n",
    "        pred_term      = [x[1] for x in list_of_term_pair]\n",
    "\n",
    "        tru_len        = len(tru_term)\n",
    "        pred_len       = len(pred_term)\n",
    "\n",
    "        unique_tru      = np.unique([\" \".join(t) for t in tru_term])\n",
    "        unique_tru_len  = len(unique_tru)\n",
    "        unique_pred     = np.unique([\" \".join(t) for t in pred_term])\n",
    "        unique_pred_len = len(unique_pred)\n",
    "\n",
    "        assert unique_tru_len*unique_pred_len == tru_len, f\"Noticed repeating terms in Lagrangians\"\n",
    "\n",
    "        # Do checks \n",
    "        for iterm_tru, iterm_pred in list_of_term_pair:\n",
    "\n",
    "            obj_true , complete_true , good_contract_true = sep_objects(\" \".join(iterm_tru),checks=True)\n",
    "            obj_pred , complete_pred , good_contract_pred = sep_objects(\" \".join(iterm_pred),checks=True)\n",
    "\n",
    "            same_objects_bool_ec = same_objects_Q(\" \".join(iterm_tru)    ,\" \".join(iterm_pred))\n",
    "            same_objects_bool_ys = check_same_objects(\" \".join(iterm_tru),\" \".join(iterm_pred))\n",
    "            assert same_objects_bool_ec == same_objects_bool_ys\n",
    "\n",
    "            # filter by same object\n",
    "            if same_objects_bool_ys:        \n",
    "                assert all([len(obj_true) == len(obj_pred) for iobj_true,iobj_pred in zip(obj_true,obj_pred)])\n",
    "                assert len(obj_true) == len(obj_pred)\n",
    "\n",
    "                # Correct obj dict\n",
    "                correct_obj_dict[\" \".join(iterm_tru)].append(\" \".join(iterm_pred))\n",
    "                \n",
    "                if good_contract_true:\n",
    "                    # do contraction checks here\n",
    "                    if check_same_contractions(\" \".join(iterm_tru)    ,\" \".join(iterm_pred)):\n",
    "                        correct_pairing_dict[\" \".join(iterm_tru)].append(\" \".join(iterm_pred))\n",
    "\n",
    "\n",
    "        # Each True Term should be paired with exactly 1 Predicted Term, \n",
    "        # Do positional based now if there is ambiguity.\n",
    "        for iterm_tru in unique_tru:\n",
    "            \n",
    "            # If more than one term, do position checks\n",
    "            if len(correct_pairing_dict[iterm_tru]) > 1: \n",
    "\n",
    "                true_pos = []\n",
    "                # for each paired term, redo contractions check but now with positional based checks\n",
    "                for paired_term in correct_pairing_dict[iterm_tru]:\n",
    "                    if (check_same_contractions(str(iterm_tru), str(paired_term),True)): true_pos.append(paired_term)\n",
    "                correct_pairing_dict[iterm_tru] = true_pos\n",
    "        \n",
    "        # Check for cases with overlapping elements of the matrix, otherwise take one of them\n",
    "        for iterm_tru in unique_tru:\n",
    "            \n",
    "            # If more than one term, remove cases where its found to exist in other true pairing with only one paired\n",
    "            if len(correct_pairing_dict[iterm_tru]) > 1: \n",
    "                for iterm_tru_others in unique_tru:\n",
    "                    if (len(correct_pairing_dict[iterm_tru_others]) == 1 \n",
    "                        and check_same_objects(\" \".join(iterm_tru),\" \".join(iterm_tru_others))\n",
    "                        and iterm_tru_others in correct_pairing_dict[iterm_tru]):\n",
    "                        correct_pairing_dict[iterm_tru].remove(iterm_tru_others)\n",
    "                \n",
    "                nmore_cases = len([iterm_trux for iterm_trux in unique_tru  if (len(correct_pairing_dict[iterm_trux]) > 1 \n",
    "                                                                                and check_same_objects(\" \".join(iterm_tru),\" \".join(iterm_trux)))])\n",
    "                if len(correct_pairing_dict[iterm_tru]) > 1 and nmore_cases ==1:\n",
    "                    correct_pairing_dict[iterm_tru] = [correct_pairing_dict[iterm_tru][-1]]\n",
    "\n",
    "                else:\n",
    "                    print(\"!!!!!!!!!!!!!!!!!!!!!!\")\n",
    "                    print(\"FOUND CASES WITH AMBIGUITY!\")\n",
    "                    print(\"correct_pairing_dict[iterm_tru] :\",correct_pairing_dict[iterm_tru])\n",
    "                    print(\"nmore_cases                     :\",nmore_cases                    )\n",
    "                    for i in correct_pairing_dict[iterm_tru]:\n",
    "                        print(i)\n",
    "                    raise KeyError\n",
    "                # if len(true_pos) > 1:\n",
    "                #     #print(\"Repeating Term:\",correct_pairing_dict[iterm_tru])\n",
    "                #     correct_pairing_dict[iterm_tru] = [true_pos[-1]]\n",
    "                #     assert len(correct_pairing_dict[iterm_tru]) == 1, f\"FOUND MORE TERM AFTER POS CHECKS: {len(correct_pairing_dict[iterm_tru])}\"\n",
    "\n",
    "\n",
    "        \n",
    "\n",
    "    n_term_true        = len(sep_term_true)\n",
    "    n_term_predicted   = len(sep_term_predicted)\n",
    "\n",
    "    ncorrect           = len([i for i,j in correct_pairing_dict.items() if len(j) == 1])\n",
    "    ncorrect_obj       = len([i for i,j in correct_obj_dict.items()     if len(j) >= 1])\n",
    "\n",
    "\n",
    "    if verbose:\n",
    "        if ncorrect     != n_term_true:        \n",
    "            print(\"Truth Terms with missing in Prediction (all considered):\")\n",
    "            for i,j in correct_pairing_dict.items():\n",
    "                if len(j) != 1:\n",
    "                    print(i,j)\n",
    "            \n",
    "        if ncorrect_obj != n_term_true:        \n",
    "            print(\"Truth Terms with missing in Prediction (by fields):\")\n",
    "            for i,j in correct_obj_dict.items():\n",
    "                if len(j) == 0:\n",
    "                    print(i,j)    \n",
    "        \n",
    "        if n_term_predicted != n_term_true:\n",
    "            print(\"Mismatch on the number of terms:\")\n",
    "            print(\"n_term_predicted : \", n_term_predicted)\n",
    "            print(\"n_term_true      : \", n_term_true)\n",
    "            if n_term_predicted > n_term_true:\n",
    "                used_terms = np.concatenate([j for _,j in correct_pairing_dict.items()])\n",
    "                unpaired_terms = [\" \".join(pterm) for pterm in sep_term_predicted if \" \".join(pterm) not in used_terms ]\n",
    "                print(\"Unpaired Terms:\")\n",
    "                for upterm in unpaired_terms:\n",
    "                    print(upterm)\n",
    "\n",
    "\n",
    "    ndiff              = abs(n_term_predicted-n_term_true)\n",
    "    length_penal       = ndiff         / n_term_true\n",
    "    obj_score          = ncorrect_obj  / n_term_true\n",
    "    correct_score      = ncorrect      / n_term_true\n",
    "    lagrangian_score   = correct_score - length_penal\n",
    "\n",
    "    assert len([i for i,j in correct_pairing_dict.items() if len(j) > 1]) == 0 , \"Should not be more than one match per \"  \n",
    "    assert ncorrect <= ncorrect_obj                                            , \"Should not be more than one match per \"    \n",
    "\n",
    "    return  lagrangian_score, obj_score, correct_score, length_penal\n"
   ]
  },
  {
   "cell_type": "code",
   "execution_count": null,
   "id": "5d336e2c",
   "metadata": {},
   "outputs": [],
   "source": [
    "\n",
    "inputs_field = tokenizer([field,field2,field3,field4], return_tensors='pt', truncation=True,padding=True)\n",
    "inputs_field2 = tokenizer([field5,field6,field7,field8], return_tensors='pt', truncation=True,padding=True)\n",
    "field_pair_dataset    = TensorDataset(inputs_field[\"input_ids\"],inputs_field2[\"input_ids\"])\n",
    "field_pair_dataloader = DataLoader(field_pair_dataset, shuffle=False)\n",
    "for ifield,ifield2 in (field_pair_dataloader):\n",
    "    print(ifield)\n",
    "    print(ifield2)"
   ]
  },
  {
   "cell_type": "markdown",
   "id": "bdcf97e2",
   "metadata": {},
   "source": [
    "## Embedding analysis : What has it really learn?"
   ]
  },
  {
   "cell_type": "markdown",
   "id": "72478e40",
   "metadata": {},
   "source": [
    "Considerations : \n",
    "- Is efficiency the only think you need? \n",
    "- Or is it important for you to know whether the model knows what it is learning? \n",
    "\n",
    "Practical Questions : \n",
    "- Can it associate inputs to some embedding space? <br> \n",
    "- Can it understand relations between inputs?  <br> "
   ]
  },
  {
   "cell_type": "code",
   "execution_count": null,
   "id": "3ff1124f",
   "metadata": {},
   "outputs": [],
   "source": []
  },
  {
   "cell_type": "markdown",
   "id": "77787d14",
   "metadata": {},
   "source": [
    "## OOD Generalization : Can it go beyond what its trained? "
   ]
  },
  {
   "cell_type": "markdown",
   "id": "f5c5fcd2",
   "metadata": {},
   "source": [
    "Considerations : \n",
    "- Is your problem's \"data space\" very big? \n",
    "- Is the probably of an unseen case high? \n",
    "- If yes, then chances of OOD data cases are high. \n",
    "- Do you want to think about the next archietcture?\n",
    "\n",
    "Practical Questions : \n",
    "- Can it work with never seen scenarios? What is your OOD?"
   ]
  },
  {
   "cell_type": "code",
   "execution_count": null,
   "id": "ab69658f",
   "metadata": {},
   "outputs": [],
   "source": []
  },
  {
   "cell_type": "code",
   "execution_count": null,
   "id": "a873438d",
   "metadata": {},
   "outputs": [],
   "source": []
  }
 ],
 "metadata": {
  "kernelspec": {
   "display_name": "Python 3",
   "language": "python",
   "name": "python3"
  },
  "language_info": {
   "codemirror_mode": {
    "name": "ipython",
    "version": 3
   },
   "file_extension": ".py",
   "mimetype": "text/x-python",
   "name": "python",
   "nbconvert_exporter": "python",
   "pygments_lexer": "ipython3",
   "version": "3.8.10"
  }
 },
 "nbformat": 4,
 "nbformat_minor": 5
}
